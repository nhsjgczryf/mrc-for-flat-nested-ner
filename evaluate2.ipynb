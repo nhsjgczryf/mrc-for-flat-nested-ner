{
 "cells": [
  {
   "cell_type": "code",
   "execution_count": 1,
   "metadata": {},
   "outputs": [],
   "source": [
    "import os\n",
    "os.chdir('/home/wangnan/mrc4ner')\n",
    "from evaluate import evaluation\n",
    "from model import MyModel\n",
    "from mydataset import load_data,collate_fn,MyDataset\n",
    "import pickle \n",
    "from transformers import BertTokenizer\n",
    "import torch\n",
    "import time\n",
    "from tqdm import tqdm\n",
    "from torch.utils.data import DataLoader\n",
    "from multiprocessing import Process\n",
    "\n",
    "os.environ['CUDA_VISIBLE_DEVICES']='3'"
   ]
  },
  {
   "cell_type": "code",
   "execution_count": 2,
   "metadata": {},
   "outputs": [],
   "source": [
    "pretrained_model1 = '/home/wangnan/mrc4ner/pretrained_models/chinese_roberta_wwm_large_ext_pytorch'\n",
    "pretrained_model2 = '/home/wangnan/mrc4ner/pretrained_models/RoBERTa_zh_Large_PyTorch'\n",
    "\n",
    "dev_path = '/home/wangnan/mrc4ner/datasets/OntoNotes4.0/mrc-ner.dev'\n",
    "test_path = '/home/wangnan/mrc4ner/datasets/OntoNotes4.0/mrc-ner.test'"
   ]
  },
  {
   "cell_type": "code",
   "execution_count": 3,
   "metadata": {},
   "outputs": [],
   "source": [
    "with open(\"/home/wangnan/mrc4ner/datasets/OntoNotes4.0/eval_dataset\",'rb') as f:\n",
    "    data = pickle.load(f)\n",
    "    pre1_dev_dataset=data['pre1_dev_dataset']\n",
    "    pre1_test_dataset=data['pre1_test_dataset']\n",
    "    pre2_dev_dataset=data['pre2_dev_dataset']\n",
    "    pre2_test_dataset=data['pre2_test_dataset']"
   ]
  },
  {
   "cell_type": "code",
   "execution_count": 4,
   "metadata": {},
   "outputs": [],
   "source": [
    "def test(model_dir,file,batch_size,args):\n",
    "    path = model_dir+file\n",
    "    cpt = torch.load(path)\n",
    "    mymodel = MyModel(args)\n",
    "    mymodel.load_state_dict(cpt[\"state_dict\"])\n",
    "    test_dataset = pre1_test_dataset if args.pretrained_model_name_or_path==pretrained_model1 else pre2_test_dataset\n",
    "    test_dataloader = DataLoader(test_dataset, batch_size=batch_size, collate_fn=collate_fn,\n",
    "                              pin_memory=False,shuffle=False)\n",
    "    print(path,'\\n',args)\n",
    "    time.sleep(0.1)\n",
    "    p,r,f = evaluation(mymodel,test_dataloader,train_eval=False,desc=file)\n",
    "    print(\"model {} test dataset:\\nprecision:{:.4f} recall:{:.4f} f1:{:.4f}\".format(file,p,r,f))\n",
    "    return file,p,r,f"
   ]
  },
  {
   "cell_type": "code",
   "execution_count": 5,
   "metadata": {},
   "outputs": [
    {
     "name": "stdout",
     "output_type": "stream",
     "text": [
      "/home/wangnan/mrc4ner/checkpoints/2020_09_08_06_41_41/checkpoint_0.cpt \n",
      " Namespace(allow_impossible=True, alpha=1, beta=1, cls=True, cpu=False, debug=False, dev_batch=10, dev_path='./datasets/OntoNotes4.0/mrc-ner.dev', dropout_prob=0.1, epochs=10, eval=False, gamma=1, local_rank=2, log_steps=20, lr=1e-05, max_grad_norm=0.5, max_tokens=450, not_store=False, pretrained_model_name_or_path='./pretrained_models/chinese_roberta_wwm_large_ext_pytorch', reduction='mean', seed=209, span_layer=True, theta=1, train_batch=4, train_path='./datasets/OntoNotes4.0/mrc-ner.train', train_span_method='gold', warmup_ratio=0.1, weight_decay=0.01)\n"
     ]
    },
    {
     "name": "stderr",
     "output_type": "stream",
     "text": [
      "checkpoint_0.cpt: 100%|██████████| 2484/2484 [04:10<00:00,  9.93it/s]\n"
     ]
    },
    {
     "name": "stdout",
     "output_type": "stream",
     "text": [
      "model checkpoint_0.cpt test dataset:\n",
      "precision:0.6520 recall:0.8026 f1:0.7195\n",
      "/home/wangnan/mrc4ner/checkpoints/2020_09_08_06_41_41/checkpoint_1.cpt \n",
      " Namespace(allow_impossible=True, alpha=1, beta=1, cls=True, cpu=False, debug=False, dev_batch=10, dev_path='./datasets/OntoNotes4.0/mrc-ner.dev', dropout_prob=0.1, epochs=10, eval=False, gamma=1, local_rank=2, log_steps=20, lr=1e-05, max_grad_norm=0.5, max_tokens=450, not_store=False, pretrained_model_name_or_path='./pretrained_models/chinese_roberta_wwm_large_ext_pytorch', reduction='mean', seed=209, span_layer=True, theta=1, train_batch=4, train_path='./datasets/OntoNotes4.0/mrc-ner.train', train_span_method='gold', warmup_ratio=0.1, weight_decay=0.01)\n"
     ]
    },
    {
     "name": "stderr",
     "output_type": "stream",
     "text": [
      "checkpoint_1.cpt: 100%|██████████| 2484/2484 [04:14<00:00,  9.75it/s]\n"
     ]
    },
    {
     "name": "stdout",
     "output_type": "stream",
     "text": [
      "model checkpoint_1.cpt test dataset:\n",
      "precision:0.7958 recall:0.8091 f1:0.8024\n",
      "/home/wangnan/mrc4ner/checkpoints/2020_09_08_06_41_41/checkpoint_2.cpt \n",
      " Namespace(allow_impossible=True, alpha=1, beta=1, cls=True, cpu=False, debug=False, dev_batch=10, dev_path='./datasets/OntoNotes4.0/mrc-ner.dev', dropout_prob=0.1, epochs=10, eval=False, gamma=1, local_rank=2, log_steps=20, lr=1e-05, max_grad_norm=0.5, max_tokens=450, not_store=False, pretrained_model_name_or_path='./pretrained_models/chinese_roberta_wwm_large_ext_pytorch', reduction='mean', seed=209, span_layer=True, theta=1, train_batch=4, train_path='./datasets/OntoNotes4.0/mrc-ner.train', train_span_method='gold', warmup_ratio=0.1, weight_decay=0.01)\n"
     ]
    },
    {
     "name": "stderr",
     "output_type": "stream",
     "text": [
      "checkpoint_2.cpt: 100%|██████████| 2484/2484 [04:16<00:00,  9.68it/s]\n"
     ]
    },
    {
     "name": "stdout",
     "output_type": "stream",
     "text": [
      "model checkpoint_2.cpt test dataset:\n",
      "precision:0.7432 recall:0.8403 f1:0.7888\n",
      "/home/wangnan/mrc4ner/checkpoints/2020_09_08_06_41_41/checkpoint_3.cpt \n",
      " Namespace(allow_impossible=True, alpha=1, beta=1, cls=True, cpu=False, debug=False, dev_batch=10, dev_path='./datasets/OntoNotes4.0/mrc-ner.dev', dropout_prob=0.1, epochs=10, eval=False, gamma=1, local_rank=2, log_steps=20, lr=1e-05, max_grad_norm=0.5, max_tokens=450, not_store=False, pretrained_model_name_or_path='./pretrained_models/chinese_roberta_wwm_large_ext_pytorch', reduction='mean', seed=209, span_layer=True, theta=1, train_batch=4, train_path='./datasets/OntoNotes4.0/mrc-ner.train', train_span_method='gold', warmup_ratio=0.1, weight_decay=0.01)\n"
     ]
    },
    {
     "name": "stderr",
     "output_type": "stream",
     "text": [
      "checkpoint_3.cpt: 100%|██████████| 2484/2484 [04:16<00:00,  9.69it/s]\n"
     ]
    },
    {
     "name": "stdout",
     "output_type": "stream",
     "text": [
      "model checkpoint_3.cpt test dataset:\n",
      "precision:0.8045 recall:0.8157 f1:0.8101\n",
      "/home/wangnan/mrc4ner/checkpoints/2020_09_08_06_41_41/checkpoint_4.cpt \n",
      " Namespace(allow_impossible=True, alpha=1, beta=1, cls=True, cpu=False, debug=False, dev_batch=10, dev_path='./datasets/OntoNotes4.0/mrc-ner.dev', dropout_prob=0.1, epochs=10, eval=False, gamma=1, local_rank=2, log_steps=20, lr=1e-05, max_grad_norm=0.5, max_tokens=450, not_store=False, pretrained_model_name_or_path='./pretrained_models/chinese_roberta_wwm_large_ext_pytorch', reduction='mean', seed=209, span_layer=True, theta=1, train_batch=4, train_path='./datasets/OntoNotes4.0/mrc-ner.train', train_span_method='gold', warmup_ratio=0.1, weight_decay=0.01)\n"
     ]
    },
    {
     "name": "stderr",
     "output_type": "stream",
     "text": [
      "checkpoint_4.cpt: 100%|██████████| 2484/2484 [04:15<00:00,  9.73it/s]\n"
     ]
    },
    {
     "name": "stdout",
     "output_type": "stream",
     "text": [
      "model checkpoint_4.cpt test dataset:\n",
      "precision:0.7780 recall:0.8301 f1:0.8032\n",
      "/home/wangnan/mrc4ner/checkpoints/2020_09_08_06_41_41/checkpoint_5.cpt \n",
      " Namespace(allow_impossible=True, alpha=1, beta=1, cls=True, cpu=False, debug=False, dev_batch=10, dev_path='./datasets/OntoNotes4.0/mrc-ner.dev', dropout_prob=0.1, epochs=10, eval=False, gamma=1, local_rank=2, log_steps=20, lr=1e-05, max_grad_norm=0.5, max_tokens=450, not_store=False, pretrained_model_name_or_path='./pretrained_models/chinese_roberta_wwm_large_ext_pytorch', reduction='mean', seed=209, span_layer=True, theta=1, train_batch=4, train_path='./datasets/OntoNotes4.0/mrc-ner.train', train_span_method='gold', warmup_ratio=0.1, weight_decay=0.01)\n"
     ]
    },
    {
     "name": "stderr",
     "output_type": "stream",
     "text": [
      "checkpoint_5.cpt: 100%|██████████| 2484/2484 [04:16<00:00,  9.69it/s]\n"
     ]
    },
    {
     "name": "stdout",
     "output_type": "stream",
     "text": [
      "model checkpoint_5.cpt test dataset:\n",
      "precision:0.8321 recall:0.7732 f1:0.8015\n",
      "/home/wangnan/mrc4ner/checkpoints/2020_09_08_06_41_41/checkpoint_6.cpt \n",
      " Namespace(allow_impossible=True, alpha=1, beta=1, cls=True, cpu=False, debug=False, dev_batch=10, dev_path='./datasets/OntoNotes4.0/mrc-ner.dev', dropout_prob=0.1, epochs=10, eval=False, gamma=1, local_rank=2, log_steps=20, lr=1e-05, max_grad_norm=0.5, max_tokens=450, not_store=False, pretrained_model_name_or_path='./pretrained_models/chinese_roberta_wwm_large_ext_pytorch', reduction='mean', seed=209, span_layer=True, theta=1, train_batch=4, train_path='./datasets/OntoNotes4.0/mrc-ner.train', train_span_method='gold', warmup_ratio=0.1, weight_decay=0.01)\n"
     ]
    },
    {
     "name": "stderr",
     "output_type": "stream",
     "text": [
      "checkpoint_6.cpt: 100%|██████████| 2484/2484 [04:15<00:00,  9.73it/s]\n"
     ]
    },
    {
     "name": "stdout",
     "output_type": "stream",
     "text": [
      "model checkpoint_6.cpt test dataset:\n",
      "precision:0.8160 recall:0.7969 f1:0.8064\n",
      "/home/wangnan/mrc4ner/checkpoints/2020_09_08_06_41_41/checkpoint_7.cpt \n",
      " Namespace(allow_impossible=True, alpha=1, beta=1, cls=True, cpu=False, debug=False, dev_batch=10, dev_path='./datasets/OntoNotes4.0/mrc-ner.dev', dropout_prob=0.1, epochs=10, eval=False, gamma=1, local_rank=2, log_steps=20, lr=1e-05, max_grad_norm=0.5, max_tokens=450, not_store=False, pretrained_model_name_or_path='./pretrained_models/chinese_roberta_wwm_large_ext_pytorch', reduction='mean', seed=209, span_layer=True, theta=1, train_batch=4, train_path='./datasets/OntoNotes4.0/mrc-ner.train', train_span_method='gold', warmup_ratio=0.1, weight_decay=0.01)\n"
     ]
    },
    {
     "name": "stderr",
     "output_type": "stream",
     "text": [
      "checkpoint_7.cpt: 100%|██████████| 2484/2484 [04:16<00:00,  9.68it/s]\n"
     ]
    },
    {
     "name": "stdout",
     "output_type": "stream",
     "text": [
      "model checkpoint_7.cpt test dataset:\n",
      "precision:0.8218 recall:0.8014 f1:0.8114\n",
      "/home/wangnan/mrc4ner/checkpoints/2020_09_08_06_41_41/checkpoint_8.cpt \n",
      " Namespace(allow_impossible=True, alpha=1, beta=1, cls=True, cpu=False, debug=False, dev_batch=10, dev_path='./datasets/OntoNotes4.0/mrc-ner.dev', dropout_prob=0.1, epochs=10, eval=False, gamma=1, local_rank=2, log_steps=20, lr=1e-05, max_grad_norm=0.5, max_tokens=450, not_store=False, pretrained_model_name_or_path='./pretrained_models/chinese_roberta_wwm_large_ext_pytorch', reduction='mean', seed=209, span_layer=True, theta=1, train_batch=4, train_path='./datasets/OntoNotes4.0/mrc-ner.train', train_span_method='gold', warmup_ratio=0.1, weight_decay=0.01)\n"
     ]
    },
    {
     "name": "stderr",
     "output_type": "stream",
     "text": [
      "checkpoint_8.cpt: 100%|██████████| 2484/2484 [04:16<00:00,  9.67it/s]\n"
     ]
    },
    {
     "name": "stdout",
     "output_type": "stream",
     "text": [
      "model checkpoint_8.cpt test dataset:\n",
      "precision:0.8170 recall:0.8014 f1:0.8091\n"
     ]
    },
    {
     "ename": "FileNotFoundError",
     "evalue": "[Errno 2] No such file or directory: '/home/wangnan/mrc4ner/checkpoints/2020_09_08_06_41_41/checkpoint_9.cpt'",
     "output_type": "error",
     "traceback": [
      "\u001b[0;31m---------------------------------------------------------------------------\u001b[0m",
      "\u001b[0;31mFileNotFoundError\u001b[0m                         Traceback (most recent call last)",
      "\u001b[0;32m<ipython-input-5-d07c359bb38c>\u001b[0m in \u001b[0;36m<module>\u001b[0;34m\u001b[0m\n\u001b[1;32m      7\u001b[0m \u001b[0mscores\u001b[0m \u001b[0;34m=\u001b[0m \u001b[0;34m[\u001b[0m\u001b[0;34m]\u001b[0m\u001b[0;34m\u001b[0m\u001b[0;34m\u001b[0m\u001b[0m\n\u001b[1;32m      8\u001b[0m \u001b[0;32mfor\u001b[0m \u001b[0mfile\u001b[0m \u001b[0;32min\u001b[0m \u001b[0mfiles\u001b[0m\u001b[0;34m:\u001b[0m\u001b[0;34m\u001b[0m\u001b[0;34m\u001b[0m\u001b[0m\n\u001b[0;32m----> 9\u001b[0;31m     \u001b[0ms\u001b[0m \u001b[0;34m=\u001b[0m \u001b[0mtest\u001b[0m\u001b[0;34m(\u001b[0m\u001b[0mmodel_dir\u001b[0m\u001b[0;34m,\u001b[0m\u001b[0mfile\u001b[0m\u001b[0;34m,\u001b[0m\u001b[0;36m7\u001b[0m\u001b[0;34m,\u001b[0m\u001b[0margs\u001b[0m\u001b[0;34m)\u001b[0m\u001b[0;34m\u001b[0m\u001b[0;34m\u001b[0m\u001b[0m\n\u001b[0m\u001b[1;32m     10\u001b[0m     \u001b[0mscores\u001b[0m\u001b[0;34m.\u001b[0m\u001b[0mappend\u001b[0m\u001b[0;34m(\u001b[0m\u001b[0ms\u001b[0m\u001b[0;34m)\u001b[0m\u001b[0;34m\u001b[0m\u001b[0;34m\u001b[0m\u001b[0m\n\u001b[1;32m     11\u001b[0m \u001b[0mprint\u001b[0m\u001b[0;34m(\u001b[0m\u001b[0mscores\u001b[0m\u001b[0;34m)\u001b[0m\u001b[0;34m\u001b[0m\u001b[0;34m\u001b[0m\u001b[0m\n",
      "\u001b[0;32m<ipython-input-4-bb35b9fc27b4>\u001b[0m in \u001b[0;36mtest\u001b[0;34m(model_dir, file, batch_size, args)\u001b[0m\n\u001b[1;32m      1\u001b[0m \u001b[0;32mdef\u001b[0m \u001b[0mtest\u001b[0m\u001b[0;34m(\u001b[0m\u001b[0mmodel_dir\u001b[0m\u001b[0;34m,\u001b[0m\u001b[0mfile\u001b[0m\u001b[0;34m,\u001b[0m\u001b[0mbatch_size\u001b[0m\u001b[0;34m,\u001b[0m\u001b[0margs\u001b[0m\u001b[0;34m)\u001b[0m\u001b[0;34m:\u001b[0m\u001b[0;34m\u001b[0m\u001b[0;34m\u001b[0m\u001b[0m\n\u001b[1;32m      2\u001b[0m     \u001b[0mpath\u001b[0m \u001b[0;34m=\u001b[0m \u001b[0mmodel_dir\u001b[0m\u001b[0;34m+\u001b[0m\u001b[0mfile\u001b[0m\u001b[0;34m\u001b[0m\u001b[0;34m\u001b[0m\u001b[0m\n\u001b[0;32m----> 3\u001b[0;31m     \u001b[0mcpt\u001b[0m \u001b[0;34m=\u001b[0m \u001b[0mtorch\u001b[0m\u001b[0;34m.\u001b[0m\u001b[0mload\u001b[0m\u001b[0;34m(\u001b[0m\u001b[0mpath\u001b[0m\u001b[0;34m)\u001b[0m\u001b[0;34m\u001b[0m\u001b[0;34m\u001b[0m\u001b[0m\n\u001b[0m\u001b[1;32m      4\u001b[0m     \u001b[0mmymodel\u001b[0m \u001b[0;34m=\u001b[0m \u001b[0mMyModel\u001b[0m\u001b[0;34m(\u001b[0m\u001b[0margs\u001b[0m\u001b[0;34m)\u001b[0m\u001b[0;34m\u001b[0m\u001b[0;34m\u001b[0m\u001b[0m\n\u001b[1;32m      5\u001b[0m     \u001b[0mmymodel\u001b[0m\u001b[0;34m.\u001b[0m\u001b[0mload_state_dict\u001b[0m\u001b[0;34m(\u001b[0m\u001b[0mcpt\u001b[0m\u001b[0;34m[\u001b[0m\u001b[0;34m\"state_dict\"\u001b[0m\u001b[0;34m]\u001b[0m\u001b[0;34m)\u001b[0m\u001b[0;34m\u001b[0m\u001b[0;34m\u001b[0m\u001b[0m\n",
      "\u001b[0;32m~/.conda/envs/mypython/lib/python3.8/site-packages/torch/serialization.py\u001b[0m in \u001b[0;36mload\u001b[0;34m(f, map_location, pickle_module, **pickle_load_args)\u001b[0m\n\u001b[1;32m    523\u001b[0m         \u001b[0mpickle_load_args\u001b[0m\u001b[0;34m[\u001b[0m\u001b[0;34m'encoding'\u001b[0m\u001b[0;34m]\u001b[0m \u001b[0;34m=\u001b[0m \u001b[0;34m'utf-8'\u001b[0m\u001b[0;34m\u001b[0m\u001b[0;34m\u001b[0m\u001b[0m\n\u001b[1;32m    524\u001b[0m \u001b[0;34m\u001b[0m\u001b[0m\n\u001b[0;32m--> 525\u001b[0;31m     \u001b[0;32mwith\u001b[0m \u001b[0m_open_file_like\u001b[0m\u001b[0;34m(\u001b[0m\u001b[0mf\u001b[0m\u001b[0;34m,\u001b[0m \u001b[0;34m'rb'\u001b[0m\u001b[0;34m)\u001b[0m \u001b[0;32mas\u001b[0m \u001b[0mopened_file\u001b[0m\u001b[0;34m:\u001b[0m\u001b[0;34m\u001b[0m\u001b[0;34m\u001b[0m\u001b[0m\n\u001b[0m\u001b[1;32m    526\u001b[0m         \u001b[0;32mif\u001b[0m \u001b[0m_is_zipfile\u001b[0m\u001b[0;34m(\u001b[0m\u001b[0mopened_file\u001b[0m\u001b[0;34m)\u001b[0m\u001b[0;34m:\u001b[0m\u001b[0;34m\u001b[0m\u001b[0;34m\u001b[0m\u001b[0m\n\u001b[1;32m    527\u001b[0m             \u001b[0;32mwith\u001b[0m \u001b[0m_open_zipfile_reader\u001b[0m\u001b[0;34m(\u001b[0m\u001b[0mf\u001b[0m\u001b[0;34m)\u001b[0m \u001b[0;32mas\u001b[0m \u001b[0mopened_zipfile\u001b[0m\u001b[0;34m:\u001b[0m\u001b[0;34m\u001b[0m\u001b[0;34m\u001b[0m\u001b[0m\n",
      "\u001b[0;32m~/.conda/envs/mypython/lib/python3.8/site-packages/torch/serialization.py\u001b[0m in \u001b[0;36m_open_file_like\u001b[0;34m(name_or_buffer, mode)\u001b[0m\n\u001b[1;32m    210\u001b[0m \u001b[0;32mdef\u001b[0m \u001b[0m_open_file_like\u001b[0m\u001b[0;34m(\u001b[0m\u001b[0mname_or_buffer\u001b[0m\u001b[0;34m,\u001b[0m \u001b[0mmode\u001b[0m\u001b[0;34m)\u001b[0m\u001b[0;34m:\u001b[0m\u001b[0;34m\u001b[0m\u001b[0;34m\u001b[0m\u001b[0m\n\u001b[1;32m    211\u001b[0m     \u001b[0;32mif\u001b[0m \u001b[0m_is_path\u001b[0m\u001b[0;34m(\u001b[0m\u001b[0mname_or_buffer\u001b[0m\u001b[0;34m)\u001b[0m\u001b[0;34m:\u001b[0m\u001b[0;34m\u001b[0m\u001b[0;34m\u001b[0m\u001b[0m\n\u001b[0;32m--> 212\u001b[0;31m         \u001b[0;32mreturn\u001b[0m \u001b[0m_open_file\u001b[0m\u001b[0;34m(\u001b[0m\u001b[0mname_or_buffer\u001b[0m\u001b[0;34m,\u001b[0m \u001b[0mmode\u001b[0m\u001b[0;34m)\u001b[0m\u001b[0;34m\u001b[0m\u001b[0;34m\u001b[0m\u001b[0m\n\u001b[0m\u001b[1;32m    213\u001b[0m     \u001b[0;32melse\u001b[0m\u001b[0;34m:\u001b[0m\u001b[0;34m\u001b[0m\u001b[0;34m\u001b[0m\u001b[0m\n\u001b[1;32m    214\u001b[0m         \u001b[0;32mif\u001b[0m \u001b[0;34m'w'\u001b[0m \u001b[0;32min\u001b[0m \u001b[0mmode\u001b[0m\u001b[0;34m:\u001b[0m\u001b[0;34m\u001b[0m\u001b[0;34m\u001b[0m\u001b[0m\n",
      "\u001b[0;32m~/.conda/envs/mypython/lib/python3.8/site-packages/torch/serialization.py\u001b[0m in \u001b[0;36m__init__\u001b[0;34m(self, name, mode)\u001b[0m\n\u001b[1;32m    191\u001b[0m \u001b[0;32mclass\u001b[0m \u001b[0m_open_file\u001b[0m\u001b[0;34m(\u001b[0m\u001b[0m_opener\u001b[0m\u001b[0;34m)\u001b[0m\u001b[0;34m:\u001b[0m\u001b[0;34m\u001b[0m\u001b[0;34m\u001b[0m\u001b[0m\n\u001b[1;32m    192\u001b[0m     \u001b[0;32mdef\u001b[0m \u001b[0m__init__\u001b[0m\u001b[0;34m(\u001b[0m\u001b[0mself\u001b[0m\u001b[0;34m,\u001b[0m \u001b[0mname\u001b[0m\u001b[0;34m,\u001b[0m \u001b[0mmode\u001b[0m\u001b[0;34m)\u001b[0m\u001b[0;34m:\u001b[0m\u001b[0;34m\u001b[0m\u001b[0;34m\u001b[0m\u001b[0m\n\u001b[0;32m--> 193\u001b[0;31m         \u001b[0msuper\u001b[0m\u001b[0;34m(\u001b[0m\u001b[0m_open_file\u001b[0m\u001b[0;34m,\u001b[0m \u001b[0mself\u001b[0m\u001b[0;34m)\u001b[0m\u001b[0;34m.\u001b[0m\u001b[0m__init__\u001b[0m\u001b[0;34m(\u001b[0m\u001b[0mopen\u001b[0m\u001b[0;34m(\u001b[0m\u001b[0mname\u001b[0m\u001b[0;34m,\u001b[0m \u001b[0mmode\u001b[0m\u001b[0;34m)\u001b[0m\u001b[0;34m)\u001b[0m\u001b[0;34m\u001b[0m\u001b[0;34m\u001b[0m\u001b[0m\n\u001b[0m\u001b[1;32m    194\u001b[0m \u001b[0;34m\u001b[0m\u001b[0m\n\u001b[1;32m    195\u001b[0m     \u001b[0;32mdef\u001b[0m \u001b[0m__exit__\u001b[0m\u001b[0;34m(\u001b[0m\u001b[0mself\u001b[0m\u001b[0;34m,\u001b[0m \u001b[0;34m*\u001b[0m\u001b[0margs\u001b[0m\u001b[0;34m)\u001b[0m\u001b[0;34m:\u001b[0m\u001b[0;34m\u001b[0m\u001b[0;34m\u001b[0m\u001b[0m\n",
      "\u001b[0;31mFileNotFoundError\u001b[0m: [Errno 2] No such file or directory: '/home/wangnan/mrc4ner/checkpoints/2020_09_08_06_41_41/checkpoint_9.cpt'"
     ]
    }
   ],
   "source": [
    "#这个是lr=1e-5，感觉效果好糟糕啊\n",
    "base_dir = '/home/wangnan/mrc4ner/checkpoints/'\n",
    "base_model_dir = '2020_09_08_06_41_41'\n",
    "model_dir = base_dir+base_model_dir+'/'\n",
    "args = pickle.load(open(model_dir+'args','rb'))\n",
    "files = ['checkpoint_%d.cpt'%i for i in range(10)]\n",
    "scores = []\n",
    "for file in files:\n",
    "    s = test(model_dir,file,7,args)\n",
    "    scores.append(s)\n",
    "print(scores)"
   ]
  },
  {
   "cell_type": "code",
   "execution_count": null,
   "metadata": {},
   "outputs": [],
   "source": []
  },
  {
   "cell_type": "code",
   "execution_count": null,
   "metadata": {},
   "outputs": [],
   "source": []
  },
  {
   "cell_type": "code",
   "execution_count": 5,
   "metadata": {},
   "outputs": [
    {
     "name": "stdout",
     "output_type": "stream",
     "text": [
      "/home/wangnan/mrc4ner/checkpoints/2020_09_06_18_41_36/checkpoint_0.cpt \n",
      " Namespace(allow_impossible=True, alpha=1, beta=1, cls=False, cpu=False, debug=False, dev_batch=10, dev_path='./datasets/OntoNotes4.0/mrc-ner.dev', dropout_prob=0.1, epochs=10, eval=False, gamma=1, local_rank=0, log_steps=20, lr=8e-06, max_grad_norm=0.75, max_tokens=512, not_store=False, pretrained_model_name_or_path='./pretrained_models/chinese_roberta_wwm_large_ext_pytorch', reduction='mean', seed=209, span_layer=True, theta=1, train_batch=4, train_path='./datasets/OntoNotes4.0/mrc-ner.train', train_span_method='gold', warmup_ratio=0.1, weight_decay=0.01)\n"
     ]
    },
    {
     "name": "stderr",
     "output_type": "stream",
     "text": [
      "checkpoint_0.cpt: 100%|██████████| 2484/2484 [04:19<00:00,  9.57it/s]\n"
     ]
    },
    {
     "name": "stdout",
     "output_type": "stream",
     "text": [
      "model checkpoint_0.cpt test dataset:\n",
      "precision:0.7130 recall:0.7562 f1:0.7340\n",
      "/home/wangnan/mrc4ner/checkpoints/2020_09_06_18_41_36/checkpoint_1.cpt \n",
      " Namespace(allow_impossible=True, alpha=1, beta=1, cls=False, cpu=False, debug=False, dev_batch=10, dev_path='./datasets/OntoNotes4.0/mrc-ner.dev', dropout_prob=0.1, epochs=10, eval=False, gamma=1, local_rank=0, log_steps=20, lr=8e-06, max_grad_norm=0.75, max_tokens=512, not_store=False, pretrained_model_name_or_path='./pretrained_models/chinese_roberta_wwm_large_ext_pytorch', reduction='mean', seed=209, span_layer=True, theta=1, train_batch=4, train_path='./datasets/OntoNotes4.0/mrc-ner.train', train_span_method='gold', warmup_ratio=0.1, weight_decay=0.01)\n"
     ]
    },
    {
     "name": "stderr",
     "output_type": "stream",
     "text": [
      "checkpoint_1.cpt: 100%|██████████| 2484/2484 [04:22<00:00,  9.45it/s]\n"
     ]
    },
    {
     "name": "stdout",
     "output_type": "stream",
     "text": [
      "model checkpoint_1.cpt test dataset:\n",
      "precision:0.8331 recall:0.7334 f1:0.7801\n",
      "/home/wangnan/mrc4ner/checkpoints/2020_09_06_18_41_36/checkpoint_2.cpt \n",
      " Namespace(allow_impossible=True, alpha=1, beta=1, cls=False, cpu=False, debug=False, dev_batch=10, dev_path='./datasets/OntoNotes4.0/mrc-ner.dev', dropout_prob=0.1, epochs=10, eval=False, gamma=1, local_rank=0, log_steps=20, lr=8e-06, max_grad_norm=0.75, max_tokens=512, not_store=False, pretrained_model_name_or_path='./pretrained_models/chinese_roberta_wwm_large_ext_pytorch', reduction='mean', seed=209, span_layer=True, theta=1, train_batch=4, train_path='./datasets/OntoNotes4.0/mrc-ner.train', train_span_method='gold', warmup_ratio=0.1, weight_decay=0.01)\n"
     ]
    },
    {
     "name": "stderr",
     "output_type": "stream",
     "text": [
      "checkpoint_2.cpt: 100%|██████████| 2484/2484 [04:22<00:00,  9.46it/s]\n"
     ]
    },
    {
     "name": "stdout",
     "output_type": "stream",
     "text": [
      "model checkpoint_2.cpt test dataset:\n",
      "precision:0.7946 recall:0.8137 f1:0.8040\n",
      "/home/wangnan/mrc4ner/checkpoints/2020_09_06_18_41_36/checkpoint_3.cpt \n",
      " Namespace(allow_impossible=True, alpha=1, beta=1, cls=False, cpu=False, debug=False, dev_batch=10, dev_path='./datasets/OntoNotes4.0/mrc-ner.dev', dropout_prob=0.1, epochs=10, eval=False, gamma=1, local_rank=0, log_steps=20, lr=8e-06, max_grad_norm=0.75, max_tokens=512, not_store=False, pretrained_model_name_or_path='./pretrained_models/chinese_roberta_wwm_large_ext_pytorch', reduction='mean', seed=209, span_layer=True, theta=1, train_batch=4, train_path='./datasets/OntoNotes4.0/mrc-ner.train', train_span_method='gold', warmup_ratio=0.1, weight_decay=0.01)\n"
     ]
    },
    {
     "name": "stderr",
     "output_type": "stream",
     "text": [
      "checkpoint_3.cpt: 100%|██████████| 2484/2484 [04:21<00:00,  9.49it/s]\n"
     ]
    },
    {
     "name": "stdout",
     "output_type": "stream",
     "text": [
      "model checkpoint_3.cpt test dataset:\n",
      "precision:0.7988 recall:0.8114 f1:0.8051\n",
      "/home/wangnan/mrc4ner/checkpoints/2020_09_06_18_41_36/checkpoint_4.cpt \n",
      " Namespace(allow_impossible=True, alpha=1, beta=1, cls=False, cpu=False, debug=False, dev_batch=10, dev_path='./datasets/OntoNotes4.0/mrc-ner.dev', dropout_prob=0.1, epochs=10, eval=False, gamma=1, local_rank=0, log_steps=20, lr=8e-06, max_grad_norm=0.75, max_tokens=512, not_store=False, pretrained_model_name_or_path='./pretrained_models/chinese_roberta_wwm_large_ext_pytorch', reduction='mean', seed=209, span_layer=True, theta=1, train_batch=4, train_path='./datasets/OntoNotes4.0/mrc-ner.train', train_span_method='gold', warmup_ratio=0.1, weight_decay=0.01)\n"
     ]
    },
    {
     "name": "stderr",
     "output_type": "stream",
     "text": [
      "checkpoint_4.cpt: 100%|██████████| 2484/2484 [04:18<00:00,  9.62it/s]\n"
     ]
    },
    {
     "name": "stdout",
     "output_type": "stream",
     "text": [
      "model checkpoint_4.cpt test dataset:\n",
      "precision:0.8311 recall:0.7811 f1:0.8053\n",
      "/home/wangnan/mrc4ner/checkpoints/2020_09_06_18_41_36/checkpoint_5.cpt \n",
      " Namespace(allow_impossible=True, alpha=1, beta=1, cls=False, cpu=False, debug=False, dev_batch=10, dev_path='./datasets/OntoNotes4.0/mrc-ner.dev', dropout_prob=0.1, epochs=10, eval=False, gamma=1, local_rank=0, log_steps=20, lr=8e-06, max_grad_norm=0.75, max_tokens=512, not_store=False, pretrained_model_name_or_path='./pretrained_models/chinese_roberta_wwm_large_ext_pytorch', reduction='mean', seed=209, span_layer=True, theta=1, train_batch=4, train_path='./datasets/OntoNotes4.0/mrc-ner.train', train_span_method='gold', warmup_ratio=0.1, weight_decay=0.01)\n"
     ]
    },
    {
     "name": "stderr",
     "output_type": "stream",
     "text": [
      "checkpoint_5.cpt: 100%|██████████| 2484/2484 [04:18<00:00,  9.61it/s]\n"
     ]
    },
    {
     "name": "stdout",
     "output_type": "stream",
     "text": [
      "model checkpoint_5.cpt test dataset:\n",
      "precision:0.8118 recall:0.8002 f1:0.8059\n",
      "/home/wangnan/mrc4ner/checkpoints/2020_09_06_18_41_36/checkpoint_6.cpt \n",
      " Namespace(allow_impossible=True, alpha=1, beta=1, cls=False, cpu=False, debug=False, dev_batch=10, dev_path='./datasets/OntoNotes4.0/mrc-ner.dev', dropout_prob=0.1, epochs=10, eval=False, gamma=1, local_rank=0, log_steps=20, lr=8e-06, max_grad_norm=0.75, max_tokens=512, not_store=False, pretrained_model_name_or_path='./pretrained_models/chinese_roberta_wwm_large_ext_pytorch', reduction='mean', seed=209, span_layer=True, theta=1, train_batch=4, train_path='./datasets/OntoNotes4.0/mrc-ner.train', train_span_method='gold', warmup_ratio=0.1, weight_decay=0.01)\n"
     ]
    },
    {
     "name": "stderr",
     "output_type": "stream",
     "text": [
      "checkpoint_6.cpt: 100%|██████████| 2484/2484 [04:20<00:00,  9.54it/s]\n"
     ]
    },
    {
     "name": "stdout",
     "output_type": "stream",
     "text": [
      "model checkpoint_6.cpt test dataset:\n",
      "precision:0.8097 recall:0.7839 f1:0.7966\n",
      "/home/wangnan/mrc4ner/checkpoints/2020_09_06_18_41_36/checkpoint_7.cpt \n",
      " Namespace(allow_impossible=True, alpha=1, beta=1, cls=False, cpu=False, debug=False, dev_batch=10, dev_path='./datasets/OntoNotes4.0/mrc-ner.dev', dropout_prob=0.1, epochs=10, eval=False, gamma=1, local_rank=0, log_steps=20, lr=8e-06, max_grad_norm=0.75, max_tokens=512, not_store=False, pretrained_model_name_or_path='./pretrained_models/chinese_roberta_wwm_large_ext_pytorch', reduction='mean', seed=209, span_layer=True, theta=1, train_batch=4, train_path='./datasets/OntoNotes4.0/mrc-ner.train', train_span_method='gold', warmup_ratio=0.1, weight_decay=0.01)\n"
     ]
    },
    {
     "name": "stderr",
     "output_type": "stream",
     "text": [
      "checkpoint_7.cpt: 100%|██████████| 2484/2484 [04:19<00:00,  9.58it/s]\n"
     ]
    },
    {
     "name": "stdout",
     "output_type": "stream",
     "text": [
      "model checkpoint_7.cpt test dataset:\n",
      "precision:0.8069 recall:0.7913 f1:0.7991\n",
      "/home/wangnan/mrc4ner/checkpoints/2020_09_06_18_41_36/checkpoint_8.cpt \n",
      " Namespace(allow_impossible=True, alpha=1, beta=1, cls=False, cpu=False, debug=False, dev_batch=10, dev_path='./datasets/OntoNotes4.0/mrc-ner.dev', dropout_prob=0.1, epochs=10, eval=False, gamma=1, local_rank=0, log_steps=20, lr=8e-06, max_grad_norm=0.75, max_tokens=512, not_store=False, pretrained_model_name_or_path='./pretrained_models/chinese_roberta_wwm_large_ext_pytorch', reduction='mean', seed=209, span_layer=True, theta=1, train_batch=4, train_path='./datasets/OntoNotes4.0/mrc-ner.train', train_span_method='gold', warmup_ratio=0.1, weight_decay=0.01)\n"
     ]
    },
    {
     "name": "stderr",
     "output_type": "stream",
     "text": [
      "checkpoint_8.cpt: 100%|██████████| 2484/2484 [04:18<00:00,  9.61it/s]\n"
     ]
    },
    {
     "name": "stdout",
     "output_type": "stream",
     "text": [
      "model checkpoint_8.cpt test dataset:\n",
      "precision:0.8141 recall:0.7875 f1:0.8006\n",
      "/home/wangnan/mrc4ner/checkpoints/2020_09_06_18_41_36/checkpoint_9.cpt \n",
      " Namespace(allow_impossible=True, alpha=1, beta=1, cls=False, cpu=False, debug=False, dev_batch=10, dev_path='./datasets/OntoNotes4.0/mrc-ner.dev', dropout_prob=0.1, epochs=10, eval=False, gamma=1, local_rank=0, log_steps=20, lr=8e-06, max_grad_norm=0.75, max_tokens=512, not_store=False, pretrained_model_name_or_path='./pretrained_models/chinese_roberta_wwm_large_ext_pytorch', reduction='mean', seed=209, span_layer=True, theta=1, train_batch=4, train_path='./datasets/OntoNotes4.0/mrc-ner.train', train_span_method='gold', warmup_ratio=0.1, weight_decay=0.01)\n"
     ]
    },
    {
     "name": "stderr",
     "output_type": "stream",
     "text": [
      "checkpoint_9.cpt: 100%|██████████| 2484/2484 [04:18<00:00,  9.59it/s]"
     ]
    },
    {
     "name": "stdout",
     "output_type": "stream",
     "text": [
      "model checkpoint_9.cpt test dataset:\n",
      "precision:0.8131 recall:0.7904 f1:0.8016\n",
      "[('checkpoint_0.cpt', 0.7130017236255846, 0.756202663782162, 0.7339665472344252), ('checkpoint_1.cpt', 0.8331108142956369, 0.733350744223903, 0.7800536723483598), ('checkpoint_2.cpt', 0.7945677122169641, 0.8136589186714992, 0.8039994999670289), ('checkpoint_3.cpt', 0.7988173286028002, 0.8114390179144112, 0.8050782069293809), ('checkpoint_4.cpt', 0.8310641843802355, 0.7811439017000334, 0.80533067969276), ('checkpoint_5.cpt', 0.8117631473292141, 0.8002089317314953, 0.8059441306821511), ('checkpoint_6.cpt', 0.8096843807917878, 0.7838861320470245, 0.7965759331466711), ('checkpoint_7.cpt', 0.8069241010909555, 0.7913293287031432, 0.7990501328539484), ('checkpoint_8.cpt', 0.8141198703004697, 0.7875424391763459, 0.8006101465204889), ('checkpoint_9.cpt', 0.8131380976876493, 0.7904152519208129, 0.801615180036929)]\n"
     ]
    },
    {
     "name": "stderr",
     "output_type": "stream",
     "text": [
      "\n"
     ]
    }
   ],
   "source": [
    "#这个是max token 512 + max grad nrm 0.75 -cls的\n",
    "base_dir = '/home/wangnan/mrc4ner/checkpoints/'\n",
    "base_model_dir = '2020_09_06_18_41_36'\n",
    "model_dir = base_dir+base_model_dir+'/'\n",
    "args = pickle.load(open(model_dir+'args','rb'))\n",
    "files = os.listdir(base_dir+base_model_dir)\n",
    "files.remove('args')\n",
    "files.append(\"checkpoint_9.cpt\")\n",
    "files = sorted(files)\n",
    "scores = []\n",
    "for file in files:\n",
    "    s = test(model_dir,file,7,args)\n",
    "    scores.append(s)\n",
    "print(scores)"
   ]
  },
  {
   "cell_type": "code",
   "execution_count": null,
   "metadata": {},
   "outputs": [],
   "source": []
  },
  {
   "cell_type": "code",
   "execution_count": null,
   "metadata": {},
   "outputs": [],
   "source": []
  },
  {
   "cell_type": "code",
   "execution_count": null,
   "metadata": {},
   "outputs": [],
   "source": []
  },
  {
   "cell_type": "code",
   "execution_count": 5,
   "metadata": {},
   "outputs": [
    {
     "name": "stdout",
     "output_type": "stream",
     "text": [
      "/home/wangnan/mrc4ner/checkpoints/2020_09_06_11_52_27/checkpoint_0.cpt \n",
      " Namespace(allow_impossible=True, alpha=1, beta=1, cls=True, cpu=False, debug=False, dev_batch=10, dev_path='./datasets/OntoNotes4.0/mrc-ner.dev', dropout_prob=0.1, epochs=10, eval=False, gamma=1, local_rank=2, log_steps=20, lr=8e-06, max_grad_norm=0.75, max_tokens=512, not_store=False, pretrained_model_name_or_path='./pretrained_models/chinese_roberta_wwm_large_ext_pytorch', reduction='mean', seed=209, span_layer=True, theta=1, train_batch=4, train_path='./datasets/OntoNotes4.0/mrc-ner.train', train_span_method='gold', warmup_ratio=0.1, weight_decay=0.01)\n"
     ]
    },
    {
     "name": "stderr",
     "output_type": "stream",
     "text": [
      "checkpoint_0.cpt: 100%|██████████| 2484/2484 [04:08<00:00, 10.01it/s]\n"
     ]
    },
    {
     "name": "stdout",
     "output_type": "stream",
     "text": [
      "model checkpoint_0.cpt test dataset:\n",
      "precision:0.7560 recall:0.6819 f1:0.7171\n",
      "/home/wangnan/mrc4ner/checkpoints/2020_09_06_11_52_27/checkpoint_1.cpt \n",
      " Namespace(allow_impossible=True, alpha=1, beta=1, cls=True, cpu=False, debug=False, dev_batch=10, dev_path='./datasets/OntoNotes4.0/mrc-ner.dev', dropout_prob=0.1, epochs=10, eval=False, gamma=1, local_rank=2, log_steps=20, lr=8e-06, max_grad_norm=0.75, max_tokens=512, not_store=False, pretrained_model_name_or_path='./pretrained_models/chinese_roberta_wwm_large_ext_pytorch', reduction='mean', seed=209, span_layer=True, theta=1, train_batch=4, train_path='./datasets/OntoNotes4.0/mrc-ner.train', train_span_method='gold', warmup_ratio=0.1, weight_decay=0.01)\n"
     ]
    },
    {
     "name": "stderr",
     "output_type": "stream",
     "text": [
      "checkpoint_1.cpt: 100%|██████████| 2484/2484 [04:17<00:00,  9.65it/s]\n"
     ]
    },
    {
     "name": "stdout",
     "output_type": "stream",
     "text": [
      "model checkpoint_1.cpt test dataset:\n",
      "precision:0.7825 recall:0.8189 f1:0.8003\n",
      "/home/wangnan/mrc4ner/checkpoints/2020_09_06_11_52_27/checkpoint_2.cpt \n",
      " Namespace(allow_impossible=True, alpha=1, beta=1, cls=True, cpu=False, debug=False, dev_batch=10, dev_path='./datasets/OntoNotes4.0/mrc-ner.dev', dropout_prob=0.1, epochs=10, eval=False, gamma=1, local_rank=2, log_steps=20, lr=8e-06, max_grad_norm=0.75, max_tokens=512, not_store=False, pretrained_model_name_or_path='./pretrained_models/chinese_roberta_wwm_large_ext_pytorch', reduction='mean', seed=209, span_layer=True, theta=1, train_batch=4, train_path='./datasets/OntoNotes4.0/mrc-ner.train', train_span_method='gold', warmup_ratio=0.1, weight_decay=0.01)\n"
     ]
    },
    {
     "name": "stderr",
     "output_type": "stream",
     "text": [
      "checkpoint_2.cpt: 100%|██████████| 2484/2484 [04:18<00:00,  9.61it/s]\n"
     ]
    },
    {
     "name": "stdout",
     "output_type": "stream",
     "text": [
      "model checkpoint_2.cpt test dataset:\n",
      "precision:0.7708 recall:0.8270 f1:0.7979\n",
      "/home/wangnan/mrc4ner/checkpoints/2020_09_06_11_52_27/checkpoint_3.cpt \n",
      " Namespace(allow_impossible=True, alpha=1, beta=1, cls=True, cpu=False, debug=False, dev_batch=10, dev_path='./datasets/OntoNotes4.0/mrc-ner.dev', dropout_prob=0.1, epochs=10, eval=False, gamma=1, local_rank=2, log_steps=20, lr=8e-06, max_grad_norm=0.75, max_tokens=512, not_store=False, pretrained_model_name_or_path='./pretrained_models/chinese_roberta_wwm_large_ext_pytorch', reduction='mean', seed=209, span_layer=True, theta=1, train_batch=4, train_path='./datasets/OntoNotes4.0/mrc-ner.train', train_span_method='gold', warmup_ratio=0.1, weight_decay=0.01)\n"
     ]
    },
    {
     "name": "stderr",
     "output_type": "stream",
     "text": [
      "checkpoint_3.cpt: 100%|██████████| 2484/2484 [04:18<00:00,  9.61it/s]\n"
     ]
    },
    {
     "name": "stdout",
     "output_type": "stream",
     "text": [
      "model checkpoint_3.cpt test dataset:\n",
      "precision:0.8066 recall:0.7849 f1:0.7956\n",
      "/home/wangnan/mrc4ner/checkpoints/2020_09_06_11_52_27/checkpoint_4.cpt \n",
      " Namespace(allow_impossible=True, alpha=1, beta=1, cls=True, cpu=False, debug=False, dev_batch=10, dev_path='./datasets/OntoNotes4.0/mrc-ner.dev', dropout_prob=0.1, epochs=10, eval=False, gamma=1, local_rank=2, log_steps=20, lr=8e-06, max_grad_norm=0.75, max_tokens=512, not_store=False, pretrained_model_name_or_path='./pretrained_models/chinese_roberta_wwm_large_ext_pytorch', reduction='mean', seed=209, span_layer=True, theta=1, train_batch=4, train_path='./datasets/OntoNotes4.0/mrc-ner.train', train_span_method='gold', warmup_ratio=0.1, weight_decay=0.01)\n"
     ]
    },
    {
     "name": "stderr",
     "output_type": "stream",
     "text": [
      "checkpoint_4.cpt: 100%|██████████| 2484/2484 [04:19<00:00,  9.57it/s]\n"
     ]
    },
    {
     "name": "stdout",
     "output_type": "stream",
     "text": [
      "model checkpoint_4.cpt test dataset:\n",
      "precision:0.8070 recall:0.7951 f1:0.8010\n",
      "/home/wangnan/mrc4ner/checkpoints/2020_09_06_11_52_27/checkpoint_5.cpt \n",
      " Namespace(allow_impossible=True, alpha=1, beta=1, cls=True, cpu=False, debug=False, dev_batch=10, dev_path='./datasets/OntoNotes4.0/mrc-ner.dev', dropout_prob=0.1, epochs=10, eval=False, gamma=1, local_rank=2, log_steps=20, lr=8e-06, max_grad_norm=0.75, max_tokens=512, not_store=False, pretrained_model_name_or_path='./pretrained_models/chinese_roberta_wwm_large_ext_pytorch', reduction='mean', seed=209, span_layer=True, theta=1, train_batch=4, train_path='./datasets/OntoNotes4.0/mrc-ner.train', train_span_method='gold', warmup_ratio=0.1, weight_decay=0.01)\n"
     ]
    },
    {
     "name": "stderr",
     "output_type": "stream",
     "text": [
      "checkpoint_5.cpt: 100%|██████████| 2484/2484 [04:20<00:00,  9.53it/s]\n"
     ]
    },
    {
     "name": "stdout",
     "output_type": "stream",
     "text": [
      "model checkpoint_5.cpt test dataset:\n",
      "precision:0.8041 recall:0.8048 f1:0.8045\n",
      "/home/wangnan/mrc4ner/checkpoints/2020_09_06_11_52_27/checkpoint_6.cpt \n",
      " Namespace(allow_impossible=True, alpha=1, beta=1, cls=True, cpu=False, debug=False, dev_batch=10, dev_path='./datasets/OntoNotes4.0/mrc-ner.dev', dropout_prob=0.1, epochs=10, eval=False, gamma=1, local_rank=2, log_steps=20, lr=8e-06, max_grad_norm=0.75, max_tokens=512, not_store=False, pretrained_model_name_or_path='./pretrained_models/chinese_roberta_wwm_large_ext_pytorch', reduction='mean', seed=209, span_layer=True, theta=1, train_batch=4, train_path='./datasets/OntoNotes4.0/mrc-ner.train', train_span_method='gold', warmup_ratio=0.1, weight_decay=0.01)\n"
     ]
    },
    {
     "name": "stderr",
     "output_type": "stream",
     "text": [
      "checkpoint_6.cpt: 100%|██████████| 2484/2484 [04:23<00:00,  9.44it/s]\n"
     ]
    },
    {
     "name": "stdout",
     "output_type": "stream",
     "text": [
      "model checkpoint_6.cpt test dataset:\n",
      "precision:0.8004 recall:0.8133 f1:0.8068\n",
      "/home/wangnan/mrc4ner/checkpoints/2020_09_06_11_52_27/checkpoint_7.cpt \n",
      " Namespace(allow_impossible=True, alpha=1, beta=1, cls=True, cpu=False, debug=False, dev_batch=10, dev_path='./datasets/OntoNotes4.0/mrc-ner.dev', dropout_prob=0.1, epochs=10, eval=False, gamma=1, local_rank=2, log_steps=20, lr=8e-06, max_grad_norm=0.75, max_tokens=512, not_store=False, pretrained_model_name_or_path='./pretrained_models/chinese_roberta_wwm_large_ext_pytorch', reduction='mean', seed=209, span_layer=True, theta=1, train_batch=4, train_path='./datasets/OntoNotes4.0/mrc-ner.train', train_span_method='gold', warmup_ratio=0.1, weight_decay=0.01)\n"
     ]
    },
    {
     "name": "stderr",
     "output_type": "stream",
     "text": [
      "checkpoint_7.cpt: 100%|██████████| 2484/2484 [04:24<00:00,  9.40it/s]\n"
     ]
    },
    {
     "name": "stdout",
     "output_type": "stream",
     "text": [
      "model checkpoint_7.cpt test dataset:\n",
      "precision:0.8018 recall:0.8107 f1:0.8062\n",
      "/home/wangnan/mrc4ner/checkpoints/2020_09_06_11_52_27/checkpoint_8.cpt \n",
      " Namespace(allow_impossible=True, alpha=1, beta=1, cls=True, cpu=False, debug=False, dev_batch=10, dev_path='./datasets/OntoNotes4.0/mrc-ner.dev', dropout_prob=0.1, epochs=10, eval=False, gamma=1, local_rank=2, log_steps=20, lr=8e-06, max_grad_norm=0.75, max_tokens=512, not_store=False, pretrained_model_name_or_path='./pretrained_models/chinese_roberta_wwm_large_ext_pytorch', reduction='mean', seed=209, span_layer=True, theta=1, train_batch=4, train_path='./datasets/OntoNotes4.0/mrc-ner.train', train_span_method='gold', warmup_ratio=0.1, weight_decay=0.01)\n"
     ]
    },
    {
     "name": "stderr",
     "output_type": "stream",
     "text": [
      "checkpoint_8.cpt: 100%|██████████| 2484/2484 [04:23<00:00,  9.41it/s]\n"
     ]
    },
    {
     "name": "stdout",
     "output_type": "stream",
     "text": [
      "model checkpoint_8.cpt test dataset:\n",
      "precision:0.8157 recall:0.8045 f1:0.8101\n",
      "/home/wangnan/mrc4ner/checkpoints/2020_09_06_11_52_27/checkpoint_9.cpt \n",
      " Namespace(allow_impossible=True, alpha=1, beta=1, cls=True, cpu=False, debug=False, dev_batch=10, dev_path='./datasets/OntoNotes4.0/mrc-ner.dev', dropout_prob=0.1, epochs=10, eval=False, gamma=1, local_rank=2, log_steps=20, lr=8e-06, max_grad_norm=0.75, max_tokens=512, not_store=False, pretrained_model_name_or_path='./pretrained_models/chinese_roberta_wwm_large_ext_pytorch', reduction='mean', seed=209, span_layer=True, theta=1, train_batch=4, train_path='./datasets/OntoNotes4.0/mrc-ner.train', train_span_method='gold', warmup_ratio=0.1, weight_decay=0.01)\n"
     ]
    },
    {
     "name": "stderr",
     "output_type": "stream",
     "text": [
      "checkpoint_9.cpt: 100%|██████████| 2484/2484 [04:23<00:00,  9.41it/s]"
     ]
    },
    {
     "name": "stdout",
     "output_type": "stream",
     "text": [
      "model checkpoint_9.cpt test dataset:\n",
      "precision:0.8171 recall:0.8007 f1:0.8088\n",
      "[('checkpoint_0.cpt', 0.756044592332989, 0.6819012796184512, 0.7170609499095397), ('checkpoint_1.cpt', 0.7825056150758041, 0.8188822145705298, 0.8002802556436779), ('checkpoint_2.cpt', 0.7708130476179633, 0.8269783232140273, 0.7979080301887679), ('checkpoint_3.cpt', 0.8066290927527335, 0.7849307912268306, 0.795631531754978), ('checkpoint_4.cpt', 0.8070245194424089, 0.7951162182299404, 0.8010256131896758), ('checkpoint_5.cpt', 0.8041492692061392, 0.8047793156431471, 0.8044636690638955), ('checkpoint_6.cpt', 0.8004112580901669, 0.8132671714790719, 0.8067875043319626), ('checkpoint_7.cpt', 0.8017564250546614, 0.8106555235295566, 0.8061809167019658), ('checkpoint_8.cpt', 0.8157023698112402, 0.8045181508481956, 0.8100711585856915), ('checkpoint_9.cpt', 0.8170552963601525, 0.8007312613213984, 0.8088104212661726)]\n"
     ]
    },
    {
     "name": "stderr",
     "output_type": "stream",
     "text": [
      "\n"
     ]
    }
   ],
   "source": [
    "#这个是max gram norm 0.75 + max token 512\n",
    "base_dir = '/home/wangnan/mrc4ner/checkpoints/'\n",
    "base_model_dir = '2020_09_06_11_52_27'\n",
    "model_dir = base_dir+base_model_dir+'/'\n",
    "args = pickle.load(open(model_dir+'args','rb'))\n",
    "files = os.listdir(base_dir+base_model_dir)\n",
    "files.remove('args')\n",
    "files = sorted(files)\n",
    "scores = []\n",
    "for file in files:\n",
    "    s = test(model_dir,file,7,args)\n",
    "    scores.append(s)\n",
    "print(scores)"
   ]
  },
  {
   "cell_type": "code",
   "execution_count": null,
   "metadata": {},
   "outputs": [],
   "source": []
  },
  {
   "cell_type": "code",
   "execution_count": null,
   "metadata": {},
   "outputs": [],
   "source": []
  },
  {
   "cell_type": "code",
   "execution_count": null,
   "metadata": {},
   "outputs": [],
   "source": []
  },
  {
   "cell_type": "code",
   "execution_count": null,
   "metadata": {},
   "outputs": [],
   "source": []
  },
  {
   "cell_type": "code",
   "execution_count": null,
   "metadata": {},
   "outputs": [],
   "source": []
  },
  {
   "cell_type": "code",
   "execution_count": null,
   "metadata": {},
   "outputs": [],
   "source": []
  },
  {
   "cell_type": "code",
   "execution_count": 5,
   "metadata": {},
   "outputs": [
    {
     "name": "stdout",
     "output_type": "stream",
     "text": [
      "/home/wangnan/mrc4ner/checkpoints/2020_09_06_03_34_18/checkpoint_0.cpt \n",
      " Namespace(allow_impossible=True, alpha=1, beta=1, cls=False, cpu=False, debug=False, dev_batch=10, dev_path='./datasets/OntoNotes4.0/mrc-ner.dev', dropout_prob=0.1, epochs=10, eval=False, gamma=1, local_rank=0, log_steps=20, lr=8e-06, max_grad_norm=1.0, max_tokens=450, not_store=False, pretrained_model_name_or_path='./pretrained_models/chinese_roberta_wwm_large_ext_pytorch', reduction='mean', seed=209, span_layer=True, theta=1, train_batch=4, train_path='./datasets/OntoNotes4.0/mrc-ner.train', train_span_method='gold', warmup_ratio=0.1, weight_decay=0.01)\n"
     ]
    },
    {
     "name": "stderr",
     "output_type": "stream",
     "text": [
      "checkpoint_0.cpt: 100%|██████████| 2484/2484 [04:12<00:00,  9.83it/s]\n"
     ]
    },
    {
     "name": "stdout",
     "output_type": "stream",
     "text": [
      "model checkpoint_0.cpt test dataset:\n",
      "precision:0.7988 recall:0.7202 f1:0.7575\n",
      "/home/wangnan/mrc4ner/checkpoints/2020_09_06_03_34_18/checkpoint_1.cpt \n",
      " Namespace(allow_impossible=True, alpha=1, beta=1, cls=False, cpu=False, debug=False, dev_batch=10, dev_path='./datasets/OntoNotes4.0/mrc-ner.dev', dropout_prob=0.1, epochs=10, eval=False, gamma=1, local_rank=0, log_steps=20, lr=8e-06, max_grad_norm=1.0, max_tokens=450, not_store=False, pretrained_model_name_or_path='./pretrained_models/chinese_roberta_wwm_large_ext_pytorch', reduction='mean', seed=209, span_layer=True, theta=1, train_batch=4, train_path='./datasets/OntoNotes4.0/mrc-ner.train', train_span_method='gold', warmup_ratio=0.1, weight_decay=0.01)\n"
     ]
    },
    {
     "name": "stderr",
     "output_type": "stream",
     "text": [
      "checkpoint_1.cpt: 100%|██████████| 2484/2484 [04:16<00:00,  9.68it/s]\n"
     ]
    },
    {
     "name": "stdout",
     "output_type": "stream",
     "text": [
      "model checkpoint_1.cpt test dataset:\n",
      "precision:0.8240 recall:0.7699 f1:0.7961\n",
      "/home/wangnan/mrc4ner/checkpoints/2020_09_06_03_34_18/checkpoint_2.cpt \n",
      " Namespace(allow_impossible=True, alpha=1, beta=1, cls=False, cpu=False, debug=False, dev_batch=10, dev_path='./datasets/OntoNotes4.0/mrc-ner.dev', dropout_prob=0.1, epochs=10, eval=False, gamma=1, local_rank=0, log_steps=20, lr=8e-06, max_grad_norm=1.0, max_tokens=450, not_store=False, pretrained_model_name_or_path='./pretrained_models/chinese_roberta_wwm_large_ext_pytorch', reduction='mean', seed=209, span_layer=True, theta=1, train_batch=4, train_path='./datasets/OntoNotes4.0/mrc-ner.train', train_span_method='gold', warmup_ratio=0.1, weight_decay=0.01)\n"
     ]
    },
    {
     "name": "stderr",
     "output_type": "stream",
     "text": [
      "checkpoint_2.cpt: 100%|██████████| 2484/2484 [04:17<00:00,  9.65it/s]\n"
     ]
    },
    {
     "name": "stdout",
     "output_type": "stream",
     "text": [
      "model checkpoint_2.cpt test dataset:\n",
      "precision:0.8081 recall:0.8082 f1:0.8081\n",
      "/home/wangnan/mrc4ner/checkpoints/2020_09_06_03_34_18/checkpoint_3.cpt \n",
      " Namespace(allow_impossible=True, alpha=1, beta=1, cls=False, cpu=False, debug=False, dev_batch=10, dev_path='./datasets/OntoNotes4.0/mrc-ner.dev', dropout_prob=0.1, epochs=10, eval=False, gamma=1, local_rank=0, log_steps=20, lr=8e-06, max_grad_norm=1.0, max_tokens=450, not_store=False, pretrained_model_name_or_path='./pretrained_models/chinese_roberta_wwm_large_ext_pytorch', reduction='mean', seed=209, span_layer=True, theta=1, train_batch=4, train_path='./datasets/OntoNotes4.0/mrc-ner.train', train_span_method='gold', warmup_ratio=0.1, weight_decay=0.01)\n"
     ]
    },
    {
     "name": "stderr",
     "output_type": "stream",
     "text": [
      "checkpoint_3.cpt: 100%|██████████| 2484/2484 [04:17<00:00,  9.65it/s]\n"
     ]
    },
    {
     "name": "stdout",
     "output_type": "stream",
     "text": [
      "model checkpoint_3.cpt test dataset:\n",
      "precision:0.8317 recall:0.7781 f1:0.8040\n",
      "/home/wangnan/mrc4ner/checkpoints/2020_09_06_03_34_18/checkpoint_4.cpt \n",
      " Namespace(allow_impossible=True, alpha=1, beta=1, cls=False, cpu=False, debug=False, dev_batch=10, dev_path='./datasets/OntoNotes4.0/mrc-ner.dev', dropout_prob=0.1, epochs=10, eval=False, gamma=1, local_rank=0, log_steps=20, lr=8e-06, max_grad_norm=1.0, max_tokens=450, not_store=False, pretrained_model_name_or_path='./pretrained_models/chinese_roberta_wwm_large_ext_pytorch', reduction='mean', seed=209, span_layer=True, theta=1, train_batch=4, train_path='./datasets/OntoNotes4.0/mrc-ner.train', train_span_method='gold', warmup_ratio=0.1, weight_decay=0.01)\n"
     ]
    },
    {
     "name": "stderr",
     "output_type": "stream",
     "text": [
      "checkpoint_4.cpt: 100%|██████████| 2484/2484 [04:16<00:00,  9.68it/s]\n"
     ]
    },
    {
     "name": "stdout",
     "output_type": "stream",
     "text": [
      "model checkpoint_4.cpt test dataset:\n",
      "precision:0.7919 recall:0.8168 f1:0.8041\n",
      "/home/wangnan/mrc4ner/checkpoints/2020_09_06_03_34_18/checkpoint_5.cpt \n",
      " Namespace(allow_impossible=True, alpha=1, beta=1, cls=False, cpu=False, debug=False, dev_batch=10, dev_path='./datasets/OntoNotes4.0/mrc-ner.dev', dropout_prob=0.1, epochs=10, eval=False, gamma=1, local_rank=0, log_steps=20, lr=8e-06, max_grad_norm=1.0, max_tokens=450, not_store=False, pretrained_model_name_or_path='./pretrained_models/chinese_roberta_wwm_large_ext_pytorch', reduction='mean', seed=209, span_layer=True, theta=1, train_batch=4, train_path='./datasets/OntoNotes4.0/mrc-ner.train', train_span_method='gold', warmup_ratio=0.1, weight_decay=0.01)\n"
     ]
    },
    {
     "name": "stderr",
     "output_type": "stream",
     "text": [
      "checkpoint_5.cpt: 100%|██████████| 2484/2484 [04:18<00:00,  9.61it/s]\n"
     ]
    },
    {
     "name": "stdout",
     "output_type": "stream",
     "text": [
      "model checkpoint_5.cpt test dataset:\n",
      "precision:0.8095 recall:0.8092 f1:0.8094\n",
      "/home/wangnan/mrc4ner/checkpoints/2020_09_06_03_34_18/checkpoint_6.cpt \n",
      " Namespace(allow_impossible=True, alpha=1, beta=1, cls=False, cpu=False, debug=False, dev_batch=10, dev_path='./datasets/OntoNotes4.0/mrc-ner.dev', dropout_prob=0.1, epochs=10, eval=False, gamma=1, local_rank=0, log_steps=20, lr=8e-06, max_grad_norm=1.0, max_tokens=450, not_store=False, pretrained_model_name_or_path='./pretrained_models/chinese_roberta_wwm_large_ext_pytorch', reduction='mean', seed=209, span_layer=True, theta=1, train_batch=4, train_path='./datasets/OntoNotes4.0/mrc-ner.train', train_span_method='gold', warmup_ratio=0.1, weight_decay=0.01)\n"
     ]
    },
    {
     "name": "stderr",
     "output_type": "stream",
     "text": [
      "checkpoint_6.cpt: 100%|██████████| 2484/2484 [04:18<00:00,  9.61it/s]\n"
     ]
    },
    {
     "name": "stdout",
     "output_type": "stream",
     "text": [
      "model checkpoint_6.cpt test dataset:\n",
      "precision:0.7988 recall:0.8174 f1:0.8080\n",
      "/home/wangnan/mrc4ner/checkpoints/2020_09_06_03_34_18/checkpoint_7.cpt \n",
      " Namespace(allow_impossible=True, alpha=1, beta=1, cls=False, cpu=False, debug=False, dev_batch=10, dev_path='./datasets/OntoNotes4.0/mrc-ner.dev', dropout_prob=0.1, epochs=10, eval=False, gamma=1, local_rank=0, log_steps=20, lr=8e-06, max_grad_norm=1.0, max_tokens=450, not_store=False, pretrained_model_name_or_path='./pretrained_models/chinese_roberta_wwm_large_ext_pytorch', reduction='mean', seed=209, span_layer=True, theta=1, train_batch=4, train_path='./datasets/OntoNotes4.0/mrc-ner.train', train_span_method='gold', warmup_ratio=0.1, weight_decay=0.01)\n"
     ]
    },
    {
     "name": "stderr",
     "output_type": "stream",
     "text": [
      "checkpoint_7.cpt: 100%|██████████| 2484/2484 [04:18<00:00,  9.62it/s]\n"
     ]
    },
    {
     "name": "stdout",
     "output_type": "stream",
     "text": [
      "model checkpoint_7.cpt test dataset:\n",
      "precision:0.8057 recall:0.8116 f1:0.8086\n",
      "/home/wangnan/mrc4ner/checkpoints/2020_09_06_03_34_18/checkpoint_8.cpt \n",
      " Namespace(allow_impossible=True, alpha=1, beta=1, cls=False, cpu=False, debug=False, dev_batch=10, dev_path='./datasets/OntoNotes4.0/mrc-ner.dev', dropout_prob=0.1, epochs=10, eval=False, gamma=1, local_rank=0, log_steps=20, lr=8e-06, max_grad_norm=1.0, max_tokens=450, not_store=False, pretrained_model_name_or_path='./pretrained_models/chinese_roberta_wwm_large_ext_pytorch', reduction='mean', seed=209, span_layer=True, theta=1, train_batch=4, train_path='./datasets/OntoNotes4.0/mrc-ner.train', train_span_method='gold', warmup_ratio=0.1, weight_decay=0.01)\n"
     ]
    },
    {
     "name": "stderr",
     "output_type": "stream",
     "text": [
      "checkpoint_8.cpt: 100%|██████████| 2484/2484 [04:19<00:00,  9.59it/s]\n"
     ]
    },
    {
     "name": "stdout",
     "output_type": "stream",
     "text": [
      "model checkpoint_8.cpt test dataset:\n",
      "precision:0.8182 recall:0.7886 f1:0.8031\n",
      "/home/wangnan/mrc4ner/checkpoints/2020_09_06_03_34_18/checkpoint_9.cpt \n",
      " Namespace(allow_impossible=True, alpha=1, beta=1, cls=False, cpu=False, debug=False, dev_batch=10, dev_path='./datasets/OntoNotes4.0/mrc-ner.dev', dropout_prob=0.1, epochs=10, eval=False, gamma=1, local_rank=0, log_steps=20, lr=8e-06, max_grad_norm=1.0, max_tokens=450, not_store=False, pretrained_model_name_or_path='./pretrained_models/chinese_roberta_wwm_large_ext_pytorch', reduction='mean', seed=209, span_layer=True, theta=1, train_batch=4, train_path='./datasets/OntoNotes4.0/mrc-ner.train', train_span_method='gold', warmup_ratio=0.1, weight_decay=0.01)\n"
     ]
    },
    {
     "name": "stderr",
     "output_type": "stream",
     "text": [
      "checkpoint_9.cpt: 100%|██████████| 2484/2484 [04:19<00:00,  9.59it/s]"
     ]
    },
    {
     "name": "stdout",
     "output_type": "stream",
     "text": [
      "model checkpoint_9.cpt test dataset:\n",
      "precision:0.8109 recall:0.7925 f1:0.8016\n",
      "[('checkpoint_0.cpt', 0.7988122826189438, 0.7201619220788505, 0.757450400838512), ('checkpoint_1.cpt', 0.824039133357926, 0.7699138155171175, 0.7960570175151979), ('checkpoint_2.cpt', 0.8080689383982153, 0.808174457977517, 0.8081211947436526), ('checkpoint_3.cpt', 0.8316817863458923, 0.7781405065580907, 0.8040202789647798), ('checkpoint_4.cpt', 0.7918723888097389, 0.8167928962109176, 0.8041391156240452), ('checkpoint_5.cpt', 0.8095362507107072, 0.8092191171573231, 0.8093771528692135), ('checkpoint_6.cpt', 0.7987750413680267, 0.8174458081982964, 0.8080020814406391), ('checkpoint_7.cpt', 0.8056779879691888, 0.811569600311887, 0.8086125626131623), ('checkpoint_8.cpt', 0.8181818180709685, 0.788587098356152, 0.8031114090996379), ('checkpoint_9.cpt', 0.8109299838574385, 0.7925045702804251, 0.8016109119271718)]\n"
     ]
    },
    {
     "name": "stderr",
     "output_type": "stream",
     "text": [
      "\n"
     ]
    }
   ],
   "source": [
    "#这个是去掉cls的结果(max grad norm=1)\n",
    "base_dir = '/home/wangnan/mrc4ner/checkpoints/'\n",
    "base_model_dir = '2020_09_06_03_34_18'\n",
    "model_dir = base_dir+base_model_dir+'/'\n",
    "args = pickle.load(open(model_dir+'args','rb'))\n",
    "files = os.listdir(base_dir+base_model_dir)\n",
    "files.remove('args')\n",
    "files = sorted(files)\n",
    "scores = []\n",
    "for file in files:\n",
    "    s = test(model_dir,file,7,args)\n",
    "    scores.append(s)\n",
    "print(scores)"
   ]
  },
  {
   "cell_type": "code",
   "execution_count": null,
   "metadata": {},
   "outputs": [],
   "source": []
  },
  {
   "cell_type": "code",
   "execution_count": null,
   "metadata": {},
   "outputs": [],
   "source": []
  },
  {
   "cell_type": "code",
   "execution_count": null,
   "metadata": {},
   "outputs": [],
   "source": []
  },
  {
   "cell_type": "code",
   "execution_count": null,
   "metadata": {},
   "outputs": [],
   "source": []
  },
  {
   "cell_type": "code",
   "execution_count": null,
   "metadata": {},
   "outputs": [],
   "source": []
  },
  {
   "cell_type": "code",
   "execution_count": 5,
   "metadata": {},
   "outputs": [
    {
     "name": "stdout",
     "output_type": "stream",
     "text": [
      "/home/wangnan/mrc4ner/checkpoints/2020_09_05_08_31_16/checkpoint_0.cpt \n",
      " Namespace(allow_impossible=True, alpha=1, beta=1, cls=False, cpu=False, debug=False, dev_batch=10, dev_path='./datasets/OntoNotes4.0/mrc-ner.dev', dropout_prob=0.2, epochs=10, eval=False, gamma=1, local_rank=2, log_steps=20, lr=8e-06, max_grad_norm=1.0, max_tokens=512, not_store=False, pretrained_model_name_or_path='./pretrained_models/chinese_roberta_wwm_large_ext_pytorch', reduction='mean', seed=209, span_layer=True, theta=1, train_batch=4, train_path='./datasets/OntoNotes4.0/mrc-ner.train', train_span_method='gold', warmup_ratio=-1.0, weight_decay=0.01)\n"
     ]
    },
    {
     "name": "stderr",
     "output_type": "stream",
     "text": [
      "checkpoint_0.cpt: 100%|██████████| 2484/2484 [04:09<00:00,  9.96it/s]\n"
     ]
    },
    {
     "name": "stdout",
     "output_type": "stream",
     "text": [
      "model checkpoint_0.cpt test dataset:\n",
      "precision:0.7864 recall:0.7719 f1:0.7790\n",
      "/home/wangnan/mrc4ner/checkpoints/2020_09_05_08_31_16/checkpoint_1.cpt \n",
      " Namespace(allow_impossible=True, alpha=1, beta=1, cls=False, cpu=False, debug=False, dev_batch=10, dev_path='./datasets/OntoNotes4.0/mrc-ner.dev', dropout_prob=0.2, epochs=10, eval=False, gamma=1, local_rank=2, log_steps=20, lr=8e-06, max_grad_norm=1.0, max_tokens=512, not_store=False, pretrained_model_name_or_path='./pretrained_models/chinese_roberta_wwm_large_ext_pytorch', reduction='mean', seed=209, span_layer=True, theta=1, train_batch=4, train_path='./datasets/OntoNotes4.0/mrc-ner.train', train_span_method='gold', warmup_ratio=-1.0, weight_decay=0.01)\n"
     ]
    },
    {
     "name": "stderr",
     "output_type": "stream",
     "text": [
      "checkpoint_1.cpt: 100%|██████████| 2484/2484 [04:16<00:00,  9.69it/s]\n"
     ]
    },
    {
     "name": "stdout",
     "output_type": "stream",
     "text": [
      "model checkpoint_1.cpt test dataset:\n",
      "precision:0.8156 recall:0.7985 f1:0.8069\n",
      "/home/wangnan/mrc4ner/checkpoints/2020_09_05_08_31_16/checkpoint_2.cpt \n",
      " Namespace(allow_impossible=True, alpha=1, beta=1, cls=False, cpu=False, debug=False, dev_batch=10, dev_path='./datasets/OntoNotes4.0/mrc-ner.dev', dropout_prob=0.2, epochs=10, eval=False, gamma=1, local_rank=2, log_steps=20, lr=8e-06, max_grad_norm=1.0, max_tokens=512, not_store=False, pretrained_model_name_or_path='./pretrained_models/chinese_roberta_wwm_large_ext_pytorch', reduction='mean', seed=209, span_layer=True, theta=1, train_batch=4, train_path='./datasets/OntoNotes4.0/mrc-ner.train', train_span_method='gold', warmup_ratio=-1.0, weight_decay=0.01)\n"
     ]
    },
    {
     "name": "stderr",
     "output_type": "stream",
     "text": [
      "checkpoint_2.cpt: 100%|██████████| 2484/2484 [04:17<00:00,  9.63it/s]\n"
     ]
    },
    {
     "name": "stdout",
     "output_type": "stream",
     "text": [
      "model checkpoint_2.cpt test dataset:\n",
      "precision:0.8095 recall:0.8022 f1:0.8058\n",
      "/home/wangnan/mrc4ner/checkpoints/2020_09_05_08_31_16/checkpoint_3.cpt \n",
      " Namespace(allow_impossible=True, alpha=1, beta=1, cls=False, cpu=False, debug=False, dev_batch=10, dev_path='./datasets/OntoNotes4.0/mrc-ner.dev', dropout_prob=0.2, epochs=10, eval=False, gamma=1, local_rank=2, log_steps=20, lr=8e-06, max_grad_norm=1.0, max_tokens=512, not_store=False, pretrained_model_name_or_path='./pretrained_models/chinese_roberta_wwm_large_ext_pytorch', reduction='mean', seed=209, span_layer=True, theta=1, train_batch=4, train_path='./datasets/OntoNotes4.0/mrc-ner.train', train_span_method='gold', warmup_ratio=-1.0, weight_decay=0.01)\n"
     ]
    },
    {
     "name": "stderr",
     "output_type": "stream",
     "text": [
      "checkpoint_3.cpt: 100%|██████████| 2484/2484 [04:17<00:00,  9.63it/s]\n"
     ]
    },
    {
     "name": "stdout",
     "output_type": "stream",
     "text": [
      "model checkpoint_3.cpt test dataset:\n",
      "precision:0.7999 recall:0.8144 f1:0.8071\n",
      "/home/wangnan/mrc4ner/checkpoints/2020_09_05_08_31_16/checkpoint_4.cpt \n",
      " Namespace(allow_impossible=True, alpha=1, beta=1, cls=False, cpu=False, debug=False, dev_batch=10, dev_path='./datasets/OntoNotes4.0/mrc-ner.dev', dropout_prob=0.2, epochs=10, eval=False, gamma=1, local_rank=2, log_steps=20, lr=8e-06, max_grad_norm=1.0, max_tokens=512, not_store=False, pretrained_model_name_or_path='./pretrained_models/chinese_roberta_wwm_large_ext_pytorch', reduction='mean', seed=209, span_layer=True, theta=1, train_batch=4, train_path='./datasets/OntoNotes4.0/mrc-ner.train', train_span_method='gold', warmup_ratio=-1.0, weight_decay=0.01)\n"
     ]
    },
    {
     "name": "stderr",
     "output_type": "stream",
     "text": [
      "checkpoint_4.cpt: 100%|██████████| 2484/2484 [04:17<00:00,  9.64it/s]\n"
     ]
    },
    {
     "name": "stdout",
     "output_type": "stream",
     "text": [
      "model checkpoint_4.cpt test dataset:\n",
      "precision:0.8010 recall:0.7694 f1:0.7849\n",
      "/home/wangnan/mrc4ner/checkpoints/2020_09_05_08_31_16/checkpoint_5.cpt \n",
      " Namespace(allow_impossible=True, alpha=1, beta=1, cls=False, cpu=False, debug=False, dev_batch=10, dev_path='./datasets/OntoNotes4.0/mrc-ner.dev', dropout_prob=0.2, epochs=10, eval=False, gamma=1, local_rank=2, log_steps=20, lr=8e-06, max_grad_norm=1.0, max_tokens=512, not_store=False, pretrained_model_name_or_path='./pretrained_models/chinese_roberta_wwm_large_ext_pytorch', reduction='mean', seed=209, span_layer=True, theta=1, train_batch=4, train_path='./datasets/OntoNotes4.0/mrc-ner.train', train_span_method='gold', warmup_ratio=-1.0, weight_decay=0.01)\n"
     ]
    },
    {
     "name": "stderr",
     "output_type": "stream",
     "text": [
      "checkpoint_5.cpt: 100%|██████████| 2484/2484 [04:18<00:00,  9.62it/s]\n"
     ]
    },
    {
     "name": "stdout",
     "output_type": "stream",
     "text": [
      "model checkpoint_5.cpt test dataset:\n",
      "precision:0.8147 recall:0.7882 f1:0.8012\n",
      "/home/wangnan/mrc4ner/checkpoints/2020_09_05_08_31_16/checkpoint_6.cpt \n",
      " Namespace(allow_impossible=True, alpha=1, beta=1, cls=False, cpu=False, debug=False, dev_batch=10, dev_path='./datasets/OntoNotes4.0/mrc-ner.dev', dropout_prob=0.2, epochs=10, eval=False, gamma=1, local_rank=2, log_steps=20, lr=8e-06, max_grad_norm=1.0, max_tokens=512, not_store=False, pretrained_model_name_or_path='./pretrained_models/chinese_roberta_wwm_large_ext_pytorch', reduction='mean', seed=209, span_layer=True, theta=1, train_batch=4, train_path='./datasets/OntoNotes4.0/mrc-ner.train', train_span_method='gold', warmup_ratio=-1.0, weight_decay=0.01)\n"
     ]
    },
    {
     "name": "stderr",
     "output_type": "stream",
     "text": [
      "checkpoint_6.cpt: 100%|██████████| 2484/2484 [04:19<00:00,  9.56it/s]\n"
     ]
    },
    {
     "name": "stdout",
     "output_type": "stream",
     "text": [
      "model checkpoint_6.cpt test dataset:\n",
      "precision:0.8089 recall:0.7883 f1:0.7985\n",
      "/home/wangnan/mrc4ner/checkpoints/2020_09_05_08_31_16/checkpoint_7.cpt \n",
      " Namespace(allow_impossible=True, alpha=1, beta=1, cls=False, cpu=False, debug=False, dev_batch=10, dev_path='./datasets/OntoNotes4.0/mrc-ner.dev', dropout_prob=0.2, epochs=10, eval=False, gamma=1, local_rank=2, log_steps=20, lr=8e-06, max_grad_norm=1.0, max_tokens=512, not_store=False, pretrained_model_name_or_path='./pretrained_models/chinese_roberta_wwm_large_ext_pytorch', reduction='mean', seed=209, span_layer=True, theta=1, train_batch=4, train_path='./datasets/OntoNotes4.0/mrc-ner.train', train_span_method='gold', warmup_ratio=-1.0, weight_decay=0.01)\n"
     ]
    },
    {
     "name": "stderr",
     "output_type": "stream",
     "text": [
      "checkpoint_7.cpt: 100%|██████████| 2484/2484 [04:19<00:00,  9.59it/s]\n"
     ]
    },
    {
     "name": "stdout",
     "output_type": "stream",
     "text": [
      "model checkpoint_7.cpt test dataset:\n",
      "precision:0.7956 recall:0.8101 f1:0.8028\n",
      "/home/wangnan/mrc4ner/checkpoints/2020_09_05_08_31_16/checkpoint_8.cpt \n",
      " Namespace(allow_impossible=True, alpha=1, beta=1, cls=False, cpu=False, debug=False, dev_batch=10, dev_path='./datasets/OntoNotes4.0/mrc-ner.dev', dropout_prob=0.2, epochs=10, eval=False, gamma=1, local_rank=2, log_steps=20, lr=8e-06, max_grad_norm=1.0, max_tokens=512, not_store=False, pretrained_model_name_or_path='./pretrained_models/chinese_roberta_wwm_large_ext_pytorch', reduction='mean', seed=209, span_layer=True, theta=1, train_batch=4, train_path='./datasets/OntoNotes4.0/mrc-ner.train', train_span_method='gold', warmup_ratio=-1.0, weight_decay=0.01)\n"
     ]
    },
    {
     "name": "stderr",
     "output_type": "stream",
     "text": [
      "checkpoint_8.cpt: 100%|██████████| 2484/2484 [04:18<00:00,  9.62it/s]\n"
     ]
    },
    {
     "name": "stdout",
     "output_type": "stream",
     "text": [
      "model checkpoint_8.cpt test dataset:\n",
      "precision:0.8109 recall:0.7664 f1:0.7880\n",
      "/home/wangnan/mrc4ner/checkpoints/2020_09_05_08_31_16/checkpoint_9.cpt \n",
      " Namespace(allow_impossible=True, alpha=1, beta=1, cls=False, cpu=False, debug=False, dev_batch=10, dev_path='./datasets/OntoNotes4.0/mrc-ner.dev', dropout_prob=0.2, epochs=10, eval=False, gamma=1, local_rank=2, log_steps=20, lr=8e-06, max_grad_norm=1.0, max_tokens=512, not_store=False, pretrained_model_name_or_path='./pretrained_models/chinese_roberta_wwm_large_ext_pytorch', reduction='mean', seed=209, span_layer=True, theta=1, train_batch=4, train_path='./datasets/OntoNotes4.0/mrc-ner.train', train_span_method='gold', warmup_ratio=-1.0, weight_decay=0.01)\n"
     ]
    },
    {
     "name": "stderr",
     "output_type": "stream",
     "text": [
      "checkpoint_9.cpt: 100%|██████████| 2484/2484 [04:18<00:00,  9.59it/s]"
     ]
    },
    {
     "name": "stdout",
     "output_type": "stream",
     "text": [
      "model checkpoint_9.cpt test dataset:\n",
      "precision:0.8033 recall:0.7994 f1:0.8014\n",
      "[('checkpoint_0.cpt', 0.7863509377695422, 0.771872551479254, 0.7790439809951788), ('checkpoint_1.cpt', 0.8155508134415109, 0.7985113605643103, 0.8069406453705041), ('checkpoint_2.cpt', 0.8094610619568505, 0.8021676676936318, 0.8057973617793182), ('checkpoint_3.cpt', 0.7999230472233009, 0.8144424130563538, 0.8071169376587269), ('checkpoint_4.cpt', 0.8009787927132981, 0.7693914859272144, 0.7848669571381605), ('checkpoint_5.cpt', 0.814684842648848, 0.7881953511637247, 0.8012207119506051), ('checkpoint_6.cpt', 0.8089240250825507, 0.7883259335612005, 0.7984916631945709), ('checkpoint_7.cpt', 0.7955886123627098, 0.8101331939396536, 0.802794530993354), ('checkpoint_8.cpt', 0.8108593533005167, 0.7663880907852718, 0.7879962779504417), ('checkpoint_9.cpt', 0.8033066525648462, 0.7994254373466406, 0.8013608455361506)]\n"
     ]
    },
    {
     "name": "stderr",
     "output_type": "stream",
     "text": [
      "\n"
     ]
    }
   ],
   "source": [
    "#这个是gold + clip grad norm-cls的情况下的结果【我觉得这个总该不会那么差了吧？！我感觉我这个模型就时作者的模型了，只是我以前把gold用成full了】\n",
    "base_dir = '/home/wangnan/mrc4ner/checkpoints/'\n",
    "base_model_dir = '2020_09_05_08_31_16'\n",
    "model_dir = base_dir+base_model_dir+'/'\n",
    "args = pickle.load(open(model_dir+'args','rb'))\n",
    "files = os.listdir(base_dir+base_model_dir)\n",
    "files.remove('args')\n",
    "files = sorted(files)\n",
    "scores = []\n",
    "for file in files:\n",
    "    s = test(model_dir,file,7,args)\n",
    "    scores.append(s)\n",
    "print(scores)"
   ]
  },
  {
   "cell_type": "code",
   "execution_count": null,
   "metadata": {},
   "outputs": [],
   "source": []
  },
  {
   "cell_type": "code",
   "execution_count": null,
   "metadata": {},
   "outputs": [],
   "source": []
  },
  {
   "cell_type": "code",
   "execution_count": null,
   "metadata": {},
   "outputs": [],
   "source": []
  },
  {
   "cell_type": "code",
   "execution_count": null,
   "metadata": {},
   "outputs": [],
   "source": []
  },
  {
   "cell_type": "code",
   "execution_count": 5,
   "metadata": {},
   "outputs": [
    {
     "name": "stdout",
     "output_type": "stream",
     "text": [
      "/home/wangnan/mrc4ner/checkpoints/2020_09_02_21_00_35/checkpoint_0.cpt \n",
      " Namespace(allow_impossible=True, alpha=1, beta=1, cls=True, cpu=False, debug=False, dev_batch=10, dev_path='./datasets/OntoNotes4.0/mrc-ner.dev', dropout_prob=0.1, epochs=10, eval=False, gamma=1, local_rank=2, log_steps=20, lr=8e-06, max_tokens=450, not_store=False, pretrained_model_name_or_path='./pretrained_models/chinese_roberta_wwm_large_ext_pytorch', reduction='mean', seed=209, span_layer=False, theta=1, train_batch=4, train_path='./datasets/OntoNotes4.0/mrc-ner.train', train_span_method='mix', warmup_ratio=0.1, weight_decay=0.01)\n"
     ]
    },
    {
     "name": "stderr",
     "output_type": "stream",
     "text": [
      "checkpoint_0.cpt: 100%|██████████| 2898/2898 [02:52<00:00, 16.80it/s]\n"
     ]
    },
    {
     "name": "stdout",
     "output_type": "stream",
     "text": [
      "model checkpoint_0.cpt test dataset:\n",
      "precision:0.8104 recall:0.4723 f1:0.5968\n",
      "/home/wangnan/mrc4ner/checkpoints/2020_09_02_21_00_35/checkpoint_1.cpt \n",
      " Namespace(allow_impossible=True, alpha=1, beta=1, cls=True, cpu=False, debug=False, dev_batch=10, dev_path='./datasets/OntoNotes4.0/mrc-ner.dev', dropout_prob=0.1, epochs=10, eval=False, gamma=1, local_rank=2, log_steps=20, lr=8e-06, max_tokens=450, not_store=False, pretrained_model_name_or_path='./pretrained_models/chinese_roberta_wwm_large_ext_pytorch', reduction='mean', seed=209, span_layer=False, theta=1, train_batch=4, train_path='./datasets/OntoNotes4.0/mrc-ner.train', train_span_method='mix', warmup_ratio=0.1, weight_decay=0.01)\n"
     ]
    },
    {
     "name": "stderr",
     "output_type": "stream",
     "text": [
      "checkpoint_1.cpt: 100%|██████████| 2898/2898 [03:10<00:00, 15.23it/s]\n"
     ]
    },
    {
     "name": "stdout",
     "output_type": "stream",
     "text": [
      "model checkpoint_1.cpt test dataset:\n",
      "precision:0.7875 recall:0.7102 f1:0.7469\n",
      "/home/wangnan/mrc4ner/checkpoints/2020_09_02_21_00_35/checkpoint_2.cpt \n",
      " Namespace(allow_impossible=True, alpha=1, beta=1, cls=True, cpu=False, debug=False, dev_batch=10, dev_path='./datasets/OntoNotes4.0/mrc-ner.dev', dropout_prob=0.1, epochs=10, eval=False, gamma=1, local_rank=2, log_steps=20, lr=8e-06, max_tokens=450, not_store=False, pretrained_model_name_or_path='./pretrained_models/chinese_roberta_wwm_large_ext_pytorch', reduction='mean', seed=209, span_layer=False, theta=1, train_batch=4, train_path='./datasets/OntoNotes4.0/mrc-ner.train', train_span_method='mix', warmup_ratio=0.1, weight_decay=0.01)\n"
     ]
    },
    {
     "name": "stderr",
     "output_type": "stream",
     "text": [
      "checkpoint_2.cpt: 100%|██████████| 2898/2898 [03:19<00:00, 14.55it/s]\n"
     ]
    },
    {
     "name": "stdout",
     "output_type": "stream",
     "text": [
      "model checkpoint_2.cpt test dataset:\n",
      "precision:0.7311 recall:0.8100 f1:0.7686\n",
      "/home/wangnan/mrc4ner/checkpoints/2020_09_02_21_00_35/checkpoint_3.cpt \n",
      " Namespace(allow_impossible=True, alpha=1, beta=1, cls=True, cpu=False, debug=False, dev_batch=10, dev_path='./datasets/OntoNotes4.0/mrc-ner.dev', dropout_prob=0.1, epochs=10, eval=False, gamma=1, local_rank=2, log_steps=20, lr=8e-06, max_tokens=450, not_store=False, pretrained_model_name_or_path='./pretrained_models/chinese_roberta_wwm_large_ext_pytorch', reduction='mean', seed=209, span_layer=False, theta=1, train_batch=4, train_path='./datasets/OntoNotes4.0/mrc-ner.train', train_span_method='mix', warmup_ratio=0.1, weight_decay=0.01)\n"
     ]
    },
    {
     "name": "stderr",
     "output_type": "stream",
     "text": [
      "checkpoint_3.cpt: 100%|██████████| 2898/2898 [03:17<00:00, 14.64it/s]\n"
     ]
    },
    {
     "name": "stdout",
     "output_type": "stream",
     "text": [
      "model checkpoint_3.cpt test dataset:\n",
      "precision:0.8770 recall:0.6519 f1:0.7479\n",
      "/home/wangnan/mrc4ner/checkpoints/2020_09_02_21_00_35/checkpoint_4.cpt \n",
      " Namespace(allow_impossible=True, alpha=1, beta=1, cls=True, cpu=False, debug=False, dev_batch=10, dev_path='./datasets/OntoNotes4.0/mrc-ner.dev', dropout_prob=0.1, epochs=10, eval=False, gamma=1, local_rank=2, log_steps=20, lr=8e-06, max_tokens=450, not_store=False, pretrained_model_name_or_path='./pretrained_models/chinese_roberta_wwm_large_ext_pytorch', reduction='mean', seed=209, span_layer=False, theta=1, train_batch=4, train_path='./datasets/OntoNotes4.0/mrc-ner.train', train_span_method='mix', warmup_ratio=0.1, weight_decay=0.01)\n"
     ]
    },
    {
     "name": "stderr",
     "output_type": "stream",
     "text": [
      "checkpoint_4.cpt: 100%|██████████| 2898/2898 [03:24<00:00, 14.19it/s]\n"
     ]
    },
    {
     "name": "stdout",
     "output_type": "stream",
     "text": [
      "model checkpoint_4.cpt test dataset:\n",
      "precision:0.8124 recall:0.7874 f1:0.7997\n",
      "/home/wangnan/mrc4ner/checkpoints/2020_09_02_21_00_35/checkpoint_5.cpt \n",
      " Namespace(allow_impossible=True, alpha=1, beta=1, cls=True, cpu=False, debug=False, dev_batch=10, dev_path='./datasets/OntoNotes4.0/mrc-ner.dev', dropout_prob=0.1, epochs=10, eval=False, gamma=1, local_rank=2, log_steps=20, lr=8e-06, max_tokens=450, not_store=False, pretrained_model_name_or_path='./pretrained_models/chinese_roberta_wwm_large_ext_pytorch', reduction='mean', seed=209, span_layer=False, theta=1, train_batch=4, train_path='./datasets/OntoNotes4.0/mrc-ner.train', train_span_method='mix', warmup_ratio=0.1, weight_decay=0.01)\n"
     ]
    },
    {
     "name": "stderr",
     "output_type": "stream",
     "text": [
      "checkpoint_5.cpt: 100%|██████████| 2898/2898 [03:21<00:00, 14.39it/s]\n"
     ]
    },
    {
     "name": "stdout",
     "output_type": "stream",
     "text": [
      "model checkpoint_5.cpt test dataset:\n",
      "precision:0.8302 recall:0.7655 f1:0.7965\n",
      "/home/wangnan/mrc4ner/checkpoints/2020_09_02_21_00_35/checkpoint_6.cpt \n",
      " Namespace(allow_impossible=True, alpha=1, beta=1, cls=True, cpu=False, debug=False, dev_batch=10, dev_path='./datasets/OntoNotes4.0/mrc-ner.dev', dropout_prob=0.1, epochs=10, eval=False, gamma=1, local_rank=2, log_steps=20, lr=8e-06, max_tokens=450, not_store=False, pretrained_model_name_or_path='./pretrained_models/chinese_roberta_wwm_large_ext_pytorch', reduction='mean', seed=209, span_layer=False, theta=1, train_batch=4, train_path='./datasets/OntoNotes4.0/mrc-ner.train', train_span_method='mix', warmup_ratio=0.1, weight_decay=0.01)\n"
     ]
    },
    {
     "name": "stderr",
     "output_type": "stream",
     "text": [
      "checkpoint_6.cpt: 100%|██████████| 2898/2898 [03:10<00:00, 15.21it/s]\n"
     ]
    },
    {
     "name": "stdout",
     "output_type": "stream",
     "text": [
      "model checkpoint_6.cpt test dataset:\n",
      "precision:0.8283 recall:0.7596 f1:0.7925\n",
      "/home/wangnan/mrc4ner/checkpoints/2020_09_02_21_00_35/checkpoint_7.cpt \n",
      " Namespace(allow_impossible=True, alpha=1, beta=1, cls=True, cpu=False, debug=False, dev_batch=10, dev_path='./datasets/OntoNotes4.0/mrc-ner.dev', dropout_prob=0.1, epochs=10, eval=False, gamma=1, local_rank=2, log_steps=20, lr=8e-06, max_tokens=450, not_store=False, pretrained_model_name_or_path='./pretrained_models/chinese_roberta_wwm_large_ext_pytorch', reduction='mean', seed=209, span_layer=False, theta=1, train_batch=4, train_path='./datasets/OntoNotes4.0/mrc-ner.train', train_span_method='mix', warmup_ratio=0.1, weight_decay=0.01)\n"
     ]
    },
    {
     "name": "stderr",
     "output_type": "stream",
     "text": [
      "checkpoint_7.cpt: 100%|██████████| 2898/2898 [02:57<00:00, 16.29it/s]\n"
     ]
    },
    {
     "name": "stdout",
     "output_type": "stream",
     "text": [
      "model checkpoint_7.cpt test dataset:\n",
      "precision:0.8213 recall:0.7702 f1:0.7949\n",
      "/home/wangnan/mrc4ner/checkpoints/2020_09_02_21_00_35/checkpoint_8.cpt \n",
      " Namespace(allow_impossible=True, alpha=1, beta=1, cls=True, cpu=False, debug=False, dev_batch=10, dev_path='./datasets/OntoNotes4.0/mrc-ner.dev', dropout_prob=0.1, epochs=10, eval=False, gamma=1, local_rank=2, log_steps=20, lr=8e-06, max_tokens=450, not_store=False, pretrained_model_name_or_path='./pretrained_models/chinese_roberta_wwm_large_ext_pytorch', reduction='mean', seed=209, span_layer=False, theta=1, train_batch=4, train_path='./datasets/OntoNotes4.0/mrc-ner.train', train_span_method='mix', warmup_ratio=0.1, weight_decay=0.01)\n"
     ]
    },
    {
     "name": "stderr",
     "output_type": "stream",
     "text": [
      "checkpoint_8.cpt: 100%|██████████| 2898/2898 [02:58<00:00, 16.23it/s]\n"
     ]
    },
    {
     "name": "stdout",
     "output_type": "stream",
     "text": [
      "model checkpoint_8.cpt test dataset:\n",
      "precision:0.8161 recall:0.7727 f1:0.7938\n",
      "/home/wangnan/mrc4ner/checkpoints/2020_09_02_21_00_35/checkpoint_9.cpt \n",
      " Namespace(allow_impossible=True, alpha=1, beta=1, cls=True, cpu=False, debug=False, dev_batch=10, dev_path='./datasets/OntoNotes4.0/mrc-ner.dev', dropout_prob=0.1, epochs=10, eval=False, gamma=1, local_rank=2, log_steps=20, lr=8e-06, max_tokens=450, not_store=False, pretrained_model_name_or_path='./pretrained_models/chinese_roberta_wwm_large_ext_pytorch', reduction='mean', seed=209, span_layer=False, theta=1, train_batch=4, train_path='./datasets/OntoNotes4.0/mrc-ner.train', train_span_method='mix', warmup_ratio=0.1, weight_decay=0.01)\n"
     ]
    },
    {
     "name": "stderr",
     "output_type": "stream",
     "text": [
      "checkpoint_9.cpt: 100%|██████████| 2898/2898 [02:58<00:00, 16.25it/s]"
     ]
    },
    {
     "name": "stdout",
     "output_type": "stream",
     "text": [
      "model checkpoint_9.cpt test dataset:\n",
      "precision:0.8212 recall:0.7732 f1:0.7965\n",
      "[('checkpoint_0.cpt', 0.8104414069436608, 0.47231653166984633, 0.5968149789125622), ('checkpoint_1.cpt', 0.7874619949634484, 0.7102376598706923, 0.7468584095690113), ('checkpoint_2.cpt', 0.7311409711538023, 0.8100026115421778, 0.7685535837319837), ('checkpoint_3.cpt', 0.8770203793258924, 0.6518673281990248, 0.7478646792712313), ('checkpoint_4.cpt', 0.8124494744257007, 0.7874118567788702, 0.7997342480273161), ('checkpoint_5.cpt', 0.8301940233918433, 0.7654740140029415, 0.7965210035341169), ('checkpoint_6.cpt', 0.8282785133378501, 0.7595978061165319, 0.7924523310164563), ('checkpoint_7.cpt', 0.8213340759196025, 0.7701749803120691, 0.7949317734740468), ('checkpoint_8.cpt', 0.816137930921912, 0.7726560458641086, 0.7938014857794559), ('checkpoint_9.cpt', 0.8212205269318695, 0.7731783754540117, 0.796475152754993)]\n"
     ]
    },
    {
     "name": "stderr",
     "output_type": "stream",
     "text": [
      "\n"
     ]
    }
   ],
   "source": [
    "#这个是没有span layer\n",
    "base_dir = '/home/wangnan/mrc4ner/checkpoints/'\n",
    "base_model_dir = '2020_09_02_21_00_35'\n",
    "model_dir = base_dir+base_model_dir+'/'\n",
    "args = pickle.load(open(model_dir+'args','rb'))\n",
    "files = os.listdir(base_dir+base_model_dir)\n",
    "files.remove('args')\n",
    "files = sorted(files)\n",
    "scores = []\n",
    "for file in files:\n",
    "    s = test(model_dir,file,6,args)\n",
    "    scores.append(s)\n",
    "print(scores)"
   ]
  },
  {
   "cell_type": "code",
   "execution_count": null,
   "metadata": {},
   "outputs": [],
   "source": []
  },
  {
   "cell_type": "code",
   "execution_count": null,
   "metadata": {},
   "outputs": [],
   "source": []
  },
  {
   "cell_type": "code",
   "execution_count": null,
   "metadata": {},
   "outputs": [],
   "source": []
  },
  {
   "cell_type": "code",
   "execution_count": null,
   "metadata": {},
   "outputs": [],
   "source": []
  },
  {
   "cell_type": "code",
   "execution_count": 5,
   "metadata": {},
   "outputs": [],
   "source": [
    "base_dir = '/home/wangnan/mrc4ner/checkpoints/'\n",
    "base_model_dir = '2020_09_01_02_12_42'\n",
    "model_dir = base_dir+base_model_dir+'/'\n",
    "args = pickle.load(open(model_dir+'args','rb'))\n",
    "files = os.listdir(base_dir+base_model_dir)\n",
    "files.remove('args')\n",
    "files = sorted(files)"
   ]
  },
  {
   "cell_type": "code",
   "execution_count": 6,
   "metadata": {},
   "outputs": [
    {
     "name": "stdout",
     "output_type": "stream",
     "text": [
      "/home/wangnan/mrc4ner/checkpoints/2020_09_01_02_12_42/checkpoint_0.cpt \n",
      " Namespace(allow_impossible=True, alpha=1, beta=1, cls=True, cpu=False, debug=False, dev_batch=10, dev_path='./datasets/OntoNotes4.0/mrc-ner.dev', dropout_prob=0.1, epochs=10, eval=False, gamma=1, local_rank=2, log_steps=20, lr=5e-05, max_tokens=512, not_store=False, pretrained_model_name_or_path='./pretrained_models/chinese_roberta_wwm_large_ext_pytorch', reduction='mean', seed=209, span_layer=True, theta=1, train_batch=4, train_path='./datasets/OntoNotes4.0/mrc-ner.train', train_span_method='mix', warmup_ratio=0.1, weight_decay=0.01)\n"
     ]
    },
    {
     "name": "stderr",
     "output_type": "stream",
     "text": [
      "checkpoint_0.cpt: 100%|██████████| 2484/2484 [04:20<00:00,  9.54it/s]\n"
     ]
    },
    {
     "name": "stdout",
     "output_type": "stream",
     "text": [
      "model checkpoint_0.cpt test dataset:\n",
      "precision:0.5226 recall:0.4898 f1:0.5057\n",
      "/home/wangnan/mrc4ner/checkpoints/2020_09_01_02_12_42/checkpoint_1.cpt \n",
      " Namespace(allow_impossible=True, alpha=1, beta=1, cls=True, cpu=False, debug=False, dev_batch=10, dev_path='./datasets/OntoNotes4.0/mrc-ner.dev', dropout_prob=0.1, epochs=10, eval=False, gamma=1, local_rank=2, log_steps=20, lr=5e-05, max_tokens=512, not_store=False, pretrained_model_name_or_path='./pretrained_models/chinese_roberta_wwm_large_ext_pytorch', reduction='mean', seed=209, span_layer=True, theta=1, train_batch=4, train_path='./datasets/OntoNotes4.0/mrc-ner.train', train_span_method='mix', warmup_ratio=0.1, weight_decay=0.01)\n"
     ]
    },
    {
     "name": "stderr",
     "output_type": "stream",
     "text": [
      "checkpoint_1.cpt: 100%|██████████| 2484/2484 [04:24<00:00,  9.39it/s]\n"
     ]
    },
    {
     "name": "stdout",
     "output_type": "stream",
     "text": [
      "model checkpoint_1.cpt test dataset:\n",
      "precision:0.6151 recall:0.4888 f1:0.5447\n",
      "/home/wangnan/mrc4ner/checkpoints/2020_09_01_02_12_42/checkpoint_2.cpt \n",
      " Namespace(allow_impossible=True, alpha=1, beta=1, cls=True, cpu=False, debug=False, dev_batch=10, dev_path='./datasets/OntoNotes4.0/mrc-ner.dev', dropout_prob=0.1, epochs=10, eval=False, gamma=1, local_rank=2, log_steps=20, lr=5e-05, max_tokens=512, not_store=False, pretrained_model_name_or_path='./pretrained_models/chinese_roberta_wwm_large_ext_pytorch', reduction='mean', seed=209, span_layer=True, theta=1, train_batch=4, train_path='./datasets/OntoNotes4.0/mrc-ner.train', train_span_method='mix', warmup_ratio=0.1, weight_decay=0.01)\n"
     ]
    },
    {
     "name": "stderr",
     "output_type": "stream",
     "text": [
      "checkpoint_2.cpt: 100%|██████████| 2484/2484 [04:21<00:00,  9.52it/s]\n"
     ]
    },
    {
     "name": "stdout",
     "output_type": "stream",
     "text": [
      "model checkpoint_2.cpt test dataset:\n",
      "precision:0.0000 recall:0.0000 f1:0.0000\n",
      "/home/wangnan/mrc4ner/checkpoints/2020_09_01_02_12_42/checkpoint_3.cpt \n",
      " Namespace(allow_impossible=True, alpha=1, beta=1, cls=True, cpu=False, debug=False, dev_batch=10, dev_path='./datasets/OntoNotes4.0/mrc-ner.dev', dropout_prob=0.1, epochs=10, eval=False, gamma=1, local_rank=2, log_steps=20, lr=5e-05, max_tokens=512, not_store=False, pretrained_model_name_or_path='./pretrained_models/chinese_roberta_wwm_large_ext_pytorch', reduction='mean', seed=209, span_layer=True, theta=1, train_batch=4, train_path='./datasets/OntoNotes4.0/mrc-ner.train', train_span_method='mix', warmup_ratio=0.1, weight_decay=0.01)\n"
     ]
    },
    {
     "name": "stderr",
     "output_type": "stream",
     "text": [
      "checkpoint_3.cpt: 100%|██████████| 2484/2484 [04:19<00:00,  9.56it/s]\n"
     ]
    },
    {
     "name": "stdout",
     "output_type": "stream",
     "text": [
      "model checkpoint_3.cpt test dataset:\n",
      "precision:0.0000 recall:0.0000 f1:0.0000\n",
      "/home/wangnan/mrc4ner/checkpoints/2020_09_01_02_12_42/checkpoint_4.cpt \n",
      " Namespace(allow_impossible=True, alpha=1, beta=1, cls=True, cpu=False, debug=False, dev_batch=10, dev_path='./datasets/OntoNotes4.0/mrc-ner.dev', dropout_prob=0.1, epochs=10, eval=False, gamma=1, local_rank=2, log_steps=20, lr=5e-05, max_tokens=512, not_store=False, pretrained_model_name_or_path='./pretrained_models/chinese_roberta_wwm_large_ext_pytorch', reduction='mean', seed=209, span_layer=True, theta=1, train_batch=4, train_path='./datasets/OntoNotes4.0/mrc-ner.train', train_span_method='mix', warmup_ratio=0.1, weight_decay=0.01)\n"
     ]
    },
    {
     "name": "stderr",
     "output_type": "stream",
     "text": [
      "checkpoint_4.cpt: 100%|██████████| 2484/2484 [04:21<00:00,  9.50it/s]\n"
     ]
    },
    {
     "name": "stdout",
     "output_type": "stream",
     "text": [
      "model checkpoint_4.cpt test dataset:\n",
      "precision:0.0000 recall:0.0000 f1:0.0000\n",
      "/home/wangnan/mrc4ner/checkpoints/2020_09_01_02_12_42/checkpoint_5.cpt \n",
      " Namespace(allow_impossible=True, alpha=1, beta=1, cls=True, cpu=False, debug=False, dev_batch=10, dev_path='./datasets/OntoNotes4.0/mrc-ner.dev', dropout_prob=0.1, epochs=10, eval=False, gamma=1, local_rank=2, log_steps=20, lr=5e-05, max_tokens=512, not_store=False, pretrained_model_name_or_path='./pretrained_models/chinese_roberta_wwm_large_ext_pytorch', reduction='mean', seed=209, span_layer=True, theta=1, train_batch=4, train_path='./datasets/OntoNotes4.0/mrc-ner.train', train_span_method='mix', warmup_ratio=0.1, weight_decay=0.01)\n"
     ]
    },
    {
     "name": "stderr",
     "output_type": "stream",
     "text": [
      "checkpoint_5.cpt: 100%|██████████| 2484/2484 [04:21<00:00,  9.49it/s]\n"
     ]
    },
    {
     "name": "stdout",
     "output_type": "stream",
     "text": [
      "model checkpoint_5.cpt test dataset:\n",
      "precision:0.0000 recall:0.0000 f1:0.0000\n",
      "/home/wangnan/mrc4ner/checkpoints/2020_09_01_02_12_42/checkpoint_6.cpt \n",
      " Namespace(allow_impossible=True, alpha=1, beta=1, cls=True, cpu=False, debug=False, dev_batch=10, dev_path='./datasets/OntoNotes4.0/mrc-ner.dev', dropout_prob=0.1, epochs=10, eval=False, gamma=1, local_rank=2, log_steps=20, lr=5e-05, max_tokens=512, not_store=False, pretrained_model_name_or_path='./pretrained_models/chinese_roberta_wwm_large_ext_pytorch', reduction='mean', seed=209, span_layer=True, theta=1, train_batch=4, train_path='./datasets/OntoNotes4.0/mrc-ner.train', train_span_method='mix', warmup_ratio=0.1, weight_decay=0.01)\n"
     ]
    },
    {
     "name": "stderr",
     "output_type": "stream",
     "text": [
      "checkpoint_6.cpt: 100%|██████████| 2484/2484 [04:19<00:00,  9.58it/s]\n"
     ]
    },
    {
     "name": "stdout",
     "output_type": "stream",
     "text": [
      "model checkpoint_6.cpt test dataset:\n",
      "precision:0.0000 recall:0.0000 f1:0.0000\n",
      "/home/wangnan/mrc4ner/checkpoints/2020_09_01_02_12_42/checkpoint_7.cpt \n",
      " Namespace(allow_impossible=True, alpha=1, beta=1, cls=True, cpu=False, debug=False, dev_batch=10, dev_path='./datasets/OntoNotes4.0/mrc-ner.dev', dropout_prob=0.1, epochs=10, eval=False, gamma=1, local_rank=2, log_steps=20, lr=5e-05, max_tokens=512, not_store=False, pretrained_model_name_or_path='./pretrained_models/chinese_roberta_wwm_large_ext_pytorch', reduction='mean', seed=209, span_layer=True, theta=1, train_batch=4, train_path='./datasets/OntoNotes4.0/mrc-ner.train', train_span_method='mix', warmup_ratio=0.1, weight_decay=0.01)\n"
     ]
    },
    {
     "name": "stderr",
     "output_type": "stream",
     "text": [
      "checkpoint_7.cpt: 100%|██████████| 2484/2484 [04:21<00:00,  9.50it/s]\n"
     ]
    },
    {
     "name": "stdout",
     "output_type": "stream",
     "text": [
      "model checkpoint_7.cpt test dataset:\n",
      "precision:0.0000 recall:0.0000 f1:0.0000\n",
      "/home/wangnan/mrc4ner/checkpoints/2020_09_01_02_12_42/checkpoint_8.cpt \n",
      " Namespace(allow_impossible=True, alpha=1, beta=1, cls=True, cpu=False, debug=False, dev_batch=10, dev_path='./datasets/OntoNotes4.0/mrc-ner.dev', dropout_prob=0.1, epochs=10, eval=False, gamma=1, local_rank=2, log_steps=20, lr=5e-05, max_tokens=512, not_store=False, pretrained_model_name_or_path='./pretrained_models/chinese_roberta_wwm_large_ext_pytorch', reduction='mean', seed=209, span_layer=True, theta=1, train_batch=4, train_path='./datasets/OntoNotes4.0/mrc-ner.train', train_span_method='mix', warmup_ratio=0.1, weight_decay=0.01)\n"
     ]
    },
    {
     "name": "stderr",
     "output_type": "stream",
     "text": [
      "checkpoint_8.cpt: 100%|██████████| 2484/2484 [04:20<00:00,  9.52it/s]\n"
     ]
    },
    {
     "name": "stdout",
     "output_type": "stream",
     "text": [
      "model checkpoint_8.cpt test dataset:\n",
      "precision:0.0000 recall:0.0000 f1:0.0000\n",
      "/home/wangnan/mrc4ner/checkpoints/2020_09_01_02_12_42/checkpoint_9.cpt \n",
      " Namespace(allow_impossible=True, alpha=1, beta=1, cls=True, cpu=False, debug=False, dev_batch=10, dev_path='./datasets/OntoNotes4.0/mrc-ner.dev', dropout_prob=0.1, epochs=10, eval=False, gamma=1, local_rank=2, log_steps=20, lr=5e-05, max_tokens=512, not_store=False, pretrained_model_name_or_path='./pretrained_models/chinese_roberta_wwm_large_ext_pytorch', reduction='mean', seed=209, span_layer=True, theta=1, train_batch=4, train_path='./datasets/OntoNotes4.0/mrc-ner.train', train_span_method='mix', warmup_ratio=0.1, weight_decay=0.01)\n"
     ]
    },
    {
     "name": "stderr",
     "output_type": "stream",
     "text": [
      "checkpoint_9.cpt: 100%|██████████| 2484/2484 [04:21<00:00,  9.49it/s]"
     ]
    },
    {
     "name": "stdout",
     "output_type": "stream",
     "text": [
      "model checkpoint_9.cpt test dataset:\n",
      "precision:0.0000 recall:0.0000 f1:0.0000\n",
      "[('checkpoint_0.cpt', 0.5225689606404891, 0.489814572931599, 0.505661403933735), ('checkpoint_1.cpt', 0.6151191453385177, 0.4887699137517929, 0.5447131788865711), ('checkpoint_2.cpt', 0.0, 0.0, 0.0), ('checkpoint_3.cpt', 0.0, 0.0, 0.0), ('checkpoint_4.cpt', 0.0, 0.0, 0.0), ('checkpoint_5.cpt', 0.0, 0.0, 0.0), ('checkpoint_6.cpt', 0.0, 0.0, 0.0), ('checkpoint_7.cpt', 0.0, 0.0, 0.0), ('checkpoint_8.cpt', 0.0, 0.0, 0.0), ('checkpoint_9.cpt', 0.0, 0.0, 0.0)]\n"
     ]
    },
    {
     "name": "stderr",
     "output_type": "stream",
     "text": [
      "\n"
     ]
    }
   ],
   "source": [
    "scores = []\n",
    "for file in files:\n",
    "    s = test(model_dir,file,7,args)\n",
    "    scores.append(s)\n",
    "print(scores)"
   ]
  },
  {
   "cell_type": "code",
   "execution_count": 1,
   "metadata": {},
   "outputs": [],
   "source": [
    "model_id = '2020_09_01_02_12_42'\n",
    "scores = [('checkpoint_0.cpt', 0.5225689606404891, 0.489814572931599, 0.505661403933735), ('checkpoint_1.cpt', 0.6151191453385177, 0.4887699137517929, 0.5447131788865711), ('checkpoint_2.cpt', 0.0, 0.0, 0.0), ('checkpoint_3.cpt', 0.0, 0.0, 0.0), ('checkpoint_4.cpt', 0.0, 0.0, 0.0), ('checkpoint_5.cpt', 0.0, 0.0, 0.0), ('checkpoint_6.cpt', 0.0, 0.0, 0.0), ('checkpoint_7.cpt', 0.0, 0.0, 0.0), ('checkpoint_8.cpt', 0.0, 0.0, 0.0), ('checkpoint_9.cpt', 0.0, 0.0, 0.0)]\n",
    "scores1 = []\n",
    "for i,s in enumerate(scores):\n",
    "    scores1.append((model_id+\"_\"+str(i),s[1],s[2],s[3]))\n",
    "import pickle\n",
    "import json\n",
    "args = pickle.load(open('/home/wangnan/mrc4ner/checkpoints/'+model_id+'/args','rb'))\n",
    "args = vars(args)\n",
    "with open(\"/home/wangnan/mrc4ner/checkpoints/pre_results.json\") as f:\n",
    "    pre = json.load(f)\n",
    "pre['args']+=[args]*len(scores1)\n",
    "pre['scores']+=scores1\n",
    "with open(\"/home/wangnan/mrc4ner/checkpoints/pre_results.json\",'w') as f:\n",
    "    json.dump(pre,f)"
   ]
  },
  {
   "cell_type": "code",
   "execution_count": null,
   "metadata": {},
   "outputs": [],
   "source": []
  },
  {
   "cell_type": "code",
   "execution_count": 5,
   "metadata": {},
   "outputs": [
    {
     "name": "stdout",
     "output_type": "stream",
     "text": [
      "/home/wangnan/mrc4ner/checkpoints/2020_09_01_12_49_41/checkpoint_0.cpt \n",
      " Namespace(allow_impossible=True, alpha=1, beta=1, cls=True, cpu=False, debug=False, dev_batch=10, dev_path='./datasets/OntoNotes4.0/mrc-ner.dev', dropout_prob=0.1, epochs=10, eval=False, gamma=1, local_rank=2, log_steps=20, lr=2e-05, max_tokens=512, not_store=False, pretrained_model_name_or_path='./pretrained_models/chinese_roberta_wwm_large_ext_pytorch', reduction='mean', seed=209, span_layer=True, theta=1, train_batch=4, train_path='./datasets/OntoNotes4.0/mrc-ner.train', train_span_method='full', warmup_ratio=0.1, weight_decay=0.01)\n"
     ]
    },
    {
     "name": "stderr",
     "output_type": "stream",
     "text": [
      "checkpoint_0.cpt: 100%|██████████| 2898/2898 [04:11<00:00, 11.52it/s]\n"
     ]
    },
    {
     "name": "stdout",
     "output_type": "stream",
     "text": [
      "model checkpoint_0.cpt test dataset:\n",
      "precision:0.5261 recall:0.4045 f1:0.4574\n",
      "/home/wangnan/mrc4ner/checkpoints/2020_09_01_12_49_41/checkpoint_1.cpt \n",
      " Namespace(allow_impossible=True, alpha=1, beta=1, cls=True, cpu=False, debug=False, dev_batch=10, dev_path='./datasets/OntoNotes4.0/mrc-ner.dev', dropout_prob=0.1, epochs=10, eval=False, gamma=1, local_rank=2, log_steps=20, lr=2e-05, max_tokens=512, not_store=False, pretrained_model_name_or_path='./pretrained_models/chinese_roberta_wwm_large_ext_pytorch', reduction='mean', seed=209, span_layer=True, theta=1, train_batch=4, train_path='./datasets/OntoNotes4.0/mrc-ner.train', train_span_method='full', warmup_ratio=0.1, weight_decay=0.01)\n"
     ]
    },
    {
     "name": "stderr",
     "output_type": "stream",
     "text": [
      "checkpoint_1.cpt: 100%|██████████| 2898/2898 [04:11<00:00, 11.53it/s]\n"
     ]
    },
    {
     "name": "stdout",
     "output_type": "stream",
     "text": [
      "model checkpoint_1.cpt test dataset:\n",
      "precision:0.4566 recall:0.7605 f1:0.5706\n",
      "/home/wangnan/mrc4ner/checkpoints/2020_09_01_12_49_41/checkpoint_2.cpt \n",
      " Namespace(allow_impossible=True, alpha=1, beta=1, cls=True, cpu=False, debug=False, dev_batch=10, dev_path='./datasets/OntoNotes4.0/mrc-ner.dev', dropout_prob=0.1, epochs=10, eval=False, gamma=1, local_rank=2, log_steps=20, lr=2e-05, max_tokens=512, not_store=False, pretrained_model_name_or_path='./pretrained_models/chinese_roberta_wwm_large_ext_pytorch', reduction='mean', seed=209, span_layer=True, theta=1, train_batch=4, train_path='./datasets/OntoNotes4.0/mrc-ner.train', train_span_method='full', warmup_ratio=0.1, weight_decay=0.01)\n"
     ]
    },
    {
     "name": "stderr",
     "output_type": "stream",
     "text": [
      "checkpoint_2.cpt: 100%|██████████| 2898/2898 [04:13<00:00, 11.45it/s]\n"
     ]
    },
    {
     "name": "stdout",
     "output_type": "stream",
     "text": [
      "model checkpoint_2.cpt test dataset:\n",
      "precision:0.4674 recall:0.7347 f1:0.5713\n",
      "/home/wangnan/mrc4ner/checkpoints/2020_09_01_12_49_41/checkpoint_3.cpt \n",
      " Namespace(allow_impossible=True, alpha=1, beta=1, cls=True, cpu=False, debug=False, dev_batch=10, dev_path='./datasets/OntoNotes4.0/mrc-ner.dev', dropout_prob=0.1, epochs=10, eval=False, gamma=1, local_rank=2, log_steps=20, lr=2e-05, max_tokens=512, not_store=False, pretrained_model_name_or_path='./pretrained_models/chinese_roberta_wwm_large_ext_pytorch', reduction='mean', seed=209, span_layer=True, theta=1, train_batch=4, train_path='./datasets/OntoNotes4.0/mrc-ner.train', train_span_method='full', warmup_ratio=0.1, weight_decay=0.01)\n"
     ]
    },
    {
     "name": "stderr",
     "output_type": "stream",
     "text": [
      "checkpoint_3.cpt: 100%|██████████| 2898/2898 [04:12<00:00, 11.49it/s]\n"
     ]
    },
    {
     "name": "stdout",
     "output_type": "stream",
     "text": [
      "model checkpoint_3.cpt test dataset:\n",
      "precision:0.4621 recall:0.7523 f1:0.5725\n",
      "/home/wangnan/mrc4ner/checkpoints/2020_09_01_12_49_41/checkpoint_4.cpt \n",
      " Namespace(allow_impossible=True, alpha=1, beta=1, cls=True, cpu=False, debug=False, dev_batch=10, dev_path='./datasets/OntoNotes4.0/mrc-ner.dev', dropout_prob=0.1, epochs=10, eval=False, gamma=1, local_rank=2, log_steps=20, lr=2e-05, max_tokens=512, not_store=False, pretrained_model_name_or_path='./pretrained_models/chinese_roberta_wwm_large_ext_pytorch', reduction='mean', seed=209, span_layer=True, theta=1, train_batch=4, train_path='./datasets/OntoNotes4.0/mrc-ner.train', train_span_method='full', warmup_ratio=0.1, weight_decay=0.01)\n"
     ]
    },
    {
     "name": "stderr",
     "output_type": "stream",
     "text": [
      "checkpoint_4.cpt: 100%|██████████| 2898/2898 [04:13<00:00, 11.44it/s]\n"
     ]
    },
    {
     "name": "stdout",
     "output_type": "stream",
     "text": [
      "model checkpoint_4.cpt test dataset:\n",
      "precision:0.4296 recall:0.7997 f1:0.5589\n",
      "/home/wangnan/mrc4ner/checkpoints/2020_09_01_12_49_41/checkpoint_5.cpt \n",
      " Namespace(allow_impossible=True, alpha=1, beta=1, cls=True, cpu=False, debug=False, dev_batch=10, dev_path='./datasets/OntoNotes4.0/mrc-ner.dev', dropout_prob=0.1, epochs=10, eval=False, gamma=1, local_rank=2, log_steps=20, lr=2e-05, max_tokens=512, not_store=False, pretrained_model_name_or_path='./pretrained_models/chinese_roberta_wwm_large_ext_pytorch', reduction='mean', seed=209, span_layer=True, theta=1, train_batch=4, train_path='./datasets/OntoNotes4.0/mrc-ner.train', train_span_method='full', warmup_ratio=0.1, weight_decay=0.01)\n"
     ]
    },
    {
     "name": "stderr",
     "output_type": "stream",
     "text": [
      "checkpoint_5.cpt: 100%|██████████| 2898/2898 [04:13<00:00, 11.43it/s]\n"
     ]
    },
    {
     "name": "stdout",
     "output_type": "stream",
     "text": [
      "model checkpoint_5.cpt test dataset:\n",
      "precision:0.4282 recall:0.8050 f1:0.5591\n",
      "/home/wangnan/mrc4ner/checkpoints/2020_09_01_12_49_41/checkpoint_6.cpt \n",
      " Namespace(allow_impossible=True, alpha=1, beta=1, cls=True, cpu=False, debug=False, dev_batch=10, dev_path='./datasets/OntoNotes4.0/mrc-ner.dev', dropout_prob=0.1, epochs=10, eval=False, gamma=1, local_rank=2, log_steps=20, lr=2e-05, max_tokens=512, not_store=False, pretrained_model_name_or_path='./pretrained_models/chinese_roberta_wwm_large_ext_pytorch', reduction='mean', seed=209, span_layer=True, theta=1, train_batch=4, train_path='./datasets/OntoNotes4.0/mrc-ner.train', train_span_method='full', warmup_ratio=0.1, weight_decay=0.01)\n"
     ]
    },
    {
     "name": "stderr",
     "output_type": "stream",
     "text": [
      "checkpoint_6.cpt: 100%|██████████| 2898/2898 [04:14<00:00, 11.39it/s]\n"
     ]
    },
    {
     "name": "stdout",
     "output_type": "stream",
     "text": [
      "model checkpoint_6.cpt test dataset:\n",
      "precision:0.4321 recall:0.7787 f1:0.5558\n",
      "/home/wangnan/mrc4ner/checkpoints/2020_09_01_12_49_41/checkpoint_7.cpt \n",
      " Namespace(allow_impossible=True, alpha=1, beta=1, cls=True, cpu=False, debug=False, dev_batch=10, dev_path='./datasets/OntoNotes4.0/mrc-ner.dev', dropout_prob=0.1, epochs=10, eval=False, gamma=1, local_rank=2, log_steps=20, lr=2e-05, max_tokens=512, not_store=False, pretrained_model_name_or_path='./pretrained_models/chinese_roberta_wwm_large_ext_pytorch', reduction='mean', seed=209, span_layer=True, theta=1, train_batch=4, train_path='./datasets/OntoNotes4.0/mrc-ner.train', train_span_method='full', warmup_ratio=0.1, weight_decay=0.01)\n"
     ]
    },
    {
     "name": "stderr",
     "output_type": "stream",
     "text": [
      "checkpoint_7.cpt: 100%|██████████| 2898/2898 [04:14<00:00, 11.40it/s]\n"
     ]
    },
    {
     "name": "stdout",
     "output_type": "stream",
     "text": [
      "model checkpoint_7.cpt test dataset:\n",
      "precision:0.4265 recall:0.7832 f1:0.5523\n",
      "/home/wangnan/mrc4ner/checkpoints/2020_09_01_12_49_41/checkpoint_8.cpt \n",
      " Namespace(allow_impossible=True, alpha=1, beta=1, cls=True, cpu=False, debug=False, dev_batch=10, dev_path='./datasets/OntoNotes4.0/mrc-ner.dev', dropout_prob=0.1, epochs=10, eval=False, gamma=1, local_rank=2, log_steps=20, lr=2e-05, max_tokens=512, not_store=False, pretrained_model_name_or_path='./pretrained_models/chinese_roberta_wwm_large_ext_pytorch', reduction='mean', seed=209, span_layer=True, theta=1, train_batch=4, train_path='./datasets/OntoNotes4.0/mrc-ner.train', train_span_method='full', warmup_ratio=0.1, weight_decay=0.01)\n"
     ]
    },
    {
     "name": "stderr",
     "output_type": "stream",
     "text": [
      "checkpoint_8.cpt: 100%|██████████| 2898/2898 [04:15<00:00, 11.35it/s]\n"
     ]
    },
    {
     "name": "stdout",
     "output_type": "stream",
     "text": [
      "model checkpoint_8.cpt test dataset:\n",
      "precision:0.4433 recall:0.7576 f1:0.5593\n",
      "/home/wangnan/mrc4ner/checkpoints/2020_09_01_12_49_41/checkpoint_9.cpt \n",
      " Namespace(allow_impossible=True, alpha=1, beta=1, cls=True, cpu=False, debug=False, dev_batch=10, dev_path='./datasets/OntoNotes4.0/mrc-ner.dev', dropout_prob=0.1, epochs=10, eval=False, gamma=1, local_rank=2, log_steps=20, lr=2e-05, max_tokens=512, not_store=False, pretrained_model_name_or_path='./pretrained_models/chinese_roberta_wwm_large_ext_pytorch', reduction='mean', seed=209, span_layer=True, theta=1, train_batch=4, train_path='./datasets/OntoNotes4.0/mrc-ner.train', train_span_method='full', warmup_ratio=0.1, weight_decay=0.01)\n"
     ]
    },
    {
     "name": "stderr",
     "output_type": "stream",
     "text": [
      "checkpoint_9.cpt: 100%|██████████| 2898/2898 [04:13<00:00, 11.45it/s]"
     ]
    },
    {
     "name": "stdout",
     "output_type": "stream",
     "text": [
      "model checkpoint_9.cpt test dataset:\n",
      "precision:0.4367 recall:0.7763 f1:0.5590\n",
      "[('checkpoint_0.cpt', 0.5260655458437654, 0.40454426737992366, 0.45737014402395815), ('checkpoint_1.cpt', 0.4566052528062246, 0.7605118828988624, 0.5706162949449536), ('checkpoint_2.cpt', 0.46743104017385917, 0.7346565681986607, 0.5713410499889534), ('checkpoint_3.cpt', 0.46206288093823683, 0.7522851918578891, 0.5724928207614133), ('checkpoint_4.cpt', 0.4296036478127251, 0.7996866021415923, 0.558937162205878), ('checkpoint_5.cpt', 0.42824395662487885, 0.8050404804380986, 0.5590817992743394), ('checkpoint_6.cpt', 0.4321014492440506, 0.7786628361479938, 0.5557829317233605), ('checkpoint_7.cpt', 0.4264789533257623, 0.7832332200596457, 0.5522507173600618), ('checkpoint_8.cpt', 0.44327297727532483, 0.7576390701543955, 0.5593093139361559), ('checkpoint_9.cpt', 0.4367469879197218, 0.77631235299343, 0.5590028301469738)]\n"
     ]
    },
    {
     "name": "stderr",
     "output_type": "stream",
     "text": [
      "\n"
     ]
    }
   ],
   "source": [
    "base_dir = '/home/wangnan/mrc4ner/checkpoints/'\n",
    "base_model_dir = '2020_09_01_12_49_41'\n",
    "model_dir = base_dir+base_model_dir+'/'\n",
    "args = pickle.load(open(model_dir+'args','rb'))\n",
    "files = os.listdir(base_dir+base_model_dir)\n",
    "files.remove('args')\n",
    "files = sorted(files)\n",
    "scores = []\n",
    "for file in files:\n",
    "    s = test(model_dir,file,6,args)\n",
    "    scores.append(s)\n",
    "print(scores)"
   ]
  },
  {
   "cell_type": "code",
   "execution_count": 2,
   "metadata": {},
   "outputs": [],
   "source": [
    "model_id = '2020_09_01_12_49_41'\n",
    "scores = [('checkpoint_0.cpt', 0.5260655458437654, 0.40454426737992366, 0.45737014402395815), ('checkpoint_1.cpt', 0.4566052528062246, 0.7605118828988624, 0.5706162949449536), ('checkpoint_2.cpt', 0.46743104017385917, 0.7346565681986607, 0.5713410499889534), ('checkpoint_3.cpt', 0.46206288093823683, 0.7522851918578891, 0.5724928207614133), ('checkpoint_4.cpt', 0.4296036478127251, 0.7996866021415923, 0.558937162205878), ('checkpoint_5.cpt', 0.42824395662487885, 0.8050404804380986, 0.5590817992743394), ('checkpoint_6.cpt', 0.4321014492440506, 0.7786628361479938, 0.5557829317233605), ('checkpoint_7.cpt', 0.4264789533257623, 0.7832332200596457, 0.5522507173600618), ('checkpoint_8.cpt', 0.44327297727532483, 0.7576390701543955, 0.5593093139361559), ('checkpoint_9.cpt', 0.4367469879197218, 0.77631235299343, 0.5590028301469738)]\n",
    "scores1 = []\n",
    "for i,s in enumerate(scores):\n",
    "    scores1.append((model_id+\"_\"+str(i),s[1],s[2],s[3]))\n",
    "import pickle\n",
    "import json\n",
    "args = pickle.load(open('/home/wangnan/mrc4ner/checkpoints/'+model_id+'/args','rb'))\n",
    "args = vars(args)\n",
    "with open(\"/home/wangnan/mrc4ner/checkpoints/pre_results.json\") as f:\n",
    "    pre = json.load(f)\n",
    "pre['args']+=[args]*len(scores1)\n",
    "pre['scores']+=scores1\n",
    "with open(\"/home/wangnan/mrc4ner/checkpoints/pre_results.json\",'w') as f:\n",
    "    json.dump(pre,f)"
   ]
  },
  {
   "cell_type": "code",
   "execution_count": 4,
   "metadata": {},
   "outputs": [
    {
     "data": {
      "text/plain": [
       "227"
      ]
     },
     "execution_count": 4,
     "metadata": {},
     "output_type": "execute_result"
    }
   ],
   "source": []
  },
  {
   "cell_type": "code",
   "execution_count": null,
   "metadata": {},
   "outputs": [],
   "source": []
  },
  {
   "cell_type": "code",
   "execution_count": null,
   "metadata": {},
   "outputs": [],
   "source": []
  },
  {
   "cell_type": "code",
   "execution_count": null,
   "metadata": {},
   "outputs": [],
   "source": []
  },
  {
   "cell_type": "code",
   "execution_count": null,
   "metadata": {},
   "outputs": [],
   "source": []
  },
  {
   "cell_type": "code",
   "execution_count": 7,
   "metadata": {},
   "outputs": [
    {
     "name": "stdout",
     "output_type": "stream",
     "text": [
      "/home/wangnan/mrc4ner/checkpoints/2020_08_31_15_14_48/checkpoint_0.cpt \n",
      " Namespace(allow_impossible=True, alpha=1, beta=1, cls=True, cpu=False, debug=False, dev_batch=10, dev_path='./datasets/OntoNotes4.0/mrc-ner.dev', dropout_prob=0.1, epochs=10, eval=False, gamma=1, local_rank=2, log_steps=20, lr=2e-05, max_tokens=512, not_store=False, pretrained_model_name_or_path='./pretrained_models/chinese_roberta_wwm_large_ext_pytorch', reduction='mean', seed=209, span_layer=True, theta=1, train_batch=4, train_path='./datasets/OntoNotes4.0/mrc-ner.train', train_span_method='mix', warmup_ratio=0.1, weight_decay=0.01)\n"
     ]
    },
    {
     "name": "stderr",
     "output_type": "stream",
     "text": [
      "checkpoint_0.cpt: 100%|██████████| 2898/2898 [03:57<00:00, 12.20it/s]\n"
     ]
    },
    {
     "name": "stdout",
     "output_type": "stream",
     "text": [
      "model checkpoint_0.cpt test dataset:\n",
      "precision:0.7726 recall:0.4617 f1:0.5780\n",
      "/home/wangnan/mrc4ner/checkpoints/2020_08_31_15_14_48/checkpoint_1.cpt \n",
      " Namespace(allow_impossible=True, alpha=1, beta=1, cls=True, cpu=False, debug=False, dev_batch=10, dev_path='./datasets/OntoNotes4.0/mrc-ner.dev', dropout_prob=0.1, epochs=10, eval=False, gamma=1, local_rank=2, log_steps=20, lr=2e-05, max_tokens=512, not_store=False, pretrained_model_name_or_path='./pretrained_models/chinese_roberta_wwm_large_ext_pytorch', reduction='mean', seed=209, span_layer=True, theta=1, train_batch=4, train_path='./datasets/OntoNotes4.0/mrc-ner.train', train_span_method='mix', warmup_ratio=0.1, weight_decay=0.01)\n"
     ]
    },
    {
     "name": "stderr",
     "output_type": "stream",
     "text": [
      "checkpoint_1.cpt: 100%|██████████| 2898/2898 [04:06<00:00, 11.75it/s]\n"
     ]
    },
    {
     "name": "stdout",
     "output_type": "stream",
     "text": [
      "model checkpoint_1.cpt test dataset:\n",
      "precision:0.6615 recall:0.6481 f1:0.6547\n",
      "/home/wangnan/mrc4ner/checkpoints/2020_08_31_15_14_48/checkpoint_2.cpt \n",
      " Namespace(allow_impossible=True, alpha=1, beta=1, cls=True, cpu=False, debug=False, dev_batch=10, dev_path='./datasets/OntoNotes4.0/mrc-ner.dev', dropout_prob=0.1, epochs=10, eval=False, gamma=1, local_rank=2, log_steps=20, lr=2e-05, max_tokens=512, not_store=False, pretrained_model_name_or_path='./pretrained_models/chinese_roberta_wwm_large_ext_pytorch', reduction='mean', seed=209, span_layer=True, theta=1, train_batch=4, train_path='./datasets/OntoNotes4.0/mrc-ner.train', train_span_method='mix', warmup_ratio=0.1, weight_decay=0.01)\n"
     ]
    },
    {
     "name": "stderr",
     "output_type": "stream",
     "text": [
      "checkpoint_2.cpt: 100%|██████████| 2898/2898 [04:06<00:00, 11.76it/s]\n"
     ]
    },
    {
     "name": "stdout",
     "output_type": "stream",
     "text": [
      "model checkpoint_2.cpt test dataset:\n",
      "precision:0.8177 recall:0.7057 f1:0.7576\n",
      "/home/wangnan/mrc4ner/checkpoints/2020_08_31_15_14_48/checkpoint_3.cpt \n",
      " Namespace(allow_impossible=True, alpha=1, beta=1, cls=True, cpu=False, debug=False, dev_batch=10, dev_path='./datasets/OntoNotes4.0/mrc-ner.dev', dropout_prob=0.1, epochs=10, eval=False, gamma=1, local_rank=2, log_steps=20, lr=2e-05, max_tokens=512, not_store=False, pretrained_model_name_or_path='./pretrained_models/chinese_roberta_wwm_large_ext_pytorch', reduction='mean', seed=209, span_layer=True, theta=1, train_batch=4, train_path='./datasets/OntoNotes4.0/mrc-ner.train', train_span_method='mix', warmup_ratio=0.1, weight_decay=0.01)\n"
     ]
    },
    {
     "name": "stderr",
     "output_type": "stream",
     "text": [
      "checkpoint_3.cpt: 100%|██████████| 2898/2898 [04:07<00:00, 11.72it/s]\n"
     ]
    },
    {
     "name": "stdout",
     "output_type": "stream",
     "text": [
      "model checkpoint_3.cpt test dataset:\n",
      "precision:0.8279 recall:0.6673 f1:0.7390\n",
      "/home/wangnan/mrc4ner/checkpoints/2020_08_31_15_14_48/checkpoint_4.cpt \n",
      " Namespace(allow_impossible=True, alpha=1, beta=1, cls=True, cpu=False, debug=False, dev_batch=10, dev_path='./datasets/OntoNotes4.0/mrc-ner.dev', dropout_prob=0.1, epochs=10, eval=False, gamma=1, local_rank=2, log_steps=20, lr=2e-05, max_tokens=512, not_store=False, pretrained_model_name_or_path='./pretrained_models/chinese_roberta_wwm_large_ext_pytorch', reduction='mean', seed=209, span_layer=True, theta=1, train_batch=4, train_path='./datasets/OntoNotes4.0/mrc-ner.train', train_span_method='mix', warmup_ratio=0.1, weight_decay=0.01)\n"
     ]
    },
    {
     "name": "stderr",
     "output_type": "stream",
     "text": [
      "checkpoint_4.cpt: 100%|██████████| 2898/2898 [04:06<00:00, 11.73it/s]\n"
     ]
    },
    {
     "name": "stdout",
     "output_type": "stream",
     "text": [
      "model checkpoint_4.cpt test dataset:\n",
      "precision:0.7393 recall:0.7622 f1:0.7506\n",
      "/home/wangnan/mrc4ner/checkpoints/2020_08_31_15_14_48/checkpoint_5.cpt \n",
      " Namespace(allow_impossible=True, alpha=1, beta=1, cls=True, cpu=False, debug=False, dev_batch=10, dev_path='./datasets/OntoNotes4.0/mrc-ner.dev', dropout_prob=0.1, epochs=10, eval=False, gamma=1, local_rank=2, log_steps=20, lr=2e-05, max_tokens=512, not_store=False, pretrained_model_name_or_path='./pretrained_models/chinese_roberta_wwm_large_ext_pytorch', reduction='mean', seed=209, span_layer=True, theta=1, train_batch=4, train_path='./datasets/OntoNotes4.0/mrc-ner.train', train_span_method='mix', warmup_ratio=0.1, weight_decay=0.01)\n"
     ]
    },
    {
     "name": "stderr",
     "output_type": "stream",
     "text": [
      "checkpoint_5.cpt: 100%|██████████| 2898/2898 [04:06<00:00, 11.76it/s]\n"
     ]
    },
    {
     "name": "stdout",
     "output_type": "stream",
     "text": [
      "model checkpoint_5.cpt test dataset:\n",
      "precision:0.7996 recall:0.7670 f1:0.7830\n",
      "/home/wangnan/mrc4ner/checkpoints/2020_08_31_15_14_48/checkpoint_6.cpt \n",
      " Namespace(allow_impossible=True, alpha=1, beta=1, cls=True, cpu=False, debug=False, dev_batch=10, dev_path='./datasets/OntoNotes4.0/mrc-ner.dev', dropout_prob=0.1, epochs=10, eval=False, gamma=1, local_rank=2, log_steps=20, lr=2e-05, max_tokens=512, not_store=False, pretrained_model_name_or_path='./pretrained_models/chinese_roberta_wwm_large_ext_pytorch', reduction='mean', seed=209, span_layer=True, theta=1, train_batch=4, train_path='./datasets/OntoNotes4.0/mrc-ner.train', train_span_method='mix', warmup_ratio=0.1, weight_decay=0.01)\n"
     ]
    },
    {
     "name": "stderr",
     "output_type": "stream",
     "text": [
      "checkpoint_6.cpt: 100%|██████████| 2898/2898 [04:06<00:00, 11.76it/s]\n"
     ]
    },
    {
     "name": "stdout",
     "output_type": "stream",
     "text": [
      "model checkpoint_6.cpt test dataset:\n",
      "precision:0.8306 recall:0.7242 f1:0.7738\n",
      "/home/wangnan/mrc4ner/checkpoints/2020_08_31_15_14_48/checkpoint_7.cpt \n",
      " Namespace(allow_impossible=True, alpha=1, beta=1, cls=True, cpu=False, debug=False, dev_batch=10, dev_path='./datasets/OntoNotes4.0/mrc-ner.dev', dropout_prob=0.1, epochs=10, eval=False, gamma=1, local_rank=2, log_steps=20, lr=2e-05, max_tokens=512, not_store=False, pretrained_model_name_or_path='./pretrained_models/chinese_roberta_wwm_large_ext_pytorch', reduction='mean', seed=209, span_layer=True, theta=1, train_batch=4, train_path='./datasets/OntoNotes4.0/mrc-ner.train', train_span_method='mix', warmup_ratio=0.1, weight_decay=0.01)\n"
     ]
    },
    {
     "name": "stderr",
     "output_type": "stream",
     "text": [
      "checkpoint_7.cpt: 100%|██████████| 2898/2898 [04:05<00:00, 11.78it/s]\n"
     ]
    },
    {
     "name": "stdout",
     "output_type": "stream",
     "text": [
      "model checkpoint_7.cpt test dataset:\n",
      "precision:0.8133 recall:0.7640 f1:0.7879\n",
      "/home/wangnan/mrc4ner/checkpoints/2020_08_31_15_14_48/checkpoint_8.cpt \n",
      " Namespace(allow_impossible=True, alpha=1, beta=1, cls=True, cpu=False, debug=False, dev_batch=10, dev_path='./datasets/OntoNotes4.0/mrc-ner.dev', dropout_prob=0.1, epochs=10, eval=False, gamma=1, local_rank=2, log_steps=20, lr=2e-05, max_tokens=512, not_store=False, pretrained_model_name_or_path='./pretrained_models/chinese_roberta_wwm_large_ext_pytorch', reduction='mean', seed=209, span_layer=True, theta=1, train_batch=4, train_path='./datasets/OntoNotes4.0/mrc-ner.train', train_span_method='mix', warmup_ratio=0.1, weight_decay=0.01)\n"
     ]
    },
    {
     "name": "stderr",
     "output_type": "stream",
     "text": [
      "checkpoint_8.cpt: 100%|██████████| 2898/2898 [04:06<00:00, 11.74it/s]\n"
     ]
    },
    {
     "name": "stdout",
     "output_type": "stream",
     "text": [
      "model checkpoint_8.cpt test dataset:\n",
      "precision:0.8456 recall:0.7340 f1:0.7859\n",
      "/home/wangnan/mrc4ner/checkpoints/2020_08_31_15_14_48/checkpoint_9.cpt \n",
      " Namespace(allow_impossible=True, alpha=1, beta=1, cls=True, cpu=False, debug=False, dev_batch=10, dev_path='./datasets/OntoNotes4.0/mrc-ner.dev', dropout_prob=0.1, epochs=10, eval=False, gamma=1, local_rank=2, log_steps=20, lr=2e-05, max_tokens=512, not_store=False, pretrained_model_name_or_path='./pretrained_models/chinese_roberta_wwm_large_ext_pytorch', reduction='mean', seed=209, span_layer=True, theta=1, train_batch=4, train_path='./datasets/OntoNotes4.0/mrc-ner.train', train_span_method='mix', warmup_ratio=0.1, weight_decay=0.01)\n"
     ]
    },
    {
     "name": "stderr",
     "output_type": "stream",
     "text": [
      "checkpoint_9.cpt: 100%|██████████| 2898/2898 [04:07<00:00, 11.71it/s]"
     ]
    },
    {
     "name": "stdout",
     "output_type": "stream",
     "text": [
      "model checkpoint_9.cpt test dataset:\n",
      "precision:0.8293 recall:0.7541 f1:0.7899\n",
      "[('checkpoint_0.cpt', 0.772558444227101, 0.4617393574743093, 0.578013426176959), ('checkpoint_1.cpt', 0.6614687457468388, 0.6480804386722276, 0.6547056539139045), ('checkpoint_2.cpt', 0.817672870204619, 0.7056672759590406, 0.7575518962328526), ('checkpoint_3.cpt', 0.827932598699298, 0.6672760511011653, 0.7389727522313937), ('checkpoint_4.cpt', 0.7393286889500533, 0.7622094540660473, 0.7505942405844349), ('checkpoint_5.cpt', 0.7996188400762838, 0.7670410027726506, 0.7829907024581938), ('checkpoint_6.cpt', 0.8306125504222536, 0.7242099764005994, 0.7737699940372428), ('checkpoint_7.cpt', 0.8133166526531391, 0.764037607630708, 0.7879068529273456), ('checkpoint_8.cpt', 0.8456446515953596, 0.7340036562112818, 0.7858785656524819), ('checkpoint_9.cpt', 0.8292647902312945, 0.7541133454225498, 0.7899051226846096)]\n"
     ]
    },
    {
     "name": "stderr",
     "output_type": "stream",
     "text": [
      "\n"
     ]
    }
   ],
   "source": [
    "scores = []\n",
    "dir = \"2020_08_31_15_14_48\"\n",
    "dir = base_dir+'/'+dir+'/'\n",
    "files = os.listdir(dir)\n",
    "files = sorted(files)\n",
    "files = [file for file in files if file.startswith(\"checkpoint\")]\n",
    "for file in files:\n",
    "    s = test(dir,file,6)\n",
    "    scores.append(s)\n",
    "print(scores)"
   ]
  },
  {
   "cell_type": "code",
   "execution_count": 27,
   "metadata": {},
   "outputs": [],
   "source": [
    "model = '2020_08_31_15_14_48'"
   ]
  },
  {
   "cell_type": "code",
   "execution_count": 28,
   "metadata": {},
   "outputs": [],
   "source": [
    "args_path = '/home/wangnan/mrc4ner/checkpoints/'+model+'/args'\n",
    "args = pickle.load(open(args_path,'rb'))"
   ]
  },
  {
   "cell_type": "code",
   "execution_count": 29,
   "metadata": {},
   "outputs": [],
   "source": [
    "scores = [('checkpoint_0.cpt', 0.772558444227101, 0.4617393574743093, 0.578013426176959), ('checkpoint_1.cpt', 0.6614687457468388, 0.6480804386722276, 0.6547056539139045), ('checkpoint_2.cpt', 0.817672870204619, 0.7056672759590406, 0.7575518962328526), ('checkpoint_3.cpt', 0.827932598699298, 0.6672760511011653, 0.7389727522313937), ('checkpoint_4.cpt', 0.7393286889500533, 0.7622094540660473, 0.7505942405844349), ('checkpoint_5.cpt', 0.7996188400762838, 0.7670410027726506, 0.7829907024581938), ('checkpoint_6.cpt', 0.8306125504222536, 0.7242099764005994, 0.7737699940372428), ('checkpoint_7.cpt', 0.8133166526531391, 0.764037607630708, 0.7879068529273456), ('checkpoint_8.cpt', 0.8456446515953596, 0.7340036562112818, 0.7858785656524819), ('checkpoint_9.cpt', 0.8292647902312945, 0.7541133454225498, 0.7899051226846096)]"
   ]
  },
  {
   "cell_type": "code",
   "execution_count": 30,
   "metadata": {},
   "outputs": [],
   "source": [
    "scores1 = []\n",
    "for i in range(len(scores)):\n",
    "    scores1.append((model+\"_\"+str(i),scores[i][1],scores[i][2],scores[i][3]))"
   ]
  },
  {
   "cell_type": "code",
   "execution_count": 31,
   "metadata": {},
   "outputs": [],
   "source": [
    "all_args = [vars(args)]*len(scores1)"
   ]
  },
  {
   "cell_type": "code",
   "execution_count": 32,
   "metadata": {},
   "outputs": [],
   "source": [
    "import json\n",
    "with open('/home/wangnan/mrc4ner/checkpoints/pre_results.json') as f:\n",
    "    pre = json.load(f)"
   ]
  },
  {
   "cell_type": "code",
   "execution_count": 33,
   "metadata": {},
   "outputs": [],
   "source": [
    "pre['scores']+=scores1\n",
    "pre['args']+=all_args"
   ]
  },
  {
   "cell_type": "code",
   "execution_count": 34,
   "metadata": {},
   "outputs": [],
   "source": [
    "with open('/home/wangnan/mrc4ner/checkpoints/pre_results.json','w') as f:\n",
    "    json.dump(pre,f)"
   ]
  },
  {
   "cell_type": "code",
   "execution_count": 35,
   "metadata": {},
   "outputs": [
    {
     "data": {
      "text/plain": [
       "187"
      ]
     },
     "execution_count": 35,
     "metadata": {},
     "output_type": "execute_result"
    }
   ],
   "source": []
  },
  {
   "cell_type": "code",
   "execution_count": null,
   "metadata": {},
   "outputs": [],
   "source": []
  },
  {
   "cell_type": "code",
   "execution_count": null,
   "metadata": {},
   "outputs": [],
   "source": []
  },
  {
   "cell_type": "code",
   "execution_count": null,
   "metadata": {},
   "outputs": [],
   "source": []
  },
  {
   "cell_type": "code",
   "execution_count": null,
   "metadata": {},
   "outputs": [],
   "source": []
  },
  {
   "cell_type": "code",
   "execution_count": null,
   "metadata": {},
   "outputs": [],
   "source": []
  },
  {
   "cell_type": "code",
   "execution_count": 6,
   "metadata": {},
   "outputs": [
    {
     "name": "stdout",
     "output_type": "stream",
     "text": [
      "/home/wangnan/mrc4ner/checkpoints/2020_08_31_01_47_43/checkpoint_0.cpt \n",
      " Namespace(allow_impossible=True, alpha=1, beta=1, cls=False, cpu=False, debug=False, dev_batch=10, dev_path='./datasets/OntoNotes4.0/mrc-ner.dev', dropout_prob=0.2, epochs=10, eval=False, gamma=1, local_rank=1, log_steps=20, lr=8e-06, max_tokens=512, not_store=False, pretrained_model_name_or_path='./pretrained_models/chinese_roberta_wwm_large_ext_pytorch', reduction='mean', seed=209, span_layer=True, theta=1, train_batch=4, train_path='./datasets/OntoNotes4.0/mrc-ner.train', train_span_method='full', warmup_ratio=-1.0, weight_decay=0.01)\n"
     ]
    },
    {
     "name": "stderr",
     "output_type": "stream",
     "text": [
      "checkpoint_0.cpt: 100%|██████████| 2898/2898 [04:30<00:00, 10.70it/s]\n"
     ]
    },
    {
     "name": "stdout",
     "output_type": "stream",
     "text": [
      "model checkpoint_0.cpt test dataset:\n",
      "precision:0.4709 recall:0.7482 f1:0.5780\n",
      "/home/wangnan/mrc4ner/checkpoints/2020_08_31_01_47_43/checkpoint_1.cpt \n",
      " Namespace(allow_impossible=True, alpha=1, beta=1, cls=False, cpu=False, debug=False, dev_batch=10, dev_path='./datasets/OntoNotes4.0/mrc-ner.dev', dropout_prob=0.2, epochs=10, eval=False, gamma=1, local_rank=1, log_steps=20, lr=8e-06, max_tokens=512, not_store=False, pretrained_model_name_or_path='./pretrained_models/chinese_roberta_wwm_large_ext_pytorch', reduction='mean', seed=209, span_layer=True, theta=1, train_batch=4, train_path='./datasets/OntoNotes4.0/mrc-ner.train', train_span_method='full', warmup_ratio=-1.0, weight_decay=0.01)\n"
     ]
    },
    {
     "name": "stderr",
     "output_type": "stream",
     "text": [
      "checkpoint_1.cpt: 100%|██████████| 2898/2898 [04:31<00:00, 10.66it/s]\n"
     ]
    },
    {
     "name": "stdout",
     "output_type": "stream",
     "text": [
      "model checkpoint_1.cpt test dataset:\n",
      "precision:0.4709 recall:0.7975 f1:0.5921\n",
      "/home/wangnan/mrc4ner/checkpoints/2020_08_31_01_47_43/checkpoint_2.cpt \n",
      " Namespace(allow_impossible=True, alpha=1, beta=1, cls=False, cpu=False, debug=False, dev_batch=10, dev_path='./datasets/OntoNotes4.0/mrc-ner.dev', dropout_prob=0.2, epochs=10, eval=False, gamma=1, local_rank=1, log_steps=20, lr=8e-06, max_tokens=512, not_store=False, pretrained_model_name_or_path='./pretrained_models/chinese_roberta_wwm_large_ext_pytorch', reduction='mean', seed=209, span_layer=True, theta=1, train_batch=4, train_path='./datasets/OntoNotes4.0/mrc-ner.train', train_span_method='full', warmup_ratio=-1.0, weight_decay=0.01)\n"
     ]
    },
    {
     "name": "stderr",
     "output_type": "stream",
     "text": [
      "checkpoint_2.cpt: 100%|██████████| 2898/2898 [04:27<00:00, 10.82it/s]\n"
     ]
    },
    {
     "name": "stdout",
     "output_type": "stream",
     "text": [
      "model checkpoint_2.cpt test dataset:\n",
      "precision:0.4548 recall:0.7913 f1:0.5776\n",
      "/home/wangnan/mrc4ner/checkpoints/2020_08_31_01_47_43/checkpoint_3.cpt \n",
      " Namespace(allow_impossible=True, alpha=1, beta=1, cls=False, cpu=False, debug=False, dev_batch=10, dev_path='./datasets/OntoNotes4.0/mrc-ner.dev', dropout_prob=0.2, epochs=10, eval=False, gamma=1, local_rank=1, log_steps=20, lr=8e-06, max_tokens=512, not_store=False, pretrained_model_name_or_path='./pretrained_models/chinese_roberta_wwm_large_ext_pytorch', reduction='mean', seed=209, span_layer=True, theta=1, train_batch=4, train_path='./datasets/OntoNotes4.0/mrc-ner.train', train_span_method='full', warmup_ratio=-1.0, weight_decay=0.01)\n"
     ]
    },
    {
     "name": "stderr",
     "output_type": "stream",
     "text": [
      "checkpoint_3.cpt: 100%|██████████| 2898/2898 [04:08<00:00, 11.66it/s]\n"
     ]
    },
    {
     "name": "stdout",
     "output_type": "stream",
     "text": [
      "model checkpoint_3.cpt test dataset:\n",
      "precision:0.4675 recall:0.7609 f1:0.5792\n",
      "/home/wangnan/mrc4ner/checkpoints/2020_08_31_01_47_43/checkpoint_4.cpt \n",
      " Namespace(allow_impossible=True, alpha=1, beta=1, cls=False, cpu=False, debug=False, dev_batch=10, dev_path='./datasets/OntoNotes4.0/mrc-ner.dev', dropout_prob=0.2, epochs=10, eval=False, gamma=1, local_rank=1, log_steps=20, lr=8e-06, max_tokens=512, not_store=False, pretrained_model_name_or_path='./pretrained_models/chinese_roberta_wwm_large_ext_pytorch', reduction='mean', seed=209, span_layer=True, theta=1, train_batch=4, train_path='./datasets/OntoNotes4.0/mrc-ner.train', train_span_method='full', warmup_ratio=-1.0, weight_decay=0.01)\n"
     ]
    },
    {
     "name": "stderr",
     "output_type": "stream",
     "text": [
      "checkpoint_4.cpt: 100%|██████████| 2898/2898 [04:08<00:00, 11.64it/s]\n"
     ]
    },
    {
     "name": "stdout",
     "output_type": "stream",
     "text": [
      "model checkpoint_4.cpt test dataset:\n",
      "precision:0.4454 recall:0.8186 f1:0.5769\n",
      "/home/wangnan/mrc4ner/checkpoints/2020_08_31_01_47_43/checkpoint_5.cpt \n",
      " Namespace(allow_impossible=True, alpha=1, beta=1, cls=False, cpu=False, debug=False, dev_batch=10, dev_path='./datasets/OntoNotes4.0/mrc-ner.dev', dropout_prob=0.2, epochs=10, eval=False, gamma=1, local_rank=1, log_steps=20, lr=8e-06, max_tokens=512, not_store=False, pretrained_model_name_or_path='./pretrained_models/chinese_roberta_wwm_large_ext_pytorch', reduction='mean', seed=209, span_layer=True, theta=1, train_batch=4, train_path='./datasets/OntoNotes4.0/mrc-ner.train', train_span_method='full', warmup_ratio=-1.0, weight_decay=0.01)\n"
     ]
    },
    {
     "name": "stderr",
     "output_type": "stream",
     "text": [
      "checkpoint_5.cpt: 100%|██████████| 2898/2898 [04:08<00:00, 11.68it/s]\n"
     ]
    },
    {
     "name": "stdout",
     "output_type": "stream",
     "text": [
      "model checkpoint_5.cpt test dataset:\n",
      "precision:0.4586 recall:0.7814 f1:0.5780\n",
      "/home/wangnan/mrc4ner/checkpoints/2020_08_31_01_47_43/checkpoint_6.cpt \n",
      " Namespace(allow_impossible=True, alpha=1, beta=1, cls=False, cpu=False, debug=False, dev_batch=10, dev_path='./datasets/OntoNotes4.0/mrc-ner.dev', dropout_prob=0.2, epochs=10, eval=False, gamma=1, local_rank=1, log_steps=20, lr=8e-06, max_tokens=512, not_store=False, pretrained_model_name_or_path='./pretrained_models/chinese_roberta_wwm_large_ext_pytorch', reduction='mean', seed=209, span_layer=True, theta=1, train_batch=4, train_path='./datasets/OntoNotes4.0/mrc-ner.train', train_span_method='full', warmup_ratio=-1.0, weight_decay=0.01)\n"
     ]
    },
    {
     "name": "stderr",
     "output_type": "stream",
     "text": [
      "checkpoint_6.cpt: 100%|██████████| 2898/2898 [04:09<00:00, 11.63it/s]\n"
     ]
    },
    {
     "name": "stdout",
     "output_type": "stream",
     "text": [
      "model checkpoint_6.cpt test dataset:\n",
      "precision:0.4407 recall:0.8046 f1:0.5695\n",
      "/home/wangnan/mrc4ner/checkpoints/2020_08_31_01_47_43/checkpoint_7.cpt \n",
      " Namespace(allow_impossible=True, alpha=1, beta=1, cls=False, cpu=False, debug=False, dev_batch=10, dev_path='./datasets/OntoNotes4.0/mrc-ner.dev', dropout_prob=0.2, epochs=10, eval=False, gamma=1, local_rank=1, log_steps=20, lr=8e-06, max_tokens=512, not_store=False, pretrained_model_name_or_path='./pretrained_models/chinese_roberta_wwm_large_ext_pytorch', reduction='mean', seed=209, span_layer=True, theta=1, train_batch=4, train_path='./datasets/OntoNotes4.0/mrc-ner.train', train_span_method='full', warmup_ratio=-1.0, weight_decay=0.01)\n"
     ]
    },
    {
     "name": "stderr",
     "output_type": "stream",
     "text": [
      "checkpoint_7.cpt: 100%|██████████| 2898/2898 [04:09<00:00, 11.62it/s]\n"
     ]
    },
    {
     "name": "stdout",
     "output_type": "stream",
     "text": [
      "model checkpoint_7.cpt test dataset:\n",
      "precision:0.4625 recall:0.7614 f1:0.5755\n",
      "/home/wangnan/mrc4ner/checkpoints/2020_08_31_01_47_43/checkpoint_8.cpt \n",
      " Namespace(allow_impossible=True, alpha=1, beta=1, cls=False, cpu=False, debug=False, dev_batch=10, dev_path='./datasets/OntoNotes4.0/mrc-ner.dev', dropout_prob=0.2, epochs=10, eval=False, gamma=1, local_rank=1, log_steps=20, lr=8e-06, max_tokens=512, not_store=False, pretrained_model_name_or_path='./pretrained_models/chinese_roberta_wwm_large_ext_pytorch', reduction='mean', seed=209, span_layer=True, theta=1, train_batch=4, train_path='./datasets/OntoNotes4.0/mrc-ner.train', train_span_method='full', warmup_ratio=-1.0, weight_decay=0.01)\n"
     ]
    },
    {
     "name": "stderr",
     "output_type": "stream",
     "text": [
      "checkpoint_8.cpt: 100%|██████████| 2898/2898 [04:10<00:00, 11.56it/s]\n"
     ]
    },
    {
     "name": "stdout",
     "output_type": "stream",
     "text": [
      "model checkpoint_8.cpt test dataset:\n",
      "precision:0.4737 recall:0.7783 f1:0.5890\n",
      "/home/wangnan/mrc4ner/checkpoints/2020_08_31_01_47_43/checkpoint_9.cpt \n",
      " Namespace(allow_impossible=True, alpha=1, beta=1, cls=False, cpu=False, debug=False, dev_batch=10, dev_path='./datasets/OntoNotes4.0/mrc-ner.dev', dropout_prob=0.2, epochs=10, eval=False, gamma=1, local_rank=1, log_steps=20, lr=8e-06, max_tokens=512, not_store=False, pretrained_model_name_or_path='./pretrained_models/chinese_roberta_wwm_large_ext_pytorch', reduction='mean', seed=209, span_layer=True, theta=1, train_batch=4, train_path='./datasets/OntoNotes4.0/mrc-ner.train', train_span_method='full', warmup_ratio=-1.0, weight_decay=0.01)\n"
     ]
    },
    {
     "name": "stderr",
     "output_type": "stream",
     "text": [
      "checkpoint_9.cpt: 100%|██████████| 2898/2898 [04:09<00:00, 11.62it/s]"
     ]
    },
    {
     "name": "stdout",
     "output_type": "stream",
     "text": [
      "model checkpoint_9.cpt test dataset:\n",
      "precision:0.4493 recall:0.8113 f1:0.5784\n",
      "[('checkpoint_0.cpt', 0.47086860050366763, 0.7482371375361403, 0.5779992232066693), ('checkpoint_1.cpt', 0.4708558210893712, 0.7974667013845042, 0.5921073477206088), ('checkpoint_2.cpt', 0.454750112527784, 0.7913293287031432, 0.5775824567454235), ('checkpoint_3.cpt', 0.46750641844772894, 0.7609036300912897, 0.5791666092728982), ('checkpoint_4.cpt', 0.44536800224173284, 0.8186210497755783, 0.5768836882057774), ('checkpoint_5.cpt', 0.4586494979337281, 0.781405066494985, 0.5780241655476223), ('checkpoint_6.cpt', 0.4406779660701796, 0.8046487332456713, 0.5694741510406482), ('checkpoint_7.cpt', 0.4625208217289981, 0.7614259596811928, 0.5754744865859748), ('checkpoint_8.cpt', 0.47373022808411647, 0.7782710889555665, 0.5889614347582848), ('checkpoint_9.cpt', 0.44933825121506193, 0.8113084355169354, 0.5783565344196092)]\n"
     ]
    },
    {
     "name": "stderr",
     "output_type": "stream",
     "text": [
      "\n"
     ]
    }
   ],
   "source": [
    "scores = []\n",
    "for dir in dirs1[-1:]:\n",
    "    dir = base_dir+'/'+dir+'/'\n",
    "    files = os.listdir(dir)\n",
    "    files = sorted(files)\n",
    "    files = [file for file in files if file.startswith(\"checkpoint\")]\n",
    "    for file in files:\n",
    "        s = test(dir,file,6)\n",
    "        scores.append(s)\n",
    "print(scores)"
   ]
  },
  {
   "cell_type": "code",
   "execution_count": 13,
   "metadata": {},
   "outputs": [],
   "source": [
    "model = '2020_08_31_01_47_43'\n",
    "args_path = '/home/wangnan/mrc4ner/checkpoints/'+model+'/args'\n",
    "args = pickle.load(open(args_path,'rb'))"
   ]
  },
  {
   "cell_type": "code",
   "execution_count": 14,
   "metadata": {},
   "outputs": [],
   "source": [
    "scores = [('checkpoint_0.cpt', 0.47086860050366763, 0.7482371375361403, 0.5779992232066693), ('checkpoint_1.cpt', 0.4708558210893712, 0.7974667013845042, 0.5921073477206088), ('checkpoint_2.cpt', 0.454750112527784, 0.7913293287031432, 0.5775824567454235), ('checkpoint_3.cpt', 0.46750641844772894, 0.7609036300912897, 0.5791666092728982), ('checkpoint_4.cpt', 0.44536800224173284, 0.8186210497755783, 0.5768836882057774), ('checkpoint_5.cpt', 0.4586494979337281, 0.781405066494985, 0.5780241655476223), ('checkpoint_6.cpt', 0.4406779660701796, 0.8046487332456713, 0.5694741510406482), ('checkpoint_7.cpt', 0.4625208217289981, 0.7614259596811928, 0.5754744865859748), ('checkpoint_8.cpt', 0.47373022808411647, 0.7782710889555665, 0.5889614347582848), ('checkpoint_9.cpt', 0.44933825121506193, 0.8113084355169354, 0.5783565344196092)]"
   ]
  },
  {
   "cell_type": "code",
   "execution_count": 17,
   "metadata": {},
   "outputs": [],
   "source": [
    "scores1 = []\n",
    "for i in range(len(scores)):\n",
    "    scores1.append((model+\"_\"+str(i),scores[i][1],scores[i][2],scores[i][3]))"
   ]
  },
  {
   "cell_type": "code",
   "execution_count": 19,
   "metadata": {},
   "outputs": [],
   "source": [
    "all_args = [vars(args)]*len(scores1)"
   ]
  },
  {
   "cell_type": "code",
   "execution_count": 21,
   "metadata": {},
   "outputs": [],
   "source": [
    "import json\n",
    "with open('/home/wangnan/mrc4ner/checkpoints/pre_results.json') as f:\n",
    "    pre = json.load(f)\n"
   ]
  },
  {
   "cell_type": "code",
   "execution_count": 22,
   "metadata": {},
   "outputs": [],
   "source": [
    "pre['scores']+=scores1\n",
    "pre['args']+=all_args"
   ]
  },
  {
   "cell_type": "code",
   "execution_count": 26,
   "metadata": {},
   "outputs": [],
   "source": [
    "with open('/home/wangnan/mrc4ner/checkpoints/pre_results.json','w') as f:\n",
    "    json.dump(pre,f)"
   ]
  },
  {
   "cell_type": "code",
   "execution_count": null,
   "metadata": {},
   "outputs": [],
   "source": []
  },
  {
   "cell_type": "code",
   "execution_count": null,
   "metadata": {},
   "outputs": [],
   "source": []
  },
  {
   "cell_type": "code",
   "execution_count": 6,
   "metadata": {},
   "outputs": [
    {
     "name": "stdout",
     "output_type": "stream",
     "text": [
      "/home/wangnan/mrc4ner/checkpoints/2020_08_30_17_45_44/checkpoint_0.cpt \n",
      " Namespace(allow_impossible=False, alpha=1, beta=1, cls=True, cpu=False, debug=False, dev_batch=10, dev_path='./datasets/OntoNotes4.0/mrc-ner.dev', dropout_prob=0.1, epochs=10, eval=False, gamma=1, local_rank=0, log_steps=20, lr=2e-05, max_tokens=512, not_store=False, pretrained_model_name_or_path='./pretrained_models/chinese_roberta_wwm_large_ext_pytorch', reduction='mean', seed=209, span_layer=False, theta=1, train_batch=4, train_path='./datasets/OntoNotes4.0/mrc-ner.train', train_span_method='mix', warmup_ratio=0.1, weight_decay=0.01)\n"
     ]
    },
    {
     "name": "stderr",
     "output_type": "stream",
     "text": [
      "checkpoint_0.cpt: 100%|██████████| 2868/2868 [02:51<00:00, 16.74it/s]\n",
      "checkpoint_0.cpt:   0%|          | 0/2898 [00:00<?, ?it/s]"
     ]
    },
    {
     "name": "stdout",
     "output_type": "stream",
     "text": [
      "model checkpoint_0.cpt develop dataset:\n",
      "precision:0.4729 recall:0.7283 f1:0.5735\n"
     ]
    },
    {
     "name": "stderr",
     "output_type": "stream",
     "text": [
      "checkpoint_0.cpt: 100%|██████████| 2898/2898 [02:58<00:00, 16.21it/s]\n"
     ]
    },
    {
     "name": "stdout",
     "output_type": "stream",
     "text": [
      "model checkpoint_0.cpt test dataset:\n",
      "precision:0.4774 recall:0.7465 f1:0.5824\n",
      "/home/wangnan/mrc4ner/checkpoints/2020_08_30_17_45_44/checkpoint_1.cpt \n",
      " Namespace(allow_impossible=False, alpha=1, beta=1, cls=True, cpu=False, debug=False, dev_batch=10, dev_path='./datasets/OntoNotes4.0/mrc-ner.dev', dropout_prob=0.1, epochs=10, eval=False, gamma=1, local_rank=0, log_steps=20, lr=2e-05, max_tokens=512, not_store=False, pretrained_model_name_or_path='./pretrained_models/chinese_roberta_wwm_large_ext_pytorch', reduction='mean', seed=209, span_layer=False, theta=1, train_batch=4, train_path='./datasets/OntoNotes4.0/mrc-ner.train', train_span_method='mix', warmup_ratio=0.1, weight_decay=0.01)\n"
     ]
    },
    {
     "name": "stderr",
     "output_type": "stream",
     "text": [
      "checkpoint_1.cpt: 100%|██████████| 2868/2868 [02:53<00:00, 16.56it/s]\n",
      "checkpoint_1.cpt:   0%|          | 0/2898 [00:00<?, ?it/s]"
     ]
    },
    {
     "name": "stdout",
     "output_type": "stream",
     "text": [
      "model checkpoint_1.cpt develop dataset:\n",
      "precision:0.6960 recall:0.7509 f1:0.7224\n"
     ]
    },
    {
     "name": "stderr",
     "output_type": "stream",
     "text": [
      "checkpoint_1.cpt: 100%|██████████| 2898/2898 [02:59<00:00, 16.13it/s]\n"
     ]
    },
    {
     "name": "stdout",
     "output_type": "stream",
     "text": [
      "model checkpoint_1.cpt test dataset:\n",
      "precision:0.7057 recall:0.7755 f1:0.7390\n",
      "/home/wangnan/mrc4ner/checkpoints/2020_08_30_17_45_44/checkpoint_2.cpt \n",
      " Namespace(allow_impossible=False, alpha=1, beta=1, cls=True, cpu=False, debug=False, dev_batch=10, dev_path='./datasets/OntoNotes4.0/mrc-ner.dev', dropout_prob=0.1, epochs=10, eval=False, gamma=1, local_rank=0, log_steps=20, lr=2e-05, max_tokens=512, not_store=False, pretrained_model_name_or_path='./pretrained_models/chinese_roberta_wwm_large_ext_pytorch', reduction='mean', seed=209, span_layer=False, theta=1, train_batch=4, train_path='./datasets/OntoNotes4.0/mrc-ner.train', train_span_method='mix', warmup_ratio=0.1, weight_decay=0.01)\n"
     ]
    },
    {
     "name": "stderr",
     "output_type": "stream",
     "text": [
      "checkpoint_2.cpt: 100%|██████████| 2868/2868 [03:23<00:00, 14.10it/s]\n",
      "checkpoint_2.cpt:   0%|          | 0/2898 [00:00<?, ?it/s]"
     ]
    },
    {
     "name": "stdout",
     "output_type": "stream",
     "text": [
      "model checkpoint_2.cpt develop dataset:\n",
      "precision:0.6140 recall:0.8210 f1:0.7026\n"
     ]
    },
    {
     "name": "stderr",
     "output_type": "stream",
     "text": [
      "checkpoint_2.cpt: 100%|██████████| 2898/2898 [03:25<00:00, 14.08it/s]\n"
     ]
    },
    {
     "name": "stdout",
     "output_type": "stream",
     "text": [
      "model checkpoint_2.cpt test dataset:\n",
      "precision:0.6347 recall:0.8460 f1:0.7253\n",
      "/home/wangnan/mrc4ner/checkpoints/2020_08_30_17_45_44/checkpoint_3.cpt \n",
      " Namespace(allow_impossible=False, alpha=1, beta=1, cls=True, cpu=False, debug=False, dev_batch=10, dev_path='./datasets/OntoNotes4.0/mrc-ner.dev', dropout_prob=0.1, epochs=10, eval=False, gamma=1, local_rank=0, log_steps=20, lr=2e-05, max_tokens=512, not_store=False, pretrained_model_name_or_path='./pretrained_models/chinese_roberta_wwm_large_ext_pytorch', reduction='mean', seed=209, span_layer=False, theta=1, train_batch=4, train_path='./datasets/OntoNotes4.0/mrc-ner.train', train_span_method='mix', warmup_ratio=0.1, weight_decay=0.01)\n"
     ]
    },
    {
     "name": "stderr",
     "output_type": "stream",
     "text": [
      "checkpoint_3.cpt: 100%|██████████| 2868/2868 [03:16<00:00, 14.58it/s]\n",
      "checkpoint_3.cpt:   0%|          | 0/2898 [00:00<?, ?it/s]"
     ]
    },
    {
     "name": "stdout",
     "output_type": "stream",
     "text": [
      "model checkpoint_3.cpt develop dataset:\n",
      "precision:0.6375 recall:0.7997 f1:0.7095\n"
     ]
    },
    {
     "name": "stderr",
     "output_type": "stream",
     "text": [
      "checkpoint_3.cpt: 100%|██████████| 2898/2898 [03:20<00:00, 14.47it/s]\n"
     ]
    },
    {
     "name": "stdout",
     "output_type": "stream",
     "text": [
      "model checkpoint_3.cpt test dataset:\n",
      "precision:0.6505 recall:0.8259 f1:0.7278\n",
      "/home/wangnan/mrc4ner/checkpoints/2020_08_30_17_45_44/checkpoint_4.cpt \n",
      " Namespace(allow_impossible=False, alpha=1, beta=1, cls=True, cpu=False, debug=False, dev_batch=10, dev_path='./datasets/OntoNotes4.0/mrc-ner.dev', dropout_prob=0.1, epochs=10, eval=False, gamma=1, local_rank=0, log_steps=20, lr=2e-05, max_tokens=512, not_store=False, pretrained_model_name_or_path='./pretrained_models/chinese_roberta_wwm_large_ext_pytorch', reduction='mean', seed=209, span_layer=False, theta=1, train_batch=4, train_path='./datasets/OntoNotes4.0/mrc-ner.train', train_span_method='mix', warmup_ratio=0.1, weight_decay=0.01)\n"
     ]
    },
    {
     "name": "stderr",
     "output_type": "stream",
     "text": [
      "checkpoint_4.cpt: 100%|██████████| 2868/2868 [03:17<00:00, 14.52it/s]\n",
      "checkpoint_4.cpt:   0%|          | 0/2898 [00:00<?, ?it/s]"
     ]
    },
    {
     "name": "stdout",
     "output_type": "stream",
     "text": [
      "model checkpoint_4.cpt develop dataset:\n",
      "precision:0.5708 recall:0.7874 f1:0.6618\n"
     ]
    },
    {
     "name": "stderr",
     "output_type": "stream",
     "text": [
      "checkpoint_4.cpt: 100%|██████████| 2898/2898 [03:23<00:00, 14.21it/s]\n"
     ]
    },
    {
     "name": "stdout",
     "output_type": "stream",
     "text": [
      "model checkpoint_4.cpt test dataset:\n",
      "precision:0.5940 recall:0.8157 f1:0.6874\n",
      "/home/wangnan/mrc4ner/checkpoints/2020_08_30_17_45_44/checkpoint_5.cpt \n",
      " Namespace(allow_impossible=False, alpha=1, beta=1, cls=True, cpu=False, debug=False, dev_batch=10, dev_path='./datasets/OntoNotes4.0/mrc-ner.dev', dropout_prob=0.1, epochs=10, eval=False, gamma=1, local_rank=0, log_steps=20, lr=2e-05, max_tokens=512, not_store=False, pretrained_model_name_or_path='./pretrained_models/chinese_roberta_wwm_large_ext_pytorch', reduction='mean', seed=209, span_layer=False, theta=1, train_batch=4, train_path='./datasets/OntoNotes4.0/mrc-ner.train', train_span_method='mix', warmup_ratio=0.1, weight_decay=0.01)\n"
     ]
    },
    {
     "name": "stderr",
     "output_type": "stream",
     "text": [
      "checkpoint_5.cpt: 100%|██████████| 2868/2868 [03:16<00:00, 14.58it/s]\n",
      "checkpoint_5.cpt:   0%|          | 0/2898 [00:00<?, ?it/s]"
     ]
    },
    {
     "name": "stdout",
     "output_type": "stream",
     "text": [
      "model checkpoint_5.cpt develop dataset:\n",
      "precision:0.5674 recall:0.8121 f1:0.6681\n"
     ]
    },
    {
     "name": "stderr",
     "output_type": "stream",
     "text": [
      "checkpoint_5.cpt: 100%|██████████| 2898/2898 [03:20<00:00, 14.47it/s]\n"
     ]
    },
    {
     "name": "stdout",
     "output_type": "stream",
     "text": [
      "model checkpoint_5.cpt test dataset:\n",
      "precision:0.5848 recall:0.8395 f1:0.6894\n",
      "/home/wangnan/mrc4ner/checkpoints/2020_08_30_17_45_44/checkpoint_6.cpt \n",
      " Namespace(allow_impossible=False, alpha=1, beta=1, cls=True, cpu=False, debug=False, dev_batch=10, dev_path='./datasets/OntoNotes4.0/mrc-ner.dev', dropout_prob=0.1, epochs=10, eval=False, gamma=1, local_rank=0, log_steps=20, lr=2e-05, max_tokens=512, not_store=False, pretrained_model_name_or_path='./pretrained_models/chinese_roberta_wwm_large_ext_pytorch', reduction='mean', seed=209, span_layer=False, theta=1, train_batch=4, train_path='./datasets/OntoNotes4.0/mrc-ner.train', train_span_method='mix', warmup_ratio=0.1, weight_decay=0.01)\n"
     ]
    },
    {
     "name": "stderr",
     "output_type": "stream",
     "text": [
      "checkpoint_6.cpt: 100%|██████████| 2868/2868 [03:22<00:00, 14.19it/s]\n",
      "checkpoint_6.cpt:   0%|          | 0/2898 [00:00<?, ?it/s]"
     ]
    },
    {
     "name": "stdout",
     "output_type": "stream",
     "text": [
      "model checkpoint_6.cpt develop dataset:\n",
      "precision:0.4869 recall:0.8294 f1:0.6136\n"
     ]
    },
    {
     "name": "stderr",
     "output_type": "stream",
     "text": [
      "checkpoint_6.cpt: 100%|██████████| 2898/2898 [03:16<00:00, 14.78it/s]\n"
     ]
    },
    {
     "name": "stdout",
     "output_type": "stream",
     "text": [
      "model checkpoint_6.cpt test dataset:\n",
      "precision:0.5080 recall:0.8557 f1:0.6375\n",
      "/home/wangnan/mrc4ner/checkpoints/2020_08_30_17_45_44/checkpoint_7.cpt \n",
      " Namespace(allow_impossible=False, alpha=1, beta=1, cls=True, cpu=False, debug=False, dev_batch=10, dev_path='./datasets/OntoNotes4.0/mrc-ner.dev', dropout_prob=0.1, epochs=10, eval=False, gamma=1, local_rank=0, log_steps=20, lr=2e-05, max_tokens=512, not_store=False, pretrained_model_name_or_path='./pretrained_models/chinese_roberta_wwm_large_ext_pytorch', reduction='mean', seed=209, span_layer=False, theta=1, train_batch=4, train_path='./datasets/OntoNotes4.0/mrc-ner.train', train_span_method='mix', warmup_ratio=0.1, weight_decay=0.01)\n"
     ]
    },
    {
     "name": "stderr",
     "output_type": "stream",
     "text": [
      "checkpoint_7.cpt: 100%|██████████| 2868/2868 [03:13<00:00, 14.80it/s]\n",
      "checkpoint_7.cpt:   0%|          | 0/2898 [00:00<?, ?it/s]"
     ]
    },
    {
     "name": "stdout",
     "output_type": "stream",
     "text": [
      "model checkpoint_7.cpt develop dataset:\n",
      "precision:0.4940 recall:0.8285 f1:0.6190\n"
     ]
    },
    {
     "name": "stderr",
     "output_type": "stream",
     "text": [
      "checkpoint_7.cpt: 100%|██████████| 2898/2898 [03:23<00:00, 14.25it/s]\n"
     ]
    },
    {
     "name": "stdout",
     "output_type": "stream",
     "text": [
      "model checkpoint_7.cpt test dataset:\n",
      "precision:0.5179 recall:0.8612 f1:0.6468\n",
      "/home/wangnan/mrc4ner/checkpoints/2020_08_30_17_45_44/checkpoint_8.cpt \n",
      " Namespace(allow_impossible=False, alpha=1, beta=1, cls=True, cpu=False, debug=False, dev_batch=10, dev_path='./datasets/OntoNotes4.0/mrc-ner.dev', dropout_prob=0.1, epochs=10, eval=False, gamma=1, local_rank=0, log_steps=20, lr=2e-05, max_tokens=512, not_store=False, pretrained_model_name_or_path='./pretrained_models/chinese_roberta_wwm_large_ext_pytorch', reduction='mean', seed=209, span_layer=False, theta=1, train_batch=4, train_path='./datasets/OntoNotes4.0/mrc-ner.train', train_span_method='mix', warmup_ratio=0.1, weight_decay=0.01)\n"
     ]
    },
    {
     "name": "stderr",
     "output_type": "stream",
     "text": [
      "checkpoint_8.cpt: 100%|██████████| 2868/2868 [03:18<00:00, 14.48it/s]\n",
      "checkpoint_8.cpt:   0%|          | 0/2898 [00:00<?, ?it/s]"
     ]
    },
    {
     "name": "stdout",
     "output_type": "stream",
     "text": [
      "model checkpoint_8.cpt develop dataset:\n",
      "precision:0.5109 recall:0.8215 f1:0.6300\n"
     ]
    },
    {
     "name": "stderr",
     "output_type": "stream",
     "text": [
      "checkpoint_8.cpt: 100%|██████████| 2898/2898 [03:21<00:00, 14.41it/s]\n"
     ]
    },
    {
     "name": "stdout",
     "output_type": "stream",
     "text": [
      "model checkpoint_8.cpt test dataset:\n",
      "precision:0.5354 recall:0.8544 f1:0.6583\n",
      "/home/wangnan/mrc4ner/checkpoints/2020_08_30_17_45_44/checkpoint_9.cpt \n",
      " Namespace(allow_impossible=False, alpha=1, beta=1, cls=True, cpu=False, debug=False, dev_batch=10, dev_path='./datasets/OntoNotes4.0/mrc-ner.dev', dropout_prob=0.1, epochs=10, eval=False, gamma=1, local_rank=0, log_steps=20, lr=2e-05, max_tokens=512, not_store=False, pretrained_model_name_or_path='./pretrained_models/chinese_roberta_wwm_large_ext_pytorch', reduction='mean', seed=209, span_layer=False, theta=1, train_batch=4, train_path='./datasets/OntoNotes4.0/mrc-ner.train', train_span_method='mix', warmup_ratio=0.1, weight_decay=0.01)\n"
     ]
    },
    {
     "name": "stderr",
     "output_type": "stream",
     "text": [
      "checkpoint_9.cpt: 100%|██████████| 2868/2868 [03:18<00:00, 14.42it/s]\n",
      "checkpoint_9.cpt:   0%|          | 0/2898 [00:00<?, ?it/s]"
     ]
    },
    {
     "name": "stdout",
     "output_type": "stream",
     "text": [
      "model checkpoint_9.cpt develop dataset:\n",
      "precision:0.4778 recall:0.8259 f1:0.6054\n"
     ]
    },
    {
     "name": "stderr",
     "output_type": "stream",
     "text": [
      "checkpoint_9.cpt: 100%|██████████| 2898/2898 [03:21<00:00, 14.37it/s]\n"
     ]
    },
    {
     "name": "stdout",
     "output_type": "stream",
     "text": [
      "model checkpoint_9.cpt test dataset:\n",
      "precision:0.5008 recall:0.8540 f1:0.6314\n",
      "/home/wangnan/mrc4ner/checkpoints/2020_08_30_18_38_33/checkpoint_0.cpt \n",
      " Namespace(allow_impossible=False, alpha=1, beta=1, cls=True, cpu=False, debug=False, dev_batch=10, dev_path='./datasets/OntoNotes4.0/mrc-ner.dev', dropout_prob=0.1, epochs=10, eval=False, gamma=1, local_rank=0, log_steps=20, lr=2e-05, max_tokens=512, not_store=False, pretrained_model_name_or_path='./pretrained_models/chinese_roberta_wwm_large_ext_pytorch', reduction='mean', seed=209, span_layer=True, theta=1, train_batch=4, train_path='./datasets/OntoNotes4.0/mrc-ner.train', train_span_method='mix', warmup_ratio=0.1, weight_decay=0.01)\n"
     ]
    },
    {
     "name": "stderr",
     "output_type": "stream",
     "text": [
      "checkpoint_0.cpt: 100%|██████████| 2868/2868 [04:23<00:00, 10.90it/s]\n",
      "checkpoint_0.cpt:   0%|          | 0/2898 [00:00<?, ?it/s]"
     ]
    },
    {
     "name": "stdout",
     "output_type": "stream",
     "text": [
      "model checkpoint_0.cpt develop dataset:\n",
      "precision:0.5703 recall:0.7714 f1:0.6558\n"
     ]
    },
    {
     "name": "stderr",
     "output_type": "stream",
     "text": [
      "checkpoint_0.cpt: 100%|██████████| 2898/2898 [04:23<00:00, 10.98it/s]\n"
     ]
    },
    {
     "name": "stdout",
     "output_type": "stream",
     "text": [
      "model checkpoint_0.cpt test dataset:\n",
      "precision:0.5833 recall:0.7818 f1:0.6681\n",
      "/home/wangnan/mrc4ner/checkpoints/2020_08_30_18_38_33/checkpoint_1.cpt \n",
      " Namespace(allow_impossible=False, alpha=1, beta=1, cls=True, cpu=False, debug=False, dev_batch=10, dev_path='./datasets/OntoNotes4.0/mrc-ner.dev', dropout_prob=0.1, epochs=10, eval=False, gamma=1, local_rank=0, log_steps=20, lr=2e-05, max_tokens=512, not_store=False, pretrained_model_name_or_path='./pretrained_models/chinese_roberta_wwm_large_ext_pytorch', reduction='mean', seed=209, span_layer=True, theta=1, train_batch=4, train_path='./datasets/OntoNotes4.0/mrc-ner.train', train_span_method='mix', warmup_ratio=0.1, weight_decay=0.01)\n"
     ]
    },
    {
     "name": "stderr",
     "output_type": "stream",
     "text": [
      "checkpoint_1.cpt: 100%|██████████| 2868/2868 [04:21<00:00, 10.96it/s]\n",
      "checkpoint_1.cpt:   0%|          | 0/2898 [00:00<?, ?it/s]"
     ]
    },
    {
     "name": "stdout",
     "output_type": "stream",
     "text": [
      "model checkpoint_1.cpt develop dataset:\n",
      "precision:0.6289 recall:0.7449 f1:0.6820\n"
     ]
    },
    {
     "name": "stderr",
     "output_type": "stream",
     "text": [
      "checkpoint_1.cpt: 100%|██████████| 2898/2898 [04:26<00:00, 10.89it/s]\n"
     ]
    },
    {
     "name": "stdout",
     "output_type": "stream",
     "text": [
      "model checkpoint_1.cpt test dataset:\n",
      "precision:0.6428 recall:0.7622 f1:0.6975\n",
      "/home/wangnan/mrc4ner/checkpoints/2020_08_30_18_38_33/checkpoint_2.cpt \n",
      " Namespace(allow_impossible=False, alpha=1, beta=1, cls=True, cpu=False, debug=False, dev_batch=10, dev_path='./datasets/OntoNotes4.0/mrc-ner.dev', dropout_prob=0.1, epochs=10, eval=False, gamma=1, local_rank=0, log_steps=20, lr=2e-05, max_tokens=512, not_store=False, pretrained_model_name_or_path='./pretrained_models/chinese_roberta_wwm_large_ext_pytorch', reduction='mean', seed=209, span_layer=True, theta=1, train_batch=4, train_path='./datasets/OntoNotes4.0/mrc-ner.train', train_span_method='mix', warmup_ratio=0.1, weight_decay=0.01)\n"
     ]
    },
    {
     "name": "stderr",
     "output_type": "stream",
     "text": [
      "checkpoint_2.cpt: 100%|██████████| 2868/2868 [04:21<00:00, 10.97it/s]\n",
      "checkpoint_2.cpt:   0%|          | 0/2898 [00:00<?, ?it/s]"
     ]
    },
    {
     "name": "stdout",
     "output_type": "stream",
     "text": [
      "model checkpoint_2.cpt develop dataset:\n",
      "precision:0.6068 recall:0.7984 f1:0.6896\n"
     ]
    },
    {
     "name": "stderr",
     "output_type": "stream",
     "text": [
      "checkpoint_2.cpt: 100%|██████████| 2898/2898 [04:25<00:00, 10.90it/s]\n"
     ]
    },
    {
     "name": "stdout",
     "output_type": "stream",
     "text": [
      "model checkpoint_2.cpt test dataset:\n",
      "precision:0.6190 recall:0.8224 f1:0.7064\n",
      "/home/wangnan/mrc4ner/checkpoints/2020_08_30_18_38_33/checkpoint_3.cpt \n",
      " Namespace(allow_impossible=False, alpha=1, beta=1, cls=True, cpu=False, debug=False, dev_batch=10, dev_path='./datasets/OntoNotes4.0/mrc-ner.dev', dropout_prob=0.1, epochs=10, eval=False, gamma=1, local_rank=0, log_steps=20, lr=2e-05, max_tokens=512, not_store=False, pretrained_model_name_or_path='./pretrained_models/chinese_roberta_wwm_large_ext_pytorch', reduction='mean', seed=209, span_layer=True, theta=1, train_batch=4, train_path='./datasets/OntoNotes4.0/mrc-ner.train', train_span_method='mix', warmup_ratio=0.1, weight_decay=0.01)\n"
     ]
    },
    {
     "name": "stderr",
     "output_type": "stream",
     "text": [
      "checkpoint_3.cpt: 100%|██████████| 2868/2868 [04:21<00:00, 10.96it/s]\n",
      "checkpoint_3.cpt:   0%|          | 0/2898 [00:00<?, ?it/s]"
     ]
    },
    {
     "name": "stdout",
     "output_type": "stream",
     "text": [
      "model checkpoint_3.cpt develop dataset:\n",
      "precision:0.5831 recall:0.7566 f1:0.6586\n"
     ]
    },
    {
     "name": "stderr",
     "output_type": "stream",
     "text": [
      "checkpoint_3.cpt: 100%|██████████| 2898/2898 [04:23<00:00, 10.99it/s]\n"
     ]
    },
    {
     "name": "stdout",
     "output_type": "stream",
     "text": [
      "model checkpoint_3.cpt test dataset:\n",
      "precision:0.6029 recall:0.7784 f1:0.6795\n",
      "/home/wangnan/mrc4ner/checkpoints/2020_08_30_18_38_33/checkpoint_4.cpt \n",
      " Namespace(allow_impossible=False, alpha=1, beta=1, cls=True, cpu=False, debug=False, dev_batch=10, dev_path='./datasets/OntoNotes4.0/mrc-ner.dev', dropout_prob=0.1, epochs=10, eval=False, gamma=1, local_rank=0, log_steps=20, lr=2e-05, max_tokens=512, not_store=False, pretrained_model_name_or_path='./pretrained_models/chinese_roberta_wwm_large_ext_pytorch', reduction='mean', seed=209, span_layer=True, theta=1, train_batch=4, train_path='./datasets/OntoNotes4.0/mrc-ner.train', train_span_method='mix', warmup_ratio=0.1, weight_decay=0.01)\n"
     ]
    },
    {
     "name": "stderr",
     "output_type": "stream",
     "text": [
      "checkpoint_4.cpt: 100%|██████████| 2868/2868 [04:19<00:00, 11.06it/s]\n",
      "checkpoint_4.cpt:   0%|          | 0/2898 [00:00<?, ?it/s]"
     ]
    },
    {
     "name": "stdout",
     "output_type": "stream",
     "text": [
      "model checkpoint_4.cpt develop dataset:\n",
      "precision:0.4890 recall:0.8223 f1:0.6133\n"
     ]
    },
    {
     "name": "stderr",
     "output_type": "stream",
     "text": [
      "checkpoint_4.cpt: 100%|██████████| 2898/2898 [04:25<00:00, 10.93it/s]\n"
     ]
    },
    {
     "name": "stdout",
     "output_type": "stream",
     "text": [
      "model checkpoint_4.cpt test dataset:\n",
      "precision:0.5132 recall:0.8459 f1:0.6389\n",
      "/home/wangnan/mrc4ner/checkpoints/2020_08_30_18_38_33/checkpoint_5.cpt \n",
      " Namespace(allow_impossible=False, alpha=1, beta=1, cls=True, cpu=False, debug=False, dev_batch=10, dev_path='./datasets/OntoNotes4.0/mrc-ner.dev', dropout_prob=0.1, epochs=10, eval=False, gamma=1, local_rank=0, log_steps=20, lr=2e-05, max_tokens=512, not_store=False, pretrained_model_name_or_path='./pretrained_models/chinese_roberta_wwm_large_ext_pytorch', reduction='mean', seed=209, span_layer=True, theta=1, train_batch=4, train_path='./datasets/OntoNotes4.0/mrc-ner.train', train_span_method='mix', warmup_ratio=0.1, weight_decay=0.01)\n"
     ]
    },
    {
     "name": "stderr",
     "output_type": "stream",
     "text": [
      "checkpoint_5.cpt: 100%|██████████| 2868/2868 [04:20<00:00, 11.02it/s]\n",
      "checkpoint_5.cpt:   0%|          | 0/2898 [00:00<?, ?it/s]"
     ]
    },
    {
     "name": "stdout",
     "output_type": "stream",
     "text": [
      "model checkpoint_5.cpt develop dataset:\n",
      "precision:0.6282 recall:0.8033 f1:0.7050\n"
     ]
    },
    {
     "name": "stderr",
     "output_type": "stream",
     "text": [
      "checkpoint_5.cpt: 100%|██████████| 2898/2898 [04:25<00:00, 10.92it/s]\n"
     ]
    },
    {
     "name": "stdout",
     "output_type": "stream",
     "text": [
      "model checkpoint_5.cpt test dataset:\n",
      "precision:0.6465 recall:0.8265 f1:0.7255\n",
      "/home/wangnan/mrc4ner/checkpoints/2020_08_30_18_38_33/checkpoint_6.cpt \n",
      " Namespace(allow_impossible=False, alpha=1, beta=1, cls=True, cpu=False, debug=False, dev_batch=10, dev_path='./datasets/OntoNotes4.0/mrc-ner.dev', dropout_prob=0.1, epochs=10, eval=False, gamma=1, local_rank=0, log_steps=20, lr=2e-05, max_tokens=512, not_store=False, pretrained_model_name_or_path='./pretrained_models/chinese_roberta_wwm_large_ext_pytorch', reduction='mean', seed=209, span_layer=True, theta=1, train_batch=4, train_path='./datasets/OntoNotes4.0/mrc-ner.train', train_span_method='mix', warmup_ratio=0.1, weight_decay=0.01)\n"
     ]
    },
    {
     "name": "stderr",
     "output_type": "stream",
     "text": [
      "checkpoint_6.cpt: 100%|██████████| 2868/2868 [04:20<00:00, 11.00it/s]\n",
      "checkpoint_6.cpt:   0%|          | 0/2898 [00:00<?, ?it/s]"
     ]
    },
    {
     "name": "stdout",
     "output_type": "stream",
     "text": [
      "model checkpoint_6.cpt develop dataset:\n",
      "precision:0.5678 recall:0.8219 f1:0.6716\n"
     ]
    },
    {
     "name": "stderr",
     "output_type": "stream",
     "text": [
      "checkpoint_6.cpt: 100%|██████████| 2898/2898 [04:23<00:00, 10.99it/s]\n"
     ]
    },
    {
     "name": "stdout",
     "output_type": "stream",
     "text": [
      "model checkpoint_6.cpt test dataset:\n",
      "precision:0.5873 recall:0.8462 f1:0.6933\n",
      "/home/wangnan/mrc4ner/checkpoints/2020_08_30_18_38_33/checkpoint_7.cpt \n",
      " Namespace(allow_impossible=False, alpha=1, beta=1, cls=True, cpu=False, debug=False, dev_batch=10, dev_path='./datasets/OntoNotes4.0/mrc-ner.dev', dropout_prob=0.1, epochs=10, eval=False, gamma=1, local_rank=0, log_steps=20, lr=2e-05, max_tokens=512, not_store=False, pretrained_model_name_or_path='./pretrained_models/chinese_roberta_wwm_large_ext_pytorch', reduction='mean', seed=209, span_layer=True, theta=1, train_batch=4, train_path='./datasets/OntoNotes4.0/mrc-ner.train', train_span_method='mix', warmup_ratio=0.1, weight_decay=0.01)\n"
     ]
    },
    {
     "name": "stderr",
     "output_type": "stream",
     "text": [
      "checkpoint_7.cpt: 100%|██████████| 2868/2868 [04:24<00:00, 10.84it/s]\n",
      "checkpoint_7.cpt:   0%|          | 0/2898 [00:00<?, ?it/s]"
     ]
    },
    {
     "name": "stdout",
     "output_type": "stream",
     "text": [
      "model checkpoint_7.cpt develop dataset:\n",
      "precision:0.4977 recall:0.8264 f1:0.6212\n"
     ]
    },
    {
     "name": "stderr",
     "output_type": "stream",
     "text": [
      "checkpoint_7.cpt: 100%|██████████| 2898/2898 [04:26<00:00, 10.88it/s]\n"
     ]
    },
    {
     "name": "stdout",
     "output_type": "stream",
     "text": [
      "model checkpoint_7.cpt test dataset:\n",
      "precision:0.5184 recall:0.8494 f1:0.6439\n",
      "/home/wangnan/mrc4ner/checkpoints/2020_08_30_18_38_33/checkpoint_8.cpt \n",
      " Namespace(allow_impossible=False, alpha=1, beta=1, cls=True, cpu=False, debug=False, dev_batch=10, dev_path='./datasets/OntoNotes4.0/mrc-ner.dev', dropout_prob=0.1, epochs=10, eval=False, gamma=1, local_rank=0, log_steps=20, lr=2e-05, max_tokens=512, not_store=False, pretrained_model_name_or_path='./pretrained_models/chinese_roberta_wwm_large_ext_pytorch', reduction='mean', seed=209, span_layer=True, theta=1, train_batch=4, train_path='./datasets/OntoNotes4.0/mrc-ner.train', train_span_method='mix', warmup_ratio=0.1, weight_decay=0.01)\n"
     ]
    },
    {
     "name": "stderr",
     "output_type": "stream",
     "text": [
      "checkpoint_8.cpt: 100%|██████████| 2868/2868 [04:21<00:00, 10.95it/s]\n",
      "checkpoint_8.cpt:   0%|          | 0/2898 [00:00<?, ?it/s]"
     ]
    },
    {
     "name": "stdout",
     "output_type": "stream",
     "text": [
      "model checkpoint_8.cpt develop dataset:\n",
      "precision:0.4761 recall:0.8316 f1:0.6055\n"
     ]
    },
    {
     "name": "stderr",
     "output_type": "stream",
     "text": [
      "checkpoint_8.cpt: 100%|██████████| 2898/2898 [04:22<00:00, 11.03it/s]\n"
     ]
    },
    {
     "name": "stdout",
     "output_type": "stream",
     "text": [
      "model checkpoint_8.cpt test dataset:\n",
      "precision:0.4978 recall:0.8540 f1:0.6290\n",
      "/home/wangnan/mrc4ner/checkpoints/2020_08_30_18_38_33/checkpoint_9.cpt \n",
      " Namespace(allow_impossible=False, alpha=1, beta=1, cls=True, cpu=False, debug=False, dev_batch=10, dev_path='./datasets/OntoNotes4.0/mrc-ner.dev', dropout_prob=0.1, epochs=10, eval=False, gamma=1, local_rank=0, log_steps=20, lr=2e-05, max_tokens=512, not_store=False, pretrained_model_name_or_path='./pretrained_models/chinese_roberta_wwm_large_ext_pytorch', reduction='mean', seed=209, span_layer=True, theta=1, train_batch=4, train_path='./datasets/OntoNotes4.0/mrc-ner.train', train_span_method='mix', warmup_ratio=0.1, weight_decay=0.01)\n"
     ]
    },
    {
     "name": "stderr",
     "output_type": "stream",
     "text": [
      "checkpoint_9.cpt: 100%|██████████| 2868/2868 [04:06<00:00, 11.63it/s]\n",
      "checkpoint_9.cpt:   0%|          | 0/2898 [00:00<?, ?it/s]"
     ]
    },
    {
     "name": "stdout",
     "output_type": "stream",
     "text": [
      "model checkpoint_9.cpt develop dataset:\n",
      "precision:0.5030 recall:0.8347 f1:0.6278\n"
     ]
    },
    {
     "name": "stderr",
     "output_type": "stream",
     "text": [
      "checkpoint_9.cpt: 100%|██████████| 2898/2898 [04:13<00:00, 11.43it/s]\n"
     ]
    },
    {
     "name": "stdout",
     "output_type": "stream",
     "text": [
      "model checkpoint_9.cpt test dataset:\n",
      "precision:0.5259 recall:0.8547 f1:0.6511\n"
     ]
    },
    {
     "ename": "RuntimeError",
     "evalue": "Invalid magic number; corrupt file?",
     "output_type": "error",
     "traceback": [
      "\u001b[0;31m---------------------------------------------------------------------------\u001b[0m",
      "\u001b[0;31mRuntimeError\u001b[0m                              Traceback (most recent call last)",
      "\u001b[0;32m<ipython-input-6-b265b6c9bcee>\u001b[0m in \u001b[0;36m<module>\u001b[0;34m\u001b[0m\n\u001b[1;32m      5\u001b[0m     \u001b[0mfiles\u001b[0m \u001b[0;34m=\u001b[0m \u001b[0msorted\u001b[0m\u001b[0;34m(\u001b[0m\u001b[0mfiles\u001b[0m\u001b[0;34m)\u001b[0m\u001b[0;34m\u001b[0m\u001b[0;34m\u001b[0m\u001b[0m\n\u001b[1;32m      6\u001b[0m     \u001b[0;32mfor\u001b[0m \u001b[0mfile\u001b[0m \u001b[0;32min\u001b[0m \u001b[0mfiles\u001b[0m\u001b[0;34m:\u001b[0m\u001b[0;34m\u001b[0m\u001b[0;34m\u001b[0m\u001b[0m\n\u001b[0;32m----> 7\u001b[0;31m         \u001b[0ms\u001b[0m \u001b[0;34m=\u001b[0m \u001b[0mtest\u001b[0m\u001b[0;34m(\u001b[0m\u001b[0mdir\u001b[0m\u001b[0;34m,\u001b[0m\u001b[0mfile\u001b[0m\u001b[0;34m,\u001b[0m\u001b[0;36m6\u001b[0m\u001b[0;34m)\u001b[0m\u001b[0;34m\u001b[0m\u001b[0;34m\u001b[0m\u001b[0m\n\u001b[0m\u001b[1;32m      8\u001b[0m         \u001b[0mscores\u001b[0m\u001b[0;34m.\u001b[0m\u001b[0mappend\u001b[0m\u001b[0;34m(\u001b[0m\u001b[0ms\u001b[0m\u001b[0;34m)\u001b[0m\u001b[0;34m\u001b[0m\u001b[0;34m\u001b[0m\u001b[0m\n\u001b[1;32m      9\u001b[0m \u001b[0mprint\u001b[0m\u001b[0;34m(\u001b[0m\u001b[0mscores\u001b[0m\u001b[0;34m)\u001b[0m\u001b[0;34m\u001b[0m\u001b[0;34m\u001b[0m\u001b[0m\n",
      "\u001b[0;32m<ipython-input-5-53810b15a45b>\u001b[0m in \u001b[0;36mtest\u001b[0;34m(model_dir, file, batch_size)\u001b[0m\n\u001b[1;32m      1\u001b[0m \u001b[0;32mdef\u001b[0m \u001b[0mtest\u001b[0m\u001b[0;34m(\u001b[0m\u001b[0mmodel_dir\u001b[0m\u001b[0;34m,\u001b[0m\u001b[0mfile\u001b[0m\u001b[0;34m,\u001b[0m\u001b[0mbatch_size\u001b[0m\u001b[0;34m)\u001b[0m\u001b[0;34m:\u001b[0m\u001b[0;34m\u001b[0m\u001b[0;34m\u001b[0m\u001b[0m\n\u001b[1;32m      2\u001b[0m     \u001b[0mpath\u001b[0m \u001b[0;34m=\u001b[0m \u001b[0mmodel_dir\u001b[0m\u001b[0;34m+\u001b[0m\u001b[0mfile\u001b[0m\u001b[0;34m\u001b[0m\u001b[0;34m\u001b[0m\u001b[0m\n\u001b[0;32m----> 3\u001b[0;31m     \u001b[0mcpt\u001b[0m \u001b[0;34m=\u001b[0m \u001b[0mtorch\u001b[0m\u001b[0;34m.\u001b[0m\u001b[0mload\u001b[0m\u001b[0;34m(\u001b[0m\u001b[0mpath\u001b[0m\u001b[0;34m)\u001b[0m\u001b[0;34m\u001b[0m\u001b[0;34m\u001b[0m\u001b[0m\n\u001b[0m\u001b[1;32m      4\u001b[0m     \u001b[0margs\u001b[0m \u001b[0;34m=\u001b[0m \u001b[0mcpt\u001b[0m\u001b[0;34m[\u001b[0m\u001b[0;34m'args'\u001b[0m\u001b[0;34m]\u001b[0m \u001b[0;32mif\u001b[0m \u001b[0;34m'args'\u001b[0m \u001b[0;32min\u001b[0m \u001b[0mcpt\u001b[0m \u001b[0;32melse\u001b[0m \u001b[0mpickle\u001b[0m\u001b[0;34m.\u001b[0m\u001b[0mload\u001b[0m\u001b[0;34m(\u001b[0m\u001b[0mopen\u001b[0m\u001b[0;34m(\u001b[0m\u001b[0mmodel_dir\u001b[0m\u001b[0;34m+\u001b[0m\u001b[0;34m'args'\u001b[0m\u001b[0;34m,\u001b[0m\u001b[0;34m'rb'\u001b[0m\u001b[0;34m)\u001b[0m\u001b[0;34m)\u001b[0m\u001b[0;34m\u001b[0m\u001b[0;34m\u001b[0m\u001b[0m\n\u001b[1;32m      5\u001b[0m     \u001b[0;31m#print(\"load model\")\u001b[0m\u001b[0;34m\u001b[0m\u001b[0;34m\u001b[0m\u001b[0;34m\u001b[0m\u001b[0m\n",
      "\u001b[0;32m~/.conda/envs/mypython/lib/python3.8/site-packages/torch/serialization.py\u001b[0m in \u001b[0;36mload\u001b[0;34m(f, map_location, pickle_module, **pickle_load_args)\u001b[0m\n\u001b[1;32m    527\u001b[0m             \u001b[0;32mwith\u001b[0m \u001b[0m_open_zipfile_reader\u001b[0m\u001b[0;34m(\u001b[0m\u001b[0mf\u001b[0m\u001b[0;34m)\u001b[0m \u001b[0;32mas\u001b[0m \u001b[0mopened_zipfile\u001b[0m\u001b[0;34m:\u001b[0m\u001b[0;34m\u001b[0m\u001b[0;34m\u001b[0m\u001b[0m\n\u001b[1;32m    528\u001b[0m                 \u001b[0;32mreturn\u001b[0m \u001b[0m_load\u001b[0m\u001b[0;34m(\u001b[0m\u001b[0mopened_zipfile\u001b[0m\u001b[0;34m,\u001b[0m \u001b[0mmap_location\u001b[0m\u001b[0;34m,\u001b[0m \u001b[0mpickle_module\u001b[0m\u001b[0;34m,\u001b[0m \u001b[0;34m**\u001b[0m\u001b[0mpickle_load_args\u001b[0m\u001b[0;34m)\u001b[0m\u001b[0;34m\u001b[0m\u001b[0;34m\u001b[0m\u001b[0m\n\u001b[0;32m--> 529\u001b[0;31m         \u001b[0;32mreturn\u001b[0m \u001b[0m_legacy_load\u001b[0m\u001b[0;34m(\u001b[0m\u001b[0mopened_file\u001b[0m\u001b[0;34m,\u001b[0m \u001b[0mmap_location\u001b[0m\u001b[0;34m,\u001b[0m \u001b[0mpickle_module\u001b[0m\u001b[0;34m,\u001b[0m \u001b[0;34m**\u001b[0m\u001b[0mpickle_load_args\u001b[0m\u001b[0;34m)\u001b[0m\u001b[0;34m\u001b[0m\u001b[0;34m\u001b[0m\u001b[0m\n\u001b[0m\u001b[1;32m    530\u001b[0m \u001b[0;34m\u001b[0m\u001b[0m\n\u001b[1;32m    531\u001b[0m \u001b[0;34m\u001b[0m\u001b[0m\n",
      "\u001b[0;32m~/.conda/envs/mypython/lib/python3.8/site-packages/torch/serialization.py\u001b[0m in \u001b[0;36m_legacy_load\u001b[0;34m(f, map_location, pickle_module, **pickle_load_args)\u001b[0m\n\u001b[1;32m    692\u001b[0m     \u001b[0mmagic_number\u001b[0m \u001b[0;34m=\u001b[0m \u001b[0mpickle_module\u001b[0m\u001b[0;34m.\u001b[0m\u001b[0mload\u001b[0m\u001b[0;34m(\u001b[0m\u001b[0mf\u001b[0m\u001b[0;34m,\u001b[0m \u001b[0;34m**\u001b[0m\u001b[0mpickle_load_args\u001b[0m\u001b[0;34m)\u001b[0m\u001b[0;34m\u001b[0m\u001b[0;34m\u001b[0m\u001b[0m\n\u001b[1;32m    693\u001b[0m     \u001b[0;32mif\u001b[0m \u001b[0mmagic_number\u001b[0m \u001b[0;34m!=\u001b[0m \u001b[0mMAGIC_NUMBER\u001b[0m\u001b[0;34m:\u001b[0m\u001b[0;34m\u001b[0m\u001b[0;34m\u001b[0m\u001b[0m\n\u001b[0;32m--> 694\u001b[0;31m         \u001b[0;32mraise\u001b[0m \u001b[0mRuntimeError\u001b[0m\u001b[0;34m(\u001b[0m\u001b[0;34m\"Invalid magic number; corrupt file?\"\u001b[0m\u001b[0;34m)\u001b[0m\u001b[0;34m\u001b[0m\u001b[0;34m\u001b[0m\u001b[0m\n\u001b[0m\u001b[1;32m    695\u001b[0m     \u001b[0mprotocol_version\u001b[0m \u001b[0;34m=\u001b[0m \u001b[0mpickle_module\u001b[0m\u001b[0;34m.\u001b[0m\u001b[0mload\u001b[0m\u001b[0;34m(\u001b[0m\u001b[0mf\u001b[0m\u001b[0;34m,\u001b[0m \u001b[0;34m**\u001b[0m\u001b[0mpickle_load_args\u001b[0m\u001b[0;34m)\u001b[0m\u001b[0;34m\u001b[0m\u001b[0;34m\u001b[0m\u001b[0m\n\u001b[1;32m    696\u001b[0m     \u001b[0;32mif\u001b[0m \u001b[0mprotocol_version\u001b[0m \u001b[0;34m!=\u001b[0m \u001b[0mPROTOCOL_VERSION\u001b[0m\u001b[0;34m:\u001b[0m\u001b[0;34m\u001b[0m\u001b[0;34m\u001b[0m\u001b[0m\n",
      "\u001b[0;31mRuntimeError\u001b[0m: Invalid magic number; corrupt file?"
     ]
    }
   ],
   "source": [
    "scores = []\n",
    "for dir in dirs1[2:5]:\n",
    "    dir = base_dir+'/'+dir+'/'\n",
    "    files = os.listdir(dir)\n",
    "    files = sorted(files)\n",
    "    for file in files:\n",
    "        s = test(dir,file,6)\n",
    "        scores.append(s)\n",
    "print(scores)"
   ]
  },
  {
   "cell_type": "code",
   "execution_count": 8,
   "metadata": {},
   "outputs": [
    {
     "name": "stdout",
     "output_type": "stream",
     "text": [
      "[('checkpoint_0.cpt', 0.4773714094457773, 0.7465395663689554, 0.5823566597056217), ('checkpoint_1.cpt', 0.705679657710827, 0.7755288586085755, 0.7389568234042531), ('checkpoint_2.cpt', 0.6346982757998924, 0.8460433532454892, 0.7252877671294677), ('checkpoint_3.cpt', 0.6504524886208913, 0.8259336640342212, 0.7277638609096305), ('checkpoint_4.cpt', 0.5939906816968726, 0.8157482370311114, 0.6874272977165053), ('checkpoint_5.cpt', 0.5847735127719871, 0.839514233371701, 0.6893625869052886), ('checkpoint_6.cpt', 0.5079844960846523, 0.8557064506586959, 0.63751290923485), ('checkpoint_7.cpt', 0.5179048216964108, 0.8611909113526781, 0.6468218141661024), ('checkpoint_8.cpt', 0.5354337151771331, 0.8544006266839382, 0.6583152521973804), ('checkpoint_9.cpt', 0.5008423954280256, 0.8540088794915109, 0.6313955563114577), ('checkpoint_0.cpt', 0.5833008573087197, 0.7817968136874123, 0.6681169081093995), ('checkpoint_1.cpt', 0.6428414096208325, 0.7622094540660473, 0.6974543965835223), ('checkpoint_2.cpt', 0.6190288971280687, 0.8224079393023755, 0.7063700796371918), ('checkpoint_3.cpt', 0.6028519416866047, 0.7784016713530423, 0.6794706125246589), ('checkpoint_4.cpt', 0.51323086669995, 0.8459127708480134, 0.6388555456733888), ('checkpoint_5.cpt', 0.6465420369142362, 0.8264559936241243, 0.7255110566399045), ('checkpoint_6.cpt', 0.5872756932583582, 0.846173935642965, 0.6933442626520822), ('checkpoint_7.cpt', 0.5184093082149817, 0.8494384955798592, 0.6438676871932657), ('checkpoint_8.cpt', 0.4977926624678191, 0.8540088794915109, 0.6289666437186329), ('checkpoint_9.cpt', 0.525871765986994, 0.8546617914788898, 0.651113734424165)]\n"
     ]
    }
   ],
   "source": [
    "print(scores)"
   ]
  },
  {
   "cell_type": "code",
   "execution_count": 3,
   "metadata": {},
   "outputs": [],
   "source": [
    "scores = [('checkpoint_0.cpt', 0.4773714094457773, 0.7465395663689554, 0.5823566597056217), ('checkpoint_1.cpt', 0.705679657710827, 0.7755288586085755, 0.7389568234042531), ('checkpoint_2.cpt', 0.6346982757998924, 0.8460433532454892, 0.7252877671294677), ('checkpoint_3.cpt', 0.6504524886208913, 0.8259336640342212, 0.7277638609096305), ('checkpoint_4.cpt', 0.5939906816968726, 0.8157482370311114, 0.6874272977165053), ('checkpoint_5.cpt', 0.5847735127719871, 0.839514233371701, 0.6893625869052886), ('checkpoint_6.cpt', 0.5079844960846523, 0.8557064506586959, 0.63751290923485), ('checkpoint_7.cpt', 0.5179048216964108, 0.8611909113526781, 0.6468218141661024), ('checkpoint_8.cpt', 0.5354337151771331, 0.8544006266839382, 0.6583152521973804), ('checkpoint_9.cpt', 0.5008423954280256, 0.8540088794915109, 0.6313955563114577), ('checkpoint_0.cpt', 0.5833008573087197, 0.7817968136874123, 0.6681169081093995), ('checkpoint_1.cpt', 0.6428414096208325, 0.7622094540660473, 0.6974543965835223), ('checkpoint_2.cpt', 0.6190288971280687, 0.8224079393023755, 0.7063700796371918), ('checkpoint_3.cpt', 0.6028519416866047, 0.7784016713530423, 0.6794706125246589), ('checkpoint_4.cpt', 0.51323086669995, 0.8459127708480134, 0.6388555456733888), ('checkpoint_5.cpt', 0.6465420369142362, 0.8264559936241243, 0.7255110566399045), ('checkpoint_6.cpt', 0.5872756932583582, 0.846173935642965, 0.6933442626520822), ('checkpoint_7.cpt', 0.5184093082149817, 0.8494384955798592, 0.6438676871932657), ('checkpoint_8.cpt', 0.4977926624678191, 0.8540088794915109, 0.6289666437186329), ('checkpoint_9.cpt', 0.525871765986994, 0.8546617914788898, 0.651113734424165)]"
   ]
  },
  {
   "cell_type": "code",
   "execution_count": 4,
   "metadata": {},
   "outputs": [],
   "source": [
    "models = []\n",
    "for dir0 in dirs1[2:4]:\n",
    "    dir = base_dir+'/'+dir0+'/'\n",
    "    files = os.listdir(dir)\n",
    "    files = sorted(files)\n",
    "    for file in files:\n",
    "        models.append(dir0+file[-6:])"
   ]
  },
  {
   "cell_type": "code",
   "execution_count": 8,
   "metadata": {},
   "outputs": [],
   "source": [
    "scores1 = []\n",
    "for i in range(20):\n",
    "    scores1.append((models[i],scores[i][1],scores[i][2],scores[i][3]))"
   ]
  },
  {
   "cell_type": "code",
   "execution_count": 9,
   "metadata": {},
   "outputs": [],
   "source": [
    "import torch\n",
    "all_args = []\n",
    "for i,si in enumerate(scores1):\n",
    "    file = si[0]\n",
    "    path = \"/home/wangnan/mrc4ner/checkpoints/\"+file[:-6]+\"/checkpoint\"+file[-6:]\n",
    "    cpt = torch.load(path,map_location=torch.device('cpu'))\n",
    "    args = cpt['args']\n",
    "    args = vars(args)\n",
    "    all_args.append(args)"
   ]
  },
  {
   "cell_type": "code",
   "execution_count": 10,
   "metadata": {},
   "outputs": [],
   "source": [
    "import json\n",
    "with open('/home/wangnan/mrc4ner/checkpoints/pre_results.json') as f:\n",
    "    pre = json.load(f)\n",
    "pre['args']+=all_args\n",
    "pre['scores']+=scores1\n",
    "with open('/home/wangnan/mrc4ner/checkpoints/pre_results.json','w') as f:\n",
    "    json.dump(pre,f)"
   ]
  },
  {
   "cell_type": "code",
   "execution_count": 12,
   "metadata": {},
   "outputs": [
    {
     "data": {
      "text/plain": [
       "141"
      ]
     },
     "execution_count": 12,
     "metadata": {},
     "output_type": "execute_result"
    }
   ],
   "source": [
    "len(pre['args'])"
   ]
  },
  {
   "cell_type": "code",
   "execution_count": null,
   "metadata": {},
   "outputs": [],
   "source": []
  },
  {
   "cell_type": "code",
   "execution_count": 4,
   "metadata": {},
   "outputs": [],
   "source": [
    "model_dir = \"/home/wangnan/mrc4ner/checkpoints/\"\n",
    "model_files = os.listdir(model_dir)\n",
    "model_files = sorted(model_files)\n",
    "end_model = \"2020_08_27_01_34_20_5.cpt\"\n",
    "end_model_index = model_files.index(end_model)\n",
    "valid_model_files = model_files[:end_model_index+1]"
   ]
  },
  {
   "cell_type": "code",
   "execution_count": 5,
   "metadata": {},
   "outputs": [],
   "source": [
    "def test(file,batch_size):\n",
    "    path = model_dir+file\n",
    "    cpt = pickle.load(open(path,'rb'))\n",
    "    args = cpt['args']\n",
    "    #print(\"load model\")\n",
    "    mymodel = MyModel(args)\n",
    "    mymodel.load_state_dict(cpt[\"state_dict\"])\n",
    "    dev_dataset,test_dataset = (pre1_dev_dataset,pre1_test_dataset) if args.pretrained_model_name_or_path==pretrained_model1 else \\\n",
    "                                        (pre2_dev_dataset, pre2_test_dataset)\n",
    "    dev_dataloader = DataLoader(dev_dataset, batch_size=batch_size, collate_fn=collate_fn,\n",
    "                              pin_memory=True,shuffle=False)\n",
    "    test_dataloader = DataLoader(test_dataset, batch_size=batch_size, collate_fn=collate_fn,\n",
    "                              pin_memory=True,shuffle=False)\n",
    "    #print(\"evaluation\")\n",
    "    print(path,'\\n',args)\n",
    "    time.sleep(0.1)\n",
    "    p,r,f = evaluation(mymodel,dev_dataloader,train_eval=False,desc=file)\n",
    "    print(\"model {} develop dataset:\\nprecision:{:.4f} recall:{:.4f} f1:{:.4f}\".format(file,p,r,f))\n",
    "    time.sleep(0.1)\n",
    "    p,r,f = evaluation(mymodel,test_dataloader,train_eval=False,desc=file)\n",
    "    print(\"model {} test dataset:\\nprecision:{:.4f} recall:{:.4f} f1:{:.4f}\".format(file,p,r,f))\n",
    "    return file,p,r,f"
   ]
  },
  {
   "cell_type": "code",
   "execution_count": 6,
   "metadata": {},
   "outputs": [],
   "source": [
    "files = valid_model_files[30:60]"
   ]
  },
  {
   "cell_type": "code",
   "execution_count": 7,
   "metadata": {},
   "outputs": [
    {
     "name": "stdout",
     "output_type": "stream",
     "text": [
      "/home/wangnan/mrc4ner/checkpoints/2020_08_25_19_24_26_0.cpt \n",
      " Namespace(allow_impossible=False, alpha=0.5, beta=0.3333333333333333, cls=False, cpu=False, dev_batch=10, dev_path='./datasets/OntoNotes4.0/mrc-ner.dev', dropout_prob=0.2, epochs=10, eval=True, gamma=1, local_rank=0, log_steps=20, lr=8e-06, max_tokens=512, pretrained_model_name_or_path='/home/wangnan/mrc4ner/pretrained_models/RoBERTa_zh_Large_PyTorch/', reduction='mean', seed=209, theta=0.3333333333333333, train_batch=4, train_path='./datasets/OntoNotes4.0/mrc-ner.train', train_span_method='mix', warmup_steps=4000, weight_decay=0.1)\n"
     ]
    },
    {
     "name": "stderr",
     "output_type": "stream",
     "text": [
      "100%|██████████| 2151/2151 [02:57<00:00, 12.12it/s]\n",
      "  0%|          | 0/2173 [00:00<?, ?it/s]"
     ]
    },
    {
     "name": "stdout",
     "output_type": "stream",
     "text": [
      "model 2020_08_25_19_24_26_0.cpt develop dataset:\n",
      "precision:0.00 recall:0.00 f1:0.00\n"
     ]
    },
    {
     "name": "stderr",
     "output_type": "stream",
     "text": [
      "100%|██████████| 2173/2173 [03:05<00:00, 11.74it/s]\n"
     ]
    },
    {
     "name": "stdout",
     "output_type": "stream",
     "text": [
      "model 2020_08_25_19_24_26_0.cpt test dataset:\n",
      "precision:0.00 recall:0.00 f1:0.00\n",
      "/home/wangnan/mrc4ner/checkpoints/2020_08_25_19_24_26_1.cpt \n",
      " Namespace(allow_impossible=False, alpha=0.5, beta=0.3333333333333333, cls=False, cpu=False, dev_batch=10, dev_path='./datasets/OntoNotes4.0/mrc-ner.dev', dropout_prob=0.2, epochs=10, eval=True, gamma=1, local_rank=0, log_steps=20, lr=8e-06, max_tokens=512, pretrained_model_name_or_path='/home/wangnan/mrc4ner/pretrained_models/RoBERTa_zh_Large_PyTorch/', reduction='mean', seed=209, theta=0.3333333333333333, train_batch=4, train_path='./datasets/OntoNotes4.0/mrc-ner.train', train_span_method='mix', warmup_steps=4000, weight_decay=0.1)\n"
     ]
    },
    {
     "name": "stderr",
     "output_type": "stream",
     "text": [
      "100%|██████████| 2151/2151 [03:01<00:00, 11.87it/s]\n",
      "  0%|          | 0/2173 [00:00<?, ?it/s]"
     ]
    },
    {
     "name": "stdout",
     "output_type": "stream",
     "text": [
      "model 2020_08_25_19_24_26_1.cpt develop dataset:\n",
      "precision:0.00 recall:0.00 f1:0.00\n"
     ]
    },
    {
     "name": "stderr",
     "output_type": "stream",
     "text": [
      "100%|██████████| 2173/2173 [03:05<00:00, 11.73it/s]\n"
     ]
    },
    {
     "name": "stdout",
     "output_type": "stream",
     "text": [
      "model 2020_08_25_19_24_26_1.cpt test dataset:\n",
      "precision:0.00 recall:0.00 f1:0.00\n",
      "/home/wangnan/mrc4ner/checkpoints/2020_08_25_19_24_26_2.cpt \n",
      " Namespace(allow_impossible=False, alpha=0.5, beta=0.3333333333333333, cls=False, cpu=False, dev_batch=10, dev_path='./datasets/OntoNotes4.0/mrc-ner.dev', dropout_prob=0.2, epochs=10, eval=True, gamma=1, local_rank=0, log_steps=20, lr=8e-06, max_tokens=512, pretrained_model_name_or_path='/home/wangnan/mrc4ner/pretrained_models/RoBERTa_zh_Large_PyTorch/', reduction='mean', seed=209, theta=0.3333333333333333, train_batch=4, train_path='./datasets/OntoNotes4.0/mrc-ner.train', train_span_method='mix', warmup_steps=4000, weight_decay=0.1)\n"
     ]
    },
    {
     "name": "stderr",
     "output_type": "stream",
     "text": [
      "100%|██████████| 2151/2151 [02:59<00:00, 11.97it/s]\n",
      "  0%|          | 0/2173 [00:00<?, ?it/s]"
     ]
    },
    {
     "name": "stdout",
     "output_type": "stream",
     "text": [
      "model 2020_08_25_19_24_26_2.cpt develop dataset:\n",
      "precision:0.35 recall:0.40 f1:0.38\n"
     ]
    },
    {
     "name": "stderr",
     "output_type": "stream",
     "text": [
      "100%|██████████| 2173/2173 [03:06<00:00, 11.65it/s]\n"
     ]
    },
    {
     "name": "stdout",
     "output_type": "stream",
     "text": [
      "model 2020_08_25_19_24_26_2.cpt test dataset:\n",
      "precision:0.35 recall:0.40 f1:0.37\n",
      "/home/wangnan/mrc4ner/checkpoints/2020_08_25_19_24_26_3.cpt \n",
      " Namespace(allow_impossible=False, alpha=0.5, beta=0.3333333333333333, cls=False, cpu=False, dev_batch=10, dev_path='./datasets/OntoNotes4.0/mrc-ner.dev', dropout_prob=0.2, epochs=10, eval=True, gamma=1, local_rank=0, log_steps=20, lr=8e-06, max_tokens=512, pretrained_model_name_or_path='/home/wangnan/mrc4ner/pretrained_models/RoBERTa_zh_Large_PyTorch/', reduction='mean', seed=209, theta=0.3333333333333333, train_batch=4, train_path='./datasets/OntoNotes4.0/mrc-ner.train', train_span_method='mix', warmup_steps=4000, weight_decay=0.1)\n"
     ]
    },
    {
     "name": "stderr",
     "output_type": "stream",
     "text": [
      "100%|██████████| 2151/2151 [03:00<00:00, 11.91it/s]\n",
      "  0%|          | 0/2173 [00:00<?, ?it/s]"
     ]
    },
    {
     "name": "stdout",
     "output_type": "stream",
     "text": [
      "model 2020_08_25_19_24_26_3.cpt develop dataset:\n",
      "precision:0.47 recall:0.64 f1:0.54\n"
     ]
    },
    {
     "name": "stderr",
     "output_type": "stream",
     "text": [
      "100%|██████████| 2173/2173 [03:03<00:00, 11.85it/s]\n"
     ]
    },
    {
     "name": "stdout",
     "output_type": "stream",
     "text": [
      "model 2020_08_25_19_24_26_3.cpt test dataset:\n",
      "precision:0.48 recall:0.64 f1:0.55\n",
      "/home/wangnan/mrc4ner/checkpoints/2020_08_25_19_24_26_4.cpt \n",
      " Namespace(allow_impossible=False, alpha=0.5, beta=0.3333333333333333, cls=False, cpu=False, dev_batch=10, dev_path='./datasets/OntoNotes4.0/mrc-ner.dev', dropout_prob=0.2, epochs=10, eval=True, gamma=1, local_rank=0, log_steps=20, lr=8e-06, max_tokens=512, pretrained_model_name_or_path='/home/wangnan/mrc4ner/pretrained_models/RoBERTa_zh_Large_PyTorch/', reduction='mean', seed=209, theta=0.3333333333333333, train_batch=4, train_path='./datasets/OntoNotes4.0/mrc-ner.train', train_span_method='mix', warmup_steps=4000, weight_decay=0.1)\n"
     ]
    },
    {
     "name": "stderr",
     "output_type": "stream",
     "text": [
      "100%|██████████| 2151/2151 [02:55<00:00, 12.24it/s]\n",
      "  0%|          | 0/2173 [00:00<?, ?it/s]"
     ]
    },
    {
     "name": "stdout",
     "output_type": "stream",
     "text": [
      "model 2020_08_25_19_24_26_4.cpt develop dataset:\n",
      "precision:0.67 recall:0.60 f1:0.64\n"
     ]
    },
    {
     "name": "stderr",
     "output_type": "stream",
     "text": [
      "100%|██████████| 2173/2173 [03:01<00:00, 11.94it/s]\n"
     ]
    },
    {
     "name": "stdout",
     "output_type": "stream",
     "text": [
      "model 2020_08_25_19_24_26_4.cpt test dataset:\n",
      "precision:0.68 recall:0.60 f1:0.64\n",
      "/home/wangnan/mrc4ner/checkpoints/2020_08_25_19_24_26_5.cpt \n",
      " Namespace(allow_impossible=False, alpha=0.5, beta=0.3333333333333333, cls=False, cpu=False, dev_batch=10, dev_path='./datasets/OntoNotes4.0/mrc-ner.dev', dropout_prob=0.2, epochs=10, eval=True, gamma=1, local_rank=0, log_steps=20, lr=8e-06, max_tokens=512, pretrained_model_name_or_path='/home/wangnan/mrc4ner/pretrained_models/RoBERTa_zh_Large_PyTorch/', reduction='mean', seed=209, theta=0.3333333333333333, train_batch=4, train_path='./datasets/OntoNotes4.0/mrc-ner.train', train_span_method='mix', warmup_steps=4000, weight_decay=0.1)\n"
     ]
    },
    {
     "name": "stderr",
     "output_type": "stream",
     "text": [
      "100%|██████████| 2151/2151 [02:58<00:00, 12.06it/s]\n",
      "  0%|          | 0/2173 [00:00<?, ?it/s]"
     ]
    },
    {
     "name": "stdout",
     "output_type": "stream",
     "text": [
      "model 2020_08_25_19_24_26_5.cpt develop dataset:\n",
      "precision:0.68 recall:0.68 f1:0.68\n"
     ]
    },
    {
     "name": "stderr",
     "output_type": "stream",
     "text": [
      "100%|██████████| 2173/2173 [03:04<00:00, 11.75it/s]\n"
     ]
    },
    {
     "name": "stdout",
     "output_type": "stream",
     "text": [
      "model 2020_08_25_19_24_26_5.cpt test dataset:\n",
      "precision:0.68 recall:0.68 f1:0.68\n",
      "/home/wangnan/mrc4ner/checkpoints/2020_08_25_19_24_26_6.cpt \n",
      " Namespace(allow_impossible=False, alpha=0.5, beta=0.3333333333333333, cls=False, cpu=False, dev_batch=10, dev_path='./datasets/OntoNotes4.0/mrc-ner.dev', dropout_prob=0.2, epochs=10, eval=True, gamma=1, local_rank=0, log_steps=20, lr=8e-06, max_tokens=512, pretrained_model_name_or_path='/home/wangnan/mrc4ner/pretrained_models/RoBERTa_zh_Large_PyTorch/', reduction='mean', seed=209, theta=0.3333333333333333, train_batch=4, train_path='./datasets/OntoNotes4.0/mrc-ner.train', train_span_method='mix', warmup_steps=4000, weight_decay=0.1)\n"
     ]
    },
    {
     "name": "stderr",
     "output_type": "stream",
     "text": [
      "100%|██████████| 2151/2151 [02:55<00:00, 12.25it/s]\n",
      "  0%|          | 0/2173 [00:00<?, ?it/s]"
     ]
    },
    {
     "name": "stdout",
     "output_type": "stream",
     "text": [
      "model 2020_08_25_19_24_26_6.cpt develop dataset:\n",
      "precision:0.54 recall:0.78 f1:0.64\n"
     ]
    },
    {
     "name": "stderr",
     "output_type": "stream",
     "text": [
      "100%|██████████| 2173/2173 [03:00<00:00, 12.02it/s]\n"
     ]
    },
    {
     "name": "stdout",
     "output_type": "stream",
     "text": [
      "model 2020_08_25_19_24_26_6.cpt test dataset:\n",
      "precision:0.55 recall:0.79 f1:0.65\n",
      "/home/wangnan/mrc4ner/checkpoints/2020_08_25_19_24_26_7.cpt \n",
      " Namespace(allow_impossible=False, alpha=0.5, beta=0.3333333333333333, cls=False, cpu=False, dev_batch=10, dev_path='./datasets/OntoNotes4.0/mrc-ner.dev', dropout_prob=0.2, epochs=10, eval=True, gamma=1, local_rank=0, log_steps=20, lr=8e-06, max_tokens=512, pretrained_model_name_or_path='/home/wangnan/mrc4ner/pretrained_models/RoBERTa_zh_Large_PyTorch/', reduction='mean', seed=209, theta=0.3333333333333333, train_batch=4, train_path='./datasets/OntoNotes4.0/mrc-ner.train', train_span_method='mix', warmup_steps=4000, weight_decay=0.1)\n"
     ]
    },
    {
     "name": "stderr",
     "output_type": "stream",
     "text": [
      "100%|██████████| 2151/2151 [02:57<00:00, 12.10it/s]\n",
      "  0%|          | 0/2173 [00:00<?, ?it/s]"
     ]
    },
    {
     "name": "stdout",
     "output_type": "stream",
     "text": [
      "model 2020_08_25_19_24_26_7.cpt develop dataset:\n",
      "precision:0.65 recall:0.74 f1:0.69\n"
     ]
    },
    {
     "name": "stderr",
     "output_type": "stream",
     "text": [
      "100%|██████████| 2173/2173 [03:02<00:00, 11.92it/s]\n"
     ]
    },
    {
     "name": "stdout",
     "output_type": "stream",
     "text": [
      "model 2020_08_25_19_24_26_7.cpt test dataset:\n",
      "precision:0.65 recall:0.75 f1:0.70\n",
      "/home/wangnan/mrc4ner/checkpoints/2020_08_25_19_24_26_8.cpt \n",
      " Namespace(allow_impossible=False, alpha=0.5, beta=0.3333333333333333, cls=False, cpu=False, dev_batch=10, dev_path='./datasets/OntoNotes4.0/mrc-ner.dev', dropout_prob=0.2, epochs=10, eval=True, gamma=1, local_rank=0, log_steps=20, lr=8e-06, max_tokens=512, pretrained_model_name_or_path='/home/wangnan/mrc4ner/pretrained_models/RoBERTa_zh_Large_PyTorch/', reduction='mean', seed=209, theta=0.3333333333333333, train_batch=4, train_path='./datasets/OntoNotes4.0/mrc-ner.train', train_span_method='mix', warmup_steps=4000, weight_decay=0.1)\n"
     ]
    },
    {
     "name": "stderr",
     "output_type": "stream",
     "text": [
      "100%|██████████| 2151/2151 [02:55<00:00, 12.23it/s]\n",
      "  0%|          | 0/2173 [00:00<?, ?it/s]"
     ]
    },
    {
     "name": "stdout",
     "output_type": "stream",
     "text": [
      "model 2020_08_25_19_24_26_8.cpt develop dataset:\n",
      "precision:0.67 recall:0.75 f1:0.71\n"
     ]
    },
    {
     "name": "stderr",
     "output_type": "stream",
     "text": [
      "100%|██████████| 2173/2173 [03:01<00:00, 11.94it/s]\n"
     ]
    },
    {
     "name": "stdout",
     "output_type": "stream",
     "text": [
      "model 2020_08_25_19_24_26_8.cpt test dataset:\n",
      "precision:0.68 recall:0.77 f1:0.72\n",
      "/home/wangnan/mrc4ner/checkpoints/2020_08_25_19_24_26_9.cpt \n",
      " Namespace(allow_impossible=False, alpha=0.5, beta=0.3333333333333333, cls=False, cpu=False, dev_batch=10, dev_path='./datasets/OntoNotes4.0/mrc-ner.dev', dropout_prob=0.2, epochs=10, eval=True, gamma=1, local_rank=0, log_steps=20, lr=8e-06, max_tokens=512, pretrained_model_name_or_path='/home/wangnan/mrc4ner/pretrained_models/RoBERTa_zh_Large_PyTorch/', reduction='mean', seed=209, theta=0.3333333333333333, train_batch=4, train_path='./datasets/OntoNotes4.0/mrc-ner.train', train_span_method='mix', warmup_steps=4000, weight_decay=0.1)\n"
     ]
    },
    {
     "name": "stderr",
     "output_type": "stream",
     "text": [
      "100%|██████████| 2151/2151 [02:56<00:00, 12.17it/s]\n",
      "  0%|          | 0/2173 [00:00<?, ?it/s]"
     ]
    },
    {
     "name": "stdout",
     "output_type": "stream",
     "text": [
      "model 2020_08_25_19_24_26_9.cpt develop dataset:\n",
      "precision:0.59 recall:0.78 f1:0.67\n"
     ]
    },
    {
     "name": "stderr",
     "output_type": "stream",
     "text": [
      "100%|██████████| 2173/2173 [03:00<00:00, 12.05it/s]\n"
     ]
    },
    {
     "name": "stdout",
     "output_type": "stream",
     "text": [
      "model 2020_08_25_19_24_26_9.cpt test dataset:\n",
      "precision:0.60 recall:0.80 f1:0.69\n",
      "/home/wangnan/mrc4ner/checkpoints/2020_08_25_23_00_09_0.cpt \n",
      " Namespace(allow_impossible=False, alpha=0.5, beta=0.3333333333333333, cls=False, cpu=False, dev_batch=10, dev_path='./datasets/OntoNotes4.0/mrc-ner.dev', dropout_prob=0.2, epochs=10, eval=True, gamma=1, local_rank=0, log_steps=20, lr=8e-06, max_tokens=512, pretrained_model_name_or_path='./pretrained_models/chinese_roberta_wwm_large_ext_pytorch', reduction='sum', seed=209, theta=0.3333333333333333, train_batch=4, train_path='./datasets/OntoNotes4.0/mrc-ner.train', train_span_method='mix', warmup_steps=4000, weight_decay=0.1)\n"
     ]
    },
    {
     "name": "stderr",
     "output_type": "stream",
     "text": [
      "100%|██████████| 2151/2151 [02:56<00:00, 12.17it/s]\n",
      "  0%|          | 0/2173 [00:00<?, ?it/s]"
     ]
    },
    {
     "name": "stdout",
     "output_type": "stream",
     "text": [
      "model 2020_08_25_23_00_09_0.cpt develop dataset:\n",
      "precision:0.00 recall:0.00 f1:0.00\n"
     ]
    },
    {
     "name": "stderr",
     "output_type": "stream",
     "text": [
      "100%|██████████| 2173/2173 [03:00<00:00, 12.03it/s]\n"
     ]
    },
    {
     "name": "stdout",
     "output_type": "stream",
     "text": [
      "model 2020_08_25_23_00_09_0.cpt test dataset:\n",
      "precision:0.00 recall:0.00 f1:0.00\n",
      "/home/wangnan/mrc4ner/checkpoints/2020_08_25_23_00_09_1.cpt \n",
      " Namespace(allow_impossible=False, alpha=0.5, beta=0.3333333333333333, cls=False, cpu=False, dev_batch=10, dev_path='./datasets/OntoNotes4.0/mrc-ner.dev', dropout_prob=0.2, epochs=10, eval=True, gamma=1, local_rank=0, log_steps=20, lr=8e-06, max_tokens=512, pretrained_model_name_or_path='./pretrained_models/chinese_roberta_wwm_large_ext_pytorch', reduction='sum', seed=209, theta=0.3333333333333333, train_batch=4, train_path='./datasets/OntoNotes4.0/mrc-ner.train', train_span_method='mix', warmup_steps=4000, weight_decay=0.1)\n"
     ]
    },
    {
     "name": "stderr",
     "output_type": "stream",
     "text": [
      "100%|██████████| 2151/2151 [02:57<00:00, 12.10it/s]\n",
      "  0%|          | 0/2173 [00:00<?, ?it/s]"
     ]
    },
    {
     "name": "stdout",
     "output_type": "stream",
     "text": [
      "model 2020_08_25_23_00_09_1.cpt develop dataset:\n",
      "precision:0.00 recall:0.00 f1:0.00\n"
     ]
    },
    {
     "name": "stderr",
     "output_type": "stream",
     "text": [
      "100%|██████████| 2173/2173 [03:02<00:00, 11.93it/s]\n"
     ]
    },
    {
     "name": "stdout",
     "output_type": "stream",
     "text": [
      "model 2020_08_25_23_00_09_1.cpt test dataset:\n",
      "precision:0.00 recall:0.00 f1:0.00\n",
      "/home/wangnan/mrc4ner/checkpoints/2020_08_25_23_00_09_2.cpt \n",
      " Namespace(allow_impossible=False, alpha=0.5, beta=0.3333333333333333, cls=False, cpu=False, dev_batch=10, dev_path='./datasets/OntoNotes4.0/mrc-ner.dev', dropout_prob=0.2, epochs=10, eval=True, gamma=1, local_rank=0, log_steps=20, lr=8e-06, max_tokens=512, pretrained_model_name_or_path='./pretrained_models/chinese_roberta_wwm_large_ext_pytorch', reduction='sum', seed=209, theta=0.3333333333333333, train_batch=4, train_path='./datasets/OntoNotes4.0/mrc-ner.train', train_span_method='mix', warmup_steps=4000, weight_decay=0.1)\n"
     ]
    },
    {
     "name": "stderr",
     "output_type": "stream",
     "text": [
      "100%|██████████| 2151/2151 [02:57<00:00, 12.15it/s]\n",
      "  0%|          | 0/2173 [00:00<?, ?it/s]"
     ]
    },
    {
     "name": "stdout",
     "output_type": "stream",
     "text": [
      "model 2020_08_25_23_00_09_2.cpt develop dataset:\n",
      "precision:0.00 recall:0.00 f1:0.00\n"
     ]
    },
    {
     "name": "stderr",
     "output_type": "stream",
     "text": [
      "100%|██████████| 2173/2173 [03:01<00:00, 11.96it/s]\n"
     ]
    },
    {
     "name": "stdout",
     "output_type": "stream",
     "text": [
      "model 2020_08_25_23_00_09_2.cpt test dataset:\n",
      "precision:0.00 recall:0.00 f1:0.00\n",
      "/home/wangnan/mrc4ner/checkpoints/2020_08_25_23_00_09_3.cpt \n",
      " Namespace(allow_impossible=False, alpha=0.5, beta=0.3333333333333333, cls=False, cpu=False, dev_batch=10, dev_path='./datasets/OntoNotes4.0/mrc-ner.dev', dropout_prob=0.2, epochs=10, eval=True, gamma=1, local_rank=0, log_steps=20, lr=8e-06, max_tokens=512, pretrained_model_name_or_path='./pretrained_models/chinese_roberta_wwm_large_ext_pytorch', reduction='sum', seed=209, theta=0.3333333333333333, train_batch=4, train_path='./datasets/OntoNotes4.0/mrc-ner.train', train_span_method='mix', warmup_steps=4000, weight_decay=0.1)\n"
     ]
    },
    {
     "name": "stderr",
     "output_type": "stream",
     "text": [
      "100%|██████████| 2151/2151 [02:56<00:00, 12.21it/s]\n",
      "  0%|          | 0/2173 [00:00<?, ?it/s]"
     ]
    },
    {
     "name": "stdout",
     "output_type": "stream",
     "text": [
      "model 2020_08_25_23_00_09_3.cpt develop dataset:\n",
      "precision:0.34 recall:0.16 f1:0.21\n"
     ]
    },
    {
     "name": "stderr",
     "output_type": "stream",
     "text": [
      "100%|██████████| 2173/2173 [03:00<00:00, 12.02it/s]\n"
     ]
    },
    {
     "name": "stdout",
     "output_type": "stream",
     "text": [
      "model 2020_08_25_23_00_09_3.cpt test dataset:\n",
      "precision:0.31 recall:0.17 f1:0.22\n",
      "/home/wangnan/mrc4ner/checkpoints/2020_08_25_23_00_09_4.cpt \n",
      " Namespace(allow_impossible=False, alpha=0.5, beta=0.3333333333333333, cls=False, cpu=False, dev_batch=10, dev_path='./datasets/OntoNotes4.0/mrc-ner.dev', dropout_prob=0.2, epochs=10, eval=True, gamma=1, local_rank=0, log_steps=20, lr=8e-06, max_tokens=512, pretrained_model_name_or_path='./pretrained_models/chinese_roberta_wwm_large_ext_pytorch', reduction='sum', seed=209, theta=0.3333333333333333, train_batch=4, train_path='./datasets/OntoNotes4.0/mrc-ner.train', train_span_method='mix', warmup_steps=4000, weight_decay=0.1)\n"
     ]
    },
    {
     "name": "stderr",
     "output_type": "stream",
     "text": [
      "100%|██████████| 2151/2151 [02:55<00:00, 12.29it/s]\n",
      "  0%|          | 0/2173 [00:00<?, ?it/s]"
     ]
    },
    {
     "name": "stdout",
     "output_type": "stream",
     "text": [
      "model 2020_08_25_23_00_09_4.cpt develop dataset:\n",
      "precision:0.53 recall:0.51 f1:0.52\n"
     ]
    },
    {
     "name": "stderr",
     "output_type": "stream",
     "text": [
      "100%|██████████| 2173/2173 [03:02<00:00, 11.89it/s]\n"
     ]
    },
    {
     "name": "stdout",
     "output_type": "stream",
     "text": [
      "model 2020_08_25_23_00_09_4.cpt test dataset:\n",
      "precision:0.52 recall:0.49 f1:0.51\n",
      "/home/wangnan/mrc4ner/checkpoints/2020_08_25_23_00_09_5.cpt \n",
      " Namespace(allow_impossible=False, alpha=0.5, beta=0.3333333333333333, cls=False, cpu=False, dev_batch=10, dev_path='./datasets/OntoNotes4.0/mrc-ner.dev', dropout_prob=0.2, epochs=10, eval=True, gamma=1, local_rank=0, log_steps=20, lr=8e-06, max_tokens=512, pretrained_model_name_or_path='./pretrained_models/chinese_roberta_wwm_large_ext_pytorch', reduction='sum', seed=209, theta=0.3333333333333333, train_batch=4, train_path='./datasets/OntoNotes4.0/mrc-ner.train', train_span_method='mix', warmup_steps=4000, weight_decay=0.1)\n"
     ]
    },
    {
     "name": "stderr",
     "output_type": "stream",
     "text": [
      "100%|██████████| 2151/2151 [02:58<00:00, 12.06it/s]\n",
      "  0%|          | 0/2173 [00:00<?, ?it/s]"
     ]
    },
    {
     "name": "stdout",
     "output_type": "stream",
     "text": [
      "model 2020_08_25_23_00_09_5.cpt develop dataset:\n",
      "precision:0.53 recall:0.59 f1:0.56\n"
     ]
    },
    {
     "name": "stderr",
     "output_type": "stream",
     "text": [
      "100%|██████████| 2173/2173 [02:59<00:00, 12.12it/s]\n"
     ]
    },
    {
     "name": "stdout",
     "output_type": "stream",
     "text": [
      "model 2020_08_25_23_00_09_5.cpt test dataset:\n",
      "precision:0.53 recall:0.58 f1:0.55\n",
      "/home/wangnan/mrc4ner/checkpoints/2020_08_25_23_00_09_6.cpt \n",
      " Namespace(allow_impossible=False, alpha=0.5, beta=0.3333333333333333, cls=False, cpu=False, dev_batch=10, dev_path='./datasets/OntoNotes4.0/mrc-ner.dev', dropout_prob=0.2, epochs=10, eval=True, gamma=1, local_rank=0, log_steps=20, lr=8e-06, max_tokens=512, pretrained_model_name_or_path='./pretrained_models/chinese_roberta_wwm_large_ext_pytorch', reduction='sum', seed=209, theta=0.3333333333333333, train_batch=4, train_path='./datasets/OntoNotes4.0/mrc-ner.train', train_span_method='mix', warmup_steps=4000, weight_decay=0.1)\n"
     ]
    },
    {
     "name": "stderr",
     "output_type": "stream",
     "text": [
      "100%|██████████| 2151/2151 [02:56<00:00, 12.17it/s]\n",
      "  0%|          | 0/2173 [00:00<?, ?it/s]"
     ]
    },
    {
     "name": "stdout",
     "output_type": "stream",
     "text": [
      "model 2020_08_25_23_00_09_6.cpt develop dataset:\n",
      "precision:0.62 recall:0.76 f1:0.68\n"
     ]
    },
    {
     "name": "stderr",
     "output_type": "stream",
     "text": [
      "100%|██████████| 2173/2173 [03:02<00:00, 11.92it/s]\n"
     ]
    },
    {
     "name": "stdout",
     "output_type": "stream",
     "text": [
      "model 2020_08_25_23_00_09_6.cpt test dataset:\n",
      "precision:0.63 recall:0.76 f1:0.69\n",
      "/home/wangnan/mrc4ner/checkpoints/2020_08_25_23_00_09_7.cpt \n",
      " Namespace(allow_impossible=False, alpha=0.5, beta=0.3333333333333333, cls=False, cpu=False, dev_batch=10, dev_path='./datasets/OntoNotes4.0/mrc-ner.dev', dropout_prob=0.2, epochs=10, eval=True, gamma=1, local_rank=0, log_steps=20, lr=8e-06, max_tokens=512, pretrained_model_name_or_path='./pretrained_models/chinese_roberta_wwm_large_ext_pytorch', reduction='sum', seed=209, theta=0.3333333333333333, train_batch=4, train_path='./datasets/OntoNotes4.0/mrc-ner.train', train_span_method='mix', warmup_steps=4000, weight_decay=0.1)\n"
     ]
    },
    {
     "name": "stderr",
     "output_type": "stream",
     "text": [
      "100%|██████████| 2151/2151 [02:57<00:00, 12.13it/s]\n",
      "  0%|          | 0/2173 [00:00<?, ?it/s]"
     ]
    },
    {
     "name": "stdout",
     "output_type": "stream",
     "text": [
      "model 2020_08_25_23_00_09_7.cpt develop dataset:\n",
      "precision:0.59 recall:0.77 f1:0.67\n"
     ]
    },
    {
     "name": "stderr",
     "output_type": "stream",
     "text": [
      "100%|██████████| 2173/2173 [02:58<00:00, 12.19it/s]\n"
     ]
    },
    {
     "name": "stdout",
     "output_type": "stream",
     "text": [
      "model 2020_08_25_23_00_09_7.cpt test dataset:\n",
      "precision:0.60 recall:0.79 f1:0.69\n",
      "/home/wangnan/mrc4ner/checkpoints/2020_08_25_23_00_09_8.cpt \n",
      " Namespace(allow_impossible=False, alpha=0.5, beta=0.3333333333333333, cls=False, cpu=False, dev_batch=10, dev_path='./datasets/OntoNotes4.0/mrc-ner.dev', dropout_prob=0.2, epochs=10, eval=True, gamma=1, local_rank=0, log_steps=20, lr=8e-06, max_tokens=512, pretrained_model_name_or_path='./pretrained_models/chinese_roberta_wwm_large_ext_pytorch', reduction='sum', seed=209, theta=0.3333333333333333, train_batch=4, train_path='./datasets/OntoNotes4.0/mrc-ner.train', train_span_method='mix', warmup_steps=4000, weight_decay=0.1)\n"
     ]
    },
    {
     "name": "stderr",
     "output_type": "stream",
     "text": [
      "100%|██████████| 2151/2151 [02:54<00:00, 12.32it/s]\n",
      "  0%|          | 0/2173 [00:00<?, ?it/s]"
     ]
    },
    {
     "name": "stdout",
     "output_type": "stream",
     "text": [
      "model 2020_08_25_23_00_09_8.cpt develop dataset:\n",
      "precision:0.54 recall:0.82 f1:0.66\n"
     ]
    },
    {
     "name": "stderr",
     "output_type": "stream",
     "text": [
      "100%|██████████| 2173/2173 [03:02<00:00, 11.91it/s]\n"
     ]
    },
    {
     "name": "stdout",
     "output_type": "stream",
     "text": [
      "model 2020_08_25_23_00_09_8.cpt test dataset:\n",
      "precision:0.57 recall:0.85 f1:0.68\n",
      "/home/wangnan/mrc4ner/checkpoints/2020_08_25_23_00_09_9.cpt \n",
      " Namespace(allow_impossible=False, alpha=0.5, beta=0.3333333333333333, cls=False, cpu=False, dev_batch=10, dev_path='./datasets/OntoNotes4.0/mrc-ner.dev', dropout_prob=0.2, epochs=10, eval=True, gamma=1, local_rank=0, log_steps=20, lr=8e-06, max_tokens=512, pretrained_model_name_or_path='./pretrained_models/chinese_roberta_wwm_large_ext_pytorch', reduction='sum', seed=209, theta=0.3333333333333333, train_batch=4, train_path='./datasets/OntoNotes4.0/mrc-ner.train', train_span_method='mix', warmup_steps=4000, weight_decay=0.1)\n"
     ]
    },
    {
     "name": "stderr",
     "output_type": "stream",
     "text": [
      "100%|██████████| 2151/2151 [02:57<00:00, 12.14it/s]\n",
      "  0%|          | 0/2173 [00:00<?, ?it/s]"
     ]
    },
    {
     "name": "stdout",
     "output_type": "stream",
     "text": [
      "model 2020_08_25_23_00_09_9.cpt develop dataset:\n",
      "precision:0.54 recall:0.85 f1:0.66\n"
     ]
    },
    {
     "name": "stderr",
     "output_type": "stream",
     "text": [
      "100%|██████████| 2173/2173 [03:02<00:00, 11.93it/s]\n"
     ]
    },
    {
     "name": "stdout",
     "output_type": "stream",
     "text": [
      "model 2020_08_25_23_00_09_9.cpt test dataset:\n",
      "precision:0.56 recall:0.86 f1:0.68\n",
      "/home/wangnan/mrc4ner/checkpoints/2020_08_26_01_01_13_0.cpt \n",
      " Namespace(allow_impossible=False, alpha=0.5, beta=0.3333333333333333, cls=True, cpu=False, dev_batch=10, dev_path='./datasets/OntoNotes4.0/mrc-ner.dev', dropout_prob=0.2, epochs=10, eval=True, gamma=1, local_rank=0, log_steps=20, lr=8e-06, max_tokens=512, pretrained_model_name_or_path='./pretrained_models/chinese_roberta_wwm_large_ext_pytorch', reduction='mean', seed=209, theta=0.3333333333333333, train_batch=4, train_path='./datasets/OntoNotes4.0/mrc-ner.train', train_span_method='mix', warmup_steps=4000, weight_decay=0.1)\n"
     ]
    },
    {
     "name": "stderr",
     "output_type": "stream",
     "text": [
      "100%|██████████| 2151/2151 [02:55<00:00, 12.27it/s]\n",
      "  0%|          | 0/2173 [00:00<?, ?it/s]"
     ]
    },
    {
     "name": "stdout",
     "output_type": "stream",
     "text": [
      "model 2020_08_26_01_01_13_0.cpt develop dataset:\n",
      "precision:0.00 recall:0.00 f1:0.00\n"
     ]
    },
    {
     "name": "stderr",
     "output_type": "stream",
     "text": [
      "100%|██████████| 2173/2173 [03:02<00:00, 11.92it/s]\n"
     ]
    },
    {
     "name": "stdout",
     "output_type": "stream",
     "text": [
      "model 2020_08_26_01_01_13_0.cpt test dataset:\n",
      "precision:0.00 recall:0.00 f1:0.00\n",
      "/home/wangnan/mrc4ner/checkpoints/2020_08_26_01_23_03_0.cpt \n",
      " Namespace(allow_impossible=False, alpha=0.5, beta=0.3333333333333333, cls=True, cpu=False, dev_batch=10, dev_path='./datasets/OntoNotes4.0/mrc-ner.dev', dropout_prob=0.2, epochs=10, eval=True, gamma=1, local_rank=0, log_steps=20, lr=8e-06, max_tokens=512, pretrained_model_name_or_path='./pretrained_models/chinese_roberta_wwm_large_ext_pytorch', reduction='mean', seed=209, theta=0.3333333333333333, train_batch=4, train_path='./datasets/OntoNotes4.0/mrc-ner.train', train_span_method='mix', warmup_steps=4000, weight_decay=0.1)\n"
     ]
    },
    {
     "name": "stderr",
     "output_type": "stream",
     "text": [
      "100%|██████████| 2151/2151 [02:57<00:00, 12.13it/s]\n",
      "  0%|          | 0/2173 [00:00<?, ?it/s]"
     ]
    },
    {
     "name": "stdout",
     "output_type": "stream",
     "text": [
      "model 2020_08_26_01_23_03_0.cpt develop dataset:\n",
      "precision:0.00 recall:0.00 f1:0.00\n"
     ]
    },
    {
     "name": "stderr",
     "output_type": "stream",
     "text": [
      "100%|██████████| 2173/2173 [03:01<00:00, 11.94it/s]\n"
     ]
    },
    {
     "name": "stdout",
     "output_type": "stream",
     "text": [
      "model 2020_08_26_01_23_03_0.cpt test dataset:\n",
      "precision:0.00 recall:0.00 f1:0.00\n",
      "/home/wangnan/mrc4ner/checkpoints/2020_08_26_01_23_03_1.cpt \n",
      " Namespace(allow_impossible=False, alpha=0.5, beta=0.3333333333333333, cls=True, cpu=False, dev_batch=10, dev_path='./datasets/OntoNotes4.0/mrc-ner.dev', dropout_prob=0.2, epochs=10, eval=True, gamma=1, local_rank=0, log_steps=20, lr=8e-06, max_tokens=512, pretrained_model_name_or_path='./pretrained_models/chinese_roberta_wwm_large_ext_pytorch', reduction='mean', seed=209, theta=0.3333333333333333, train_batch=4, train_path='./datasets/OntoNotes4.0/mrc-ner.train', train_span_method='mix', warmup_steps=4000, weight_decay=0.1)\n"
     ]
    },
    {
     "name": "stderr",
     "output_type": "stream",
     "text": [
      "100%|██████████| 2151/2151 [02:55<00:00, 12.28it/s]\n",
      "  0%|          | 0/2173 [00:00<?, ?it/s]"
     ]
    },
    {
     "name": "stdout",
     "output_type": "stream",
     "text": [
      "model 2020_08_26_01_23_03_1.cpt develop dataset:\n",
      "precision:0.00 recall:0.00 f1:0.00\n"
     ]
    },
    {
     "name": "stderr",
     "output_type": "stream",
     "text": [
      "100%|██████████| 2173/2173 [03:02<00:00, 11.91it/s]\n"
     ]
    },
    {
     "name": "stdout",
     "output_type": "stream",
     "text": [
      "model 2020_08_26_01_23_03_1.cpt test dataset:\n",
      "precision:0.00 recall:0.00 f1:0.00\n",
      "/home/wangnan/mrc4ner/checkpoints/2020_08_26_11_12_47_0.cpt \n",
      " Namespace(allow_impossible=True, alpha=0.5, beta=0.3333333333333333, cls=False, cpu=False, debug=False, dev_batch=10, dev_path='./datasets/OntoNotes4.0/mrc-ner.dev', dropout_prob=0.2, epochs=10, eval=True, gamma=1, local_rank=0, log_steps=20, lr=8e-06, max_tokens=512, pretrained_model_name_or_path='./pretrained_models/chinese_roberta_wwm_large_ext_pytorch', reduction='mean', seed=209, theta=0.3333333333333333, train_batch=4, train_path='./datasets/OntoNotes4.0/mrc-ner.train', train_span_method='mix', train_span_methods='full', warmup_ratio=-1, weight_decay=0.1)\n"
     ]
    },
    {
     "name": "stderr",
     "output_type": "stream",
     "text": [
      "100%|██████████| 2151/2151 [02:58<00:00, 12.05it/s]\n",
      "  0%|          | 0/2173 [00:00<?, ?it/s]"
     ]
    },
    {
     "name": "stdout",
     "output_type": "stream",
     "text": [
      "model 2020_08_26_11_12_47_0.cpt develop dataset:\n",
      "precision:0.89 recall:0.06 f1:0.12\n"
     ]
    },
    {
     "name": "stderr",
     "output_type": "stream",
     "text": [
      "100%|██████████| 2173/2173 [03:00<00:00, 12.03it/s]\n"
     ]
    },
    {
     "name": "stdout",
     "output_type": "stream",
     "text": [
      "model 2020_08_26_11_12_47_0.cpt test dataset:\n",
      "precision:0.91 recall:0.07 f1:0.12\n",
      "/home/wangnan/mrc4ner/checkpoints/2020_08_26_11_49_38_0.cpt \n",
      " Namespace(allow_impossible=False, alpha=0.5, beta=0.3333333333333333, cls=False, cpu=False, debug=False, dev_batch=10, dev_path='./datasets/OntoNotes4.0/mrc-ner.dev', dropout_prob=0.2, epochs=10, eval=True, gamma=1, local_rank=0, log_steps=20, lr=8e-06, max_tokens=512, pretrained_model_name_or_path='./pretrained_models/chinese_roberta_wwm_large_ext_pytorch', reduction='mean', seed=209, theta=0.3333333333333333, train_batch=4, train_path='./datasets/OntoNotes4.0/mrc-ner.train', train_span_method='mix', warmup_ratio=0.1, weight_decay=0.1)\n"
     ]
    },
    {
     "name": "stderr",
     "output_type": "stream",
     "text": [
      "100%|██████████| 2151/2151 [02:55<00:00, 12.23it/s]\n",
      "  0%|          | 0/2173 [00:00<?, ?it/s]"
     ]
    },
    {
     "name": "stdout",
     "output_type": "stream",
     "text": [
      "model 2020_08_26_11_49_38_0.cpt develop dataset:\n",
      "precision:0.49 recall:0.26 f1:0.34\n"
     ]
    },
    {
     "name": "stderr",
     "output_type": "stream",
     "text": [
      "100%|██████████| 2173/2173 [03:02<00:00, 11.91it/s]\n"
     ]
    },
    {
     "name": "stdout",
     "output_type": "stream",
     "text": [
      "model 2020_08_26_11_49_38_0.cpt test dataset:\n",
      "precision:0.47 recall:0.27 f1:0.34\n",
      "/home/wangnan/mrc4ner/checkpoints/2020_08_26_11_49_38_1.cpt \n",
      " Namespace(allow_impossible=False, alpha=0.5, beta=0.3333333333333333, cls=False, cpu=False, debug=False, dev_batch=10, dev_path='./datasets/OntoNotes4.0/mrc-ner.dev', dropout_prob=0.2, epochs=10, eval=True, gamma=1, local_rank=0, log_steps=20, lr=8e-06, max_tokens=512, pretrained_model_name_or_path='./pretrained_models/chinese_roberta_wwm_large_ext_pytorch', reduction='mean', seed=209, theta=0.3333333333333333, train_batch=4, train_path='./datasets/OntoNotes4.0/mrc-ner.train', train_span_method='mix', warmup_ratio=0.1, weight_decay=0.1)\n"
     ]
    },
    {
     "name": "stderr",
     "output_type": "stream",
     "text": [
      "100%|██████████| 2151/2151 [02:58<00:00, 12.03it/s]\n",
      "  0%|          | 0/2173 [00:00<?, ?it/s]"
     ]
    },
    {
     "name": "stdout",
     "output_type": "stream",
     "text": [
      "model 2020_08_26_11_49_38_1.cpt develop dataset:\n",
      "precision:0.65 recall:0.67 f1:0.66\n"
     ]
    },
    {
     "name": "stderr",
     "output_type": "stream",
     "text": [
      "100%|██████████| 2173/2173 [03:02<00:00, 11.91it/s]\n"
     ]
    },
    {
     "name": "stdout",
     "output_type": "stream",
     "text": [
      "model 2020_08_26_11_49_38_1.cpt test dataset:\n",
      "precision:0.65 recall:0.68 f1:0.67\n",
      "/home/wangnan/mrc4ner/checkpoints/2020_08_26_11_49_38_2.cpt \n",
      " Namespace(allow_impossible=False, alpha=0.5, beta=0.3333333333333333, cls=False, cpu=False, debug=False, dev_batch=10, dev_path='./datasets/OntoNotes4.0/mrc-ner.dev', dropout_prob=0.2, epochs=10, eval=True, gamma=1, local_rank=0, log_steps=20, lr=8e-06, max_tokens=512, pretrained_model_name_or_path='./pretrained_models/chinese_roberta_wwm_large_ext_pytorch', reduction='mean', seed=209, theta=0.3333333333333333, train_batch=4, train_path='./datasets/OntoNotes4.0/mrc-ner.train', train_span_method='mix', warmup_ratio=0.1, weight_decay=0.1)\n"
     ]
    },
    {
     "name": "stderr",
     "output_type": "stream",
     "text": [
      "100%|██████████| 2151/2151 [02:56<00:00, 12.15it/s]\n",
      "  0%|          | 0/2173 [00:00<?, ?it/s]"
     ]
    },
    {
     "name": "stdout",
     "output_type": "stream",
     "text": [
      "model 2020_08_26_11_49_38_2.cpt develop dataset:\n",
      "precision:0.56 recall:0.80 f1:0.66\n"
     ]
    },
    {
     "name": "stderr",
     "output_type": "stream",
     "text": [
      "100%|██████████| 2173/2173 [03:03<00:00, 11.85it/s]\n"
     ]
    },
    {
     "name": "stdout",
     "output_type": "stream",
     "text": [
      "model 2020_08_26_11_49_38_2.cpt test dataset:\n",
      "precision:0.57 recall:0.83 f1:0.68\n",
      "/home/wangnan/mrc4ner/checkpoints/2020_08_26_11_49_38_3.cpt \n",
      " Namespace(allow_impossible=False, alpha=0.5, beta=0.3333333333333333, cls=False, cpu=False, debug=False, dev_batch=10, dev_path='./datasets/OntoNotes4.0/mrc-ner.dev', dropout_prob=0.2, epochs=10, eval=True, gamma=1, local_rank=0, log_steps=20, lr=8e-06, max_tokens=512, pretrained_model_name_or_path='./pretrained_models/chinese_roberta_wwm_large_ext_pytorch', reduction='mean', seed=209, theta=0.3333333333333333, train_batch=4, train_path='./datasets/OntoNotes4.0/mrc-ner.train', train_span_method='mix', warmup_ratio=0.1, weight_decay=0.1)\n"
     ]
    },
    {
     "name": "stderr",
     "output_type": "stream",
     "text": [
      "100%|██████████| 2151/2151 [02:56<00:00, 12.16it/s]\n",
      "  0%|          | 0/2173 [00:00<?, ?it/s]"
     ]
    },
    {
     "name": "stdout",
     "output_type": "stream",
     "text": [
      "model 2020_08_26_11_49_38_3.cpt develop dataset:\n",
      "precision:0.57 recall:0.79 f1:0.67\n"
     ]
    },
    {
     "name": "stderr",
     "output_type": "stream",
     "text": [
      "100%|██████████| 2173/2173 [03:03<00:00, 11.83it/s]\n"
     ]
    },
    {
     "name": "stdout",
     "output_type": "stream",
     "text": [
      "model 2020_08_26_11_49_38_3.cpt test dataset:\n",
      "precision:0.58 recall:0.81 f1:0.68\n",
      "/home/wangnan/mrc4ner/checkpoints/2020_08_26_11_49_38_4.cpt \n",
      " Namespace(allow_impossible=False, alpha=0.5, beta=0.3333333333333333, cls=False, cpu=False, debug=False, dev_batch=10, dev_path='./datasets/OntoNotes4.0/mrc-ner.dev', dropout_prob=0.2, epochs=10, eval=True, gamma=1, local_rank=0, log_steps=20, lr=8e-06, max_tokens=512, pretrained_model_name_or_path='./pretrained_models/chinese_roberta_wwm_large_ext_pytorch', reduction='mean', seed=209, theta=0.3333333333333333, train_batch=4, train_path='./datasets/OntoNotes4.0/mrc-ner.train', train_span_method='mix', warmup_ratio=0.1, weight_decay=0.1)\n"
     ]
    },
    {
     "name": "stderr",
     "output_type": "stream",
     "text": [
      "100%|██████████| 2151/2151 [02:57<00:00, 12.09it/s]\n",
      "  0%|          | 0/2173 [00:00<?, ?it/s]"
     ]
    },
    {
     "name": "stdout",
     "output_type": "stream",
     "text": [
      "model 2020_08_26_11_49_38_4.cpt develop dataset:\n",
      "precision:0.61 recall:0.80 f1:0.69\n"
     ]
    },
    {
     "name": "stderr",
     "output_type": "stream",
     "text": [
      "100%|██████████| 2173/2173 [03:05<00:00, 11.72it/s]\n"
     ]
    },
    {
     "name": "stdout",
     "output_type": "stream",
     "text": [
      "model 2020_08_26_11_49_38_4.cpt test dataset:\n",
      "precision:0.62 recall:0.83 f1:0.71\n",
      "/home/wangnan/mrc4ner/checkpoints/2020_08_26_11_49_38_5.cpt \n",
      " Namespace(allow_impossible=False, alpha=0.5, beta=0.3333333333333333, cls=False, cpu=False, debug=False, dev_batch=10, dev_path='./datasets/OntoNotes4.0/mrc-ner.dev', dropout_prob=0.2, epochs=10, eval=True, gamma=1, local_rank=0, log_steps=20, lr=8e-06, max_tokens=512, pretrained_model_name_or_path='./pretrained_models/chinese_roberta_wwm_large_ext_pytorch', reduction='mean', seed=209, theta=0.3333333333333333, train_batch=4, train_path='./datasets/OntoNotes4.0/mrc-ner.train', train_span_method='mix', warmup_ratio=0.1, weight_decay=0.1)\n"
     ]
    },
    {
     "name": "stderr",
     "output_type": "stream",
     "text": [
      "100%|██████████| 2151/2151 [02:56<00:00, 12.16it/s]\n",
      "  0%|          | 0/2173 [00:00<?, ?it/s]"
     ]
    },
    {
     "name": "stdout",
     "output_type": "stream",
     "text": [
      "model 2020_08_26_11_49_38_5.cpt develop dataset:\n",
      "precision:0.68 recall:0.78 f1:0.73\n"
     ]
    },
    {
     "name": "stderr",
     "output_type": "stream",
     "text": [
      "100%|██████████| 2173/2173 [03:02<00:00, 11.89it/s]\n"
     ]
    },
    {
     "name": "stdout",
     "output_type": "stream",
     "text": [
      "model 2020_08_26_11_49_38_5.cpt test dataset:\n",
      "precision:0.69 recall:0.82 f1:0.75\n"
     ]
    }
   ],
   "source": [
    "scores = []\n",
    "for file in files:\n",
    "    s = test(file,8)\n",
    "    scores.append(s)"
   ]
  },
  {
   "cell_type": "code",
   "execution_count": 8,
   "metadata": {},
   "outputs": [
    {
     "name": "stdout",
     "output_type": "stream",
     "text": [
      "[('2020_08_25_19_24_26_0.cpt', 0.0, 0.0, 0.0), ('2020_08_25_19_24_26_1.cpt', 0.0, 0.0, 0.0), ('2020_08_25_19_24_26_2.cpt', 0.3528521536259776, 0.39579524674904737, 0.3730915744703849), ('2020_08_25_19_24_26_3.cpt', 0.4809175399959543, 0.6351527813221268, 0.547377407304547), ('2020_08_25_19_24_26_4.cpt', 0.6833851160403336, 0.603160093940564, 0.6407708135016635), ('2020_08_25_19_24_26_5.cpt', 0.679681378861363, 0.679681378861363, 0.6796808788617309), ('2020_08_25_19_24_26_6.cpt', 0.5528143274348671, 0.7900235047283856, 0.6504672071786851), ('2020_08_25_19_24_26_7.cpt', 0.6523073425037159, 0.7494123791134222, 0.6974958562286077), ('2020_08_25_19_24_26_8.cpt', 0.6804829907488119, 0.7653434316054657, 0.7204223398126023), ('2020_08_25_19_24_26_9.cpt', 0.6033090407126936, 0.7999477669365438, 0.6878503967838014), ('2020_08_25_23_00_09_0.cpt', 0.0, 0.0, 0.0), ('2020_08_25_23_00_09_1.cpt', 0.0, 0.0, 0.0), ('2020_08_25_23_00_09_2.cpt', 0.0, 0.0, 0.0), ('2020_08_25_23_00_09_3.cpt', 0.3114195275599173, 0.16701488637150497, 0.21742410989978506), ('2020_08_25_23_00_09_4.cpt', 0.5185794596848239, 0.4938626272533478, 0.5059188367300468), ('2020_08_25_23_00_09_5.cpt', 0.5296437962551226, 0.57861060321512, 0.5530449327597454), ('2020_08_25_23_00_09_6.cpt', 0.6286883479831263, 0.7623400364635231, 0.6890929889540811), ('2020_08_25_23_00_09_7.cpt', 0.6048989345210695, 0.7932880646652797, 0.6864014071978225), ('2020_08_25_23_00_09_8.cpt', 0.5660937090510345, 0.8472185948227711, 0.678696104261751), ('2020_08_25_23_00_09_9.cpt', 0.5592360993274264, 0.8641943064946207, 0.6790473373684174), ('2020_08_26_01_01_13_0.cpt', 0.0, 0.0, 0.0), ('2020_08_26_01_23_03_0.cpt', 0.0, 0.0, 0.0), ('2020_08_26_01_23_03_1.cpt', 0.0, 0.0, 0.0), ('2020_08_26_11_12_47_0.cpt', 0.9056939485663809, 0.06646644031516499, 0.12384415481764909), ('2020_08_26_11_49_38_0.cpt', 0.4687139227733285, 0.2650822668758054, 0.3386432952255223), ('2020_08_26_11_49_38_1.cpt', 0.6538847116975082, 0.681378950028548, 0.6673482659538487), ('2020_08_26_11_49_38_2.cpt', 0.5729563167869353, 0.8255419168417939, 0.676438634577717), ('2020_08_26_11_49_38_3.cpt', 0.5829047039574576, 0.8139200834664507, 0.6793085430832735), ('2020_08_26_11_49_38_4.cpt', 0.622383806561621, 0.8271089056115031, 0.7102882679549282), ('2020_08_26_11_49_38_5.cpt', 0.6938255181583166, 0.8173152258008206, 0.7505241150366504)]\n"
     ]
    }
   ],
   "source": [
    "print(scores)"
   ]
  }
 ],
 "metadata": {
  "kernelspec": {
   "display_name": "mypython",
   "language": "python",
   "name": "mypython"
  },
  "language_info": {
   "codemirror_mode": {
    "name": "ipython",
    "version": 3
   },
   "file_extension": ".py",
   "mimetype": "text/x-python",
   "name": "python",
   "nbconvert_exporter": "python",
   "pygments_lexer": "ipython3",
   "version": "3.8.3"
  }
 },
 "nbformat": 4,
 "nbformat_minor": 4
}
