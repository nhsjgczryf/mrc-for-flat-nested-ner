{
 "cells": [
  {
   "cell_type": "code",
   "execution_count": 1,
   "metadata": {},
   "outputs": [],
   "source": [
    "import os\n",
    "os.chdir('/home/wangnan/mrc4ner')\n",
    "from evaluate import evaluation\n",
    "from model import MyModel\n",
    "from mydataset import load_data,collate_fn,MyDataset\n",
    "import pickle \n",
    "from transformers import BertTokenizer\n",
    "import torch\n",
    "import time\n",
    "from tqdm import tqdm\n",
    "from torch.utils.data import DataLoader\n",
    "from multiprocessing import Process\n",
    "\n",
    "os.environ['CUDA_VISIBLE_DEVICES']='2'"
   ]
  },
  {
   "cell_type": "code",
   "execution_count": 4,
   "metadata": {},
   "outputs": [
    {
     "name": "stdout",
     "output_type": "stream",
     "text": [
      "/bin/sh: 1: PYTHONPATH: not found\n"
     ]
    }
   ],
   "source": [
    "!PYTHONPATH"
   ]
  },
  {
   "cell_type": "code",
   "execution_count": 2,
   "metadata": {},
   "outputs": [],
   "source": [
    "pretrained_model1 = '/home/wangnan/mrc4ner/pretrained_models/chinese_roberta_wwm_large_ext_pytorch'\n",
    "pretrained_model2 = '/home/wangnan/mrc4ner/pretrained_models/RoBERTa_zh_Large_PyTorch'\n",
    "\n",
    "dev_path = '/home/wangnan/mrc4ner/datasets/OntoNotes4.0/mrc-ner.dev'\n",
    "test_path = '/home/wangnan/mrc4ner/datasets/OntoNotes4.0/mrc-ner.test'"
   ]
  },
  {
   "cell_type": "code",
   "execution_count": 3,
   "metadata": {},
   "outputs": [],
   "source": [
    "with open(\"/home/wangnan/mrc4ner/datasets/OntoNotes4.0/eval_dataset\",'rb') as f:\n",
    "    data = pickle.load(f)\n",
    "    pre1_dev_dataset=data['pre1_dev_dataset']\n",
    "    pre1_test_dataset=data['pre1_test_dataset']\n",
    "    pre2_dev_dataset=data['pre2_dev_dataset']\n",
    "    pre2_test_dataset=data['pre2_test_dataset']"
   ]
  },
  {
   "cell_type": "code",
   "execution_count": 4,
   "metadata": {},
   "outputs": [],
   "source": [
    "def test(model_dir,file,batch_size,args):\n",
    "    path = model_dir+file\n",
    "    cpt = torch.load(path)\n",
    "    mymodel = MyModel(args)\n",
    "    mymodel.load_state_dict(cpt[\"state_dict\"])\n",
    "    test_dataset = pre1_test_dataset if args.pretrained_model_name_or_path==pretrained_model1 else pre2_test_dataset\n",
    "    test_dataloader = DataLoader(test_dataset, batch_size=batch_size, collate_fn=collate_fn,\n",
    "                              pin_memory=False,shuffle=False)\n",
    "    print(path,'\\n',args)\n",
    "    time.sleep(0.1)\n",
    "    p,r,f = evaluation(mymodel,test_dataloader,train_eval=False,desc=file)\n",
    "    print(\"model {} test dataset:\\nprecision:{:.4f} recall:{:.4f} f1:{:.4f}\".format(file,p,r,f))\n",
    "    return file,p,r,f"
   ]
  },
  {
   "cell_type": "code",
   "execution_count": 8,
   "metadata": {},
   "outputs": [
    {
     "name": "stdout",
     "output_type": "stream",
     "text": [
      "/home/wangnan/mrc4ner/checkpoints/2020_09_03_02_07_38/checkpoint_0.cpt \n",
      " Namespace(allow_impossible=True, alpha=1, beta=1, cls=False, cpu=False, debug=False, dev_batch=10, dev_path='./datasets/OntoNotes4.0/mrc-ner.dev', dropout_prob=0.2, epochs=10, eval=False, gamma=1, local_rank=2, log_steps=20, lr=8e-06, max_tokens=512, not_store=False, pretrained_model_name_or_path='./pretrained_models/chinese_roberta_wwm_large_ext_pytorch', reduction='mean', seed=209, span_layer=True, theta=1, train_batch=4, train_path='./datasets/OntoNotes4.0/mrc-ner.train', train_span_method='mix', warmup_ratio=-1.0, weight_decay=0.01)\n"
     ]
    },
    {
     "name": "stderr",
     "output_type": "stream",
     "text": [
      "checkpoint_0.cpt: 100%|██████████| 2898/2898 [04:25<00:00, 10.91it/s]\n"
     ]
    },
    {
     "name": "stdout",
     "output_type": "stream",
     "text": [
      "model checkpoint_0.cpt test dataset:\n",
      "precision:0.7952 recall:0.4258 f1:0.5546\n",
      "/home/wangnan/mrc4ner/checkpoints/2020_09_03_02_07_38/checkpoint_1.cpt \n",
      " Namespace(allow_impossible=True, alpha=1, beta=1, cls=False, cpu=False, debug=False, dev_batch=10, dev_path='./datasets/OntoNotes4.0/mrc-ner.dev', dropout_prob=0.2, epochs=10, eval=False, gamma=1, local_rank=2, log_steps=20, lr=8e-06, max_tokens=512, not_store=False, pretrained_model_name_or_path='./pretrained_models/chinese_roberta_wwm_large_ext_pytorch', reduction='mean', seed=209, span_layer=True, theta=1, train_batch=4, train_path='./datasets/OntoNotes4.0/mrc-ner.train', train_span_method='mix', warmup_ratio=-1.0, weight_decay=0.01)\n"
     ]
    },
    {
     "name": "stderr",
     "output_type": "stream",
     "text": [
      "checkpoint_1.cpt: 100%|██████████| 2898/2898 [04:32<00:00, 10.64it/s]\n"
     ]
    },
    {
     "name": "stdout",
     "output_type": "stream",
     "text": [
      "model checkpoint_1.cpt test dataset:\n",
      "precision:0.8412 recall:0.5120 f1:0.6366\n",
      "/home/wangnan/mrc4ner/checkpoints/2020_09_03_02_07_38/checkpoint_2.cpt \n",
      " Namespace(allow_impossible=True, alpha=1, beta=1, cls=False, cpu=False, debug=False, dev_batch=10, dev_path='./datasets/OntoNotes4.0/mrc-ner.dev', dropout_prob=0.2, epochs=10, eval=False, gamma=1, local_rank=2, log_steps=20, lr=8e-06, max_tokens=512, not_store=False, pretrained_model_name_or_path='./pretrained_models/chinese_roberta_wwm_large_ext_pytorch', reduction='mean', seed=209, span_layer=True, theta=1, train_batch=4, train_path='./datasets/OntoNotes4.0/mrc-ner.train', train_span_method='mix', warmup_ratio=-1.0, weight_decay=0.01)\n"
     ]
    },
    {
     "name": "stderr",
     "output_type": "stream",
     "text": [
      "checkpoint_2.cpt: 100%|██████████| 2898/2898 [04:35<00:00, 10.52it/s]\n"
     ]
    },
    {
     "name": "stdout",
     "output_type": "stream",
     "text": [
      "model checkpoint_2.cpt test dataset:\n",
      "precision:0.7639 recall:0.4642 f1:0.5775\n",
      "/home/wangnan/mrc4ner/checkpoints/2020_09_03_02_07_38/checkpoint_3.cpt \n",
      " Namespace(allow_impossible=True, alpha=1, beta=1, cls=False, cpu=False, debug=False, dev_batch=10, dev_path='./datasets/OntoNotes4.0/mrc-ner.dev', dropout_prob=0.2, epochs=10, eval=False, gamma=1, local_rank=2, log_steps=20, lr=8e-06, max_tokens=512, not_store=False, pretrained_model_name_or_path='./pretrained_models/chinese_roberta_wwm_large_ext_pytorch', reduction='mean', seed=209, span_layer=True, theta=1, train_batch=4, train_path='./datasets/OntoNotes4.0/mrc-ner.train', train_span_method='mix', warmup_ratio=-1.0, weight_decay=0.01)\n"
     ]
    },
    {
     "name": "stderr",
     "output_type": "stream",
     "text": [
      "checkpoint_3.cpt: 100%|██████████| 2898/2898 [04:38<00:00, 10.42it/s]"
     ]
    },
    {
     "name": "stdout",
     "output_type": "stream",
     "text": [
      "model checkpoint_3.cpt test dataset:\n",
      "precision:0.7261 recall:0.6602 f1:0.6916\n",
      "[('checkpoint_0.cpt', 0.7951719090965198, 0.4258291981684736, 0.5546385455716133), ('checkpoint_1.cpt', 0.8412357861314662, 0.5120135805024792, 0.6365771737795523), ('checkpoint_2.cpt', 0.7638590458178214, 0.46422042302634886, 0.5774849097889968), ('checkpoint_3.cpt', 0.7261237971095614, 0.6602246016374739, 0.6916074621872812)]\n"
     ]
    },
    {
     "name": "stderr",
     "output_type": "stream",
     "text": [
      "\n"
     ]
    }
   ],
   "source": [
    "#这个是作者的模型\n",
    "base_dir = '/home/wangnan/mrc4ner/checkpoints/'\n",
    "base_model_dir = '2020_09_03_02_07_38'\n",
    "model_dir = base_dir+base_model_dir+'/'\n",
    "args = pickle.load(open(model_dir+'args','rb'))\n",
    "files = os.listdir(base_dir+base_model_dir)\n",
    "files.remove('args')\n",
    "files = sorted(files)\n",
    "scores = []\n",
    "for file in files:\n",
    "    s = test(model_dir,file,6,args)\n",
    "    scores.append(s)\n",
    "print(scores)"
   ]
  },
  {
   "cell_type": "code",
   "execution_count": null,
   "metadata": {},
   "outputs": [],
   "source": [
    "base_dir = '/home/wangnan/mrc4ner/checkpoints/'\n",
    "base_model_dir = '2020_09_03_15_31_16'\n",
    "model_dir = base_dir+base_model_dir+'/'\n",
    "args = pickle.load(open(model_dir+'args','rb'))\n",
    "files = os.listdir(base_dir+base_model_dir)\n",
    "files.remove('args')\n",
    "files = sorted(files)\n",
    "scores = []\n",
    "for file in files:\n",
    "    s = test(model_dir,file,6,args)\n",
    "    scores.append(s)\n",
    "print(scores)"
   ]
  },
  {
   "cell_type": "code",
   "execution_count": null,
   "metadata": {},
   "outputs": [],
   "source": []
  },
  {
   "cell_type": "code",
   "execution_count": null,
   "metadata": {},
   "outputs": [],
   "source": []
  },
  {
   "cell_type": "code",
   "execution_count": null,
   "metadata": {},
   "outputs": [],
   "source": []
  },
  {
   "cell_type": "code",
   "execution_count": 5,
   "metadata": {},
   "outputs": [],
   "source": [
    "base_dir = '/home/wangnan/mrc4ner/checkpoints/'\n",
    "base_model_dir = '2020_09_01_06_30_06'\n",
    "model_dir = base_dir+base_model_dir+'/'\n",
    "args = pickle.load(open(model_dir+'args','rb'))\n",
    "files = os.listdir(base_dir+base_model_dir)\n",
    "files.remove('args')\n",
    "files = sorted(files)"
   ]
  },
  {
   "cell_type": "code",
   "execution_count": 6,
   "metadata": {},
   "outputs": [
    {
     "name": "stdout",
     "output_type": "stream",
     "text": [
      "/home/wangnan/mrc4ner/checkpoints/2020_09_01_06_30_06/checkpoint_0.cpt \n",
      " Namespace(allow_impossible=True, alpha=1, beta=1, cls=True, cpu=False, debug=False, dev_batch=10, dev_path='./datasets/OntoNotes4.0/mrc-ner.dev', dropout_prob=0.1, epochs=10, eval=False, gamma=1, local_rank=0, log_steps=20, lr=2e-05, max_tokens=450, not_store=False, pretrained_model_name_or_path='./pretrained_models/chinese_roberta_wwm_large_ext_pytorch', reduction='mean', seed=209, span_layer=True, theta=1, train_batch=4, train_path='./datasets/OntoNotes4.0/mrc-ner.train', train_span_method='mix', warmup_ratio=0.1, weight_decay=0.01)\n"
     ]
    },
    {
     "ename": "RuntimeError",
     "evalue": "CUDA out of memory. Tried to allocate 16.00 MiB (GPU 0; 11.91 GiB total capacity; 1.94 GiB already allocated; 2.06 MiB free; 1.96 GiB reserved in total by PyTorch)",
     "output_type": "error",
     "traceback": [
      "\u001b[0;31m---------------------------------------------------------------------------\u001b[0m",
      "\u001b[0;31mRuntimeError\u001b[0m                              Traceback (most recent call last)",
      "\u001b[0;32m<ipython-input-6-7c9050b76836>\u001b[0m in \u001b[0;36m<module>\u001b[0;34m\u001b[0m\n\u001b[1;32m      1\u001b[0m \u001b[0mscores\u001b[0m \u001b[0;34m=\u001b[0m \u001b[0;34m[\u001b[0m\u001b[0;34m]\u001b[0m\u001b[0;34m\u001b[0m\u001b[0;34m\u001b[0m\u001b[0m\n\u001b[1;32m      2\u001b[0m \u001b[0;32mfor\u001b[0m \u001b[0mfile\u001b[0m \u001b[0;32min\u001b[0m \u001b[0mfiles\u001b[0m\u001b[0;34m:\u001b[0m\u001b[0;34m\u001b[0m\u001b[0;34m\u001b[0m\u001b[0m\n\u001b[0;32m----> 3\u001b[0;31m     \u001b[0ms\u001b[0m \u001b[0;34m=\u001b[0m \u001b[0mtest\u001b[0m\u001b[0;34m(\u001b[0m\u001b[0mmodel_dir\u001b[0m\u001b[0;34m,\u001b[0m\u001b[0mfile\u001b[0m\u001b[0;34m,\u001b[0m\u001b[0;36m7\u001b[0m\u001b[0;34m,\u001b[0m\u001b[0margs\u001b[0m\u001b[0;34m)\u001b[0m\u001b[0;34m\u001b[0m\u001b[0;34m\u001b[0m\u001b[0m\n\u001b[0m\u001b[1;32m      4\u001b[0m     \u001b[0mscores\u001b[0m\u001b[0;34m.\u001b[0m\u001b[0mappend\u001b[0m\u001b[0;34m(\u001b[0m\u001b[0ms\u001b[0m\u001b[0;34m)\u001b[0m\u001b[0;34m\u001b[0m\u001b[0;34m\u001b[0m\u001b[0m\n\u001b[1;32m      5\u001b[0m \u001b[0mprint\u001b[0m\u001b[0;34m(\u001b[0m\u001b[0mscores\u001b[0m\u001b[0;34m)\u001b[0m\u001b[0;34m\u001b[0m\u001b[0;34m\u001b[0m\u001b[0m\n",
      "\u001b[0;32m<ipython-input-4-bb35b9fc27b4>\u001b[0m in \u001b[0;36mtest\u001b[0;34m(model_dir, file, batch_size, args)\u001b[0m\n\u001b[1;32m      9\u001b[0m     \u001b[0mprint\u001b[0m\u001b[0;34m(\u001b[0m\u001b[0mpath\u001b[0m\u001b[0;34m,\u001b[0m\u001b[0;34m'\\n'\u001b[0m\u001b[0;34m,\u001b[0m\u001b[0margs\u001b[0m\u001b[0;34m)\u001b[0m\u001b[0;34m\u001b[0m\u001b[0;34m\u001b[0m\u001b[0m\n\u001b[1;32m     10\u001b[0m     \u001b[0mtime\u001b[0m\u001b[0;34m.\u001b[0m\u001b[0msleep\u001b[0m\u001b[0;34m(\u001b[0m\u001b[0;36m0.1\u001b[0m\u001b[0;34m)\u001b[0m\u001b[0;34m\u001b[0m\u001b[0;34m\u001b[0m\u001b[0m\n\u001b[0;32m---> 11\u001b[0;31m     \u001b[0mp\u001b[0m\u001b[0;34m,\u001b[0m\u001b[0mr\u001b[0m\u001b[0;34m,\u001b[0m\u001b[0mf\u001b[0m \u001b[0;34m=\u001b[0m \u001b[0mevaluation\u001b[0m\u001b[0;34m(\u001b[0m\u001b[0mmymodel\u001b[0m\u001b[0;34m,\u001b[0m\u001b[0mtest_dataloader\u001b[0m\u001b[0;34m,\u001b[0m\u001b[0mtrain_eval\u001b[0m\u001b[0;34m=\u001b[0m\u001b[0;32mFalse\u001b[0m\u001b[0;34m,\u001b[0m\u001b[0mdesc\u001b[0m\u001b[0;34m=\u001b[0m\u001b[0mfile\u001b[0m\u001b[0;34m)\u001b[0m\u001b[0;34m\u001b[0m\u001b[0;34m\u001b[0m\u001b[0m\n\u001b[0m\u001b[1;32m     12\u001b[0m     \u001b[0mprint\u001b[0m\u001b[0;34m(\u001b[0m\u001b[0;34m\"model {} test dataset:\\nprecision:{:.4f} recall:{:.4f} f1:{:.4f}\"\u001b[0m\u001b[0;34m.\u001b[0m\u001b[0mformat\u001b[0m\u001b[0;34m(\u001b[0m\u001b[0mfile\u001b[0m\u001b[0;34m,\u001b[0m\u001b[0mp\u001b[0m\u001b[0;34m,\u001b[0m\u001b[0mr\u001b[0m\u001b[0;34m,\u001b[0m\u001b[0mf\u001b[0m\u001b[0;34m)\u001b[0m\u001b[0;34m)\u001b[0m\u001b[0;34m\u001b[0m\u001b[0;34m\u001b[0m\u001b[0m\n\u001b[1;32m     13\u001b[0m     \u001b[0;32mreturn\u001b[0m \u001b[0mfile\u001b[0m\u001b[0;34m,\u001b[0m\u001b[0mp\u001b[0m\u001b[0;34m,\u001b[0m\u001b[0mr\u001b[0m\u001b[0;34m,\u001b[0m\u001b[0mf\u001b[0m\u001b[0;34m\u001b[0m\u001b[0;34m\u001b[0m\u001b[0m\n",
      "\u001b[0;32m~/mrc4ner/evaluate.py\u001b[0m in \u001b[0;36mevaluation\u001b[0;34m(model, dataloader, train_eval, desc)\u001b[0m\n\u001b[1;32m     33\u001b[0m     \u001b[0;31m#tokenizer = BertTokenizer.from_pretrained(model.config.pretrained_model_name_or_path)\u001b[0m\u001b[0;34m\u001b[0m\u001b[0;34m\u001b[0m\u001b[0;34m\u001b[0m\u001b[0m\n\u001b[1;32m     34\u001b[0m     \u001b[0mdevice\u001b[0m \u001b[0;34m=\u001b[0m \u001b[0mtorch\u001b[0m\u001b[0;34m.\u001b[0m\u001b[0mdevice\u001b[0m\u001b[0;34m(\u001b[0m\u001b[0;34m\"cuda\"\u001b[0m\u001b[0;34m)\u001b[0m \u001b[0;32mif\u001b[0m \u001b[0mtorch\u001b[0m\u001b[0;34m.\u001b[0m\u001b[0mcuda\u001b[0m\u001b[0;34m.\u001b[0m\u001b[0mis_available\u001b[0m\u001b[0;34m(\u001b[0m\u001b[0;34m)\u001b[0m \u001b[0;32melse\u001b[0m \u001b[0mtorch\u001b[0m\u001b[0;34m.\u001b[0m\u001b[0mdevice\u001b[0m\u001b[0;34m(\u001b[0m\u001b[0;34m\"cpu\"\u001b[0m\u001b[0;34m)\u001b[0m\u001b[0;34m\u001b[0m\u001b[0;34m\u001b[0m\u001b[0m\n\u001b[0;32m---> 35\u001b[0;31m     \u001b[0mmodel\u001b[0m\u001b[0;34m.\u001b[0m\u001b[0mto\u001b[0m\u001b[0;34m(\u001b[0m\u001b[0mdevice\u001b[0m\u001b[0;34m)\u001b[0m\u001b[0;34m\u001b[0m\u001b[0;34m\u001b[0m\u001b[0m\n\u001b[0m\u001b[1;32m     36\u001b[0m     \u001b[0;31m#print(device)\u001b[0m\u001b[0;34m\u001b[0m\u001b[0;34m\u001b[0m\u001b[0;34m\u001b[0m\u001b[0m\n\u001b[1;32m     37\u001b[0m     \u001b[0mgold\u001b[0m \u001b[0;34m=\u001b[0m \u001b[0;34m[\u001b[0m\u001b[0;34m]\u001b[0m\u001b[0;34m\u001b[0m\u001b[0;34m\u001b[0m\u001b[0m\n",
      "\u001b[0;32m~/.conda/envs/mypython/lib/python3.8/site-packages/torch/nn/modules/module.py\u001b[0m in \u001b[0;36mto\u001b[0;34m(self, *args, **kwargs)\u001b[0m\n\u001b[1;32m    423\u001b[0m             \u001b[0;32mreturn\u001b[0m \u001b[0mt\u001b[0m\u001b[0;34m.\u001b[0m\u001b[0mto\u001b[0m\u001b[0;34m(\u001b[0m\u001b[0mdevice\u001b[0m\u001b[0;34m,\u001b[0m \u001b[0mdtype\u001b[0m \u001b[0;32mif\u001b[0m \u001b[0mt\u001b[0m\u001b[0;34m.\u001b[0m\u001b[0mis_floating_point\u001b[0m\u001b[0;34m(\u001b[0m\u001b[0;34m)\u001b[0m \u001b[0;32melse\u001b[0m \u001b[0;32mNone\u001b[0m\u001b[0;34m,\u001b[0m \u001b[0mnon_blocking\u001b[0m\u001b[0;34m)\u001b[0m\u001b[0;34m\u001b[0m\u001b[0;34m\u001b[0m\u001b[0m\n\u001b[1;32m    424\u001b[0m \u001b[0;34m\u001b[0m\u001b[0m\n\u001b[0;32m--> 425\u001b[0;31m         \u001b[0;32mreturn\u001b[0m \u001b[0mself\u001b[0m\u001b[0;34m.\u001b[0m\u001b[0m_apply\u001b[0m\u001b[0;34m(\u001b[0m\u001b[0mconvert\u001b[0m\u001b[0;34m)\u001b[0m\u001b[0;34m\u001b[0m\u001b[0;34m\u001b[0m\u001b[0m\n\u001b[0m\u001b[1;32m    426\u001b[0m \u001b[0;34m\u001b[0m\u001b[0m\n\u001b[1;32m    427\u001b[0m     \u001b[0;32mdef\u001b[0m \u001b[0mregister_backward_hook\u001b[0m\u001b[0;34m(\u001b[0m\u001b[0mself\u001b[0m\u001b[0;34m,\u001b[0m \u001b[0mhook\u001b[0m\u001b[0;34m)\u001b[0m\u001b[0;34m:\u001b[0m\u001b[0;34m\u001b[0m\u001b[0;34m\u001b[0m\u001b[0m\n",
      "\u001b[0;32m~/.conda/envs/mypython/lib/python3.8/site-packages/torch/nn/modules/module.py\u001b[0m in \u001b[0;36m_apply\u001b[0;34m(self, fn)\u001b[0m\n\u001b[1;32m    199\u001b[0m     \u001b[0;32mdef\u001b[0m \u001b[0m_apply\u001b[0m\u001b[0;34m(\u001b[0m\u001b[0mself\u001b[0m\u001b[0;34m,\u001b[0m \u001b[0mfn\u001b[0m\u001b[0;34m)\u001b[0m\u001b[0;34m:\u001b[0m\u001b[0;34m\u001b[0m\u001b[0;34m\u001b[0m\u001b[0m\n\u001b[1;32m    200\u001b[0m         \u001b[0;32mfor\u001b[0m \u001b[0mmodule\u001b[0m \u001b[0;32min\u001b[0m \u001b[0mself\u001b[0m\u001b[0;34m.\u001b[0m\u001b[0mchildren\u001b[0m\u001b[0;34m(\u001b[0m\u001b[0;34m)\u001b[0m\u001b[0;34m:\u001b[0m\u001b[0;34m\u001b[0m\u001b[0;34m\u001b[0m\u001b[0m\n\u001b[0;32m--> 201\u001b[0;31m             \u001b[0mmodule\u001b[0m\u001b[0;34m.\u001b[0m\u001b[0m_apply\u001b[0m\u001b[0;34m(\u001b[0m\u001b[0mfn\u001b[0m\u001b[0;34m)\u001b[0m\u001b[0;34m\u001b[0m\u001b[0;34m\u001b[0m\u001b[0m\n\u001b[0m\u001b[1;32m    202\u001b[0m \u001b[0;34m\u001b[0m\u001b[0m\n\u001b[1;32m    203\u001b[0m         \u001b[0;32mdef\u001b[0m \u001b[0mcompute_should_use_set_data\u001b[0m\u001b[0;34m(\u001b[0m\u001b[0mtensor\u001b[0m\u001b[0;34m,\u001b[0m \u001b[0mtensor_applied\u001b[0m\u001b[0;34m)\u001b[0m\u001b[0;34m:\u001b[0m\u001b[0;34m\u001b[0m\u001b[0;34m\u001b[0m\u001b[0m\n",
      "\u001b[0;32m~/.conda/envs/mypython/lib/python3.8/site-packages/torch/nn/modules/module.py\u001b[0m in \u001b[0;36m_apply\u001b[0;34m(self, fn)\u001b[0m\n\u001b[1;32m    199\u001b[0m     \u001b[0;32mdef\u001b[0m \u001b[0m_apply\u001b[0m\u001b[0;34m(\u001b[0m\u001b[0mself\u001b[0m\u001b[0;34m,\u001b[0m \u001b[0mfn\u001b[0m\u001b[0;34m)\u001b[0m\u001b[0;34m:\u001b[0m\u001b[0;34m\u001b[0m\u001b[0;34m\u001b[0m\u001b[0m\n\u001b[1;32m    200\u001b[0m         \u001b[0;32mfor\u001b[0m \u001b[0mmodule\u001b[0m \u001b[0;32min\u001b[0m \u001b[0mself\u001b[0m\u001b[0;34m.\u001b[0m\u001b[0mchildren\u001b[0m\u001b[0;34m(\u001b[0m\u001b[0;34m)\u001b[0m\u001b[0;34m:\u001b[0m\u001b[0;34m\u001b[0m\u001b[0;34m\u001b[0m\u001b[0m\n\u001b[0;32m--> 201\u001b[0;31m             \u001b[0mmodule\u001b[0m\u001b[0;34m.\u001b[0m\u001b[0m_apply\u001b[0m\u001b[0;34m(\u001b[0m\u001b[0mfn\u001b[0m\u001b[0;34m)\u001b[0m\u001b[0;34m\u001b[0m\u001b[0;34m\u001b[0m\u001b[0m\n\u001b[0m\u001b[1;32m    202\u001b[0m \u001b[0;34m\u001b[0m\u001b[0m\n\u001b[1;32m    203\u001b[0m         \u001b[0;32mdef\u001b[0m \u001b[0mcompute_should_use_set_data\u001b[0m\u001b[0;34m(\u001b[0m\u001b[0mtensor\u001b[0m\u001b[0;34m,\u001b[0m \u001b[0mtensor_applied\u001b[0m\u001b[0;34m)\u001b[0m\u001b[0;34m:\u001b[0m\u001b[0;34m\u001b[0m\u001b[0;34m\u001b[0m\u001b[0m\n",
      "\u001b[0;32m~/.conda/envs/mypython/lib/python3.8/site-packages/torch/nn/modules/module.py\u001b[0m in \u001b[0;36m_apply\u001b[0;34m(self, fn)\u001b[0m\n\u001b[1;32m    199\u001b[0m     \u001b[0;32mdef\u001b[0m \u001b[0m_apply\u001b[0m\u001b[0;34m(\u001b[0m\u001b[0mself\u001b[0m\u001b[0;34m,\u001b[0m \u001b[0mfn\u001b[0m\u001b[0;34m)\u001b[0m\u001b[0;34m:\u001b[0m\u001b[0;34m\u001b[0m\u001b[0;34m\u001b[0m\u001b[0m\n\u001b[1;32m    200\u001b[0m         \u001b[0;32mfor\u001b[0m \u001b[0mmodule\u001b[0m \u001b[0;32min\u001b[0m \u001b[0mself\u001b[0m\u001b[0;34m.\u001b[0m\u001b[0mchildren\u001b[0m\u001b[0;34m(\u001b[0m\u001b[0;34m)\u001b[0m\u001b[0;34m:\u001b[0m\u001b[0;34m\u001b[0m\u001b[0;34m\u001b[0m\u001b[0m\n\u001b[0;32m--> 201\u001b[0;31m             \u001b[0mmodule\u001b[0m\u001b[0;34m.\u001b[0m\u001b[0m_apply\u001b[0m\u001b[0;34m(\u001b[0m\u001b[0mfn\u001b[0m\u001b[0;34m)\u001b[0m\u001b[0;34m\u001b[0m\u001b[0;34m\u001b[0m\u001b[0m\n\u001b[0m\u001b[1;32m    202\u001b[0m \u001b[0;34m\u001b[0m\u001b[0m\n\u001b[1;32m    203\u001b[0m         \u001b[0;32mdef\u001b[0m \u001b[0mcompute_should_use_set_data\u001b[0m\u001b[0;34m(\u001b[0m\u001b[0mtensor\u001b[0m\u001b[0;34m,\u001b[0m \u001b[0mtensor_applied\u001b[0m\u001b[0;34m)\u001b[0m\u001b[0;34m:\u001b[0m\u001b[0;34m\u001b[0m\u001b[0;34m\u001b[0m\u001b[0m\n",
      "\u001b[0;32m~/.conda/envs/mypython/lib/python3.8/site-packages/torch/nn/modules/module.py\u001b[0m in \u001b[0;36m_apply\u001b[0;34m(self, fn)\u001b[0m\n\u001b[1;32m    199\u001b[0m     \u001b[0;32mdef\u001b[0m \u001b[0m_apply\u001b[0m\u001b[0;34m(\u001b[0m\u001b[0mself\u001b[0m\u001b[0;34m,\u001b[0m \u001b[0mfn\u001b[0m\u001b[0;34m)\u001b[0m\u001b[0;34m:\u001b[0m\u001b[0;34m\u001b[0m\u001b[0;34m\u001b[0m\u001b[0m\n\u001b[1;32m    200\u001b[0m         \u001b[0;32mfor\u001b[0m \u001b[0mmodule\u001b[0m \u001b[0;32min\u001b[0m \u001b[0mself\u001b[0m\u001b[0;34m.\u001b[0m\u001b[0mchildren\u001b[0m\u001b[0;34m(\u001b[0m\u001b[0;34m)\u001b[0m\u001b[0;34m:\u001b[0m\u001b[0;34m\u001b[0m\u001b[0;34m\u001b[0m\u001b[0m\n\u001b[0;32m--> 201\u001b[0;31m             \u001b[0mmodule\u001b[0m\u001b[0;34m.\u001b[0m\u001b[0m_apply\u001b[0m\u001b[0;34m(\u001b[0m\u001b[0mfn\u001b[0m\u001b[0;34m)\u001b[0m\u001b[0;34m\u001b[0m\u001b[0;34m\u001b[0m\u001b[0m\n\u001b[0m\u001b[1;32m    202\u001b[0m \u001b[0;34m\u001b[0m\u001b[0m\n\u001b[1;32m    203\u001b[0m         \u001b[0;32mdef\u001b[0m \u001b[0mcompute_should_use_set_data\u001b[0m\u001b[0;34m(\u001b[0m\u001b[0mtensor\u001b[0m\u001b[0;34m,\u001b[0m \u001b[0mtensor_applied\u001b[0m\u001b[0;34m)\u001b[0m\u001b[0;34m:\u001b[0m\u001b[0;34m\u001b[0m\u001b[0;34m\u001b[0m\u001b[0m\n",
      "\u001b[0;32m~/.conda/envs/mypython/lib/python3.8/site-packages/torch/nn/modules/module.py\u001b[0m in \u001b[0;36m_apply\u001b[0;34m(self, fn)\u001b[0m\n\u001b[1;32m    199\u001b[0m     \u001b[0;32mdef\u001b[0m \u001b[0m_apply\u001b[0m\u001b[0;34m(\u001b[0m\u001b[0mself\u001b[0m\u001b[0;34m,\u001b[0m \u001b[0mfn\u001b[0m\u001b[0;34m)\u001b[0m\u001b[0;34m:\u001b[0m\u001b[0;34m\u001b[0m\u001b[0;34m\u001b[0m\u001b[0m\n\u001b[1;32m    200\u001b[0m         \u001b[0;32mfor\u001b[0m \u001b[0mmodule\u001b[0m \u001b[0;32min\u001b[0m \u001b[0mself\u001b[0m\u001b[0;34m.\u001b[0m\u001b[0mchildren\u001b[0m\u001b[0;34m(\u001b[0m\u001b[0;34m)\u001b[0m\u001b[0;34m:\u001b[0m\u001b[0;34m\u001b[0m\u001b[0;34m\u001b[0m\u001b[0m\n\u001b[0;32m--> 201\u001b[0;31m             \u001b[0mmodule\u001b[0m\u001b[0;34m.\u001b[0m\u001b[0m_apply\u001b[0m\u001b[0;34m(\u001b[0m\u001b[0mfn\u001b[0m\u001b[0;34m)\u001b[0m\u001b[0;34m\u001b[0m\u001b[0;34m\u001b[0m\u001b[0m\n\u001b[0m\u001b[1;32m    202\u001b[0m \u001b[0;34m\u001b[0m\u001b[0m\n\u001b[1;32m    203\u001b[0m         \u001b[0;32mdef\u001b[0m \u001b[0mcompute_should_use_set_data\u001b[0m\u001b[0;34m(\u001b[0m\u001b[0mtensor\u001b[0m\u001b[0;34m,\u001b[0m \u001b[0mtensor_applied\u001b[0m\u001b[0;34m)\u001b[0m\u001b[0;34m:\u001b[0m\u001b[0;34m\u001b[0m\u001b[0;34m\u001b[0m\u001b[0m\n",
      "\u001b[0;32m~/.conda/envs/mypython/lib/python3.8/site-packages/torch/nn/modules/module.py\u001b[0m in \u001b[0;36m_apply\u001b[0;34m(self, fn)\u001b[0m\n\u001b[1;32m    199\u001b[0m     \u001b[0;32mdef\u001b[0m \u001b[0m_apply\u001b[0m\u001b[0;34m(\u001b[0m\u001b[0mself\u001b[0m\u001b[0;34m,\u001b[0m \u001b[0mfn\u001b[0m\u001b[0;34m)\u001b[0m\u001b[0;34m:\u001b[0m\u001b[0;34m\u001b[0m\u001b[0;34m\u001b[0m\u001b[0m\n\u001b[1;32m    200\u001b[0m         \u001b[0;32mfor\u001b[0m \u001b[0mmodule\u001b[0m \u001b[0;32min\u001b[0m \u001b[0mself\u001b[0m\u001b[0;34m.\u001b[0m\u001b[0mchildren\u001b[0m\u001b[0;34m(\u001b[0m\u001b[0;34m)\u001b[0m\u001b[0;34m:\u001b[0m\u001b[0;34m\u001b[0m\u001b[0;34m\u001b[0m\u001b[0m\n\u001b[0;32m--> 201\u001b[0;31m             \u001b[0mmodule\u001b[0m\u001b[0;34m.\u001b[0m\u001b[0m_apply\u001b[0m\u001b[0;34m(\u001b[0m\u001b[0mfn\u001b[0m\u001b[0;34m)\u001b[0m\u001b[0;34m\u001b[0m\u001b[0;34m\u001b[0m\u001b[0m\n\u001b[0m\u001b[1;32m    202\u001b[0m \u001b[0;34m\u001b[0m\u001b[0m\n\u001b[1;32m    203\u001b[0m         \u001b[0;32mdef\u001b[0m \u001b[0mcompute_should_use_set_data\u001b[0m\u001b[0;34m(\u001b[0m\u001b[0mtensor\u001b[0m\u001b[0;34m,\u001b[0m \u001b[0mtensor_applied\u001b[0m\u001b[0;34m)\u001b[0m\u001b[0;34m:\u001b[0m\u001b[0;34m\u001b[0m\u001b[0;34m\u001b[0m\u001b[0m\n",
      "\u001b[0;32m~/.conda/envs/mypython/lib/python3.8/site-packages/torch/nn/modules/module.py\u001b[0m in \u001b[0;36m_apply\u001b[0;34m(self, fn)\u001b[0m\n\u001b[1;32m    221\u001b[0m                 \u001b[0;31m# `with torch.no_grad():`\u001b[0m\u001b[0;34m\u001b[0m\u001b[0;34m\u001b[0m\u001b[0;34m\u001b[0m\u001b[0m\n\u001b[1;32m    222\u001b[0m                 \u001b[0;32mwith\u001b[0m \u001b[0mtorch\u001b[0m\u001b[0;34m.\u001b[0m\u001b[0mno_grad\u001b[0m\u001b[0;34m(\u001b[0m\u001b[0;34m)\u001b[0m\u001b[0;34m:\u001b[0m\u001b[0;34m\u001b[0m\u001b[0;34m\u001b[0m\u001b[0m\n\u001b[0;32m--> 223\u001b[0;31m                     \u001b[0mparam_applied\u001b[0m \u001b[0;34m=\u001b[0m \u001b[0mfn\u001b[0m\u001b[0;34m(\u001b[0m\u001b[0mparam\u001b[0m\u001b[0;34m)\u001b[0m\u001b[0;34m\u001b[0m\u001b[0;34m\u001b[0m\u001b[0m\n\u001b[0m\u001b[1;32m    224\u001b[0m                 \u001b[0mshould_use_set_data\u001b[0m \u001b[0;34m=\u001b[0m \u001b[0mcompute_should_use_set_data\u001b[0m\u001b[0;34m(\u001b[0m\u001b[0mparam\u001b[0m\u001b[0;34m,\u001b[0m \u001b[0mparam_applied\u001b[0m\u001b[0;34m)\u001b[0m\u001b[0;34m\u001b[0m\u001b[0;34m\u001b[0m\u001b[0m\n\u001b[1;32m    225\u001b[0m                 \u001b[0;32mif\u001b[0m \u001b[0mshould_use_set_data\u001b[0m\u001b[0;34m:\u001b[0m\u001b[0;34m\u001b[0m\u001b[0;34m\u001b[0m\u001b[0m\n",
      "\u001b[0;32m~/.conda/envs/mypython/lib/python3.8/site-packages/torch/nn/modules/module.py\u001b[0m in \u001b[0;36mconvert\u001b[0;34m(t)\u001b[0m\n\u001b[1;32m    421\u001b[0m \u001b[0;34m\u001b[0m\u001b[0m\n\u001b[1;32m    422\u001b[0m         \u001b[0;32mdef\u001b[0m \u001b[0mconvert\u001b[0m\u001b[0;34m(\u001b[0m\u001b[0mt\u001b[0m\u001b[0;34m)\u001b[0m\u001b[0;34m:\u001b[0m\u001b[0;34m\u001b[0m\u001b[0;34m\u001b[0m\u001b[0m\n\u001b[0;32m--> 423\u001b[0;31m             \u001b[0;32mreturn\u001b[0m \u001b[0mt\u001b[0m\u001b[0;34m.\u001b[0m\u001b[0mto\u001b[0m\u001b[0;34m(\u001b[0m\u001b[0mdevice\u001b[0m\u001b[0;34m,\u001b[0m \u001b[0mdtype\u001b[0m \u001b[0;32mif\u001b[0m \u001b[0mt\u001b[0m\u001b[0;34m.\u001b[0m\u001b[0mis_floating_point\u001b[0m\u001b[0;34m(\u001b[0m\u001b[0;34m)\u001b[0m \u001b[0;32melse\u001b[0m \u001b[0;32mNone\u001b[0m\u001b[0;34m,\u001b[0m \u001b[0mnon_blocking\u001b[0m\u001b[0;34m)\u001b[0m\u001b[0;34m\u001b[0m\u001b[0;34m\u001b[0m\u001b[0m\n\u001b[0m\u001b[1;32m    424\u001b[0m \u001b[0;34m\u001b[0m\u001b[0m\n\u001b[1;32m    425\u001b[0m         \u001b[0;32mreturn\u001b[0m \u001b[0mself\u001b[0m\u001b[0;34m.\u001b[0m\u001b[0m_apply\u001b[0m\u001b[0;34m(\u001b[0m\u001b[0mconvert\u001b[0m\u001b[0;34m)\u001b[0m\u001b[0;34m\u001b[0m\u001b[0;34m\u001b[0m\u001b[0m\n",
      "\u001b[0;31mRuntimeError\u001b[0m: CUDA out of memory. Tried to allocate 16.00 MiB (GPU 0; 11.91 GiB total capacity; 1.94 GiB already allocated; 2.06 MiB free; 1.96 GiB reserved in total by PyTorch)"
     ]
    }
   ],
   "source": [
    "scores = []\n",
    "for file in files:\n",
    "    s = test(model_dir,file,7,args)\n",
    "    scores.append(s)\n",
    "print(scores)"
   ]
  },
  {
   "cell_type": "code",
   "execution_count": null,
   "metadata": {},
   "outputs": [],
   "source": []
  },
  {
   "cell_type": "code",
   "execution_count": null,
   "metadata": {},
   "outputs": [],
   "source": []
  },
  {
   "cell_type": "code",
   "execution_count": null,
   "metadata": {},
   "outputs": [],
   "source": []
  },
  {
   "cell_type": "code",
   "execution_count": null,
   "metadata": {},
   "outputs": [],
   "source": []
  },
  {
   "cell_type": "code",
   "execution_count": null,
   "metadata": {},
   "outputs": [],
   "source": []
  },
  {
   "cell_type": "code",
   "execution_count": null,
   "metadata": {},
   "outputs": [],
   "source": []
  },
  {
   "cell_type": "code",
   "execution_count": null,
   "metadata": {},
   "outputs": [],
   "source": []
  },
  {
   "cell_type": "code",
   "execution_count": null,
   "metadata": {},
   "outputs": [],
   "source": []
  },
  {
   "cell_type": "code",
   "execution_count": null,
   "metadata": {},
   "outputs": [
    {
     "name": "stdout",
     "output_type": "stream",
     "text": [
      "/home/wangnan/mrc4ner/checkpoints/2020_08_30_19_56_43/checkpoint_0.cpt \n",
      " Namespace(allow_impossible=False, alpha=1, beta=1, cls=True, cpu=False, debug=False, dev_batch=10, dev_path='./datasets/OntoNotes4.0/mrc-ner.dev', dropout_prob=0.1, epochs=10, eval=False, gamma=1, local_rank=0, log_steps=20, lr=2e-05, max_tokens=512, not_store=False, pretrained_model_name_or_path='./pretrained_models/chinese_roberta_wwm_large_ext_pytorch', reduction='mean', seed=209, span_layer=False, theta=1, train_batch=4, train_path='./datasets/OntoNotes4.0/mrc-ner.train', train_span_method='mix', warmup_ratio=0.1, weight_decay=0.01)\n"
     ]
    },
    {
     "name": "stderr",
     "output_type": "stream",
     "text": [
      "checkpoint_0.cpt: 100%|██████████| 2868/2868 [03:13<00:00, 14.79it/s]\n",
      "checkpoint_0.cpt:   0%|          | 0/2898 [00:00<?, ?it/s]"
     ]
    },
    {
     "name": "stdout",
     "output_type": "stream",
     "text": [
      "model checkpoint_0.cpt develop dataset:\n",
      "precision:0.5802 recall:0.7800 f1:0.6654\n"
     ]
    },
    {
     "name": "stderr",
     "output_type": "stream",
     "text": [
      "checkpoint_0.cpt: 100%|██████████| 2898/2898 [03:23<00:00, 14.21it/s]\n"
     ]
    },
    {
     "name": "stdout",
     "output_type": "stream",
     "text": [
      "model checkpoint_0.cpt test dataset:\n",
      "precision:0.5827 recall:0.7954 f1:0.6726\n",
      "/home/wangnan/mrc4ner/checkpoints/2020_08_30_19_56_43/checkpoint_1.cpt \n",
      " Namespace(allow_impossible=False, alpha=1, beta=1, cls=True, cpu=False, debug=False, dev_batch=10, dev_path='./datasets/OntoNotes4.0/mrc-ner.dev', dropout_prob=0.1, epochs=10, eval=False, gamma=1, local_rank=0, log_steps=20, lr=2e-05, max_tokens=512, not_store=False, pretrained_model_name_or_path='./pretrained_models/chinese_roberta_wwm_large_ext_pytorch', reduction='mean', seed=209, span_layer=False, theta=1, train_batch=4, train_path='./datasets/OntoNotes4.0/mrc-ner.train', train_span_method='mix', warmup_ratio=0.1, weight_decay=0.01)\n"
     ]
    },
    {
     "name": "stderr",
     "output_type": "stream",
     "text": [
      "checkpoint_1.cpt: 100%|██████████| 2868/2868 [03:17<00:00, 14.50it/s]\n",
      "checkpoint_1.cpt:   0%|          | 0/2898 [00:00<?, ?it/s]"
     ]
    },
    {
     "name": "stdout",
     "output_type": "stream",
     "text": [
      "model checkpoint_1.cpt develop dataset:\n",
      "precision:0.5914 recall:0.8229 f1:0.6882\n"
     ]
    },
    {
     "name": "stderr",
     "output_type": "stream",
     "text": [
      "checkpoint_1.cpt: 100%|██████████| 2898/2898 [03:18<00:00, 14.61it/s]\n"
     ]
    },
    {
     "name": "stdout",
     "output_type": "stream",
     "text": [
      "model checkpoint_1.cpt test dataset:\n",
      "precision:0.6076 recall:0.8446 f1:0.7068\n",
      "/home/wangnan/mrc4ner/checkpoints/2020_08_30_19_56_43/checkpoint_2.cpt \n",
      " Namespace(allow_impossible=False, alpha=1, beta=1, cls=True, cpu=False, debug=False, dev_batch=10, dev_path='./datasets/OntoNotes4.0/mrc-ner.dev', dropout_prob=0.1, epochs=10, eval=False, gamma=1, local_rank=0, log_steps=20, lr=2e-05, max_tokens=512, not_store=False, pretrained_model_name_or_path='./pretrained_models/chinese_roberta_wwm_large_ext_pytorch', reduction='mean', seed=209, span_layer=False, theta=1, train_batch=4, train_path='./datasets/OntoNotes4.0/mrc-ner.train', train_span_method='mix', warmup_ratio=0.1, weight_decay=0.01)\n"
     ]
    },
    {
     "name": "stderr",
     "output_type": "stream",
     "text": [
      "checkpoint_2.cpt: 100%|██████████| 2868/2868 [03:20<00:00, 14.31it/s]\n",
      "checkpoint_2.cpt:   0%|          | 0/2898 [00:00<?, ?it/s]"
     ]
    },
    {
     "name": "stdout",
     "output_type": "stream",
     "text": [
      "model checkpoint_2.cpt develop dataset:\n",
      "precision:0.5601 recall:0.8226 f1:0.6665\n"
     ]
    },
    {
     "name": "stderr",
     "output_type": "stream",
     "text": [
      "checkpoint_2.cpt: 100%|██████████| 2898/2898 [03:24<00:00, 14.18it/s]\n"
     ]
    },
    {
     "name": "stdout",
     "output_type": "stream",
     "text": [
      "model checkpoint_2.cpt test dataset:\n",
      "precision:0.5793 recall:0.8466 f1:0.6879\n",
      "/home/wangnan/mrc4ner/checkpoints/2020_08_30_19_56_43/checkpoint_3.cpt \n",
      " Namespace(allow_impossible=False, alpha=1, beta=1, cls=True, cpu=False, debug=False, dev_batch=10, dev_path='./datasets/OntoNotes4.0/mrc-ner.dev', dropout_prob=0.1, epochs=10, eval=False, gamma=1, local_rank=0, log_steps=20, lr=2e-05, max_tokens=512, not_store=False, pretrained_model_name_or_path='./pretrained_models/chinese_roberta_wwm_large_ext_pytorch', reduction='mean', seed=209, span_layer=False, theta=1, train_batch=4, train_path='./datasets/OntoNotes4.0/mrc-ner.train', train_span_method='mix', warmup_ratio=0.1, weight_decay=0.01)\n"
     ]
    },
    {
     "name": "stderr",
     "output_type": "stream",
     "text": [
      "checkpoint_3.cpt: 100%|██████████| 2868/2868 [03:16<00:00, 14.62it/s]\n",
      "checkpoint_3.cpt:   0%|          | 0/2898 [00:00<?, ?it/s]"
     ]
    },
    {
     "name": "stdout",
     "output_type": "stream",
     "text": [
      "model checkpoint_3.cpt develop dataset:\n",
      "precision:0.5488 recall:0.8209 f1:0.6578\n"
     ]
    },
    {
     "name": "stderr",
     "output_type": "stream",
     "text": [
      "checkpoint_3.cpt: 100%|██████████| 2898/2898 [03:21<00:00, 14.36it/s]\n"
     ]
    },
    {
     "name": "stdout",
     "output_type": "stream",
     "text": [
      "model checkpoint_3.cpt test dataset:\n",
      "precision:0.5708 recall:0.8459 f1:0.6817\n",
      "/home/wangnan/mrc4ner/checkpoints/2020_08_30_19_56_43/checkpoint_4.cpt \n",
      " Namespace(allow_impossible=False, alpha=1, beta=1, cls=True, cpu=False, debug=False, dev_batch=10, dev_path='./datasets/OntoNotes4.0/mrc-ner.dev', dropout_prob=0.1, epochs=10, eval=False, gamma=1, local_rank=0, log_steps=20, lr=2e-05, max_tokens=512, not_store=False, pretrained_model_name_or_path='./pretrained_models/chinese_roberta_wwm_large_ext_pytorch', reduction='mean', seed=209, span_layer=False, theta=1, train_batch=4, train_path='./datasets/OntoNotes4.0/mrc-ner.train', train_span_method='mix', warmup_ratio=0.1, weight_decay=0.01)\n"
     ]
    },
    {
     "name": "stderr",
     "output_type": "stream",
     "text": [
      "checkpoint_4.cpt: 100%|██████████| 2868/2868 [03:18<00:00, 14.47it/s]\n",
      "checkpoint_4.cpt:   0%|          | 0/2898 [00:00<?, ?it/s]"
     ]
    },
    {
     "name": "stdout",
     "output_type": "stream",
     "text": [
      "model checkpoint_4.cpt develop dataset:\n",
      "precision:0.5111 recall:0.8382 f1:0.6350\n"
     ]
    },
    {
     "name": "stderr",
     "output_type": "stream",
     "text": [
      "checkpoint_4.cpt: 100%|██████████| 2898/2898 [03:13<00:00, 15.00it/s]\n"
     ]
    },
    {
     "name": "stdout",
     "output_type": "stream",
     "text": [
      "model checkpoint_4.cpt test dataset:\n",
      "precision:0.5338 recall:0.8603 f1:0.6588\n",
      "/home/wangnan/mrc4ner/checkpoints/2020_08_30_19_56_43/checkpoint_5.cpt \n",
      " Namespace(allow_impossible=False, alpha=1, beta=1, cls=True, cpu=False, debug=False, dev_batch=10, dev_path='./datasets/OntoNotes4.0/mrc-ner.dev', dropout_prob=0.1, epochs=10, eval=False, gamma=1, local_rank=0, log_steps=20, lr=2e-05, max_tokens=512, not_store=False, pretrained_model_name_or_path='./pretrained_models/chinese_roberta_wwm_large_ext_pytorch', reduction='mean', seed=209, span_layer=False, theta=1, train_batch=4, train_path='./datasets/OntoNotes4.0/mrc-ner.train', train_span_method='mix', warmup_ratio=0.1, weight_decay=0.01)\n"
     ]
    },
    {
     "name": "stderr",
     "output_type": "stream",
     "text": [
      "checkpoint_5.cpt: 100%|██████████| 2868/2868 [03:13<00:00, 14.82it/s]\n",
      "checkpoint_5.cpt:   0%|          | 0/2898 [00:00<?, ?it/s]"
     ]
    },
    {
     "name": "stdout",
     "output_type": "stream",
     "text": [
      "model checkpoint_5.cpt develop dataset:\n",
      "precision:0.5194 recall:0.8193 f1:0.6358\n"
     ]
    },
    {
     "name": "stderr",
     "output_type": "stream",
     "text": [
      "checkpoint_5.cpt: 100%|██████████| 2898/2898 [03:21<00:00, 14.42it/s]\n"
     ]
    },
    {
     "name": "stdout",
     "output_type": "stream",
     "text": [
      "model checkpoint_5.cpt test dataset:\n",
      "precision:0.5429 recall:0.8524 f1:0.6633\n",
      "/home/wangnan/mrc4ner/checkpoints/2020_08_30_19_56_43/checkpoint_6.cpt \n",
      " Namespace(allow_impossible=False, alpha=1, beta=1, cls=True, cpu=False, debug=False, dev_batch=10, dev_path='./datasets/OntoNotes4.0/mrc-ner.dev', dropout_prob=0.1, epochs=10, eval=False, gamma=1, local_rank=0, log_steps=20, lr=2e-05, max_tokens=512, not_store=False, pretrained_model_name_or_path='./pretrained_models/chinese_roberta_wwm_large_ext_pytorch', reduction='mean', seed=209, span_layer=False, theta=1, train_batch=4, train_path='./datasets/OntoNotes4.0/mrc-ner.train', train_span_method='mix', warmup_ratio=0.1, weight_decay=0.01)\n"
     ]
    },
    {
     "name": "stderr",
     "output_type": "stream",
     "text": [
      "checkpoint_6.cpt: 100%|██████████| 2868/2868 [03:24<00:00, 14.04it/s]\n",
      "checkpoint_6.cpt:   0%|          | 0/2898 [00:00<?, ?it/s]"
     ]
    },
    {
     "name": "stdout",
     "output_type": "stream",
     "text": [
      "model checkpoint_6.cpt develop dataset:\n",
      "precision:0.5382 recall:0.8213 f1:0.6503\n"
     ]
    },
    {
     "name": "stderr",
     "output_type": "stream",
     "text": [
      "checkpoint_6.cpt: 100%|██████████| 2898/2898 [03:20<00:00, 14.42it/s]\n"
     ]
    },
    {
     "name": "stdout",
     "output_type": "stream",
     "text": [
      "model checkpoint_6.cpt test dataset:\n",
      "precision:0.5573 recall:0.8504 f1:0.6734\n",
      "/home/wangnan/mrc4ner/checkpoints/2020_08_30_19_56_43/checkpoint_7.cpt \n",
      " Namespace(allow_impossible=False, alpha=1, beta=1, cls=True, cpu=False, debug=False, dev_batch=10, dev_path='./datasets/OntoNotes4.0/mrc-ner.dev', dropout_prob=0.1, epochs=10, eval=False, gamma=1, local_rank=0, log_steps=20, lr=2e-05, max_tokens=512, not_store=False, pretrained_model_name_or_path='./pretrained_models/chinese_roberta_wwm_large_ext_pytorch', reduction='mean', seed=209, span_layer=False, theta=1, train_batch=4, train_path='./datasets/OntoNotes4.0/mrc-ner.train', train_span_method='mix', warmup_ratio=0.1, weight_decay=0.01)\n"
     ]
    },
    {
     "name": "stderr",
     "output_type": "stream",
     "text": [
      "checkpoint_7.cpt: 100%|██████████| 2868/2868 [03:21<00:00, 14.20it/s]\n",
      "checkpoint_7.cpt:   0%|          | 0/2898 [00:00<?, ?it/s]"
     ]
    },
    {
     "name": "stdout",
     "output_type": "stream",
     "text": [
      "model checkpoint_7.cpt develop dataset:\n",
      "precision:0.4631 recall:0.8485 f1:0.5992\n"
     ]
    },
    {
     "name": "stderr",
     "output_type": "stream",
     "text": [
      "checkpoint_7.cpt: 100%|██████████| 2898/2898 [03:20<00:00, 14.47it/s]\n"
     ]
    },
    {
     "name": "stdout",
     "output_type": "stream",
     "text": [
      "model checkpoint_7.cpt test dataset:\n",
      "precision:0.4807 recall:0.8750 f1:0.6205\n",
      "/home/wangnan/mrc4ner/checkpoints/2020_08_30_19_56_43/checkpoint_8.cpt \n",
      " Namespace(allow_impossible=False, alpha=1, beta=1, cls=True, cpu=False, debug=False, dev_batch=10, dev_path='./datasets/OntoNotes4.0/mrc-ner.dev', dropout_prob=0.1, epochs=10, eval=False, gamma=1, local_rank=0, log_steps=20, lr=2e-05, max_tokens=512, not_store=False, pretrained_model_name_or_path='./pretrained_models/chinese_roberta_wwm_large_ext_pytorch', reduction='mean', seed=209, span_layer=False, theta=1, train_batch=4, train_path='./datasets/OntoNotes4.0/mrc-ner.train', train_span_method='mix', warmup_ratio=0.1, weight_decay=0.01)\n"
     ]
    },
    {
     "name": "stderr",
     "output_type": "stream",
     "text": [
      "checkpoint_8.cpt: 100%|██████████| 2868/2868 [03:11<00:00, 14.98it/s]\n",
      "checkpoint_8.cpt:   0%|          | 0/2898 [00:00<?, ?it/s]"
     ]
    },
    {
     "name": "stdout",
     "output_type": "stream",
     "text": [
      "model checkpoint_8.cpt develop dataset:\n",
      "precision:0.4875 recall:0.8445 f1:0.6182\n"
     ]
    },
    {
     "name": "stderr",
     "output_type": "stream",
     "text": [
      "checkpoint_8.cpt: 100%|██████████| 2898/2898 [03:16<00:00, 14.79it/s]\n"
     ]
    },
    {
     "name": "stdout",
     "output_type": "stream",
     "text": [
      "model checkpoint_8.cpt test dataset:\n",
      "precision:0.5064 recall:0.8735 f1:0.6411\n",
      "/home/wangnan/mrc4ner/checkpoints/2020_08_30_19_56_43/checkpoint_9.cpt \n",
      " Namespace(allow_impossible=False, alpha=1, beta=1, cls=True, cpu=False, debug=False, dev_batch=10, dev_path='./datasets/OntoNotes4.0/mrc-ner.dev', dropout_prob=0.1, epochs=10, eval=False, gamma=1, local_rank=0, log_steps=20, lr=2e-05, max_tokens=512, not_store=False, pretrained_model_name_or_path='./pretrained_models/chinese_roberta_wwm_large_ext_pytorch', reduction='mean', seed=209, span_layer=False, theta=1, train_batch=4, train_path='./datasets/OntoNotes4.0/mrc-ner.train', train_span_method='mix', warmup_ratio=0.1, weight_decay=0.01)\n"
     ]
    },
    {
     "name": "stderr",
     "output_type": "stream",
     "text": [
      "checkpoint_9.cpt: 100%|██████████| 2868/2868 [03:08<00:00, 15.23it/s]\n",
      "checkpoint_9.cpt:   0%|          | 0/2898 [00:00<?, ?it/s]"
     ]
    },
    {
     "name": "stdout",
     "output_type": "stream",
     "text": [
      "model checkpoint_9.cpt develop dataset:\n",
      "precision:0.4858 recall:0.8431 f1:0.6164\n"
     ]
    },
    {
     "name": "stderr",
     "output_type": "stream",
     "text": [
      "checkpoint_9.cpt: 100%|██████████| 2898/2898 [03:16<00:00, 14.72it/s]\n"
     ]
    },
    {
     "name": "stdout",
     "output_type": "stream",
     "text": [
      "model checkpoint_9.cpt test dataset:\n",
      "precision:0.5066 recall:0.8723 f1:0.6410\n",
      "/home/wangnan/mrc4ner/checkpoints/2020_08_30_20_48_30/checkpoint_0.cpt \n",
      " Namespace(allow_impossible=False, alpha=1, beta=1, cls=True, cpu=False, debug=False, dev_batch=10, dev_path='./datasets/OntoNotes4.0/mrc-ner.dev', dropout_prob=0.1, epochs=10, eval=False, gamma=1, local_rank=1, log_steps=20, lr=2e-05, max_tokens=512, not_store=False, pretrained_model_name_or_path='./pretrained_models/chinese_roberta_wwm_large_ext_pytorch', reduction='mean', seed=209, span_layer=True, theta=1, train_batch=4, train_path='./datasets/OntoNotes4.0/mrc-ner.train', train_span_method='mix', warmup_ratio=0.1, weight_decay=0.01)\n"
     ]
    },
    {
     "name": "stderr",
     "output_type": "stream",
     "text": [
      "checkpoint_0.cpt: 100%|██████████| 2868/2868 [04:16<00:00, 11.16it/s]\n",
      "checkpoint_0.cpt:   0%|          | 0/2898 [00:00<?, ?it/s]"
     ]
    },
    {
     "name": "stdout",
     "output_type": "stream",
     "text": [
      "model checkpoint_0.cpt develop dataset:\n",
      "precision:0.5481 recall:0.7895 f1:0.6470\n"
     ]
    },
    {
     "name": "stderr",
     "output_type": "stream",
     "text": [
      "checkpoint_0.cpt: 100%|██████████| 2898/2898 [04:27<00:00, 10.85it/s]\n"
     ]
    },
    {
     "name": "stdout",
     "output_type": "stream",
     "text": [
      "model checkpoint_0.cpt test dataset:\n",
      "precision:0.5634 recall:0.7994 f1:0.6609\n",
      "/home/wangnan/mrc4ner/checkpoints/2020_08_30_20_48_30/checkpoint_1.cpt \n",
      " Namespace(allow_impossible=False, alpha=1, beta=1, cls=True, cpu=False, debug=False, dev_batch=10, dev_path='./datasets/OntoNotes4.0/mrc-ner.dev', dropout_prob=0.1, epochs=10, eval=False, gamma=1, local_rank=1, log_steps=20, lr=2e-05, max_tokens=512, not_store=False, pretrained_model_name_or_path='./pretrained_models/chinese_roberta_wwm_large_ext_pytorch', reduction='mean', seed=209, span_layer=True, theta=1, train_batch=4, train_path='./datasets/OntoNotes4.0/mrc-ner.train', train_span_method='mix', warmup_ratio=0.1, weight_decay=0.01)\n"
     ]
    },
    {
     "name": "stderr",
     "output_type": "stream",
     "text": [
      "checkpoint_1.cpt: 100%|██████████| 2868/2868 [04:20<00:00, 11.01it/s]\n",
      "checkpoint_1.cpt:   0%|          | 0/2898 [00:00<?, ?it/s]"
     ]
    },
    {
     "name": "stdout",
     "output_type": "stream",
     "text": [
      "model checkpoint_1.cpt develop dataset:\n",
      "precision:0.4771 recall:0.8444 f1:0.6097\n"
     ]
    },
    {
     "name": "stderr",
     "output_type": "stream",
     "text": [
      "checkpoint_1.cpt: 100%|██████████| 2898/2898 [04:25<00:00, 10.90it/s]\n"
     ]
    },
    {
     "name": "stdout",
     "output_type": "stream",
     "text": [
      "model checkpoint_1.cpt test dataset:\n",
      "precision:0.4882 recall:0.8697 f1:0.6253\n",
      "/home/wangnan/mrc4ner/checkpoints/2020_08_30_20_48_30/checkpoint_2.cpt \n",
      " Namespace(allow_impossible=False, alpha=1, beta=1, cls=True, cpu=False, debug=False, dev_batch=10, dev_path='./datasets/OntoNotes4.0/mrc-ner.dev', dropout_prob=0.1, epochs=10, eval=False, gamma=1, local_rank=1, log_steps=20, lr=2e-05, max_tokens=512, not_store=False, pretrained_model_name_or_path='./pretrained_models/chinese_roberta_wwm_large_ext_pytorch', reduction='mean', seed=209, span_layer=True, theta=1, train_batch=4, train_path='./datasets/OntoNotes4.0/mrc-ner.train', train_span_method='mix', warmup_ratio=0.1, weight_decay=0.01)\n"
     ]
    },
    {
     "name": "stderr",
     "output_type": "stream",
     "text": [
      "checkpoint_2.cpt: 100%|██████████| 2868/2868 [04:23<00:00, 10.90it/s]\n",
      "checkpoint_2.cpt:   0%|          | 0/2898 [00:00<?, ?it/s]"
     ]
    },
    {
     "name": "stdout",
     "output_type": "stream",
     "text": [
      "model checkpoint_2.cpt develop dataset:\n",
      "precision:0.4583 recall:0.8295 f1:0.5904\n"
     ]
    },
    {
     "name": "stderr",
     "output_type": "stream",
     "text": [
      "checkpoint_2.cpt: 100%|██████████| 2898/2898 [04:26<00:00, 10.89it/s]\n"
     ]
    },
    {
     "name": "stdout",
     "output_type": "stream",
     "text": [
      "model checkpoint_2.cpt test dataset:\n",
      "precision:0.4738 recall:0.8557 f1:0.6099\n",
      "/home/wangnan/mrc4ner/checkpoints/2020_08_30_20_48_30/checkpoint_3.cpt \n",
      " Namespace(allow_impossible=False, alpha=1, beta=1, cls=True, cpu=False, debug=False, dev_batch=10, dev_path='./datasets/OntoNotes4.0/mrc-ner.dev', dropout_prob=0.1, epochs=10, eval=False, gamma=1, local_rank=1, log_steps=20, lr=2e-05, max_tokens=512, not_store=False, pretrained_model_name_or_path='./pretrained_models/chinese_roberta_wwm_large_ext_pytorch', reduction='mean', seed=209, span_layer=True, theta=1, train_batch=4, train_path='./datasets/OntoNotes4.0/mrc-ner.train', train_span_method='mix', warmup_ratio=0.1, weight_decay=0.01)\n"
     ]
    },
    {
     "name": "stderr",
     "output_type": "stream",
     "text": [
      "checkpoint_3.cpt: 100%|██████████| 2868/2868 [04:18<00:00, 11.09it/s]\n",
      "checkpoint_3.cpt:   0%|          | 0/2898 [00:00<?, ?it/s]"
     ]
    },
    {
     "name": "stdout",
     "output_type": "stream",
     "text": [
      "model checkpoint_3.cpt develop dataset:\n",
      "precision:0.4216 recall:0.8385 f1:0.5611\n"
     ]
    },
    {
     "name": "stderr",
     "output_type": "stream",
     "text": [
      "checkpoint_3.cpt: 100%|██████████| 2898/2898 [04:24<00:00, 10.95it/s]\n"
     ]
    },
    {
     "name": "stdout",
     "output_type": "stream",
     "text": [
      "model checkpoint_3.cpt test dataset:\n",
      "precision:0.4409 recall:0.8587 f1:0.5827\n",
      "/home/wangnan/mrc4ner/checkpoints/2020_08_30_20_48_30/checkpoint_4.cpt \n",
      " Namespace(allow_impossible=False, alpha=1, beta=1, cls=True, cpu=False, debug=False, dev_batch=10, dev_path='./datasets/OntoNotes4.0/mrc-ner.dev', dropout_prob=0.1, epochs=10, eval=False, gamma=1, local_rank=1, log_steps=20, lr=2e-05, max_tokens=512, not_store=False, pretrained_model_name_or_path='./pretrained_models/chinese_roberta_wwm_large_ext_pytorch', reduction='mean', seed=209, span_layer=True, theta=1, train_batch=4, train_path='./datasets/OntoNotes4.0/mrc-ner.train', train_span_method='mix', warmup_ratio=0.1, weight_decay=0.01)\n"
     ]
    },
    {
     "name": "stderr",
     "output_type": "stream",
     "text": [
      "checkpoint_4.cpt: 100%|██████████| 2868/2868 [04:19<00:00, 11.07it/s]\n",
      "checkpoint_4.cpt:   0%|          | 0/2898 [00:00<?, ?it/s]"
     ]
    },
    {
     "name": "stdout",
     "output_type": "stream",
     "text": [
      "model checkpoint_4.cpt develop dataset:\n",
      "precision:0.4089 recall:0.8506 f1:0.5523\n"
     ]
    },
    {
     "name": "stderr",
     "output_type": "stream",
     "text": [
      "checkpoint_4.cpt: 100%|██████████| 2898/2898 [04:25<00:00, 10.90it/s]\n"
     ]
    },
    {
     "name": "stdout",
     "output_type": "stream",
     "text": [
      "model checkpoint_4.cpt test dataset:\n",
      "precision:0.4313 recall:0.8746 f1:0.5778\n",
      "/home/wangnan/mrc4ner/checkpoints/2020_08_30_20_48_30/checkpoint_5.cpt \n",
      " Namespace(allow_impossible=False, alpha=1, beta=1, cls=True, cpu=False, debug=False, dev_batch=10, dev_path='./datasets/OntoNotes4.0/mrc-ner.dev', dropout_prob=0.1, epochs=10, eval=False, gamma=1, local_rank=1, log_steps=20, lr=2e-05, max_tokens=512, not_store=False, pretrained_model_name_or_path='./pretrained_models/chinese_roberta_wwm_large_ext_pytorch', reduction='mean', seed=209, span_layer=True, theta=1, train_batch=4, train_path='./datasets/OntoNotes4.0/mrc-ner.train', train_span_method='mix', warmup_ratio=0.1, weight_decay=0.01)\n"
     ]
    },
    {
     "name": "stderr",
     "output_type": "stream",
     "text": [
      "checkpoint_5.cpt: 100%|██████████| 2868/2868 [04:18<00:00, 11.09it/s]\n",
      "checkpoint_5.cpt:   0%|          | 0/2898 [00:00<?, ?it/s]"
     ]
    },
    {
     "name": "stdout",
     "output_type": "stream",
     "text": [
      "model checkpoint_5.cpt develop dataset:\n",
      "precision:0.4760 recall:0.8215 f1:0.6027\n"
     ]
    },
    {
     "name": "stderr",
     "output_type": "stream",
     "text": [
      "checkpoint_5.cpt: 100%|██████████| 2898/2898 [04:26<00:00, 10.89it/s]\n"
     ]
    },
    {
     "name": "stdout",
     "output_type": "stream",
     "text": [
      "model checkpoint_5.cpt test dataset:\n",
      "precision:0.4964 recall:0.8543 f1:0.6279\n",
      "/home/wangnan/mrc4ner/checkpoints/2020_08_30_20_48_30/checkpoint_6.cpt \n",
      " Namespace(allow_impossible=False, alpha=1, beta=1, cls=True, cpu=False, debug=False, dev_batch=10, dev_path='./datasets/OntoNotes4.0/mrc-ner.dev', dropout_prob=0.1, epochs=10, eval=False, gamma=1, local_rank=1, log_steps=20, lr=2e-05, max_tokens=512, not_store=False, pretrained_model_name_or_path='./pretrained_models/chinese_roberta_wwm_large_ext_pytorch', reduction='mean', seed=209, span_layer=True, theta=1, train_batch=4, train_path='./datasets/OntoNotes4.0/mrc-ner.train', train_span_method='mix', warmup_ratio=0.1, weight_decay=0.01)\n"
     ]
    },
    {
     "name": "stderr",
     "output_type": "stream",
     "text": [
      "checkpoint_6.cpt: 100%|██████████| 2868/2868 [04:21<00:00, 10.96it/s]\n",
      "checkpoint_6.cpt:   0%|          | 0/2898 [00:00<?, ?it/s]"
     ]
    },
    {
     "name": "stdout",
     "output_type": "stream",
     "text": [
      "model checkpoint_6.cpt develop dataset:\n",
      "precision:0.5111 recall:0.8346 f1:0.6339\n"
     ]
    },
    {
     "name": "stderr",
     "output_type": "stream",
     "text": [
      "checkpoint_6.cpt: 100%|██████████| 2898/2898 [04:26<00:00, 10.87it/s]\n"
     ]
    },
    {
     "name": "stdout",
     "output_type": "stream",
     "text": [
      "model checkpoint_6.cpt test dataset:\n",
      "precision:0.5368 recall:0.8638 f1:0.6621\n",
      "/home/wangnan/mrc4ner/checkpoints/2020_08_30_20_48_30/checkpoint_7.cpt \n",
      " Namespace(allow_impossible=False, alpha=1, beta=1, cls=True, cpu=False, debug=False, dev_batch=10, dev_path='./datasets/OntoNotes4.0/mrc-ner.dev', dropout_prob=0.1, epochs=10, eval=False, gamma=1, local_rank=1, log_steps=20, lr=2e-05, max_tokens=512, not_store=False, pretrained_model_name_or_path='./pretrained_models/chinese_roberta_wwm_large_ext_pytorch', reduction='mean', seed=209, span_layer=True, theta=1, train_batch=4, train_path='./datasets/OntoNotes4.0/mrc-ner.train', train_span_method='mix', warmup_ratio=0.1, weight_decay=0.01)\n"
     ]
    },
    {
     "name": "stderr",
     "output_type": "stream",
     "text": [
      "checkpoint_7.cpt: 100%|██████████| 2868/2868 [04:18<00:00, 11.08it/s]\n",
      "checkpoint_7.cpt:   0%|          | 0/2898 [00:00<?, ?it/s]"
     ]
    },
    {
     "name": "stdout",
     "output_type": "stream",
     "text": [
      "model checkpoint_7.cpt develop dataset:\n",
      "precision:0.4718 recall:0.8272 f1:0.6009\n"
     ]
    },
    {
     "name": "stderr",
     "output_type": "stream",
     "text": [
      "checkpoint_7.cpt: 100%|██████████| 2898/2898 [04:10<00:00, 11.59it/s]\n"
     ]
    },
    {
     "name": "stdout",
     "output_type": "stream",
     "text": [
      "model checkpoint_7.cpt test dataset:\n",
      "precision:0.5005 recall:0.8556 f1:0.6315\n",
      "/home/wangnan/mrc4ner/checkpoints/2020_08_30_20_48_30/checkpoint_8.cpt \n",
      " Namespace(allow_impossible=False, alpha=1, beta=1, cls=True, cpu=False, debug=False, dev_batch=10, dev_path='./datasets/OntoNotes4.0/mrc-ner.dev', dropout_prob=0.1, epochs=10, eval=False, gamma=1, local_rank=1, log_steps=20, lr=2e-05, max_tokens=512, not_store=False, pretrained_model_name_or_path='./pretrained_models/chinese_roberta_wwm_large_ext_pytorch', reduction='mean', seed=209, span_layer=True, theta=1, train_batch=4, train_path='./datasets/OntoNotes4.0/mrc-ner.train', train_span_method='mix', warmup_ratio=0.1, weight_decay=0.01)\n"
     ]
    },
    {
     "name": "stderr",
     "output_type": "stream",
     "text": [
      "checkpoint_8.cpt: 100%|██████████| 2868/2868 [04:06<00:00, 11.62it/s]\n",
      "checkpoint_8.cpt:   0%|          | 0/2898 [00:00<?, ?it/s]"
     ]
    },
    {
     "name": "stdout",
     "output_type": "stream",
     "text": [
      "model checkpoint_8.cpt develop dataset:\n",
      "precision:0.4380 recall:0.8331 f1:0.5742\n"
     ]
    },
    {
     "name": "stderr",
     "output_type": "stream",
     "text": [
      "checkpoint_8.cpt: 100%|██████████| 2898/2898 [04:10<00:00, 11.58it/s]\n"
     ]
    },
    {
     "name": "stdout",
     "output_type": "stream",
     "text": [
      "model checkpoint_8.cpt test dataset:\n",
      "precision:0.4672 recall:0.8648 f1:0.6066\n",
      "/home/wangnan/mrc4ner/checkpoints/2020_08_30_20_48_30/checkpoint_9.cpt \n",
      " Namespace(allow_impossible=False, alpha=1, beta=1, cls=True, cpu=False, debug=False, dev_batch=10, dev_path='./datasets/OntoNotes4.0/mrc-ner.dev', dropout_prob=0.1, epochs=10, eval=False, gamma=1, local_rank=1, log_steps=20, lr=2e-05, max_tokens=512, not_store=False, pretrained_model_name_or_path='./pretrained_models/chinese_roberta_wwm_large_ext_pytorch', reduction='mean', seed=209, span_layer=True, theta=1, train_batch=4, train_path='./datasets/OntoNotes4.0/mrc-ner.train', train_span_method='mix', warmup_ratio=0.1, weight_decay=0.01)\n"
     ]
    },
    {
     "name": "stderr",
     "output_type": "stream",
     "text": [
      "checkpoint_9.cpt: 100%|██████████| 2868/2868 [04:04<00:00, 11.73it/s]\n",
      "checkpoint_9.cpt:   0%|          | 0/2898 [00:00<?, ?it/s]"
     ]
    },
    {
     "name": "stdout",
     "output_type": "stream",
     "text": [
      "model checkpoint_9.cpt develop dataset:\n",
      "precision:0.4317 recall:0.8373 f1:0.5697\n"
     ]
    },
    {
     "name": "stderr",
     "output_type": "stream",
     "text": [
      "checkpoint_9.cpt: 100%|██████████| 2898/2898 [04:11<00:00, 11.54it/s]\n"
     ]
    },
    {
     "name": "stdout",
     "output_type": "stream",
     "text": [
      "model checkpoint_9.cpt test dataset:\n",
      "precision:0.4588 recall:0.8680 f1:0.6003\n",
      "/home/wangnan/mrc4ner/checkpoints/2020_08_30_21_43_20/checkpoint_0.cpt \n",
      " Namespace(allow_impossible=True, alpha=1, beta=1, cls=True, cpu=False, debug=False, dev_batch=10, dev_path='./datasets/OntoNotes4.0/mrc-ner.dev', dropout_prob=0.1, epochs=10, eval=False, gamma=1, local_rank=1, log_steps=20, lr=2e-05, max_tokens=512, not_store=False, pretrained_model_name_or_path='./pretrained_models/chinese_roberta_wwm_large_ext_pytorch', reduction='mean', seed=209, span_layer=True, theta=1, train_batch=4, train_path='./datasets/OntoNotes4.0/mrc-ner.train', train_span_method='mix', warmup_ratio=0.1, weight_decay=0.01)\n"
     ]
    },
    {
     "name": "stderr",
     "output_type": "stream",
     "text": [
      "checkpoint_0.cpt:  73%|███████▎  | 2088/2868 [03:01<01:10, 11.01it/s]"
     ]
    }
   ],
   "source": [
    "scores = []\n",
    "for dir in dirs1[4:8]:\n",
    "    dir = base_dir+'/'+dir+'/'\n",
    "    files = os.listdir(dir)\n",
    "    files = sorted(files)\n",
    "    files = [file for file in files if file.startswith(\"checkpoint\")]\n",
    "    for file in files:\n",
    "        s = test(dir,file,6)\n",
    "        scores.append(s)\n",
    "print(scores)"
   ]
  },
  {
   "cell_type": "code",
   "execution_count": 10,
   "metadata": {},
   "outputs": [],
   "source": [
    "prc = [(0.5827, 0.7954, 0.6726),\n",
    " (0.6076, 0.8446, 0.7068),\n",
    " (0.5793, 0.8466, 0.6879),\n",
    " (0.5708, 0.8459, 0.6817),\n",
    " (0.5338, 0.8603, 0.6588),\n",
    " (0.5429, 0.8524, 0.6633),\n",
    " (0.5573, 0.8504, 0.6734),\n",
    " (0.4807, 0.875, 0.6205),\n",
    " (0.5064, 0.8735, 0.6411),\n",
    " (0.5066, 0.8723, 0.641),\n",
    " (0.5634, 0.7994, 0.6609),\n",
    " (0.4882, 0.8697, 0.6253),\n",
    " (0.4738, 0.8557, 0.6099),\n",
    " (0.4409, 0.8587, 0.5827),\n",
    " (0.4313, 0.8746, 0.5778),\n",
    " (0.4964, 0.8543, 0.6279),\n",
    " (0.5368, 0.8638, 0.6621),\n",
    " (0.5005, 0.8556, 0.6315),\n",
    " (0.4672, 0.8648, 0.6066),\n",
    " (0.4588, 0.868, 0.6003)]\n",
    "models = []\n",
    "for dir0 in dirs1[4:6]:\n",
    "    dir = base_dir+'/'+dir0+'/'\n",
    "    files = os.listdir(dir)\n",
    "    files = sorted(files)\n",
    "    files = [file for file in files if file.startswith(\"checkpoint\")]\n",
    "    models.extend([dir0+file[-6:] for file in files])\n",
    "scores = []\n",
    "for i in range(20):\n",
    "    scores.append((models[i],prc[i][0],prc[i][1],prc[i][2]))"
   ]
  },
  {
   "cell_type": "code",
   "execution_count": 11,
   "metadata": {},
   "outputs": [
    {
     "name": "stdout",
     "output_type": "stream",
     "text": [
      "[('2020_08_30_19_56_43_0.cpt', 0.5827, 0.7954, 0.6726), ('2020_08_30_19_56_43_1.cpt', 0.6076, 0.8446, 0.7068), ('2020_08_30_19_56_43_2.cpt', 0.5793, 0.8466, 0.6879), ('2020_08_30_19_56_43_3.cpt', 0.5708, 0.8459, 0.6817), ('2020_08_30_19_56_43_4.cpt', 0.5338, 0.8603, 0.6588), ('2020_08_30_19_56_43_5.cpt', 0.5429, 0.8524, 0.6633), ('2020_08_30_19_56_43_6.cpt', 0.5573, 0.8504, 0.6734), ('2020_08_30_19_56_43_7.cpt', 0.4807, 0.875, 0.6205), ('2020_08_30_19_56_43_8.cpt', 0.5064, 0.8735, 0.6411), ('2020_08_30_19_56_43_9.cpt', 0.5066, 0.8723, 0.641), ('2020_08_30_20_48_30_0.cpt', 0.5634, 0.7994, 0.6609), ('2020_08_30_20_48_30_1.cpt', 0.4882, 0.8697, 0.6253), ('2020_08_30_20_48_30_2.cpt', 0.4738, 0.8557, 0.6099), ('2020_08_30_20_48_30_3.cpt', 0.4409, 0.8587, 0.5827), ('2020_08_30_20_48_30_4.cpt', 0.4313, 0.8746, 0.5778), ('2020_08_30_20_48_30_5.cpt', 0.4964, 0.8543, 0.6279), ('2020_08_30_20_48_30_6.cpt', 0.5368, 0.8638, 0.6621), ('2020_08_30_20_48_30_7.cpt', 0.5005, 0.8556, 0.6315), ('2020_08_30_20_48_30_8.cpt', 0.4672, 0.8648, 0.6066), ('2020_08_30_20_48_30_9.cpt', 0.4588, 0.868, 0.6003)]\n"
     ]
    }
   ],
   "source": [
    "print(scores)"
   ]
  },
  {
   "cell_type": "code",
   "execution_count": 17,
   "metadata": {},
   "outputs": [
    {
     "data": {
      "text/plain": [
       "20"
      ]
     },
     "execution_count": 17,
     "metadata": {},
     "output_type": "execute_result"
    }
   ],
   "source": [
    "len(scores)"
   ]
  },
  {
   "cell_type": "code",
   "execution_count": 18,
   "metadata": {},
   "outputs": [
    {
     "data": {
      "text/plain": [
       "['2020_08_30_19_56_43', '2020_08_30_20_48_30']"
      ]
     },
     "execution_count": 18,
     "metadata": {},
     "output_type": "execute_result"
    }
   ],
   "source": [
    "dirs1[4:6]"
   ]
  },
  {
   "cell_type": "code",
   "execution_count": 21,
   "metadata": {},
   "outputs": [],
   "source": [
    "import torch\n",
    "all_args = []\n",
    "for d in dirs1[4:6]:\n",
    "    args = pickle.load(open('/home/wangnan/mrc4ner/checkpoints/'+d+'/args','rb'))\n",
    "    all_args.extend([vars(args)]*10)"
   ]
  },
  {
   "cell_type": "code",
   "execution_count": null,
   "metadata": {},
   "outputs": [],
   "source": [
    "import json\n",
    "with open('/home/wangnan/mrc4ner/checkpoints/pre_results.json') as f:\n",
    "    pre = json.load(f)\n",
    "pre['args']+=all_args\n",
    "pre['scores']+=scores"
   ]
  },
  {
   "cell_type": "code",
   "execution_count": 33,
   "metadata": {},
   "outputs": [],
   "source": [
    "with open('/home/wangnan/mrc4ner/checkpoints/pre_results.json','w') as f:\n",
    "    json.dump(pre,f)"
   ]
  },
  {
   "cell_type": "code",
   "execution_count": null,
   "metadata": {},
   "outputs": [],
   "source": []
  },
  {
   "cell_type": "code",
   "execution_count": null,
   "metadata": {},
   "outputs": [],
   "source": []
  },
  {
   "cell_type": "code",
   "execution_count": 4,
   "metadata": {},
   "outputs": [
    {
     "ename": "TypeError",
     "evalue": "'Namespace' object is not subscriptable",
     "output_type": "error",
     "traceback": [
      "\u001b[0;31m---------------------------------------------------------------------------\u001b[0m",
      "\u001b[0;31mTypeError\u001b[0m                                 Traceback (most recent call last)",
      "\u001b[0;32m<ipython-input-4-79c36f11218f>\u001b[0m in \u001b[0;36m<module>\u001b[0;34m\u001b[0m\n\u001b[1;32m     13\u001b[0m         \u001b[0margs\u001b[0m \u001b[0;34m=\u001b[0m \u001b[0mcpt\u001b[0m\u001b[0;34m[\u001b[0m\u001b[0;34m'args'\u001b[0m\u001b[0;34m]\u001b[0m \u001b[0;32mif\u001b[0m \u001b[0;34m'args'\u001b[0m \u001b[0;32min\u001b[0m \u001b[0mcpt\u001b[0m \u001b[0;32melse\u001b[0m \u001b[0mpickle\u001b[0m\u001b[0;34m.\u001b[0m\u001b[0mload\u001b[0m\u001b[0;34m(\u001b[0m\u001b[0mopen\u001b[0m\u001b[0;34m(\u001b[0m\u001b[0mdir\u001b[0m\u001b[0;34m+\u001b[0m\u001b[0;34m'args'\u001b[0m\u001b[0;34m,\u001b[0m\u001b[0;34m'rb'\u001b[0m\u001b[0;34m)\u001b[0m\u001b[0;34m)\u001b[0m\u001b[0;34m\u001b[0m\u001b[0;34m\u001b[0m\u001b[0m\n\u001b[1;32m     14\u001b[0m         \u001b[0mmymodel\u001b[0m \u001b[0;34m=\u001b[0m \u001b[0mMyModel\u001b[0m\u001b[0;34m(\u001b[0m\u001b[0margs\u001b[0m\u001b[0;34m)\u001b[0m\u001b[0;34m\u001b[0m\u001b[0;34m\u001b[0m\u001b[0m\n\u001b[0;32m---> 15\u001b[0;31m         \u001b[0mmymodel\u001b[0m\u001b[0;34m.\u001b[0m\u001b[0mload_state_dict\u001b[0m\u001b[0;34m(\u001b[0m\u001b[0mcpt\u001b[0m\u001b[0;34m[\u001b[0m\u001b[0;34m\"state_dict\"\u001b[0m\u001b[0;34m]\u001b[0m\u001b[0;34m)\u001b[0m\u001b[0;34m\u001b[0m\u001b[0;34m\u001b[0m\u001b[0m\n\u001b[0m",
      "\u001b[0;31mTypeError\u001b[0m: 'Namespace' object is not subscriptable"
     ]
    }
   ],
   "source": [
    "all_args = []\n",
    "all_cpts = []\n",
    "for dir in dirs1[4:8]:\n",
    "    dir = base_dir+'/'+dir+'/'\n",
    "    files = os.listdir(dir)\n",
    "    files = sorted(files)\n",
    "    for file in files:\n",
    "        path = dir+file\n",
    "        try:\n",
    "            cpt = torch.load(path)\n",
    "        except:\n",
    "            cpt = pickle.load(open(path,'rb'))\n",
    "        args = cpt['args'] if 'args' in cpt else pickle.load(open(dir+'args','rb'))\n",
    "        mymodel = MyModel(args)\n",
    "        mymodel.load_state_dict(cpt[\"state_dict\"])"
   ]
  },
  {
   "cell_type": "code",
   "execution_count": 7,
   "metadata": {},
   "outputs": [
    {
     "data": {
      "text/plain": [
       "['2020_08_30_20_48_30', '2020_08_30_21_43_20', '2020_08_31_01_47_43']"
      ]
     },
     "execution_count": 7,
     "metadata": {},
     "output_type": "execute_result"
    }
   ],
   "source": [
    "dirs1[5:8]"
   ]
  },
  {
   "cell_type": "code",
   "execution_count": 8,
   "metadata": {},
   "outputs": [
    {
     "data": {
      "text/plain": [
       "'/home/wangnan/mrc4ner/checkpoints/2020_08_30_20_48_30/args'"
      ]
     },
     "execution_count": 8,
     "metadata": {},
     "output_type": "execute_result"
    }
   ],
   "source": [
    "path"
   ]
  },
  {
   "cell_type": "code",
   "execution_count": 16,
   "metadata": {},
   "outputs": [],
   "source": [
    "torch.cuda.empty_cache()"
   ]
  },
  {
   "cell_type": "code",
   "execution_count": null,
   "metadata": {},
   "outputs": [],
   "source": []
  },
  {
   "cell_type": "code",
   "execution_count": 4,
   "metadata": {},
   "outputs": [],
   "source": [
    "model_dir = \"/home/wangnan/mrc4ner/checkpoints/\"\n",
    "model_files = os.listdir(model_dir)\n",
    "model_files = sorted(model_files)\n",
    "end_model = \"2020_08_27_01_34_20_5.cpt\"\n",
    "end_model_index = model_files.index(end_model)\n",
    "valid_model_files = model_files[:end_model_index+1]"
   ]
  },
  {
   "cell_type": "code",
   "execution_count": 5,
   "metadata": {},
   "outputs": [],
   "source": [
    "def test(file,batch_size):\n",
    "    path = model_dir+file\n",
    "    cpt = pickle.load(open(path,'rb'))\n",
    "    args = cpt['args']\n",
    "    #print(\"load model\")\n",
    "    mymodel = MyModel(args)\n",
    "    mymodel.load_state_dict(cpt[\"state_dict\"])\n",
    "    dev_dataset,test_dataset = (pre1_dev_dataset,pre1_test_dataset) if args.pretrained_model_name_or_path==pretrained_model1 else \\\n",
    "                                        (pre2_dev_dataset, pre2_test_dataset)\n",
    "    dev_dataloader = DataLoader(dev_dataset, batch_size=batch_size, collate_fn=collate_fn,\n",
    "                              pin_memory=True,shuffle=False)\n",
    "    test_dataloader = DataLoader(test_dataset, batch_size=batch_size, collate_fn=collate_fn,\n",
    "                              pin_memory=True,shuffle=False)\n",
    "    #print(\"evaluation\")\n",
    "    print(path,'\\n',args)\n",
    "    time.sleep(0.1)\n",
    "    p,r,f = evaluation(mymodel,dev_dataloader,train_eval=False,desc=file)\n",
    "    print(\"model {} develop dataset:\\nprecision:{:.4f} recall:{:.4f} f1:{:.4f}\".format(file,p,r,f))\n",
    "    time.sleep(0.1)\n",
    "    p,r,f = evaluation(mymodel,test_dataloader,train_eval=False,desc=file)\n",
    "    print(\"model {} test dataset:\\nprecision:{:.4f} recall:{:.4f} f1:{:.4f}\".format(file,p,r,f))\n",
    "    return file,p,r,f"
   ]
  },
  {
   "cell_type": "code",
   "execution_count": 6,
   "metadata": {},
   "outputs": [],
   "source": [
    "files = valid_model_files[60:]"
   ]
  },
  {
   "cell_type": "code",
   "execution_count": 7,
   "metadata": {},
   "outputs": [
    {
     "name": "stdout",
     "output_type": "stream",
     "text": [
      "/home/wangnan/mrc4ner/checkpoints/2020_08_26_11_49_38_6.cpt \n",
      " Namespace(allow_impossible=False, alpha=0.5, beta=0.3333333333333333, cls=False, cpu=False, debug=False, dev_batch=10, dev_path='./datasets/OntoNotes4.0/mrc-ner.dev', dropout_prob=0.2, epochs=10, eval=True, gamma=1, local_rank=0, log_steps=20, lr=8e-06, max_tokens=512, pretrained_model_name_or_path='./pretrained_models/chinese_roberta_wwm_large_ext_pytorch', reduction='mean', seed=209, theta=0.3333333333333333, train_batch=4, train_path='./datasets/OntoNotes4.0/mrc-ner.train', train_span_method='mix', warmup_ratio=0.1, weight_decay=0.1)\n"
     ]
    },
    {
     "name": "stderr",
     "output_type": "stream",
     "text": [
      "100%|██████████| 2151/2151 [02:53<00:00, 12.41it/s]\n",
      "  0%|          | 0/2173 [00:00<?, ?it/s]"
     ]
    },
    {
     "name": "stdout",
     "output_type": "stream",
     "text": [
      "model 2020_08_26_11_49_38_6.cpt develop dataset:\n",
      "precision:0.60 recall:0.80 f1:0.68\n"
     ]
    },
    {
     "name": "stderr",
     "output_type": "stream",
     "text": [
      "100%|██████████| 2173/2173 [03:01<00:00, 11.96it/s]\n"
     ]
    },
    {
     "name": "stdout",
     "output_type": "stream",
     "text": [
      "model 2020_08_26_11_49_38_6.cpt test dataset:\n",
      "precision:0.61 recall:0.83 f1:0.71\n",
      "/home/wangnan/mrc4ner/checkpoints/2020_08_26_11_49_38_7.cpt \n",
      " Namespace(allow_impossible=False, alpha=0.5, beta=0.3333333333333333, cls=False, cpu=False, debug=False, dev_batch=10, dev_path='./datasets/OntoNotes4.0/mrc-ner.dev', dropout_prob=0.2, epochs=10, eval=True, gamma=1, local_rank=0, log_steps=20, lr=8e-06, max_tokens=512, pretrained_model_name_or_path='./pretrained_models/chinese_roberta_wwm_large_ext_pytorch', reduction='mean', seed=209, theta=0.3333333333333333, train_batch=4, train_path='./datasets/OntoNotes4.0/mrc-ner.train', train_span_method='mix', warmup_ratio=0.1, weight_decay=0.1)\n"
     ]
    },
    {
     "name": "stderr",
     "output_type": "stream",
     "text": [
      "100%|██████████| 2151/2151 [03:00<00:00, 11.90it/s]\n",
      "  0%|          | 0/2173 [00:00<?, ?it/s]"
     ]
    },
    {
     "name": "stdout",
     "output_type": "stream",
     "text": [
      "model 2020_08_26_11_49_38_7.cpt develop dataset:\n",
      "precision:0.61 recall:0.81 f1:0.69\n"
     ]
    },
    {
     "name": "stderr",
     "output_type": "stream",
     "text": [
      "100%|██████████| 2173/2173 [03:02<00:00, 11.90it/s]\n"
     ]
    },
    {
     "name": "stdout",
     "output_type": "stream",
     "text": [
      "model 2020_08_26_11_49_38_7.cpt test dataset:\n",
      "precision:0.63 recall:0.84 f1:0.72\n",
      "/home/wangnan/mrc4ner/checkpoints/2020_08_26_11_49_38_8.cpt \n",
      " Namespace(allow_impossible=False, alpha=0.5, beta=0.3333333333333333, cls=False, cpu=False, debug=False, dev_batch=10, dev_path='./datasets/OntoNotes4.0/mrc-ner.dev', dropout_prob=0.2, epochs=10, eval=True, gamma=1, local_rank=0, log_steps=20, lr=8e-06, max_tokens=512, pretrained_model_name_or_path='./pretrained_models/chinese_roberta_wwm_large_ext_pytorch', reduction='mean', seed=209, theta=0.3333333333333333, train_batch=4, train_path='./datasets/OntoNotes4.0/mrc-ner.train', train_span_method='mix', warmup_ratio=0.1, weight_decay=0.1)\n"
     ]
    },
    {
     "name": "stderr",
     "output_type": "stream",
     "text": [
      "100%|██████████| 2151/2151 [03:02<00:00, 11.81it/s]\n",
      "  0%|          | 0/2173 [00:00<?, ?it/s]"
     ]
    },
    {
     "name": "stdout",
     "output_type": "stream",
     "text": [
      "model 2020_08_26_11_49_38_8.cpt develop dataset:\n",
      "precision:0.60 recall:0.82 f1:0.69\n"
     ]
    },
    {
     "name": "stderr",
     "output_type": "stream",
     "text": [
      "100%|██████████| 2173/2173 [03:06<00:00, 11.67it/s]\n"
     ]
    },
    {
     "name": "stdout",
     "output_type": "stream",
     "text": [
      "model 2020_08_26_11_49_38_8.cpt test dataset:\n",
      "precision:0.63 recall:0.84 f1:0.72\n",
      "/home/wangnan/mrc4ner/checkpoints/2020_08_26_13_20_35_0.cpt \n",
      " Namespace(allow_impossible=False, alpha=1, beta=1, cls=False, cpu=False, debug=False, dev_batch=10, dev_path='./datasets/OntoNotes4.0/mrc-ner.dev', dropout_prob=0.2, epochs=10, eval=True, gamma=1, local_rank=0, log_steps=20, lr=8e-06, max_tokens=512, pretrained_model_name_or_path='./pretrained_models/chinese_roberta_wwm_large_ext_pytorch', reduction='mean', seed=209, theta=1, train_batch=4, train_path='./datasets/OntoNotes4.0/mrc-ner.train', train_span_method='full', warmup_ratio=-1, weight_decay=0.1)\n"
     ]
    },
    {
     "name": "stderr",
     "output_type": "stream",
     "text": [
      "100%|██████████| 2151/2151 [02:56<00:00, 12.19it/s]\n",
      "  0%|          | 0/2173 [00:00<?, ?it/s]"
     ]
    },
    {
     "name": "stdout",
     "output_type": "stream",
     "text": [
      "model 2020_08_26_13_20_35_0.cpt develop dataset:\n",
      "precision:0.51 recall:0.57 f1:0.54\n"
     ]
    },
    {
     "name": "stderr",
     "output_type": "stream",
     "text": [
      "100%|██████████| 2173/2173 [03:00<00:00, 12.07it/s]\n"
     ]
    },
    {
     "name": "stdout",
     "output_type": "stream",
     "text": [
      "model 2020_08_26_13_20_35_0.cpt test dataset:\n",
      "precision:0.50 recall:0.58 f1:0.54\n",
      "/home/wangnan/mrc4ner/checkpoints/2020_08_26_13_20_35_1.cpt \n",
      " Namespace(allow_impossible=False, alpha=1, beta=1, cls=False, cpu=False, debug=False, dev_batch=10, dev_path='./datasets/OntoNotes4.0/mrc-ner.dev', dropout_prob=0.2, epochs=10, eval=True, gamma=1, local_rank=0, log_steps=20, lr=8e-06, max_tokens=512, pretrained_model_name_or_path='./pretrained_models/chinese_roberta_wwm_large_ext_pytorch', reduction='mean', seed=209, theta=1, train_batch=4, train_path='./datasets/OntoNotes4.0/mrc-ner.train', train_span_method='full', warmup_ratio=-1, weight_decay=0.1)\n"
     ]
    },
    {
     "name": "stderr",
     "output_type": "stream",
     "text": [
      "100%|██████████| 2151/2151 [02:52<00:00, 12.47it/s]\n",
      "  0%|          | 0/2173 [00:00<?, ?it/s]"
     ]
    },
    {
     "name": "stdout",
     "output_type": "stream",
     "text": [
      "model 2020_08_26_13_20_35_1.cpt develop dataset:\n",
      "precision:0.40 recall:0.81 f1:0.53\n"
     ]
    },
    {
     "name": "stderr",
     "output_type": "stream",
     "text": [
      "100%|██████████| 2173/2173 [02:58<00:00, 12.14it/s]\n"
     ]
    },
    {
     "name": "stdout",
     "output_type": "stream",
     "text": [
      "model 2020_08_26_13_20_35_1.cpt test dataset:\n",
      "precision:0.41 recall:0.84 f1:0.55\n",
      "/home/wangnan/mrc4ner/checkpoints/2020_08_26_13_20_35_2.cpt \n",
      " Namespace(allow_impossible=False, alpha=1, beta=1, cls=False, cpu=False, debug=False, dev_batch=10, dev_path='./datasets/OntoNotes4.0/mrc-ner.dev', dropout_prob=0.2, epochs=10, eval=True, gamma=1, local_rank=0, log_steps=20, lr=8e-06, max_tokens=512, pretrained_model_name_or_path='./pretrained_models/chinese_roberta_wwm_large_ext_pytorch', reduction='mean', seed=209, theta=1, train_batch=4, train_path='./datasets/OntoNotes4.0/mrc-ner.train', train_span_method='full', warmup_ratio=-1, weight_decay=0.1)\n"
     ]
    },
    {
     "name": "stderr",
     "output_type": "stream",
     "text": [
      "100%|██████████| 2151/2151 [02:54<00:00, 12.33it/s]\n",
      "  0%|          | 0/2173 [00:00<?, ?it/s]"
     ]
    },
    {
     "name": "stdout",
     "output_type": "stream",
     "text": [
      "model 2020_08_26_13_20_35_2.cpt develop dataset:\n",
      "precision:0.37 recall:0.84 f1:0.52\n"
     ]
    },
    {
     "name": "stderr",
     "output_type": "stream",
     "text": [
      "100%|██████████| 2173/2173 [03:02<00:00, 11.93it/s]\n"
     ]
    },
    {
     "name": "stdout",
     "output_type": "stream",
     "text": [
      "model 2020_08_26_13_20_35_2.cpt test dataset:\n",
      "precision:0.39 recall:0.86 f1:0.54\n",
      "/home/wangnan/mrc4ner/checkpoints/2020_08_26_13_20_35_3.cpt \n",
      " Namespace(allow_impossible=False, alpha=1, beta=1, cls=False, cpu=False, debug=False, dev_batch=10, dev_path='./datasets/OntoNotes4.0/mrc-ner.dev', dropout_prob=0.2, epochs=10, eval=True, gamma=1, local_rank=0, log_steps=20, lr=8e-06, max_tokens=512, pretrained_model_name_or_path='./pretrained_models/chinese_roberta_wwm_large_ext_pytorch', reduction='mean', seed=209, theta=1, train_batch=4, train_path='./datasets/OntoNotes4.0/mrc-ner.train', train_span_method='full', warmup_ratio=-1, weight_decay=0.1)\n"
     ]
    },
    {
     "name": "stderr",
     "output_type": "stream",
     "text": [
      "100%|██████████| 2151/2151 [02:53<00:00, 12.42it/s]\n",
      "  0%|          | 0/2173 [00:00<?, ?it/s]"
     ]
    },
    {
     "name": "stdout",
     "output_type": "stream",
     "text": [
      "model 2020_08_26_13_20_35_3.cpt develop dataset:\n",
      "precision:0.39 recall:0.81 f1:0.53\n"
     ]
    },
    {
     "name": "stderr",
     "output_type": "stream",
     "text": [
      "100%|██████████| 2173/2173 [02:59<00:00, 12.12it/s]\n"
     ]
    },
    {
     "name": "stdout",
     "output_type": "stream",
     "text": [
      "model 2020_08_26_13_20_35_3.cpt test dataset:\n",
      "precision:0.40 recall:0.84 f1:0.54\n",
      "/home/wangnan/mrc4ner/checkpoints/2020_08_26_13_20_35_4.cpt \n",
      " Namespace(allow_impossible=False, alpha=1, beta=1, cls=False, cpu=False, debug=False, dev_batch=10, dev_path='./datasets/OntoNotes4.0/mrc-ner.dev', dropout_prob=0.2, epochs=10, eval=True, gamma=1, local_rank=0, log_steps=20, lr=8e-06, max_tokens=512, pretrained_model_name_or_path='./pretrained_models/chinese_roberta_wwm_large_ext_pytorch', reduction='mean', seed=209, theta=1, train_batch=4, train_path='./datasets/OntoNotes4.0/mrc-ner.train', train_span_method='full', warmup_ratio=-1, weight_decay=0.1)\n"
     ]
    },
    {
     "name": "stderr",
     "output_type": "stream",
     "text": [
      "100%|██████████| 2151/2151 [02:52<00:00, 12.45it/s]\n",
      "  0%|          | 0/2173 [00:00<?, ?it/s]"
     ]
    },
    {
     "name": "stdout",
     "output_type": "stream",
     "text": [
      "model 2020_08_26_13_20_35_4.cpt develop dataset:\n",
      "precision:0.32 recall:0.86 f1:0.47\n"
     ]
    },
    {
     "name": "stderr",
     "output_type": "stream",
     "text": [
      "100%|██████████| 2173/2173 [03:01<00:00, 11.96it/s]\n"
     ]
    },
    {
     "name": "stdout",
     "output_type": "stream",
     "text": [
      "model 2020_08_26_13_20_35_4.cpt test dataset:\n",
      "precision:0.36 recall:0.88 f1:0.51\n",
      "/home/wangnan/mrc4ner/checkpoints/2020_08_26_13_20_35_5.cpt \n",
      " Namespace(allow_impossible=False, alpha=1, beta=1, cls=False, cpu=False, debug=False, dev_batch=10, dev_path='./datasets/OntoNotes4.0/mrc-ner.dev', dropout_prob=0.2, epochs=10, eval=True, gamma=1, local_rank=0, log_steps=20, lr=8e-06, max_tokens=512, pretrained_model_name_or_path='./pretrained_models/chinese_roberta_wwm_large_ext_pytorch', reduction='mean', seed=209, theta=1, train_batch=4, train_path='./datasets/OntoNotes4.0/mrc-ner.train', train_span_method='full', warmup_ratio=-1, weight_decay=0.1)\n"
     ]
    },
    {
     "name": "stderr",
     "output_type": "stream",
     "text": [
      "100%|██████████| 2151/2151 [02:54<00:00, 12.31it/s]\n",
      "  0%|          | 0/2173 [00:00<?, ?it/s]"
     ]
    },
    {
     "name": "stdout",
     "output_type": "stream",
     "text": [
      "model 2020_08_26_13_20_35_5.cpt develop dataset:\n",
      "precision:0.35 recall:0.84 f1:0.49\n"
     ]
    },
    {
     "name": "stderr",
     "output_type": "stream",
     "text": [
      "100%|██████████| 2173/2173 [03:03<00:00, 11.81it/s]\n"
     ]
    },
    {
     "name": "stdout",
     "output_type": "stream",
     "text": [
      "model 2020_08_26_13_20_35_5.cpt test dataset:\n",
      "precision:0.36 recall:0.86 f1:0.51\n",
      "/home/wangnan/mrc4ner/checkpoints/2020_08_26_13_20_35_6.cpt \n",
      " Namespace(allow_impossible=False, alpha=1, beta=1, cls=False, cpu=False, debug=False, dev_batch=10, dev_path='./datasets/OntoNotes4.0/mrc-ner.dev', dropout_prob=0.2, epochs=10, eval=True, gamma=1, local_rank=0, log_steps=20, lr=8e-06, max_tokens=512, pretrained_model_name_or_path='./pretrained_models/chinese_roberta_wwm_large_ext_pytorch', reduction='mean', seed=209, theta=1, train_batch=4, train_path='./datasets/OntoNotes4.0/mrc-ner.train', train_span_method='full', warmup_ratio=-1, weight_decay=0.1)\n"
     ]
    },
    {
     "name": "stderr",
     "output_type": "stream",
     "text": [
      "100%|██████████| 2151/2151 [02:57<00:00, 12.13it/s]\n",
      "  0%|          | 0/2173 [00:00<?, ?it/s]"
     ]
    },
    {
     "name": "stdout",
     "output_type": "stream",
     "text": [
      "model 2020_08_26_13_20_35_6.cpt develop dataset:\n",
      "precision:0.38 recall:0.84 f1:0.52\n"
     ]
    },
    {
     "name": "stderr",
     "output_type": "stream",
     "text": [
      "100%|██████████| 2173/2173 [03:00<00:00, 12.04it/s]\n"
     ]
    },
    {
     "name": "stdout",
     "output_type": "stream",
     "text": [
      "model 2020_08_26_13_20_35_6.cpt test dataset:\n",
      "precision:0.39 recall:0.86 f1:0.54\n",
      "/home/wangnan/mrc4ner/checkpoints/2020_08_26_13_20_35_7.cpt \n",
      " Namespace(allow_impossible=False, alpha=1, beta=1, cls=False, cpu=False, debug=False, dev_batch=10, dev_path='./datasets/OntoNotes4.0/mrc-ner.dev', dropout_prob=0.2, epochs=10, eval=True, gamma=1, local_rank=0, log_steps=20, lr=8e-06, max_tokens=512, pretrained_model_name_or_path='./pretrained_models/chinese_roberta_wwm_large_ext_pytorch', reduction='mean', seed=209, theta=1, train_batch=4, train_path='./datasets/OntoNotes4.0/mrc-ner.train', train_span_method='full', warmup_ratio=-1, weight_decay=0.1)\n"
     ]
    },
    {
     "name": "stderr",
     "output_type": "stream",
     "text": [
      "100%|██████████| 2151/2151 [02:53<00:00, 12.37it/s]\n",
      "  0%|          | 0/2173 [00:00<?, ?it/s]"
     ]
    },
    {
     "name": "stdout",
     "output_type": "stream",
     "text": [
      "model 2020_08_26_13_20_35_7.cpt develop dataset:\n",
      "precision:0.36 recall:0.84 f1:0.50\n"
     ]
    },
    {
     "name": "stderr",
     "output_type": "stream",
     "text": [
      "100%|██████████| 2173/2173 [02:59<00:00, 12.12it/s]\n"
     ]
    },
    {
     "name": "stdout",
     "output_type": "stream",
     "text": [
      "model 2020_08_26_13_20_35_7.cpt test dataset:\n",
      "precision:0.37 recall:0.86 f1:0.52\n",
      "/home/wangnan/mrc4ner/checkpoints/2020_08_26_13_20_35_8.cpt \n",
      " Namespace(allow_impossible=False, alpha=1, beta=1, cls=False, cpu=False, debug=False, dev_batch=10, dev_path='./datasets/OntoNotes4.0/mrc-ner.dev', dropout_prob=0.2, epochs=10, eval=True, gamma=1, local_rank=0, log_steps=20, lr=8e-06, max_tokens=512, pretrained_model_name_or_path='./pretrained_models/chinese_roberta_wwm_large_ext_pytorch', reduction='mean', seed=209, theta=1, train_batch=4, train_path='./datasets/OntoNotes4.0/mrc-ner.train', train_span_method='full', warmup_ratio=-1, weight_decay=0.1)\n"
     ]
    },
    {
     "name": "stderr",
     "output_type": "stream",
     "text": [
      "100%|██████████| 2151/2151 [02:56<00:00, 12.16it/s]\n",
      "  0%|          | 0/2173 [00:00<?, ?it/s]"
     ]
    },
    {
     "name": "stdout",
     "output_type": "stream",
     "text": [
      "model 2020_08_26_13_20_35_8.cpt develop dataset:\n",
      "precision:0.31 recall:0.86 f1:0.46\n"
     ]
    },
    {
     "name": "stderr",
     "output_type": "stream",
     "text": [
      "100%|██████████| 2173/2173 [03:01<00:00, 11.95it/s]\n"
     ]
    },
    {
     "name": "stdout",
     "output_type": "stream",
     "text": [
      "model 2020_08_26_13_20_35_8.cpt test dataset:\n",
      "precision:0.33 recall:0.88 f1:0.48\n",
      "/home/wangnan/mrc4ner/checkpoints/2020_08_26_13_20_35_9.cpt \n",
      " Namespace(allow_impossible=False, alpha=1, beta=1, cls=False, cpu=False, debug=False, dev_batch=10, dev_path='./datasets/OntoNotes4.0/mrc-ner.dev', dropout_prob=0.2, epochs=10, eval=True, gamma=1, local_rank=0, log_steps=20, lr=8e-06, max_tokens=512, pretrained_model_name_or_path='./pretrained_models/chinese_roberta_wwm_large_ext_pytorch', reduction='mean', seed=209, theta=1, train_batch=4, train_path='./datasets/OntoNotes4.0/mrc-ner.train', train_span_method='full', warmup_ratio=-1, weight_decay=0.1)\n"
     ]
    },
    {
     "name": "stderr",
     "output_type": "stream",
     "text": [
      "100%|██████████| 2151/2151 [02:56<00:00, 12.20it/s]\n",
      "  0%|          | 0/2173 [00:00<?, ?it/s]"
     ]
    },
    {
     "name": "stdout",
     "output_type": "stream",
     "text": [
      "model 2020_08_26_13_20_35_9.cpt develop dataset:\n",
      "precision:0.26 recall:0.87 f1:0.40\n"
     ]
    },
    {
     "name": "stderr",
     "output_type": "stream",
     "text": [
      "100%|██████████| 2173/2173 [03:01<00:00, 12.00it/s]\n"
     ]
    },
    {
     "name": "stdout",
     "output_type": "stream",
     "text": [
      "model 2020_08_26_13_20_35_9.cpt test dataset:\n",
      "precision:0.28 recall:0.88 f1:0.43\n",
      "/home/wangnan/mrc4ner/checkpoints/2020_08_26_15_09_58_0.cpt \n",
      " Namespace(allow_impossible=True, alpha=1, beta=1, cls=False, cpu=False, debug=False, dev_batch=10, dev_path='./datasets/OntoNotes4.0/mrc-ner.dev', dropout_prob=0.2, epochs=10, eval=True, gamma=1, local_rank=0, log_steps=20, lr=8e-06, max_tokens=512, pretrained_model_name_or_path='./pretrained_models/chinese_roberta_wwm_large_ext_pytorch', reduction='mean', seed=209, theta=1, train_batch=4, train_path='./datasets/OntoNotes4.0/mrc-ner.train', train_span_method='mix', train_span_methods='full', warmup_ratio=-1, weight_decay=0.1)\n"
     ]
    },
    {
     "name": "stderr",
     "output_type": "stream",
     "text": [
      "100%|██████████| 2151/2151 [02:55<00:00, 12.24it/s]\n",
      "  0%|          | 0/2173 [00:00<?, ?it/s]"
     ]
    },
    {
     "name": "stdout",
     "output_type": "stream",
     "text": [
      "model 2020_08_26_15_09_58_0.cpt develop dataset:\n",
      "precision:0.68 recall:0.49 f1:0.57\n"
     ]
    },
    {
     "name": "stderr",
     "output_type": "stream",
     "text": [
      "100%|██████████| 2173/2173 [02:58<00:00, 12.18it/s]\n"
     ]
    },
    {
     "name": "stdout",
     "output_type": "stream",
     "text": [
      "model 2020_08_26_15_09_58_0.cpt test dataset:\n",
      "precision:0.68 recall:0.51 f1:0.59\n",
      "/home/wangnan/mrc4ner/checkpoints/2020_08_26_15_09_58_1.cpt \n",
      " Namespace(allow_impossible=True, alpha=1, beta=1, cls=False, cpu=False, debug=False, dev_batch=10, dev_path='./datasets/OntoNotes4.0/mrc-ner.dev', dropout_prob=0.2, epochs=10, eval=True, gamma=1, local_rank=0, log_steps=20, lr=8e-06, max_tokens=512, pretrained_model_name_or_path='./pretrained_models/chinese_roberta_wwm_large_ext_pytorch', reduction='mean', seed=209, theta=1, train_batch=4, train_path='./datasets/OntoNotes4.0/mrc-ner.train', train_span_method='mix', train_span_methods='full', warmup_ratio=-1, weight_decay=0.1)\n"
     ]
    },
    {
     "name": "stderr",
     "output_type": "stream",
     "text": [
      "100%|██████████| 2151/2151 [02:52<00:00, 12.44it/s]\n",
      "  0%|          | 0/2173 [00:00<?, ?it/s]"
     ]
    },
    {
     "name": "stdout",
     "output_type": "stream",
     "text": [
      "model 2020_08_26_15_09_58_1.cpt develop dataset:\n",
      "precision:0.81 recall:0.48 f1:0.61\n"
     ]
    },
    {
     "name": "stderr",
     "output_type": "stream",
     "text": [
      "100%|██████████| 2173/2173 [03:00<00:00, 12.03it/s]\n"
     ]
    },
    {
     "name": "stdout",
     "output_type": "stream",
     "text": [
      "model 2020_08_26_15_09_58_1.cpt test dataset:\n",
      "precision:0.81 recall:0.49 f1:0.61\n",
      "/home/wangnan/mrc4ner/checkpoints/2020_08_26_16_29_23_0.cpt \n",
      " Namespace(allow_impossible=True, alpha=1, beta=1, cls=False, cpu=False, debug=False, dev_batch=10, dev_path='./datasets/OntoNotes4.0/mrc-ner.dev', dropout_prob=0.2, epochs=10, eval=True, gamma=1, local_rank=0, log_steps=20, lr=8e-06, max_tokens=512, pretrained_model_name_or_path='./pretrained_models/chinese_roberta_wwm_large_ext_pytorch', reduction='mean', seed=209, theta=1, train_batch=4, train_path='./datasets/OntoNotes4.0/mrc-ner.train', train_span_method='full', warmup_ratio=-1, weight_decay=0.1)\n"
     ]
    },
    {
     "name": "stderr",
     "output_type": "stream",
     "text": [
      "100%|██████████| 2151/2151 [02:54<00:00, 12.33it/s]\n",
      "  0%|          | 0/2173 [00:00<?, ?it/s]"
     ]
    },
    {
     "name": "stdout",
     "output_type": "stream",
     "text": [
      "model 2020_08_26_16_29_23_0.cpt develop dataset:\n",
      "precision:0.47 recall:0.70 f1:0.56\n"
     ]
    },
    {
     "name": "stderr",
     "output_type": "stream",
     "text": [
      "100%|██████████| 2173/2173 [02:59<00:00, 12.08it/s]\n"
     ]
    },
    {
     "name": "stdout",
     "output_type": "stream",
     "text": [
      "model 2020_08_26_16_29_23_0.cpt test dataset:\n",
      "precision:0.46 recall:0.74 f1:0.56\n",
      "/home/wangnan/mrc4ner/checkpoints/2020_08_26_16_29_23_1.cpt \n",
      " Namespace(allow_impossible=True, alpha=1, beta=1, cls=False, cpu=False, debug=False, dev_batch=10, dev_path='./datasets/OntoNotes4.0/mrc-ner.dev', dropout_prob=0.2, epochs=10, eval=True, gamma=1, local_rank=0, log_steps=20, lr=8e-06, max_tokens=512, pretrained_model_name_or_path='./pretrained_models/chinese_roberta_wwm_large_ext_pytorch', reduction='mean', seed=209, theta=1, train_batch=4, train_path='./datasets/OntoNotes4.0/mrc-ner.train', train_span_method='full', warmup_ratio=-1, weight_decay=0.1)\n"
     ]
    },
    {
     "name": "stderr",
     "output_type": "stream",
     "text": [
      "100%|██████████| 2151/2151 [02:54<00:00, 12.30it/s]\n",
      "  0%|          | 0/2173 [00:00<?, ?it/s]"
     ]
    },
    {
     "name": "stdout",
     "output_type": "stream",
     "text": [
      "model 2020_08_26_16_29_23_1.cpt develop dataset:\n",
      "precision:0.48 recall:0.68 f1:0.56\n"
     ]
    },
    {
     "name": "stderr",
     "output_type": "stream",
     "text": [
      "100%|██████████| 2173/2173 [03:03<00:00, 11.83it/s]\n"
     ]
    },
    {
     "name": "stdout",
     "output_type": "stream",
     "text": [
      "model 2020_08_26_16_29_23_1.cpt test dataset:\n",
      "precision:0.46 recall:0.72 f1:0.56\n",
      "/home/wangnan/mrc4ner/checkpoints/2020_08_26_16_29_23_2.cpt \n",
      " Namespace(allow_impossible=True, alpha=1, beta=1, cls=False, cpu=False, debug=False, dev_batch=10, dev_path='./datasets/OntoNotes4.0/mrc-ner.dev', dropout_prob=0.2, epochs=10, eval=True, gamma=1, local_rank=0, log_steps=20, lr=8e-06, max_tokens=512, pretrained_model_name_or_path='./pretrained_models/chinese_roberta_wwm_large_ext_pytorch', reduction='mean', seed=209, theta=1, train_batch=4, train_path='./datasets/OntoNotes4.0/mrc-ner.train', train_span_method='full', warmup_ratio=-1, weight_decay=0.1)\n"
     ]
    },
    {
     "name": "stderr",
     "output_type": "stream",
     "text": [
      "100%|██████████| 2151/2151 [02:53<00:00, 12.42it/s]\n",
      "  0%|          | 0/2173 [00:00<?, ?it/s]"
     ]
    },
    {
     "name": "stdout",
     "output_type": "stream",
     "text": [
      "model 2020_08_26_16_29_23_2.cpt develop dataset:\n",
      "precision:0.43 recall:0.79 f1:0.56\n"
     ]
    },
    {
     "name": "stderr",
     "output_type": "stream",
     "text": [
      "100%|██████████| 2173/2173 [03:00<00:00, 12.02it/s]\n"
     ]
    },
    {
     "name": "stdout",
     "output_type": "stream",
     "text": [
      "model 2020_08_26_16_29_23_2.cpt test dataset:\n",
      "precision:0.43 recall:0.82 f1:0.56\n",
      "/home/wangnan/mrc4ner/checkpoints/2020_08_26_16_29_23_3.cpt \n",
      " Namespace(allow_impossible=True, alpha=1, beta=1, cls=False, cpu=False, debug=False, dev_batch=10, dev_path='./datasets/OntoNotes4.0/mrc-ner.dev', dropout_prob=0.2, epochs=10, eval=True, gamma=1, local_rank=0, log_steps=20, lr=8e-06, max_tokens=512, pretrained_model_name_or_path='./pretrained_models/chinese_roberta_wwm_large_ext_pytorch', reduction='mean', seed=209, theta=1, train_batch=4, train_path='./datasets/OntoNotes4.0/mrc-ner.train', train_span_method='full', warmup_ratio=-1, weight_decay=0.1)\n"
     ]
    },
    {
     "name": "stderr",
     "output_type": "stream",
     "text": [
      "100%|██████████| 2151/2151 [02:55<00:00, 12.24it/s]\n",
      "  0%|          | 0/2173 [00:00<?, ?it/s]"
     ]
    },
    {
     "name": "stdout",
     "output_type": "stream",
     "text": [
      "model 2020_08_26_16_29_23_3.cpt develop dataset:\n",
      "precision:0.45 recall:0.74 f1:0.56\n"
     ]
    },
    {
     "name": "stderr",
     "output_type": "stream",
     "text": [
      "100%|██████████| 2173/2173 [03:01<00:00, 11.97it/s]\n"
     ]
    },
    {
     "name": "stdout",
     "output_type": "stream",
     "text": [
      "model 2020_08_26_16_29_23_3.cpt test dataset:\n",
      "precision:0.44 recall:0.77 f1:0.56\n",
      "/home/wangnan/mrc4ner/checkpoints/2020_08_26_16_29_23_4.cpt \n",
      " Namespace(allow_impossible=True, alpha=1, beta=1, cls=False, cpu=False, debug=False, dev_batch=10, dev_path='./datasets/OntoNotes4.0/mrc-ner.dev', dropout_prob=0.2, epochs=10, eval=True, gamma=1, local_rank=0, log_steps=20, lr=8e-06, max_tokens=512, pretrained_model_name_or_path='./pretrained_models/chinese_roberta_wwm_large_ext_pytorch', reduction='mean', seed=209, theta=1, train_batch=4, train_path='./datasets/OntoNotes4.0/mrc-ner.train', train_span_method='full', warmup_ratio=-1, weight_decay=0.1)\n"
     ]
    },
    {
     "name": "stderr",
     "output_type": "stream",
     "text": [
      "100%|██████████| 2151/2151 [02:53<00:00, 12.37it/s]\n",
      "  0%|          | 0/2173 [00:00<?, ?it/s]"
     ]
    },
    {
     "name": "stdout",
     "output_type": "stream",
     "text": [
      "model 2020_08_26_16_29_23_4.cpt develop dataset:\n",
      "precision:0.47 recall:0.71 f1:0.57\n"
     ]
    },
    {
     "name": "stderr",
     "output_type": "stream",
     "text": [
      "100%|██████████| 2173/2173 [03:01<00:00, 11.98it/s]\n"
     ]
    },
    {
     "name": "stdout",
     "output_type": "stream",
     "text": [
      "model 2020_08_26_16_29_23_4.cpt test dataset:\n",
      "precision:0.46 recall:0.75 f1:0.57\n",
      "/home/wangnan/mrc4ner/checkpoints/2020_08_26_16_29_23_5.cpt \n",
      " Namespace(allow_impossible=True, alpha=1, beta=1, cls=False, cpu=False, debug=False, dev_batch=10, dev_path='./datasets/OntoNotes4.0/mrc-ner.dev', dropout_prob=0.2, epochs=10, eval=True, gamma=1, local_rank=0, log_steps=20, lr=8e-06, max_tokens=512, pretrained_model_name_or_path='./pretrained_models/chinese_roberta_wwm_large_ext_pytorch', reduction='mean', seed=209, theta=1, train_batch=4, train_path='./datasets/OntoNotes4.0/mrc-ner.train', train_span_method='full', warmup_ratio=-1, weight_decay=0.1)\n"
     ]
    },
    {
     "name": "stderr",
     "output_type": "stream",
     "text": [
      "100%|██████████| 2151/2151 [02:52<00:00, 12.44it/s]\n",
      "  0%|          | 0/2173 [00:00<?, ?it/s]"
     ]
    },
    {
     "name": "stdout",
     "output_type": "stream",
     "text": [
      "model 2020_08_26_16_29_23_5.cpt develop dataset:\n",
      "precision:0.45 recall:0.76 f1:0.57\n"
     ]
    },
    {
     "name": "stderr",
     "output_type": "stream",
     "text": [
      "100%|██████████| 2173/2173 [02:59<00:00, 12.11it/s]\n"
     ]
    },
    {
     "name": "stdout",
     "output_type": "stream",
     "text": [
      "model 2020_08_26_16_29_23_5.cpt test dataset:\n",
      "precision:0.45 recall:0.78 f1:0.57\n",
      "/home/wangnan/mrc4ner/checkpoints/2020_08_26_16_29_23_6.cpt \n",
      " Namespace(allow_impossible=True, alpha=1, beta=1, cls=False, cpu=False, debug=False, dev_batch=10, dev_path='./datasets/OntoNotes4.0/mrc-ner.dev', dropout_prob=0.2, epochs=10, eval=True, gamma=1, local_rank=0, log_steps=20, lr=8e-06, max_tokens=512, pretrained_model_name_or_path='./pretrained_models/chinese_roberta_wwm_large_ext_pytorch', reduction='mean', seed=209, theta=1, train_batch=4, train_path='./datasets/OntoNotes4.0/mrc-ner.train', train_span_method='full', warmup_ratio=-1, weight_decay=0.1)\n"
     ]
    },
    {
     "name": "stderr",
     "output_type": "stream",
     "text": [
      "100%|██████████| 2151/2151 [02:56<00:00, 12.16it/s]\n",
      "  0%|          | 0/2173 [00:00<?, ?it/s]"
     ]
    },
    {
     "name": "stdout",
     "output_type": "stream",
     "text": [
      "model 2020_08_26_16_29_23_6.cpt develop dataset:\n",
      "precision:0.42 recall:0.78 f1:0.55\n"
     ]
    },
    {
     "name": "stderr",
     "output_type": "stream",
     "text": [
      "100%|██████████| 2173/2173 [03:02<00:00, 11.91it/s]\n"
     ]
    },
    {
     "name": "stdout",
     "output_type": "stream",
     "text": [
      "model 2020_08_26_16_29_23_6.cpt test dataset:\n",
      "precision:0.42 recall:0.81 f1:0.55\n",
      "/home/wangnan/mrc4ner/checkpoints/2020_08_26_16_29_23_7.cpt \n",
      " Namespace(allow_impossible=True, alpha=1, beta=1, cls=False, cpu=False, debug=False, dev_batch=10, dev_path='./datasets/OntoNotes4.0/mrc-ner.dev', dropout_prob=0.2, epochs=10, eval=True, gamma=1, local_rank=0, log_steps=20, lr=8e-06, max_tokens=512, pretrained_model_name_or_path='./pretrained_models/chinese_roberta_wwm_large_ext_pytorch', reduction='mean', seed=209, theta=1, train_batch=4, train_path='./datasets/OntoNotes4.0/mrc-ner.train', train_span_method='full', warmup_ratio=-1, weight_decay=0.1)\n"
     ]
    },
    {
     "name": "stderr",
     "output_type": "stream",
     "text": [
      "100%|██████████| 2151/2151 [02:54<00:00, 12.35it/s]\n",
      "  0%|          | 0/2173 [00:00<?, ?it/s]"
     ]
    },
    {
     "name": "stdout",
     "output_type": "stream",
     "text": [
      "model 2020_08_26_16_29_23_7.cpt develop dataset:\n",
      "precision:0.47 recall:0.73 f1:0.57\n"
     ]
    },
    {
     "name": "stderr",
     "output_type": "stream",
     "text": [
      "100%|██████████| 2173/2173 [03:00<00:00, 12.07it/s]\n"
     ]
    },
    {
     "name": "stdout",
     "output_type": "stream",
     "text": [
      "model 2020_08_26_16_29_23_7.cpt test dataset:\n",
      "precision:0.46 recall:0.77 f1:0.57\n",
      "/home/wangnan/mrc4ner/checkpoints/2020_08_26_16_29_23_8.cpt \n",
      " Namespace(allow_impossible=True, alpha=1, beta=1, cls=False, cpu=False, debug=False, dev_batch=10, dev_path='./datasets/OntoNotes4.0/mrc-ner.dev', dropout_prob=0.2, epochs=10, eval=True, gamma=1, local_rank=0, log_steps=20, lr=8e-06, max_tokens=512, pretrained_model_name_or_path='./pretrained_models/chinese_roberta_wwm_large_ext_pytorch', reduction='mean', seed=209, theta=1, train_batch=4, train_path='./datasets/OntoNotes4.0/mrc-ner.train', train_span_method='full', warmup_ratio=-1, weight_decay=0.1)\n"
     ]
    },
    {
     "name": "stderr",
     "output_type": "stream",
     "text": [
      "100%|██████████| 2151/2151 [02:56<00:00, 12.21it/s]\n",
      "  0%|          | 0/2173 [00:00<?, ?it/s]"
     ]
    },
    {
     "name": "stdout",
     "output_type": "stream",
     "text": [
      "model 2020_08_26_16_29_23_8.cpt develop dataset:\n",
      "precision:0.47 recall:0.75 f1:0.58\n"
     ]
    },
    {
     "name": "stderr",
     "output_type": "stream",
     "text": [
      "100%|██████████| 2173/2173 [02:59<00:00, 12.12it/s]\n"
     ]
    },
    {
     "name": "stdout",
     "output_type": "stream",
     "text": [
      "model 2020_08_26_16_29_23_8.cpt test dataset:\n",
      "precision:0.46 recall:0.78 f1:0.58\n",
      "/home/wangnan/mrc4ner/checkpoints/2020_08_26_16_29_23_9.cpt \n",
      " Namespace(allow_impossible=True, alpha=1, beta=1, cls=False, cpu=False, debug=False, dev_batch=10, dev_path='./datasets/OntoNotes4.0/mrc-ner.dev', dropout_prob=0.2, epochs=10, eval=True, gamma=1, local_rank=0, log_steps=20, lr=8e-06, max_tokens=512, pretrained_model_name_or_path='./pretrained_models/chinese_roberta_wwm_large_ext_pytorch', reduction='mean', seed=209, theta=1, train_batch=4, train_path='./datasets/OntoNotes4.0/mrc-ner.train', train_span_method='full', warmup_ratio=-1, weight_decay=0.1)\n"
     ]
    },
    {
     "name": "stderr",
     "output_type": "stream",
     "text": [
      "100%|██████████| 2151/2151 [02:55<00:00, 12.24it/s]\n",
      "  0%|          | 0/2173 [00:00<?, ?it/s]"
     ]
    },
    {
     "name": "stdout",
     "output_type": "stream",
     "text": [
      "model 2020_08_26_16_29_23_9.cpt develop dataset:\n",
      "precision:0.45 recall:0.77 f1:0.57\n"
     ]
    },
    {
     "name": "stderr",
     "output_type": "stream",
     "text": [
      "100%|██████████| 2173/2173 [03:02<00:00, 11.90it/s]\n"
     ]
    },
    {
     "name": "stdout",
     "output_type": "stream",
     "text": [
      "model 2020_08_26_16_29_23_9.cpt test dataset:\n",
      "precision:0.44 recall:0.80 f1:0.56\n",
      "/home/wangnan/mrc4ner/checkpoints/2020_08_27_01_34_20_0.cpt \n",
      " Namespace(allow_impossible=True, alpha=1, beta=1, cls=False, cpu=False, debug=False, dev_batch=10, dev_path='./datasets/OntoNotes4.0/mrc-ner.dev', dropout_prob=0.1, epochs=10, eval=True, gamma=1, local_rank=0, log_steps=20, lr=8e-06, max_tokens=512, pretrained_model_name_or_path='./pretrained_models/chinese_roberta_wwm_large_ext_pytorch', reduction='mean', seed=209, theta=1, train_batch=4, train_path='./datasets/OntoNotes4.0/mrc-ner.train', train_span_method='full', warmup_ratio=-1, weight_decay=0.01)\n"
     ]
    },
    {
     "name": "stderr",
     "output_type": "stream",
     "text": [
      "100%|██████████| 2151/2151 [02:58<00:00, 12.03it/s]\n",
      "  0%|          | 0/2173 [00:00<?, ?it/s]"
     ]
    },
    {
     "name": "stdout",
     "output_type": "stream",
     "text": [
      "model 2020_08_27_01_34_20_0.cpt develop dataset:\n",
      "precision:0.49 recall:0.68 f1:0.57\n"
     ]
    },
    {
     "name": "stderr",
     "output_type": "stream",
     "text": [
      "100%|██████████| 2173/2173 [02:57<00:00, 12.21it/s]\n"
     ]
    },
    {
     "name": "stdout",
     "output_type": "stream",
     "text": [
      "model 2020_08_27_01_34_20_0.cpt test dataset:\n",
      "precision:0.47 recall:0.72 f1:0.57\n",
      "/home/wangnan/mrc4ner/checkpoints/2020_08_27_01_34_20_1.cpt \n",
      " Namespace(allow_impossible=True, alpha=1, beta=1, cls=False, cpu=False, debug=False, dev_batch=10, dev_path='./datasets/OntoNotes4.0/mrc-ner.dev', dropout_prob=0.1, epochs=10, eval=True, gamma=1, local_rank=0, log_steps=20, lr=8e-06, max_tokens=512, pretrained_model_name_or_path='./pretrained_models/chinese_roberta_wwm_large_ext_pytorch', reduction='mean', seed=209, theta=1, train_batch=4, train_path='./datasets/OntoNotes4.0/mrc-ner.train', train_span_method='full', warmup_ratio=-1, weight_decay=0.01)\n"
     ]
    },
    {
     "name": "stderr",
     "output_type": "stream",
     "text": [
      "100%|██████████| 2151/2151 [02:54<00:00, 12.36it/s]\n",
      "  0%|          | 0/2173 [00:00<?, ?it/s]"
     ]
    },
    {
     "name": "stdout",
     "output_type": "stream",
     "text": [
      "model 2020_08_27_01_34_20_1.cpt develop dataset:\n",
      "precision:0.48 recall:0.72 f1:0.58\n"
     ]
    },
    {
     "name": "stderr",
     "output_type": "stream",
     "text": [
      "100%|██████████| 2173/2173 [03:00<00:00, 12.02it/s]\n"
     ]
    },
    {
     "name": "stdout",
     "output_type": "stream",
     "text": [
      "model 2020_08_27_01_34_20_1.cpt test dataset:\n",
      "precision:0.48 recall:0.76 f1:0.58\n",
      "/home/wangnan/mrc4ner/checkpoints/2020_08_27_01_34_20_2.cpt \n",
      " Namespace(allow_impossible=True, alpha=1, beta=1, cls=False, cpu=False, debug=False, dev_batch=10, dev_path='./datasets/OntoNotes4.0/mrc-ner.dev', dropout_prob=0.1, epochs=10, eval=True, gamma=1, local_rank=0, log_steps=20, lr=8e-06, max_tokens=512, pretrained_model_name_or_path='./pretrained_models/chinese_roberta_wwm_large_ext_pytorch', reduction='mean', seed=209, theta=1, train_batch=4, train_path='./datasets/OntoNotes4.0/mrc-ner.train', train_span_method='full', warmup_ratio=-1, weight_decay=0.01)\n"
     ]
    },
    {
     "name": "stderr",
     "output_type": "stream",
     "text": [
      "100%|██████████| 2151/2151 [02:52<00:00, 12.50it/s]\n",
      "  0%|          | 0/2173 [00:00<?, ?it/s]"
     ]
    },
    {
     "name": "stdout",
     "output_type": "stream",
     "text": [
      "model 2020_08_27_01_34_20_2.cpt develop dataset:\n",
      "precision:0.48 recall:0.75 f1:0.58\n"
     ]
    },
    {
     "name": "stderr",
     "output_type": "stream",
     "text": [
      "100%|██████████| 2173/2173 [02:59<00:00, 12.08it/s]\n"
     ]
    },
    {
     "name": "stdout",
     "output_type": "stream",
     "text": [
      "model 2020_08_27_01_34_20_2.cpt test dataset:\n",
      "precision:0.47 recall:0.77 f1:0.58\n",
      "/home/wangnan/mrc4ner/checkpoints/2020_08_27_01_34_20_3.cpt \n",
      " Namespace(allow_impossible=True, alpha=1, beta=1, cls=False, cpu=False, debug=False, dev_batch=10, dev_path='./datasets/OntoNotes4.0/mrc-ner.dev', dropout_prob=0.1, epochs=10, eval=True, gamma=1, local_rank=0, log_steps=20, lr=8e-06, max_tokens=512, pretrained_model_name_or_path='./pretrained_models/chinese_roberta_wwm_large_ext_pytorch', reduction='mean', seed=209, theta=1, train_batch=4, train_path='./datasets/OntoNotes4.0/mrc-ner.train', train_span_method='full', warmup_ratio=-1, weight_decay=0.01)\n"
     ]
    },
    {
     "name": "stderr",
     "output_type": "stream",
     "text": [
      "100%|██████████| 2151/2151 [02:52<00:00, 12.50it/s]\n",
      "  0%|          | 0/2173 [00:00<?, ?it/s]"
     ]
    },
    {
     "name": "stdout",
     "output_type": "stream",
     "text": [
      "model 2020_08_27_01_34_20_3.cpt develop dataset:\n",
      "precision:0.47 recall:0.75 f1:0.58\n"
     ]
    },
    {
     "name": "stderr",
     "output_type": "stream",
     "text": [
      "100%|██████████| 2173/2173 [03:00<00:00, 12.04it/s]\n"
     ]
    },
    {
     "name": "stdout",
     "output_type": "stream",
     "text": [
      "model 2020_08_27_01_34_20_3.cpt test dataset:\n",
      "precision:0.46 recall:0.78 f1:0.58\n",
      "/home/wangnan/mrc4ner/checkpoints/2020_08_27_01_34_20_4.cpt \n",
      " Namespace(allow_impossible=True, alpha=1, beta=1, cls=False, cpu=False, debug=False, dev_batch=10, dev_path='./datasets/OntoNotes4.0/mrc-ner.dev', dropout_prob=0.1, epochs=10, eval=True, gamma=1, local_rank=0, log_steps=20, lr=8e-06, max_tokens=512, pretrained_model_name_or_path='./pretrained_models/chinese_roberta_wwm_large_ext_pytorch', reduction='mean', seed=209, theta=1, train_batch=4, train_path='./datasets/OntoNotes4.0/mrc-ner.train', train_span_method='full', warmup_ratio=-1, weight_decay=0.01)\n"
     ]
    },
    {
     "name": "stderr",
     "output_type": "stream",
     "text": [
      "100%|██████████| 2151/2151 [02:56<00:00, 12.18it/s]\n",
      "  0%|          | 0/2173 [00:00<?, ?it/s]"
     ]
    },
    {
     "name": "stdout",
     "output_type": "stream",
     "text": [
      "model 2020_08_27_01_34_20_4.cpt develop dataset:\n",
      "precision:0.44 recall:0.79 f1:0.57\n"
     ]
    },
    {
     "name": "stderr",
     "output_type": "stream",
     "text": [
      "100%|██████████| 2173/2173 [02:58<00:00, 12.14it/s]\n"
     ]
    },
    {
     "name": "stdout",
     "output_type": "stream",
     "text": [
      "model 2020_08_27_01_34_20_4.cpt test dataset:\n",
      "precision:0.44 recall:0.82 f1:0.57\n",
      "/home/wangnan/mrc4ner/checkpoints/2020_08_27_01_34_20_5.cpt \n",
      " Namespace(allow_impossible=True, alpha=1, beta=1, cls=False, cpu=False, debug=False, dev_batch=10, dev_path='./datasets/OntoNotes4.0/mrc-ner.dev', dropout_prob=0.1, epochs=10, eval=True, gamma=1, local_rank=0, log_steps=20, lr=8e-06, max_tokens=512, pretrained_model_name_or_path='./pretrained_models/chinese_roberta_wwm_large_ext_pytorch', reduction='mean', seed=209, theta=1, train_batch=4, train_path='./datasets/OntoNotes4.0/mrc-ner.train', train_span_method='full', warmup_ratio=-1, weight_decay=0.01)\n"
     ]
    },
    {
     "name": "stderr",
     "output_type": "stream",
     "text": [
      "100%|██████████| 2151/2151 [02:49<00:00, 12.65it/s]\n",
      "  0%|          | 0/2173 [00:00<?, ?it/s]"
     ]
    },
    {
     "name": "stdout",
     "output_type": "stream",
     "text": [
      "model 2020_08_27_01_34_20_5.cpt develop dataset:\n",
      "precision:0.45 recall:0.78 f1:0.57\n"
     ]
    },
    {
     "name": "stderr",
     "output_type": "stream",
     "text": [
      "100%|██████████| 2173/2173 [02:49<00:00, 12.82it/s]"
     ]
    },
    {
     "name": "stdout",
     "output_type": "stream",
     "text": [
      "model 2020_08_27_01_34_20_5.cpt test dataset:\n",
      "precision:0.44 recall:0.80 f1:0.57\n"
     ]
    },
    {
     "name": "stderr",
     "output_type": "stream",
     "text": [
      "\n"
     ]
    }
   ],
   "source": [
    "scores = []\n",
    "for file in files:\n",
    "    s = test(file,8)\n",
    "    scores.append(s)"
   ]
  },
  {
   "cell_type": "code",
   "execution_count": 8,
   "metadata": {},
   "outputs": [
    {
     "name": "stdout",
     "output_type": "stream",
     "text": [
      "[('2020_08_26_11_49_38_6.cpt', 0.6128814864144718, 0.8312875423307277, 0.7055689211666629), ('2020_08_26_11_49_38_7.cpt', 0.6320086562431626, 0.8389919037817979, 0.720937570860264), ('2020_08_26_11_49_38_8.cpt', 0.6250120807359609, 0.84447636447578, 0.7183555232916891), ('2020_08_26_13_20_35_0.cpt', 0.4982752864695365, 0.5847479758964811, 0.5380589804438402), ('2020_08_26_13_20_35_1.cpt', 0.40722267817367114, 0.842256463718692, 0.549005816683332), ('2020_08_26_13_20_35_2.cpt', 0.38787239031269805, 0.8636719769047176, 0.5353293982030005), ('2020_08_26_13_20_35_3.cpt', 0.3971061093002037, 0.8386001565893705, 0.5389840371327967), ('2020_08_26_13_20_35_4.cpt', 0.36014079247186065, 0.8818229301538492, 0.5114161507165039), ('2020_08_26_13_20_35_5.cpt', 0.3643880925929224, 0.8631496473148146, 0.5124424075299469), ('2020_08_26_13_20_35_6.cpt', 0.3949976122018268, 0.8640637240971449, 0.5421544239213044), ('2020_08_26_13_20_35_7.cpt', 0.3727318975539691, 0.8610603289552023, 0.5202567876433899), ('2020_08_26_13_20_35_8.cpt', 0.33070750561059264, 0.8826064245387037, 0.48113570820258944), ('2020_08_26_13_20_35_9.cpt', 0.28084469569833537, 0.8822146773462765, 0.4260575260617474), ('2020_08_26_15_09_58_0.cpt', 0.6832200730644328, 0.5120135805024792, 0.5853544403802748), ('2020_08_26_15_09_58_1.cpt', 0.8149442864725924, 0.4870723425846079, 0.6097257269482165), ('2020_08_26_16_29_23_0.cpt', 0.45511899054023963, 0.7441890832143916, 0.5648161791409817), ('2020_08_26_16_29_23_1.cpt', 0.4639495797929454, 0.7209454164637051, 0.5645766785923658), ('2020_08_26_16_29_23_2.cpt', 0.4280941015732633, 0.8197962913528603, 0.5624687513820724), ('2020_08_26_16_29_23_3.cpt', 0.4428850194804199, 0.7705667275044964, 0.5624816639457235), ('2020_08_26_16_29_23_4.cpt', 0.46375162544995513, 0.7451031599967219, 0.5716857308147776), ('2020_08_26_16_29_23_5.cpt', 0.4469006721100149, 0.781405066494985, 0.5686046301486247), ('2020_08_26_16_29_23_6.cpt', 0.4173249611493265, 0.8071297987977109, 0.5501797989668289), ('2020_08_26_16_29_23_7.cpt', 0.4573764110192778, 0.7671715851701264, 0.5730863972825635), ('2020_08_26_16_29_23_8.cpt', 0.46103896100332104, 0.7787934185454696, 0.5791973573950678), ('2020_08_26_16_29_23_9.cpt', 0.43631940466254154, 0.7962914598072223, 0.5637418001495734), ('2020_08_27_01_34_20_0.cpt', 0.4703110272924076, 0.7167667797444807, 0.5679544079337979), ('2020_08_27_01_34_20_1.cpt', 0.4755777740964122, 0.7577696525518712, 0.5843902612626438), ('2020_08_27_01_34_20_2.cpt', 0.46852980757908874, 0.7727866282615844, 0.583369829158778), ('2020_08_27_01_34_20_3.cpt', 0.45650687529768996, 0.7846696264318791, 0.5772052406755113), ('2020_08_27_01_34_20_4.cpt', 0.4355388575498825, 0.8174458081982964, 0.5682896830252806), ('2020_08_27_01_34_20_5.cpt', 0.44382711592150753, 0.8032123268734379, 0.5717335192591817)]\n"
     ]
    }
   ],
   "source": [
    "print(scores)"
   ]
  }
 ],
 "metadata": {
  "kernelspec": {
   "display_name": "virtualpython",
   "language": "python",
   "name": "virtualpython"
  },
  "language_info": {
   "codemirror_mode": {
    "name": "ipython",
    "version": 3
   },
   "file_extension": ".py",
   "mimetype": "text/x-python",
   "name": "python",
   "nbconvert_exporter": "python",
   "pygments_lexer": "ipython3",
   "version": "3.8.3"
  }
 },
 "nbformat": 4,
 "nbformat_minor": 4
}
