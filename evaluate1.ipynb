{
 "cells": [
  {
   "cell_type": "code",
   "execution_count": 1,
   "metadata": {},
   "outputs": [],
   "source": [
    "import os\n",
    "os.chdir('/home/wangnan/mrc4ner')\n",
    "from evaluate import evaluation\n",
    "from model import MyModel\n",
    "from mydataset import load_data,collate_fn,MyDataset\n",
    "import pickle \n",
    "from transformers import BertTokenizer\n",
    "import torch\n",
    "import time\n",
    "from tqdm import tqdm\n",
    "from torch.utils.data import DataLoader\n",
    "from multiprocessing import Process\n",
    "\n",
    "os.environ['CUDA_VISIBLE_DEVICES']='3'"
   ]
  },
  {
   "cell_type": "code",
   "execution_count": 2,
   "metadata": {},
   "outputs": [],
   "source": [
    "pretrained_model1 = '/home/wangnan/mrc4ner/pretrained_models/chinese_roberta_wwm_large_ext_pytorch'\n",
    "pretrained_model2 = '/home/wangnan/mrc4ner/pretrained_models/RoBERTa_zh_Large_PyTorch'\n",
    "\n",
    "dev_path = '/home/wangnan/mrc4ner/datasets/OntoNotes4.0/mrc-ner.dev'\n",
    "test_path = '/home/wangnan/mrc4ner/datasets/OntoNotes4.0/mrc-ner.test'"
   ]
  },
  {
   "cell_type": "code",
   "execution_count": 3,
   "metadata": {},
   "outputs": [],
   "source": [
    "with open(\"/home/wangnan/mrc4ner/datasets/OntoNotes4.0/eval_dataset\",'rb') as f:\n",
    "    data = pickle.load(f)\n",
    "    pre1_dev_dataset=data['pre1_dev_dataset']\n",
    "    pre1_test_dataset=data['pre1_test_dataset']\n",
    "    pre2_dev_dataset=data['pre2_dev_dataset']\n",
    "    pre2_test_dataset=data['pre2_test_dataset']"
   ]
  },
  {
   "cell_type": "code",
   "execution_count": 7,
   "metadata": {},
   "outputs": [],
   "source": [
    "def test(model_dir,file,batch_size,args):\n",
    "    path = model_dir+file\n",
    "    cpt = torch.load(path)\n",
    "    mymodel = MyModel(args)\n",
    "    mymodel.load_state_dict(cpt[\"state_dict\"])\n",
    "    test_dataset = pre1_test_dataset if args.pretrained_model_name_or_path==pretrained_model1 else pre2_test_dataset\n",
    "    test_dataloader = DataLoader(test_dataset, batch_size=batch_size, collate_fn=collate_fn,\n",
    "                              pin_memory=False,shuffle=False)\n",
    "    print(path,'\\n',args)\n",
    "    time.sleep(0.1)\n",
    "    p,r,f = evaluation(mymodel,test_dataloader,train_eval=False)\n",
    "    print(\"model {} test dataset:\\nprecision:{:.4f} recall:{:.4f} f1:{:.4f}\".format(file,p,r,f))\n",
    "    return file,p,r,f"
   ]
  },
  {
   "cell_type": "code",
   "execution_count": null,
   "metadata": {},
   "outputs": [],
   "source": [
    "#这里似乎出了什么问题\n",
    "base_dir = '/home/wangnan/mrc4ner/checkpoints/'\n",
    "base_model_dir = '2020_09_05_22_35_08'\n",
    "model_dir = base_dir+base_model_dir+'/'\n",
    "args = pickle.load(open(model_dir+'args','rb'))\n",
    "files = os.listdir(base_dir+base_model_dir)\n",
    "files.remove('args')\n",
    "files = sorted(files)\n",
    "scores = []\n",
    "for file in files:\n",
    "    s = test(model_dir,file,7,args)\n",
    "    scores.append(s)\n",
    "print(scores)"
   ]
  },
  {
   "cell_type": "code",
   "execution_count": null,
   "metadata": {},
   "outputs": [],
   "source": []
  },
  {
   "cell_type": "code",
   "execution_count": null,
   "metadata": {},
   "outputs": [],
   "source": []
  },
  {
   "cell_type": "code",
   "execution_count": null,
   "metadata": {},
   "outputs": [],
   "source": []
  },
  {
   "cell_type": "code",
   "execution_count": 8,
   "metadata": {},
   "outputs": [
    {
     "name": "stdout",
     "output_type": "stream",
     "text": [
      "/home/wangnan/mrc4ner/checkpoints/OntoNotes4.0/2020_09_10_16_13_49/checkpoint_0.cpt \n",
      " Namespace(allow_impossible=True, alpha=1, beta=1, cls=True, cpu=False, dataset_tag='OntoNotes4.0', debug=False, dev_batch=10, dev_path='./datasets/OntoNotes4.0/mrc-ner.dev', dropout_prob=0.1, epochs=10, eval=False, gamma=1, local_rank=0, log_steps=20, loss_sampler_epoch=3, lr=8e-06, max_grad_norm=0.5, max_tokens=450, not_store=False, pretrained_model_name_or_path='./pretrained_models/chinese_roberta_wwm_large_ext_pytorch', reduction='mean', reload=True, seed=209, span_layer=True, theta=1, train_batch=4, train_path='./datasets/OntoNotes4.0/mrc-ner.train', train_span_method='gold', warmup_ratio=0.1, weight_decay=0.01)\n"
     ]
    },
    {
     "name": "stderr",
     "output_type": "stream",
     "text": [
      "eval: 100%|█████████████████████████████████████████████████████| 2484/2484 [04:10<00:00,  9.91it/s]\n"
     ]
    },
    {
     "name": "stdout",
     "output_type": "stream",
     "text": [
      "model checkpoint_0.cpt test dataset:\n",
      "precision:0.7634 recall:0.7228 f1:0.7426\n",
      "/home/wangnan/mrc4ner/checkpoints/OntoNotes4.0/2020_09_10_16_13_49/checkpoint_1.cpt \n",
      " Namespace(allow_impossible=True, alpha=1, beta=1, cls=True, cpu=False, dataset_tag='OntoNotes4.0', debug=False, dev_batch=10, dev_path='./datasets/OntoNotes4.0/mrc-ner.dev', dropout_prob=0.1, epochs=10, eval=False, gamma=1, local_rank=0, log_steps=20, loss_sampler_epoch=3, lr=8e-06, max_grad_norm=0.5, max_tokens=450, not_store=False, pretrained_model_name_or_path='./pretrained_models/chinese_roberta_wwm_large_ext_pytorch', reduction='mean', reload=True, seed=209, span_layer=True, theta=1, train_batch=4, train_path='./datasets/OntoNotes4.0/mrc-ner.train', train_span_method='gold', warmup_ratio=0.1, weight_decay=0.01)\n"
     ]
    },
    {
     "name": "stderr",
     "output_type": "stream",
     "text": [
      "eval: 100%|█████████████████████████████████████████████████████| 2484/2484 [04:15<00:00,  9.71it/s]\n"
     ]
    },
    {
     "name": "stdout",
     "output_type": "stream",
     "text": [
      "model checkpoint_1.cpt test dataset:\n",
      "precision:0.7710 recall:0.8159 f1:0.7928\n",
      "/home/wangnan/mrc4ner/checkpoints/OntoNotes4.0/2020_09_10_16_13_49/checkpoint_2.cpt \n",
      " Namespace(allow_impossible=True, alpha=1, beta=1, cls=True, cpu=False, dataset_tag='OntoNotes4.0', debug=False, dev_batch=10, dev_path='./datasets/OntoNotes4.0/mrc-ner.dev', dropout_prob=0.1, epochs=10, eval=False, gamma=1, local_rank=0, log_steps=20, loss_sampler_epoch=3, lr=8e-06, max_grad_norm=0.5, max_tokens=450, not_store=False, pretrained_model_name_or_path='./pretrained_models/chinese_roberta_wwm_large_ext_pytorch', reduction='mean', reload=True, seed=209, span_layer=True, theta=1, train_batch=4, train_path='./datasets/OntoNotes4.0/mrc-ner.train', train_span_method='gold', warmup_ratio=0.1, weight_decay=0.01)\n"
     ]
    },
    {
     "name": "stderr",
     "output_type": "stream",
     "text": [
      "eval: 100%|█████████████████████████████████████████████████████| 2484/2484 [04:16<00:00,  9.70it/s]\n"
     ]
    },
    {
     "name": "stdout",
     "output_type": "stream",
     "text": [
      "model checkpoint_2.cpt test dataset:\n",
      "precision:0.8223 recall:0.8257 f1:0.8240\n",
      "/home/wangnan/mrc4ner/checkpoints/OntoNotes4.0/2020_09_10_16_13_49/checkpoint_3.cpt \n",
      " Namespace(allow_impossible=True, alpha=1, beta=1, cls=True, cpu=False, dataset_tag='OntoNotes4.0', debug=False, dev_batch=10, dev_path='./datasets/OntoNotes4.0/mrc-ner.dev', dropout_prob=0.1, epochs=10, eval=False, gamma=1, local_rank=0, log_steps=20, loss_sampler_epoch=3, lr=8e-06, max_grad_norm=0.5, max_tokens=450, not_store=False, pretrained_model_name_or_path='./pretrained_models/chinese_roberta_wwm_large_ext_pytorch', reduction='mean', reload=True, seed=209, span_layer=True, theta=1, train_batch=4, train_path='./datasets/OntoNotes4.0/mrc-ner.train', train_span_method='gold', warmup_ratio=0.1, weight_decay=0.01)\n"
     ]
    },
    {
     "name": "stderr",
     "output_type": "stream",
     "text": [
      "eval: 100%|█████████████████████████████████████████████████████| 2484/2484 [04:14<00:00,  9.76it/s]\n"
     ]
    },
    {
     "name": "stdout",
     "output_type": "stream",
     "text": [
      "model checkpoint_3.cpt test dataset:\n",
      "precision:0.8017 recall:0.7960 f1:0.7988\n",
      "/home/wangnan/mrc4ner/checkpoints/OntoNotes4.0/2020_09_10_16_13_49/checkpoint_4.cpt \n",
      " Namespace(allow_impossible=True, alpha=1, beta=1, cls=True, cpu=False, dataset_tag='OntoNotes4.0', debug=False, dev_batch=10, dev_path='./datasets/OntoNotes4.0/mrc-ner.dev', dropout_prob=0.1, epochs=10, eval=False, gamma=1, local_rank=0, log_steps=20, loss_sampler_epoch=3, lr=8e-06, max_grad_norm=0.5, max_tokens=450, not_store=False, pretrained_model_name_or_path='./pretrained_models/chinese_roberta_wwm_large_ext_pytorch', reduction='mean', reload=True, seed=209, span_layer=True, theta=1, train_batch=4, train_path='./datasets/OntoNotes4.0/mrc-ner.train', train_span_method='gold', warmup_ratio=0.1, weight_decay=0.01)\n"
     ]
    },
    {
     "name": "stderr",
     "output_type": "stream",
     "text": [
      "eval: 100%|█████████████████████████████████████████████████████| 2484/2484 [04:16<00:00,  9.69it/s]\n"
     ]
    },
    {
     "name": "stdout",
     "output_type": "stream",
     "text": [
      "model checkpoint_4.cpt test dataset:\n",
      "precision:0.7984 recall:0.7922 f1:0.7953\n",
      "/home/wangnan/mrc4ner/checkpoints/OntoNotes4.0/2020_09_10_16_13_49/checkpoint_5.cpt \n",
      " Namespace(allow_impossible=True, alpha=1, beta=1, cls=True, cpu=False, dataset_tag='OntoNotes4.0', debug=False, dev_batch=10, dev_path='./datasets/OntoNotes4.0/mrc-ner.dev', dropout_prob=0.1, epochs=10, eval=False, gamma=1, local_rank=0, log_steps=20, loss_sampler_epoch=3, lr=8e-06, max_grad_norm=0.5, max_tokens=450, not_store=False, pretrained_model_name_or_path='./pretrained_models/chinese_roberta_wwm_large_ext_pytorch', reduction='mean', reload=True, seed=209, span_layer=True, theta=1, train_batch=4, train_path='./datasets/OntoNotes4.0/mrc-ner.train', train_span_method='gold', warmup_ratio=0.1, weight_decay=0.01)\n"
     ]
    },
    {
     "name": "stderr",
     "output_type": "stream",
     "text": [
      "eval: 100%|█████████████████████████████████████████████████████| 2484/2484 [04:15<00:00,  9.72it/s]\n"
     ]
    },
    {
     "name": "stdout",
     "output_type": "stream",
     "text": [
      "model checkpoint_5.cpt test dataset:\n",
      "precision:0.8083 recall:0.8030 f1:0.8056\n",
      "/home/wangnan/mrc4ner/checkpoints/OntoNotes4.0/2020_09_10_16_13_49/checkpoint_6.cpt \n",
      " Namespace(allow_impossible=True, alpha=1, beta=1, cls=True, cpu=False, dataset_tag='OntoNotes4.0', debug=False, dev_batch=10, dev_path='./datasets/OntoNotes4.0/mrc-ner.dev', dropout_prob=0.1, epochs=10, eval=False, gamma=1, local_rank=0, log_steps=20, loss_sampler_epoch=3, lr=8e-06, max_grad_norm=0.5, max_tokens=450, not_store=False, pretrained_model_name_or_path='./pretrained_models/chinese_roberta_wwm_large_ext_pytorch', reduction='mean', reload=True, seed=209, span_layer=True, theta=1, train_batch=4, train_path='./datasets/OntoNotes4.0/mrc-ner.train', train_span_method='gold', warmup_ratio=0.1, weight_decay=0.01)\n"
     ]
    },
    {
     "name": "stderr",
     "output_type": "stream",
     "text": [
      "eval: 100%|█████████████████████████████████████████████████████| 2484/2484 [04:16<00:00,  9.70it/s]\n"
     ]
    },
    {
     "name": "stdout",
     "output_type": "stream",
     "text": [
      "model checkpoint_6.cpt test dataset:\n",
      "precision:0.8097 recall:0.8024 f1:0.8061\n",
      "/home/wangnan/mrc4ner/checkpoints/OntoNotes4.0/2020_09_10_16_13_49/checkpoint_7.cpt \n",
      " Namespace(allow_impossible=True, alpha=1, beta=1, cls=True, cpu=False, dataset_tag='OntoNotes4.0', debug=False, dev_batch=10, dev_path='./datasets/OntoNotes4.0/mrc-ner.dev', dropout_prob=0.1, epochs=10, eval=False, gamma=1, local_rank=0, log_steps=20, loss_sampler_epoch=3, lr=8e-06, max_grad_norm=0.5, max_tokens=450, not_store=False, pretrained_model_name_or_path='./pretrained_models/chinese_roberta_wwm_large_ext_pytorch', reduction='mean', reload=True, seed=209, span_layer=True, theta=1, train_batch=4, train_path='./datasets/OntoNotes4.0/mrc-ner.train', train_span_method='gold', warmup_ratio=0.1, weight_decay=0.01)\n"
     ]
    },
    {
     "name": "stderr",
     "output_type": "stream",
     "text": [
      "eval: 100%|█████████████████████████████████████████████████████| 2484/2484 [04:16<00:00,  9.69it/s]\n"
     ]
    },
    {
     "name": "stdout",
     "output_type": "stream",
     "text": [
      "model checkpoint_7.cpt test dataset:\n",
      "precision:0.8120 recall:0.8007 f1:0.8063\n",
      "/home/wangnan/mrc4ner/checkpoints/OntoNotes4.0/2020_09_10_16_13_49/checkpoint_8.cpt \n",
      " Namespace(allow_impossible=True, alpha=1, beta=1, cls=True, cpu=False, dataset_tag='OntoNotes4.0', debug=False, dev_batch=10, dev_path='./datasets/OntoNotes4.0/mrc-ner.dev', dropout_prob=0.1, epochs=10, eval=False, gamma=1, local_rank=0, log_steps=20, loss_sampler_epoch=3, lr=8e-06, max_grad_norm=0.5, max_tokens=450, not_store=False, pretrained_model_name_or_path='./pretrained_models/chinese_roberta_wwm_large_ext_pytorch', reduction='mean', reload=True, seed=209, span_layer=True, theta=1, train_batch=4, train_path='./datasets/OntoNotes4.0/mrc-ner.train', train_span_method='gold', warmup_ratio=0.1, weight_decay=0.01)\n"
     ]
    },
    {
     "name": "stderr",
     "output_type": "stream",
     "text": [
      "eval: 100%|█████████████████████████████████████████████████████| 2484/2484 [04:15<00:00,  9.74it/s]\n"
     ]
    },
    {
     "name": "stdout",
     "output_type": "stream",
     "text": [
      "model checkpoint_8.cpt test dataset:\n",
      "precision:0.8222 recall:0.8050 f1:0.8135\n",
      "/home/wangnan/mrc4ner/checkpoints/OntoNotes4.0/2020_09_10_16_13_49/checkpoint_9.cpt \n",
      " Namespace(allow_impossible=True, alpha=1, beta=1, cls=True, cpu=False, dataset_tag='OntoNotes4.0', debug=False, dev_batch=10, dev_path='./datasets/OntoNotes4.0/mrc-ner.dev', dropout_prob=0.1, epochs=10, eval=False, gamma=1, local_rank=0, log_steps=20, loss_sampler_epoch=3, lr=8e-06, max_grad_norm=0.5, max_tokens=450, not_store=False, pretrained_model_name_or_path='./pretrained_models/chinese_roberta_wwm_large_ext_pytorch', reduction='mean', reload=True, seed=209, span_layer=True, theta=1, train_batch=4, train_path='./datasets/OntoNotes4.0/mrc-ner.train', train_span_method='gold', warmup_ratio=0.1, weight_decay=0.01)\n"
     ]
    },
    {
     "name": "stderr",
     "output_type": "stream",
     "text": [
      "eval: 100%|█████████████████████████████████████████████████████| 2484/2484 [04:16<00:00,  9.70it/s]"
     ]
    },
    {
     "name": "stdout",
     "output_type": "stream",
     "text": [
      "model checkpoint_9.cpt test dataset:\n",
      "precision:0.8120 recall:0.8073 f1:0.8096\n",
      "[('checkpoint_0.cpt', 0.7634482757567658, 0.722773570028366, 0.7425538335191137), ('checkpoint_1.cpt', 0.7709772950677471, 0.8158788194285872, 0.7927922930928413), ('checkpoint_2.cpt', 0.8223436076443824, 0.8256724992392697, 0.824004191365606), ('checkpoint_3.cpt', 0.8016833244605887, 0.7960302950122707, 0.7988463089701621), ('checkpoint_4.cpt', 0.7983945254904073, 0.7922434054854736, 0.7953065720671338), ('checkpoint_5.cpt', 0.8083344287093026, 0.8029511620784864, 0.8056333027172397), ('checkpoint_6.cpt', 0.8097246012900613, 0.8024288324885833, 0.8060597084704358), ('checkpoint_7.cpt', 0.8119703388755336, 0.8007312613213984, 0.8063111369994382), ('checkpoint_8.cpt', 0.8222192583592666, 0.8050404804380986, 0.8135386923477256), ('checkpoint_9.cpt', 0.8120320503333729, 0.8072603811951866, 0.8096386852826756)]\n"
     ]
    },
    {
     "name": "stderr",
     "output_type": "stream",
     "text": [
      "\n"
     ]
    }
   ],
   "source": [
    "#这个是加了一个sampler\n",
    "base_dir = '/home/wangnan/mrc4ner/checkpoints/OntoNotes4.0/'\n",
    "base_model_dir = '2020_09_10_16_13_49'\n",
    "model_dir = base_dir+base_model_dir+'/'\n",
    "args = pickle.load(open(model_dir+'args','rb'))\n",
    "files = os.listdir(base_dir+base_model_dir)\n",
    "files.remove('args')\n",
    "files = sorted(files)\n",
    "files.append(\"checkpoint_9.cpt\")\n",
    "scores = []\n",
    "for file in files:\n",
    "    s = test(model_dir,file,7,args)\n",
    "    scores.append(s)\n",
    "print(scores)"
   ]
  },
  {
   "cell_type": "code",
   "execution_count": null,
   "metadata": {},
   "outputs": [],
   "source": []
  },
  {
   "cell_type": "code",
   "execution_count": null,
   "metadata": {},
   "outputs": [],
   "source": []
  },
  {
   "cell_type": "code",
   "execution_count": null,
   "metadata": {},
   "outputs": [],
   "source": []
  },
  {
   "cell_type": "code",
   "execution_count": 5,
   "metadata": {},
   "outputs": [
    {
     "name": "stdout",
     "output_type": "stream",
     "text": [
      "/home/wangnan/mrc4ner/checkpoints/2020_09_05_22_35_08/checkpoint_0.cpt \n",
      " Namespace(allow_impossible=True, alpha=1, beta=1, cls=True, cpu=False, debug=False, dev_batch=10, dev_path='./datasets/OntoNotes4.0/mrc-ner.dev', dropout_prob=0.1, epochs=10, eval=False, gamma=1, local_rank=2, log_steps=20, lr=8e-06, max_grad_norm=0.5, max_tokens=450, not_store=False, pretrained_model_name_or_path='./pretrained_models/chinese_roberta_wwm_large_ext_pytorch', reduction='mean', seed=209, span_layer=True, theta=1, train_batch=4, train_path='./datasets/OntoNotes4.0/mrc-ner.train', train_span_method='gold', warmup_ratio=0.1, weight_decay=0.01)\n"
     ]
    },
    {
     "name": "stderr",
     "output_type": "stream",
     "text": [
      "checkpoint_0.cpt: 100%|██████████| 2484/2484 [04:21<00:00,  9.51it/s]\n"
     ]
    },
    {
     "name": "stdout",
     "output_type": "stream",
     "text": [
      "model checkpoint_0.cpt test dataset:\n",
      "precision:0.6665 recall:0.7715 f1:0.7152\n",
      "/home/wangnan/mrc4ner/checkpoints/2020_09_05_22_35_08/checkpoint_1.cpt \n",
      " Namespace(allow_impossible=True, alpha=1, beta=1, cls=True, cpu=False, debug=False, dev_batch=10, dev_path='./datasets/OntoNotes4.0/mrc-ner.dev', dropout_prob=0.1, epochs=10, eval=False, gamma=1, local_rank=2, log_steps=20, lr=8e-06, max_grad_norm=0.5, max_tokens=450, not_store=False, pretrained_model_name_or_path='./pretrained_models/chinese_roberta_wwm_large_ext_pytorch', reduction='mean', seed=209, span_layer=True, theta=1, train_batch=4, train_path='./datasets/OntoNotes4.0/mrc-ner.train', train_span_method='gold', warmup_ratio=0.1, weight_decay=0.01)\n"
     ]
    },
    {
     "name": "stderr",
     "output_type": "stream",
     "text": [
      "checkpoint_1.cpt: 100%|██████████| 2484/2484 [04:23<00:00,  9.42it/s]\n"
     ]
    },
    {
     "name": "stdout",
     "output_type": "stream",
     "text": [
      "model checkpoint_1.cpt test dataset:\n",
      "precision:0.7611 recall:0.8312 f1:0.7946\n",
      "/home/wangnan/mrc4ner/checkpoints/2020_09_05_22_35_08/checkpoint_2.cpt \n",
      " Namespace(allow_impossible=True, alpha=1, beta=1, cls=True, cpu=False, debug=False, dev_batch=10, dev_path='./datasets/OntoNotes4.0/mrc-ner.dev', dropout_prob=0.1, epochs=10, eval=False, gamma=1, local_rank=2, log_steps=20, lr=8e-06, max_grad_norm=0.5, max_tokens=450, not_store=False, pretrained_model_name_or_path='./pretrained_models/chinese_roberta_wwm_large_ext_pytorch', reduction='mean', seed=209, span_layer=True, theta=1, train_batch=4, train_path='./datasets/OntoNotes4.0/mrc-ner.train', train_span_method='gold', warmup_ratio=0.1, weight_decay=0.01)\n"
     ]
    },
    {
     "name": "stderr",
     "output_type": "stream",
     "text": [
      "checkpoint_2.cpt: 100%|██████████| 2484/2484 [04:23<00:00,  9.42it/s]\n"
     ]
    },
    {
     "name": "stdout",
     "output_type": "stream",
     "text": [
      "model checkpoint_2.cpt test dataset:\n",
      "precision:0.7818 recall:0.8272 f1:0.8039\n",
      "/home/wangnan/mrc4ner/checkpoints/2020_09_05_22_35_08/checkpoint_3.cpt \n",
      " Namespace(allow_impossible=True, alpha=1, beta=1, cls=True, cpu=False, debug=False, dev_batch=10, dev_path='./datasets/OntoNotes4.0/mrc-ner.dev', dropout_prob=0.1, epochs=10, eval=False, gamma=1, local_rank=2, log_steps=20, lr=8e-06, max_grad_norm=0.5, max_tokens=450, not_store=False, pretrained_model_name_or_path='./pretrained_models/chinese_roberta_wwm_large_ext_pytorch', reduction='mean', seed=209, span_layer=True, theta=1, train_batch=4, train_path='./datasets/OntoNotes4.0/mrc-ner.train', train_span_method='gold', warmup_ratio=0.1, weight_decay=0.01)\n"
     ]
    },
    {
     "name": "stderr",
     "output_type": "stream",
     "text": [
      "checkpoint_3.cpt: 100%|██████████| 2484/2484 [04:23<00:00,  9.43it/s]\n"
     ]
    },
    {
     "name": "stdout",
     "output_type": "stream",
     "text": [
      "model checkpoint_3.cpt test dataset:\n",
      "precision:0.8065 recall:0.8159 f1:0.8112\n",
      "/home/wangnan/mrc4ner/checkpoints/2020_09_05_22_35_08/checkpoint_4.cpt \n",
      " Namespace(allow_impossible=True, alpha=1, beta=1, cls=True, cpu=False, debug=False, dev_batch=10, dev_path='./datasets/OntoNotes4.0/mrc-ner.dev', dropout_prob=0.1, epochs=10, eval=False, gamma=1, local_rank=2, log_steps=20, lr=8e-06, max_grad_norm=0.5, max_tokens=450, not_store=False, pretrained_model_name_or_path='./pretrained_models/chinese_roberta_wwm_large_ext_pytorch', reduction='mean', seed=209, span_layer=True, theta=1, train_batch=4, train_path='./datasets/OntoNotes4.0/mrc-ner.train', train_span_method='gold', warmup_ratio=0.1, weight_decay=0.01)\n"
     ]
    },
    {
     "name": "stderr",
     "output_type": "stream",
     "text": [
      "checkpoint_4.cpt: 100%|██████████| 2484/2484 [04:23<00:00,  9.43it/s]\n"
     ]
    },
    {
     "name": "stdout",
     "output_type": "stream",
     "text": [
      "model checkpoint_4.cpt test dataset:\n",
      "precision:0.7980 recall:0.8202 f1:0.8089\n",
      "/home/wangnan/mrc4ner/checkpoints/2020_09_05_22_35_08/checkpoint_5.cpt \n",
      " Namespace(allow_impossible=True, alpha=1, beta=1, cls=True, cpu=False, debug=False, dev_batch=10, dev_path='./datasets/OntoNotes4.0/mrc-ner.dev', dropout_prob=0.1, epochs=10, eval=False, gamma=1, local_rank=2, log_steps=20, lr=8e-06, max_grad_norm=0.5, max_tokens=450, not_store=False, pretrained_model_name_or_path='./pretrained_models/chinese_roberta_wwm_large_ext_pytorch', reduction='mean', seed=209, span_layer=True, theta=1, train_batch=4, train_path='./datasets/OntoNotes4.0/mrc-ner.train', train_span_method='gold', warmup_ratio=0.1, weight_decay=0.01)\n"
     ]
    },
    {
     "name": "stderr",
     "output_type": "stream",
     "text": [
      "checkpoint_5.cpt: 100%|██████████| 2484/2484 [04:23<00:00,  9.41it/s]\n"
     ]
    },
    {
     "name": "stdout",
     "output_type": "stream",
     "text": [
      "model checkpoint_5.cpt test dataset:\n",
      "precision:0.8216 recall:0.8003 f1:0.8108\n",
      "/home/wangnan/mrc4ner/checkpoints/2020_09_05_22_35_08/checkpoint_6.cpt \n",
      " Namespace(allow_impossible=True, alpha=1, beta=1, cls=True, cpu=False, debug=False, dev_batch=10, dev_path='./datasets/OntoNotes4.0/mrc-ner.dev', dropout_prob=0.1, epochs=10, eval=False, gamma=1, local_rank=2, log_steps=20, lr=8e-06, max_grad_norm=0.5, max_tokens=450, not_store=False, pretrained_model_name_or_path='./pretrained_models/chinese_roberta_wwm_large_ext_pytorch', reduction='mean', seed=209, span_layer=True, theta=1, train_batch=4, train_path='./datasets/OntoNotes4.0/mrc-ner.train', train_span_method='gold', warmup_ratio=0.1, weight_decay=0.01)\n"
     ]
    },
    {
     "name": "stderr",
     "output_type": "stream",
     "text": [
      "checkpoint_6.cpt: 100%|██████████| 2484/2484 [04:24<00:00,  9.40it/s]\n"
     ]
    },
    {
     "name": "stdout",
     "output_type": "stream",
     "text": [
      "model checkpoint_6.cpt test dataset:\n",
      "precision:0.8119 recall:0.8007 f1:0.8063\n",
      "/home/wangnan/mrc4ner/checkpoints/2020_09_05_22_35_08/checkpoint_7.cpt \n",
      " Namespace(allow_impossible=True, alpha=1, beta=1, cls=True, cpu=False, debug=False, dev_batch=10, dev_path='./datasets/OntoNotes4.0/mrc-ner.dev', dropout_prob=0.1, epochs=10, eval=False, gamma=1, local_rank=2, log_steps=20, lr=8e-06, max_grad_norm=0.5, max_tokens=450, not_store=False, pretrained_model_name_or_path='./pretrained_models/chinese_roberta_wwm_large_ext_pytorch', reduction='mean', seed=209, span_layer=True, theta=1, train_batch=4, train_path='./datasets/OntoNotes4.0/mrc-ner.train', train_span_method='gold', warmup_ratio=0.1, weight_decay=0.01)\n"
     ]
    },
    {
     "name": "stderr",
     "output_type": "stream",
     "text": [
      "checkpoint_7.cpt: 100%|██████████| 2484/2484 [04:23<00:00,  9.41it/s]\n"
     ]
    },
    {
     "name": "stdout",
     "output_type": "stream",
     "text": [
      "model checkpoint_7.cpt test dataset:\n",
      "precision:0.8143 recall:0.8104 f1:0.8124\n",
      "/home/wangnan/mrc4ner/checkpoints/2020_09_05_22_35_08/checkpoint_8.cpt \n",
      " Namespace(allow_impossible=True, alpha=1, beta=1, cls=True, cpu=False, debug=False, dev_batch=10, dev_path='./datasets/OntoNotes4.0/mrc-ner.dev', dropout_prob=0.1, epochs=10, eval=False, gamma=1, local_rank=2, log_steps=20, lr=8e-06, max_grad_norm=0.5, max_tokens=450, not_store=False, pretrained_model_name_or_path='./pretrained_models/chinese_roberta_wwm_large_ext_pytorch', reduction='mean', seed=209, span_layer=True, theta=1, train_batch=4, train_path='./datasets/OntoNotes4.0/mrc-ner.train', train_span_method='gold', warmup_ratio=0.1, weight_decay=0.01)\n"
     ]
    },
    {
     "name": "stderr",
     "output_type": "stream",
     "text": [
      "checkpoint_8.cpt: 100%|██████████| 2484/2484 [04:24<00:00,  9.40it/s]\n"
     ]
    },
    {
     "name": "stdout",
     "output_type": "stream",
     "text": [
      "model checkpoint_8.cpt test dataset:\n",
      "precision:0.8135 recall:0.8049 f1:0.8092\n",
      "/home/wangnan/mrc4ner/checkpoints/2020_09_05_22_35_08/checkpoint_9.cpt \n",
      " Namespace(allow_impossible=True, alpha=1, beta=1, cls=True, cpu=False, debug=False, dev_batch=10, dev_path='./datasets/OntoNotes4.0/mrc-ner.dev', dropout_prob=0.1, epochs=10, eval=False, gamma=1, local_rank=2, log_steps=20, lr=8e-06, max_grad_norm=0.5, max_tokens=450, not_store=False, pretrained_model_name_or_path='./pretrained_models/chinese_roberta_wwm_large_ext_pytorch', reduction='mean', seed=209, span_layer=True, theta=1, train_batch=4, train_path='./datasets/OntoNotes4.0/mrc-ner.train', train_span_method='gold', warmup_ratio=0.1, weight_decay=0.01)\n"
     ]
    },
    {
     "name": "stderr",
     "output_type": "stream",
     "text": [
      "checkpoint_9.cpt: 100%|██████████| 2484/2484 [04:23<00:00,  9.44it/s]"
     ]
    },
    {
     "name": "stdout",
     "output_type": "stream",
     "text": [
      "model checkpoint_9.cpt test dataset:\n",
      "precision:0.8127 recall:0.8022 f1:0.8074\n",
      "[('checkpoint_0.cpt', 0.666516245412171, 0.7714808042868267, 0.7151671578253548), ('checkpoint_1.cpt', 0.761090517665779, 0.8311569599332519, 0.7945816118486692), ('checkpoint_2.cpt', 0.7818092063702567, 0.8272394880089788, 0.8038825026444546), ('checkpoint_3.cpt', 0.8065057440549237, 0.8158788194285872, 0.8111647060136001), ('checkpoint_4.cpt', 0.7979926310763571, 0.8201880385452875, 0.8089376157735659), ('checkpoint_5.cpt', 0.8215817693268657, 0.8003395141289711, 0.8108210372191836), ('checkpoint_6.cpt', 0.8118628358517327, 0.8007312613213984, 0.8062581285421473), ('checkpoint_7.cpt', 0.8143288281309108, 0.8103943587346051, 0.8123563295323509), ('checkpoint_8.cpt', 0.8135145835009219, 0.8049098980406229, 0.8091888664983036), ('checkpoint_9.cpt', 0.8126736339710711, 0.8021676676936318, 0.8073859755675876)]\n"
     ]
    },
    {
     "name": "stderr",
     "output_type": "stream",
     "text": [
      "\n"
     ]
    }
   ],
   "source": [
    "#这个是clip grad norm=0.5\n",
    "base_dir = '/home/wangnan/mrc4ner/checkpoints/'\n",
    "base_model_dir = '2020_09_05_22_35_08'\n",
    "model_dir = base_dir+base_model_dir+'/'\n",
    "args = pickle.load(open(model_dir+'args','rb'))\n",
    "files = os.listdir(base_dir+base_model_dir)\n",
    "files.remove('args')\n",
    "files = sorted(files)\n",
    "scores = []\n",
    "for file in files:\n",
    "    s = test(model_dir,file,7,args)\n",
    "    scores.append(s)\n",
    "print(scores)"
   ]
  },
  {
   "cell_type": "code",
   "execution_count": null,
   "metadata": {},
   "outputs": [],
   "source": []
  },
  {
   "cell_type": "code",
   "execution_count": null,
   "metadata": {},
   "outputs": [],
   "source": []
  },
  {
   "cell_type": "code",
   "execution_count": null,
   "metadata": {},
   "outputs": [],
   "source": []
  },
  {
   "cell_type": "code",
   "execution_count": 5,
   "metadata": {},
   "outputs": [
    {
     "name": "stdout",
     "output_type": "stream",
     "text": [
      "/home/wangnan/mrc4ner/checkpoints/2020_09_04_23_14_48/checkpoint_0.cpt \n",
      " Namespace(allow_impossible=True, alpha=1, beta=1, cls=True, cpu=False, debug=False, dev_batch=10, dev_path='./datasets/OntoNotes4.0/mrc-ner.dev', dropout_prob=0.1, epochs=10, eval=False, gamma=1, local_rank=0, log_steps=20, lr=8e-06, max_grad_norm=1.0, max_tokens=450, not_store=False, pretrained_model_name_or_path='./pretrained_models/chinese_roberta_wwm_large_ext_pytorch', reduction='mean', seed=209, span_layer=True, theta=1, train_batch=4, train_path='./datasets/OntoNotes4.0/mrc-ner.train', train_span_method='gold', warmup_ratio=0.1, weight_decay=0.01)\n"
     ]
    },
    {
     "name": "stderr",
     "output_type": "stream",
     "text": [
      "checkpoint_0.cpt: 100%|██████████| 2484/2484 [04:15<00:00,  9.73it/s]\n"
     ]
    },
    {
     "name": "stdout",
     "output_type": "stream",
     "text": [
      "model checkpoint_0.cpt test dataset:\n",
      "precision:0.6568 recall:0.7853 f1:0.7154\n",
      "/home/wangnan/mrc4ner/checkpoints/2020_09_04_23_14_48/checkpoint_1.cpt \n",
      " Namespace(allow_impossible=True, alpha=1, beta=1, cls=True, cpu=False, debug=False, dev_batch=10, dev_path='./datasets/OntoNotes4.0/mrc-ner.dev', dropout_prob=0.1, epochs=10, eval=False, gamma=1, local_rank=0, log_steps=20, lr=8e-06, max_grad_norm=1.0, max_tokens=450, not_store=False, pretrained_model_name_or_path='./pretrained_models/chinese_roberta_wwm_large_ext_pytorch', reduction='mean', seed=209, span_layer=True, theta=1, train_batch=4, train_path='./datasets/OntoNotes4.0/mrc-ner.train', train_span_method='gold', warmup_ratio=0.1, weight_decay=0.01)\n"
     ]
    },
    {
     "name": "stderr",
     "output_type": "stream",
     "text": [
      "checkpoint_1.cpt: 100%|██████████| 2484/2484 [04:24<00:00,  9.40it/s]\n"
     ]
    },
    {
     "name": "stdout",
     "output_type": "stream",
     "text": [
      "model checkpoint_1.cpt test dataset:\n",
      "precision:0.7813 recall:0.8109 f1:0.7958\n",
      "/home/wangnan/mrc4ner/checkpoints/2020_09_04_23_14_48/checkpoint_2.cpt \n",
      " Namespace(allow_impossible=True, alpha=1, beta=1, cls=True, cpu=False, debug=False, dev_batch=10, dev_path='./datasets/OntoNotes4.0/mrc-ner.dev', dropout_prob=0.1, epochs=10, eval=False, gamma=1, local_rank=0, log_steps=20, lr=8e-06, max_grad_norm=1.0, max_tokens=450, not_store=False, pretrained_model_name_or_path='./pretrained_models/chinese_roberta_wwm_large_ext_pytorch', reduction='mean', seed=209, span_layer=True, theta=1, train_batch=4, train_path='./datasets/OntoNotes4.0/mrc-ner.train', train_span_method='gold', warmup_ratio=0.1, weight_decay=0.01)\n"
     ]
    },
    {
     "name": "stderr",
     "output_type": "stream",
     "text": [
      "checkpoint_2.cpt: 100%|██████████| 2484/2484 [04:24<00:00,  9.40it/s]\n"
     ]
    },
    {
     "name": "stdout",
     "output_type": "stream",
     "text": [
      "model checkpoint_2.cpt test dataset:\n",
      "precision:0.7743 recall:0.8430 f1:0.8072\n",
      "/home/wangnan/mrc4ner/checkpoints/2020_09_04_23_14_48/checkpoint_3.cpt \n",
      " Namespace(allow_impossible=True, alpha=1, beta=1, cls=True, cpu=False, debug=False, dev_batch=10, dev_path='./datasets/OntoNotes4.0/mrc-ner.dev', dropout_prob=0.1, epochs=10, eval=False, gamma=1, local_rank=0, log_steps=20, lr=8e-06, max_grad_norm=1.0, max_tokens=450, not_store=False, pretrained_model_name_or_path='./pretrained_models/chinese_roberta_wwm_large_ext_pytorch', reduction='mean', seed=209, span_layer=True, theta=1, train_batch=4, train_path='./datasets/OntoNotes4.0/mrc-ner.train', train_span_method='gold', warmup_ratio=0.1, weight_decay=0.01)\n"
     ]
    },
    {
     "name": "stderr",
     "output_type": "stream",
     "text": [
      "checkpoint_3.cpt: 100%|██████████| 2484/2484 [04:23<00:00,  9.42it/s]\n"
     ]
    },
    {
     "name": "stdout",
     "output_type": "stream",
     "text": [
      "model checkpoint_3.cpt test dataset:\n",
      "precision:0.7998 recall:0.8178 f1:0.8087\n",
      "/home/wangnan/mrc4ner/checkpoints/2020_09_04_23_14_48/checkpoint_4.cpt \n",
      " Namespace(allow_impossible=True, alpha=1, beta=1, cls=True, cpu=False, debug=False, dev_batch=10, dev_path='./datasets/OntoNotes4.0/mrc-ner.dev', dropout_prob=0.1, epochs=10, eval=False, gamma=1, local_rank=0, log_steps=20, lr=8e-06, max_grad_norm=1.0, max_tokens=450, not_store=False, pretrained_model_name_or_path='./pretrained_models/chinese_roberta_wwm_large_ext_pytorch', reduction='mean', seed=209, span_layer=True, theta=1, train_batch=4, train_path='./datasets/OntoNotes4.0/mrc-ner.train', train_span_method='gold', warmup_ratio=0.1, weight_decay=0.01)\n"
     ]
    },
    {
     "name": "stderr",
     "output_type": "stream",
     "text": [
      "checkpoint_4.cpt: 100%|██████████| 2484/2484 [04:23<00:00,  9.42it/s]\n"
     ]
    },
    {
     "name": "stdout",
     "output_type": "stream",
     "text": [
      "model checkpoint_4.cpt test dataset:\n",
      "precision:0.7954 recall:0.8171 f1:0.8061\n",
      "/home/wangnan/mrc4ner/checkpoints/2020_09_04_23_14_48/checkpoint_5.cpt \n",
      " Namespace(allow_impossible=True, alpha=1, beta=1, cls=True, cpu=False, debug=False, dev_batch=10, dev_path='./datasets/OntoNotes4.0/mrc-ner.dev', dropout_prob=0.1, epochs=10, eval=False, gamma=1, local_rank=0, log_steps=20, lr=8e-06, max_grad_norm=1.0, max_tokens=450, not_store=False, pretrained_model_name_or_path='./pretrained_models/chinese_roberta_wwm_large_ext_pytorch', reduction='mean', seed=209, span_layer=True, theta=1, train_batch=4, train_path='./datasets/OntoNotes4.0/mrc-ner.train', train_span_method='gold', warmup_ratio=0.1, weight_decay=0.01)\n"
     ]
    },
    {
     "name": "stderr",
     "output_type": "stream",
     "text": [
      "checkpoint_5.cpt: 100%|██████████| 2484/2484 [04:23<00:00,  9.41it/s]\n"
     ]
    },
    {
     "name": "stdout",
     "output_type": "stream",
     "text": [
      "model checkpoint_5.cpt test dataset:\n",
      "precision:0.8238 recall:0.7929 f1:0.8080\n",
      "/home/wangnan/mrc4ner/checkpoints/2020_09_04_23_14_48/checkpoint_6.cpt \n",
      " Namespace(allow_impossible=True, alpha=1, beta=1, cls=True, cpu=False, debug=False, dev_batch=10, dev_path='./datasets/OntoNotes4.0/mrc-ner.dev', dropout_prob=0.1, epochs=10, eval=False, gamma=1, local_rank=0, log_steps=20, lr=8e-06, max_grad_norm=1.0, max_tokens=450, not_store=False, pretrained_model_name_or_path='./pretrained_models/chinese_roberta_wwm_large_ext_pytorch', reduction='mean', seed=209, span_layer=True, theta=1, train_batch=4, train_path='./datasets/OntoNotes4.0/mrc-ner.train', train_span_method='gold', warmup_ratio=0.1, weight_decay=0.01)\n"
     ]
    },
    {
     "name": "stderr",
     "output_type": "stream",
     "text": [
      "checkpoint_6.cpt: 100%|██████████| 2484/2484 [04:23<00:00,  9.41it/s]\n"
     ]
    },
    {
     "name": "stdout",
     "output_type": "stream",
     "text": [
      "model checkpoint_6.cpt test dataset:\n",
      "precision:0.8175 recall:0.7851 f1:0.8010\n",
      "/home/wangnan/mrc4ner/checkpoints/2020_09_04_23_14_48/checkpoint_7.cpt \n",
      " Namespace(allow_impossible=True, alpha=1, beta=1, cls=True, cpu=False, debug=False, dev_batch=10, dev_path='./datasets/OntoNotes4.0/mrc-ner.dev', dropout_prob=0.1, epochs=10, eval=False, gamma=1, local_rank=0, log_steps=20, lr=8e-06, max_grad_norm=1.0, max_tokens=450, not_store=False, pretrained_model_name_or_path='./pretrained_models/chinese_roberta_wwm_large_ext_pytorch', reduction='mean', seed=209, span_layer=True, theta=1, train_batch=4, train_path='./datasets/OntoNotes4.0/mrc-ner.train', train_span_method='gold', warmup_ratio=0.1, weight_decay=0.01)\n"
     ]
    },
    {
     "name": "stderr",
     "output_type": "stream",
     "text": [
      "checkpoint_7.cpt: 100%|██████████| 2484/2484 [04:23<00:00,  9.41it/s]\n"
     ]
    },
    {
     "name": "stdout",
     "output_type": "stream",
     "text": [
      "model checkpoint_7.cpt test dataset:\n",
      "precision:0.8153 recall:0.8032 f1:0.8092\n",
      "/home/wangnan/mrc4ner/checkpoints/2020_09_04_23_14_48/checkpoint_8.cpt \n",
      " Namespace(allow_impossible=True, alpha=1, beta=1, cls=True, cpu=False, debug=False, dev_batch=10, dev_path='./datasets/OntoNotes4.0/mrc-ner.dev', dropout_prob=0.1, epochs=10, eval=False, gamma=1, local_rank=0, log_steps=20, lr=8e-06, max_grad_norm=1.0, max_tokens=450, not_store=False, pretrained_model_name_or_path='./pretrained_models/chinese_roberta_wwm_large_ext_pytorch', reduction='mean', seed=209, span_layer=True, theta=1, train_batch=4, train_path='./datasets/OntoNotes4.0/mrc-ner.train', train_span_method='gold', warmup_ratio=0.1, weight_decay=0.01)\n"
     ]
    },
    {
     "name": "stderr",
     "output_type": "stream",
     "text": [
      "checkpoint_8.cpt: 100%|██████████| 2484/2484 [04:24<00:00,  9.40it/s]\n"
     ]
    },
    {
     "name": "stdout",
     "output_type": "stream",
     "text": [
      "model checkpoint_8.cpt test dataset:\n",
      "precision:0.8210 recall:0.7994 f1:0.8101\n",
      "/home/wangnan/mrc4ner/checkpoints/2020_09_04_23_14_48/checkpoint_9.cpt \n",
      " Namespace(allow_impossible=True, alpha=1, beta=1, cls=True, cpu=False, debug=False, dev_batch=10, dev_path='./datasets/OntoNotes4.0/mrc-ner.dev', dropout_prob=0.1, epochs=10, eval=False, gamma=1, local_rank=0, log_steps=20, lr=8e-06, max_grad_norm=1.0, max_tokens=450, not_store=False, pretrained_model_name_or_path='./pretrained_models/chinese_roberta_wwm_large_ext_pytorch', reduction='mean', seed=209, span_layer=True, theta=1, train_batch=4, train_path='./datasets/OntoNotes4.0/mrc-ner.train', train_span_method='gold', warmup_ratio=0.1, weight_decay=0.01)\n"
     ]
    },
    {
     "name": "stderr",
     "output_type": "stream",
     "text": [
      "checkpoint_9.cpt: 100%|██████████| 2484/2484 [04:23<00:00,  9.42it/s]"
     ]
    },
    {
     "name": "stdout",
     "output_type": "stream",
     "text": [
      "model checkpoint_9.cpt test dataset:\n",
      "precision:0.8180 recall:0.8090 f1:0.8135\n",
      "[('checkpoint_0.cpt', 0.6568370466735651, 0.7853225384192579, 0.7153557546274114), ('checkpoint_1.cpt', 0.7813286360365717, 0.8109166883245081, 0.7958472509360298), ('checkpoint_2.cpt', 0.7742863995233525, 0.8430399581035466, 0.8072013012530725), ('checkpoint_3.cpt', 0.7997701441961729, 0.8178375553907237, 0.8087024504392484), ('checkpoint_4.cpt', 0.7954487667435228, 0.8170540610058691, 0.8061061735239665), ('checkpoint_5.cpt', 0.8237688236570656, 0.7928963174728524, 0.808037293674157), ('checkpoint_6.cpt', 0.81751427783281, 0.7850613736243064, 0.8009587327125521), ('checkpoint_7.cpt', 0.8153499468696513, 0.8032123268734379, 0.8092351268131607), ('checkpoint_8.cpt', 0.82097358175929, 0.7994254373466406, 0.8100557355091634), ('checkpoint_9.cpt', 0.8180377656387114, 0.8089579523623716, 0.8134720230526502)]\n"
     ]
    },
    {
     "name": "stderr",
     "output_type": "stream",
     "text": [
      "\n"
     ]
    }
   ],
   "source": [
    "#这个是加了clip grad 的模型\n",
    "base_dir = '/home/wangnan/mrc4ner/checkpoints/'\n",
    "base_model_dir = '2020_09_04_23_14_48'\n",
    "model_dir = base_dir+base_model_dir+'/'\n",
    "args = pickle.load(open(model_dir+'args','rb'))\n",
    "files = os.listdir(base_dir+base_model_dir)\n",
    "files.remove('args')\n",
    "files = sorted(files)\n",
    "scores = []\n",
    "for file in files:\n",
    "    s = test(model_dir,file,7,args)\n",
    "    scores.append(s)\n",
    "print(scores)"
   ]
  },
  {
   "cell_type": "code",
   "execution_count": null,
   "metadata": {},
   "outputs": [],
   "source": []
  },
  {
   "cell_type": "code",
   "execution_count": null,
   "metadata": {},
   "outputs": [],
   "source": []
  },
  {
   "cell_type": "code",
   "execution_count": null,
   "metadata": {},
   "outputs": [],
   "source": []
  },
  {
   "cell_type": "code",
   "execution_count": null,
   "metadata": {},
   "outputs": [],
   "source": []
  },
  {
   "cell_type": "code",
   "execution_count": 5,
   "metadata": {},
   "outputs": [
    {
     "name": "stdout",
     "output_type": "stream",
     "text": [
      "/home/wangnan/mrc4ner/checkpoints/2020_09_04_15_48_53/checkpoint_0.cpt \n",
      " Namespace(allow_impossible=True, alpha=1, beta=1, cls=True, cpu=False, debug=False, dev_batch=10, dev_path='./datasets/OntoNotes4.0/mrc-ner.dev', dropout_prob=0.1, epochs=10, eval=False, gamma=1, local_rank=0, log_steps=20, lr=8e-06, max_grad_norm=-1, max_tokens=450, not_store=False, pretrained_model_name_or_path='./pretrained_models/chinese_roberta_wwm_large_ext_pytorch', reduction='mean', seed=209, span_layer=True, theta=1, train_batch=4, train_path='./datasets/OntoNotes4.0/mrc-ner.train', train_span_method='gold', warmup_ratio=0.1, weight_decay=0.01)\n"
     ]
    },
    {
     "name": "stderr",
     "output_type": "stream",
     "text": [
      "checkpoint_0.cpt: 100%|██████████| 2484/2484 [04:18<00:00,  9.63it/s]\n"
     ]
    },
    {
     "name": "stdout",
     "output_type": "stream",
     "text": [
      "model checkpoint_0.cpt test dataset:\n",
      "precision:0.7009 recall:0.7113 f1:0.7061\n",
      "/home/wangnan/mrc4ner/checkpoints/2020_09_04_15_48_53/checkpoint_1.cpt \n",
      " Namespace(allow_impossible=True, alpha=1, beta=1, cls=True, cpu=False, debug=False, dev_batch=10, dev_path='./datasets/OntoNotes4.0/mrc-ner.dev', dropout_prob=0.1, epochs=10, eval=False, gamma=1, local_rank=0, log_steps=20, lr=8e-06, max_grad_norm=-1, max_tokens=450, not_store=False, pretrained_model_name_or_path='./pretrained_models/chinese_roberta_wwm_large_ext_pytorch', reduction='mean', seed=209, span_layer=True, theta=1, train_batch=4, train_path='./datasets/OntoNotes4.0/mrc-ner.train', train_span_method='gold', warmup_ratio=0.1, weight_decay=0.01)\n"
     ]
    },
    {
     "name": "stderr",
     "output_type": "stream",
     "text": [
      "checkpoint_1.cpt: 100%|██████████| 2484/2484 [04:22<00:00,  9.46it/s]\n"
     ]
    },
    {
     "name": "stdout",
     "output_type": "stream",
     "text": [
      "model checkpoint_1.cpt test dataset:\n",
      "precision:0.7950 recall:0.7664 f1:0.7805\n",
      "/home/wangnan/mrc4ner/checkpoints/2020_09_04_15_48_53/checkpoint_2.cpt \n",
      " Namespace(allow_impossible=True, alpha=1, beta=1, cls=True, cpu=False, debug=False, dev_batch=10, dev_path='./datasets/OntoNotes4.0/mrc-ner.dev', dropout_prob=0.1, epochs=10, eval=False, gamma=1, local_rank=0, log_steps=20, lr=8e-06, max_grad_norm=-1, max_tokens=450, not_store=False, pretrained_model_name_or_path='./pretrained_models/chinese_roberta_wwm_large_ext_pytorch', reduction='mean', seed=209, span_layer=True, theta=1, train_batch=4, train_path='./datasets/OntoNotes4.0/mrc-ner.train', train_span_method='gold', warmup_ratio=0.1, weight_decay=0.01)\n"
     ]
    },
    {
     "name": "stderr",
     "output_type": "stream",
     "text": [
      "checkpoint_2.cpt: 100%|██████████| 2484/2484 [04:23<00:00,  9.41it/s]\n"
     ]
    },
    {
     "name": "stdout",
     "output_type": "stream",
     "text": [
      "model checkpoint_2.cpt test dataset:\n",
      "precision:0.6575 recall:0.8488 f1:0.7410\n",
      "/home/wangnan/mrc4ner/checkpoints/2020_09_04_15_48_53/checkpoint_3.cpt \n",
      " Namespace(allow_impossible=True, alpha=1, beta=1, cls=True, cpu=False, debug=False, dev_batch=10, dev_path='./datasets/OntoNotes4.0/mrc-ner.dev', dropout_prob=0.1, epochs=10, eval=False, gamma=1, local_rank=0, log_steps=20, lr=8e-06, max_grad_norm=-1, max_tokens=450, not_store=False, pretrained_model_name_or_path='./pretrained_models/chinese_roberta_wwm_large_ext_pytorch', reduction='mean', seed=209, span_layer=True, theta=1, train_batch=4, train_path='./datasets/OntoNotes4.0/mrc-ner.train', train_span_method='gold', warmup_ratio=0.1, weight_decay=0.01)\n"
     ]
    },
    {
     "name": "stderr",
     "output_type": "stream",
     "text": [
      "checkpoint_3.cpt: 100%|██████████| 2484/2484 [04:24<00:00,  9.38it/s]\n"
     ]
    },
    {
     "name": "stdout",
     "output_type": "stream",
     "text": [
      "model checkpoint_3.cpt test dataset:\n",
      "precision:0.8229 recall:0.7570 f1:0.7885\n",
      "/home/wangnan/mrc4ner/checkpoints/2020_09_04_15_48_53/checkpoint_4.cpt \n",
      " Namespace(allow_impossible=True, alpha=1, beta=1, cls=True, cpu=False, debug=False, dev_batch=10, dev_path='./datasets/OntoNotes4.0/mrc-ner.dev', dropout_prob=0.1, epochs=10, eval=False, gamma=1, local_rank=0, log_steps=20, lr=8e-06, max_grad_norm=-1, max_tokens=450, not_store=False, pretrained_model_name_or_path='./pretrained_models/chinese_roberta_wwm_large_ext_pytorch', reduction='mean', seed=209, span_layer=True, theta=1, train_batch=4, train_path='./datasets/OntoNotes4.0/mrc-ner.train', train_span_method='gold', warmup_ratio=0.1, weight_decay=0.01)\n"
     ]
    },
    {
     "name": "stderr",
     "output_type": "stream",
     "text": [
      "checkpoint_4.cpt: 100%|██████████| 2484/2484 [04:24<00:00,  9.38it/s]\n"
     ]
    },
    {
     "name": "stdout",
     "output_type": "stream",
     "text": [
      "model checkpoint_4.cpt test dataset:\n",
      "precision:0.7907 recall:0.8020 f1:0.7963\n",
      "/home/wangnan/mrc4ner/checkpoints/2020_09_04_15_48_53/checkpoint_5.cpt \n",
      " Namespace(allow_impossible=True, alpha=1, beta=1, cls=True, cpu=False, debug=False, dev_batch=10, dev_path='./datasets/OntoNotes4.0/mrc-ner.dev', dropout_prob=0.1, epochs=10, eval=False, gamma=1, local_rank=0, log_steps=20, lr=8e-06, max_grad_norm=-1, max_tokens=450, not_store=False, pretrained_model_name_or_path='./pretrained_models/chinese_roberta_wwm_large_ext_pytorch', reduction='mean', seed=209, span_layer=True, theta=1, train_batch=4, train_path='./datasets/OntoNotes4.0/mrc-ner.train', train_span_method='gold', warmup_ratio=0.1, weight_decay=0.01)\n"
     ]
    },
    {
     "name": "stderr",
     "output_type": "stream",
     "text": [
      "checkpoint_5.cpt: 100%|██████████| 2484/2484 [04:25<00:00,  9.37it/s]\n"
     ]
    },
    {
     "name": "stdout",
     "output_type": "stream",
     "text": [
      "model checkpoint_5.cpt test dataset:\n",
      "precision:0.8108 recall:0.8014 f1:0.8061\n",
      "/home/wangnan/mrc4ner/checkpoints/2020_09_04_15_48_53/checkpoint_6.cpt \n",
      " Namespace(allow_impossible=True, alpha=1, beta=1, cls=True, cpu=False, debug=False, dev_batch=10, dev_path='./datasets/OntoNotes4.0/mrc-ner.dev', dropout_prob=0.1, epochs=10, eval=False, gamma=1, local_rank=0, log_steps=20, lr=8e-06, max_grad_norm=-1, max_tokens=450, not_store=False, pretrained_model_name_or_path='./pretrained_models/chinese_roberta_wwm_large_ext_pytorch', reduction='mean', seed=209, span_layer=True, theta=1, train_batch=4, train_path='./datasets/OntoNotes4.0/mrc-ner.train', train_span_method='gold', warmup_ratio=0.1, weight_decay=0.01)\n"
     ]
    },
    {
     "name": "stderr",
     "output_type": "stream",
     "text": [
      "checkpoint_6.cpt: 100%|██████████| 2484/2484 [04:23<00:00,  9.44it/s]\n"
     ]
    },
    {
     "name": "stdout",
     "output_type": "stream",
     "text": [
      "model checkpoint_6.cpt test dataset:\n",
      "precision:0.7785 recall:0.8185 f1:0.7980\n",
      "/home/wangnan/mrc4ner/checkpoints/2020_09_04_15_48_53/checkpoint_7.cpt \n",
      " Namespace(allow_impossible=True, alpha=1, beta=1, cls=True, cpu=False, debug=False, dev_batch=10, dev_path='./datasets/OntoNotes4.0/mrc-ner.dev', dropout_prob=0.1, epochs=10, eval=False, gamma=1, local_rank=0, log_steps=20, lr=8e-06, max_grad_norm=-1, max_tokens=450, not_store=False, pretrained_model_name_or_path='./pretrained_models/chinese_roberta_wwm_large_ext_pytorch', reduction='mean', seed=209, span_layer=True, theta=1, train_batch=4, train_path='./datasets/OntoNotes4.0/mrc-ner.train', train_span_method='gold', warmup_ratio=0.1, weight_decay=0.01)\n"
     ]
    },
    {
     "name": "stderr",
     "output_type": "stream",
     "text": [
      "checkpoint_7.cpt: 100%|██████████| 2484/2484 [04:23<00:00,  9.44it/s]\n"
     ]
    },
    {
     "name": "stdout",
     "output_type": "stream",
     "text": [
      "model checkpoint_7.cpt test dataset:\n",
      "precision:0.7899 recall:0.8212 f1:0.8052\n",
      "/home/wangnan/mrc4ner/checkpoints/2020_09_04_15_48_53/checkpoint_8.cpt \n",
      " Namespace(allow_impossible=True, alpha=1, beta=1, cls=True, cpu=False, debug=False, dev_batch=10, dev_path='./datasets/OntoNotes4.0/mrc-ner.dev', dropout_prob=0.1, epochs=10, eval=False, gamma=1, local_rank=0, log_steps=20, lr=8e-06, max_grad_norm=-1, max_tokens=450, not_store=False, pretrained_model_name_or_path='./pretrained_models/chinese_roberta_wwm_large_ext_pytorch', reduction='mean', seed=209, span_layer=True, theta=1, train_batch=4, train_path='./datasets/OntoNotes4.0/mrc-ner.train', train_span_method='gold', warmup_ratio=0.1, weight_decay=0.01)\n"
     ]
    },
    {
     "name": "stderr",
     "output_type": "stream",
     "text": [
      "checkpoint_8.cpt: 100%|██████████| 2484/2484 [04:22<00:00,  9.46it/s]\n"
     ]
    },
    {
     "name": "stdout",
     "output_type": "stream",
     "text": [
      "model checkpoint_8.cpt test dataset:\n",
      "precision:0.8133 recall:0.7997 f1:0.8064\n",
      "/home/wangnan/mrc4ner/checkpoints/2020_09_04_15_48_53/checkpoint_9.cpt \n",
      " Namespace(allow_impossible=True, alpha=1, beta=1, cls=True, cpu=False, debug=False, dev_batch=10, dev_path='./datasets/OntoNotes4.0/mrc-ner.dev', dropout_prob=0.1, epochs=10, eval=False, gamma=1, local_rank=0, log_steps=20, lr=8e-06, max_grad_norm=-1, max_tokens=450, not_store=False, pretrained_model_name_or_path='./pretrained_models/chinese_roberta_wwm_large_ext_pytorch', reduction='mean', seed=209, span_layer=True, theta=1, train_batch=4, train_path='./datasets/OntoNotes4.0/mrc-ner.train', train_span_method='gold', warmup_ratio=0.1, weight_decay=0.01)\n"
     ]
    },
    {
     "name": "stderr",
     "output_type": "stream",
     "text": [
      "checkpoint_9.cpt: 100%|██████████| 2484/2484 [04:22<00:00,  9.46it/s]"
     ]
    },
    {
     "name": "stdout",
     "output_type": "stream",
     "text": [
      "model checkpoint_9.cpt test dataset:\n",
      "precision:0.8028 recall:0.8091 f1:0.8059\n",
      "[('checkpoint_0.cpt', 0.7009393899496925, 0.7112823190504985, 0.7060724793899226), ('checkpoint_1.cpt', 0.7950419939318556, 0.7663880907852718, 0.7804516277244918), ('checkpoint_2.cpt', 0.6574954480419284, 0.8487855835924804, 0.7409935800271404), ('checkpoint_3.cpt', 0.822853087179155, 0.7569861581670166, 0.7885460558869757), ('checkpoint_4.cpt', 0.7906797115357003, 0.802037085296156, 0.7963174047584858), ('checkpoint_5.cpt', 0.8108072399510097, 0.8013841733087772, 0.8060676682966232), ('checkpoint_6.cpt', 0.7785368276265635, 0.8184904673781025, 0.7980133776067749), ('checkpoint_7.cpt', 0.7898769152486966, 0.8212326977250937, 0.8052491799841617), ('checkpoint_8.cpt', 0.8132802123753944, 0.7996866021415923, 0.8064256258184902), ('checkpoint_9.cpt', 0.8027986523966314, 0.8090885347598473, 0.8059308214431564)]\n"
     ]
    },
    {
     "name": "stderr",
     "output_type": "stream",
     "text": [
      "\n"
     ]
    }
   ],
   "source": [
    "#这个就是用了gold\n",
    "base_dir = '/home/wangnan/mrc4ner/checkpoints/'\n",
    "base_model_dir = '2020_09_04_15_48_53'\n",
    "model_dir = base_dir+base_model_dir+'/'\n",
    "args = pickle.load(open(model_dir+'args','rb'))\n",
    "files = os.listdir(base_dir+base_model_dir)\n",
    "files.remove('args')\n",
    "files = sorted(files)\n",
    "scores = []\n",
    "for file in files:\n",
    "    s = test(model_dir,file,7,args)\n",
    "    scores.append(s)\n",
    "print(scores)"
   ]
  },
  {
   "cell_type": "code",
   "execution_count": null,
   "metadata": {},
   "outputs": [],
   "source": []
  },
  {
   "cell_type": "code",
   "execution_count": null,
   "metadata": {},
   "outputs": [],
   "source": []
  },
  {
   "cell_type": "code",
   "execution_count": null,
   "metadata": {},
   "outputs": [],
   "source": []
  },
  {
   "cell_type": "code",
   "execution_count": 5,
   "metadata": {},
   "outputs": [
    {
     "name": "stdout",
     "output_type": "stream",
     "text": [
      "/home/wangnan/mrc4ner/checkpoints/2020_09_04_09_15_56/checkpoint_0.cpt \n",
      " Namespace(allow_impossible=True, alpha=1, beta=1, cls=True, cpu=False, debug=False, dev_batch=10, dev_path='./datasets/OntoNotes4.0/mrc-ner.dev', dropout_prob=0.1, epochs=10, eval=False, gamma=1, local_rank=1, log_steps=20, lr=8e-06, max_tokens=450, not_store=False, pretrained_model_name_or_path='/home/wangnan/mrc4ner/pretrained_models/RoBERTa_zh_Large_PyTorch/', reduction='mean', seed=209, span_layer=True, theta=1, train_batch=4, train_path='./datasets/OntoNotes4.0/mrc-ner.train', train_span_method='mix', warmup_ratio=0.1, weight_decay=0.01)\n"
     ]
    },
    {
     "name": "stderr",
     "output_type": "stream",
     "text": [
      "checkpoint_0.cpt: 100%|██████████| 2484/2484 [04:14<00:00,  9.74it/s]\n"
     ]
    },
    {
     "name": "stdout",
     "output_type": "stream",
     "text": [
      "model checkpoint_0.cpt test dataset:\n",
      "precision:0.7978 recall:0.2870 f1:0.4222\n",
      "/home/wangnan/mrc4ner/checkpoints/2020_09_04_09_15_56/checkpoint_1.cpt \n",
      " Namespace(allow_impossible=True, alpha=1, beta=1, cls=True, cpu=False, debug=False, dev_batch=10, dev_path='./datasets/OntoNotes4.0/mrc-ner.dev', dropout_prob=0.1, epochs=10, eval=False, gamma=1, local_rank=1, log_steps=20, lr=8e-06, max_tokens=450, not_store=False, pretrained_model_name_or_path='/home/wangnan/mrc4ner/pretrained_models/RoBERTa_zh_Large_PyTorch/', reduction='mean', seed=209, span_layer=True, theta=1, train_batch=4, train_path='./datasets/OntoNotes4.0/mrc-ner.train', train_span_method='mix', warmup_ratio=0.1, weight_decay=0.01)\n"
     ]
    },
    {
     "name": "stderr",
     "output_type": "stream",
     "text": [
      "checkpoint_1.cpt: 100%|██████████| 2484/2484 [04:19<00:00,  9.57it/s]\n"
     ]
    },
    {
     "name": "stdout",
     "output_type": "stream",
     "text": [
      "model checkpoint_1.cpt test dataset:\n",
      "precision:0.7888 recall:0.6754 f1:0.7277\n",
      "/home/wangnan/mrc4ner/checkpoints/2020_09_04_09_15_56/checkpoint_2.cpt \n",
      " Namespace(allow_impossible=True, alpha=1, beta=1, cls=True, cpu=False, debug=False, dev_batch=10, dev_path='./datasets/OntoNotes4.0/mrc-ner.dev', dropout_prob=0.1, epochs=10, eval=False, gamma=1, local_rank=1, log_steps=20, lr=8e-06, max_tokens=450, not_store=False, pretrained_model_name_or_path='/home/wangnan/mrc4ner/pretrained_models/RoBERTa_zh_Large_PyTorch/', reduction='mean', seed=209, span_layer=True, theta=1, train_batch=4, train_path='./datasets/OntoNotes4.0/mrc-ner.train', train_span_method='mix', warmup_ratio=0.1, weight_decay=0.01)\n"
     ]
    },
    {
     "name": "stderr",
     "output_type": "stream",
     "text": [
      "checkpoint_2.cpt: 100%|██████████| 2484/2484 [04:19<00:00,  9.58it/s]\n"
     ]
    },
    {
     "name": "stdout",
     "output_type": "stream",
     "text": [
      "model checkpoint_2.cpt test dataset:\n",
      "precision:0.7326 recall:0.7619 f1:0.7470\n",
      "/home/wangnan/mrc4ner/checkpoints/2020_09_04_09_15_56/checkpoint_3.cpt \n",
      " Namespace(allow_impossible=True, alpha=1, beta=1, cls=True, cpu=False, debug=False, dev_batch=10, dev_path='./datasets/OntoNotes4.0/mrc-ner.dev', dropout_prob=0.1, epochs=10, eval=False, gamma=1, local_rank=1, log_steps=20, lr=8e-06, max_tokens=450, not_store=False, pretrained_model_name_or_path='/home/wangnan/mrc4ner/pretrained_models/RoBERTa_zh_Large_PyTorch/', reduction='mean', seed=209, span_layer=True, theta=1, train_batch=4, train_path='./datasets/OntoNotes4.0/mrc-ner.train', train_span_method='mix', warmup_ratio=0.1, weight_decay=0.01)\n"
     ]
    },
    {
     "name": "stderr",
     "output_type": "stream",
     "text": [
      "checkpoint_3.cpt: 100%|██████████| 2484/2484 [04:19<00:00,  9.55it/s]\n"
     ]
    },
    {
     "name": "stdout",
     "output_type": "stream",
     "text": [
      "model checkpoint_3.cpt test dataset:\n",
      "precision:0.8327 recall:0.6499 f1:0.7300\n",
      "/home/wangnan/mrc4ner/checkpoints/2020_09_04_09_15_56/checkpoint_4.cpt \n",
      " Namespace(allow_impossible=True, alpha=1, beta=1, cls=True, cpu=False, debug=False, dev_batch=10, dev_path='./datasets/OntoNotes4.0/mrc-ner.dev', dropout_prob=0.1, epochs=10, eval=False, gamma=1, local_rank=1, log_steps=20, lr=8e-06, max_tokens=450, not_store=False, pretrained_model_name_or_path='/home/wangnan/mrc4ner/pretrained_models/RoBERTa_zh_Large_PyTorch/', reduction='mean', seed=209, span_layer=True, theta=1, train_batch=4, train_path='./datasets/OntoNotes4.0/mrc-ner.train', train_span_method='mix', warmup_ratio=0.1, weight_decay=0.01)\n"
     ]
    },
    {
     "name": "stderr",
     "output_type": "stream",
     "text": [
      "checkpoint_4.cpt: 100%|██████████| 2484/2484 [04:19<00:00,  9.58it/s]\n"
     ]
    },
    {
     "name": "stdout",
     "output_type": "stream",
     "text": [
      "model checkpoint_4.cpt test dataset:\n",
      "precision:0.8335 recall:0.7574 f1:0.7936\n",
      "/home/wangnan/mrc4ner/checkpoints/2020_09_04_09_15_56/checkpoint_5.cpt \n",
      " Namespace(allow_impossible=True, alpha=1, beta=1, cls=True, cpu=False, debug=False, dev_batch=10, dev_path='./datasets/OntoNotes4.0/mrc-ner.dev', dropout_prob=0.1, epochs=10, eval=False, gamma=1, local_rank=1, log_steps=20, lr=8e-06, max_tokens=450, not_store=False, pretrained_model_name_or_path='/home/wangnan/mrc4ner/pretrained_models/RoBERTa_zh_Large_PyTorch/', reduction='mean', seed=209, span_layer=True, theta=1, train_batch=4, train_path='./datasets/OntoNotes4.0/mrc-ner.train', train_span_method='mix', warmup_ratio=0.1, weight_decay=0.01)\n"
     ]
    },
    {
     "name": "stderr",
     "output_type": "stream",
     "text": [
      "checkpoint_5.cpt: 100%|██████████| 2484/2484 [04:19<00:00,  9.58it/s]\n"
     ]
    },
    {
     "name": "stdout",
     "output_type": "stream",
     "text": [
      "model checkpoint_5.cpt test dataset:\n",
      "precision:0.8404 recall:0.7328 f1:0.7829\n",
      "/home/wangnan/mrc4ner/checkpoints/2020_09_04_09_15_56/checkpoint_6.cpt \n",
      " Namespace(allow_impossible=True, alpha=1, beta=1, cls=True, cpu=False, debug=False, dev_batch=10, dev_path='./datasets/OntoNotes4.0/mrc-ner.dev', dropout_prob=0.1, epochs=10, eval=False, gamma=1, local_rank=1, log_steps=20, lr=8e-06, max_tokens=450, not_store=False, pretrained_model_name_or_path='/home/wangnan/mrc4ner/pretrained_models/RoBERTa_zh_Large_PyTorch/', reduction='mean', seed=209, span_layer=True, theta=1, train_batch=4, train_path='./datasets/OntoNotes4.0/mrc-ner.train', train_span_method='mix', warmup_ratio=0.1, weight_decay=0.01)\n"
     ]
    },
    {
     "name": "stderr",
     "output_type": "stream",
     "text": [
      "checkpoint_6.cpt: 100%|██████████| 2484/2484 [04:18<00:00,  9.61it/s]\n"
     ]
    },
    {
     "name": "stdout",
     "output_type": "stream",
     "text": [
      "model checkpoint_6.cpt test dataset:\n",
      "precision:0.8317 recall:0.7634 f1:0.7961\n",
      "/home/wangnan/mrc4ner/checkpoints/2020_09_04_09_15_56/checkpoint_7.cpt \n",
      " Namespace(allow_impossible=True, alpha=1, beta=1, cls=True, cpu=False, debug=False, dev_batch=10, dev_path='./datasets/OntoNotes4.0/mrc-ner.dev', dropout_prob=0.1, epochs=10, eval=False, gamma=1, local_rank=1, log_steps=20, lr=8e-06, max_tokens=450, not_store=False, pretrained_model_name_or_path='/home/wangnan/mrc4ner/pretrained_models/RoBERTa_zh_Large_PyTorch/', reduction='mean', seed=209, span_layer=True, theta=1, train_batch=4, train_path='./datasets/OntoNotes4.0/mrc-ner.train', train_span_method='mix', warmup_ratio=0.1, weight_decay=0.01)\n"
     ]
    },
    {
     "name": "stderr",
     "output_type": "stream",
     "text": [
      "checkpoint_7.cpt: 100%|██████████| 2484/2484 [04:20<00:00,  9.55it/s]\n"
     ]
    },
    {
     "name": "stdout",
     "output_type": "stream",
     "text": [
      "model checkpoint_7.cpt test dataset:\n",
      "precision:0.8362 recall:0.7640 f1:0.7985\n",
      "/home/wangnan/mrc4ner/checkpoints/2020_09_04_09_15_56/checkpoint_8.cpt \n",
      " Namespace(allow_impossible=True, alpha=1, beta=1, cls=True, cpu=False, debug=False, dev_batch=10, dev_path='./datasets/OntoNotes4.0/mrc-ner.dev', dropout_prob=0.1, epochs=10, eval=False, gamma=1, local_rank=1, log_steps=20, lr=8e-06, max_tokens=450, not_store=False, pretrained_model_name_or_path='/home/wangnan/mrc4ner/pretrained_models/RoBERTa_zh_Large_PyTorch/', reduction='mean', seed=209, span_layer=True, theta=1, train_batch=4, train_path='./datasets/OntoNotes4.0/mrc-ner.train', train_span_method='mix', warmup_ratio=0.1, weight_decay=0.01)\n"
     ]
    },
    {
     "name": "stderr",
     "output_type": "stream",
     "text": [
      "checkpoint_8.cpt: 100%|██████████| 2484/2484 [04:20<00:00,  9.55it/s]\n"
     ]
    },
    {
     "name": "stdout",
     "output_type": "stream",
     "text": [
      "model checkpoint_8.cpt test dataset:\n",
      "precision:0.8474 recall:0.7579 f1:0.8002\n",
      "/home/wangnan/mrc4ner/checkpoints/2020_09_04_09_15_56/checkpoint_9.cpt \n",
      " Namespace(allow_impossible=True, alpha=1, beta=1, cls=True, cpu=False, debug=False, dev_batch=10, dev_path='./datasets/OntoNotes4.0/mrc-ner.dev', dropout_prob=0.1, epochs=10, eval=False, gamma=1, local_rank=1, log_steps=20, lr=8e-06, max_tokens=450, not_store=False, pretrained_model_name_or_path='/home/wangnan/mrc4ner/pretrained_models/RoBERTa_zh_Large_PyTorch/', reduction='mean', seed=209, span_layer=True, theta=1, train_batch=4, train_path='./datasets/OntoNotes4.0/mrc-ner.train', train_span_method='mix', warmup_ratio=0.1, weight_decay=0.01)\n"
     ]
    },
    {
     "name": "stderr",
     "output_type": "stream",
     "text": [
      "checkpoint_9.cpt: 100%|██████████| 2484/2484 [04:19<00:00,  9.56it/s]"
     ]
    },
    {
     "name": "stdout",
     "output_type": "stream",
     "text": [
      "model checkpoint_9.cpt test dataset:\n",
      "precision:0.8437 recall:0.7540 f1:0.7963\n",
      "[('checkpoint_0.cpt', 0.797822141271208, 0.28702010965173413, 0.4221642127107799), ('checkpoint_1.cpt', 0.7887753544625933, 0.6753721597446628, 0.7276815289263141), ('checkpoint_2.cpt', 0.7325800375728085, 0.7619482892710958, 0.7469751129762292), ('checkpoint_3.cpt', 0.8326919858068107, 0.6499085922368883, 0.7300325107932572), ('checkpoint_4.cpt', 0.8334530822196503, 0.7573779053594439, 0.7935959982644073), ('checkpoint_5.cpt', 0.8403713685474137, 0.732828414634, 0.7829236093704507), ('checkpoint_6.cpt', 0.8316972541141417, 0.7633846956433292, 0.7960776651720248), ('checkpoint_7.cpt', 0.8362155208180341, 0.764037607630708, 0.7984983067768314), ('checkpoint_8.cpt', 0.8474229813334175, 0.757900234949347, 0.80016493881999), ('checkpoint_9.cpt', 0.8436586790117389, 0.753982763025074, 0.7963034595405395)]\n"
     ]
    },
    {
     "name": "stderr",
     "output_type": "stream",
     "text": [
      "\n"
     ]
    }
   ],
   "source": [
    "#这个就是换了一下用到的预训练模型\n",
    "base_dir = '/home/wangnan/mrc4ner/checkpoints/'\n",
    "base_model_dir = '2020_09_04_09_15_56'\n",
    "model_dir = base_dir+base_model_dir+'/'\n",
    "args = pickle.load(open(model_dir+'args','rb'))\n",
    "files = os.listdir(base_dir+base_model_dir)\n",
    "files.remove('args')\n",
    "files = sorted(files)\n",
    "scores = []\n",
    "for file in files:\n",
    "    s = test(model_dir,file,7,args)\n",
    "    scores.append(s)\n",
    "print(scores)"
   ]
  },
  {
   "cell_type": "code",
   "execution_count": null,
   "metadata": {},
   "outputs": [],
   "source": []
  },
  {
   "cell_type": "code",
   "execution_count": null,
   "metadata": {},
   "outputs": [],
   "source": []
  },
  {
   "cell_type": "code",
   "execution_count": 5,
   "metadata": {},
   "outputs": [
    {
     "name": "stdout",
     "output_type": "stream",
     "text": [
      "/home/wangnan/mrc4ner/checkpoints/2020_09_02_16_00_27/checkpoint_0.cpt \n",
      " Namespace(allow_impossible=True, alpha=1, beta=1, cls=True, cpu=False, debug=False, dev_batch=10, dev_path='./datasets/OntoNotes4.0/mrc-ner.dev', dropout_prob=0.1, epochs=10, eval=False, gamma=1, local_rank=1, log_steps=20, lr=8e-06, max_tokens=450, not_store=False, pretrained_model_name_or_path='./pretrained_models/chinese_roberta_wwm_large_ext_pytorch', reduction='mean', seed=209, span_layer=True, theta=1, train_batch=4, train_path='./datasets/OntoNotes4.0/mrc-ner.train', train_span_method='mix', warmup_ratio=0.1, weight_decay=0.01)\n"
     ]
    },
    {
     "name": "stderr",
     "output_type": "stream",
     "text": [
      "checkpoint_0.cpt: 100%|██████████| 2898/2898 [04:08<00:00, 11.68it/s]\n"
     ]
    },
    {
     "name": "stdout",
     "output_type": "stream",
     "text": [
      "model checkpoint_0.cpt test dataset:\n",
      "precision:0.7437 recall:0.6515 f1:0.6946\n",
      "/home/wangnan/mrc4ner/checkpoints/2020_09_02_16_00_27/checkpoint_1.cpt \n",
      " Namespace(allow_impossible=True, alpha=1, beta=1, cls=True, cpu=False, debug=False, dev_batch=10, dev_path='./datasets/OntoNotes4.0/mrc-ner.dev', dropout_prob=0.1, epochs=10, eval=False, gamma=1, local_rank=1, log_steps=20, lr=8e-06, max_tokens=450, not_store=False, pretrained_model_name_or_path='./pretrained_models/chinese_roberta_wwm_large_ext_pytorch', reduction='mean', seed=209, span_layer=True, theta=1, train_batch=4, train_path='./datasets/OntoNotes4.0/mrc-ner.train', train_span_method='mix', warmup_ratio=0.1, weight_decay=0.01)\n"
     ]
    },
    {
     "name": "stderr",
     "output_type": "stream",
     "text": [
      "checkpoint_1.cpt: 100%|██████████| 2898/2898 [04:29<00:00, 10.74it/s]\n"
     ]
    },
    {
     "name": "stdout",
     "output_type": "stream",
     "text": [
      "model checkpoint_1.cpt test dataset:\n",
      "precision:0.7822 recall:0.7245 f1:0.7522\n",
      "/home/wangnan/mrc4ner/checkpoints/2020_09_02_16_00_27/checkpoint_2.cpt \n",
      " Namespace(allow_impossible=True, alpha=1, beta=1, cls=True, cpu=False, debug=False, dev_batch=10, dev_path='./datasets/OntoNotes4.0/mrc-ner.dev', dropout_prob=0.1, epochs=10, eval=False, gamma=1, local_rank=1, log_steps=20, lr=8e-06, max_tokens=450, not_store=False, pretrained_model_name_or_path='./pretrained_models/chinese_roberta_wwm_large_ext_pytorch', reduction='mean', seed=209, span_layer=True, theta=1, train_batch=4, train_path='./datasets/OntoNotes4.0/mrc-ner.train', train_span_method='mix', warmup_ratio=0.1, weight_decay=0.01)\n"
     ]
    },
    {
     "name": "stderr",
     "output_type": "stream",
     "text": [
      "checkpoint_2.cpt: 100%|██████████| 2898/2898 [04:37<00:00, 10.45it/s]\n"
     ]
    },
    {
     "name": "stdout",
     "output_type": "stream",
     "text": [
      "model checkpoint_2.cpt test dataset:\n",
      "precision:0.7787 recall:0.7687 f1:0.7737\n",
      "/home/wangnan/mrc4ner/checkpoints/2020_09_02_16_00_27/checkpoint_3.cpt \n",
      " Namespace(allow_impossible=True, alpha=1, beta=1, cls=True, cpu=False, debug=False, dev_batch=10, dev_path='./datasets/OntoNotes4.0/mrc-ner.dev', dropout_prob=0.1, epochs=10, eval=False, gamma=1, local_rank=1, log_steps=20, lr=8e-06, max_tokens=450, not_store=False, pretrained_model_name_or_path='./pretrained_models/chinese_roberta_wwm_large_ext_pytorch', reduction='mean', seed=209, span_layer=True, theta=1, train_batch=4, train_path='./datasets/OntoNotes4.0/mrc-ner.train', train_span_method='mix', warmup_ratio=0.1, weight_decay=0.01)\n"
     ]
    },
    {
     "name": "stderr",
     "output_type": "stream",
     "text": [
      "checkpoint_3.cpt: 100%|██████████| 2898/2898 [04:32<00:00, 10.64it/s]\n"
     ]
    },
    {
     "name": "stdout",
     "output_type": "stream",
     "text": [
      "model checkpoint_3.cpt test dataset:\n",
      "precision:0.8496 recall:0.7042 f1:0.7701\n",
      "/home/wangnan/mrc4ner/checkpoints/2020_09_02_16_00_27/checkpoint_4.cpt \n",
      " Namespace(allow_impossible=True, alpha=1, beta=1, cls=True, cpu=False, debug=False, dev_batch=10, dev_path='./datasets/OntoNotes4.0/mrc-ner.dev', dropout_prob=0.1, epochs=10, eval=False, gamma=1, local_rank=1, log_steps=20, lr=8e-06, max_tokens=450, not_store=False, pretrained_model_name_or_path='./pretrained_models/chinese_roberta_wwm_large_ext_pytorch', reduction='mean', seed=209, span_layer=True, theta=1, train_batch=4, train_path='./datasets/OntoNotes4.0/mrc-ner.train', train_span_method='mix', warmup_ratio=0.1, weight_decay=0.01)\n"
     ]
    },
    {
     "name": "stderr",
     "output_type": "stream",
     "text": [
      "checkpoint_4.cpt: 100%|██████████| 2898/2898 [04:34<00:00, 10.56it/s]\n"
     ]
    },
    {
     "name": "stdout",
     "output_type": "stream",
     "text": [
      "model checkpoint_4.cpt test dataset:\n",
      "precision:0.8342 recall:0.7300 f1:0.7786\n",
      "/home/wangnan/mrc4ner/checkpoints/2020_09_02_16_00_27/checkpoint_5.cpt \n",
      " Namespace(allow_impossible=True, alpha=1, beta=1, cls=True, cpu=False, debug=False, dev_batch=10, dev_path='./datasets/OntoNotes4.0/mrc-ner.dev', dropout_prob=0.1, epochs=10, eval=False, gamma=1, local_rank=1, log_steps=20, lr=8e-06, max_tokens=450, not_store=False, pretrained_model_name_or_path='./pretrained_models/chinese_roberta_wwm_large_ext_pytorch', reduction='mean', seed=209, span_layer=True, theta=1, train_batch=4, train_path='./datasets/OntoNotes4.0/mrc-ner.train', train_span_method='mix', warmup_ratio=0.1, weight_decay=0.01)\n"
     ]
    },
    {
     "name": "stderr",
     "output_type": "stream",
     "text": [
      "checkpoint_5.cpt: 100%|██████████| 2898/2898 [04:18<00:00, 11.20it/s]\n"
     ]
    },
    {
     "name": "stdout",
     "output_type": "stream",
     "text": [
      "model checkpoint_5.cpt test dataset:\n",
      "precision:0.8225 recall:0.7672 f1:0.7939\n",
      "/home/wangnan/mrc4ner/checkpoints/2020_09_02_16_00_27/checkpoint_6.cpt \n",
      " Namespace(allow_impossible=True, alpha=1, beta=1, cls=True, cpu=False, debug=False, dev_batch=10, dev_path='./datasets/OntoNotes4.0/mrc-ner.dev', dropout_prob=0.1, epochs=10, eval=False, gamma=1, local_rank=1, log_steps=20, lr=8e-06, max_tokens=450, not_store=False, pretrained_model_name_or_path='./pretrained_models/chinese_roberta_wwm_large_ext_pytorch', reduction='mean', seed=209, span_layer=True, theta=1, train_batch=4, train_path='./datasets/OntoNotes4.0/mrc-ner.train', train_span_method='mix', warmup_ratio=0.1, weight_decay=0.01)\n"
     ]
    },
    {
     "name": "stderr",
     "output_type": "stream",
     "text": [
      "checkpoint_6.cpt: 100%|██████████| 2898/2898 [04:16<00:00, 11.28it/s]\n"
     ]
    },
    {
     "name": "stdout",
     "output_type": "stream",
     "text": [
      "model checkpoint_6.cpt test dataset:\n",
      "precision:0.8101 recall:0.7826 f1:0.7961\n",
      "/home/wangnan/mrc4ner/checkpoints/2020_09_02_16_00_27/checkpoint_7.cpt \n",
      " Namespace(allow_impossible=True, alpha=1, beta=1, cls=True, cpu=False, debug=False, dev_batch=10, dev_path='./datasets/OntoNotes4.0/mrc-ner.dev', dropout_prob=0.1, epochs=10, eval=False, gamma=1, local_rank=1, log_steps=20, lr=8e-06, max_tokens=450, not_store=False, pretrained_model_name_or_path='./pretrained_models/chinese_roberta_wwm_large_ext_pytorch', reduction='mean', seed=209, span_layer=True, theta=1, train_batch=4, train_path='./datasets/OntoNotes4.0/mrc-ner.train', train_span_method='mix', warmup_ratio=0.1, weight_decay=0.01)\n"
     ]
    },
    {
     "name": "stderr",
     "output_type": "stream",
     "text": [
      "checkpoint_7.cpt: 100%|██████████| 2898/2898 [04:14<00:00, 11.40it/s]\n"
     ]
    },
    {
     "name": "stdout",
     "output_type": "stream",
     "text": [
      "model checkpoint_7.cpt test dataset:\n",
      "precision:0.8225 recall:0.7811 f1:0.8013\n",
      "/home/wangnan/mrc4ner/checkpoints/2020_09_02_16_00_27/checkpoint_8.cpt \n",
      " Namespace(allow_impossible=True, alpha=1, beta=1, cls=True, cpu=False, debug=False, dev_batch=10, dev_path='./datasets/OntoNotes4.0/mrc-ner.dev', dropout_prob=0.1, epochs=10, eval=False, gamma=1, local_rank=1, log_steps=20, lr=8e-06, max_tokens=450, not_store=False, pretrained_model_name_or_path='./pretrained_models/chinese_roberta_wwm_large_ext_pytorch', reduction='mean', seed=209, span_layer=True, theta=1, train_batch=4, train_path='./datasets/OntoNotes4.0/mrc-ner.train', train_span_method='mix', warmup_ratio=0.1, weight_decay=0.01)\n"
     ]
    },
    {
     "name": "stderr",
     "output_type": "stream",
     "text": [
      "checkpoint_8.cpt: 100%|██████████| 2898/2898 [04:09<00:00, 11.63it/s]\n"
     ]
    },
    {
     "name": "stdout",
     "output_type": "stream",
     "text": [
      "model checkpoint_8.cpt test dataset:\n",
      "precision:0.8316 recall:0.7764 f1:0.8031\n",
      "/home/wangnan/mrc4ner/checkpoints/2020_09_02_16_00_27/checkpoint_9.cpt \n",
      " Namespace(allow_impossible=True, alpha=1, beta=1, cls=True, cpu=False, debug=False, dev_batch=10, dev_path='./datasets/OntoNotes4.0/mrc-ner.dev', dropout_prob=0.1, epochs=10, eval=False, gamma=1, local_rank=1, log_steps=20, lr=8e-06, max_tokens=450, not_store=False, pretrained_model_name_or_path='./pretrained_models/chinese_roberta_wwm_large_ext_pytorch', reduction='mean', seed=209, span_layer=True, theta=1, train_batch=4, train_path='./datasets/OntoNotes4.0/mrc-ner.train', train_span_method='mix', warmup_ratio=0.1, weight_decay=0.01)\n"
     ]
    },
    {
     "name": "stderr",
     "output_type": "stream",
     "text": [
      "checkpoint_9.cpt: 100%|██████████| 2898/2898 [04:09<00:00, 11.60it/s]"
     ]
    },
    {
     "name": "stdout",
     "output_type": "stream",
     "text": [
      "model checkpoint_9.cpt test dataset:\n",
      "precision:0.8303 recall:0.7738 f1:0.8011\n",
      "[('checkpoint_0.cpt', 0.7437388192093413, 0.6514755810065975, 0.694556094043365), ('checkpoint_1.cpt', 0.7821796135933766, 0.7244711411955509, 0.7522196890936819), ('checkpoint_2.cpt', 0.7787037036007005, 0.7687385739398356, 0.7736885523572798), ('checkpoint_3.cpt', 0.8495589160602459, 0.7042308695868071, 0.7700980334661789), ('checkpoint_4.cpt', 0.8342038500471267, 0.729955601889533, 0.7786052546025818), ('checkpoint_5.cpt', 0.822483550213848, 0.7671715851701264, 0.7938647798714018), ('checkpoint_6.cpt', 0.810083806324671, 0.7825803080722669, 0.7960940802774634), ('checkpoint_7.cpt', 0.8224941563560436, 0.7811439017000334, 0.8012854154353859), ('checkpoint_8.cpt', 0.8316083914920827, 0.7764429353909058, 0.8030789170118927), ('checkpoint_9.cpt', 0.830320862991408, 0.7738312874413905, 0.8010809469466609)]\n"
     ]
    },
    {
     "name": "stderr",
     "output_type": "stream",
     "text": [
      "\n"
     ]
    }
   ],
   "source": [
    "#这个之前达到0.8的参数下，在三个GPU上训练的结果，真的,第一个epoch差距好大（不过第二个epoch差距就很小了，第三个epoch直接反超！）\n",
    "base_dir = '/home/wangnan/mrc4ner/checkpoints/'\n",
    "base_model_dir = '2020_09_02_16_00_27'\n",
    "model_dir = base_dir+base_model_dir+'/'\n",
    "args = pickle.load(open(model_dir+'args','rb'))\n",
    "files = os.listdir(base_dir+base_model_dir)\n",
    "files.remove('args')\n",
    "files = sorted(files)\n",
    "scores = []\n",
    "for file in files:\n",
    "    s = test(model_dir,file,6,args)\n",
    "    scores.append(s)\n",
    "print(scores)"
   ]
  },
  {
   "cell_type": "code",
   "execution_count": null,
   "metadata": {},
   "outputs": [],
   "source": []
  },
  {
   "cell_type": "code",
   "execution_count": null,
   "metadata": {},
   "outputs": [],
   "source": []
  },
  {
   "cell_type": "code",
   "execution_count": null,
   "metadata": {},
   "outputs": [],
   "source": []
  },
  {
   "cell_type": "code",
   "execution_count": 5,
   "metadata": {},
   "outputs": [
    {
     "name": "stdout",
     "output_type": "stream",
     "text": [
      "/home/wangnan/mrc4ner/checkpoints/2020_09_02_10_06_59/checkpoint_0.cpt \n",
      " Namespace(allow_impossible=True, alpha=1, beta=1, cls=True, cpu=False, debug=False, dev_batch=10, dev_path='./datasets/OntoNotes4.0/mrc-ner.dev', dropout_prob=0.1, epochs=10, eval=False, gamma=1, local_rank=0, log_steps=20, lr=8e-06, max_tokens=450, not_store=False, pretrained_model_name_or_path='./pretrained_models/chinese_roberta_wwm_large_ext_pytorch', reduction='mean', seed=209, span_layer=True, theta=1, train_batch=4, train_path='./datasets/OntoNotes4.0/mrc-ner.train', train_span_method='mix', warmup_ratio=-1.0, weight_decay=0.01)\n"
     ]
    },
    {
     "name": "stderr",
     "output_type": "stream",
     "text": [
      "checkpoint_0.cpt: 100%|██████████| 2898/2898 [04:02<00:00, 11.94it/s]\n"
     ]
    },
    {
     "name": "stdout",
     "output_type": "stream",
     "text": [
      "model checkpoint_0.cpt test dataset:\n",
      "precision:0.7830 recall:0.7032 f1:0.7410\n",
      "/home/wangnan/mrc4ner/checkpoints/2020_09_02_10_06_59/checkpoint_1.cpt \n",
      " Namespace(allow_impossible=True, alpha=1, beta=1, cls=True, cpu=False, debug=False, dev_batch=10, dev_path='./datasets/OntoNotes4.0/mrc-ner.dev', dropout_prob=0.1, epochs=10, eval=False, gamma=1, local_rank=0, log_steps=20, lr=8e-06, max_tokens=450, not_store=False, pretrained_model_name_or_path='./pretrained_models/chinese_roberta_wwm_large_ext_pytorch', reduction='mean', seed=209, span_layer=True, theta=1, train_batch=4, train_path='./datasets/OntoNotes4.0/mrc-ner.train', train_span_method='mix', warmup_ratio=-1.0, weight_decay=0.01)\n"
     ]
    },
    {
     "name": "stderr",
     "output_type": "stream",
     "text": [
      "checkpoint_1.cpt: 100%|██████████| 2898/2898 [04:08<00:00, 11.68it/s]\n"
     ]
    },
    {
     "name": "stdout",
     "output_type": "stream",
     "text": [
      "model checkpoint_1.cpt test dataset:\n",
      "precision:0.8290 recall:0.6895 f1:0.7528\n",
      "/home/wangnan/mrc4ner/checkpoints/2020_09_02_10_06_59/checkpoint_2.cpt \n",
      " Namespace(allow_impossible=True, alpha=1, beta=1, cls=True, cpu=False, debug=False, dev_batch=10, dev_path='./datasets/OntoNotes4.0/mrc-ner.dev', dropout_prob=0.1, epochs=10, eval=False, gamma=1, local_rank=0, log_steps=20, lr=8e-06, max_tokens=450, not_store=False, pretrained_model_name_or_path='./pretrained_models/chinese_roberta_wwm_large_ext_pytorch', reduction='mean', seed=209, span_layer=True, theta=1, train_batch=4, train_path='./datasets/OntoNotes4.0/mrc-ner.train', train_span_method='mix', warmup_ratio=-1.0, weight_decay=0.01)\n"
     ]
    },
    {
     "name": "stderr",
     "output_type": "stream",
     "text": [
      "checkpoint_2.cpt: 100%|██████████| 2898/2898 [04:08<00:00, 11.68it/s]\n"
     ]
    },
    {
     "name": "stdout",
     "output_type": "stream",
     "text": [
      "model checkpoint_2.cpt test dataset:\n",
      "precision:0.7445 recall:0.7869 f1:0.7651\n",
      "/home/wangnan/mrc4ner/checkpoints/2020_09_02_10_06_59/checkpoint_3.cpt \n",
      " Namespace(allow_impossible=True, alpha=1, beta=1, cls=True, cpu=False, debug=False, dev_batch=10, dev_path='./datasets/OntoNotes4.0/mrc-ner.dev', dropout_prob=0.1, epochs=10, eval=False, gamma=1, local_rank=0, log_steps=20, lr=8e-06, max_tokens=450, not_store=False, pretrained_model_name_or_path='./pretrained_models/chinese_roberta_wwm_large_ext_pytorch', reduction='mean', seed=209, span_layer=True, theta=1, train_batch=4, train_path='./datasets/OntoNotes4.0/mrc-ner.train', train_span_method='mix', warmup_ratio=-1.0, weight_decay=0.01)\n"
     ]
    },
    {
     "name": "stderr",
     "output_type": "stream",
     "text": [
      "checkpoint_3.cpt: 100%|██████████| 2898/2898 [04:08<00:00, 11.66it/s]\n"
     ]
    },
    {
     "name": "stdout",
     "output_type": "stream",
     "text": [
      "model checkpoint_3.cpt test dataset:\n",
      "precision:0.8419 recall:0.6907 f1:0.7588\n",
      "/home/wangnan/mrc4ner/checkpoints/2020_09_02_10_06_59/checkpoint_4.cpt \n",
      " Namespace(allow_impossible=True, alpha=1, beta=1, cls=True, cpu=False, debug=False, dev_batch=10, dev_path='./datasets/OntoNotes4.0/mrc-ner.dev', dropout_prob=0.1, epochs=10, eval=False, gamma=1, local_rank=0, log_steps=20, lr=8e-06, max_tokens=450, not_store=False, pretrained_model_name_or_path='./pretrained_models/chinese_roberta_wwm_large_ext_pytorch', reduction='mean', seed=209, span_layer=True, theta=1, train_batch=4, train_path='./datasets/OntoNotes4.0/mrc-ner.train', train_span_method='mix', warmup_ratio=-1.0, weight_decay=0.01)\n"
     ]
    },
    {
     "name": "stderr",
     "output_type": "stream",
     "text": [
      "checkpoint_4.cpt: 100%|██████████| 2898/2898 [04:08<00:00, 11.65it/s]\n"
     ]
    },
    {
     "name": "stdout",
     "output_type": "stream",
     "text": [
      "model checkpoint_4.cpt test dataset:\n",
      "precision:0.7970 recall:0.7834 f1:0.7901\n",
      "/home/wangnan/mrc4ner/checkpoints/2020_09_02_10_06_59/checkpoint_5.cpt \n",
      " Namespace(allow_impossible=True, alpha=1, beta=1, cls=True, cpu=False, debug=False, dev_batch=10, dev_path='./datasets/OntoNotes4.0/mrc-ner.dev', dropout_prob=0.1, epochs=10, eval=False, gamma=1, local_rank=0, log_steps=20, lr=8e-06, max_tokens=450, not_store=False, pretrained_model_name_or_path='./pretrained_models/chinese_roberta_wwm_large_ext_pytorch', reduction='mean', seed=209, span_layer=True, theta=1, train_batch=4, train_path='./datasets/OntoNotes4.0/mrc-ner.train', train_span_method='mix', warmup_ratio=-1.0, weight_decay=0.01)\n"
     ]
    },
    {
     "name": "stderr",
     "output_type": "stream",
     "text": [
      "checkpoint_5.cpt: 100%|██████████| 2898/2898 [04:08<00:00, 11.67it/s]\n"
     ]
    },
    {
     "name": "stdout",
     "output_type": "stream",
     "text": [
      "model checkpoint_5.cpt test dataset:\n",
      "precision:0.8468 recall:0.7176 f1:0.7768\n",
      "/home/wangnan/mrc4ner/checkpoints/2020_09_02_10_06_59/checkpoint_6.cpt \n",
      " Namespace(allow_impossible=True, alpha=1, beta=1, cls=True, cpu=False, debug=False, dev_batch=10, dev_path='./datasets/OntoNotes4.0/mrc-ner.dev', dropout_prob=0.1, epochs=10, eval=False, gamma=1, local_rank=0, log_steps=20, lr=8e-06, max_tokens=450, not_store=False, pretrained_model_name_or_path='./pretrained_models/chinese_roberta_wwm_large_ext_pytorch', reduction='mean', seed=209, span_layer=True, theta=1, train_batch=4, train_path='./datasets/OntoNotes4.0/mrc-ner.train', train_span_method='mix', warmup_ratio=-1.0, weight_decay=0.01)\n"
     ]
    },
    {
     "name": "stderr",
     "output_type": "stream",
     "text": [
      "checkpoint_6.cpt: 100%|██████████| 2898/2898 [04:08<00:00, 11.66it/s]\n"
     ]
    },
    {
     "name": "stdout",
     "output_type": "stream",
     "text": [
      "model checkpoint_6.cpt test dataset:\n",
      "precision:0.8521 recall:0.7063 f1:0.7724\n",
      "/home/wangnan/mrc4ner/checkpoints/2020_09_02_10_06_59/checkpoint_7.cpt \n",
      " Namespace(allow_impossible=True, alpha=1, beta=1, cls=True, cpu=False, debug=False, dev_batch=10, dev_path='./datasets/OntoNotes4.0/mrc-ner.dev', dropout_prob=0.1, epochs=10, eval=False, gamma=1, local_rank=0, log_steps=20, lr=8e-06, max_tokens=450, not_store=False, pretrained_model_name_or_path='./pretrained_models/chinese_roberta_wwm_large_ext_pytorch', reduction='mean', seed=209, span_layer=True, theta=1, train_batch=4, train_path='./datasets/OntoNotes4.0/mrc-ner.train', train_span_method='mix', warmup_ratio=-1.0, weight_decay=0.01)\n"
     ]
    },
    {
     "name": "stderr",
     "output_type": "stream",
     "text": [
      "checkpoint_7.cpt: 100%|██████████| 2898/2898 [04:09<00:00, 11.63it/s]\n"
     ]
    },
    {
     "name": "stdout",
     "output_type": "stream",
     "text": [
      "model checkpoint_7.cpt test dataset:\n",
      "precision:0.8170 recall:0.7682 f1:0.7918\n",
      "/home/wangnan/mrc4ner/checkpoints/2020_09_02_10_06_59/checkpoint_8.cpt \n",
      " Namespace(allow_impossible=True, alpha=1, beta=1, cls=True, cpu=False, debug=False, dev_batch=10, dev_path='./datasets/OntoNotes4.0/mrc-ner.dev', dropout_prob=0.1, epochs=10, eval=False, gamma=1, local_rank=0, log_steps=20, lr=8e-06, max_tokens=450, not_store=False, pretrained_model_name_or_path='./pretrained_models/chinese_roberta_wwm_large_ext_pytorch', reduction='mean', seed=209, span_layer=True, theta=1, train_batch=4, train_path='./datasets/OntoNotes4.0/mrc-ner.train', train_span_method='mix', warmup_ratio=-1.0, weight_decay=0.01)\n"
     ]
    },
    {
     "name": "stderr",
     "output_type": "stream",
     "text": [
      "checkpoint_8.cpt: 100%|██████████| 2898/2898 [04:08<00:00, 11.66it/s]\n"
     ]
    },
    {
     "name": "stdout",
     "output_type": "stream",
     "text": [
      "model checkpoint_8.cpt test dataset:\n",
      "precision:0.8348 recall:0.7020 f1:0.7627\n",
      "/home/wangnan/mrc4ner/checkpoints/2020_09_02_10_06_59/checkpoint_9.cpt \n",
      " Namespace(allow_impossible=True, alpha=1, beta=1, cls=True, cpu=False, debug=False, dev_batch=10, dev_path='./datasets/OntoNotes4.0/mrc-ner.dev', dropout_prob=0.1, epochs=10, eval=False, gamma=1, local_rank=0, log_steps=20, lr=8e-06, max_tokens=450, not_store=False, pretrained_model_name_or_path='./pretrained_models/chinese_roberta_wwm_large_ext_pytorch', reduction='mean', seed=209, span_layer=True, theta=1, train_batch=4, train_path='./datasets/OntoNotes4.0/mrc-ner.train', train_span_method='mix', warmup_ratio=-1.0, weight_decay=0.01)\n"
     ]
    },
    {
     "name": "stderr",
     "output_type": "stream",
     "text": [
      "checkpoint_9.cpt: 100%|██████████| 2898/2898 [04:08<00:00, 11.65it/s]\n"
     ]
    },
    {
     "name": "stdout",
     "output_type": "stream",
     "text": [
      "model checkpoint_9.cpt test dataset:\n",
      "precision:0.8519 recall:0.6895 f1:0.7621\n",
      "[('checkpoint_0.cpt', 0.7830449322694423, 0.703186210407001, 0.7409695735813847), ('checkpoint_1.cpt', 0.8290155439112866, 0.6894750586720455, 0.7528333246043151), ('checkpoint_2.cpt', 0.7445021002292436, 0.7868895271889671, 0.7651086927697401), ('checkpoint_3.cpt', 0.8419293217379927, 0.6906503002493274, 0.7588230341749267), ('checkpoint_4.cpt', 0.7969974756480672, 0.7833638024571214, 0.7901213306874958), ('checkpoint_5.cpt', 0.8468176913473852, 0.7175502741293353, 0.7768426502614986), ('checkpoint_6.cpt', 0.8520793949508381, 0.7063201879464194, 0.7723827685793744), ('checkpoint_7.cpt', 0.8169698651830343, 0.7682162443499325, 0.791842827643091), ('checkpoint_8.cpt', 0.8347826085660275, 0.7020109688297191, 0.7626608740313467), ('checkpoint_9.cpt', 0.8518877055740742, 0.6894750586720455, 0.762124216758079)]\n"
     ]
    }
   ],
   "source": [
    "#这个是在三个GPU上训练的额\n",
    "base_dir = '/home/wangnan/mrc4ner/checkpoints/'\n",
    "base_model_dir = '2020_09_02_10_06_59'\n",
    "model_dir = base_dir+base_model_dir+'/'\n",
    "args = pickle.load(open(model_dir+'args','rb'))\n",
    "files = os.listdir(base_dir+base_model_dir)\n",
    "files.remove('args')\n",
    "files = sorted(files)\n",
    "scores = []\n",
    "for file in files:\n",
    "    s = test(model_dir,file,6,args)\n",
    "    scores.append(s)\n",
    "print(scores)"
   ]
  },
  {
   "cell_type": "code",
   "execution_count": null,
   "metadata": {},
   "outputs": [],
   "source": []
  },
  {
   "cell_type": "code",
   "execution_count": 5,
   "metadata": {},
   "outputs": [
    {
     "name": "stdout",
     "output_type": "stream",
     "text": [
      "/home/wangnan/mrc4ner/checkpoints/2020_09_01_19_27_02/checkpoint_0.cpt \n",
      " Namespace(allow_impossible=True, alpha=1, beta=1, cls=True, cpu=False, debug=False, dev_batch=10, dev_path='./datasets/OntoNotes4.0/mrc-ner.dev', dropout_prob=0.1, epochs=10, eval=False, gamma=1, local_rank=0, log_steps=20, lr=8e-06, max_tokens=450, not_store=False, pretrained_model_name_or_path='./pretrained_models/chinese_roberta_wwm_large_ext_pytorch', reduction='mean', seed=209, span_layer=True, theta=1, train_batch=4, train_path='./datasets/OntoNotes4.0/mrc-ner.train', train_span_method='mix', warmup_ratio=0.1, weight_decay=0.01)\n"
     ]
    },
    {
     "name": "stderr",
     "output_type": "stream",
     "text": [
      "checkpoint_0.cpt: 100%|██████████| 2898/2898 [04:06<00:00, 11.77it/s]\n"
     ]
    },
    {
     "name": "stdout",
     "output_type": "stream",
     "text": [
      "model checkpoint_0.cpt test dataset:\n",
      "precision:0.7438 recall:0.4026 f1:0.5224\n",
      "/home/wangnan/mrc4ner/checkpoints/2020_09_01_19_27_02/checkpoint_1.cpt \n",
      " Namespace(allow_impossible=True, alpha=1, beta=1, cls=True, cpu=False, debug=False, dev_batch=10, dev_path='./datasets/OntoNotes4.0/mrc-ner.dev', dropout_prob=0.1, epochs=10, eval=False, gamma=1, local_rank=0, log_steps=20, lr=8e-06, max_tokens=450, not_store=False, pretrained_model_name_or_path='./pretrained_models/chinese_roberta_wwm_large_ext_pytorch', reduction='mean', seed=209, span_layer=True, theta=1, train_batch=4, train_path='./datasets/OntoNotes4.0/mrc-ner.train', train_span_method='mix', warmup_ratio=0.1, weight_decay=0.01)\n"
     ]
    },
    {
     "name": "stderr",
     "output_type": "stream",
     "text": [
      "checkpoint_1.cpt: 100%|██████████| 2898/2898 [04:10<00:00, 11.59it/s]\n"
     ]
    },
    {
     "name": "stdout",
     "output_type": "stream",
     "text": [
      "model checkpoint_1.cpt test dataset:\n",
      "precision:0.7797 recall:0.7135 f1:0.7451\n",
      "/home/wangnan/mrc4ner/checkpoints/2020_09_01_19_27_02/checkpoint_2.cpt \n",
      " Namespace(allow_impossible=True, alpha=1, beta=1, cls=True, cpu=False, debug=False, dev_batch=10, dev_path='./datasets/OntoNotes4.0/mrc-ner.dev', dropout_prob=0.1, epochs=10, eval=False, gamma=1, local_rank=0, log_steps=20, lr=8e-06, max_tokens=450, not_store=False, pretrained_model_name_or_path='./pretrained_models/chinese_roberta_wwm_large_ext_pytorch', reduction='mean', seed=209, span_layer=True, theta=1, train_batch=4, train_path='./datasets/OntoNotes4.0/mrc-ner.train', train_span_method='mix', warmup_ratio=0.1, weight_decay=0.01)\n"
     ]
    },
    {
     "name": "stderr",
     "output_type": "stream",
     "text": [
      "checkpoint_2.cpt: 100%|██████████| 2898/2898 [04:09<00:00, 11.61it/s]\n"
     ]
    },
    {
     "name": "stdout",
     "output_type": "stream",
     "text": [
      "model checkpoint_2.cpt test dataset:\n",
      "precision:0.7798 recall:0.7757 f1:0.7777\n",
      "/home/wangnan/mrc4ner/checkpoints/2020_09_01_19_27_02/checkpoint_3.cpt \n",
      " Namespace(allow_impossible=True, alpha=1, beta=1, cls=True, cpu=False, debug=False, dev_batch=10, dev_path='./datasets/OntoNotes4.0/mrc-ner.dev', dropout_prob=0.1, epochs=10, eval=False, gamma=1, local_rank=0, log_steps=20, lr=8e-06, max_tokens=450, not_store=False, pretrained_model_name_or_path='./pretrained_models/chinese_roberta_wwm_large_ext_pytorch', reduction='mean', seed=209, span_layer=True, theta=1, train_batch=4, train_path='./datasets/OntoNotes4.0/mrc-ner.train', train_span_method='mix', warmup_ratio=0.1, weight_decay=0.01)\n"
     ]
    },
    {
     "name": "stderr",
     "output_type": "stream",
     "text": [
      "checkpoint_3.cpt: 100%|██████████| 2898/2898 [04:09<00:00, 11.60it/s]\n"
     ]
    },
    {
     "name": "stdout",
     "output_type": "stream",
     "text": [
      "model checkpoint_3.cpt test dataset:\n",
      "precision:0.8835 recall:0.6677 f1:0.7606\n",
      "/home/wangnan/mrc4ner/checkpoints/2020_09_01_19_27_02/checkpoint_4.cpt \n",
      " Namespace(allow_impossible=True, alpha=1, beta=1, cls=True, cpu=False, debug=False, dev_batch=10, dev_path='./datasets/OntoNotes4.0/mrc-ner.dev', dropout_prob=0.1, epochs=10, eval=False, gamma=1, local_rank=0, log_steps=20, lr=8e-06, max_tokens=450, not_store=False, pretrained_model_name_or_path='./pretrained_models/chinese_roberta_wwm_large_ext_pytorch', reduction='mean', seed=209, span_layer=True, theta=1, train_batch=4, train_path='./datasets/OntoNotes4.0/mrc-ner.train', train_span_method='mix', warmup_ratio=0.1, weight_decay=0.01)\n"
     ]
    },
    {
     "name": "stderr",
     "output_type": "stream",
     "text": [
      "checkpoint_4.cpt: 100%|██████████| 2898/2898 [04:08<00:00, 11.66it/s]\n"
     ]
    },
    {
     "name": "stdout",
     "output_type": "stream",
     "text": [
      "model checkpoint_4.cpt test dataset:\n",
      "precision:0.8410 recall:0.7407 f1:0.7877\n",
      "/home/wangnan/mrc4ner/checkpoints/2020_09_01_19_27_02/checkpoint_5.cpt \n",
      " Namespace(allow_impossible=True, alpha=1, beta=1, cls=True, cpu=False, debug=False, dev_batch=10, dev_path='./datasets/OntoNotes4.0/mrc-ner.dev', dropout_prob=0.1, epochs=10, eval=False, gamma=1, local_rank=0, log_steps=20, lr=8e-06, max_tokens=450, not_store=False, pretrained_model_name_or_path='./pretrained_models/chinese_roberta_wwm_large_ext_pytorch', reduction='mean', seed=209, span_layer=True, theta=1, train_batch=4, train_path='./datasets/OntoNotes4.0/mrc-ner.train', train_span_method='mix', warmup_ratio=0.1, weight_decay=0.01)\n"
     ]
    },
    {
     "name": "stderr",
     "output_type": "stream",
     "text": [
      "checkpoint_5.cpt: 100%|██████████| 2898/2898 [04:08<00:00, 11.65it/s]\n"
     ]
    },
    {
     "name": "stdout",
     "output_type": "stream",
     "text": [
      "model checkpoint_5.cpt test dataset:\n",
      "precision:0.8410 recall:0.7447 f1:0.7899\n",
      "/home/wangnan/mrc4ner/checkpoints/2020_09_01_19_27_02/checkpoint_6.cpt \n",
      " Namespace(allow_impossible=True, alpha=1, beta=1, cls=True, cpu=False, debug=False, dev_batch=10, dev_path='./datasets/OntoNotes4.0/mrc-ner.dev', dropout_prob=0.1, epochs=10, eval=False, gamma=1, local_rank=0, log_steps=20, lr=8e-06, max_tokens=450, not_store=False, pretrained_model_name_or_path='./pretrained_models/chinese_roberta_wwm_large_ext_pytorch', reduction='mean', seed=209, span_layer=True, theta=1, train_batch=4, train_path='./datasets/OntoNotes4.0/mrc-ner.train', train_span_method='mix', warmup_ratio=0.1, weight_decay=0.01)\n"
     ]
    },
    {
     "name": "stderr",
     "output_type": "stream",
     "text": [
      "checkpoint_6.cpt: 100%|██████████| 2898/2898 [04:08<00:00, 11.65it/s]\n"
     ]
    },
    {
     "name": "stdout",
     "output_type": "stream",
     "text": [
      "model checkpoint_6.cpt test dataset:\n",
      "precision:0.8100 recall:0.7934 f1:0.8016\n",
      "/home/wangnan/mrc4ner/checkpoints/2020_09_01_19_27_02/checkpoint_7.cpt \n",
      " Namespace(allow_impossible=True, alpha=1, beta=1, cls=True, cpu=False, debug=False, dev_batch=10, dev_path='./datasets/OntoNotes4.0/mrc-ner.dev', dropout_prob=0.1, epochs=10, eval=False, gamma=1, local_rank=0, log_steps=20, lr=8e-06, max_tokens=450, not_store=False, pretrained_model_name_or_path='./pretrained_models/chinese_roberta_wwm_large_ext_pytorch', reduction='mean', seed=209, span_layer=True, theta=1, train_batch=4, train_path='./datasets/OntoNotes4.0/mrc-ner.train', train_span_method='mix', warmup_ratio=0.1, weight_decay=0.01)\n"
     ]
    },
    {
     "name": "stderr",
     "output_type": "stream",
     "text": [
      "checkpoint_7.cpt: 100%|██████████| 2898/2898 [04:09<00:00, 11.63it/s]\n"
     ]
    },
    {
     "name": "stdout",
     "output_type": "stream",
     "text": [
      "model checkpoint_7.cpt test dataset:\n",
      "precision:0.8261 recall:0.7746 f1:0.7995\n",
      "/home/wangnan/mrc4ner/checkpoints/2020_09_01_19_27_02/checkpoint_8.cpt \n",
      " Namespace(allow_impossible=True, alpha=1, beta=1, cls=True, cpu=False, debug=False, dev_batch=10, dev_path='./datasets/OntoNotes4.0/mrc-ner.dev', dropout_prob=0.1, epochs=10, eval=False, gamma=1, local_rank=0, log_steps=20, lr=8e-06, max_tokens=450, not_store=False, pretrained_model_name_or_path='./pretrained_models/chinese_roberta_wwm_large_ext_pytorch', reduction='mean', seed=209, span_layer=True, theta=1, train_batch=4, train_path='./datasets/OntoNotes4.0/mrc-ner.train', train_span_method='mix', warmup_ratio=0.1, weight_decay=0.01)\n"
     ]
    },
    {
     "name": "stderr",
     "output_type": "stream",
     "text": [
      "checkpoint_8.cpt: 100%|██████████| 2898/2898 [04:09<00:00, 11.62it/s]\n"
     ]
    },
    {
     "name": "stdout",
     "output_type": "stream",
     "text": [
      "model checkpoint_8.cpt test dataset:\n",
      "precision:0.8280 recall:0.7775 f1:0.8019\n",
      "/home/wangnan/mrc4ner/checkpoints/2020_09_01_19_27_02/checkpoint_9.cpt \n",
      " Namespace(allow_impossible=True, alpha=1, beta=1, cls=True, cpu=False, debug=False, dev_batch=10, dev_path='./datasets/OntoNotes4.0/mrc-ner.dev', dropout_prob=0.1, epochs=10, eval=False, gamma=1, local_rank=0, log_steps=20, lr=8e-06, max_tokens=450, not_store=False, pretrained_model_name_or_path='./pretrained_models/chinese_roberta_wwm_large_ext_pytorch', reduction='mean', seed=209, span_layer=True, theta=1, train_batch=4, train_path='./datasets/OntoNotes4.0/mrc-ner.train', train_span_method='mix', warmup_ratio=0.1, weight_decay=0.01)\n"
     ]
    },
    {
     "name": "stderr",
     "output_type": "stream",
     "text": [
      "checkpoint_9.cpt: 100%|██████████| 2898/2898 [04:10<00:00, 11.57it/s]\n"
     ]
    },
    {
     "name": "stdout",
     "output_type": "stream",
     "text": [
      "model checkpoint_9.cpt test dataset:\n",
      "precision:0.8294 recall:0.7754 f1:0.8015\n",
      "[('checkpoint_0.cpt', 0.7437876958398582, 0.4025855314177872, 0.5224091010978437), ('checkpoint_1.cpt', 0.7796803651855478, 0.7135022198075865, 0.7451242792798798), ('checkpoint_2.cpt', 0.7798345804411402, 0.7756594410060512, 0.7777409074307333), ('checkpoint_3.cpt', 0.8835320544524741, 0.6676677982935926, 0.7605796508863397), ('checkpoint_4.cpt', 0.841043890741245, 0.7406633584825458, 0.7876678812964849), ('checkpoint_5.cpt', 0.8410263971625089, 0.7447114128042946, 0.789943403667732), ('checkpoint_6.cpt', 0.8100253298480169, 0.7934186470627554, 0.8016354917682216), ('checkpoint_7.cpt', 0.8260687925322282, 0.7746147818262451, 0.7995142925110984), ('checkpoint_8.cpt', 0.8279794186027006, 0.7774875945707119, 0.8019390249339552), ('checkpoint_9.cpt', 0.8294454531597366, 0.7753982762110997, 0.8015112774721017)]\n"
     ]
    }
   ],
   "source": [
    "#这个是在两个GPU上训练得到的，还可以在做一个对比试验，看在三个GPU上跑是不是会下降\n",
    "base_dir = '/home/wangnan/mrc4ner/checkpoints/'\n",
    "base_model_dir = '2020_09_01_19_27_02'\n",
    "model_dir = base_dir+base_model_dir+'/'\n",
    "args = pickle.load(open(model_dir+'args','rb'))\n",
    "files = os.listdir(base_dir+base_model_dir)\n",
    "files.remove('args')\n",
    "files = sorted(files)\n",
    "scores = []\n",
    "for file in files:\n",
    "    s = test(model_dir,file,6,args)\n",
    "    scores.append(s)\n",
    "print(scores)"
   ]
  },
  {
   "cell_type": "code",
   "execution_count": null,
   "metadata": {},
   "outputs": [],
   "source": []
  },
  {
   "cell_type": "code",
   "execution_count": 5,
   "metadata": {},
   "outputs": [],
   "source": [
    "base_dir = '/home/wangnan/mrc4ner/checkpoints/'\n",
    "base_model_dir = '2020_08_31_21_48_51'\n",
    "model_dir = base_dir+base_model_dir+'/'\n",
    "args = pickle.load(open(model_dir+'args','rb'))\n",
    "files = os.listdir(base_dir+base_model_dir)\n",
    "files.remove('args')\n",
    "files = sorted(files)"
   ]
  },
  {
   "cell_type": "code",
   "execution_count": 6,
   "metadata": {},
   "outputs": [
    {
     "name": "stdout",
     "output_type": "stream",
     "text": [
      "/home/wangnan/mrc4ner/checkpoints/2020_08_31_21_48_51/checkpoint_0.cpt \n",
      " Namespace(allow_impossible=True, alpha=1, beta=1, cls=True, cpu=False, debug=False, dev_batch=10, dev_path='./datasets/OntoNotes4.0/mrc-ner.dev', dropout_prob=0.1, epochs=10, eval=False, gamma=1, local_rank=2, log_steps=20, lr=8e-06, max_tokens=512, not_store=False, pretrained_model_name_or_path='./pretrained_models/chinese_roberta_wwm_large_ext_pytorch', reduction='mean', seed=209, span_layer=True, theta=1, train_batch=4, train_path='./datasets/OntoNotes4.0/mrc-ner.train', train_span_method='mix', warmup_ratio=0.1, weight_decay=0.01)\n"
     ]
    },
    {
     "name": "stderr",
     "output_type": "stream",
     "text": [
      "checkpoint_0.cpt: 100%|██████████| 2898/2898 [04:03<00:00, 11.91it/s]\n"
     ]
    },
    {
     "name": "stdout",
     "output_type": "stream",
     "text": [
      "model checkpoint_0.cpt test dataset:\n",
      "precision:0.7651 recall:0.5308 f1:0.6268\n",
      "/home/wangnan/mrc4ner/checkpoints/2020_08_31_21_48_51/checkpoint_1.cpt \n",
      " Namespace(allow_impossible=True, alpha=1, beta=1, cls=True, cpu=False, debug=False, dev_batch=10, dev_path='./datasets/OntoNotes4.0/mrc-ner.dev', dropout_prob=0.1, epochs=10, eval=False, gamma=1, local_rank=2, log_steps=20, lr=8e-06, max_tokens=512, not_store=False, pretrained_model_name_or_path='./pretrained_models/chinese_roberta_wwm_large_ext_pytorch', reduction='mean', seed=209, span_layer=True, theta=1, train_batch=4, train_path='./datasets/OntoNotes4.0/mrc-ner.train', train_span_method='mix', warmup_ratio=0.1, weight_decay=0.01)\n"
     ]
    },
    {
     "name": "stderr",
     "output_type": "stream",
     "text": [
      "checkpoint_1.cpt: 100%|██████████| 2898/2898 [04:11<00:00, 11.54it/s]\n"
     ]
    },
    {
     "name": "stdout",
     "output_type": "stream",
     "text": [
      "model checkpoint_1.cpt test dataset:\n",
      "precision:0.7643 recall:0.6469 f1:0.7007\n",
      "/home/wangnan/mrc4ner/checkpoints/2020_08_31_21_48_51/checkpoint_2.cpt \n",
      " Namespace(allow_impossible=True, alpha=1, beta=1, cls=True, cpu=False, debug=False, dev_batch=10, dev_path='./datasets/OntoNotes4.0/mrc-ner.dev', dropout_prob=0.1, epochs=10, eval=False, gamma=1, local_rank=2, log_steps=20, lr=8e-06, max_tokens=512, not_store=False, pretrained_model_name_or_path='./pretrained_models/chinese_roberta_wwm_large_ext_pytorch', reduction='mean', seed=209, span_layer=True, theta=1, train_batch=4, train_path='./datasets/OntoNotes4.0/mrc-ner.train', train_span_method='mix', warmup_ratio=0.1, weight_decay=0.01)\n"
     ]
    },
    {
     "name": "stderr",
     "output_type": "stream",
     "text": [
      "checkpoint_2.cpt: 100%|██████████| 2898/2898 [04:16<00:00, 11.30it/s]\n"
     ]
    },
    {
     "name": "stdout",
     "output_type": "stream",
     "text": [
      "model checkpoint_2.cpt test dataset:\n",
      "precision:0.8090 recall:0.7416 f1:0.7738\n",
      "/home/wangnan/mrc4ner/checkpoints/2020_08_31_21_48_51/checkpoint_3.cpt \n",
      " Namespace(allow_impossible=True, alpha=1, beta=1, cls=True, cpu=False, debug=False, dev_batch=10, dev_path='./datasets/OntoNotes4.0/mrc-ner.dev', dropout_prob=0.1, epochs=10, eval=False, gamma=1, local_rank=2, log_steps=20, lr=8e-06, max_tokens=512, not_store=False, pretrained_model_name_or_path='./pretrained_models/chinese_roberta_wwm_large_ext_pytorch', reduction='mean', seed=209, span_layer=True, theta=1, train_batch=4, train_path='./datasets/OntoNotes4.0/mrc-ner.train', train_span_method='mix', warmup_ratio=0.1, weight_decay=0.01)\n"
     ]
    },
    {
     "name": "stderr",
     "output_type": "stream",
     "text": [
      "checkpoint_3.cpt: 100%|██████████| 2898/2898 [04:16<00:00, 11.32it/s]\n"
     ]
    },
    {
     "name": "stdout",
     "output_type": "stream",
     "text": [
      "model checkpoint_3.cpt test dataset:\n",
      "precision:0.8231 recall:0.7249 f1:0.7709\n",
      "/home/wangnan/mrc4ner/checkpoints/2020_08_31_21_48_51/checkpoint_4.cpt \n",
      " Namespace(allow_impossible=True, alpha=1, beta=1, cls=True, cpu=False, debug=False, dev_batch=10, dev_path='./datasets/OntoNotes4.0/mrc-ner.dev', dropout_prob=0.1, epochs=10, eval=False, gamma=1, local_rank=2, log_steps=20, lr=8e-06, max_tokens=512, not_store=False, pretrained_model_name_or_path='./pretrained_models/chinese_roberta_wwm_large_ext_pytorch', reduction='mean', seed=209, span_layer=True, theta=1, train_batch=4, train_path='./datasets/OntoNotes4.0/mrc-ner.train', train_span_method='mix', warmup_ratio=0.1, weight_decay=0.01)\n"
     ]
    },
    {
     "name": "stderr",
     "output_type": "stream",
     "text": [
      "checkpoint_4.cpt: 100%|██████████| 2898/2898 [04:14<00:00, 11.38it/s]\n"
     ]
    },
    {
     "name": "stdout",
     "output_type": "stream",
     "text": [
      "model checkpoint_4.cpt test dataset:\n",
      "precision:0.7909 recall:0.7691 f1:0.7799\n",
      "/home/wangnan/mrc4ner/checkpoints/2020_08_31_21_48_51/checkpoint_5.cpt \n",
      " Namespace(allow_impossible=True, alpha=1, beta=1, cls=True, cpu=False, debug=False, dev_batch=10, dev_path='./datasets/OntoNotes4.0/mrc-ner.dev', dropout_prob=0.1, epochs=10, eval=False, gamma=1, local_rank=2, log_steps=20, lr=8e-06, max_tokens=512, not_store=False, pretrained_model_name_or_path='./pretrained_models/chinese_roberta_wwm_large_ext_pytorch', reduction='mean', seed=209, span_layer=True, theta=1, train_batch=4, train_path='./datasets/OntoNotes4.0/mrc-ner.train', train_span_method='mix', warmup_ratio=0.1, weight_decay=0.01)\n"
     ]
    },
    {
     "name": "stderr",
     "output_type": "stream",
     "text": [
      "checkpoint_5.cpt: 100%|██████████| 2898/2898 [04:14<00:00, 11.38it/s]\n"
     ]
    },
    {
     "name": "stdout",
     "output_type": "stream",
     "text": [
      "model checkpoint_5.cpt test dataset:\n",
      "precision:0.7871 recall:0.7767 f1:0.7819\n",
      "/home/wangnan/mrc4ner/checkpoints/2020_08_31_21_48_51/checkpoint_6.cpt \n",
      " Namespace(allow_impossible=True, alpha=1, beta=1, cls=True, cpu=False, debug=False, dev_batch=10, dev_path='./datasets/OntoNotes4.0/mrc-ner.dev', dropout_prob=0.1, epochs=10, eval=False, gamma=1, local_rank=2, log_steps=20, lr=8e-06, max_tokens=512, not_store=False, pretrained_model_name_or_path='./pretrained_models/chinese_roberta_wwm_large_ext_pytorch', reduction='mean', seed=209, span_layer=True, theta=1, train_batch=4, train_path='./datasets/OntoNotes4.0/mrc-ner.train', train_span_method='mix', warmup_ratio=0.1, weight_decay=0.01)\n"
     ]
    },
    {
     "name": "stderr",
     "output_type": "stream",
     "text": [
      "checkpoint_6.cpt: 100%|██████████| 2898/2898 [04:15<00:00, 11.33it/s]\n"
     ]
    },
    {
     "name": "stdout",
     "output_type": "stream",
     "text": [
      "model checkpoint_6.cpt test dataset:\n",
      "precision:0.8146 recall:0.7700 f1:0.7917\n",
      "/home/wangnan/mrc4ner/checkpoints/2020_08_31_21_48_51/checkpoint_7.cpt \n",
      " Namespace(allow_impossible=True, alpha=1, beta=1, cls=True, cpu=False, debug=False, dev_batch=10, dev_path='./datasets/OntoNotes4.0/mrc-ner.dev', dropout_prob=0.1, epochs=10, eval=False, gamma=1, local_rank=2, log_steps=20, lr=8e-06, max_tokens=512, not_store=False, pretrained_model_name_or_path='./pretrained_models/chinese_roberta_wwm_large_ext_pytorch', reduction='mean', seed=209, span_layer=True, theta=1, train_batch=4, train_path='./datasets/OntoNotes4.0/mrc-ner.train', train_span_method='mix', warmup_ratio=0.1, weight_decay=0.01)\n"
     ]
    },
    {
     "name": "stderr",
     "output_type": "stream",
     "text": [
      "checkpoint_7.cpt: 100%|██████████| 2898/2898 [04:14<00:00, 11.38it/s]\n"
     ]
    },
    {
     "name": "stdout",
     "output_type": "stream",
     "text": [
      "model checkpoint_7.cpt test dataset:\n",
      "precision:0.8287 recall:0.7505 f1:0.7876\n",
      "/home/wangnan/mrc4ner/checkpoints/2020_08_31_21_48_51/checkpoint_8.cpt \n",
      " Namespace(allow_impossible=True, alpha=1, beta=1, cls=True, cpu=False, debug=False, dev_batch=10, dev_path='./datasets/OntoNotes4.0/mrc-ner.dev', dropout_prob=0.1, epochs=10, eval=False, gamma=1, local_rank=2, log_steps=20, lr=8e-06, max_tokens=512, not_store=False, pretrained_model_name_or_path='./pretrained_models/chinese_roberta_wwm_large_ext_pytorch', reduction='mean', seed=209, span_layer=True, theta=1, train_batch=4, train_path='./datasets/OntoNotes4.0/mrc-ner.train', train_span_method='mix', warmup_ratio=0.1, weight_decay=0.01)\n"
     ]
    },
    {
     "name": "stderr",
     "output_type": "stream",
     "text": [
      "checkpoint_8.cpt: 100%|██████████| 2898/2898 [04:15<00:00, 11.33it/s]\n"
     ]
    },
    {
     "name": "stdout",
     "output_type": "stream",
     "text": [
      "model checkpoint_8.cpt test dataset:\n",
      "precision:0.8367 recall:0.7536 f1:0.7930\n",
      "/home/wangnan/mrc4ner/checkpoints/2020_08_31_21_48_51/checkpoint_9.cpt \n",
      " Namespace(allow_impossible=True, alpha=1, beta=1, cls=True, cpu=False, debug=False, dev_batch=10, dev_path='./datasets/OntoNotes4.0/mrc-ner.dev', dropout_prob=0.1, epochs=10, eval=False, gamma=1, local_rank=2, log_steps=20, lr=8e-06, max_tokens=512, not_store=False, pretrained_model_name_or_path='./pretrained_models/chinese_roberta_wwm_large_ext_pytorch', reduction='mean', seed=209, span_layer=True, theta=1, train_batch=4, train_path='./datasets/OntoNotes4.0/mrc-ner.train', train_span_method='mix', warmup_ratio=0.1, weight_decay=0.01)\n"
     ]
    },
    {
     "name": "stderr",
     "output_type": "stream",
     "text": [
      "checkpoint_9.cpt: 100%|██████████| 2898/2898 [04:16<00:00, 11.29it/s]\n"
     ]
    },
    {
     "name": "stdout",
     "output_type": "stream",
     "text": [
      "model checkpoint_9.cpt test dataset:\n",
      "precision:0.8248 recall:0.7710 f1:0.7970\n",
      "[('checkpoint_0.cpt', 0.7651044606126285, 0.5308174457389896, 0.6267823394668954), ('checkpoint_1.cpt', 0.7642702868305661, 0.6469051970949458, 0.7007067169382272), ('checkpoint_2.cpt', 0.8089743588591204, 0.7415774352648763, 0.7738106467722364), ('checkpoint_3.cpt', 0.8231020164853051, 0.7248628883879782, 0.7708646595240717), ('checkpoint_4.cpt', 0.7909225190290153, 0.7691303211322629, 0.7798737138311028), ('checkpoint_5.cpt', 0.7870848219151667, 0.7767041001858573, 0.781859506492039), ('checkpoint_6.cpt', 0.8146152782408322, 0.7700443979145932, 0.7917025277447663), ('checkpoint_7.cpt', 0.8286950251148241, 0.7504570382932283, 0.7876374097059959), ('checkpoint_8.cpt', 0.8367406117389096, 0.7535910158326468, 0.7929916001932537), ('checkpoint_9.cpt', 0.824811399717126, 0.7709584746969237, 0.7969757423628178)]\n"
     ]
    }
   ],
   "source": [
    "scores = []\n",
    "for file in files:\n",
    "    s = test(model_dir,file,6,args)\n",
    "    scores.append(s)\n",
    "print(scores)"
   ]
  },
  {
   "cell_type": "code",
   "execution_count": 8,
   "metadata": {},
   "outputs": [],
   "source": [
    "model_id = '2020_08_31_21_48_51'\n",
    "scores = [('checkpoint_0.cpt', 0.7651044606126285, 0.5308174457389896, 0.6267823394668954), ('checkpoint_1.cpt', 0.7642702868305661, 0.6469051970949458, 0.7007067169382272), ('checkpoint_2.cpt', 0.8089743588591204, 0.7415774352648763, 0.7738106467722364), ('checkpoint_3.cpt', 0.8231020164853051, 0.7248628883879782, 0.7708646595240717), ('checkpoint_4.cpt', 0.7909225190290153, 0.7691303211322629, 0.7798737138311028), ('checkpoint_5.cpt', 0.7870848219151667, 0.7767041001858573, 0.781859506492039), ('checkpoint_6.cpt', 0.8146152782408322, 0.7700443979145932, 0.7917025277447663), ('checkpoint_7.cpt', 0.8286950251148241, 0.7504570382932283, 0.7876374097059959), ('checkpoint_8.cpt', 0.8367406117389096, 0.7535910158326468, 0.7929916001932537), ('checkpoint_9.cpt', 0.824811399717126, 0.7709584746969237, 0.7969757423628178)]\n",
    "scores1 = []\n",
    "for i,s in enumerate(scores):\n",
    "    scores1.append((model_id+\"_\"+str(i),s[1],s[2],s[3]))\n",
    "import pickle\n",
    "import json\n",
    "args = pickle.load(open('/home/wangnan/mrc4ner/checkpoints/'+model_id+'/args','rb'))\n",
    "args = vars(args)\n",
    "with open(\"/home/wangnan/mrc4ner/checkpoints/pre_results.json\") as f:\n",
    "    pre = json.load(f)\n",
    "pre['args']+=[args]*len(scores1)\n",
    "pre['scores']+=scores1\n",
    "with open(\"/home/wangnan/mrc4ner/checkpoints/pre_results.json\",'w') as f:\n",
    "    json.dump(pre,f)"
   ]
  },
  {
   "cell_type": "code",
   "execution_count": 7,
   "metadata": {},
   "outputs": [
    {
     "data": {
      "text/plain": [
       "197"
      ]
     },
     "execution_count": 7,
     "metadata": {},
     "output_type": "execute_result"
    }
   ],
   "source": [
    "len(pre['scores'])"
   ]
  },
  {
   "cell_type": "code",
   "execution_count": null,
   "metadata": {},
   "outputs": [],
   "source": []
  },
  {
   "cell_type": "code",
   "execution_count": null,
   "metadata": {},
   "outputs": [],
   "source": []
  },
  {
   "cell_type": "code",
   "execution_count": 5,
   "metadata": {},
   "outputs": [
    {
     "name": "stdout",
     "output_type": "stream",
     "text": [
      "/home/wangnan/mrc4ner/checkpoints/2020_09_01_06_30_06/checkpoint_0.cpt \n",
      " Namespace(allow_impossible=True, alpha=1, beta=1, cls=True, cpu=False, debug=False, dev_batch=10, dev_path='./datasets/OntoNotes4.0/mrc-ner.dev', dropout_prob=0.1, epochs=10, eval=False, gamma=1, local_rank=0, log_steps=20, lr=2e-05, max_tokens=450, not_store=False, pretrained_model_name_or_path='./pretrained_models/chinese_roberta_wwm_large_ext_pytorch', reduction='mean', seed=209, span_layer=True, theta=1, train_batch=4, train_path='./datasets/OntoNotes4.0/mrc-ner.train', train_span_method='mix', warmup_ratio=0.1, weight_decay=0.01)\n"
     ]
    },
    {
     "name": "stderr",
     "output_type": "stream",
     "text": [
      "checkpoint_0.cpt: 100%|██████████| 2898/2898 [04:09<00:00, 11.61it/s]\n"
     ]
    },
    {
     "name": "stdout",
     "output_type": "stream",
     "text": [
      "model checkpoint_0.cpt test dataset:\n",
      "precision:0.7881 recall:0.4313 f1:0.5575\n",
      "/home/wangnan/mrc4ner/checkpoints/2020_09_01_06_30_06/checkpoint_1.cpt \n",
      " Namespace(allow_impossible=True, alpha=1, beta=1, cls=True, cpu=False, debug=False, dev_batch=10, dev_path='./datasets/OntoNotes4.0/mrc-ner.dev', dropout_prob=0.1, epochs=10, eval=False, gamma=1, local_rank=0, log_steps=20, lr=2e-05, max_tokens=450, not_store=False, pretrained_model_name_or_path='./pretrained_models/chinese_roberta_wwm_large_ext_pytorch', reduction='mean', seed=209, span_layer=True, theta=1, train_batch=4, train_path='./datasets/OntoNotes4.0/mrc-ner.train', train_span_method='mix', warmup_ratio=0.1, weight_decay=0.01)\n"
     ]
    },
    {
     "name": "stderr",
     "output_type": "stream",
     "text": [
      "checkpoint_1.cpt: 100%|██████████| 2898/2898 [04:14<00:00, 11.39it/s]\n"
     ]
    },
    {
     "name": "stdout",
     "output_type": "stream",
     "text": [
      "model checkpoint_1.cpt test dataset:\n",
      "precision:0.7434 recall:0.7672 f1:0.7551\n",
      "/home/wangnan/mrc4ner/checkpoints/2020_09_01_06_30_06/checkpoint_2.cpt \n",
      " Namespace(allow_impossible=True, alpha=1, beta=1, cls=True, cpu=False, debug=False, dev_batch=10, dev_path='./datasets/OntoNotes4.0/mrc-ner.dev', dropout_prob=0.1, epochs=10, eval=False, gamma=1, local_rank=0, log_steps=20, lr=2e-05, max_tokens=450, not_store=False, pretrained_model_name_or_path='./pretrained_models/chinese_roberta_wwm_large_ext_pytorch', reduction='mean', seed=209, span_layer=True, theta=1, train_batch=4, train_path='./datasets/OntoNotes4.0/mrc-ner.train', train_span_method='mix', warmup_ratio=0.1, weight_decay=0.01)\n"
     ]
    },
    {
     "name": "stderr",
     "output_type": "stream",
     "text": [
      "checkpoint_2.cpt: 100%|██████████| 2898/2898 [04:14<00:00, 11.39it/s]\n"
     ]
    },
    {
     "name": "stdout",
     "output_type": "stream",
     "text": [
      "model checkpoint_2.cpt test dataset:\n",
      "precision:0.7829 recall:0.6912 f1:0.7342\n",
      "/home/wangnan/mrc4ner/checkpoints/2020_09_01_06_30_06/checkpoint_3.cpt \n",
      " Namespace(allow_impossible=True, alpha=1, beta=1, cls=True, cpu=False, debug=False, dev_batch=10, dev_path='./datasets/OntoNotes4.0/mrc-ner.dev', dropout_prob=0.1, epochs=10, eval=False, gamma=1, local_rank=0, log_steps=20, lr=2e-05, max_tokens=450, not_store=False, pretrained_model_name_or_path='./pretrained_models/chinese_roberta_wwm_large_ext_pytorch', reduction='mean', seed=209, span_layer=True, theta=1, train_batch=4, train_path='./datasets/OntoNotes4.0/mrc-ner.train', train_span_method='mix', warmup_ratio=0.1, weight_decay=0.01)\n"
     ]
    },
    {
     "name": "stderr",
     "output_type": "stream",
     "text": [
      "checkpoint_3.cpt: 100%|██████████| 2898/2898 [04:14<00:00, 11.38it/s]\n"
     ]
    },
    {
     "name": "stdout",
     "output_type": "stream",
     "text": [
      "model checkpoint_3.cpt test dataset:\n",
      "precision:0.8308 recall:0.7007 f1:0.7602\n",
      "/home/wangnan/mrc4ner/checkpoints/2020_09_01_06_30_06/checkpoint_4.cpt \n",
      " Namespace(allow_impossible=True, alpha=1, beta=1, cls=True, cpu=False, debug=False, dev_batch=10, dev_path='./datasets/OntoNotes4.0/mrc-ner.dev', dropout_prob=0.1, epochs=10, eval=False, gamma=1, local_rank=0, log_steps=20, lr=2e-05, max_tokens=450, not_store=False, pretrained_model_name_or_path='./pretrained_models/chinese_roberta_wwm_large_ext_pytorch', reduction='mean', seed=209, span_layer=True, theta=1, train_batch=4, train_path='./datasets/OntoNotes4.0/mrc-ner.train', train_span_method='mix', warmup_ratio=0.1, weight_decay=0.01)\n"
     ]
    },
    {
     "name": "stderr",
     "output_type": "stream",
     "text": [
      "checkpoint_4.cpt: 100%|██████████| 2898/2898 [04:14<00:00, 11.38it/s]\n"
     ]
    },
    {
     "name": "stdout",
     "output_type": "stream",
     "text": [
      "model checkpoint_4.cpt test dataset:\n",
      "precision:0.8144 recall:0.7493 f1:0.7805\n",
      "/home/wangnan/mrc4ner/checkpoints/2020_09_01_06_30_06/checkpoint_5.cpt \n",
      " Namespace(allow_impossible=True, alpha=1, beta=1, cls=True, cpu=False, debug=False, dev_batch=10, dev_path='./datasets/OntoNotes4.0/mrc-ner.dev', dropout_prob=0.1, epochs=10, eval=False, gamma=1, local_rank=0, log_steps=20, lr=2e-05, max_tokens=450, not_store=False, pretrained_model_name_or_path='./pretrained_models/chinese_roberta_wwm_large_ext_pytorch', reduction='mean', seed=209, span_layer=True, theta=1, train_batch=4, train_path='./datasets/OntoNotes4.0/mrc-ner.train', train_span_method='mix', warmup_ratio=0.1, weight_decay=0.01)\n"
     ]
    },
    {
     "name": "stderr",
     "output_type": "stream",
     "text": [
      "checkpoint_5.cpt: 100%|██████████| 2898/2898 [04:15<00:00, 11.34it/s]\n"
     ]
    },
    {
     "name": "stdout",
     "output_type": "stream",
     "text": [
      "model checkpoint_5.cpt test dataset:\n",
      "precision:0.8293 recall:0.7100 f1:0.7650\n",
      "/home/wangnan/mrc4ner/checkpoints/2020_09_01_06_30_06/checkpoint_6.cpt \n",
      " Namespace(allow_impossible=True, alpha=1, beta=1, cls=True, cpu=False, debug=False, dev_batch=10, dev_path='./datasets/OntoNotes4.0/mrc-ner.dev', dropout_prob=0.1, epochs=10, eval=False, gamma=1, local_rank=0, log_steps=20, lr=2e-05, max_tokens=450, not_store=False, pretrained_model_name_or_path='./pretrained_models/chinese_roberta_wwm_large_ext_pytorch', reduction='mean', seed=209, span_layer=True, theta=1, train_batch=4, train_path='./datasets/OntoNotes4.0/mrc-ner.train', train_span_method='mix', warmup_ratio=0.1, weight_decay=0.01)\n"
     ]
    },
    {
     "name": "stderr",
     "output_type": "stream",
     "text": [
      "checkpoint_6.cpt: 100%|██████████| 2898/2898 [04:14<00:00, 11.38it/s]\n"
     ]
    },
    {
     "name": "stdout",
     "output_type": "stream",
     "text": [
      "model checkpoint_6.cpt test dataset:\n",
      "precision:0.8213 recall:0.7267 f1:0.7711\n",
      "/home/wangnan/mrc4ner/checkpoints/2020_09_01_06_30_06/checkpoint_7.cpt \n",
      " Namespace(allow_impossible=True, alpha=1, beta=1, cls=True, cpu=False, debug=False, dev_batch=10, dev_path='./datasets/OntoNotes4.0/mrc-ner.dev', dropout_prob=0.1, epochs=10, eval=False, gamma=1, local_rank=0, log_steps=20, lr=2e-05, max_tokens=450, not_store=False, pretrained_model_name_or_path='./pretrained_models/chinese_roberta_wwm_large_ext_pytorch', reduction='mean', seed=209, span_layer=True, theta=1, train_batch=4, train_path='./datasets/OntoNotes4.0/mrc-ner.train', train_span_method='mix', warmup_ratio=0.1, weight_decay=0.01)\n"
     ]
    },
    {
     "name": "stderr",
     "output_type": "stream",
     "text": [
      "checkpoint_7.cpt: 100%|██████████| 2898/2898 [04:16<00:00, 11.31it/s]\n"
     ]
    },
    {
     "name": "stdout",
     "output_type": "stream",
     "text": [
      "model checkpoint_7.cpt test dataset:\n",
      "precision:0.8070 recall:0.7580 f1:0.7818\n",
      "/home/wangnan/mrc4ner/checkpoints/2020_09_01_06_30_06/checkpoint_8.cpt \n",
      " Namespace(allow_impossible=True, alpha=1, beta=1, cls=True, cpu=False, debug=False, dev_batch=10, dev_path='./datasets/OntoNotes4.0/mrc-ner.dev', dropout_prob=0.1, epochs=10, eval=False, gamma=1, local_rank=0, log_steps=20, lr=2e-05, max_tokens=450, not_store=False, pretrained_model_name_or_path='./pretrained_models/chinese_roberta_wwm_large_ext_pytorch', reduction='mean', seed=209, span_layer=True, theta=1, train_batch=4, train_path='./datasets/OntoNotes4.0/mrc-ner.train', train_span_method='mix', warmup_ratio=0.1, weight_decay=0.01)\n"
     ]
    },
    {
     "name": "stderr",
     "output_type": "stream",
     "text": [
      "checkpoint_8.cpt: 100%|██████████| 2898/2898 [04:15<00:00, 11.35it/s]\n"
     ]
    },
    {
     "name": "stdout",
     "output_type": "stream",
     "text": [
      "model checkpoint_8.cpt test dataset:\n",
      "precision:0.8331 recall:0.7544 f1:0.7918\n",
      "/home/wangnan/mrc4ner/checkpoints/2020_09_01_06_30_06/checkpoint_9.cpt \n",
      " Namespace(allow_impossible=True, alpha=1, beta=1, cls=True, cpu=False, debug=False, dev_batch=10, dev_path='./datasets/OntoNotes4.0/mrc-ner.dev', dropout_prob=0.1, epochs=10, eval=False, gamma=1, local_rank=0, log_steps=20, lr=2e-05, max_tokens=450, not_store=False, pretrained_model_name_or_path='./pretrained_models/chinese_roberta_wwm_large_ext_pytorch', reduction='mean', seed=209, span_layer=True, theta=1, train_batch=4, train_path='./datasets/OntoNotes4.0/mrc-ner.train', train_span_method='mix', warmup_ratio=0.1, weight_decay=0.01)\n"
     ]
    },
    {
     "name": "stderr",
     "output_type": "stream",
     "text": [
      "checkpoint_9.cpt: 100%|██████████| 2898/2898 [04:16<00:00, 11.30it/s]\n"
     ]
    },
    {
     "name": "stdout",
     "output_type": "stream",
     "text": [
      "model checkpoint_9.cpt test dataset:\n",
      "precision:0.8250 recall:0.7571 f1:0.7896\n",
      "[('checkpoint_0.cpt', 0.788117394228557, 0.43131365886245576, 0.5575149448568627), ('checkpoint_1.cpt', 0.7433885865186146, 0.7671715851701264, 0.7550923603832442), ('checkpoint_2.cpt', 0.7828723560445389, 0.6911726298392304, 0.7341696939411562), ('checkpoint_3.cpt', 0.8307787581930981, 0.7007051448549614, 0.7602176801658644), ('checkpoint_4.cpt', 0.8143627588966275, 0.7492817967159464, 0.7804674006515155), ('checkpoint_5.cpt', 0.8293166563713672, 0.7099764950757408, 0.7650199053182168), ('checkpoint_6.cpt', 0.8212809916143328, 0.7266910419526389, 0.7710955250388026), ('checkpoint_7.cpt', 0.8070346168765418, 0.7580308173468228, 0.7817650380594586), ('checkpoint_8.cpt', 0.833141044010219, 0.7543745102175013, 0.791803229192849), ('checkpoint_9.cpt', 0.824985771083525, 0.7571167405644924, 0.7895950339737376)]\n"
     ]
    }
   ],
   "source": [
    "base_dir = '/home/wangnan/mrc4ner/checkpoints/'\n",
    "base_model_dir = '2020_09_01_06_30_06'\n",
    "model_dir = base_dir+base_model_dir+'/'\n",
    "args = pickle.load(open(model_dir+'args','rb'))\n",
    "files = os.listdir(base_dir+base_model_dir)\n",
    "files.remove('args')\n",
    "files = sorted(files)\n",
    "scores = []\n",
    "for file in files:\n",
    "    s = test(model_dir,file,6,args)\n",
    "    scores.append(s)\n",
    "print(scores)"
   ]
  },
  {
   "cell_type": "code",
   "execution_count": 9,
   "metadata": {},
   "outputs": [],
   "source": [
    "model_id = '2020_09_01_06_30_06'\n",
    "scores = [('checkpoint_0.cpt', 0.788117394228557, 0.43131365886245576, 0.5575149448568627), ('checkpoint_1.cpt', 0.7433885865186146, 0.7671715851701264, 0.7550923603832442), ('checkpoint_2.cpt', 0.7828723560445389, 0.6911726298392304, 0.7341696939411562), ('checkpoint_3.cpt', 0.8307787581930981, 0.7007051448549614, 0.7602176801658644), ('checkpoint_4.cpt', 0.8143627588966275, 0.7492817967159464, 0.7804674006515155), ('checkpoint_5.cpt', 0.8293166563713672, 0.7099764950757408, 0.7650199053182168), ('checkpoint_6.cpt', 0.8212809916143328, 0.7266910419526389, 0.7710955250388026), ('checkpoint_7.cpt', 0.8070346168765418, 0.7580308173468228, 0.7817650380594586), ('checkpoint_8.cpt', 0.833141044010219, 0.7543745102175013, 0.791803229192849), ('checkpoint_9.cpt', 0.824985771083525, 0.7571167405644924, 0.7895950339737376)]\n",
    "scores1 = []\n",
    "for i,s in enumerate(scores):\n",
    "    scores1.append((model_id+\"_\"+str(i),s[1],s[2],s[3]))\n",
    "import pickle\n",
    "import json\n",
    "args = pickle.load(open('/home/wangnan/mrc4ner/checkpoints/'+model_id+'/args','rb'))\n",
    "args = vars(args)\n",
    "with open(\"/home/wangnan/mrc4ner/checkpoints/pre_results.json\") as f:\n",
    "    pre = json.load(f)\n",
    "pre['args']+=[args]*len(scores1)\n",
    "pre['scores']+=scores1\n",
    "with open(\"/home/wangnan/mrc4ner/checkpoints/pre_results.json\",'w') as f:\n",
    "    json.dump(pre,f)"
   ]
  },
  {
   "cell_type": "code",
   "execution_count": null,
   "metadata": {},
   "outputs": [],
   "source": []
  },
  {
   "cell_type": "code",
   "execution_count": null,
   "metadata": {},
   "outputs": [],
   "source": []
  },
  {
   "cell_type": "code",
   "execution_count": null,
   "metadata": {},
   "outputs": [],
   "source": []
  },
  {
   "cell_type": "code",
   "execution_count": null,
   "metadata": {},
   "outputs": [],
   "source": []
  },
  {
   "cell_type": "code",
   "execution_count": null,
   "metadata": {},
   "outputs": [],
   "source": []
  },
  {
   "cell_type": "code",
   "execution_count": 4,
   "metadata": {},
   "outputs": [],
   "source": [
    "base_dir = '/home/wangnan/mrc4ner/checkpoints'\n",
    "dirs = os.listdir(base_dir)\n",
    "dirs1 = []\n",
    "for dir in dirs:\n",
    "    if dir.startswith('2020') and not dir.endswith('cpt'):\n",
    "        dirs1.append(dir)\n",
    "dirs1 = sorted(dirs1)"
   ]
  },
  {
   "cell_type": "code",
   "execution_count": 6,
   "metadata": {},
   "outputs": [
    {
     "name": "stdout",
     "output_type": "stream",
     "text": [
      "/home/wangnan/mrc4ner/checkpoints/2020_08_30_21_43_20/checkpoint_0.cpt \n",
      " Namespace(allow_impossible=True, alpha=1, beta=1, cls=True, cpu=False, debug=False, dev_batch=10, dev_path='./datasets/OntoNotes4.0/mrc-ner.dev', dropout_prob=0.1, epochs=10, eval=False, gamma=1, local_rank=1, log_steps=20, lr=2e-05, max_tokens=512, not_store=False, pretrained_model_name_or_path='./pretrained_models/chinese_roberta_wwm_large_ext_pytorch', reduction='mean', seed=209, span_layer=True, theta=1, train_batch=4, train_path='./datasets/OntoNotes4.0/mrc-ner.train', train_span_method='mix', warmup_ratio=0.1, weight_decay=0.01)\n"
     ]
    },
    {
     "name": "stderr",
     "output_type": "stream",
     "text": [
      "checkpoint_0.cpt: 100%|██████████| 2898/2898 [04:30<00:00, 10.69it/s]\n"
     ]
    },
    {
     "name": "stdout",
     "output_type": "stream",
     "text": [
      "model checkpoint_0.cpt test dataset:\n",
      "precision:0.7726 recall:0.4617 f1:0.5780\n",
      "/home/wangnan/mrc4ner/checkpoints/2020_08_30_21_43_20/checkpoint_1.cpt \n",
      " Namespace(allow_impossible=True, alpha=1, beta=1, cls=True, cpu=False, debug=False, dev_batch=10, dev_path='./datasets/OntoNotes4.0/mrc-ner.dev', dropout_prob=0.1, epochs=10, eval=False, gamma=1, local_rank=1, log_steps=20, lr=2e-05, max_tokens=512, not_store=False, pretrained_model_name_or_path='./pretrained_models/chinese_roberta_wwm_large_ext_pytorch', reduction='mean', seed=209, span_layer=True, theta=1, train_batch=4, train_path='./datasets/OntoNotes4.0/mrc-ner.train', train_span_method='mix', warmup_ratio=0.1, weight_decay=0.01)\n"
     ]
    },
    {
     "name": "stderr",
     "output_type": "stream",
     "text": [
      "checkpoint_1.cpt: 100%|██████████| 2898/2898 [04:29<00:00, 10.76it/s]\n"
     ]
    },
    {
     "name": "stdout",
     "output_type": "stream",
     "text": [
      "model checkpoint_1.cpt test dataset:\n",
      "precision:0.6615 recall:0.6481 f1:0.6547\n",
      "/home/wangnan/mrc4ner/checkpoints/2020_08_30_21_43_20/checkpoint_2.cpt \n",
      " Namespace(allow_impossible=True, alpha=1, beta=1, cls=True, cpu=False, debug=False, dev_batch=10, dev_path='./datasets/OntoNotes4.0/mrc-ner.dev', dropout_prob=0.1, epochs=10, eval=False, gamma=1, local_rank=1, log_steps=20, lr=2e-05, max_tokens=512, not_store=False, pretrained_model_name_or_path='./pretrained_models/chinese_roberta_wwm_large_ext_pytorch', reduction='mean', seed=209, span_layer=True, theta=1, train_batch=4, train_path='./datasets/OntoNotes4.0/mrc-ner.train', train_span_method='mix', warmup_ratio=0.1, weight_decay=0.01)\n"
     ]
    },
    {
     "name": "stderr",
     "output_type": "stream",
     "text": [
      "checkpoint_2.cpt: 100%|██████████| 2898/2898 [04:25<00:00, 10.91it/s]\n"
     ]
    },
    {
     "name": "stdout",
     "output_type": "stream",
     "text": [
      "model checkpoint_2.cpt test dataset:\n",
      "precision:0.8177 recall:0.7057 f1:0.7576\n",
      "/home/wangnan/mrc4ner/checkpoints/2020_08_30_21_43_20/checkpoint_3.cpt \n",
      " Namespace(allow_impossible=True, alpha=1, beta=1, cls=True, cpu=False, debug=False, dev_batch=10, dev_path='./datasets/OntoNotes4.0/mrc-ner.dev', dropout_prob=0.1, epochs=10, eval=False, gamma=1, local_rank=1, log_steps=20, lr=2e-05, max_tokens=512, not_store=False, pretrained_model_name_or_path='./pretrained_models/chinese_roberta_wwm_large_ext_pytorch', reduction='mean', seed=209, span_layer=True, theta=1, train_batch=4, train_path='./datasets/OntoNotes4.0/mrc-ner.train', train_span_method='mix', warmup_ratio=0.1, weight_decay=0.01)\n"
     ]
    },
    {
     "name": "stderr",
     "output_type": "stream",
     "text": [
      "checkpoint_3.cpt: 100%|██████████| 2898/2898 [04:12<00:00, 11.50it/s]\n"
     ]
    },
    {
     "name": "stdout",
     "output_type": "stream",
     "text": [
      "model checkpoint_3.cpt test dataset:\n",
      "precision:0.8279 recall:0.6673 f1:0.7390\n",
      "/home/wangnan/mrc4ner/checkpoints/2020_08_30_21_43_20/checkpoint_4.cpt \n",
      " Namespace(allow_impossible=True, alpha=1, beta=1, cls=True, cpu=False, debug=False, dev_batch=10, dev_path='./datasets/OntoNotes4.0/mrc-ner.dev', dropout_prob=0.1, epochs=10, eval=False, gamma=1, local_rank=1, log_steps=20, lr=2e-05, max_tokens=512, not_store=False, pretrained_model_name_or_path='./pretrained_models/chinese_roberta_wwm_large_ext_pytorch', reduction='mean', seed=209, span_layer=True, theta=1, train_batch=4, train_path='./datasets/OntoNotes4.0/mrc-ner.train', train_span_method='mix', warmup_ratio=0.1, weight_decay=0.01)\n"
     ]
    },
    {
     "name": "stderr",
     "output_type": "stream",
     "text": [
      "checkpoint_4.cpt: 100%|██████████| 2898/2898 [04:13<00:00, 11.44it/s]\n"
     ]
    },
    {
     "name": "stdout",
     "output_type": "stream",
     "text": [
      "model checkpoint_4.cpt test dataset:\n",
      "precision:0.7393 recall:0.7622 f1:0.7506\n",
      "/home/wangnan/mrc4ner/checkpoints/2020_08_30_21_43_20/checkpoint_5.cpt \n",
      " Namespace(allow_impossible=True, alpha=1, beta=1, cls=True, cpu=False, debug=False, dev_batch=10, dev_path='./datasets/OntoNotes4.0/mrc-ner.dev', dropout_prob=0.1, epochs=10, eval=False, gamma=1, local_rank=1, log_steps=20, lr=2e-05, max_tokens=512, not_store=False, pretrained_model_name_or_path='./pretrained_models/chinese_roberta_wwm_large_ext_pytorch', reduction='mean', seed=209, span_layer=True, theta=1, train_batch=4, train_path='./datasets/OntoNotes4.0/mrc-ner.train', train_span_method='mix', warmup_ratio=0.1, weight_decay=0.01)\n"
     ]
    },
    {
     "name": "stderr",
     "output_type": "stream",
     "text": [
      "checkpoint_5.cpt: 100%|██████████| 2898/2898 [04:13<00:00, 11.43it/s]"
     ]
    },
    {
     "name": "stdout",
     "output_type": "stream",
     "text": [
      "model checkpoint_5.cpt test dataset:\n",
      "precision:0.7996 recall:0.7670 f1:0.7830\n",
      "[('checkpoint_0.cpt', 0.772558444227101, 0.4617393574743093, 0.578013426176959), ('checkpoint_1.cpt', 0.6614687457468388, 0.6480804386722276, 0.6547056539139045), ('checkpoint_2.cpt', 0.817672870204619, 0.7056672759590406, 0.7575518962328526), ('checkpoint_3.cpt', 0.827932598699298, 0.6672760511011653, 0.7389727522313937), ('checkpoint_4.cpt', 0.7393286889500533, 0.7622094540660473, 0.7505942405844349), ('checkpoint_5.cpt', 0.7996188400762838, 0.7670410027726506, 0.7829907024581938)]\n"
     ]
    },
    {
     "name": "stderr",
     "output_type": "stream",
     "text": [
      "\n"
     ]
    }
   ],
   "source": [
    "scores = []\n",
    "for dir in dirs1[-2:-1]:\n",
    "    dir = base_dir+'/'+dir+'/'\n",
    "    files = os.listdir(dir)\n",
    "    files = sorted(files)\n",
    "    files = [file for file in files if file.startswith(\"checkpoint\")]\n",
    "    for file in files:\n",
    "        s = test(dir,file,6)\n",
    "        scores.append(s)\n",
    "print(scores)"
   ]
  },
  {
   "cell_type": "code",
   "execution_count": null,
   "metadata": {},
   "outputs": [],
   "source": [
    "scores = [('checkpoint_0.cpt', 0.772558444227101, 0.4617393574743093, 0.578013426176959), ('checkpoint_1.cpt', 0.6614687457468388, 0.6480804386722276, 0.6547056539139045), ('checkpoint_2.cpt', 0.817672870204619, 0.7056672759590406, 0.7575518962328526), ('checkpoint_3.cpt', 0.827932598699298, 0.6672760511011653, 0.7389727522313937), ('checkpoint_4.cpt', 0.7393286889500533, 0.7622094540660473, 0.7505942405844349), ('checkpoint_5.cpt', 0.7996188400762838, 0.7670410027726506, 0.7829907024581938)]"
   ]
  },
  {
   "cell_type": "code",
   "execution_count": 26,
   "metadata": {},
   "outputs": [
    {
     "data": {
      "text/plain": [
       "'2020_08_30_21_43_20'"
      ]
     },
     "execution_count": 26,
     "metadata": {},
     "output_type": "execute_result"
    }
   ],
   "source": [
    "dirs1[6]"
   ]
  },
  {
   "cell_type": "code",
   "execution_count": 45,
   "metadata": {},
   "outputs": [],
   "source": [
    "models = []\n",
    "for dir0 in dirs1[6:7]:\n",
    "    dir = base_dir+'/'+dir0+'/'\n",
    "    files = os.listdir(dir)\n",
    "    files.remove('args')\n",
    "    files = sorted(files)\n",
    "    for file in files:\n",
    "        models.append(dir0+file[-6:])"
   ]
  },
  {
   "cell_type": "code",
   "execution_count": 50,
   "metadata": {},
   "outputs": [
    {
     "data": {
      "text/plain": [
       "['2020_08_30_21_43_20_0.cpt',\n",
       " '2020_08_30_21_43_20_1.cpt',\n",
       " '2020_08_30_21_43_20_2.cpt',\n",
       " '2020_08_30_21_43_20_3.cpt',\n",
       " '2020_08_30_21_43_20_4.cpt',\n",
       " '2020_08_30_21_43_20_5.cpt']"
      ]
     },
     "execution_count": 50,
     "metadata": {},
     "output_type": "execute_result"
    }
   ],
   "source": [
    "models"
   ]
  },
  {
   "cell_type": "code",
   "execution_count": 47,
   "metadata": {},
   "outputs": [],
   "source": [
    "scores1 = []\n",
    "for i in range(len(models)):\n",
    "    scores1.append((models[i],scores[i][1],scores[i][2],scores[i][3]))"
   ]
  },
  {
   "cell_type": "code",
   "execution_count": 52,
   "metadata": {},
   "outputs": [],
   "source": [
    "import torch\n",
    "args = pickle.load(open('/home/wangnan/mrc4ner/checkpoints/'+'2020_08_30_21_43_20'+'/args','rb'))"
   ]
  },
  {
   "cell_type": "code",
   "execution_count": 54,
   "metadata": {},
   "outputs": [],
   "source": [
    "args=vars(args)"
   ]
  },
  {
   "cell_type": "code",
   "execution_count": 56,
   "metadata": {},
   "outputs": [],
   "source": [
    "import json\n",
    "with open('/home/wangnan/mrc4ner/checkpoints/pre_results.json') as f:\n",
    "    pre = json.load(f)\n",
    "pre['args']+=[args]*len(scores1)\n",
    "pre['scores']+=scores1"
   ]
  },
  {
   "cell_type": "code",
   "execution_count": 57,
   "metadata": {},
   "outputs": [],
   "source": [
    "with open('/home/wangnan/mrc4ner/checkpoints/pre_results.json','w') as f:\n",
    "    json.dump(pre,f)"
   ]
  },
  {
   "cell_type": "code",
   "execution_count": 58,
   "metadata": {},
   "outputs": [
    {
     "data": {
      "text/plain": [
       "[{'train_path': './datasets/OntoNotes4.0/mrc-ner.train',\n",
       "  'dev_path': './datasets/OntoNotes4.0/mrc-ner.dev',\n",
       "  'pretrained_model_name_or_path': './pretrained_models/chinese_roberta_wwm_large_ext_pytorch',\n",
       "  'train_batch': 4,\n",
       "  'max_tokens': 512,\n",
       "  'dev_batch': 10,\n",
       "  'epochs': 10,\n",
       "  'train_span_method': 'mix',\n",
       "  'warmup_ratio': 0.1,\n",
       "  'lr': 2e-05,\n",
       "  'weight_decay': 0.01,\n",
       "  'dropout_prob': 0.1,\n",
       "  'alpha': 1,\n",
       "  'beta': 1,\n",
       "  'gamma': 1,\n",
       "  'theta': 1,\n",
       "  'cls': True,\n",
       "  'reduction': 'mean',\n",
       "  'cpu': False,\n",
       "  'debug': False,\n",
       "  'log_steps': 20,\n",
       "  'local_rank': 1,\n",
       "  'allow_impossible': False,\n",
       "  'eval': False,\n",
       "  'seed': 209,\n",
       "  'not_store': False,\n",
       "  'span_layer': True},\n",
       " {'train_path': './datasets/OntoNotes4.0/mrc-ner.train',\n",
       "  'dev_path': './datasets/OntoNotes4.0/mrc-ner.dev',\n",
       "  'pretrained_model_name_or_path': './pretrained_models/chinese_roberta_wwm_large_ext_pytorch',\n",
       "  'train_batch': 4,\n",
       "  'max_tokens': 512,\n",
       "  'dev_batch': 10,\n",
       "  'epochs': 10,\n",
       "  'train_span_method': 'mix',\n",
       "  'warmup_ratio': 0.1,\n",
       "  'lr': 2e-05,\n",
       "  'weight_decay': 0.01,\n",
       "  'dropout_prob': 0.1,\n",
       "  'alpha': 1,\n",
       "  'beta': 1,\n",
       "  'gamma': 1,\n",
       "  'theta': 1,\n",
       "  'cls': True,\n",
       "  'reduction': 'mean',\n",
       "  'cpu': False,\n",
       "  'debug': False,\n",
       "  'log_steps': 20,\n",
       "  'local_rank': 1,\n",
       "  'allow_impossible': True,\n",
       "  'eval': False,\n",
       "  'seed': 209,\n",
       "  'not_store': False,\n",
       "  'span_layer': True},\n",
       " {'train_path': './datasets/OntoNotes4.0/mrc-ner.train',\n",
       "  'dev_path': './datasets/OntoNotes4.0/mrc-ner.dev',\n",
       "  'pretrained_model_name_or_path': './pretrained_models/chinese_roberta_wwm_large_ext_pytorch',\n",
       "  'train_batch': 4,\n",
       "  'max_tokens': 512,\n",
       "  'dev_batch': 10,\n",
       "  'epochs': 10,\n",
       "  'train_span_method': 'mix',\n",
       "  'warmup_ratio': 0.1,\n",
       "  'lr': 2e-05,\n",
       "  'weight_decay': 0.01,\n",
       "  'dropout_prob': 0.1,\n",
       "  'alpha': 1,\n",
       "  'beta': 1,\n",
       "  'gamma': 1,\n",
       "  'theta': 1,\n",
       "  'cls': True,\n",
       "  'reduction': 'mean',\n",
       "  'cpu': False,\n",
       "  'debug': False,\n",
       "  'log_steps': 20,\n",
       "  'local_rank': 1,\n",
       "  'allow_impossible': True,\n",
       "  'eval': False,\n",
       "  'seed': 209,\n",
       "  'not_store': False,\n",
       "  'span_layer': True},\n",
       " {'train_path': './datasets/OntoNotes4.0/mrc-ner.train',\n",
       "  'dev_path': './datasets/OntoNotes4.0/mrc-ner.dev',\n",
       "  'pretrained_model_name_or_path': './pretrained_models/chinese_roberta_wwm_large_ext_pytorch',\n",
       "  'train_batch': 4,\n",
       "  'max_tokens': 512,\n",
       "  'dev_batch': 10,\n",
       "  'epochs': 10,\n",
       "  'train_span_method': 'mix',\n",
       "  'warmup_ratio': 0.1,\n",
       "  'lr': 2e-05,\n",
       "  'weight_decay': 0.01,\n",
       "  'dropout_prob': 0.1,\n",
       "  'alpha': 1,\n",
       "  'beta': 1,\n",
       "  'gamma': 1,\n",
       "  'theta': 1,\n",
       "  'cls': True,\n",
       "  'reduction': 'mean',\n",
       "  'cpu': False,\n",
       "  'debug': False,\n",
       "  'log_steps': 20,\n",
       "  'local_rank': 1,\n",
       "  'allow_impossible': True,\n",
       "  'eval': False,\n",
       "  'seed': 209,\n",
       "  'not_store': False,\n",
       "  'span_layer': True},\n",
       " {'train_path': './datasets/OntoNotes4.0/mrc-ner.train',\n",
       "  'dev_path': './datasets/OntoNotes4.0/mrc-ner.dev',\n",
       "  'pretrained_model_name_or_path': './pretrained_models/chinese_roberta_wwm_large_ext_pytorch',\n",
       "  'train_batch': 4,\n",
       "  'max_tokens': 512,\n",
       "  'dev_batch': 10,\n",
       "  'epochs': 10,\n",
       "  'train_span_method': 'mix',\n",
       "  'warmup_ratio': 0.1,\n",
       "  'lr': 2e-05,\n",
       "  'weight_decay': 0.01,\n",
       "  'dropout_prob': 0.1,\n",
       "  'alpha': 1,\n",
       "  'beta': 1,\n",
       "  'gamma': 1,\n",
       "  'theta': 1,\n",
       "  'cls': True,\n",
       "  'reduction': 'mean',\n",
       "  'cpu': False,\n",
       "  'debug': False,\n",
       "  'log_steps': 20,\n",
       "  'local_rank': 1,\n",
       "  'allow_impossible': True,\n",
       "  'eval': False,\n",
       "  'seed': 209,\n",
       "  'not_store': False,\n",
       "  'span_layer': True},\n",
       " {'train_path': './datasets/OntoNotes4.0/mrc-ner.train',\n",
       "  'dev_path': './datasets/OntoNotes4.0/mrc-ner.dev',\n",
       "  'pretrained_model_name_or_path': './pretrained_models/chinese_roberta_wwm_large_ext_pytorch',\n",
       "  'train_batch': 4,\n",
       "  'max_tokens': 512,\n",
       "  'dev_batch': 10,\n",
       "  'epochs': 10,\n",
       "  'train_span_method': 'mix',\n",
       "  'warmup_ratio': 0.1,\n",
       "  'lr': 2e-05,\n",
       "  'weight_decay': 0.01,\n",
       "  'dropout_prob': 0.1,\n",
       "  'alpha': 1,\n",
       "  'beta': 1,\n",
       "  'gamma': 1,\n",
       "  'theta': 1,\n",
       "  'cls': True,\n",
       "  'reduction': 'mean',\n",
       "  'cpu': False,\n",
       "  'debug': False,\n",
       "  'log_steps': 20,\n",
       "  'local_rank': 1,\n",
       "  'allow_impossible': True,\n",
       "  'eval': False,\n",
       "  'seed': 209,\n",
       "  'not_store': False,\n",
       "  'span_layer': True},\n",
       " {'train_path': './datasets/OntoNotes4.0/mrc-ner.train',\n",
       "  'dev_path': './datasets/OntoNotes4.0/mrc-ner.dev',\n",
       "  'pretrained_model_name_or_path': './pretrained_models/chinese_roberta_wwm_large_ext_pytorch',\n",
       "  'train_batch': 4,\n",
       "  'max_tokens': 512,\n",
       "  'dev_batch': 10,\n",
       "  'epochs': 10,\n",
       "  'train_span_method': 'mix',\n",
       "  'warmup_ratio': 0.1,\n",
       "  'lr': 2e-05,\n",
       "  'weight_decay': 0.01,\n",
       "  'dropout_prob': 0.1,\n",
       "  'alpha': 1,\n",
       "  'beta': 1,\n",
       "  'gamma': 1,\n",
       "  'theta': 1,\n",
       "  'cls': True,\n",
       "  'reduction': 'mean',\n",
       "  'cpu': False,\n",
       "  'debug': False,\n",
       "  'log_steps': 20,\n",
       "  'local_rank': 1,\n",
       "  'allow_impossible': True,\n",
       "  'eval': False,\n",
       "  'seed': 209,\n",
       "  'not_store': False,\n",
       "  'span_layer': True}]"
      ]
     },
     "execution_count": 58,
     "metadata": {},
     "output_type": "execute_result"
    }
   ],
   "source": [
    "pre['args'][-7:]"
   ]
  },
  {
   "cell_type": "code",
   "execution_count": null,
   "metadata": {},
   "outputs": [],
   "source": []
  },
  {
   "cell_type": "code",
   "execution_count": null,
   "metadata": {},
   "outputs": [],
   "source": []
  },
  {
   "cell_type": "code",
   "execution_count": 8,
   "metadata": {},
   "outputs": [
    {
     "name": "stdout",
     "output_type": "stream",
     "text": [
      "/home/wangnan/mrc4ner/checkpoints/2020_08_30_15_40_35/checkpoint_0.cpt \n",
      " Namespace(allow_impossible=False, alpha=1, beta=1, cls=False, cpu=False, debug=False, dev_batch=10, dev_path='./datasets/OntoNotes4.0/mrc-ner.dev', dropout_prob=0.2, epochs=10, eval=False, gamma=1, local_rank=0, log_steps=20, lr=2e-05, max_tokens=512, not_store=False, pretrained_model_name_or_path='./pretrained_models/chinese_roberta_wwm_large_ext_pytorch', reduction='mean', seed=209, span_layer=False, theta=1, train_batch=4, train_path='./datasets/OntoNotes4.0/mrc-ner.train', train_span_method='mix', warmup_ratio=0.1, weight_decay=0.01)\n"
     ]
    },
    {
     "name": "stderr",
     "output_type": "stream",
     "text": [
      "checkpoint_0.cpt: 100%|██████████| 2868/2868 [02:46<00:00, 17.27it/s]\n",
      "checkpoint_0.cpt:   0%|          | 0/2898 [00:00<?, ?it/s]"
     ]
    },
    {
     "name": "stdout",
     "output_type": "stream",
     "text": [
      "model checkpoint_0.cpt develop dataset:\n",
      "precision:0.5006 recall:0.7918 f1:0.6134\n"
     ]
    },
    {
     "name": "stderr",
     "output_type": "stream",
     "text": [
      "checkpoint_0.cpt: 100%|██████████| 2898/2898 [03:00<00:00, 16.09it/s]\n"
     ]
    },
    {
     "name": "stdout",
     "output_type": "stream",
     "text": [
      "model checkpoint_0.cpt test dataset:\n",
      "precision:0.5163 recall:0.8066 f1:0.6296\n",
      "/home/wangnan/mrc4ner/checkpoints/2020_08_30_15_40_35/checkpoint_1.cpt \n",
      " Namespace(allow_impossible=False, alpha=1, beta=1, cls=False, cpu=False, debug=False, dev_batch=10, dev_path='./datasets/OntoNotes4.0/mrc-ner.dev', dropout_prob=0.2, epochs=10, eval=False, gamma=1, local_rank=0, log_steps=20, lr=2e-05, max_tokens=512, not_store=False, pretrained_model_name_or_path='./pretrained_models/chinese_roberta_wwm_large_ext_pytorch', reduction='mean', seed=209, span_layer=False, theta=1, train_batch=4, train_path='./datasets/OntoNotes4.0/mrc-ner.train', train_span_method='mix', warmup_ratio=0.1, weight_decay=0.01)\n"
     ]
    },
    {
     "name": "stderr",
     "output_type": "stream",
     "text": [
      "checkpoint_1.cpt: 100%|██████████| 2868/2868 [02:56<00:00, 16.21it/s]\n",
      "checkpoint_1.cpt:   0%|          | 0/2898 [00:00<?, ?it/s]"
     ]
    },
    {
     "name": "stdout",
     "output_type": "stream",
     "text": [
      "model checkpoint_1.cpt develop dataset:\n",
      "precision:0.4422 recall:0.8199 f1:0.5746\n"
     ]
    },
    {
     "name": "stderr",
     "output_type": "stream",
     "text": [
      "checkpoint_1.cpt: 100%|██████████| 2898/2898 [03:03<00:00, 15.82it/s]\n"
     ]
    },
    {
     "name": "stdout",
     "output_type": "stream",
     "text": [
      "model checkpoint_1.cpt test dataset:\n",
      "precision:0.4584 recall:0.8419 f1:0.5936\n",
      "/home/wangnan/mrc4ner/checkpoints/2020_08_30_15_40_35/checkpoint_2.cpt \n",
      " Namespace(allow_impossible=False, alpha=1, beta=1, cls=False, cpu=False, debug=False, dev_batch=10, dev_path='./datasets/OntoNotes4.0/mrc-ner.dev', dropout_prob=0.2, epochs=10, eval=False, gamma=1, local_rank=0, log_steps=20, lr=2e-05, max_tokens=512, not_store=False, pretrained_model_name_or_path='./pretrained_models/chinese_roberta_wwm_large_ext_pytorch', reduction='mean', seed=209, span_layer=False, theta=1, train_batch=4, train_path='./datasets/OntoNotes4.0/mrc-ner.train', train_span_method='mix', warmup_ratio=0.1, weight_decay=0.01)\n"
     ]
    },
    {
     "name": "stderr",
     "output_type": "stream",
     "text": [
      "checkpoint_2.cpt: 100%|██████████| 2868/2868 [03:00<00:00, 15.89it/s]\n",
      "checkpoint_2.cpt:   0%|          | 0/2898 [00:00<?, ?it/s]"
     ]
    },
    {
     "name": "stdout",
     "output_type": "stream",
     "text": [
      "model checkpoint_2.cpt develop dataset:\n",
      "precision:0.5702 recall:0.7921 f1:0.6631\n"
     ]
    },
    {
     "name": "stderr",
     "output_type": "stream",
     "text": [
      "checkpoint_2.cpt: 100%|██████████| 2898/2898 [03:01<00:00, 15.96it/s]\n"
     ]
    },
    {
     "name": "stdout",
     "output_type": "stream",
     "text": [
      "model checkpoint_2.cpt test dataset:\n",
      "precision:0.5791 recall:0.8127 f1:0.6763\n",
      "/home/wangnan/mrc4ner/checkpoints/2020_08_30_15_40_35/checkpoint_3.cpt \n",
      " Namespace(allow_impossible=False, alpha=1, beta=1, cls=False, cpu=False, debug=False, dev_batch=10, dev_path='./datasets/OntoNotes4.0/mrc-ner.dev', dropout_prob=0.2, epochs=10, eval=False, gamma=1, local_rank=0, log_steps=20, lr=2e-05, max_tokens=512, not_store=False, pretrained_model_name_or_path='./pretrained_models/chinese_roberta_wwm_large_ext_pytorch', reduction='mean', seed=209, span_layer=False, theta=1, train_batch=4, train_path='./datasets/OntoNotes4.0/mrc-ner.train', train_span_method='mix', warmup_ratio=0.1, weight_decay=0.01)\n"
     ]
    },
    {
     "name": "stderr",
     "output_type": "stream",
     "text": [
      "checkpoint_3.cpt: 100%|██████████| 2868/2868 [03:01<00:00, 15.81it/s]\n",
      "checkpoint_3.cpt:   0%|          | 0/2898 [00:00<?, ?it/s]"
     ]
    },
    {
     "name": "stdout",
     "output_type": "stream",
     "text": [
      "model checkpoint_3.cpt develop dataset:\n",
      "precision:0.5289 recall:0.7855 f1:0.6322\n"
     ]
    },
    {
     "name": "stderr",
     "output_type": "stream",
     "text": [
      "checkpoint_3.cpt: 100%|██████████| 2898/2898 [03:22<00:00, 14.32it/s]\n"
     ]
    },
    {
     "name": "stdout",
     "output_type": "stream",
     "text": [
      "model checkpoint_3.cpt test dataset:\n",
      "precision:0.5390 recall:0.8163 f1:0.6493\n",
      "/home/wangnan/mrc4ner/checkpoints/2020_08_30_15_40_35/checkpoint_4.cpt \n",
      " Namespace(allow_impossible=False, alpha=1, beta=1, cls=False, cpu=False, debug=False, dev_batch=10, dev_path='./datasets/OntoNotes4.0/mrc-ner.dev', dropout_prob=0.2, epochs=10, eval=False, gamma=1, local_rank=0, log_steps=20, lr=2e-05, max_tokens=512, not_store=False, pretrained_model_name_or_path='./pretrained_models/chinese_roberta_wwm_large_ext_pytorch', reduction='mean', seed=209, span_layer=False, theta=1, train_batch=4, train_path='./datasets/OntoNotes4.0/mrc-ner.train', train_span_method='mix', warmup_ratio=0.1, weight_decay=0.01)\n"
     ]
    },
    {
     "name": "stderr",
     "output_type": "stream",
     "text": [
      "checkpoint_4.cpt: 100%|██████████| 2868/2868 [03:17<00:00, 14.54it/s]\n",
      "checkpoint_4.cpt:   0%|          | 0/2898 [00:00<?, ?it/s]"
     ]
    },
    {
     "name": "stdout",
     "output_type": "stream",
     "text": [
      "model checkpoint_4.cpt develop dataset:\n",
      "precision:0.5115 recall:0.8346 f1:0.6343\n"
     ]
    },
    {
     "name": "stderr",
     "output_type": "stream",
     "text": [
      "checkpoint_4.cpt: 100%|██████████| 2898/2898 [03:23<00:00, 14.23it/s]\n"
     ]
    },
    {
     "name": "stdout",
     "output_type": "stream",
     "text": [
      "model checkpoint_4.cpt test dataset:\n",
      "precision:0.5303 recall:0.8660 f1:0.6578\n",
      "/home/wangnan/mrc4ner/checkpoints/2020_08_30_15_40_35/checkpoint_5.cpt \n",
      " Namespace(allow_impossible=False, alpha=1, beta=1, cls=False, cpu=False, debug=False, dev_batch=10, dev_path='./datasets/OntoNotes4.0/mrc-ner.dev', dropout_prob=0.2, epochs=10, eval=False, gamma=1, local_rank=0, log_steps=20, lr=2e-05, max_tokens=512, not_store=False, pretrained_model_name_or_path='./pretrained_models/chinese_roberta_wwm_large_ext_pytorch', reduction='mean', seed=209, span_layer=False, theta=1, train_batch=4, train_path='./datasets/OntoNotes4.0/mrc-ner.train', train_span_method='mix', warmup_ratio=0.1, weight_decay=0.01)\n"
     ]
    },
    {
     "name": "stderr",
     "output_type": "stream",
     "text": [
      "checkpoint_5.cpt: 100%|██████████| 2868/2868 [03:15<00:00, 14.71it/s]\n",
      "checkpoint_5.cpt:   0%|          | 0/2898 [00:00<?, ?it/s]"
     ]
    },
    {
     "name": "stdout",
     "output_type": "stream",
     "text": [
      "model checkpoint_5.cpt develop dataset:\n",
      "precision:0.5271 recall:0.8282 f1:0.6442\n"
     ]
    },
    {
     "name": "stderr",
     "output_type": "stream",
     "text": [
      "checkpoint_5.cpt: 100%|██████████| 2898/2898 [03:24<00:00, 14.18it/s]\n"
     ]
    },
    {
     "name": "stdout",
     "output_type": "stream",
     "text": [
      "model checkpoint_5.cpt test dataset:\n",
      "precision:0.5445 recall:0.8565 f1:0.6658\n",
      "/home/wangnan/mrc4ner/checkpoints/2020_08_30_15_40_35/checkpoint_6.cpt \n",
      " Namespace(allow_impossible=False, alpha=1, beta=1, cls=False, cpu=False, debug=False, dev_batch=10, dev_path='./datasets/OntoNotes4.0/mrc-ner.dev', dropout_prob=0.2, epochs=10, eval=False, gamma=1, local_rank=0, log_steps=20, lr=2e-05, max_tokens=512, not_store=False, pretrained_model_name_or_path='./pretrained_models/chinese_roberta_wwm_large_ext_pytorch', reduction='mean', seed=209, span_layer=False, theta=1, train_batch=4, train_path='./datasets/OntoNotes4.0/mrc-ner.train', train_span_method='mix', warmup_ratio=0.1, weight_decay=0.01)\n"
     ]
    },
    {
     "name": "stderr",
     "output_type": "stream",
     "text": [
      "checkpoint_6.cpt: 100%|██████████| 2868/2868 [03:20<00:00, 14.33it/s]\n",
      "checkpoint_6.cpt:   0%|          | 0/2898 [00:00<?, ?it/s]"
     ]
    },
    {
     "name": "stdout",
     "output_type": "stream",
     "text": [
      "model checkpoint_6.cpt develop dataset:\n",
      "precision:0.4452 recall:0.8418 f1:0.5824\n"
     ]
    },
    {
     "name": "stderr",
     "output_type": "stream",
     "text": [
      "checkpoint_6.cpt: 100%|██████████| 2898/2898 [03:23<00:00, 14.26it/s]\n"
     ]
    },
    {
     "name": "stdout",
     "output_type": "stream",
     "text": [
      "model checkpoint_6.cpt test dataset:\n",
      "precision:0.4653 recall:0.8709 f1:0.6065\n",
      "/home/wangnan/mrc4ner/checkpoints/2020_08_30_15_40_35/checkpoint_7.cpt \n",
      " Namespace(allow_impossible=False, alpha=1, beta=1, cls=False, cpu=False, debug=False, dev_batch=10, dev_path='./datasets/OntoNotes4.0/mrc-ner.dev', dropout_prob=0.2, epochs=10, eval=False, gamma=1, local_rank=0, log_steps=20, lr=2e-05, max_tokens=512, not_store=False, pretrained_model_name_or_path='./pretrained_models/chinese_roberta_wwm_large_ext_pytorch', reduction='mean', seed=209, span_layer=False, theta=1, train_batch=4, train_path='./datasets/OntoNotes4.0/mrc-ner.train', train_span_method='mix', warmup_ratio=0.1, weight_decay=0.01)\n"
     ]
    },
    {
     "name": "stderr",
     "output_type": "stream",
     "text": [
      "checkpoint_7.cpt: 100%|██████████| 2868/2868 [03:17<00:00, 14.50it/s]\n",
      "checkpoint_7.cpt:   0%|          | 0/2898 [00:00<?, ?it/s]"
     ]
    },
    {
     "name": "stdout",
     "output_type": "stream",
     "text": [
      "model checkpoint_7.cpt develop dataset:\n",
      "precision:0.4467 recall:0.8425 f1:0.5838\n"
     ]
    },
    {
     "name": "stderr",
     "output_type": "stream",
     "text": [
      "checkpoint_7.cpt: 100%|██████████| 2898/2898 [03:23<00:00, 14.24it/s]\n"
     ]
    },
    {
     "name": "stdout",
     "output_type": "stream",
     "text": [
      "model checkpoint_7.cpt test dataset:\n",
      "precision:0.4674 recall:0.8715 f1:0.6084\n",
      "/home/wangnan/mrc4ner/checkpoints/2020_08_30_15_40_35/checkpoint_8.cpt \n",
      " Namespace(allow_impossible=False, alpha=1, beta=1, cls=False, cpu=False, debug=False, dev_batch=10, dev_path='./datasets/OntoNotes4.0/mrc-ner.dev', dropout_prob=0.2, epochs=10, eval=False, gamma=1, local_rank=0, log_steps=20, lr=2e-05, max_tokens=512, not_store=False, pretrained_model_name_or_path='./pretrained_models/chinese_roberta_wwm_large_ext_pytorch', reduction='mean', seed=209, span_layer=False, theta=1, train_batch=4, train_path='./datasets/OntoNotes4.0/mrc-ner.train', train_span_method='mix', warmup_ratio=0.1, weight_decay=0.01)\n"
     ]
    },
    {
     "name": "stderr",
     "output_type": "stream",
     "text": [
      "checkpoint_8.cpt: 100%|██████████| 2868/2868 [03:14<00:00, 14.78it/s]\n",
      "checkpoint_8.cpt:   0%|          | 0/2898 [00:00<?, ?it/s]"
     ]
    },
    {
     "name": "stdout",
     "output_type": "stream",
     "text": [
      "model checkpoint_8.cpt develop dataset:\n",
      "precision:0.4445 recall:0.8383 f1:0.5809\n"
     ]
    },
    {
     "name": "stderr",
     "output_type": "stream",
     "text": [
      "checkpoint_8.cpt: 100%|██████████| 2898/2898 [03:19<00:00, 14.55it/s]\n"
     ]
    },
    {
     "name": "stdout",
     "output_type": "stream",
     "text": [
      "model checkpoint_8.cpt test dataset:\n",
      "precision:0.4627 recall:0.8681 f1:0.6036\n",
      "/home/wangnan/mrc4ner/checkpoints/2020_08_30_15_40_35/checkpoint_9.cpt \n",
      " Namespace(allow_impossible=False, alpha=1, beta=1, cls=False, cpu=False, debug=False, dev_batch=10, dev_path='./datasets/OntoNotes4.0/mrc-ner.dev', dropout_prob=0.2, epochs=10, eval=False, gamma=1, local_rank=0, log_steps=20, lr=2e-05, max_tokens=512, not_store=False, pretrained_model_name_or_path='./pretrained_models/chinese_roberta_wwm_large_ext_pytorch', reduction='mean', seed=209, span_layer=False, theta=1, train_batch=4, train_path='./datasets/OntoNotes4.0/mrc-ner.train', train_span_method='mix', warmup_ratio=0.1, weight_decay=0.01)\n"
     ]
    },
    {
     "name": "stderr",
     "output_type": "stream",
     "text": [
      "checkpoint_9.cpt: 100%|██████████| 2868/2868 [03:25<00:00, 13.97it/s]\n",
      "checkpoint_9.cpt:   0%|          | 0/2898 [00:00<?, ?it/s]"
     ]
    },
    {
     "name": "stdout",
     "output_type": "stream",
     "text": [
      "model checkpoint_9.cpt develop dataset:\n",
      "precision:0.4430 recall:0.8421 f1:0.5806\n"
     ]
    },
    {
     "name": "stderr",
     "output_type": "stream",
     "text": [
      "checkpoint_9.cpt: 100%|██████████| 2898/2898 [03:24<00:00, 14.15it/s]\n"
     ]
    },
    {
     "name": "stdout",
     "output_type": "stream",
     "text": [
      "model checkpoint_9.cpt test dataset:\n",
      "precision:0.4588 recall:0.8714 f1:0.6011\n",
      "/home/wangnan/mrc4ner/checkpoints/2020_08_30_16_33_14/checkpoint_0.cpt \n",
      " Namespace(allow_impossible=False, alpha=1, beta=1, cls=False, cpu=False, debug=False, dev_batch=10, dev_path='./datasets/OntoNotes4.0/mrc-ner.dev', dropout_prob=0.1, epochs=10, eval=False, gamma=1, local_rank=0, log_steps=20, lr=2e-05, max_tokens=512, not_store=False, pretrained_model_name_or_path='./pretrained_models/chinese_roberta_wwm_large_ext_pytorch', reduction='mean', seed=209, span_layer=True, theta=1, train_batch=4, train_path='./datasets/OntoNotes4.0/mrc-ner.train', train_span_method='mix', warmup_ratio=0.1, weight_decay=0.01)\n"
     ]
    },
    {
     "name": "stderr",
     "output_type": "stream",
     "text": [
      "checkpoint_0.cpt: 100%|██████████| 2868/2868 [04:31<00:00, 10.56it/s]\n",
      "checkpoint_0.cpt:   0%|          | 0/2898 [00:00<?, ?it/s]"
     ]
    },
    {
     "name": "stdout",
     "output_type": "stream",
     "text": [
      "model checkpoint_0.cpt develop dataset:\n",
      "precision:0.5405 recall:0.7953 f1:0.6436\n"
     ]
    },
    {
     "name": "stderr",
     "output_type": "stream",
     "text": [
      "checkpoint_0.cpt: 100%|██████████| 2898/2898 [04:36<00:00, 10.46it/s]\n"
     ]
    },
    {
     "name": "stdout",
     "output_type": "stream",
     "text": [
      "model checkpoint_0.cpt test dataset:\n",
      "precision:0.5531 recall:0.8174 f1:0.6598\n",
      "/home/wangnan/mrc4ner/checkpoints/2020_08_30_16_33_14/checkpoint_1.cpt \n",
      " Namespace(allow_impossible=False, alpha=1, beta=1, cls=False, cpu=False, debug=False, dev_batch=10, dev_path='./datasets/OntoNotes4.0/mrc-ner.dev', dropout_prob=0.1, epochs=10, eval=False, gamma=1, local_rank=0, log_steps=20, lr=2e-05, max_tokens=512, not_store=False, pretrained_model_name_or_path='./pretrained_models/chinese_roberta_wwm_large_ext_pytorch', reduction='mean', seed=209, span_layer=True, theta=1, train_batch=4, train_path='./datasets/OntoNotes4.0/mrc-ner.train', train_span_method='mix', warmup_ratio=0.1, weight_decay=0.01)\n"
     ]
    },
    {
     "name": "stderr",
     "output_type": "stream",
     "text": [
      "checkpoint_1.cpt: 100%|██████████| 2868/2868 [04:19<00:00, 11.06it/s]\n",
      "checkpoint_1.cpt:   0%|          | 0/2898 [00:00<?, ?it/s]"
     ]
    },
    {
     "name": "stdout",
     "output_type": "stream",
     "text": [
      "model checkpoint_1.cpt develop dataset:\n",
      "precision:0.4680 recall:0.8507 f1:0.6039\n"
     ]
    },
    {
     "name": "stderr",
     "output_type": "stream",
     "text": [
      "checkpoint_1.cpt: 100%|██████████| 2898/2898 [04:26<00:00, 10.87it/s]\n"
     ]
    },
    {
     "name": "stdout",
     "output_type": "stream",
     "text": [
      "model checkpoint_1.cpt test dataset:\n",
      "precision:0.4837 recall:0.8682 f1:0.6213\n",
      "/home/wangnan/mrc4ner/checkpoints/2020_08_30_16_33_14/checkpoint_2.cpt \n",
      " Namespace(allow_impossible=False, alpha=1, beta=1, cls=False, cpu=False, debug=False, dev_batch=10, dev_path='./datasets/OntoNotes4.0/mrc-ner.dev', dropout_prob=0.1, epochs=10, eval=False, gamma=1, local_rank=0, log_steps=20, lr=2e-05, max_tokens=512, not_store=False, pretrained_model_name_or_path='./pretrained_models/chinese_roberta_wwm_large_ext_pytorch', reduction='mean', seed=209, span_layer=True, theta=1, train_batch=4, train_path='./datasets/OntoNotes4.0/mrc-ner.train', train_span_method='mix', warmup_ratio=0.1, weight_decay=0.01)\n"
     ]
    },
    {
     "name": "stderr",
     "output_type": "stream",
     "text": [
      "checkpoint_2.cpt: 100%|██████████| 2868/2868 [04:23<00:00, 10.90it/s]\n",
      "checkpoint_2.cpt:   0%|          | 0/2898 [00:00<?, ?it/s]"
     ]
    },
    {
     "name": "stdout",
     "output_type": "stream",
     "text": [
      "model checkpoint_2.cpt develop dataset:\n",
      "precision:0.4733 recall:0.8329 f1:0.6036\n"
     ]
    },
    {
     "name": "stderr",
     "output_type": "stream",
     "text": [
      "checkpoint_2.cpt: 100%|██████████| 2898/2898 [04:25<00:00, 10.93it/s]\n"
     ]
    },
    {
     "name": "stdout",
     "output_type": "stream",
     "text": [
      "model checkpoint_2.cpt test dataset:\n",
      "precision:0.4892 recall:0.8558 f1:0.6225\n",
      "/home/wangnan/mrc4ner/checkpoints/2020_08_30_16_33_14/checkpoint_3.cpt \n",
      " Namespace(allow_impossible=False, alpha=1, beta=1, cls=False, cpu=False, debug=False, dev_batch=10, dev_path='./datasets/OntoNotes4.0/mrc-ner.dev', dropout_prob=0.1, epochs=10, eval=False, gamma=1, local_rank=0, log_steps=20, lr=2e-05, max_tokens=512, not_store=False, pretrained_model_name_or_path='./pretrained_models/chinese_roberta_wwm_large_ext_pytorch', reduction='mean', seed=209, span_layer=True, theta=1, train_batch=4, train_path='./datasets/OntoNotes4.0/mrc-ner.train', train_span_method='mix', warmup_ratio=0.1, weight_decay=0.01)\n"
     ]
    },
    {
     "name": "stderr",
     "output_type": "stream",
     "text": [
      "checkpoint_3.cpt: 100%|██████████| 2868/2868 [04:23<00:00, 10.87it/s]\n",
      "checkpoint_3.cpt:   0%|          | 0/2898 [00:00<?, ?it/s]"
     ]
    },
    {
     "name": "stdout",
     "output_type": "stream",
     "text": [
      "model checkpoint_3.cpt develop dataset:\n",
      "precision:0.4925 recall:0.8388 f1:0.6206\n"
     ]
    },
    {
     "name": "stderr",
     "output_type": "stream",
     "text": [
      "checkpoint_3.cpt: 100%|██████████| 2898/2898 [04:28<00:00, 10.81it/s]\n"
     ]
    },
    {
     "name": "stdout",
     "output_type": "stream",
     "text": [
      "model checkpoint_3.cpt test dataset:\n",
      "precision:0.5123 recall:0.8615 f1:0.6425\n",
      "/home/wangnan/mrc4ner/checkpoints/2020_08_30_16_33_14/checkpoint_4.cpt \n",
      " Namespace(allow_impossible=False, alpha=1, beta=1, cls=False, cpu=False, debug=False, dev_batch=10, dev_path='./datasets/OntoNotes4.0/mrc-ner.dev', dropout_prob=0.1, epochs=10, eval=False, gamma=1, local_rank=0, log_steps=20, lr=2e-05, max_tokens=512, not_store=False, pretrained_model_name_or_path='./pretrained_models/chinese_roberta_wwm_large_ext_pytorch', reduction='mean', seed=209, span_layer=True, theta=1, train_batch=4, train_path='./datasets/OntoNotes4.0/mrc-ner.train', train_span_method='mix', warmup_ratio=0.1, weight_decay=0.01)\n"
     ]
    },
    {
     "name": "stderr",
     "output_type": "stream",
     "text": [
      "checkpoint_4.cpt: 100%|██████████| 2868/2868 [04:21<00:00, 10.96it/s]\n",
      "checkpoint_4.cpt:   0%|          | 0/2898 [00:00<?, ?it/s]"
     ]
    },
    {
     "name": "stdout",
     "output_type": "stream",
     "text": [
      "model checkpoint_4.cpt develop dataset:\n",
      "precision:0.5248 recall:0.8405 f1:0.6462\n"
     ]
    },
    {
     "name": "stderr",
     "output_type": "stream",
     "text": [
      "checkpoint_4.cpt: 100%|██████████| 2898/2898 [04:26<00:00, 10.88it/s]\n"
     ]
    },
    {
     "name": "stdout",
     "output_type": "stream",
     "text": [
      "model checkpoint_4.cpt test dataset:\n",
      "precision:0.5428 recall:0.8620 f1:0.6661\n",
      "/home/wangnan/mrc4ner/checkpoints/2020_08_30_16_33_14/checkpoint_5.cpt \n",
      " Namespace(allow_impossible=False, alpha=1, beta=1, cls=False, cpu=False, debug=False, dev_batch=10, dev_path='./datasets/OntoNotes4.0/mrc-ner.dev', dropout_prob=0.1, epochs=10, eval=False, gamma=1, local_rank=0, log_steps=20, lr=2e-05, max_tokens=512, not_store=False, pretrained_model_name_or_path='./pretrained_models/chinese_roberta_wwm_large_ext_pytorch', reduction='mean', seed=209, span_layer=True, theta=1, train_batch=4, train_path='./datasets/OntoNotes4.0/mrc-ner.train', train_span_method='mix', warmup_ratio=0.1, weight_decay=0.01)\n"
     ]
    },
    {
     "name": "stderr",
     "output_type": "stream",
     "text": [
      "checkpoint_5.cpt: 100%|██████████| 2868/2868 [04:19<00:00, 11.03it/s]\n",
      "checkpoint_5.cpt:   0%|          | 0/2898 [00:00<?, ?it/s]"
     ]
    },
    {
     "name": "stdout",
     "output_type": "stream",
     "text": [
      "model checkpoint_5.cpt develop dataset:\n",
      "precision:0.5242 recall:0.8434 f1:0.6465\n"
     ]
    },
    {
     "name": "stderr",
     "output_type": "stream",
     "text": [
      "checkpoint_5.cpt: 100%|██████████| 2898/2898 [04:27<00:00, 10.82it/s]\n"
     ]
    },
    {
     "name": "stdout",
     "output_type": "stream",
     "text": [
      "model checkpoint_5.cpt test dataset:\n",
      "precision:0.5427 recall:0.8648 f1:0.6669\n",
      "/home/wangnan/mrc4ner/checkpoints/2020_08_30_16_33_14/checkpoint_6.cpt \n",
      " Namespace(allow_impossible=False, alpha=1, beta=1, cls=False, cpu=False, debug=False, dev_batch=10, dev_path='./datasets/OntoNotes4.0/mrc-ner.dev', dropout_prob=0.1, epochs=10, eval=False, gamma=1, local_rank=0, log_steps=20, lr=2e-05, max_tokens=512, not_store=False, pretrained_model_name_or_path='./pretrained_models/chinese_roberta_wwm_large_ext_pytorch', reduction='mean', seed=209, span_layer=True, theta=1, train_batch=4, train_path='./datasets/OntoNotes4.0/mrc-ner.train', train_span_method='mix', warmup_ratio=0.1, weight_decay=0.01)\n"
     ]
    },
    {
     "name": "stderr",
     "output_type": "stream",
     "text": [
      "checkpoint_6.cpt: 100%|██████████| 2868/2868 [04:20<00:00, 11.01it/s]\n",
      "checkpoint_6.cpt:   0%|          | 0/2898 [00:00<?, ?it/s]"
     ]
    },
    {
     "name": "stdout",
     "output_type": "stream",
     "text": [
      "model checkpoint_6.cpt develop dataset:\n",
      "precision:0.4885 recall:0.8536 f1:0.6214\n"
     ]
    },
    {
     "name": "stderr",
     "output_type": "stream",
     "text": [
      "checkpoint_6.cpt: 100%|██████████| 2898/2898 [04:28<00:00, 10.80it/s]\n"
     ]
    },
    {
     "name": "stdout",
     "output_type": "stream",
     "text": [
      "model checkpoint_6.cpt test dataset:\n",
      "precision:0.5070 recall:0.8706 f1:0.6408\n",
      "/home/wangnan/mrc4ner/checkpoints/2020_08_30_16_33_14/checkpoint_7.cpt \n",
      " Namespace(allow_impossible=False, alpha=1, beta=1, cls=False, cpu=False, debug=False, dev_batch=10, dev_path='./datasets/OntoNotes4.0/mrc-ner.dev', dropout_prob=0.1, epochs=10, eval=False, gamma=1, local_rank=0, log_steps=20, lr=2e-05, max_tokens=512, not_store=False, pretrained_model_name_or_path='./pretrained_models/chinese_roberta_wwm_large_ext_pytorch', reduction='mean', seed=209, span_layer=True, theta=1, train_batch=4, train_path='./datasets/OntoNotes4.0/mrc-ner.train', train_span_method='mix', warmup_ratio=0.1, weight_decay=0.01)\n"
     ]
    },
    {
     "name": "stderr",
     "output_type": "stream",
     "text": [
      "checkpoint_7.cpt: 100%|██████████| 2868/2868 [04:19<00:00, 11.05it/s]\n",
      "checkpoint_7.cpt:   0%|          | 0/2898 [00:00<?, ?it/s]"
     ]
    },
    {
     "name": "stdout",
     "output_type": "stream",
     "text": [
      "model checkpoint_7.cpt develop dataset:\n",
      "precision:0.5085 recall:0.8413 f1:0.6339\n"
     ]
    },
    {
     "name": "stderr",
     "output_type": "stream",
     "text": [
      "checkpoint_7.cpt: 100%|██████████| 2898/2898 [04:27<00:00, 10.84it/s]\n"
     ]
    },
    {
     "name": "stdout",
     "output_type": "stream",
     "text": [
      "model checkpoint_7.cpt test dataset:\n",
      "precision:0.5249 recall:0.8660 f1:0.6536\n",
      "/home/wangnan/mrc4ner/checkpoints/2020_08_30_16_33_14/checkpoint_8.cpt \n",
      " Namespace(allow_impossible=False, alpha=1, beta=1, cls=False, cpu=False, debug=False, dev_batch=10, dev_path='./datasets/OntoNotes4.0/mrc-ner.dev', dropout_prob=0.1, epochs=10, eval=False, gamma=1, local_rank=0, log_steps=20, lr=2e-05, max_tokens=512, not_store=False, pretrained_model_name_or_path='./pretrained_models/chinese_roberta_wwm_large_ext_pytorch', reduction='mean', seed=209, span_layer=True, theta=1, train_batch=4, train_path='./datasets/OntoNotes4.0/mrc-ner.train', train_span_method='mix', warmup_ratio=0.1, weight_decay=0.01)\n"
     ]
    },
    {
     "name": "stderr",
     "output_type": "stream",
     "text": [
      "checkpoint_8.cpt: 100%|██████████| 2868/2868 [04:23<00:00, 10.89it/s]\n",
      "checkpoint_8.cpt:   0%|          | 0/2898 [00:00<?, ?it/s]"
     ]
    },
    {
     "name": "stdout",
     "output_type": "stream",
     "text": [
      "model checkpoint_8.cpt develop dataset:\n",
      "precision:0.5050 recall:0.8507 f1:0.6337\n"
     ]
    },
    {
     "name": "stderr",
     "output_type": "stream",
     "text": [
      "checkpoint_8.cpt: 100%|██████████| 2898/2898 [04:29<00:00, 10.75it/s]\n"
     ]
    },
    {
     "name": "stdout",
     "output_type": "stream",
     "text": [
      "model checkpoint_8.cpt test dataset:\n",
      "precision:0.5214 recall:0.8710 f1:0.6523\n",
      "/home/wangnan/mrc4ner/checkpoints/2020_08_30_16_33_14/checkpoint_9.cpt \n",
      " Namespace(allow_impossible=False, alpha=1, beta=1, cls=False, cpu=False, debug=False, dev_batch=10, dev_path='./datasets/OntoNotes4.0/mrc-ner.dev', dropout_prob=0.1, epochs=10, eval=False, gamma=1, local_rank=0, log_steps=20, lr=2e-05, max_tokens=512, not_store=False, pretrained_model_name_or_path='./pretrained_models/chinese_roberta_wwm_large_ext_pytorch', reduction='mean', seed=209, span_layer=True, theta=1, train_batch=4, train_path='./datasets/OntoNotes4.0/mrc-ner.train', train_span_method='mix', warmup_ratio=0.1, weight_decay=0.01)\n"
     ]
    },
    {
     "name": "stderr",
     "output_type": "stream",
     "text": [
      "checkpoint_9.cpt: 100%|██████████| 2868/2868 [04:22<00:00, 10.94it/s]\n",
      "checkpoint_9.cpt:   0%|          | 0/2898 [00:00<?, ?it/s]"
     ]
    },
    {
     "name": "stdout",
     "output_type": "stream",
     "text": [
      "model checkpoint_9.cpt develop dataset:\n",
      "precision:0.5305 recall:0.8402 f1:0.6504\n"
     ]
    },
    {
     "name": "stderr",
     "output_type": "stream",
     "text": [
      "checkpoint_9.cpt: 100%|██████████| 2898/2898 [04:27<00:00, 10.85it/s]"
     ]
    },
    {
     "name": "stdout",
     "output_type": "stream",
     "text": [
      "model checkpoint_9.cpt test dataset:\n",
      "precision:0.5460 recall:0.8652 f1:0.6695\n",
      "[('checkpoint_0.cpt', 0.5162988966469159, 0.8066074692078078, 0.6295989532269114), ('checkpoint_1.cpt', 0.4584370333173265, 0.8418647165262647, 0.5936186217329102), ('checkpoint_2.cpt', 0.5791383641407706, 0.8127448418891688, 0.6763374656546939), ('checkpoint_3.cpt', 0.5389722365460448, 0.8162705666210145, 0.6492517020042095), ('checkpoint_4.cpt', 0.5303054533399724, 0.8660224600592814, 0.6578055197128467), ('checkpoint_5.cpt', 0.5445413034002041, 0.8564899450435505, 0.6657864607202978), ('checkpoint_6.cpt', 0.46532235553549245, 0.8708540087658848, 0.6065479771068297), ('checkpoint_7.cpt', 0.46736694674598267, 0.8715069207532636, 0.6084415183343118), ('checkpoint_8.cpt', 0.46269487747336474, 0.8681117784188936, 0.6036497778928225), ('checkpoint_9.cpt', 0.45878308693992553, 0.8713763383557879, 0.6010894908535598), ('checkpoint_0.cpt', 0.5531012545897596, 0.8174458081982964, 0.6597802942479312), ('checkpoint_1.cpt', 0.48373954161631577, 0.8682423608163694, 0.6213143093414086), ('checkpoint_2.cpt', 0.4891774891409779, 0.8558370330561716, 0.6225299322351114), ('checkpoint_3.cpt', 0.5123087675303014, 0.8614520761476296, 0.6425123152875662), ('checkpoint_4.cpt', 0.5428007564720992, 0.8619744057375327, 0.6661279883308557), ('checkpoint_5.cpt', 0.5427353928916877, 0.8648472184819995, 0.6669347257546305), ('checkpoint_6.cpt', 0.5070347554561537, 0.8705928439709333, 0.6408415590794976), ('checkpoint_7.cpt', 0.5248911752651452, 0.8660224600592814, 0.6536239325147398), ('checkpoint_8.cpt', 0.5213788790337388, 0.8709845911633606, 0.6522903729827711), ('checkpoint_9.cpt', 0.545978905690015, 0.8652389656744268, 0.6694953323328795)]\n"
     ]
    },
    {
     "name": "stderr",
     "output_type": "stream",
     "text": [
      "\n"
     ]
    }
   ],
   "source": [
    "scores = []\n",
    "for dir in dirs1[:2]:\n",
    "    dir = base_dir+'/'+dir+'/'\n",
    "    files = os.listdir(dir)\n",
    "    files = sorted(files)\n",
    "    for file in files:\n",
    "        s = test(dir,file,6)\n",
    "        scores.append(s)\n",
    "print(scores)"
   ]
  },
  {
   "cell_type": "code",
   "execution_count": 9,
   "metadata": {},
   "outputs": [],
   "source": [
    "scores = [('checkpoint_0.cpt', 0.5162988966469159, 0.8066074692078078, 0.6295989532269114), ('checkpoint_1.cpt', 0.4584370333173265, 0.8418647165262647, 0.5936186217329102), ('checkpoint_2.cpt', 0.5791383641407706, 0.8127448418891688, 0.6763374656546939), ('checkpoint_3.cpt', 0.5389722365460448, 0.8162705666210145, 0.6492517020042095), ('checkpoint_4.cpt', 0.5303054533399724, 0.8660224600592814, 0.6578055197128467), ('checkpoint_5.cpt', 0.5445413034002041, 0.8564899450435505, 0.6657864607202978), ('checkpoint_6.cpt', 0.46532235553549245, 0.8708540087658848, 0.6065479771068297), ('checkpoint_7.cpt', 0.46736694674598267, 0.8715069207532636, 0.6084415183343118), ('checkpoint_8.cpt', 0.46269487747336474, 0.8681117784188936, 0.6036497778928225), ('checkpoint_9.cpt', 0.45878308693992553, 0.8713763383557879, 0.6010894908535598), ('checkpoint_0.cpt', 0.5531012545897596, 0.8174458081982964, 0.6597802942479312), ('checkpoint_1.cpt', 0.48373954161631577, 0.8682423608163694, 0.6213143093414086), ('checkpoint_2.cpt', 0.4891774891409779, 0.8558370330561716, 0.6225299322351114), ('checkpoint_3.cpt', 0.5123087675303014, 0.8614520761476296, 0.6425123152875662), ('checkpoint_4.cpt', 0.5428007564720992, 0.8619744057375327, 0.6661279883308557), ('checkpoint_5.cpt', 0.5427353928916877, 0.8648472184819995, 0.6669347257546305), ('checkpoint_6.cpt', 0.5070347554561537, 0.8705928439709333, 0.6408415590794976), ('checkpoint_7.cpt', 0.5248911752651452, 0.8660224600592814, 0.6536239325147398), ('checkpoint_8.cpt', 0.5213788790337388, 0.8709845911633606, 0.6522903729827711), ('checkpoint_9.cpt', 0.545978905690015, 0.8652389656744268, 0.6694953323328795)]"
   ]
  },
  {
   "cell_type": "code",
   "execution_count": 5,
   "metadata": {},
   "outputs": [],
   "source": [
    "models = []\n",
    "for dir0 in dirs1[:2]:\n",
    "    dir = base_dir+'/'+dir0+'/'\n",
    "    files = os.listdir(dir)\n",
    "    files = sorted(files)\n",
    "    for file in files:\n",
    "        models.append(dir0+file[-6:])"
   ]
  },
  {
   "cell_type": "code",
   "execution_count": 13,
   "metadata": {},
   "outputs": [],
   "source": [
    "scores1 = []\n",
    "for i in range(20):\n",
    "    scores1.append((models[i],scores[i][1],scores[i][2],scores[i][3]))"
   ]
  },
  {
   "cell_type": "code",
   "execution_count": 16,
   "metadata": {},
   "outputs": [],
   "source": [
    "import torch\n",
    "all_args = []\n",
    "for i,si in enumerate(scores1):\n",
    "    file = si[0]\n",
    "    path = \"/home/wangnan/mrc4ner/checkpoints/\"+file[:-6]+\"/checkpoint\"+file[-6:]\n",
    "    cpt = torch.load(path,map_location=torch.device('cpu'))\n",
    "    args = cpt['args']\n",
    "    args = vars(args)\n",
    "    all_args.append(args)"
   ]
  },
  {
   "cell_type": "code",
   "execution_count": 19,
   "metadata": {},
   "outputs": [],
   "source": [
    "import json\n",
    "with open('/home/wangnan/mrc4ner/checkpoints/pre_results.json') as f:\n",
    "    pre = json.load(f)\n",
    "pre['args']+=all_args\n",
    "pre['scores']+=scores1\n",
    "with open('/home/wangnan/mrc4ner/checkpoints/pre_results.json','w') as f:\n",
    "    json.dump(pre,f)"
   ]
  },
  {
   "cell_type": "code",
   "execution_count": 22,
   "metadata": {},
   "outputs": [
    {
     "data": {
      "text/plain": [
       "121"
      ]
     },
     "execution_count": 22,
     "metadata": {},
     "output_type": "execute_result"
    }
   ],
   "source": [
    "with open('/home/wangnan/mrc4ner/checkpoints/pre_results.json') as f:\n",
    "    pre = json.load(f)\n",
    "len(pre['scores'])"
   ]
  },
  {
   "cell_type": "code",
   "execution_count": null,
   "metadata": {},
   "outputs": [],
   "source": []
  },
  {
   "cell_type": "code",
   "execution_count": 21,
   "metadata": {},
   "outputs": [
    {
     "data": {
      "text/plain": [
       "'/home/wangnan/mrc4ner/checkpoints/2020_08_30_19_56_43/'"
      ]
     },
     "execution_count": 21,
     "metadata": {},
     "output_type": "execute_result"
    }
   ],
   "source": [
    " base_dir+'/'+dirs1[0]+'/'"
   ]
  },
  {
   "cell_type": "code",
   "execution_count": 4,
   "metadata": {},
   "outputs": [],
   "source": [
    "model_dir = \"/home/wangnan/mrc4ner/checkpoints/\"\n",
    "model_files = os.listdir(model_dir)\n",
    "model_files = sorted(model_files)\n",
    "end_model = \"2020_08_27_01_34_20_5.cpt\"\n",
    "end_model_index = model_files.index(end_model)\n",
    "valid_model_files = model_files[:end_model_index+1]"
   ]
  },
  {
   "cell_type": "code",
   "execution_count": 5,
   "metadata": {},
   "outputs": [],
   "source": [
    "def test(file,batch_size):\n",
    "    path = model_dir+file\n",
    "    cpt = pickle.load(open(path,'rb'))\n",
    "    args = cpt['args']\n",
    "    #print(\"load model\")\n",
    "    mymodel = MyModel(args)\n",
    "    mymodel.load_state_dict(cpt[\"state_dict\"])\n",
    "    dev_dataset,test_dataset = (pre1_dev_dataset,pre1_test_dataset) if args.pretrained_model_name_or_path==pretrained_model1 else \\\n",
    "                                        (pre2_dev_dataset, pre2_test_dataset)\n",
    "    dev_dataloader = DataLoader(dev_dataset, batch_size=batch_size, collate_fn=collate_fn,\n",
    "                              pin_memory=True,shuffle=False)\n",
    "    test_dataloader = DataLoader(test_dataset, batch_size=batch_size, collate_fn=collate_fn,\n",
    "                              pin_memory=True,shuffle=False)\n",
    "    #print(\"evaluation\")\n",
    "    print(path,'\\n',args)\n",
    "    time.sleep(0.1)\n",
    "    p,r,f = evaluation(mymodel,dev_dataloader,train_eval=False,desc=file)\n",
    "    print(\"model {} develop dataset:\\nprecision:{:.4f} recall:{:.4f} f1:{:.4f}\".format(file,p,r,f))\n",
    "    time.sleep(0.1)\n",
    "    p,r,f = evaluation(mymodel,test_dataloader,train_eval=False,desc=file)\n",
    "    print(\"model {} test dataset:\\nprecision:{:.4f} recall:{:.4f} f1:{:.4f}\".format(file,p,r,f))\n",
    "    return file,p,r,f"
   ]
  },
  {
   "cell_type": "code",
   "execution_count": 6,
   "metadata": {},
   "outputs": [],
   "source": [
    "files = valid_model_files[:30]"
   ]
  },
  {
   "cell_type": "code",
   "execution_count": 7,
   "metadata": {},
   "outputs": [
    {
     "name": "stdout",
     "output_type": "stream",
     "text": [
      "/home/wangnan/mrc4ner/checkpoints/2020_08_25_16_08_26_0.cpt \n",
      " Namespace(allow_impossible=False, alpha=0.5, beta=0.3333333333333333, cls=False, cpu=False, dev_batch=10, dev_path='./datasets/OntoNotes4.0/mrc-ner.dev', dropout_prob=0.2, epochs=10, eval=True, gamma=1, local_rank=0, log_steps=20, lr=8e-06, max_tokens=512, pretrained_model_name_or_path='./pretrained_models/chinese_roberta_wwm_large_ext_pytorch', reduction='mean', seed=209, theta=0.3333333333333333, train_batch=4, train_path='./datasets/OntoNotes4.0/mrc-ner.train', train_span_method='mix', warmup_steps=4000, weight_decay=0.1)\n"
     ]
    },
    {
     "name": "stderr",
     "output_type": "stream",
     "text": [
      "100%|██████████| 2151/2151 [02:56<00:00, 12.16it/s]\n",
      "  0%|          | 0/2173 [00:00<?, ?it/s]"
     ]
    },
    {
     "name": "stdout",
     "output_type": "stream",
     "text": [
      "model 2020_08_25_16_08_26_0.cpt develop dataset:\n",
      "precision:0.00 recall:0.00 f1:0.00\n"
     ]
    },
    {
     "name": "stderr",
     "output_type": "stream",
     "text": [
      "100%|██████████| 2173/2173 [03:04<00:00, 11.79it/s]\n"
     ]
    },
    {
     "name": "stdout",
     "output_type": "stream",
     "text": [
      "model 2020_08_25_16_08_26_0.cpt test dataset:\n",
      "precision:0.00 recall:0.00 f1:0.00\n",
      "/home/wangnan/mrc4ner/checkpoints/2020_08_25_16_08_26_1.cpt \n",
      " Namespace(allow_impossible=False, alpha=0.5, beta=0.3333333333333333, cls=False, cpu=False, dev_batch=10, dev_path='./datasets/OntoNotes4.0/mrc-ner.dev', dropout_prob=0.2, epochs=10, eval=True, gamma=1, local_rank=0, log_steps=20, lr=8e-06, max_tokens=512, pretrained_model_name_or_path='./pretrained_models/chinese_roberta_wwm_large_ext_pytorch', reduction='mean', seed=209, theta=0.3333333333333333, train_batch=4, train_path='./datasets/OntoNotes4.0/mrc-ner.train', train_span_method='mix', warmup_steps=4000, weight_decay=0.1)\n"
     ]
    },
    {
     "name": "stderr",
     "output_type": "stream",
     "text": [
      "100%|██████████| 2151/2151 [03:04<00:00, 11.66it/s]\n",
      "  0%|          | 0/2173 [00:00<?, ?it/s]"
     ]
    },
    {
     "name": "stdout",
     "output_type": "stream",
     "text": [
      "model 2020_08_25_16_08_26_1.cpt develop dataset:\n",
      "precision:0.00 recall:0.00 f1:0.00\n"
     ]
    },
    {
     "name": "stderr",
     "output_type": "stream",
     "text": [
      "100%|██████████| 2173/2173 [03:09<00:00, 11.48it/s]\n"
     ]
    },
    {
     "name": "stdout",
     "output_type": "stream",
     "text": [
      "model 2020_08_25_16_08_26_1.cpt test dataset:\n",
      "precision:0.00 recall:0.00 f1:0.00\n",
      "/home/wangnan/mrc4ner/checkpoints/2020_08_25_16_08_26_2.cpt \n",
      " Namespace(allow_impossible=False, alpha=0.5, beta=0.3333333333333333, cls=False, cpu=False, dev_batch=10, dev_path='./datasets/OntoNotes4.0/mrc-ner.dev', dropout_prob=0.2, epochs=10, eval=True, gamma=1, local_rank=0, log_steps=20, lr=8e-06, max_tokens=512, pretrained_model_name_or_path='./pretrained_models/chinese_roberta_wwm_large_ext_pytorch', reduction='mean', seed=209, theta=0.3333333333333333, train_batch=4, train_path='./datasets/OntoNotes4.0/mrc-ner.train', train_span_method='mix', warmup_steps=4000, weight_decay=0.1)\n"
     ]
    },
    {
     "name": "stderr",
     "output_type": "stream",
     "text": [
      "100%|██████████| 2151/2151 [03:01<00:00, 11.83it/s]\n",
      "  0%|          | 0/2173 [00:00<?, ?it/s]"
     ]
    },
    {
     "name": "stdout",
     "output_type": "stream",
     "text": [
      "model 2020_08_25_16_08_26_2.cpt develop dataset:\n",
      "precision:0.35 recall:0.00 f1:0.00\n"
     ]
    },
    {
     "name": "stderr",
     "output_type": "stream",
     "text": [
      "100%|██████████| 2173/2173 [03:09<00:00, 11.46it/s]\n"
     ]
    },
    {
     "name": "stdout",
     "output_type": "stream",
     "text": [
      "model 2020_08_25_16_08_26_2.cpt test dataset:\n",
      "precision:0.30 recall:0.00 f1:0.00\n",
      "/home/wangnan/mrc4ner/checkpoints/2020_08_25_16_08_26_3.cpt \n",
      " Namespace(allow_impossible=False, alpha=0.5, beta=0.3333333333333333, cls=False, cpu=False, dev_batch=10, dev_path='./datasets/OntoNotes4.0/mrc-ner.dev', dropout_prob=0.2, epochs=10, eval=True, gamma=1, local_rank=0, log_steps=20, lr=8e-06, max_tokens=512, pretrained_model_name_or_path='./pretrained_models/chinese_roberta_wwm_large_ext_pytorch', reduction='mean', seed=209, theta=0.3333333333333333, train_batch=4, train_path='./datasets/OntoNotes4.0/mrc-ner.train', train_span_method='mix', warmup_steps=4000, weight_decay=0.1)\n"
     ]
    },
    {
     "name": "stderr",
     "output_type": "stream",
     "text": [
      "100%|██████████| 2151/2151 [03:05<00:00, 11.57it/s]\n",
      "  0%|          | 0/2173 [00:00<?, ?it/s]"
     ]
    },
    {
     "name": "stdout",
     "output_type": "stream",
     "text": [
      "model 2020_08_25_16_08_26_3.cpt develop dataset:\n",
      "precision:0.41 recall:0.61 f1:0.49\n"
     ]
    },
    {
     "name": "stderr",
     "output_type": "stream",
     "text": [
      "100%|██████████| 2173/2173 [03:04<00:00, 11.77it/s]\n"
     ]
    },
    {
     "name": "stdout",
     "output_type": "stream",
     "text": [
      "model 2020_08_25_16_08_26_3.cpt test dataset:\n",
      "precision:0.41 recall:0.61 f1:0.49\n",
      "/home/wangnan/mrc4ner/checkpoints/2020_08_25_16_08_26_4.cpt \n",
      " Namespace(allow_impossible=False, alpha=0.5, beta=0.3333333333333333, cls=False, cpu=False, dev_batch=10, dev_path='./datasets/OntoNotes4.0/mrc-ner.dev', dropout_prob=0.2, epochs=10, eval=True, gamma=1, local_rank=0, log_steps=20, lr=8e-06, max_tokens=512, pretrained_model_name_or_path='./pretrained_models/chinese_roberta_wwm_large_ext_pytorch', reduction='mean', seed=209, theta=0.3333333333333333, train_batch=4, train_path='./datasets/OntoNotes4.0/mrc-ner.train', train_span_method='mix', warmup_steps=4000, weight_decay=0.1)\n"
     ]
    },
    {
     "name": "stderr",
     "output_type": "stream",
     "text": [
      "100%|██████████| 2151/2151 [03:00<00:00, 11.95it/s]\n",
      "  0%|          | 0/2173 [00:00<?, ?it/s]"
     ]
    },
    {
     "name": "stdout",
     "output_type": "stream",
     "text": [
      "model 2020_08_25_16_08_26_4.cpt develop dataset:\n",
      "precision:0.59 recall:0.65 f1:0.62\n"
     ]
    },
    {
     "name": "stderr",
     "output_type": "stream",
     "text": [
      "100%|██████████| 2173/2173 [03:05<00:00, 11.74it/s]\n"
     ]
    },
    {
     "name": "stdout",
     "output_type": "stream",
     "text": [
      "model 2020_08_25_16_08_26_4.cpt test dataset:\n",
      "precision:0.60 recall:0.65 f1:0.62\n",
      "/home/wangnan/mrc4ner/checkpoints/2020_08_25_16_08_26_5.cpt \n",
      " Namespace(allow_impossible=False, alpha=0.5, beta=0.3333333333333333, cls=False, cpu=False, dev_batch=10, dev_path='./datasets/OntoNotes4.0/mrc-ner.dev', dropout_prob=0.2, epochs=10, eval=True, gamma=1, local_rank=0, log_steps=20, lr=8e-06, max_tokens=512, pretrained_model_name_or_path='./pretrained_models/chinese_roberta_wwm_large_ext_pytorch', reduction='mean', seed=209, theta=0.3333333333333333, train_batch=4, train_path='./datasets/OntoNotes4.0/mrc-ner.train', train_span_method='mix', warmup_steps=4000, weight_decay=0.1)\n"
     ]
    },
    {
     "name": "stderr",
     "output_type": "stream",
     "text": [
      "100%|██████████| 2151/2151 [03:01<00:00, 11.83it/s]\n",
      "  0%|          | 0/2173 [00:00<?, ?it/s]"
     ]
    },
    {
     "name": "stdout",
     "output_type": "stream",
     "text": [
      "model 2020_08_25_16_08_26_5.cpt develop dataset:\n",
      "precision:0.56 recall:0.75 f1:0.64\n"
     ]
    },
    {
     "name": "stderr",
     "output_type": "stream",
     "text": [
      "100%|██████████| 2173/2173 [03:05<00:00, 11.72it/s]\n"
     ]
    },
    {
     "name": "stdout",
     "output_type": "stream",
     "text": [
      "model 2020_08_25_16_08_26_5.cpt test dataset:\n",
      "precision:0.57 recall:0.76 f1:0.65\n",
      "/home/wangnan/mrc4ner/checkpoints/2020_08_25_16_08_26_6.cpt \n",
      " Namespace(allow_impossible=False, alpha=0.5, beta=0.3333333333333333, cls=False, cpu=False, dev_batch=10, dev_path='./datasets/OntoNotes4.0/mrc-ner.dev', dropout_prob=0.2, epochs=10, eval=True, gamma=1, local_rank=0, log_steps=20, lr=8e-06, max_tokens=512, pretrained_model_name_or_path='./pretrained_models/chinese_roberta_wwm_large_ext_pytorch', reduction='mean', seed=209, theta=0.3333333333333333, train_batch=4, train_path='./datasets/OntoNotes4.0/mrc-ner.train', train_span_method='mix', warmup_steps=4000, weight_decay=0.1)\n"
     ]
    },
    {
     "name": "stderr",
     "output_type": "stream",
     "text": [
      "100%|██████████| 2151/2151 [02:59<00:00, 11.97it/s]\n",
      "  0%|          | 0/2173 [00:00<?, ?it/s]"
     ]
    },
    {
     "name": "stdout",
     "output_type": "stream",
     "text": [
      "model 2020_08_25_16_08_26_6.cpt develop dataset:\n",
      "precision:0.56 recall:0.77 f1:0.65\n"
     ]
    },
    {
     "name": "stderr",
     "output_type": "stream",
     "text": [
      "100%|██████████| 2173/2173 [03:03<00:00, 11.84it/s]\n"
     ]
    },
    {
     "name": "stdout",
     "output_type": "stream",
     "text": [
      "model 2020_08_25_16_08_26_6.cpt test dataset:\n",
      "precision:0.57 recall:0.78 f1:0.66\n",
      "/home/wangnan/mrc4ner/checkpoints/2020_08_25_16_08_26_7.cpt \n",
      " Namespace(allow_impossible=False, alpha=0.5, beta=0.3333333333333333, cls=False, cpu=False, dev_batch=10, dev_path='./datasets/OntoNotes4.0/mrc-ner.dev', dropout_prob=0.2, epochs=10, eval=True, gamma=1, local_rank=0, log_steps=20, lr=8e-06, max_tokens=512, pretrained_model_name_or_path='./pretrained_models/chinese_roberta_wwm_large_ext_pytorch', reduction='mean', seed=209, theta=0.3333333333333333, train_batch=4, train_path='./datasets/OntoNotes4.0/mrc-ner.train', train_span_method='mix', warmup_steps=4000, weight_decay=0.1)\n"
     ]
    },
    {
     "name": "stderr",
     "output_type": "stream",
     "text": [
      "100%|██████████| 2151/2151 [03:00<00:00, 11.89it/s]\n",
      "  0%|          | 0/2173 [00:00<?, ?it/s]"
     ]
    },
    {
     "name": "stdout",
     "output_type": "stream",
     "text": [
      "model 2020_08_25_16_08_26_7.cpt develop dataset:\n",
      "precision:0.64 recall:0.73 f1:0.68\n"
     ]
    },
    {
     "name": "stderr",
     "output_type": "stream",
     "text": [
      "100%|██████████| 2173/2173 [03:04<00:00, 11.79it/s]\n"
     ]
    },
    {
     "name": "stdout",
     "output_type": "stream",
     "text": [
      "model 2020_08_25_16_08_26_7.cpt test dataset:\n",
      "precision:0.65 recall:0.75 f1:0.70\n",
      "/home/wangnan/mrc4ner/checkpoints/2020_08_25_16_08_26_8.cpt \n",
      " Namespace(allow_impossible=False, alpha=0.5, beta=0.3333333333333333, cls=False, cpu=False, dev_batch=10, dev_path='./datasets/OntoNotes4.0/mrc-ner.dev', dropout_prob=0.2, epochs=10, eval=True, gamma=1, local_rank=0, log_steps=20, lr=8e-06, max_tokens=512, pretrained_model_name_or_path='./pretrained_models/chinese_roberta_wwm_large_ext_pytorch', reduction='mean', seed=209, theta=0.3333333333333333, train_batch=4, train_path='./datasets/OntoNotes4.0/mrc-ner.train', train_span_method='mix', warmup_steps=4000, weight_decay=0.1)\n"
     ]
    },
    {
     "name": "stderr",
     "output_type": "stream",
     "text": [
      "100%|██████████| 2151/2151 [03:00<00:00, 11.91it/s]\n",
      "  0%|          | 0/2173 [00:00<?, ?it/s]"
     ]
    },
    {
     "name": "stdout",
     "output_type": "stream",
     "text": [
      "model 2020_08_25_16_08_26_8.cpt develop dataset:\n",
      "precision:0.59 recall:0.78 f1:0.67\n"
     ]
    },
    {
     "name": "stderr",
     "output_type": "stream",
     "text": [
      "100%|██████████| 2173/2173 [03:04<00:00, 11.75it/s]\n"
     ]
    },
    {
     "name": "stdout",
     "output_type": "stream",
     "text": [
      "model 2020_08_25_16_08_26_8.cpt test dataset:\n",
      "precision:0.60 recall:0.79 f1:0.68\n",
      "/home/wangnan/mrc4ner/checkpoints/2020_08_25_16_08_26_9.cpt \n",
      " Namespace(allow_impossible=False, alpha=0.5, beta=0.3333333333333333, cls=False, cpu=False, dev_batch=10, dev_path='./datasets/OntoNotes4.0/mrc-ner.dev', dropout_prob=0.2, epochs=10, eval=True, gamma=1, local_rank=0, log_steps=20, lr=8e-06, max_tokens=512, pretrained_model_name_or_path='./pretrained_models/chinese_roberta_wwm_large_ext_pytorch', reduction='mean', seed=209, theta=0.3333333333333333, train_batch=4, train_path='./datasets/OntoNotes4.0/mrc-ner.train', train_span_method='mix', warmup_steps=4000, weight_decay=0.1)\n"
     ]
    },
    {
     "name": "stderr",
     "output_type": "stream",
     "text": [
      "100%|██████████| 2151/2151 [03:02<00:00, 11.81it/s]\n",
      "  0%|          | 0/2173 [00:00<?, ?it/s]"
     ]
    },
    {
     "name": "stdout",
     "output_type": "stream",
     "text": [
      "model 2020_08_25_16_08_26_9.cpt develop dataset:\n",
      "precision:0.61 recall:0.78 f1:0.69\n"
     ]
    },
    {
     "name": "stderr",
     "output_type": "stream",
     "text": [
      "100%|██████████| 2173/2173 [03:04<00:00, 11.76it/s]\n"
     ]
    },
    {
     "name": "stdout",
     "output_type": "stream",
     "text": [
      "model 2020_08_25_16_08_26_9.cpt test dataset:\n",
      "precision:0.62 recall:0.80 f1:0.70\n",
      "/home/wangnan/mrc4ner/checkpoints/2020_08_25_17_14_33_0.cpt \n",
      " Namespace(allow_impossible=False, alpha=0.5, beta=0.3333333333333333, cls=False, cpu=False, dev_batch=10, dev_path='./datasets/OntoNotes4.0/mrc-ner.dev', dropout_prob=0.2, epochs=10, eval=True, gamma=1, local_rank=0, log_steps=20, lr=8e-06, max_tokens=600, pretrained_model_name_or_path='./pretrained_models/chinese_roberta_wwm_large_ext_pytorch', reduction='mean', seed=209, theta=0.3333333333333333, train_batch=4, train_path='./datasets/OntoNotes4.0/mrc-ner.train', train_span_method='mix', warmup_steps=4000, weight_decay=0.1)\n"
     ]
    },
    {
     "name": "stderr",
     "output_type": "stream",
     "text": [
      "100%|██████████| 2151/2151 [03:00<00:00, 11.93it/s]\n",
      "  0%|          | 0/2173 [00:00<?, ?it/s]"
     ]
    },
    {
     "name": "stdout",
     "output_type": "stream",
     "text": [
      "model 2020_08_25_17_14_33_0.cpt develop dataset:\n",
      "precision:0.00 recall:0.00 f1:0.00\n"
     ]
    },
    {
     "name": "stderr",
     "output_type": "stream",
     "text": [
      "100%|██████████| 2173/2173 [03:04<00:00, 11.79it/s]\n"
     ]
    },
    {
     "name": "stdout",
     "output_type": "stream",
     "text": [
      "model 2020_08_25_17_14_33_0.cpt test dataset:\n",
      "precision:0.00 recall:0.00 f1:0.00\n",
      "/home/wangnan/mrc4ner/checkpoints/2020_08_25_17_14_33_1.cpt \n",
      " Namespace(allow_impossible=False, alpha=0.5, beta=0.3333333333333333, cls=False, cpu=False, dev_batch=10, dev_path='./datasets/OntoNotes4.0/mrc-ner.dev', dropout_prob=0.2, epochs=10, eval=True, gamma=1, local_rank=0, log_steps=20, lr=8e-06, max_tokens=600, pretrained_model_name_or_path='./pretrained_models/chinese_roberta_wwm_large_ext_pytorch', reduction='mean', seed=209, theta=0.3333333333333333, train_batch=4, train_path='./datasets/OntoNotes4.0/mrc-ner.train', train_span_method='mix', warmup_steps=4000, weight_decay=0.1)\n"
     ]
    },
    {
     "name": "stderr",
     "output_type": "stream",
     "text": [
      "100%|██████████| 2151/2151 [03:01<00:00, 11.87it/s]\n",
      "  0%|          | 0/2173 [00:00<?, ?it/s]"
     ]
    },
    {
     "name": "stdout",
     "output_type": "stream",
     "text": [
      "model 2020_08_25_17_14_33_1.cpt develop dataset:\n",
      "precision:0.00 recall:0.00 f1:0.00\n"
     ]
    },
    {
     "name": "stderr",
     "output_type": "stream",
     "text": [
      "100%|██████████| 2173/2173 [03:06<00:00, 11.66it/s]\n"
     ]
    },
    {
     "name": "stdout",
     "output_type": "stream",
     "text": [
      "model 2020_08_25_17_14_33_1.cpt test dataset:\n",
      "precision:0.00 recall:0.00 f1:0.00\n",
      "/home/wangnan/mrc4ner/checkpoints/2020_08_25_17_14_33_2.cpt \n",
      " Namespace(allow_impossible=False, alpha=0.5, beta=0.3333333333333333, cls=False, cpu=False, dev_batch=10, dev_path='./datasets/OntoNotes4.0/mrc-ner.dev', dropout_prob=0.2, epochs=10, eval=True, gamma=1, local_rank=0, log_steps=20, lr=8e-06, max_tokens=600, pretrained_model_name_or_path='./pretrained_models/chinese_roberta_wwm_large_ext_pytorch', reduction='mean', seed=209, theta=0.3333333333333333, train_batch=4, train_path='./datasets/OntoNotes4.0/mrc-ner.train', train_span_method='mix', warmup_steps=4000, weight_decay=0.1)\n"
     ]
    },
    {
     "name": "stderr",
     "output_type": "stream",
     "text": [
      "100%|██████████| 2151/2151 [02:59<00:00, 12.00it/s]\n",
      "  0%|          | 0/2173 [00:00<?, ?it/s]"
     ]
    },
    {
     "name": "stdout",
     "output_type": "stream",
     "text": [
      "model 2020_08_25_17_14_33_2.cpt develop dataset:\n",
      "precision:0.00 recall:0.00 f1:0.00\n"
     ]
    },
    {
     "name": "stderr",
     "output_type": "stream",
     "text": [
      "100%|██████████| 2173/2173 [03:04<00:00, 11.78it/s]\n"
     ]
    },
    {
     "name": "stdout",
     "output_type": "stream",
     "text": [
      "model 2020_08_25_17_14_33_2.cpt test dataset:\n",
      "precision:0.00 recall:0.00 f1:0.00\n",
      "/home/wangnan/mrc4ner/checkpoints/2020_08_25_17_14_33_3.cpt \n",
      " Namespace(allow_impossible=False, alpha=0.5, beta=0.3333333333333333, cls=False, cpu=False, dev_batch=10, dev_path='./datasets/OntoNotes4.0/mrc-ner.dev', dropout_prob=0.2, epochs=10, eval=True, gamma=1, local_rank=0, log_steps=20, lr=8e-06, max_tokens=600, pretrained_model_name_or_path='./pretrained_models/chinese_roberta_wwm_large_ext_pytorch', reduction='mean', seed=209, theta=0.3333333333333333, train_batch=4, train_path='./datasets/OntoNotes4.0/mrc-ner.train', train_span_method='mix', warmup_steps=4000, weight_decay=0.1)\n"
     ]
    },
    {
     "name": "stderr",
     "output_type": "stream",
     "text": [
      "100%|██████████| 2151/2151 [02:59<00:00, 12.00it/s]\n",
      "  0%|          | 0/2173 [00:00<?, ?it/s]"
     ]
    },
    {
     "name": "stdout",
     "output_type": "stream",
     "text": [
      "model 2020_08_25_17_14_33_3.cpt develop dataset:\n",
      "precision:0.43 recall:0.23 f1:0.30\n"
     ]
    },
    {
     "name": "stderr",
     "output_type": "stream",
     "text": [
      "100%|██████████| 2173/2173 [03:03<00:00, 11.82it/s]\n"
     ]
    },
    {
     "name": "stdout",
     "output_type": "stream",
     "text": [
      "model 2020_08_25_17_14_33_3.cpt test dataset:\n",
      "precision:0.43 recall:0.23 f1:0.30\n",
      "/home/wangnan/mrc4ner/checkpoints/2020_08_25_17_14_33_4.cpt \n",
      " Namespace(allow_impossible=False, alpha=0.5, beta=0.3333333333333333, cls=False, cpu=False, dev_batch=10, dev_path='./datasets/OntoNotes4.0/mrc-ner.dev', dropout_prob=0.2, epochs=10, eval=True, gamma=1, local_rank=0, log_steps=20, lr=8e-06, max_tokens=600, pretrained_model_name_or_path='./pretrained_models/chinese_roberta_wwm_large_ext_pytorch', reduction='mean', seed=209, theta=0.3333333333333333, train_batch=4, train_path='./datasets/OntoNotes4.0/mrc-ner.train', train_span_method='mix', warmup_steps=4000, weight_decay=0.1)\n"
     ]
    },
    {
     "name": "stderr",
     "output_type": "stream",
     "text": [
      "100%|██████████| 2151/2151 [03:00<00:00, 11.92it/s]\n",
      "  0%|          | 0/2173 [00:00<?, ?it/s]"
     ]
    },
    {
     "name": "stdout",
     "output_type": "stream",
     "text": [
      "model 2020_08_25_17_14_33_4.cpt develop dataset:\n",
      "precision:0.51 recall:0.60 f1:0.55\n"
     ]
    },
    {
     "name": "stderr",
     "output_type": "stream",
     "text": [
      "100%|██████████| 2173/2173 [03:04<00:00, 11.78it/s]\n"
     ]
    },
    {
     "name": "stdout",
     "output_type": "stream",
     "text": [
      "model 2020_08_25_17_14_33_4.cpt test dataset:\n",
      "precision:0.51 recall:0.59 f1:0.55\n",
      "/home/wangnan/mrc4ner/checkpoints/2020_08_25_17_14_33_5.cpt \n",
      " Namespace(allow_impossible=False, alpha=0.5, beta=0.3333333333333333, cls=False, cpu=False, dev_batch=10, dev_path='./datasets/OntoNotes4.0/mrc-ner.dev', dropout_prob=0.2, epochs=10, eval=True, gamma=1, local_rank=0, log_steps=20, lr=8e-06, max_tokens=600, pretrained_model_name_or_path='./pretrained_models/chinese_roberta_wwm_large_ext_pytorch', reduction='mean', seed=209, theta=0.3333333333333333, train_batch=4, train_path='./datasets/OntoNotes4.0/mrc-ner.train', train_span_method='mix', warmup_steps=4000, weight_decay=0.1)\n"
     ]
    },
    {
     "name": "stderr",
     "output_type": "stream",
     "text": [
      "100%|██████████| 2151/2151 [03:01<00:00, 11.87it/s]\n",
      "  0%|          | 0/2173 [00:00<?, ?it/s]"
     ]
    },
    {
     "name": "stdout",
     "output_type": "stream",
     "text": [
      "model 2020_08_25_17_14_33_5.cpt develop dataset:\n",
      "precision:0.54 recall:0.72 f1:0.62\n"
     ]
    },
    {
     "name": "stderr",
     "output_type": "stream",
     "text": [
      "100%|██████████| 2173/2173 [03:05<00:00, 11.73it/s]\n"
     ]
    },
    {
     "name": "stdout",
     "output_type": "stream",
     "text": [
      "model 2020_08_25_17_14_33_5.cpt test dataset:\n",
      "precision:0.55 recall:0.72 f1:0.63\n",
      "/home/wangnan/mrc4ner/checkpoints/2020_08_25_17_14_33_6.cpt \n",
      " Namespace(allow_impossible=False, alpha=0.5, beta=0.3333333333333333, cls=False, cpu=False, dev_batch=10, dev_path='./datasets/OntoNotes4.0/mrc-ner.dev', dropout_prob=0.2, epochs=10, eval=True, gamma=1, local_rank=0, log_steps=20, lr=8e-06, max_tokens=600, pretrained_model_name_or_path='./pretrained_models/chinese_roberta_wwm_large_ext_pytorch', reduction='mean', seed=209, theta=0.3333333333333333, train_batch=4, train_path='./datasets/OntoNotes4.0/mrc-ner.train', train_span_method='mix', warmup_steps=4000, weight_decay=0.1)\n"
     ]
    },
    {
     "name": "stderr",
     "output_type": "stream",
     "text": [
      "100%|██████████| 2151/2151 [02:59<00:00, 12.00it/s]\n",
      "  0%|          | 0/2173 [00:00<?, ?it/s]"
     ]
    },
    {
     "name": "stdout",
     "output_type": "stream",
     "text": [
      "model 2020_08_25_17_14_33_6.cpt develop dataset:\n",
      "precision:0.59 recall:0.70 f1:0.64\n"
     ]
    },
    {
     "name": "stderr",
     "output_type": "stream",
     "text": [
      "100%|██████████| 2173/2173 [03:05<00:00, 11.72it/s]\n"
     ]
    },
    {
     "name": "stdout",
     "output_type": "stream",
     "text": [
      "model 2020_08_25_17_14_33_6.cpt test dataset:\n",
      "precision:0.61 recall:0.71 f1:0.65\n",
      "/home/wangnan/mrc4ner/checkpoints/2020_08_25_17_14_33_7.cpt \n",
      " Namespace(allow_impossible=False, alpha=0.5, beta=0.3333333333333333, cls=False, cpu=False, dev_batch=10, dev_path='./datasets/OntoNotes4.0/mrc-ner.dev', dropout_prob=0.2, epochs=10, eval=True, gamma=1, local_rank=0, log_steps=20, lr=8e-06, max_tokens=600, pretrained_model_name_or_path='./pretrained_models/chinese_roberta_wwm_large_ext_pytorch', reduction='mean', seed=209, theta=0.3333333333333333, train_batch=4, train_path='./datasets/OntoNotes4.0/mrc-ner.train', train_span_method='mix', warmup_steps=4000, weight_decay=0.1)\n"
     ]
    },
    {
     "name": "stderr",
     "output_type": "stream",
     "text": [
      "100%|██████████| 2151/2151 [03:01<00:00, 11.86it/s]\n",
      "  0%|          | 0/2173 [00:00<?, ?it/s]"
     ]
    },
    {
     "name": "stdout",
     "output_type": "stream",
     "text": [
      "model 2020_08_25_17_14_33_7.cpt develop dataset:\n",
      "precision:0.52 recall:0.76 f1:0.62\n"
     ]
    },
    {
     "name": "stderr",
     "output_type": "stream",
     "text": [
      "100%|██████████| 2173/2173 [03:02<00:00, 11.91it/s]\n"
     ]
    },
    {
     "name": "stdout",
     "output_type": "stream",
     "text": [
      "model 2020_08_25_17_14_33_7.cpt test dataset:\n",
      "precision:0.54 recall:0.78 f1:0.64\n",
      "/home/wangnan/mrc4ner/checkpoints/2020_08_25_17_14_33_8.cpt \n",
      " Namespace(allow_impossible=False, alpha=0.5, beta=0.3333333333333333, cls=False, cpu=False, dev_batch=10, dev_path='./datasets/OntoNotes4.0/mrc-ner.dev', dropout_prob=0.2, epochs=10, eval=True, gamma=1, local_rank=0, log_steps=20, lr=8e-06, max_tokens=600, pretrained_model_name_or_path='./pretrained_models/chinese_roberta_wwm_large_ext_pytorch', reduction='mean', seed=209, theta=0.3333333333333333, train_batch=4, train_path='./datasets/OntoNotes4.0/mrc-ner.train', train_span_method='mix', warmup_steps=4000, weight_decay=0.1)\n"
     ]
    },
    {
     "name": "stderr",
     "output_type": "stream",
     "text": [
      "100%|██████████| 2151/2151 [02:58<00:00, 12.04it/s]\n",
      "  0%|          | 0/2173 [00:00<?, ?it/s]"
     ]
    },
    {
     "name": "stdout",
     "output_type": "stream",
     "text": [
      "model 2020_08_25_17_14_33_8.cpt develop dataset:\n",
      "precision:0.55 recall:0.77 f1:0.64\n"
     ]
    },
    {
     "name": "stderr",
     "output_type": "stream",
     "text": [
      "100%|██████████| 2173/2173 [03:03<00:00, 11.81it/s]\n"
     ]
    },
    {
     "name": "stdout",
     "output_type": "stream",
     "text": [
      "model 2020_08_25_17_14_33_8.cpt test dataset:\n",
      "precision:0.56 recall:0.79 f1:0.66\n",
      "/home/wangnan/mrc4ner/checkpoints/2020_08_25_17_14_33_9.cpt \n",
      " Namespace(allow_impossible=False, alpha=0.5, beta=0.3333333333333333, cls=False, cpu=False, dev_batch=10, dev_path='./datasets/OntoNotes4.0/mrc-ner.dev', dropout_prob=0.2, epochs=10, eval=True, gamma=1, local_rank=0, log_steps=20, lr=8e-06, max_tokens=600, pretrained_model_name_or_path='./pretrained_models/chinese_roberta_wwm_large_ext_pytorch', reduction='mean', seed=209, theta=0.3333333333333333, train_batch=4, train_path='./datasets/OntoNotes4.0/mrc-ner.train', train_span_method='mix', warmup_steps=4000, weight_decay=0.1)\n"
     ]
    },
    {
     "name": "stderr",
     "output_type": "stream",
     "text": [
      "100%|██████████| 2151/2151 [03:00<00:00, 11.94it/s]\n",
      "  0%|          | 0/2173 [00:00<?, ?it/s]"
     ]
    },
    {
     "name": "stdout",
     "output_type": "stream",
     "text": [
      "model 2020_08_25_17_14_33_9.cpt develop dataset:\n",
      "precision:0.58 recall:0.75 f1:0.66\n"
     ]
    },
    {
     "name": "stderr",
     "output_type": "stream",
     "text": [
      "100%|██████████| 2173/2173 [03:03<00:00, 11.83it/s]\n"
     ]
    },
    {
     "name": "stdout",
     "output_type": "stream",
     "text": [
      "model 2020_08_25_17_14_33_9.cpt test dataset:\n",
      "precision:0.59 recall:0.77 f1:0.67\n",
      "/home/wangnan/mrc4ner/checkpoints/2020_08_25_18_26_22_0.cpt \n",
      " Namespace(allow_impossible=False, alpha=0.5, beta=0.3333333333333333, cls=False, cpu=False, dev_batch=10, dev_path='./datasets/OntoNotes4.0/mrc-ner.dev', dropout_prob=0.2, epochs=10, eval=True, gamma=1, local_rank=0, log_steps=20, lr=2e-05, max_tokens=512, pretrained_model_name_or_path='./pretrained_models/chinese_roberta_wwm_large_ext_pytorch', reduction='mean', seed=209, theta=0.3333333333333333, train_batch=4, train_path='./datasets/OntoNotes4.0/mrc-ner.train', train_span_method='mix', warmup_steps=4000, weight_decay=0.1)\n"
     ]
    },
    {
     "name": "stderr",
     "output_type": "stream",
     "text": [
      "100%|██████████| 2151/2151 [02:59<00:00, 11.98it/s]\n",
      "  0%|          | 0/2173 [00:00<?, ?it/s]"
     ]
    },
    {
     "name": "stdout",
     "output_type": "stream",
     "text": [
      "model 2020_08_25_18_26_22_0.cpt develop dataset:\n",
      "precision:0.00 recall:0.00 f1:0.00\n"
     ]
    },
    {
     "name": "stderr",
     "output_type": "stream",
     "text": [
      "100%|██████████| 2173/2173 [03:05<00:00, 11.70it/s]\n"
     ]
    },
    {
     "name": "stdout",
     "output_type": "stream",
     "text": [
      "model 2020_08_25_18_26_22_0.cpt test dataset:\n",
      "precision:0.00 recall:0.00 f1:0.00\n",
      "/home/wangnan/mrc4ner/checkpoints/2020_08_25_18_26_22_1.cpt \n",
      " Namespace(allow_impossible=False, alpha=0.5, beta=0.3333333333333333, cls=False, cpu=False, dev_batch=10, dev_path='./datasets/OntoNotes4.0/mrc-ner.dev', dropout_prob=0.2, epochs=10, eval=True, gamma=1, local_rank=0, log_steps=20, lr=2e-05, max_tokens=512, pretrained_model_name_or_path='./pretrained_models/chinese_roberta_wwm_large_ext_pytorch', reduction='mean', seed=209, theta=0.3333333333333333, train_batch=4, train_path='./datasets/OntoNotes4.0/mrc-ner.train', train_span_method='mix', warmup_steps=4000, weight_decay=0.1)\n"
     ]
    },
    {
     "name": "stderr",
     "output_type": "stream",
     "text": [
      "100%|██████████| 2151/2151 [02:59<00:00, 12.01it/s]\n",
      "  0%|          | 0/2173 [00:00<?, ?it/s]"
     ]
    },
    {
     "name": "stdout",
     "output_type": "stream",
     "text": [
      "model 2020_08_25_18_26_22_1.cpt develop dataset:\n",
      "precision:0.39 recall:0.01 f1:0.01\n"
     ]
    },
    {
     "name": "stderr",
     "output_type": "stream",
     "text": [
      "100%|██████████| 2173/2173 [03:02<00:00, 11.91it/s]\n"
     ]
    },
    {
     "name": "stdout",
     "output_type": "stream",
     "text": [
      "model 2020_08_25_18_26_22_1.cpt test dataset:\n",
      "precision:0.37 recall:0.00 f1:0.01\n",
      "/home/wangnan/mrc4ner/checkpoints/2020_08_25_18_26_22_2.cpt \n",
      " Namespace(allow_impossible=False, alpha=0.5, beta=0.3333333333333333, cls=False, cpu=False, dev_batch=10, dev_path='./datasets/OntoNotes4.0/mrc-ner.dev', dropout_prob=0.2, epochs=10, eval=True, gamma=1, local_rank=0, log_steps=20, lr=2e-05, max_tokens=512, pretrained_model_name_or_path='./pretrained_models/chinese_roberta_wwm_large_ext_pytorch', reduction='mean', seed=209, theta=0.3333333333333333, train_batch=4, train_path='./datasets/OntoNotes4.0/mrc-ner.train', train_span_method='mix', warmup_steps=4000, weight_decay=0.1)\n"
     ]
    },
    {
     "name": "stderr",
     "output_type": "stream",
     "text": [
      "100%|██████████| 2151/2151 [03:01<00:00, 11.84it/s]\n",
      "  0%|          | 0/2173 [00:00<?, ?it/s]"
     ]
    },
    {
     "name": "stdout",
     "output_type": "stream",
     "text": [
      "model 2020_08_25_18_26_22_2.cpt develop dataset:\n",
      "precision:0.61 recall:0.61 f1:0.61\n"
     ]
    },
    {
     "name": "stderr",
     "output_type": "stream",
     "text": [
      "100%|██████████| 2173/2173 [03:06<00:00, 11.67it/s]\n"
     ]
    },
    {
     "name": "stdout",
     "output_type": "stream",
     "text": [
      "model 2020_08_25_18_26_22_2.cpt test dataset:\n",
      "precision:0.61 recall:0.61 f1:0.61\n",
      "/home/wangnan/mrc4ner/checkpoints/2020_08_25_18_26_22_3.cpt \n",
      " Namespace(allow_impossible=False, alpha=0.5, beta=0.3333333333333333, cls=False, cpu=False, dev_batch=10, dev_path='./datasets/OntoNotes4.0/mrc-ner.dev', dropout_prob=0.2, epochs=10, eval=True, gamma=1, local_rank=0, log_steps=20, lr=2e-05, max_tokens=512, pretrained_model_name_or_path='./pretrained_models/chinese_roberta_wwm_large_ext_pytorch', reduction='mean', seed=209, theta=0.3333333333333333, train_batch=4, train_path='./datasets/OntoNotes4.0/mrc-ner.train', train_span_method='mix', warmup_steps=4000, weight_decay=0.1)\n"
     ]
    },
    {
     "name": "stderr",
     "output_type": "stream",
     "text": [
      "100%|██████████| 2151/2151 [02:59<00:00, 11.95it/s]\n",
      "  0%|          | 0/2173 [00:00<?, ?it/s]"
     ]
    },
    {
     "name": "stdout",
     "output_type": "stream",
     "text": [
      "model 2020_08_25_18_26_22_3.cpt develop dataset:\n",
      "precision:0.57 recall:0.75 f1:0.65\n"
     ]
    },
    {
     "name": "stderr",
     "output_type": "stream",
     "text": [
      "100%|██████████| 2173/2173 [03:05<00:00, 11.74it/s]\n"
     ]
    },
    {
     "name": "stdout",
     "output_type": "stream",
     "text": [
      "model 2020_08_25_18_26_22_3.cpt test dataset:\n",
      "precision:0.58 recall:0.75 f1:0.66\n",
      "/home/wangnan/mrc4ner/checkpoints/2020_08_25_18_26_22_4.cpt \n",
      " Namespace(allow_impossible=False, alpha=0.5, beta=0.3333333333333333, cls=False, cpu=False, dev_batch=10, dev_path='./datasets/OntoNotes4.0/mrc-ner.dev', dropout_prob=0.2, epochs=10, eval=True, gamma=1, local_rank=0, log_steps=20, lr=2e-05, max_tokens=512, pretrained_model_name_or_path='./pretrained_models/chinese_roberta_wwm_large_ext_pytorch', reduction='mean', seed=209, theta=0.3333333333333333, train_batch=4, train_path='./datasets/OntoNotes4.0/mrc-ner.train', train_span_method='mix', warmup_steps=4000, weight_decay=0.1)\n"
     ]
    },
    {
     "name": "stderr",
     "output_type": "stream",
     "text": [
      "100%|██████████| 2151/2151 [02:58<00:00, 12.03it/s]\n",
      "  0%|          | 0/2173 [00:00<?, ?it/s]"
     ]
    },
    {
     "name": "stdout",
     "output_type": "stream",
     "text": [
      "model 2020_08_25_18_26_22_4.cpt develop dataset:\n",
      "precision:0.54 recall:0.76 f1:0.63\n"
     ]
    },
    {
     "name": "stderr",
     "output_type": "stream",
     "text": [
      "100%|██████████| 2173/2173 [03:05<00:00, 11.70it/s]\n"
     ]
    },
    {
     "name": "stdout",
     "output_type": "stream",
     "text": [
      "model 2020_08_25_18_26_22_4.cpt test dataset:\n",
      "precision:0.55 recall:0.78 f1:0.65\n",
      "/home/wangnan/mrc4ner/checkpoints/2020_08_25_18_26_22_5.cpt \n",
      " Namespace(allow_impossible=False, alpha=0.5, beta=0.3333333333333333, cls=False, cpu=False, dev_batch=10, dev_path='./datasets/OntoNotes4.0/mrc-ner.dev', dropout_prob=0.2, epochs=10, eval=True, gamma=1, local_rank=0, log_steps=20, lr=2e-05, max_tokens=512, pretrained_model_name_or_path='./pretrained_models/chinese_roberta_wwm_large_ext_pytorch', reduction='mean', seed=209, theta=0.3333333333333333, train_batch=4, train_path='./datasets/OntoNotes4.0/mrc-ner.train', train_span_method='mix', warmup_steps=4000, weight_decay=0.1)\n"
     ]
    },
    {
     "name": "stderr",
     "output_type": "stream",
     "text": [
      "100%|██████████| 2151/2151 [02:59<00:00, 11.97it/s]\n",
      "  0%|          | 0/2173 [00:00<?, ?it/s]"
     ]
    },
    {
     "name": "stdout",
     "output_type": "stream",
     "text": [
      "model 2020_08_25_18_26_22_5.cpt develop dataset:\n",
      "precision:0.60 recall:0.78 f1:0.68\n"
     ]
    },
    {
     "name": "stderr",
     "output_type": "stream",
     "text": [
      "100%|██████████| 2173/2173 [03:05<00:00, 11.74it/s]\n"
     ]
    },
    {
     "name": "stdout",
     "output_type": "stream",
     "text": [
      "model 2020_08_25_18_26_22_5.cpt test dataset:\n",
      "precision:0.61 recall:0.79 f1:0.69\n",
      "/home/wangnan/mrc4ner/checkpoints/2020_08_25_18_26_22_6.cpt \n",
      " Namespace(allow_impossible=False, alpha=0.5, beta=0.3333333333333333, cls=False, cpu=False, dev_batch=10, dev_path='./datasets/OntoNotes4.0/mrc-ner.dev', dropout_prob=0.2, epochs=10, eval=True, gamma=1, local_rank=0, log_steps=20, lr=2e-05, max_tokens=512, pretrained_model_name_or_path='./pretrained_models/chinese_roberta_wwm_large_ext_pytorch', reduction='mean', seed=209, theta=0.3333333333333333, train_batch=4, train_path='./datasets/OntoNotes4.0/mrc-ner.train', train_span_method='mix', warmup_steps=4000, weight_decay=0.1)\n"
     ]
    },
    {
     "name": "stderr",
     "output_type": "stream",
     "text": [
      "100%|██████████| 2151/2151 [03:01<00:00, 11.86it/s]\n",
      "  0%|          | 0/2173 [00:00<?, ?it/s]"
     ]
    },
    {
     "name": "stdout",
     "output_type": "stream",
     "text": [
      "model 2020_08_25_18_26_22_6.cpt develop dataset:\n",
      "precision:0.69 recall:0.72 f1:0.70\n"
     ]
    },
    {
     "name": "stderr",
     "output_type": "stream",
     "text": [
      "100%|██████████| 2173/2173 [03:04<00:00, 11.80it/s]\n"
     ]
    },
    {
     "name": "stdout",
     "output_type": "stream",
     "text": [
      "model 2020_08_25_18_26_22_6.cpt test dataset:\n",
      "precision:0.69 recall:0.74 f1:0.72\n",
      "/home/wangnan/mrc4ner/checkpoints/2020_08_25_18_26_22_7.cpt \n",
      " Namespace(allow_impossible=False, alpha=0.5, beta=0.3333333333333333, cls=False, cpu=False, dev_batch=10, dev_path='./datasets/OntoNotes4.0/mrc-ner.dev', dropout_prob=0.2, epochs=10, eval=True, gamma=1, local_rank=0, log_steps=20, lr=2e-05, max_tokens=512, pretrained_model_name_or_path='./pretrained_models/chinese_roberta_wwm_large_ext_pytorch', reduction='mean', seed=209, theta=0.3333333333333333, train_batch=4, train_path='./datasets/OntoNotes4.0/mrc-ner.train', train_span_method='mix', warmup_steps=4000, weight_decay=0.1)\n"
     ]
    },
    {
     "name": "stderr",
     "output_type": "stream",
     "text": [
      "100%|██████████| 2151/2151 [03:01<00:00, 11.87it/s]\n",
      "  0%|          | 0/2173 [00:00<?, ?it/s]"
     ]
    },
    {
     "name": "stdout",
     "output_type": "stream",
     "text": [
      "model 2020_08_25_18_26_22_7.cpt develop dataset:\n",
      "precision:0.62 recall:0.80 f1:0.70\n"
     ]
    },
    {
     "name": "stderr",
     "output_type": "stream",
     "text": [
      "100%|██████████| 2173/2173 [03:05<00:00, 11.70it/s]\n"
     ]
    },
    {
     "name": "stdout",
     "output_type": "stream",
     "text": [
      "model 2020_08_25_18_26_22_7.cpt test dataset:\n",
      "precision:0.64 recall:0.82 f1:0.72\n",
      "/home/wangnan/mrc4ner/checkpoints/2020_08_25_18_26_22_8.cpt \n",
      " Namespace(allow_impossible=False, alpha=0.5, beta=0.3333333333333333, cls=False, cpu=False, dev_batch=10, dev_path='./datasets/OntoNotes4.0/mrc-ner.dev', dropout_prob=0.2, epochs=10, eval=True, gamma=1, local_rank=0, log_steps=20, lr=2e-05, max_tokens=512, pretrained_model_name_or_path='./pretrained_models/chinese_roberta_wwm_large_ext_pytorch', reduction='mean', seed=209, theta=0.3333333333333333, train_batch=4, train_path='./datasets/OntoNotes4.0/mrc-ner.train', train_span_method='mix', warmup_steps=4000, weight_decay=0.1)\n"
     ]
    },
    {
     "name": "stderr",
     "output_type": "stream",
     "text": [
      "100%|██████████| 2151/2151 [03:01<00:00, 11.88it/s]\n",
      "  0%|          | 0/2173 [00:00<?, ?it/s]"
     ]
    },
    {
     "name": "stdout",
     "output_type": "stream",
     "text": [
      "model 2020_08_25_18_26_22_8.cpt develop dataset:\n",
      "precision:0.69 recall:0.77 f1:0.73\n"
     ]
    },
    {
     "name": "stderr",
     "output_type": "stream",
     "text": [
      "100%|██████████| 2173/2173 [03:05<00:00, 11.71it/s]\n"
     ]
    },
    {
     "name": "stdout",
     "output_type": "stream",
     "text": [
      "model 2020_08_25_18_26_22_8.cpt test dataset:\n",
      "precision:0.71 recall:0.81 f1:0.75\n",
      "/home/wangnan/mrc4ner/checkpoints/2020_08_25_18_26_22_9.cpt \n",
      " Namespace(allow_impossible=False, alpha=0.5, beta=0.3333333333333333, cls=False, cpu=False, dev_batch=10, dev_path='./datasets/OntoNotes4.0/mrc-ner.dev', dropout_prob=0.2, epochs=10, eval=True, gamma=1, local_rank=0, log_steps=20, lr=2e-05, max_tokens=512, pretrained_model_name_or_path='./pretrained_models/chinese_roberta_wwm_large_ext_pytorch', reduction='mean', seed=209, theta=0.3333333333333333, train_batch=4, train_path='./datasets/OntoNotes4.0/mrc-ner.train', train_span_method='mix', warmup_steps=4000, weight_decay=0.1)\n"
     ]
    },
    {
     "name": "stderr",
     "output_type": "stream",
     "text": [
      "100%|██████████| 2151/2151 [03:01<00:00, 11.87it/s]\n",
      "  0%|          | 0/2173 [00:00<?, ?it/s]"
     ]
    },
    {
     "name": "stdout",
     "output_type": "stream",
     "text": [
      "model 2020_08_25_18_26_22_9.cpt develop dataset:\n",
      "precision:0.68 recall:0.75 f1:0.71\n"
     ]
    },
    {
     "name": "stderr",
     "output_type": "stream",
     "text": [
      "100%|██████████| 2173/2173 [02:57<00:00, 12.26it/s]\n"
     ]
    },
    {
     "name": "stdout",
     "output_type": "stream",
     "text": [
      "model 2020_08_25_18_26_22_9.cpt test dataset:\n",
      "precision:0.70 recall:0.77 f1:0.73\n"
     ]
    }
   ],
   "source": [
    "scores = []\n",
    "for file in files:\n",
    "    s = test(file,8)\n",
    "    scores.append(s)"
   ]
  },
  {
   "cell_type": "code",
   "execution_count": 8,
   "metadata": {},
   "outputs": [
    {
     "name": "stdout",
     "output_type": "stream",
     "text": [
      "[('2020_08_25_16_08_26_0.cpt', 0.0, 0.0, 0.0), ('2020_08_25_16_08_26_1.cpt', 0.0, 0.0, 0.0), ('2020_08_25_16_08_26_2.cpt', 0.2972972892622354, 0.0014364063722334282, 0.002858989779121771), ('2020_08_25_16_08_26_3.cpt', 0.41075859620606536, 0.6052494123001764, 0.48938817839121396), ('2020_08_25_16_08_26_4.cpt', 0.5989445909571905, 0.6521284929939763, 0.6244056023512867), ('2020_08_25_16_08_26_5.cpt', 0.5690834472768141, 0.7605118828988624, 0.6510167246894872), ('2020_08_25_16_08_26_6.cpt', 0.572300066669307, 0.7840167144445003, 0.6616337619314735), ('2020_08_25_16_08_26_7.cpt', 0.6525491085894687, 0.7504570382932283, 0.6980863532463284), ('2020_08_25_16_08_26_8.cpt', 0.6021825396227993, 0.7926351526779009, 0.6844058684739553), ('2020_08_25_16_08_26_9.cpt', 0.6244036137829252, 0.8032123268734379, 0.7026095940052144), ('2020_08_25_17_14_33_0.cpt', 0.0, 0.0, 0.0), ('2020_08_25_17_14_33_1.cpt', 0.0, 0.0, 0.0), ('2020_08_25_17_14_33_2.cpt', 0.0, 0.0, 0.0), ('2020_08_25_17_14_33_3.cpt', 0.4250786733417868, 0.22930268996744543, 0.2979043712368633), ('2020_08_25_17_14_33_4.cpt', 0.5134950460638316, 0.5887960302182298, 0.5485730164710818), ('2020_08_25_17_14_33_5.cpt', 0.5529177056805069, 0.7238182292081721, 0.6269293284891223), ('2020_08_25_17_14_33_6.cpt', 0.6068042386383933, 0.7103682422681681, 0.6545143318642442), ('2020_08_25_17_14_33_7.cpt', 0.5403313910651555, 0.7750065290186724, 0.6367337718290114), ('2020_08_25_17_14_33_8.cpt', 0.5631785847469881, 0.7857142856116852, 0.6560893619727383), ('2020_08_25_17_14_33_9.cpt', 0.5933306628686831, 0.7737007050439147, 0.6716159221403655), ('2020_08_25_18_26_22_0.cpt', 0.0, 0.0, 0.0), ('2020_08_25_18_26_22_1.cpt', 0.37234042157084657, 0.004570383911651817, 0.009029903800580592), ('2020_08_25_18_26_22_2.cpt', 0.6095063024409787, 0.6061634890825067, 0.6078297997805661), ('2020_08_25_18_26_22_3.cpt', 0.5793913828884814, 0.7533298510376952, 0.6550094431576527), ('2020_08_25_18_26_22_4.cpt', 0.5547397769001171, 0.7794463305328484, 0.6481697823288735), ('2020_08_25_18_26_22_5.cpt', 0.6092701971559445, 0.7947244710375131, 0.6897484744760064), ('2020_08_25_18_26_22_6.cpt', 0.6928597493379322, 0.7437973360219643, 0.7174250311135103), ('2020_08_25_18_26_22_7.cpt', 0.6433323098307919, 0.8208409505326664, 0.7213260320240805), ('2020_08_25_18_26_22_8.cpt', 0.70820912626597, 0.8066074692078078, 0.7542119562304166), ('2020_08_25_18_26_22_9.cpt', 0.6980998464890712, 0.7723948810691571, 0.7333700299812282)]\n"
     ]
    }
   ],
   "source": [
    "print(scores)"
   ]
  }
 ],
 "metadata": {
  "kernelspec": {
   "display_name": "mypython",
   "language": "python",
   "name": "mypython"
  },
  "language_info": {
   "codemirror_mode": {
    "name": "ipython",
    "version": 3
   },
   "file_extension": ".py",
   "mimetype": "text/x-python",
   "name": "python",
   "nbconvert_exporter": "python",
   "pygments_lexer": "ipython3",
   "version": "3.8.3"
  }
 },
 "nbformat": 4,
 "nbformat_minor": 4
}
