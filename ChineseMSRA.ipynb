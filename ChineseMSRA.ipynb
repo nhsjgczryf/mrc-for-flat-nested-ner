{
 "cells": [
  {
   "cell_type": "code",
   "execution_count": 1,
   "metadata": {},
   "outputs": [],
   "source": [
    "import os\n",
    "os.chdir('/home/wangnan/mrc4ner')\n",
    "from evaluate import evaluation\n",
    "from model import MyModel,MyModel2\n",
    "from mydataset import load_data,collate_fn,MyDataset\n",
    "import pickle \n",
    "from transformers import BertTokenizer\n",
    "import torch\n",
    "import time\n",
    "from tqdm import tqdm\n",
    "from torch.utils.data import DataLoader\n",
    "\n",
    "os.environ['CUDA_VISIBLE_DEVICES']='1'"
   ]
  },
  {
   "cell_type": "code",
   "execution_count": 2,
   "metadata": {},
   "outputs": [],
   "source": [
    "pretrained_model = '/home/wangnan/pretrained_models/chinese-bert-wwm-ext'\n",
    "test_path = '/home/wangnan/mrc4ner/datasets/ChineseMSRA/mrc-ner.test'\n",
    "dataloader_path = '/home/wangnan/mrc4ner/datasets/ChineseMSRA/test_dataloader'\n",
    "batch=10"
   ]
  },
  {
   "cell_type": "code",
   "execution_count": 5,
   "metadata": {},
   "outputs": [],
   "source": [
    "if not os.path.exists(dataloader_path):\n",
    "    test_dataloader = load_data(pretrained_model,test_path,5,False,True)\n",
    "    pickle.dump(test_dataloader,open(dataloader_path,'wb'))\n",
    "else:\n",
    "    test_dataloader = pickle.load(open(dataloader_path,'rb'))"
   ]
  },
  {
   "cell_type": "code",
   "execution_count": 6,
   "metadata": {},
   "outputs": [
    {
     "data": {
      "text/plain": [
       "<torch.utils.data.dataloader.DataLoader at 0x7ff8a2025fd0>"
      ]
     },
     "execution_count": 6,
     "metadata": {},
     "output_type": "execute_result"
    }
   ],
   "source": [
    "test_dataloader"
   ]
  },
  {
   "cell_type": "code",
   "execution_count": 7,
   "metadata": {},
   "outputs": [],
   "source": [
    "l = []\n",
    "for d in test_dataloader:\n",
    "    l.append(d)"
   ]
  },
  {
   "cell_type": "code",
   "execution_count": 8,
   "metadata": {},
   "outputs": [
    {
     "data": {
      "text/plain": [
       "225"
      ]
     },
     "execution_count": 8,
     "metadata": {},
     "output_type": "execute_result"
    }
   ],
   "source": [
    "max([l[i]['text'].shape[1] for i in range(len(l))])"
   ]
  },
  {
   "cell_type": "code",
   "execution_count": 9,
   "metadata": {},
   "outputs": [],
   "source": [
    "def test(model_dir,file,args):\n",
    "    path = model_dir+file\n",
    "    cpt = torch.load(path,map_location=torch.device('cpu'))\n",
    "    mymodel = MyModel2(args)\n",
    "    mymodel.load_state_dict(cpt[\"state_dict\"])\n",
    "    print(path,'\\n',args)\n",
    "    time.sleep(0.1)\n",
    "    p,r,f = evaluation(mymodel,test_dataloader,train_eval=False)\n",
    "    print(\"model {} test dataset:\\nprecision:{:.4f} recall:{:.4f} f1:{:.4f}\".format(file,p,r,f))\n",
    "    return file,p,r,f"
   ]
  },
  {
   "cell_type": "code",
   "execution_count": 12,
   "metadata": {},
   "outputs": [
    {
     "name": "stdout",
     "output_type": "stream",
     "text": [
      "/home/wangnan/mrc4ner/checkpoints/ChineseMSRA/2020_09_12_15_38_10/checkpoint_0.cpt \n",
      " Namespace(allow_impossible=True, alpha=1, beta=1, cls=True, cpu=False, dataset_tag='ChineseMSRA', debug=False, dev_batch=10, dev_path='./datasets/OntoNotes4.0/mrc-ner.dev', dropout_prob=0.1, epochs=10, eval=False, gamma=1, local_rank=0, log_steps=20, loss_sampler_epoch=10000000, lr=9e-06, max_grad_norm=0.5, max_tokens=450, not_store=False, pretrained_model_name_or_path='/home/wangnan/pretrained_models/chinese-bert-wwm-ext', reduction='mean', reload=False, seed=209, span_layer=True, theta=1, train_batch=4, train_path='/home/wangnan/mrc4ner/datasets/ChineseMSRA/mrc-ner.train', train_span_method='gold', warmup_ratio=0.1, weight_decay=0.01)\n"
     ]
    },
    {
     "name": "stderr",
     "output_type": "stream",
     "text": [
      "eval: 100%|█████████████████████████████████████████████████████| 2619/2619 [02:33<00:00, 17.05it/s]\n"
     ]
    },
    {
     "name": "stdout",
     "output_type": "stream",
     "text": [
      "model checkpoint_0.cpt test dataset:\n",
      "precision:0.8827 recall:0.8687 f1:0.8757\n"
     ]
    },
    {
     "name": "stderr",
     "output_type": "stream",
     "text": [
      "eval:   0%|                                                                | 0/2619 [00:00<?, ?it/s]"
     ]
    },
    {
     "name": "stdout",
     "output_type": "stream",
     "text": [
      "/home/wangnan/mrc4ner/checkpoints/ChineseMSRA/2020_09_12_15_38_10/checkpoint_1.cpt \n",
      " Namespace(allow_impossible=True, alpha=1, beta=1, cls=True, cpu=False, dataset_tag='ChineseMSRA', debug=False, dev_batch=10, dev_path='./datasets/OntoNotes4.0/mrc-ner.dev', dropout_prob=0.1, epochs=10, eval=False, gamma=1, local_rank=0, log_steps=20, loss_sampler_epoch=10000000, lr=9e-06, max_grad_norm=0.5, max_tokens=450, not_store=False, pretrained_model_name_or_path='/home/wangnan/pretrained_models/chinese-bert-wwm-ext', reduction='mean', reload=False, seed=209, span_layer=True, theta=1, train_batch=4, train_path='/home/wangnan/mrc4ner/datasets/ChineseMSRA/mrc-ner.train', train_span_method='gold', warmup_ratio=0.1, weight_decay=0.01)\n"
     ]
    },
    {
     "name": "stderr",
     "output_type": "stream",
     "text": [
      "eval: 100%|█████████████████████████████████████████████████████| 2619/2619 [02:34<00:00, 16.92it/s]\n"
     ]
    },
    {
     "name": "stdout",
     "output_type": "stream",
     "text": [
      "model checkpoint_1.cpt test dataset:\n",
      "precision:0.9238 recall:0.9325 f1:0.9281\n"
     ]
    },
    {
     "name": "stderr",
     "output_type": "stream",
     "text": [
      "eval:   0%|                                                                | 0/2619 [00:00<?, ?it/s]"
     ]
    },
    {
     "name": "stdout",
     "output_type": "stream",
     "text": [
      "/home/wangnan/mrc4ner/checkpoints/ChineseMSRA/2020_09_12_15_38_10/checkpoint_2.cpt \n",
      " Namespace(allow_impossible=True, alpha=1, beta=1, cls=True, cpu=False, dataset_tag='ChineseMSRA', debug=False, dev_batch=10, dev_path='./datasets/OntoNotes4.0/mrc-ner.dev', dropout_prob=0.1, epochs=10, eval=False, gamma=1, local_rank=0, log_steps=20, loss_sampler_epoch=10000000, lr=9e-06, max_grad_norm=0.5, max_tokens=450, not_store=False, pretrained_model_name_or_path='/home/wangnan/pretrained_models/chinese-bert-wwm-ext', reduction='mean', reload=False, seed=209, span_layer=True, theta=1, train_batch=4, train_path='/home/wangnan/mrc4ner/datasets/ChineseMSRA/mrc-ner.train', train_span_method='gold', warmup_ratio=0.1, weight_decay=0.01)\n"
     ]
    },
    {
     "name": "stderr",
     "output_type": "stream",
     "text": [
      "eval: 100%|█████████████████████████████████████████████████████| 2619/2619 [02:34<00:00, 16.91it/s]\n"
     ]
    },
    {
     "name": "stdout",
     "output_type": "stream",
     "text": [
      "model checkpoint_2.cpt test dataset:\n",
      "precision:0.9227 recall:0.9307 f1:0.9267\n"
     ]
    },
    {
     "name": "stderr",
     "output_type": "stream",
     "text": [
      "eval:   0%|                                                                | 0/2619 [00:00<?, ?it/s]"
     ]
    },
    {
     "name": "stdout",
     "output_type": "stream",
     "text": [
      "/home/wangnan/mrc4ner/checkpoints/ChineseMSRA/2020_09_12_15_38_10/checkpoint_3.cpt \n",
      " Namespace(allow_impossible=True, alpha=1, beta=1, cls=True, cpu=False, dataset_tag='ChineseMSRA', debug=False, dev_batch=10, dev_path='./datasets/OntoNotes4.0/mrc-ner.dev', dropout_prob=0.1, epochs=10, eval=False, gamma=1, local_rank=0, log_steps=20, loss_sampler_epoch=10000000, lr=9e-06, max_grad_norm=0.5, max_tokens=450, not_store=False, pretrained_model_name_or_path='/home/wangnan/pretrained_models/chinese-bert-wwm-ext', reduction='mean', reload=False, seed=209, span_layer=True, theta=1, train_batch=4, train_path='/home/wangnan/mrc4ner/datasets/ChineseMSRA/mrc-ner.train', train_span_method='gold', warmup_ratio=0.1, weight_decay=0.01)\n"
     ]
    },
    {
     "name": "stderr",
     "output_type": "stream",
     "text": [
      "eval: 100%|█████████████████████████████████████████████████████| 2619/2619 [02:34<00:00, 16.97it/s]\n"
     ]
    },
    {
     "name": "stdout",
     "output_type": "stream",
     "text": [
      "model checkpoint_3.cpt test dataset:\n",
      "precision:0.9323 recall:0.9370 f1:0.9346\n"
     ]
    },
    {
     "name": "stderr",
     "output_type": "stream",
     "text": [
      "eval:   0%|                                                                | 0/2619 [00:00<?, ?it/s]"
     ]
    },
    {
     "name": "stdout",
     "output_type": "stream",
     "text": [
      "/home/wangnan/mrc4ner/checkpoints/ChineseMSRA/2020_09_12_15_38_10/checkpoint_4.cpt \n",
      " Namespace(allow_impossible=True, alpha=1, beta=1, cls=True, cpu=False, dataset_tag='ChineseMSRA', debug=False, dev_batch=10, dev_path='./datasets/OntoNotes4.0/mrc-ner.dev', dropout_prob=0.1, epochs=10, eval=False, gamma=1, local_rank=0, log_steps=20, loss_sampler_epoch=10000000, lr=9e-06, max_grad_norm=0.5, max_tokens=450, not_store=False, pretrained_model_name_or_path='/home/wangnan/pretrained_models/chinese-bert-wwm-ext', reduction='mean', reload=False, seed=209, span_layer=True, theta=1, train_batch=4, train_path='/home/wangnan/mrc4ner/datasets/ChineseMSRA/mrc-ner.train', train_span_method='gold', warmup_ratio=0.1, weight_decay=0.01)\n"
     ]
    },
    {
     "name": "stderr",
     "output_type": "stream",
     "text": [
      "eval: 100%|█████████████████████████████████████████████████████| 2619/2619 [02:33<00:00, 17.09it/s]\n"
     ]
    },
    {
     "name": "stdout",
     "output_type": "stream",
     "text": [
      "model checkpoint_4.cpt test dataset:\n",
      "precision:0.9319 recall:0.9400 f1:0.9359\n"
     ]
    },
    {
     "name": "stderr",
     "output_type": "stream",
     "text": [
      "eval:   0%|                                                                | 0/2619 [00:00<?, ?it/s]"
     ]
    },
    {
     "name": "stdout",
     "output_type": "stream",
     "text": [
      "/home/wangnan/mrc4ner/checkpoints/ChineseMSRA/2020_09_12_15_38_10/checkpoint_5.cpt \n",
      " Namespace(allow_impossible=True, alpha=1, beta=1, cls=True, cpu=False, dataset_tag='ChineseMSRA', debug=False, dev_batch=10, dev_path='./datasets/OntoNotes4.0/mrc-ner.dev', dropout_prob=0.1, epochs=10, eval=False, gamma=1, local_rank=0, log_steps=20, loss_sampler_epoch=10000000, lr=9e-06, max_grad_norm=0.5, max_tokens=450, not_store=False, pretrained_model_name_or_path='/home/wangnan/pretrained_models/chinese-bert-wwm-ext', reduction='mean', reload=False, seed=209, span_layer=True, theta=1, train_batch=4, train_path='/home/wangnan/mrc4ner/datasets/ChineseMSRA/mrc-ner.train', train_span_method='gold', warmup_ratio=0.1, weight_decay=0.01)\n"
     ]
    },
    {
     "name": "stderr",
     "output_type": "stream",
     "text": [
      "eval: 100%|█████████████████████████████████████████████████████| 2619/2619 [02:33<00:00, 17.08it/s]\n"
     ]
    },
    {
     "name": "stdout",
     "output_type": "stream",
     "text": [
      "model checkpoint_5.cpt test dataset:\n",
      "precision:0.9500 recall:0.9304 f1:0.9401\n"
     ]
    },
    {
     "name": "stderr",
     "output_type": "stream",
     "text": [
      "eval:   0%|                                                                | 0/2619 [00:00<?, ?it/s]"
     ]
    },
    {
     "name": "stdout",
     "output_type": "stream",
     "text": [
      "/home/wangnan/mrc4ner/checkpoints/ChineseMSRA/2020_09_12_15_38_10/checkpoint_6.cpt \n",
      " Namespace(allow_impossible=True, alpha=1, beta=1, cls=True, cpu=False, dataset_tag='ChineseMSRA', debug=False, dev_batch=10, dev_path='./datasets/OntoNotes4.0/mrc-ner.dev', dropout_prob=0.1, epochs=10, eval=False, gamma=1, local_rank=0, log_steps=20, loss_sampler_epoch=10000000, lr=9e-06, max_grad_norm=0.5, max_tokens=450, not_store=False, pretrained_model_name_or_path='/home/wangnan/pretrained_models/chinese-bert-wwm-ext', reduction='mean', reload=False, seed=209, span_layer=True, theta=1, train_batch=4, train_path='/home/wangnan/mrc4ner/datasets/ChineseMSRA/mrc-ner.train', train_span_method='gold', warmup_ratio=0.1, weight_decay=0.01)\n"
     ]
    },
    {
     "name": "stderr",
     "output_type": "stream",
     "text": [
      "eval: 100%|█████████████████████████████████████████████████████| 2619/2619 [02:35<00:00, 16.86it/s]"
     ]
    },
    {
     "name": "stdout",
     "output_type": "stream",
     "text": [
      "model checkpoint_6.cpt test dataset:\n",
      "precision:0.9488 recall:0.9307 f1:0.9397\n",
      "[('checkpoint_0.cpt', 0.8827361561920491, 0.8687444343955931, 0.8756839088149447), ('checkpoint_1.cpt', 0.9237826392159875, 0.9325022260138018, 0.9281214532279779), ('checkpoint_2.cpt', 0.922669491362523, 0.9307212821138519, 0.9266773968220696), ('checkpoint_3.cpt', 0.9323055110876651, 0.9369545857636767, 0.9346237670251005), ('checkpoint_4.cpt', 0.931850282321354, 0.9399821903935918, 0.9358980724122398), ('checkpoint_5.cpt', 0.9499909072649588, 0.9303650933338619, 0.9400750802346739), ('checkpoint_6.cpt', 0.948801742747131, 0.9307212821138519, 0.939674048110965)]\n"
     ]
    },
    {
     "name": "stderr",
     "output_type": "stream",
     "text": [
      "\n"
     ]
    }
   ],
   "source": [
    "#bert base的结果\n",
    "base_dir = '/home/wangnan/mrc4ner/checkpoints/ChineseMSRA/'\n",
    "base_model_dir = '2020_09_12_15_38_10'\n",
    "model_dir = base_dir+base_model_dir+'/'\n",
    "args = pickle.load(open(model_dir+'args','rb'))\n",
    "files = os.listdir(base_dir+base_model_dir)\n",
    "files.remove('args')\n",
    "files = sorted(files)\n",
    "scores = []\n",
    "for file in files:\n",
    "    s = test(model_dir,file,args)\n",
    "    scores.append(s)\n",
    "print(scores)"
   ]
  },
  {
   "cell_type": "code",
   "execution_count": null,
   "metadata": {},
   "outputs": [],
   "source": []
  }
 ],
 "metadata": {
  "kernelspec": {
   "display_name": "Python 3",
   "language": "python",
   "name": "python3"
  },
  "language_info": {
   "codemirror_mode": {
    "name": "ipython",
    "version": 3
   },
   "file_extension": ".py",
   "mimetype": "text/x-python",
   "name": "python",
   "nbconvert_exporter": "python",
   "pygments_lexer": "ipython3",
   "version": "3.8.3"
  }
 },
 "nbformat": 4,
 "nbformat_minor": 4
}
