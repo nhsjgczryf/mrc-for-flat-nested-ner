{
 "cells": [
  {
   "cell_type": "code",
   "execution_count": 1,
   "metadata": {},
   "outputs": [],
   "source": [
    "import os\n",
    "os.chdir('/home/wangnan/mrc4ner')\n",
    "from evaluate import evaluation\n",
    "from model import MyModel,MyModel2\n",
    "from mydataset import load_data,collate_fn,MyDataset\n",
    "import pickle \n",
    "from transformers import BertTokenizer\n",
    "import torch\n",
    "import time\n",
    "from tqdm import tqdm\n",
    "from torch.utils.data import DataLoader\n",
    "\n",
    "os.environ['CUDA_VISIBLE_DEVICES']='1'"
   ]
  },
  {
   "cell_type": "code",
   "execution_count": 2,
   "metadata": {},
   "outputs": [],
   "source": [
    "pretrained_model = '/home/wangnan/pretrained_models/chinese-bert-wwm-ext'\n",
    "test_path = '/home/wangnan/mrc4ner/datasets/ChineseMSRA/mrc-ner.test'\n",
    "dataloader_path = '/home/wangnan/mrc4ner/datasets/ChineseMSRA/test_dataloader'\n",
    "batch=10"
   ]
  },
  {
   "cell_type": "code",
   "execution_count": 3,
   "metadata": {},
   "outputs": [],
   "source": [
    "if not os.path.exists(dataloader_path):\n",
    "    test_dataloader = load_data(pretrained_model,test_path,5,False,True)\n",
    "    pickle.dump(test_dataloader,open(dataloader_path,'wb'))\n",
    "else:\n",
    "    test_dataloader = pickle.load(open(dataloader_path,'rb'))"
   ]
  },
  {
   "cell_type": "code",
   "execution_count": 4,
   "metadata": {},
   "outputs": [
    {
     "data": {
      "text/plain": [
       "<torch.utils.data.dataloader.DataLoader at 0x7f48276cc040>"
      ]
     },
     "execution_count": 4,
     "metadata": {},
     "output_type": "execute_result"
    }
   ],
   "source": [
    "test_dataloader"
   ]
  },
  {
   "cell_type": "code",
   "execution_count": 5,
   "metadata": {},
   "outputs": [],
   "source": [
    "def test(model_dir,file,args):\n",
    "    path = model_dir+file\n",
    "    cpt = torch.load(path,map_location=torch.device('cpu'))\n",
    "    mymodel = MyModel(args)\n",
    "    mymodel.load_state_dict(cpt[\"state_dict\"])\n",
    "    print(path,'\\n',args)\n",
    "    time.sleep(0.1)\n",
    "    p,r,f = evaluation(mymodel,test_dataloader,train_eval=False)\n",
    "    print(\"model {} test dataset:\\nprecision:{:.4f} recall:{:.4f} f1:{:.4f}\".format(file,p,r,f))\n",
    "    return file,p,r,f"
   ]
  },
  {
   "cell_type": "code",
   "execution_count": 6,
   "metadata": {},
   "outputs": [
    {
     "name": "stdout",
     "output_type": "stream",
     "text": [
      "/home/wangnan/mrc4ner/checkpoints/OntoNotes4.0/2020_09_11_18_08_05/checkpoint_0.cpt \n",
      " Namespace(allow_impossible=True, alpha=1, beta=1, cls=True, cpu=False, dataset_tag='OntoNotes4.0', debug=False, dev_batch=10, dev_path='./datasets/OntoNotes4.0/mrc-ner.dev', dropout_prob=0.1, epochs=10, eval=False, gamma=1, local_rank=0, log_steps=20, loss_sampler_epoch=10000000, lr=2e-05, max_grad_norm=0.5, max_tokens=1000, not_store=False, pretrained_model_name_or_path='/home/wangnan/pretrained_models/chinese-bert-wwm-ext', reduction='mean', reload=False, seed=209, span_layer=True, theta=1, train_batch=4, train_path='/home/wangnan/mrc4ner/datasets/ChineseMSRA/mrc-ner.train', train_span_method='gold', warmup_ratio=0.1, weight_decay=0.01)\n"
     ]
    },
    {
     "name": "stderr",
     "output_type": "stream",
     "text": [
      "eval: 100%|█████████████████████████████████████████████████████| 2619/2619 [01:27<00:00, 30.04it/s]\n"
     ]
    },
    {
     "name": "stdout",
     "output_type": "stream",
     "text": [
      "model checkpoint_0.cpt test dataset:\n",
      "precision:0.8670 recall:0.8722 f1:0.8696\n"
     ]
    },
    {
     "name": "stderr",
     "output_type": "stream",
     "text": [
      "eval:   0%|                                                                | 0/2619 [00:00<?, ?it/s]"
     ]
    },
    {
     "name": "stdout",
     "output_type": "stream",
     "text": [
      "/home/wangnan/mrc4ner/checkpoints/OntoNotes4.0/2020_09_11_18_08_05/checkpoint_1.cpt \n",
      " Namespace(allow_impossible=True, alpha=1, beta=1, cls=True, cpu=False, dataset_tag='OntoNotes4.0', debug=False, dev_batch=10, dev_path='./datasets/OntoNotes4.0/mrc-ner.dev', dropout_prob=0.1, epochs=10, eval=False, gamma=1, local_rank=0, log_steps=20, loss_sampler_epoch=10000000, lr=2e-05, max_grad_norm=0.5, max_tokens=1000, not_store=False, pretrained_model_name_or_path='/home/wangnan/pretrained_models/chinese-bert-wwm-ext', reduction='mean', reload=False, seed=209, span_layer=True, theta=1, train_batch=4, train_path='/home/wangnan/mrc4ner/datasets/ChineseMSRA/mrc-ner.train', train_span_method='gold', warmup_ratio=0.1, weight_decay=0.01)\n"
     ]
    },
    {
     "name": "stderr",
     "output_type": "stream",
     "text": [
      "eval: 100%|█████████████████████████████████████████████████████| 2619/2619 [01:17<00:00, 33.59it/s]\n"
     ]
    },
    {
     "name": "stdout",
     "output_type": "stream",
     "text": [
      "model checkpoint_1.cpt test dataset:\n",
      "precision:0.9158 recall:0.9106 f1:0.9132\n"
     ]
    },
    {
     "name": "stderr",
     "output_type": "stream",
     "text": [
      "eval:   0%|                                                                | 0/2619 [00:00<?, ?it/s]"
     ]
    },
    {
     "name": "stdout",
     "output_type": "stream",
     "text": [
      "/home/wangnan/mrc4ner/checkpoints/OntoNotes4.0/2020_09_11_18_08_05/checkpoint_2.cpt \n",
      " Namespace(allow_impossible=True, alpha=1, beta=1, cls=True, cpu=False, dataset_tag='OntoNotes4.0', debug=False, dev_batch=10, dev_path='./datasets/OntoNotes4.0/mrc-ner.dev', dropout_prob=0.1, epochs=10, eval=False, gamma=1, local_rank=0, log_steps=20, loss_sampler_epoch=10000000, lr=2e-05, max_grad_norm=0.5, max_tokens=1000, not_store=False, pretrained_model_name_or_path='/home/wangnan/pretrained_models/chinese-bert-wwm-ext', reduction='mean', reload=False, seed=209, span_layer=True, theta=1, train_batch=4, train_path='/home/wangnan/mrc4ner/datasets/ChineseMSRA/mrc-ner.train', train_span_method='gold', warmup_ratio=0.1, weight_decay=0.01)\n"
     ]
    },
    {
     "name": "stderr",
     "output_type": "stream",
     "text": [
      "eval: 100%|█████████████████████████████████████████████████████| 2619/2619 [01:16<00:00, 34.28it/s]\n"
     ]
    },
    {
     "name": "stdout",
     "output_type": "stream",
     "text": [
      "model checkpoint_2.cpt test dataset:\n",
      "precision:0.9040 recall:0.9293 f1:0.9165\n"
     ]
    },
    {
     "name": "stderr",
     "output_type": "stream",
     "text": [
      "eval:   0%|                                                                | 0/2619 [00:00<?, ?it/s]"
     ]
    },
    {
     "name": "stdout",
     "output_type": "stream",
     "text": [
      "/home/wangnan/mrc4ner/checkpoints/OntoNotes4.0/2020_09_11_18_08_05/checkpoint_3.cpt \n",
      " Namespace(allow_impossible=True, alpha=1, beta=1, cls=True, cpu=False, dataset_tag='OntoNotes4.0', debug=False, dev_batch=10, dev_path='./datasets/OntoNotes4.0/mrc-ner.dev', dropout_prob=0.1, epochs=10, eval=False, gamma=1, local_rank=0, log_steps=20, loss_sampler_epoch=10000000, lr=2e-05, max_grad_norm=0.5, max_tokens=1000, not_store=False, pretrained_model_name_or_path='/home/wangnan/pretrained_models/chinese-bert-wwm-ext', reduction='mean', reload=False, seed=209, span_layer=True, theta=1, train_batch=4, train_path='/home/wangnan/mrc4ner/datasets/ChineseMSRA/mrc-ner.train', train_span_method='gold', warmup_ratio=0.1, weight_decay=0.01)\n"
     ]
    },
    {
     "name": "stderr",
     "output_type": "stream",
     "text": [
      "eval: 100%|█████████████████████████████████████████████████████| 2619/2619 [01:17<00:00, 33.91it/s]\n"
     ]
    },
    {
     "name": "stdout",
     "output_type": "stream",
     "text": [
      "model checkpoint_3.cpt test dataset:\n",
      "precision:0.9192 recall:0.9322 f1:0.9256\n"
     ]
    },
    {
     "name": "stderr",
     "output_type": "stream",
     "text": [
      "eval:   0%|                                                                | 0/2619 [00:00<?, ?it/s]"
     ]
    },
    {
     "name": "stdout",
     "output_type": "stream",
     "text": [
      "/home/wangnan/mrc4ner/checkpoints/OntoNotes4.0/2020_09_11_18_08_05/checkpoint_4.cpt \n",
      " Namespace(allow_impossible=True, alpha=1, beta=1, cls=True, cpu=False, dataset_tag='OntoNotes4.0', debug=False, dev_batch=10, dev_path='./datasets/OntoNotes4.0/mrc-ner.dev', dropout_prob=0.1, epochs=10, eval=False, gamma=1, local_rank=0, log_steps=20, loss_sampler_epoch=10000000, lr=2e-05, max_grad_norm=0.5, max_tokens=1000, not_store=False, pretrained_model_name_or_path='/home/wangnan/pretrained_models/chinese-bert-wwm-ext', reduction='mean', reload=False, seed=209, span_layer=True, theta=1, train_batch=4, train_path='/home/wangnan/mrc4ner/datasets/ChineseMSRA/mrc-ner.train', train_span_method='gold', warmup_ratio=0.1, weight_decay=0.01)\n"
     ]
    },
    {
     "name": "stderr",
     "output_type": "stream",
     "text": [
      "eval: 100%|█████████████████████████████████████████████████████| 2619/2619 [01:17<00:00, 33.95it/s]\n"
     ]
    },
    {
     "name": "stdout",
     "output_type": "stream",
     "text": [
      "model checkpoint_4.cpt test dataset:\n",
      "precision:0.9288 recall:0.9347 f1:0.9318\n"
     ]
    },
    {
     "name": "stderr",
     "output_type": "stream",
     "text": [
      "eval:   0%|                                                                | 0/2619 [00:00<?, ?it/s]"
     ]
    },
    {
     "name": "stdout",
     "output_type": "stream",
     "text": [
      "/home/wangnan/mrc4ner/checkpoints/OntoNotes4.0/2020_09_11_18_08_05/checkpoint_5.cpt \n",
      " Namespace(allow_impossible=True, alpha=1, beta=1, cls=True, cpu=False, dataset_tag='OntoNotes4.0', debug=False, dev_batch=10, dev_path='./datasets/OntoNotes4.0/mrc-ner.dev', dropout_prob=0.1, epochs=10, eval=False, gamma=1, local_rank=0, log_steps=20, loss_sampler_epoch=10000000, lr=2e-05, max_grad_norm=0.5, max_tokens=1000, not_store=False, pretrained_model_name_or_path='/home/wangnan/pretrained_models/chinese-bert-wwm-ext', reduction='mean', reload=False, seed=209, span_layer=True, theta=1, train_batch=4, train_path='/home/wangnan/mrc4ner/datasets/ChineseMSRA/mrc-ner.train', train_span_method='gold', warmup_ratio=0.1, weight_decay=0.01)\n"
     ]
    },
    {
     "name": "stderr",
     "output_type": "stream",
     "text": [
      "eval: 100%|█████████████████████████████████████████████████████| 2619/2619 [01:18<00:00, 33.43it/s]\n"
     ]
    },
    {
     "name": "stdout",
     "output_type": "stream",
     "text": [
      "model checkpoint_5.cpt test dataset:\n",
      "precision:0.9267 recall:0.9282 f1:0.9274\n"
     ]
    },
    {
     "name": "stderr",
     "output_type": "stream",
     "text": [
      "eval:   0%|                                                                | 0/2619 [00:00<?, ?it/s]"
     ]
    },
    {
     "name": "stdout",
     "output_type": "stream",
     "text": [
      "/home/wangnan/mrc4ner/checkpoints/OntoNotes4.0/2020_09_11_18_08_05/checkpoint_6.cpt \n",
      " Namespace(allow_impossible=True, alpha=1, beta=1, cls=True, cpu=False, dataset_tag='OntoNotes4.0', debug=False, dev_batch=10, dev_path='./datasets/OntoNotes4.0/mrc-ner.dev', dropout_prob=0.1, epochs=10, eval=False, gamma=1, local_rank=0, log_steps=20, loss_sampler_epoch=10000000, lr=2e-05, max_grad_norm=0.5, max_tokens=1000, not_store=False, pretrained_model_name_or_path='/home/wangnan/pretrained_models/chinese-bert-wwm-ext', reduction='mean', reload=False, seed=209, span_layer=True, theta=1, train_batch=4, train_path='/home/wangnan/mrc4ner/datasets/ChineseMSRA/mrc-ner.train', train_span_method='gold', warmup_ratio=0.1, weight_decay=0.01)\n"
     ]
    },
    {
     "name": "stderr",
     "output_type": "stream",
     "text": [
      "eval: 100%|█████████████████████████████████████████████████████| 2619/2619 [01:17<00:00, 33.88it/s]\n"
     ]
    },
    {
     "name": "stdout",
     "output_type": "stream",
     "text": [
      "model checkpoint_6.cpt test dataset:\n",
      "precision:0.9216 recall:0.9420 f1:0.9317\n"
     ]
    },
    {
     "name": "stderr",
     "output_type": "stream",
     "text": [
      "eval:   0%|                                                                | 0/2619 [00:00<?, ?it/s]"
     ]
    },
    {
     "name": "stdout",
     "output_type": "stream",
     "text": [
      "/home/wangnan/mrc4ner/checkpoints/OntoNotes4.0/2020_09_11_18_08_05/checkpoint_7.cpt \n",
      " Namespace(allow_impossible=True, alpha=1, beta=1, cls=True, cpu=False, dataset_tag='OntoNotes4.0', debug=False, dev_batch=10, dev_path='./datasets/OntoNotes4.0/mrc-ner.dev', dropout_prob=0.1, epochs=10, eval=False, gamma=1, local_rank=0, log_steps=20, loss_sampler_epoch=10000000, lr=2e-05, max_grad_norm=0.5, max_tokens=1000, not_store=False, pretrained_model_name_or_path='/home/wangnan/pretrained_models/chinese-bert-wwm-ext', reduction='mean', reload=False, seed=209, span_layer=True, theta=1, train_batch=4, train_path='/home/wangnan/mrc4ner/datasets/ChineseMSRA/mrc-ner.train', train_span_method='gold', warmup_ratio=0.1, weight_decay=0.01)\n"
     ]
    },
    {
     "name": "stderr",
     "output_type": "stream",
     "text": [
      "eval: 100%|█████████████████████████████████████████████████████| 2619/2619 [01:17<00:00, 33.75it/s]\n"
     ]
    },
    {
     "name": "stdout",
     "output_type": "stream",
     "text": [
      "model checkpoint_7.cpt test dataset:\n",
      "precision:0.9300 recall:0.9398 f1:0.9349\n"
     ]
    },
    {
     "name": "stderr",
     "output_type": "stream",
     "text": [
      "eval:   0%|                                                                | 0/2619 [00:00<?, ?it/s]"
     ]
    },
    {
     "name": "stdout",
     "output_type": "stream",
     "text": [
      "/home/wangnan/mrc4ner/checkpoints/OntoNotes4.0/2020_09_11_18_08_05/checkpoint_8.cpt \n",
      " Namespace(allow_impossible=True, alpha=1, beta=1, cls=True, cpu=False, dataset_tag='OntoNotes4.0', debug=False, dev_batch=10, dev_path='./datasets/OntoNotes4.0/mrc-ner.dev', dropout_prob=0.1, epochs=10, eval=False, gamma=1, local_rank=0, log_steps=20, loss_sampler_epoch=10000000, lr=2e-05, max_grad_norm=0.5, max_tokens=1000, not_store=False, pretrained_model_name_or_path='/home/wangnan/pretrained_models/chinese-bert-wwm-ext', reduction='mean', reload=False, seed=209, span_layer=True, theta=1, train_batch=4, train_path='/home/wangnan/mrc4ner/datasets/ChineseMSRA/mrc-ner.train', train_span_method='gold', warmup_ratio=0.1, weight_decay=0.01)\n"
     ]
    },
    {
     "name": "stderr",
     "output_type": "stream",
     "text": [
      "eval: 100%|█████████████████████████████████████████████████████| 2619/2619 [01:18<00:00, 33.28it/s]\n"
     ]
    },
    {
     "name": "stdout",
     "output_type": "stream",
     "text": [
      "model checkpoint_8.cpt test dataset:\n",
      "precision:0.9311 recall:0.9409 f1:0.9360\n"
     ]
    },
    {
     "name": "stderr",
     "output_type": "stream",
     "text": [
      "eval:   0%|                                                                | 0/2619 [00:00<?, ?it/s]"
     ]
    },
    {
     "name": "stdout",
     "output_type": "stream",
     "text": [
      "/home/wangnan/mrc4ner/checkpoints/OntoNotes4.0/2020_09_11_18_08_05/checkpoint_9.cpt \n",
      " Namespace(allow_impossible=True, alpha=1, beta=1, cls=True, cpu=False, dataset_tag='OntoNotes4.0', debug=False, dev_batch=10, dev_path='./datasets/OntoNotes4.0/mrc-ner.dev', dropout_prob=0.1, epochs=10, eval=False, gamma=1, local_rank=0, log_steps=20, loss_sampler_epoch=10000000, lr=2e-05, max_grad_norm=0.5, max_tokens=1000, not_store=False, pretrained_model_name_or_path='/home/wangnan/pretrained_models/chinese-bert-wwm-ext', reduction='mean', reload=False, seed=209, span_layer=True, theta=1, train_batch=4, train_path='/home/wangnan/mrc4ner/datasets/ChineseMSRA/mrc-ner.train', train_span_method='gold', warmup_ratio=0.1, weight_decay=0.01)\n"
     ]
    },
    {
     "name": "stderr",
     "output_type": "stream",
     "text": [
      "eval: 100%|█████████████████████████████████████████████████████| 2619/2619 [01:17<00:00, 33.62it/s]"
     ]
    },
    {
     "name": "stdout",
     "output_type": "stream",
     "text": [
      "model checkpoint_9.cpt test dataset:\n",
      "precision:0.9315 recall:0.9373 f1:0.9344\n",
      "[('checkpoint_0.cpt', 0.8669790914082589, 0.8721668176115744, 0.8695647172388383), ('checkpoint_1.cpt', 0.91575492324658, 0.9106074341050575, 0.9131734247404626), ('checkpoint_2.cpt', 0.9040395129821768, 0.9292837713636838, 0.9164873397022835), ('checkpoint_3.cpt', 0.919184694990312, 0.9321849499669655, 0.925638678828374), ('checkpoint_4.cpt', 0.9288288286614722, 0.9347234812448371, 0.9317663321911241), ('checkpoint_5.cpt', 0.9266835624680152, 0.9281958293874532, 0.9274385794593502), ('checkpoint_6.cpt', 0.9215894977964183, 0.9419764277530414, 0.9316709489604531), ('checkpoint_7.cpt', 0.9300197378557294, 0.9398005438005801, 0.9348840597298783), ('checkpoint_8.cpt', 0.931096357270573, 0.9408884857768107, 0.9359663108119339), ('checkpoint_9.cpt', 0.9315191924794523, 0.9372620125227086, 0.93438127857795)]\n"
     ]
    },
    {
     "name": "stderr",
     "output_type": "stream",
     "text": [
      "\n"
     ]
    }
   ],
   "source": [
    "#bert base的结果\n",
    "base_dir = '/home/wangnan/mrc4ner/checkpoints/OntoNotes4.0/'\n",
    "base_model_dir = '2020_09_11_18_08_05'\n",
    "model_dir = base_dir+base_model_dir+'/'\n",
    "args = pickle.load(open(model_dir+'args','rb'))\n",
    "files = os.listdir(base_dir+base_model_dir)\n",
    "files.remove('args')\n",
    "files = sorted(files)\n",
    "scores = []\n",
    "for file in files:\n",
    "    s = test(model_dir,file,args)\n",
    "    scores.append(s)\n",
    "print(scores)"
   ]
  },
  {
   "cell_type": "code",
   "execution_count": null,
   "metadata": {},
   "outputs": [],
   "source": []
  },
  {
   "cell_type": "code",
   "execution_count": null,
   "metadata": {},
   "outputs": [],
   "source": []
  }
 ],
 "metadata": {
  "kernelspec": {
   "display_name": "mypython",
   "language": "python",
   "name": "mypython"
  },
  "language_info": {
   "codemirror_mode": {
    "name": "ipython",
    "version": 3
   },
   "file_extension": ".py",
   "mimetype": "text/x-python",
   "name": "python",
   "nbconvert_exporter": "python",
   "pygments_lexer": "ipython3",
   "version": "3.8.3"
  }
 },
 "nbformat": 4,
 "nbformat_minor": 4
}
