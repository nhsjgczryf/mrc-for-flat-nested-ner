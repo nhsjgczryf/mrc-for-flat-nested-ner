{
 "cells": [
  {
   "cell_type": "code",
   "execution_count": 1,
   "metadata": {},
   "outputs": [],
   "source": [
    "import os\n",
    "os.chdir('/home/wangnan/mrc4ner')\n",
    "from evaluate import evaluation\n",
    "from model import MyModel\n",
    "from mydataset import load_data,collate_fn,MyDataset\n",
    "import pickle \n",
    "from transformers import BertTokenizer\n",
    "import torch\n",
    "import time\n",
    "from tqdm import tqdm\n",
    "from torch.utils.data import DataLoader\n",
    "from multiprocessing import Process\n",
    "\n",
    "os.environ['CUDA_VISIBLE_DEVICES']='1'"
   ]
  },
  {
   "cell_type": "code",
   "execution_count": 2,
   "metadata": {},
   "outputs": [],
   "source": [
    "pretrained_model1 = '/home/wangnan/mrc4ner/pretrained_models/chinese_roberta_wwm_large_ext_pytorch'\n",
    "pretrained_model2 = '/home/wangnan/mrc4ner/pretrained_models/RoBERTa_zh_Large_PyTorch'\n",
    "\n",
    "dev_path = '/home/wangnan/mrc4ner/datasets/OntoNotes4.0/mrc-ner.dev'\n",
    "test_path = '/home/wangnan/mrc4ner/datasets/OntoNotes4.0/mrc-ner.test'"
   ]
  },
  {
   "cell_type": "code",
   "execution_count": 3,
   "metadata": {},
   "outputs": [],
   "source": [
    "with open(\"/home/wangnan/mrc4ner/datasets/OntoNotes4.0/eval_dataset\",'rb') as f:\n",
    "    data = pickle.load(f)\n",
    "    pre1_dev_dataset=data['pre1_dev_dataset']\n",
    "    pre1_test_dataset=data['pre1_test_dataset']\n",
    "    pre2_dev_dataset=data['pre2_dev_dataset']\n",
    "    pre2_test_dataset=data['pre2_test_dataset']"
   ]
  },
  {
   "cell_type": "code",
   "execution_count": 4,
   "metadata": {},
   "outputs": [],
   "source": [
    "def test(model_dir,file,batch_size,args):\n",
    "    path = model_dir+file\n",
    "    cpt = torch.load(path,map_location=torch.device(\"cuda:0\"))\n",
    "    mymodel = MyModel(args)\n",
    "    mymodel.load_state_dict(cpt[\"state_dict\"])\n",
    "    test_dataset = pre1_test_dataset if args.pretrained_model_name_or_path==pretrained_model1 else pre2_test_dataset\n",
    "    test_dataloader = DataLoader(test_dataset, batch_size=batch_size, collate_fn=collate_fn,\n",
    "                              pin_memory=False,shuffle=False)\n",
    "    print(path,'\\n',args)\n",
    "    time.sleep(0.1)\n",
    "    p,r,f = evaluation(mymodel,test_dataloader,train_eval=False,desc=file)\n",
    "    print(\"model {} test dataset:\\nprecision:{:.4f} recall:{:.4f} f1:{:.4f}\".format(file,p,r,f))\n",
    "    return file,p,r,f"
   ]
  },
  {
   "cell_type": "code",
   "execution_count": 5,
   "metadata": {},
   "outputs": [
    {
     "name": "stdout",
     "output_type": "stream",
     "text": [
      "/home/wangnan/mrc4ner/checkpoints/2020_09_07_16_09_11/checkpoint_0_1.cpt \n",
      " Namespace(allow_impossible=True, alpha=1, beta=1, cls=True, cpu=False, debug=False, dev_batch=10, dev_path='./datasets/OntoNotes4.0/mrc-ner.dev', dropout_prob=0.1, epochs=10, eval=False, gamma=1, local_rank=2, log_steps=20, lr=8e-06, max_grad_norm=0.5, max_tokens=450, not_store=False, pretrained_model_name_or_path='./pretrained_models/chinese_roberta_wwm_large_ext_pytorch', reduction='mean', seed=209, span_layer=True, theta=1, train_batch=4, train_path='./datasets/OntoNotes4.0/mrc-ner.train', train_span_method='gold', warmup_ratio=0.1, weight_decay=0.01)\n"
     ]
    },
    {
     "name": "stderr",
     "output_type": "stream",
     "text": [
      "checkpoint_0_1.cpt: 100%|██████████| 2484/2484 [04:14<00:00,  9.75it/s]\n"
     ]
    },
    {
     "name": "stdout",
     "output_type": "stream",
     "text": [
      "model checkpoint_0_1.cpt test dataset:\n",
      "precision:0.0000 recall:0.0000 f1:0.0000\n",
      "/home/wangnan/mrc4ner/checkpoints/2020_09_07_16_09_11/checkpoint_0_2.cpt \n",
      " Namespace(allow_impossible=True, alpha=1, beta=1, cls=True, cpu=False, debug=False, dev_batch=10, dev_path='./datasets/OntoNotes4.0/mrc-ner.dev', dropout_prob=0.1, epochs=10, eval=False, gamma=1, local_rank=2, log_steps=20, lr=8e-06, max_grad_norm=0.5, max_tokens=450, not_store=False, pretrained_model_name_or_path='./pretrained_models/chinese_roberta_wwm_large_ext_pytorch', reduction='mean', seed=209, span_layer=True, theta=1, train_batch=4, train_path='./datasets/OntoNotes4.0/mrc-ner.train', train_span_method='gold', warmup_ratio=0.1, weight_decay=0.01)\n"
     ]
    },
    {
     "name": "stderr",
     "output_type": "stream",
     "text": [
      "checkpoint_0_2.cpt: 100%|██████████| 2484/2484 [04:18<00:00,  9.61it/s]\n"
     ]
    },
    {
     "name": "stdout",
     "output_type": "stream",
     "text": [
      "model checkpoint_0_2.cpt test dataset:\n",
      "precision:0.0000 recall:0.0000 f1:0.0000\n",
      "/home/wangnan/mrc4ner/checkpoints/2020_09_07_16_09_11/checkpoint_0_3.cpt \n",
      " Namespace(allow_impossible=True, alpha=1, beta=1, cls=True, cpu=False, debug=False, dev_batch=10, dev_path='./datasets/OntoNotes4.0/mrc-ner.dev', dropout_prob=0.1, epochs=10, eval=False, gamma=1, local_rank=2, log_steps=20, lr=8e-06, max_grad_norm=0.5, max_tokens=450, not_store=False, pretrained_model_name_or_path='./pretrained_models/chinese_roberta_wwm_large_ext_pytorch', reduction='mean', seed=209, span_layer=True, theta=1, train_batch=4, train_path='./datasets/OntoNotes4.0/mrc-ner.train', train_span_method='gold', warmup_ratio=0.1, weight_decay=0.01)\n"
     ]
    },
    {
     "name": "stderr",
     "output_type": "stream",
     "text": [
      "checkpoint_0_3.cpt: 100%|██████████| 2484/2484 [04:19<00:00,  9.59it/s]\n"
     ]
    },
    {
     "name": "stdout",
     "output_type": "stream",
     "text": [
      "model checkpoint_0_3.cpt test dataset:\n",
      "precision:0.2713 recall:0.0387 f1:0.0677\n",
      "/home/wangnan/mrc4ner/checkpoints/2020_09_07_16_09_11/checkpoint_0_4.cpt \n",
      " Namespace(allow_impossible=True, alpha=1, beta=1, cls=True, cpu=False, debug=False, dev_batch=10, dev_path='./datasets/OntoNotes4.0/mrc-ner.dev', dropout_prob=0.1, epochs=10, eval=False, gamma=1, local_rank=2, log_steps=20, lr=8e-06, max_grad_norm=0.5, max_tokens=450, not_store=False, pretrained_model_name_or_path='./pretrained_models/chinese_roberta_wwm_large_ext_pytorch', reduction='mean', seed=209, span_layer=True, theta=1, train_batch=4, train_path='./datasets/OntoNotes4.0/mrc-ner.train', train_span_method='gold', warmup_ratio=0.1, weight_decay=0.01)\n"
     ]
    },
    {
     "name": "stderr",
     "output_type": "stream",
     "text": [
      "checkpoint_0_4.cpt: 100%|██████████| 2484/2484 [04:19<00:00,  9.57it/s]\n"
     ]
    },
    {
     "name": "stdout",
     "output_type": "stream",
     "text": [
      "model checkpoint_0_4.cpt test dataset:\n",
      "precision:0.5898 recall:0.3505 f1:0.4397\n",
      "/home/wangnan/mrc4ner/checkpoints/2020_09_07_16_09_11/checkpoint_0_5.cpt \n",
      " Namespace(allow_impossible=True, alpha=1, beta=1, cls=True, cpu=False, debug=False, dev_batch=10, dev_path='./datasets/OntoNotes4.0/mrc-ner.dev', dropout_prob=0.1, epochs=10, eval=False, gamma=1, local_rank=2, log_steps=20, lr=8e-06, max_grad_norm=0.5, max_tokens=450, not_store=False, pretrained_model_name_or_path='./pretrained_models/chinese_roberta_wwm_large_ext_pytorch', reduction='mean', seed=209, span_layer=True, theta=1, train_batch=4, train_path='./datasets/OntoNotes4.0/mrc-ner.train', train_span_method='gold', warmup_ratio=0.1, weight_decay=0.01)\n"
     ]
    },
    {
     "name": "stderr",
     "output_type": "stream",
     "text": [
      "checkpoint_0_5.cpt: 100%|██████████| 2484/2484 [04:20<00:00,  9.54it/s]\n"
     ]
    },
    {
     "name": "stdout",
     "output_type": "stream",
     "text": [
      "model checkpoint_0_5.cpt test dataset:\n",
      "precision:0.7059 recall:0.4939 f1:0.5811\n",
      "/home/wangnan/mrc4ner/checkpoints/2020_09_07_16_09_11/checkpoint_0_6.cpt \n",
      " Namespace(allow_impossible=True, alpha=1, beta=1, cls=True, cpu=False, debug=False, dev_batch=10, dev_path='./datasets/OntoNotes4.0/mrc-ner.dev', dropout_prob=0.1, epochs=10, eval=False, gamma=1, local_rank=2, log_steps=20, lr=8e-06, max_grad_norm=0.5, max_tokens=450, not_store=False, pretrained_model_name_or_path='./pretrained_models/chinese_roberta_wwm_large_ext_pytorch', reduction='mean', seed=209, span_layer=True, theta=1, train_batch=4, train_path='./datasets/OntoNotes4.0/mrc-ner.train', train_span_method='gold', warmup_ratio=0.1, weight_decay=0.01)\n"
     ]
    },
    {
     "name": "stderr",
     "output_type": "stream",
     "text": [
      "checkpoint_0_6.cpt: 100%|██████████| 2484/2484 [04:21<00:00,  9.51it/s]\n"
     ]
    },
    {
     "name": "stdout",
     "output_type": "stream",
     "text": [
      "model checkpoint_0_6.cpt test dataset:\n",
      "precision:0.5537 recall:0.7576 f1:0.6398\n",
      "/home/wangnan/mrc4ner/checkpoints/2020_09_07_16_09_11/checkpoint_0_7.cpt \n",
      " Namespace(allow_impossible=True, alpha=1, beta=1, cls=True, cpu=False, debug=False, dev_batch=10, dev_path='./datasets/OntoNotes4.0/mrc-ner.dev', dropout_prob=0.1, epochs=10, eval=False, gamma=1, local_rank=2, log_steps=20, lr=8e-06, max_grad_norm=0.5, max_tokens=450, not_store=False, pretrained_model_name_or_path='./pretrained_models/chinese_roberta_wwm_large_ext_pytorch', reduction='mean', seed=209, span_layer=True, theta=1, train_batch=4, train_path='./datasets/OntoNotes4.0/mrc-ner.train', train_span_method='gold', warmup_ratio=0.1, weight_decay=0.01)\n"
     ]
    },
    {
     "name": "stderr",
     "output_type": "stream",
     "text": [
      "checkpoint_0_7.cpt: 100%|██████████| 2484/2484 [04:20<00:00,  9.55it/s]\n"
     ]
    },
    {
     "name": "stdout",
     "output_type": "stream",
     "text": [
      "model checkpoint_0_7.cpt test dataset:\n",
      "precision:0.7599 recall:0.6610 f1:0.7070\n",
      "/home/wangnan/mrc4ner/checkpoints/2020_09_07_16_09_11/checkpoint_0_8.cpt \n",
      " Namespace(allow_impossible=True, alpha=1, beta=1, cls=True, cpu=False, debug=False, dev_batch=10, dev_path='./datasets/OntoNotes4.0/mrc-ner.dev', dropout_prob=0.1, epochs=10, eval=False, gamma=1, local_rank=2, log_steps=20, lr=8e-06, max_grad_norm=0.5, max_tokens=450, not_store=False, pretrained_model_name_or_path='./pretrained_models/chinese_roberta_wwm_large_ext_pytorch', reduction='mean', seed=209, span_layer=True, theta=1, train_batch=4, train_path='./datasets/OntoNotes4.0/mrc-ner.train', train_span_method='gold', warmup_ratio=0.1, weight_decay=0.01)\n"
     ]
    },
    {
     "name": "stderr",
     "output_type": "stream",
     "text": [
      "checkpoint_0_8.cpt: 100%|██████████| 2484/2484 [04:19<00:00,  9.57it/s]\n"
     ]
    },
    {
     "name": "stdout",
     "output_type": "stream",
     "text": [
      "model checkpoint_0_8.cpt test dataset:\n",
      "precision:0.6824 recall:0.7689 f1:0.7230\n",
      "/home/wangnan/mrc4ner/checkpoints/2020_09_07_16_09_11/checkpoint_1_1.cpt \n",
      " Namespace(allow_impossible=True, alpha=1, beta=1, cls=True, cpu=False, debug=False, dev_batch=10, dev_path='./datasets/OntoNotes4.0/mrc-ner.dev', dropout_prob=0.1, epochs=10, eval=False, gamma=1, local_rank=2, log_steps=20, lr=8e-06, max_grad_norm=0.5, max_tokens=450, not_store=False, pretrained_model_name_or_path='./pretrained_models/chinese_roberta_wwm_large_ext_pytorch', reduction='mean', seed=209, span_layer=True, theta=1, train_batch=4, train_path='./datasets/OntoNotes4.0/mrc-ner.train', train_span_method='gold', warmup_ratio=0.1, weight_decay=0.01)\n"
     ]
    },
    {
     "name": "stderr",
     "output_type": "stream",
     "text": [
      "checkpoint_1_1.cpt: 100%|██████████| 2484/2484 [04:25<00:00,  9.36it/s]\n"
     ]
    },
    {
     "name": "stdout",
     "output_type": "stream",
     "text": [
      "model checkpoint_1_1.cpt test dataset:\n",
      "precision:0.7784 recall:0.7104 f1:0.7428\n",
      "/home/wangnan/mrc4ner/checkpoints/2020_09_07_16_09_11/checkpoint_1_2.cpt \n",
      " Namespace(allow_impossible=True, alpha=1, beta=1, cls=True, cpu=False, debug=False, dev_batch=10, dev_path='./datasets/OntoNotes4.0/mrc-ner.dev', dropout_prob=0.1, epochs=10, eval=False, gamma=1, local_rank=2, log_steps=20, lr=8e-06, max_grad_norm=0.5, max_tokens=450, not_store=False, pretrained_model_name_or_path='./pretrained_models/chinese_roberta_wwm_large_ext_pytorch', reduction='mean', seed=209, span_layer=True, theta=1, train_batch=4, train_path='./datasets/OntoNotes4.0/mrc-ner.train', train_span_method='gold', warmup_ratio=0.1, weight_decay=0.01)\n"
     ]
    },
    {
     "name": "stderr",
     "output_type": "stream",
     "text": [
      "checkpoint_1_2.cpt: 100%|██████████| 2484/2484 [04:25<00:00,  9.37it/s]\n"
     ]
    },
    {
     "name": "stdout",
     "output_type": "stream",
     "text": [
      "model checkpoint_1_2.cpt test dataset:\n",
      "precision:0.7796 recall:0.7128 f1:0.7447\n",
      "/home/wangnan/mrc4ner/checkpoints/2020_09_07_16_09_11/checkpoint_1_3.cpt \n",
      " Namespace(allow_impossible=True, alpha=1, beta=1, cls=True, cpu=False, debug=False, dev_batch=10, dev_path='./datasets/OntoNotes4.0/mrc-ner.dev', dropout_prob=0.1, epochs=10, eval=False, gamma=1, local_rank=2, log_steps=20, lr=8e-06, max_grad_norm=0.5, max_tokens=450, not_store=False, pretrained_model_name_or_path='./pretrained_models/chinese_roberta_wwm_large_ext_pytorch', reduction='mean', seed=209, span_layer=True, theta=1, train_batch=4, train_path='./datasets/OntoNotes4.0/mrc-ner.train', train_span_method='gold', warmup_ratio=0.1, weight_decay=0.01)\n"
     ]
    },
    {
     "name": "stderr",
     "output_type": "stream",
     "text": [
      "checkpoint_1_3.cpt: 100%|██████████| 2484/2484 [04:24<00:00,  9.37it/s]\n"
     ]
    },
    {
     "name": "stdout",
     "output_type": "stream",
     "text": [
      "model checkpoint_1_3.cpt test dataset:\n",
      "precision:0.7909 recall:0.7557 f1:0.7729\n",
      "/home/wangnan/mrc4ner/checkpoints/2020_09_07_16_09_11/checkpoint_1_4.cpt \n",
      " Namespace(allow_impossible=True, alpha=1, beta=1, cls=True, cpu=False, debug=False, dev_batch=10, dev_path='./datasets/OntoNotes4.0/mrc-ner.dev', dropout_prob=0.1, epochs=10, eval=False, gamma=1, local_rank=2, log_steps=20, lr=8e-06, max_grad_norm=0.5, max_tokens=450, not_store=False, pretrained_model_name_or_path='./pretrained_models/chinese_roberta_wwm_large_ext_pytorch', reduction='mean', seed=209, span_layer=True, theta=1, train_batch=4, train_path='./datasets/OntoNotes4.0/mrc-ner.train', train_span_method='gold', warmup_ratio=0.1, weight_decay=0.01)\n"
     ]
    },
    {
     "name": "stderr",
     "output_type": "stream",
     "text": [
      "checkpoint_1_4.cpt: 100%|██████████| 2484/2484 [04:24<00:00,  9.39it/s]\n"
     ]
    },
    {
     "name": "stdout",
     "output_type": "stream",
     "text": [
      "model checkpoint_1_4.cpt test dataset:\n",
      "precision:0.8124 recall:0.7356 f1:0.7721\n",
      "/home/wangnan/mrc4ner/checkpoints/2020_09_07_16_09_11/checkpoint_1_5.cpt \n",
      " Namespace(allow_impossible=True, alpha=1, beta=1, cls=True, cpu=False, debug=False, dev_batch=10, dev_path='./datasets/OntoNotes4.0/mrc-ner.dev', dropout_prob=0.1, epochs=10, eval=False, gamma=1, local_rank=2, log_steps=20, lr=8e-06, max_grad_norm=0.5, max_tokens=450, not_store=False, pretrained_model_name_or_path='./pretrained_models/chinese_roberta_wwm_large_ext_pytorch', reduction='mean', seed=209, span_layer=True, theta=1, train_batch=4, train_path='./datasets/OntoNotes4.0/mrc-ner.train', train_span_method='gold', warmup_ratio=0.1, weight_decay=0.01)\n"
     ]
    },
    {
     "name": "stderr",
     "output_type": "stream",
     "text": [
      "checkpoint_1_5.cpt: 100%|██████████| 2484/2484 [04:24<00:00,  9.41it/s]\n"
     ]
    },
    {
     "name": "stdout",
     "output_type": "stream",
     "text": [
      "model checkpoint_1_5.cpt test dataset:\n",
      "precision:0.7265 recall:0.8077 f1:0.7649\n",
      "/home/wangnan/mrc4ner/checkpoints/2020_09_07_16_09_11/checkpoint_1_6.cpt \n",
      " Namespace(allow_impossible=True, alpha=1, beta=1, cls=True, cpu=False, debug=False, dev_batch=10, dev_path='./datasets/OntoNotes4.0/mrc-ner.dev', dropout_prob=0.1, epochs=10, eval=False, gamma=1, local_rank=2, log_steps=20, lr=8e-06, max_grad_norm=0.5, max_tokens=450, not_store=False, pretrained_model_name_or_path='./pretrained_models/chinese_roberta_wwm_large_ext_pytorch', reduction='mean', seed=209, span_layer=True, theta=1, train_batch=4, train_path='./datasets/OntoNotes4.0/mrc-ner.train', train_span_method='gold', warmup_ratio=0.1, weight_decay=0.01)\n"
     ]
    },
    {
     "name": "stderr",
     "output_type": "stream",
     "text": [
      "checkpoint_1_6.cpt: 100%|██████████| 2484/2484 [04:23<00:00,  9.42it/s]\n"
     ]
    },
    {
     "name": "stdout",
     "output_type": "stream",
     "text": [
      "model checkpoint_1_6.cpt test dataset:\n",
      "precision:0.7943 recall:0.7595 f1:0.7765\n",
      "/home/wangnan/mrc4ner/checkpoints/2020_09_07_16_09_11/checkpoint_1_7.cpt \n",
      " Namespace(allow_impossible=True, alpha=1, beta=1, cls=True, cpu=False, debug=False, dev_batch=10, dev_path='./datasets/OntoNotes4.0/mrc-ner.dev', dropout_prob=0.1, epochs=10, eval=False, gamma=1, local_rank=2, log_steps=20, lr=8e-06, max_grad_norm=0.5, max_tokens=450, not_store=False, pretrained_model_name_or_path='./pretrained_models/chinese_roberta_wwm_large_ext_pytorch', reduction='mean', seed=209, span_layer=True, theta=1, train_batch=4, train_path='./datasets/OntoNotes4.0/mrc-ner.train', train_span_method='gold', warmup_ratio=0.1, weight_decay=0.01)\n"
     ]
    },
    {
     "name": "stderr",
     "output_type": "stream",
     "text": [
      "checkpoint_1_7.cpt: 100%|██████████| 2484/2484 [04:25<00:00,  9.37it/s]\n"
     ]
    },
    {
     "name": "stdout",
     "output_type": "stream",
     "text": [
      "model checkpoint_1_7.cpt test dataset:\n",
      "precision:0.8315 recall:0.7468 f1:0.7869\n",
      "/home/wangnan/mrc4ner/checkpoints/2020_09_07_16_09_11/checkpoint_1_8.cpt \n",
      " Namespace(allow_impossible=True, alpha=1, beta=1, cls=True, cpu=False, debug=False, dev_batch=10, dev_path='./datasets/OntoNotes4.0/mrc-ner.dev', dropout_prob=0.1, epochs=10, eval=False, gamma=1, local_rank=2, log_steps=20, lr=8e-06, max_grad_norm=0.5, max_tokens=450, not_store=False, pretrained_model_name_or_path='./pretrained_models/chinese_roberta_wwm_large_ext_pytorch', reduction='mean', seed=209, span_layer=True, theta=1, train_batch=4, train_path='./datasets/OntoNotes4.0/mrc-ner.train', train_span_method='gold', warmup_ratio=0.1, weight_decay=0.01)\n"
     ]
    },
    {
     "name": "stderr",
     "output_type": "stream",
     "text": [
      "checkpoint_1_8.cpt: 100%|██████████| 2484/2484 [04:24<00:00,  9.39it/s]\n"
     ]
    },
    {
     "name": "stdout",
     "output_type": "stream",
     "text": [
      "model checkpoint_1_8.cpt test dataset:\n",
      "precision:0.7673 recall:0.8233 f1:0.7943\n",
      "/home/wangnan/mrc4ner/checkpoints/2020_09_07_16_09_11/checkpoint_2_1.cpt \n",
      " Namespace(allow_impossible=True, alpha=1, beta=1, cls=True, cpu=False, debug=False, dev_batch=10, dev_path='./datasets/OntoNotes4.0/mrc-ner.dev', dropout_prob=0.1, epochs=10, eval=False, gamma=1, local_rank=2, log_steps=20, lr=8e-06, max_grad_norm=0.5, max_tokens=450, not_store=False, pretrained_model_name_or_path='./pretrained_models/chinese_roberta_wwm_large_ext_pytorch', reduction='mean', seed=209, span_layer=True, theta=1, train_batch=4, train_path='./datasets/OntoNotes4.0/mrc-ner.train', train_span_method='gold', warmup_ratio=0.1, weight_decay=0.01)\n"
     ]
    },
    {
     "name": "stderr",
     "output_type": "stream",
     "text": [
      "checkpoint_2_1.cpt: 100%|██████████| 2484/2484 [04:25<00:00,  9.35it/s]\n"
     ]
    },
    {
     "name": "stdout",
     "output_type": "stream",
     "text": [
      "model checkpoint_2_1.cpt test dataset:\n",
      "precision:0.7847 recall:0.8043 f1:0.7944\n",
      "/home/wangnan/mrc4ner/checkpoints/2020_09_07_16_09_11/checkpoint_2_2.cpt \n",
      " Namespace(allow_impossible=True, alpha=1, beta=1, cls=True, cpu=False, debug=False, dev_batch=10, dev_path='./datasets/OntoNotes4.0/mrc-ner.dev', dropout_prob=0.1, epochs=10, eval=False, gamma=1, local_rank=2, log_steps=20, lr=8e-06, max_grad_norm=0.5, max_tokens=450, not_store=False, pretrained_model_name_or_path='./pretrained_models/chinese_roberta_wwm_large_ext_pytorch', reduction='mean', seed=209, span_layer=True, theta=1, train_batch=4, train_path='./datasets/OntoNotes4.0/mrc-ner.train', train_span_method='gold', warmup_ratio=0.1, weight_decay=0.01)\n"
     ]
    },
    {
     "name": "stderr",
     "output_type": "stream",
     "text": [
      "checkpoint_2_2.cpt: 100%|██████████| 2484/2484 [04:27<00:00,  9.30it/s]\n"
     ]
    },
    {
     "name": "stdout",
     "output_type": "stream",
     "text": [
      "model checkpoint_2_2.cpt test dataset:\n",
      "precision:0.7925 recall:0.8125 f1:0.8024\n",
      "/home/wangnan/mrc4ner/checkpoints/2020_09_07_16_09_11/checkpoint_2_3.cpt \n",
      " Namespace(allow_impossible=True, alpha=1, beta=1, cls=True, cpu=False, debug=False, dev_batch=10, dev_path='./datasets/OntoNotes4.0/mrc-ner.dev', dropout_prob=0.1, epochs=10, eval=False, gamma=1, local_rank=2, log_steps=20, lr=8e-06, max_grad_norm=0.5, max_tokens=450, not_store=False, pretrained_model_name_or_path='./pretrained_models/chinese_roberta_wwm_large_ext_pytorch', reduction='mean', seed=209, span_layer=True, theta=1, train_batch=4, train_path='./datasets/OntoNotes4.0/mrc-ner.train', train_span_method='gold', warmup_ratio=0.1, weight_decay=0.01)\n"
     ]
    },
    {
     "name": "stderr",
     "output_type": "stream",
     "text": [
      "checkpoint_2_3.cpt: 100%|██████████| 2484/2484 [04:26<00:00,  9.33it/s]\n"
     ]
    },
    {
     "name": "stdout",
     "output_type": "stream",
     "text": [
      "model checkpoint_2_3.cpt test dataset:\n",
      "precision:0.8332 recall:0.7461 f1:0.7873\n",
      "/home/wangnan/mrc4ner/checkpoints/2020_09_07_16_09_11/checkpoint_2_4.cpt \n",
      " Namespace(allow_impossible=True, alpha=1, beta=1, cls=True, cpu=False, debug=False, dev_batch=10, dev_path='./datasets/OntoNotes4.0/mrc-ner.dev', dropout_prob=0.1, epochs=10, eval=False, gamma=1, local_rank=2, log_steps=20, lr=8e-06, max_grad_norm=0.5, max_tokens=450, not_store=False, pretrained_model_name_or_path='./pretrained_models/chinese_roberta_wwm_large_ext_pytorch', reduction='mean', seed=209, span_layer=True, theta=1, train_batch=4, train_path='./datasets/OntoNotes4.0/mrc-ner.train', train_span_method='gold', warmup_ratio=0.1, weight_decay=0.01)\n"
     ]
    },
    {
     "name": "stderr",
     "output_type": "stream",
     "text": [
      "checkpoint_2_4.cpt: 100%|██████████| 2484/2484 [04:25<00:00,  9.35it/s]\n"
     ]
    },
    {
     "name": "stdout",
     "output_type": "stream",
     "text": [
      "model checkpoint_2_4.cpt test dataset:\n",
      "precision:0.7731 recall:0.8244 f1:0.7979\n",
      "/home/wangnan/mrc4ner/checkpoints/2020_09_07_16_09_11/checkpoint_2_5.cpt \n",
      " Namespace(allow_impossible=True, alpha=1, beta=1, cls=True, cpu=False, debug=False, dev_batch=10, dev_path='./datasets/OntoNotes4.0/mrc-ner.dev', dropout_prob=0.1, epochs=10, eval=False, gamma=1, local_rank=2, log_steps=20, lr=8e-06, max_grad_norm=0.5, max_tokens=450, not_store=False, pretrained_model_name_or_path='./pretrained_models/chinese_roberta_wwm_large_ext_pytorch', reduction='mean', seed=209, span_layer=True, theta=1, train_batch=4, train_path='./datasets/OntoNotes4.0/mrc-ner.train', train_span_method='gold', warmup_ratio=0.1, weight_decay=0.01)\n"
     ]
    },
    {
     "name": "stderr",
     "output_type": "stream",
     "text": [
      "checkpoint_2_5.cpt: 100%|██████████| 2484/2484 [04:26<00:00,  9.32it/s]\n"
     ]
    },
    {
     "name": "stdout",
     "output_type": "stream",
     "text": [
      "model checkpoint_2_5.cpt test dataset:\n",
      "precision:0.8187 recall:0.7875 f1:0.8028\n",
      "/home/wangnan/mrc4ner/checkpoints/2020_09_07_16_09_11/checkpoint_2_6.cpt \n",
      " Namespace(allow_impossible=True, alpha=1, beta=1, cls=True, cpu=False, debug=False, dev_batch=10, dev_path='./datasets/OntoNotes4.0/mrc-ner.dev', dropout_prob=0.1, epochs=10, eval=False, gamma=1, local_rank=2, log_steps=20, lr=8e-06, max_grad_norm=0.5, max_tokens=450, not_store=False, pretrained_model_name_or_path='./pretrained_models/chinese_roberta_wwm_large_ext_pytorch', reduction='mean', seed=209, span_layer=True, theta=1, train_batch=4, train_path='./datasets/OntoNotes4.0/mrc-ner.train', train_span_method='gold', warmup_ratio=0.1, weight_decay=0.01)\n"
     ]
    },
    {
     "name": "stderr",
     "output_type": "stream",
     "text": [
      "checkpoint_2_6.cpt: 100%|██████████| 2484/2484 [04:26<00:00,  9.31it/s]\n"
     ]
    },
    {
     "name": "stdout",
     "output_type": "stream",
     "text": [
      "model checkpoint_2_6.cpt test dataset:\n",
      "precision:0.8431 recall:0.7571 f1:0.7978\n",
      "/home/wangnan/mrc4ner/checkpoints/2020_09_07_16_09_11/checkpoint_2_7.cpt \n",
      " Namespace(allow_impossible=True, alpha=1, beta=1, cls=True, cpu=False, debug=False, dev_batch=10, dev_path='./datasets/OntoNotes4.0/mrc-ner.dev', dropout_prob=0.1, epochs=10, eval=False, gamma=1, local_rank=2, log_steps=20, lr=8e-06, max_grad_norm=0.5, max_tokens=450, not_store=False, pretrained_model_name_or_path='./pretrained_models/chinese_roberta_wwm_large_ext_pytorch', reduction='mean', seed=209, span_layer=True, theta=1, train_batch=4, train_path='./datasets/OntoNotes4.0/mrc-ner.train', train_span_method='gold', warmup_ratio=0.1, weight_decay=0.01)\n"
     ]
    },
    {
     "name": "stderr",
     "output_type": "stream",
     "text": [
      "checkpoint_2_7.cpt: 100%|██████████| 2484/2484 [04:25<00:00,  9.35it/s]\n"
     ]
    },
    {
     "name": "stdout",
     "output_type": "stream",
     "text": [
      "model checkpoint_2_7.cpt test dataset:\n",
      "precision:0.7908 recall:0.8240 f1:0.8071\n",
      "/home/wangnan/mrc4ner/checkpoints/2020_09_07_16_09_11/checkpoint_2_8.cpt \n",
      " Namespace(allow_impossible=True, alpha=1, beta=1, cls=True, cpu=False, debug=False, dev_batch=10, dev_path='./datasets/OntoNotes4.0/mrc-ner.dev', dropout_prob=0.1, epochs=10, eval=False, gamma=1, local_rank=2, log_steps=20, lr=8e-06, max_grad_norm=0.5, max_tokens=450, not_store=False, pretrained_model_name_or_path='./pretrained_models/chinese_roberta_wwm_large_ext_pytorch', reduction='mean', seed=209, span_layer=True, theta=1, train_batch=4, train_path='./datasets/OntoNotes4.0/mrc-ner.train', train_span_method='gold', warmup_ratio=0.1, weight_decay=0.01)\n"
     ]
    },
    {
     "name": "stderr",
     "output_type": "stream",
     "text": [
      "checkpoint_2_8.cpt: 100%|██████████| 2484/2484 [04:24<00:00,  9.40it/s]\n"
     ]
    },
    {
     "name": "stdout",
     "output_type": "stream",
     "text": [
      "model checkpoint_2_8.cpt test dataset:\n",
      "precision:0.7673 recall:0.8338 f1:0.7992\n",
      "/home/wangnan/mrc4ner/checkpoints/2020_09_07_16_09_11/checkpoint_3_1.cpt \n",
      " Namespace(allow_impossible=True, alpha=1, beta=1, cls=True, cpu=False, debug=False, dev_batch=10, dev_path='./datasets/OntoNotes4.0/mrc-ner.dev', dropout_prob=0.1, epochs=10, eval=False, gamma=1, local_rank=2, log_steps=20, lr=8e-06, max_grad_norm=0.5, max_tokens=450, not_store=False, pretrained_model_name_or_path='./pretrained_models/chinese_roberta_wwm_large_ext_pytorch', reduction='mean', seed=209, span_layer=True, theta=1, train_batch=4, train_path='./datasets/OntoNotes4.0/mrc-ner.train', train_span_method='gold', warmup_ratio=0.1, weight_decay=0.01)\n"
     ]
    },
    {
     "name": "stderr",
     "output_type": "stream",
     "text": [
      "checkpoint_3_1.cpt: 100%|██████████| 2484/2484 [04:24<00:00,  9.40it/s]\n"
     ]
    },
    {
     "name": "stdout",
     "output_type": "stream",
     "text": [
      "model checkpoint_3_1.cpt test dataset:\n",
      "precision:0.8145 recall:0.7883 f1:0.8012\n",
      "/home/wangnan/mrc4ner/checkpoints/2020_09_07_16_09_11/checkpoint_3_2.cpt \n",
      " Namespace(allow_impossible=True, alpha=1, beta=1, cls=True, cpu=False, debug=False, dev_batch=10, dev_path='./datasets/OntoNotes4.0/mrc-ner.dev', dropout_prob=0.1, epochs=10, eval=False, gamma=1, local_rank=2, log_steps=20, lr=8e-06, max_grad_norm=0.5, max_tokens=450, not_store=False, pretrained_model_name_or_path='./pretrained_models/chinese_roberta_wwm_large_ext_pytorch', reduction='mean', seed=209, span_layer=True, theta=1, train_batch=4, train_path='./datasets/OntoNotes4.0/mrc-ner.train', train_span_method='gold', warmup_ratio=0.1, weight_decay=0.01)\n"
     ]
    },
    {
     "name": "stderr",
     "output_type": "stream",
     "text": [
      "checkpoint_3_2.cpt: 100%|██████████| 2484/2484 [04:24<00:00,  9.40it/s]\n"
     ]
    },
    {
     "name": "stdout",
     "output_type": "stream",
     "text": [
      "model checkpoint_3_2.cpt test dataset:\n",
      "precision:0.8228 recall:0.7919 f1:0.8070\n",
      "/home/wangnan/mrc4ner/checkpoints/2020_09_07_16_09_11/checkpoint_3_3.cpt \n",
      " Namespace(allow_impossible=True, alpha=1, beta=1, cls=True, cpu=False, debug=False, dev_batch=10, dev_path='./datasets/OntoNotes4.0/mrc-ner.dev', dropout_prob=0.1, epochs=10, eval=False, gamma=1, local_rank=2, log_steps=20, lr=8e-06, max_grad_norm=0.5, max_tokens=450, not_store=False, pretrained_model_name_or_path='./pretrained_models/chinese_roberta_wwm_large_ext_pytorch', reduction='mean', seed=209, span_layer=True, theta=1, train_batch=4, train_path='./datasets/OntoNotes4.0/mrc-ner.train', train_span_method='gold', warmup_ratio=0.1, weight_decay=0.01)\n"
     ]
    },
    {
     "name": "stderr",
     "output_type": "stream",
     "text": [
      "checkpoint_3_3.cpt: 100%|██████████| 2484/2484 [04:24<00:00,  9.40it/s]\n"
     ]
    },
    {
     "name": "stdout",
     "output_type": "stream",
     "text": [
      "model checkpoint_3_3.cpt test dataset:\n",
      "precision:0.8272 recall:0.7806 f1:0.8032\n",
      "/home/wangnan/mrc4ner/checkpoints/2020_09_07_16_09_11/checkpoint_3_4.cpt \n",
      " Namespace(allow_impossible=True, alpha=1, beta=1, cls=True, cpu=False, debug=False, dev_batch=10, dev_path='./datasets/OntoNotes4.0/mrc-ner.dev', dropout_prob=0.1, epochs=10, eval=False, gamma=1, local_rank=2, log_steps=20, lr=8e-06, max_grad_norm=0.5, max_tokens=450, not_store=False, pretrained_model_name_or_path='./pretrained_models/chinese_roberta_wwm_large_ext_pytorch', reduction='mean', seed=209, span_layer=True, theta=1, train_batch=4, train_path='./datasets/OntoNotes4.0/mrc-ner.train', train_span_method='gold', warmup_ratio=0.1, weight_decay=0.01)\n"
     ]
    },
    {
     "name": "stderr",
     "output_type": "stream",
     "text": [
      "checkpoint_3_4.cpt: 100%|██████████| 2484/2484 [04:24<00:00,  9.38it/s]\n"
     ]
    },
    {
     "name": "stdout",
     "output_type": "stream",
     "text": [
      "model checkpoint_3_4.cpt test dataset:\n",
      "precision:0.8064 recall:0.8049 f1:0.8056\n",
      "/home/wangnan/mrc4ner/checkpoints/2020_09_07_16_09_11/checkpoint_3_5.cpt \n",
      " Namespace(allow_impossible=True, alpha=1, beta=1, cls=True, cpu=False, debug=False, dev_batch=10, dev_path='./datasets/OntoNotes4.0/mrc-ner.dev', dropout_prob=0.1, epochs=10, eval=False, gamma=1, local_rank=2, log_steps=20, lr=8e-06, max_grad_norm=0.5, max_tokens=450, not_store=False, pretrained_model_name_or_path='./pretrained_models/chinese_roberta_wwm_large_ext_pytorch', reduction='mean', seed=209, span_layer=True, theta=1, train_batch=4, train_path='./datasets/OntoNotes4.0/mrc-ner.train', train_span_method='gold', warmup_ratio=0.1, weight_decay=0.01)\n"
     ]
    },
    {
     "name": "stderr",
     "output_type": "stream",
     "text": [
      "checkpoint_3_5.cpt: 100%|██████████| 2484/2484 [04:25<00:00,  9.35it/s]\n"
     ]
    },
    {
     "name": "stdout",
     "output_type": "stream",
     "text": [
      "model checkpoint_3_5.cpt test dataset:\n",
      "precision:0.8112 recall:0.8190 f1:0.8151\n",
      "/home/wangnan/mrc4ner/checkpoints/2020_09_07_16_09_11/checkpoint_3_6.cpt \n",
      " Namespace(allow_impossible=True, alpha=1, beta=1, cls=True, cpu=False, debug=False, dev_batch=10, dev_path='./datasets/OntoNotes4.0/mrc-ner.dev', dropout_prob=0.1, epochs=10, eval=False, gamma=1, local_rank=2, log_steps=20, lr=8e-06, max_grad_norm=0.5, max_tokens=450, not_store=False, pretrained_model_name_or_path='./pretrained_models/chinese_roberta_wwm_large_ext_pytorch', reduction='mean', seed=209, span_layer=True, theta=1, train_batch=4, train_path='./datasets/OntoNotes4.0/mrc-ner.train', train_span_method='gold', warmup_ratio=0.1, weight_decay=0.01)\n"
     ]
    },
    {
     "name": "stderr",
     "output_type": "stream",
     "text": [
      "checkpoint_3_6.cpt: 100%|██████████| 2484/2484 [04:25<00:00,  9.35it/s]\n"
     ]
    },
    {
     "name": "stdout",
     "output_type": "stream",
     "text": [
      "model checkpoint_3_6.cpt test dataset:\n",
      "precision:0.8073 recall:0.8030 f1:0.8051\n",
      "/home/wangnan/mrc4ner/checkpoints/2020_09_07_16_09_11/checkpoint_3_7.cpt \n",
      " Namespace(allow_impossible=True, alpha=1, beta=1, cls=True, cpu=False, debug=False, dev_batch=10, dev_path='./datasets/OntoNotes4.0/mrc-ner.dev', dropout_prob=0.1, epochs=10, eval=False, gamma=1, local_rank=2, log_steps=20, lr=8e-06, max_grad_norm=0.5, max_tokens=450, not_store=False, pretrained_model_name_or_path='./pretrained_models/chinese_roberta_wwm_large_ext_pytorch', reduction='mean', seed=209, span_layer=True, theta=1, train_batch=4, train_path='./datasets/OntoNotes4.0/mrc-ner.train', train_span_method='gold', warmup_ratio=0.1, weight_decay=0.01)\n"
     ]
    },
    {
     "name": "stderr",
     "output_type": "stream",
     "text": [
      "checkpoint_3_7.cpt: 100%|██████████| 2484/2484 [04:25<00:00,  9.35it/s]\n"
     ]
    },
    {
     "name": "stdout",
     "output_type": "stream",
     "text": [
      "model checkpoint_3_7.cpt test dataset:\n",
      "precision:0.7656 recall:0.8306 f1:0.7968\n",
      "/home/wangnan/mrc4ner/checkpoints/2020_09_07_16_09_11/checkpoint_3_8.cpt \n",
      " Namespace(allow_impossible=True, alpha=1, beta=1, cls=True, cpu=False, debug=False, dev_batch=10, dev_path='./datasets/OntoNotes4.0/mrc-ner.dev', dropout_prob=0.1, epochs=10, eval=False, gamma=1, local_rank=2, log_steps=20, lr=8e-06, max_grad_norm=0.5, max_tokens=450, not_store=False, pretrained_model_name_or_path='./pretrained_models/chinese_roberta_wwm_large_ext_pytorch', reduction='mean', seed=209, span_layer=True, theta=1, train_batch=4, train_path='./datasets/OntoNotes4.0/mrc-ner.train', train_span_method='gold', warmup_ratio=0.1, weight_decay=0.01)\n"
     ]
    },
    {
     "name": "stderr",
     "output_type": "stream",
     "text": [
      "checkpoint_3_8.cpt: 100%|██████████| 2484/2484 [04:26<00:00,  9.32it/s]\n"
     ]
    },
    {
     "name": "stdout",
     "output_type": "stream",
     "text": [
      "model checkpoint_3_8.cpt test dataset:\n",
      "precision:0.8059 recall:0.8197 f1:0.8127\n",
      "/home/wangnan/mrc4ner/checkpoints/2020_09_07_16_09_11/checkpoint_4_1.cpt \n",
      " Namespace(allow_impossible=True, alpha=1, beta=1, cls=True, cpu=False, debug=False, dev_batch=10, dev_path='./datasets/OntoNotes4.0/mrc-ner.dev', dropout_prob=0.1, epochs=10, eval=False, gamma=1, local_rank=2, log_steps=20, lr=8e-06, max_grad_norm=0.5, max_tokens=450, not_store=False, pretrained_model_name_or_path='./pretrained_models/chinese_roberta_wwm_large_ext_pytorch', reduction='mean', seed=209, span_layer=True, theta=1, train_batch=4, train_path='./datasets/OntoNotes4.0/mrc-ner.train', train_span_method='gold', warmup_ratio=0.1, weight_decay=0.01)\n"
     ]
    },
    {
     "name": "stderr",
     "output_type": "stream",
     "text": [
      "checkpoint_4_1.cpt: 100%|██████████| 2484/2484 [04:27<00:00,  9.29it/s]\n"
     ]
    },
    {
     "name": "stdout",
     "output_type": "stream",
     "text": [
      "model checkpoint_4_1.cpt test dataset:\n",
      "precision:0.8056 recall:0.8112 f1:0.8084\n",
      "/home/wangnan/mrc4ner/checkpoints/2020_09_07_16_09_11/checkpoint_4_2.cpt \n",
      " Namespace(allow_impossible=True, alpha=1, beta=1, cls=True, cpu=False, debug=False, dev_batch=10, dev_path='./datasets/OntoNotes4.0/mrc-ner.dev', dropout_prob=0.1, epochs=10, eval=False, gamma=1, local_rank=2, log_steps=20, lr=8e-06, max_grad_norm=0.5, max_tokens=450, not_store=False, pretrained_model_name_or_path='./pretrained_models/chinese_roberta_wwm_large_ext_pytorch', reduction='mean', seed=209, span_layer=True, theta=1, train_batch=4, train_path='./datasets/OntoNotes4.0/mrc-ner.train', train_span_method='gold', warmup_ratio=0.1, weight_decay=0.01)\n"
     ]
    },
    {
     "name": "stderr",
     "output_type": "stream",
     "text": [
      "checkpoint_4_2.cpt: 100%|██████████| 2484/2484 [04:26<00:00,  9.31it/s]\n"
     ]
    },
    {
     "name": "stdout",
     "output_type": "stream",
     "text": [
      "model checkpoint_4_2.cpt test dataset:\n",
      "precision:0.7958 recall:0.8019 f1:0.7988\n",
      "/home/wangnan/mrc4ner/checkpoints/2020_09_07_16_09_11/checkpoint_4_3.cpt \n",
      " Namespace(allow_impossible=True, alpha=1, beta=1, cls=True, cpu=False, debug=False, dev_batch=10, dev_path='./datasets/OntoNotes4.0/mrc-ner.dev', dropout_prob=0.1, epochs=10, eval=False, gamma=1, local_rank=2, log_steps=20, lr=8e-06, max_grad_norm=0.5, max_tokens=450, not_store=False, pretrained_model_name_or_path='./pretrained_models/chinese_roberta_wwm_large_ext_pytorch', reduction='mean', seed=209, span_layer=True, theta=1, train_batch=4, train_path='./datasets/OntoNotes4.0/mrc-ner.train', train_span_method='gold', warmup_ratio=0.1, weight_decay=0.01)\n"
     ]
    },
    {
     "name": "stderr",
     "output_type": "stream",
     "text": [
      "checkpoint_4_3.cpt: 100%|██████████| 2484/2484 [04:27<00:00,  9.27it/s]\n"
     ]
    },
    {
     "name": "stdout",
     "output_type": "stream",
     "text": [
      "model checkpoint_4_3.cpt test dataset:\n",
      "precision:0.7805 recall:0.8174 f1:0.7986\n",
      "/home/wangnan/mrc4ner/checkpoints/2020_09_07_16_09_11/checkpoint_4_4.cpt \n",
      " Namespace(allow_impossible=True, alpha=1, beta=1, cls=True, cpu=False, debug=False, dev_batch=10, dev_path='./datasets/OntoNotes4.0/mrc-ner.dev', dropout_prob=0.1, epochs=10, eval=False, gamma=1, local_rank=2, log_steps=20, lr=8e-06, max_grad_norm=0.5, max_tokens=450, not_store=False, pretrained_model_name_or_path='./pretrained_models/chinese_roberta_wwm_large_ext_pytorch', reduction='mean', seed=209, span_layer=True, theta=1, train_batch=4, train_path='./datasets/OntoNotes4.0/mrc-ner.train', train_span_method='gold', warmup_ratio=0.1, weight_decay=0.01)\n"
     ]
    },
    {
     "name": "stderr",
     "output_type": "stream",
     "text": [
      "checkpoint_4_4.cpt: 100%|██████████| 2484/2484 [04:27<00:00,  9.30it/s]\n"
     ]
    },
    {
     "name": "stdout",
     "output_type": "stream",
     "text": [
      "model checkpoint_4_4.cpt test dataset:\n",
      "precision:0.8020 recall:0.8143 f1:0.8081\n",
      "/home/wangnan/mrc4ner/checkpoints/2020_09_07_16_09_11/checkpoint_4_5.cpt \n",
      " Namespace(allow_impossible=True, alpha=1, beta=1, cls=True, cpu=False, debug=False, dev_batch=10, dev_path='./datasets/OntoNotes4.0/mrc-ner.dev', dropout_prob=0.1, epochs=10, eval=False, gamma=1, local_rank=2, log_steps=20, lr=8e-06, max_grad_norm=0.5, max_tokens=450, not_store=False, pretrained_model_name_or_path='./pretrained_models/chinese_roberta_wwm_large_ext_pytorch', reduction='mean', seed=209, span_layer=True, theta=1, train_batch=4, train_path='./datasets/OntoNotes4.0/mrc-ner.train', train_span_method='gold', warmup_ratio=0.1, weight_decay=0.01)\n"
     ]
    },
    {
     "name": "stderr",
     "output_type": "stream",
     "text": [
      "checkpoint_4_5.cpt: 100%|██████████| 2484/2484 [04:28<00:00,  9.27it/s]\n"
     ]
    },
    {
     "name": "stdout",
     "output_type": "stream",
     "text": [
      "model checkpoint_4_5.cpt test dataset:\n",
      "precision:0.7901 recall:0.8203 f1:0.8049\n",
      "/home/wangnan/mrc4ner/checkpoints/2020_09_07_16_09_11/checkpoint_4_6.cpt \n",
      " Namespace(allow_impossible=True, alpha=1, beta=1, cls=True, cpu=False, debug=False, dev_batch=10, dev_path='./datasets/OntoNotes4.0/mrc-ner.dev', dropout_prob=0.1, epochs=10, eval=False, gamma=1, local_rank=2, log_steps=20, lr=8e-06, max_grad_norm=0.5, max_tokens=450, not_store=False, pretrained_model_name_or_path='./pretrained_models/chinese_roberta_wwm_large_ext_pytorch', reduction='mean', seed=209, span_layer=True, theta=1, train_batch=4, train_path='./datasets/OntoNotes4.0/mrc-ner.train', train_span_method='gold', warmup_ratio=0.1, weight_decay=0.01)\n"
     ]
    },
    {
     "name": "stderr",
     "output_type": "stream",
     "text": [
      "checkpoint_4_6.cpt: 100%|██████████| 2484/2484 [04:27<00:00,  9.28it/s]\n"
     ]
    },
    {
     "name": "stdout",
     "output_type": "stream",
     "text": [
      "model checkpoint_4_6.cpt test dataset:\n",
      "precision:0.8017 recall:0.8062 f1:0.8040\n",
      "/home/wangnan/mrc4ner/checkpoints/2020_09_07_16_09_11/checkpoint_4_7.cpt \n",
      " Namespace(allow_impossible=True, alpha=1, beta=1, cls=True, cpu=False, debug=False, dev_batch=10, dev_path='./datasets/OntoNotes4.0/mrc-ner.dev', dropout_prob=0.1, epochs=10, eval=False, gamma=1, local_rank=2, log_steps=20, lr=8e-06, max_grad_norm=0.5, max_tokens=450, not_store=False, pretrained_model_name_or_path='./pretrained_models/chinese_roberta_wwm_large_ext_pytorch', reduction='mean', seed=209, span_layer=True, theta=1, train_batch=4, train_path='./datasets/OntoNotes4.0/mrc-ner.train', train_span_method='gold', warmup_ratio=0.1, weight_decay=0.01)\n"
     ]
    },
    {
     "name": "stderr",
     "output_type": "stream",
     "text": [
      "checkpoint_4_7.cpt: 100%|██████████| 2484/2484 [04:25<00:00,  9.35it/s]\n"
     ]
    },
    {
     "name": "stdout",
     "output_type": "stream",
     "text": [
      "model checkpoint_4_7.cpt test dataset:\n",
      "precision:0.8109 recall:0.8070 f1:0.8090\n",
      "/home/wangnan/mrc4ner/checkpoints/2020_09_07_16_09_11/checkpoint_4_8.cpt \n",
      " Namespace(allow_impossible=True, alpha=1, beta=1, cls=True, cpu=False, debug=False, dev_batch=10, dev_path='./datasets/OntoNotes4.0/mrc-ner.dev', dropout_prob=0.1, epochs=10, eval=False, gamma=1, local_rank=2, log_steps=20, lr=8e-06, max_grad_norm=0.5, max_tokens=450, not_store=False, pretrained_model_name_or_path='./pretrained_models/chinese_roberta_wwm_large_ext_pytorch', reduction='mean', seed=209, span_layer=True, theta=1, train_batch=4, train_path='./datasets/OntoNotes4.0/mrc-ner.train', train_span_method='gold', warmup_ratio=0.1, weight_decay=0.01)\n"
     ]
    },
    {
     "name": "stderr",
     "output_type": "stream",
     "text": [
      "checkpoint_4_8.cpt: 100%|██████████| 2484/2484 [04:25<00:00,  9.36it/s]\n"
     ]
    },
    {
     "name": "stdout",
     "output_type": "stream",
     "text": [
      "model checkpoint_4_8.cpt test dataset:\n",
      "precision:0.7934 recall:0.8224 f1:0.8076\n",
      "/home/wangnan/mrc4ner/checkpoints/2020_09_07_16_09_11/checkpoint_5_1.cpt \n",
      " Namespace(allow_impossible=True, alpha=1, beta=1, cls=True, cpu=False, debug=False, dev_batch=10, dev_path='./datasets/OntoNotes4.0/mrc-ner.dev', dropout_prob=0.1, epochs=10, eval=False, gamma=1, local_rank=2, log_steps=20, lr=8e-06, max_grad_norm=0.5, max_tokens=450, not_store=False, pretrained_model_name_or_path='./pretrained_models/chinese_roberta_wwm_large_ext_pytorch', reduction='mean', seed=209, span_layer=True, theta=1, train_batch=4, train_path='./datasets/OntoNotes4.0/mrc-ner.train', train_span_method='gold', warmup_ratio=0.1, weight_decay=0.01)\n"
     ]
    },
    {
     "name": "stderr",
     "output_type": "stream",
     "text": [
      "checkpoint_5_1.cpt: 100%|██████████| 2484/2484 [04:25<00:00,  9.36it/s]\n"
     ]
    },
    {
     "name": "stdout",
     "output_type": "stream",
     "text": [
      "model checkpoint_5_1.cpt test dataset:\n",
      "precision:0.8082 recall:0.8010 f1:0.8046\n",
      "/home/wangnan/mrc4ner/checkpoints/2020_09_07_16_09_11/checkpoint_5_2.cpt \n",
      " Namespace(allow_impossible=True, alpha=1, beta=1, cls=True, cpu=False, debug=False, dev_batch=10, dev_path='./datasets/OntoNotes4.0/mrc-ner.dev', dropout_prob=0.1, epochs=10, eval=False, gamma=1, local_rank=2, log_steps=20, lr=8e-06, max_grad_norm=0.5, max_tokens=450, not_store=False, pretrained_model_name_or_path='./pretrained_models/chinese_roberta_wwm_large_ext_pytorch', reduction='mean', seed=209, span_layer=True, theta=1, train_batch=4, train_path='./datasets/OntoNotes4.0/mrc-ner.train', train_span_method='gold', warmup_ratio=0.1, weight_decay=0.01)\n"
     ]
    },
    {
     "name": "stderr",
     "output_type": "stream",
     "text": [
      "checkpoint_5_2.cpt: 100%|██████████| 2484/2484 [04:25<00:00,  9.37it/s]\n"
     ]
    },
    {
     "name": "stdout",
     "output_type": "stream",
     "text": [
      "model checkpoint_5_2.cpt test dataset:\n",
      "precision:0.7976 recall:0.8109 f1:0.8042\n",
      "/home/wangnan/mrc4ner/checkpoints/2020_09_07_16_09_11/checkpoint_5_3.cpt \n",
      " Namespace(allow_impossible=True, alpha=1, beta=1, cls=True, cpu=False, debug=False, dev_batch=10, dev_path='./datasets/OntoNotes4.0/mrc-ner.dev', dropout_prob=0.1, epochs=10, eval=False, gamma=1, local_rank=2, log_steps=20, lr=8e-06, max_grad_norm=0.5, max_tokens=450, not_store=False, pretrained_model_name_or_path='./pretrained_models/chinese_roberta_wwm_large_ext_pytorch', reduction='mean', seed=209, span_layer=True, theta=1, train_batch=4, train_path='./datasets/OntoNotes4.0/mrc-ner.train', train_span_method='gold', warmup_ratio=0.1, weight_decay=0.01)\n"
     ]
    },
    {
     "name": "stderr",
     "output_type": "stream",
     "text": [
      "checkpoint_5_3.cpt: 100%|██████████| 2484/2484 [04:25<00:00,  9.37it/s]\n"
     ]
    },
    {
     "name": "stdout",
     "output_type": "stream",
     "text": [
      "model checkpoint_5_3.cpt test dataset:\n",
      "precision:0.8177 recall:0.7834 f1:0.8002\n",
      "/home/wangnan/mrc4ner/checkpoints/2020_09_07_16_09_11/checkpoint_5_4.cpt \n",
      " Namespace(allow_impossible=True, alpha=1, beta=1, cls=True, cpu=False, debug=False, dev_batch=10, dev_path='./datasets/OntoNotes4.0/mrc-ner.dev', dropout_prob=0.1, epochs=10, eval=False, gamma=1, local_rank=2, log_steps=20, lr=8e-06, max_grad_norm=0.5, max_tokens=450, not_store=False, pretrained_model_name_or_path='./pretrained_models/chinese_roberta_wwm_large_ext_pytorch', reduction='mean', seed=209, span_layer=True, theta=1, train_batch=4, train_path='./datasets/OntoNotes4.0/mrc-ner.train', train_span_method='gold', warmup_ratio=0.1, weight_decay=0.01)\n"
     ]
    },
    {
     "name": "stderr",
     "output_type": "stream",
     "text": [
      "checkpoint_5_4.cpt: 100%|██████████| 2484/2484 [04:24<00:00,  9.40it/s]\n"
     ]
    },
    {
     "name": "stdout",
     "output_type": "stream",
     "text": [
      "model checkpoint_5_4.cpt test dataset:\n",
      "precision:0.8342 recall:0.7762 f1:0.8042\n",
      "/home/wangnan/mrc4ner/checkpoints/2020_09_07_16_09_11/checkpoint_5_5.cpt \n",
      " Namespace(allow_impossible=True, alpha=1, beta=1, cls=True, cpu=False, debug=False, dev_batch=10, dev_path='./datasets/OntoNotes4.0/mrc-ner.dev', dropout_prob=0.1, epochs=10, eval=False, gamma=1, local_rank=2, log_steps=20, lr=8e-06, max_grad_norm=0.5, max_tokens=450, not_store=False, pretrained_model_name_or_path='./pretrained_models/chinese_roberta_wwm_large_ext_pytorch', reduction='mean', seed=209, span_layer=True, theta=1, train_batch=4, train_path='./datasets/OntoNotes4.0/mrc-ner.train', train_span_method='gold', warmup_ratio=0.1, weight_decay=0.01)\n"
     ]
    },
    {
     "name": "stderr",
     "output_type": "stream",
     "text": [
      "checkpoint_5_5.cpt: 100%|██████████| 2484/2484 [04:23<00:00,  9.43it/s]\n"
     ]
    },
    {
     "name": "stdout",
     "output_type": "stream",
     "text": [
      "model checkpoint_5_5.cpt test dataset:\n",
      "precision:0.8219 recall:0.7881 f1:0.8046\n",
      "/home/wangnan/mrc4ner/checkpoints/2020_09_07_16_09_11/checkpoint_5_6.cpt \n",
      " Namespace(allow_impossible=True, alpha=1, beta=1, cls=True, cpu=False, debug=False, dev_batch=10, dev_path='./datasets/OntoNotes4.0/mrc-ner.dev', dropout_prob=0.1, epochs=10, eval=False, gamma=1, local_rank=2, log_steps=20, lr=8e-06, max_grad_norm=0.5, max_tokens=450, not_store=False, pretrained_model_name_or_path='./pretrained_models/chinese_roberta_wwm_large_ext_pytorch', reduction='mean', seed=209, span_layer=True, theta=1, train_batch=4, train_path='./datasets/OntoNotes4.0/mrc-ner.train', train_span_method='gold', warmup_ratio=0.1, weight_decay=0.01)\n"
     ]
    },
    {
     "name": "stderr",
     "output_type": "stream",
     "text": [
      "checkpoint_5_6.cpt: 100%|██████████| 2484/2484 [04:19<00:00,  9.56it/s]\n"
     ]
    },
    {
     "name": "stdout",
     "output_type": "stream",
     "text": [
      "model checkpoint_5_6.cpt test dataset:\n",
      "precision:0.8017 recall:0.8141 f1:0.8078\n",
      "/home/wangnan/mrc4ner/checkpoints/2020_09_07_16_09_11/checkpoint_5_7.cpt \n",
      " Namespace(allow_impossible=True, alpha=1, beta=1, cls=True, cpu=False, debug=False, dev_batch=10, dev_path='./datasets/OntoNotes4.0/mrc-ner.dev', dropout_prob=0.1, epochs=10, eval=False, gamma=1, local_rank=2, log_steps=20, lr=8e-06, max_grad_norm=0.5, max_tokens=450, not_store=False, pretrained_model_name_or_path='./pretrained_models/chinese_roberta_wwm_large_ext_pytorch', reduction='mean', seed=209, span_layer=True, theta=1, train_batch=4, train_path='./datasets/OntoNotes4.0/mrc-ner.train', train_span_method='gold', warmup_ratio=0.1, weight_decay=0.01)\n"
     ]
    },
    {
     "name": "stderr",
     "output_type": "stream",
     "text": [
      "checkpoint_5_7.cpt: 100%|██████████| 2484/2484 [04:19<00:00,  9.59it/s]\n"
     ]
    },
    {
     "name": "stdout",
     "output_type": "stream",
     "text": [
      "model checkpoint_5_7.cpt test dataset:\n",
      "precision:0.7836 recall:0.8297 f1:0.8060\n",
      "/home/wangnan/mrc4ner/checkpoints/2020_09_07_16_09_11/checkpoint_5_8.cpt \n",
      " Namespace(allow_impossible=True, alpha=1, beta=1, cls=True, cpu=False, debug=False, dev_batch=10, dev_path='./datasets/OntoNotes4.0/mrc-ner.dev', dropout_prob=0.1, epochs=10, eval=False, gamma=1, local_rank=2, log_steps=20, lr=8e-06, max_grad_norm=0.5, max_tokens=450, not_store=False, pretrained_model_name_or_path='./pretrained_models/chinese_roberta_wwm_large_ext_pytorch', reduction='mean', seed=209, span_layer=True, theta=1, train_batch=4, train_path='./datasets/OntoNotes4.0/mrc-ner.train', train_span_method='gold', warmup_ratio=0.1, weight_decay=0.01)\n"
     ]
    },
    {
     "name": "stderr",
     "output_type": "stream",
     "text": [
      "checkpoint_5_8.cpt: 100%|██████████| 2484/2484 [04:18<00:00,  9.59it/s]\n"
     ]
    },
    {
     "name": "stdout",
     "output_type": "stream",
     "text": [
      "model checkpoint_5_8.cpt test dataset:\n",
      "precision:0.8236 recall:0.7969 f1:0.8101\n",
      "/home/wangnan/mrc4ner/checkpoints/2020_09_07_16_09_11/checkpoint_6_1.cpt \n",
      " Namespace(allow_impossible=True, alpha=1, beta=1, cls=True, cpu=False, debug=False, dev_batch=10, dev_path='./datasets/OntoNotes4.0/mrc-ner.dev', dropout_prob=0.1, epochs=10, eval=False, gamma=1, local_rank=2, log_steps=20, lr=8e-06, max_grad_norm=0.5, max_tokens=450, not_store=False, pretrained_model_name_or_path='./pretrained_models/chinese_roberta_wwm_large_ext_pytorch', reduction='mean', seed=209, span_layer=True, theta=1, train_batch=4, train_path='./datasets/OntoNotes4.0/mrc-ner.train', train_span_method='gold', warmup_ratio=0.1, weight_decay=0.01)\n"
     ]
    },
    {
     "name": "stderr",
     "output_type": "stream",
     "text": [
      "checkpoint_6_1.cpt: 100%|██████████| 2484/2484 [04:19<00:00,  9.58it/s]\n"
     ]
    },
    {
     "name": "stdout",
     "output_type": "stream",
     "text": [
      "model checkpoint_6_1.cpt test dataset:\n",
      "precision:0.8052 recall:0.8056 f1:0.8054\n",
      "/home/wangnan/mrc4ner/checkpoints/2020_09_07_16_09_11/checkpoint_6_2.cpt \n",
      " Namespace(allow_impossible=True, alpha=1, beta=1, cls=True, cpu=False, debug=False, dev_batch=10, dev_path='./datasets/OntoNotes4.0/mrc-ner.dev', dropout_prob=0.1, epochs=10, eval=False, gamma=1, local_rank=2, log_steps=20, lr=8e-06, max_grad_norm=0.5, max_tokens=450, not_store=False, pretrained_model_name_or_path='./pretrained_models/chinese_roberta_wwm_large_ext_pytorch', reduction='mean', seed=209, span_layer=True, theta=1, train_batch=4, train_path='./datasets/OntoNotes4.0/mrc-ner.train', train_span_method='gold', warmup_ratio=0.1, weight_decay=0.01)\n"
     ]
    },
    {
     "name": "stderr",
     "output_type": "stream",
     "text": [
      "checkpoint_6_2.cpt: 100%|██████████| 2484/2484 [04:18<00:00,  9.63it/s]\n"
     ]
    },
    {
     "name": "stdout",
     "output_type": "stream",
     "text": [
      "model checkpoint_6_2.cpt test dataset:\n",
      "precision:0.8030 recall:0.8165 f1:0.8097\n",
      "/home/wangnan/mrc4ner/checkpoints/2020_09_07_16_09_11/checkpoint_6_3.cpt \n",
      " Namespace(allow_impossible=True, alpha=1, beta=1, cls=True, cpu=False, debug=False, dev_batch=10, dev_path='./datasets/OntoNotes4.0/mrc-ner.dev', dropout_prob=0.1, epochs=10, eval=False, gamma=1, local_rank=2, log_steps=20, lr=8e-06, max_grad_norm=0.5, max_tokens=450, not_store=False, pretrained_model_name_or_path='./pretrained_models/chinese_roberta_wwm_large_ext_pytorch', reduction='mean', seed=209, span_layer=True, theta=1, train_batch=4, train_path='./datasets/OntoNotes4.0/mrc-ner.train', train_span_method='gold', warmup_ratio=0.1, weight_decay=0.01)\n"
     ]
    },
    {
     "name": "stderr",
     "output_type": "stream",
     "text": [
      "checkpoint_6_3.cpt: 100%|██████████| 2484/2484 [04:17<00:00,  9.64it/s]\n"
     ]
    },
    {
     "name": "stdout",
     "output_type": "stream",
     "text": [
      "model checkpoint_6_3.cpt test dataset:\n",
      "precision:0.8121 recall:0.7824 f1:0.7970\n",
      "/home/wangnan/mrc4ner/checkpoints/2020_09_07_16_09_11/checkpoint_6_4.cpt \n",
      " Namespace(allow_impossible=True, alpha=1, beta=1, cls=True, cpu=False, debug=False, dev_batch=10, dev_path='./datasets/OntoNotes4.0/mrc-ner.dev', dropout_prob=0.1, epochs=10, eval=False, gamma=1, local_rank=2, log_steps=20, lr=8e-06, max_grad_norm=0.5, max_tokens=450, not_store=False, pretrained_model_name_or_path='./pretrained_models/chinese_roberta_wwm_large_ext_pytorch', reduction='mean', seed=209, span_layer=True, theta=1, train_batch=4, train_path='./datasets/OntoNotes4.0/mrc-ner.train', train_span_method='gold', warmup_ratio=0.1, weight_decay=0.01)\n"
     ]
    },
    {
     "name": "stderr",
     "output_type": "stream",
     "text": [
      "checkpoint_6_4.cpt: 100%|██████████| 2484/2484 [04:18<00:00,  9.60it/s]\n"
     ]
    },
    {
     "name": "stdout",
     "output_type": "stream",
     "text": [
      "model checkpoint_6_4.cpt test dataset:\n",
      "precision:0.7892 recall:0.8220 f1:0.8053\n",
      "/home/wangnan/mrc4ner/checkpoints/2020_09_07_16_09_11/checkpoint_6_5.cpt \n",
      " Namespace(allow_impossible=True, alpha=1, beta=1, cls=True, cpu=False, debug=False, dev_batch=10, dev_path='./datasets/OntoNotes4.0/mrc-ner.dev', dropout_prob=0.1, epochs=10, eval=False, gamma=1, local_rank=2, log_steps=20, lr=8e-06, max_grad_norm=0.5, max_tokens=450, not_store=False, pretrained_model_name_or_path='./pretrained_models/chinese_roberta_wwm_large_ext_pytorch', reduction='mean', seed=209, span_layer=True, theta=1, train_batch=4, train_path='./datasets/OntoNotes4.0/mrc-ner.train', train_span_method='gold', warmup_ratio=0.1, weight_decay=0.01)\n"
     ]
    },
    {
     "name": "stderr",
     "output_type": "stream",
     "text": [
      "checkpoint_6_5.cpt: 100%|██████████| 2484/2484 [04:18<00:00,  9.63it/s]\n"
     ]
    },
    {
     "name": "stdout",
     "output_type": "stream",
     "text": [
      "model checkpoint_6_5.cpt test dataset:\n",
      "precision:0.8069 recall:0.8024 f1:0.8046\n",
      "/home/wangnan/mrc4ner/checkpoints/2020_09_07_16_09_11/checkpoint_6_6.cpt \n",
      " Namespace(allow_impossible=True, alpha=1, beta=1, cls=True, cpu=False, debug=False, dev_batch=10, dev_path='./datasets/OntoNotes4.0/mrc-ner.dev', dropout_prob=0.1, epochs=10, eval=False, gamma=1, local_rank=2, log_steps=20, lr=8e-06, max_grad_norm=0.5, max_tokens=450, not_store=False, pretrained_model_name_or_path='./pretrained_models/chinese_roberta_wwm_large_ext_pytorch', reduction='mean', seed=209, span_layer=True, theta=1, train_batch=4, train_path='./datasets/OntoNotes4.0/mrc-ner.train', train_span_method='gold', warmup_ratio=0.1, weight_decay=0.01)\n"
     ]
    },
    {
     "name": "stderr",
     "output_type": "stream",
     "text": [
      "checkpoint_6_6.cpt: 100%|██████████| 2484/2484 [04:18<00:00,  9.61it/s]\n"
     ]
    },
    {
     "name": "stdout",
     "output_type": "stream",
     "text": [
      "model checkpoint_6_6.cpt test dataset:\n",
      "precision:0.8047 recall:0.8006 f1:0.8026\n",
      "/home/wangnan/mrc4ner/checkpoints/2020_09_07_16_09_11/checkpoint_6_7.cpt \n",
      " Namespace(allow_impossible=True, alpha=1, beta=1, cls=True, cpu=False, debug=False, dev_batch=10, dev_path='./datasets/OntoNotes4.0/mrc-ner.dev', dropout_prob=0.1, epochs=10, eval=False, gamma=1, local_rank=2, log_steps=20, lr=8e-06, max_grad_norm=0.5, max_tokens=450, not_store=False, pretrained_model_name_or_path='./pretrained_models/chinese_roberta_wwm_large_ext_pytorch', reduction='mean', seed=209, span_layer=True, theta=1, train_batch=4, train_path='./datasets/OntoNotes4.0/mrc-ner.train', train_span_method='gold', warmup_ratio=0.1, weight_decay=0.01)\n"
     ]
    },
    {
     "name": "stderr",
     "output_type": "stream",
     "text": [
      "checkpoint_6_7.cpt: 100%|██████████| 2484/2484 [04:18<00:00,  9.62it/s]\n"
     ]
    },
    {
     "name": "stdout",
     "output_type": "stream",
     "text": [
      "model checkpoint_6_7.cpt test dataset:\n",
      "precision:0.8000 recall:0.8001 f1:0.8000\n",
      "/home/wangnan/mrc4ner/checkpoints/2020_09_07_16_09_11/checkpoint_6_8.cpt \n",
      " Namespace(allow_impossible=True, alpha=1, beta=1, cls=True, cpu=False, debug=False, dev_batch=10, dev_path='./datasets/OntoNotes4.0/mrc-ner.dev', dropout_prob=0.1, epochs=10, eval=False, gamma=1, local_rank=2, log_steps=20, lr=8e-06, max_grad_norm=0.5, max_tokens=450, not_store=False, pretrained_model_name_or_path='./pretrained_models/chinese_roberta_wwm_large_ext_pytorch', reduction='mean', seed=209, span_layer=True, theta=1, train_batch=4, train_path='./datasets/OntoNotes4.0/mrc-ner.train', train_span_method='gold', warmup_ratio=0.1, weight_decay=0.01)\n"
     ]
    },
    {
     "name": "stderr",
     "output_type": "stream",
     "text": [
      "checkpoint_6_8.cpt: 100%|██████████| 2484/2484 [04:17<00:00,  9.66it/s]\n"
     ]
    },
    {
     "name": "stdout",
     "output_type": "stream",
     "text": [
      "model checkpoint_6_8.cpt test dataset:\n",
      "precision:0.8123 recall:0.7992 f1:0.8057\n",
      "/home/wangnan/mrc4ner/checkpoints/2020_09_07_16_09_11/checkpoint_7_1.cpt \n",
      " Namespace(allow_impossible=True, alpha=1, beta=1, cls=True, cpu=False, debug=False, dev_batch=10, dev_path='./datasets/OntoNotes4.0/mrc-ner.dev', dropout_prob=0.1, epochs=10, eval=False, gamma=1, local_rank=2, log_steps=20, lr=8e-06, max_grad_norm=0.5, max_tokens=450, not_store=False, pretrained_model_name_or_path='./pretrained_models/chinese_roberta_wwm_large_ext_pytorch', reduction='mean', seed=209, span_layer=True, theta=1, train_batch=4, train_path='./datasets/OntoNotes4.0/mrc-ner.train', train_span_method='gold', warmup_ratio=0.1, weight_decay=0.01)\n"
     ]
    },
    {
     "name": "stderr",
     "output_type": "stream",
     "text": [
      "checkpoint_7_1.cpt: 100%|██████████| 2484/2484 [04:18<00:00,  9.61it/s]\n"
     ]
    },
    {
     "name": "stdout",
     "output_type": "stream",
     "text": [
      "model checkpoint_7_1.cpt test dataset:\n",
      "precision:0.8137 recall:0.8078 f1:0.8107\n",
      "/home/wangnan/mrc4ner/checkpoints/2020_09_07_16_09_11/checkpoint_7_2.cpt \n",
      " Namespace(allow_impossible=True, alpha=1, beta=1, cls=True, cpu=False, debug=False, dev_batch=10, dev_path='./datasets/OntoNotes4.0/mrc-ner.dev', dropout_prob=0.1, epochs=10, eval=False, gamma=1, local_rank=2, log_steps=20, lr=8e-06, max_grad_norm=0.5, max_tokens=450, not_store=False, pretrained_model_name_or_path='./pretrained_models/chinese_roberta_wwm_large_ext_pytorch', reduction='mean', seed=209, span_layer=True, theta=1, train_batch=4, train_path='./datasets/OntoNotes4.0/mrc-ner.train', train_span_method='gold', warmup_ratio=0.1, weight_decay=0.01)\n"
     ]
    },
    {
     "name": "stderr",
     "output_type": "stream",
     "text": [
      "checkpoint_7_2.cpt: 100%|██████████| 2484/2484 [04:18<00:00,  9.60it/s]\n"
     ]
    },
    {
     "name": "stdout",
     "output_type": "stream",
     "text": [
      "model checkpoint_7_2.cpt test dataset:\n",
      "precision:0.8095 recall:0.7976 f1:0.8035\n",
      "/home/wangnan/mrc4ner/checkpoints/2020_09_07_16_09_11/checkpoint_7_3.cpt \n",
      " Namespace(allow_impossible=True, alpha=1, beta=1, cls=True, cpu=False, debug=False, dev_batch=10, dev_path='./datasets/OntoNotes4.0/mrc-ner.dev', dropout_prob=0.1, epochs=10, eval=False, gamma=1, local_rank=2, log_steps=20, lr=8e-06, max_grad_norm=0.5, max_tokens=450, not_store=False, pretrained_model_name_or_path='./pretrained_models/chinese_roberta_wwm_large_ext_pytorch', reduction='mean', seed=209, span_layer=True, theta=1, train_batch=4, train_path='./datasets/OntoNotes4.0/mrc-ner.train', train_span_method='gold', warmup_ratio=0.1, weight_decay=0.01)\n"
     ]
    },
    {
     "name": "stderr",
     "output_type": "stream",
     "text": [
      "checkpoint_7_3.cpt: 100%|██████████| 2484/2484 [04:18<00:00,  9.62it/s]\n"
     ]
    },
    {
     "name": "stdout",
     "output_type": "stream",
     "text": [
      "model checkpoint_7_3.cpt test dataset:\n",
      "precision:0.8101 recall:0.8075 f1:0.8088\n",
      "/home/wangnan/mrc4ner/checkpoints/2020_09_07_16_09_11/checkpoint_7_4.cpt \n",
      " Namespace(allow_impossible=True, alpha=1, beta=1, cls=True, cpu=False, debug=False, dev_batch=10, dev_path='./datasets/OntoNotes4.0/mrc-ner.dev', dropout_prob=0.1, epochs=10, eval=False, gamma=1, local_rank=2, log_steps=20, lr=8e-06, max_grad_norm=0.5, max_tokens=450, not_store=False, pretrained_model_name_or_path='./pretrained_models/chinese_roberta_wwm_large_ext_pytorch', reduction='mean', seed=209, span_layer=True, theta=1, train_batch=4, train_path='./datasets/OntoNotes4.0/mrc-ner.train', train_span_method='gold', warmup_ratio=0.1, weight_decay=0.01)\n"
     ]
    },
    {
     "name": "stderr",
     "output_type": "stream",
     "text": [
      "checkpoint_7_4.cpt: 100%|██████████| 2484/2484 [04:18<00:00,  9.61it/s]\n"
     ]
    },
    {
     "name": "stdout",
     "output_type": "stream",
     "text": [
      "model checkpoint_7_4.cpt test dataset:\n",
      "precision:0.8091 recall:0.8096 f1:0.8093\n",
      "/home/wangnan/mrc4ner/checkpoints/2020_09_07_16_09_11/checkpoint_7_5.cpt \n",
      " Namespace(allow_impossible=True, alpha=1, beta=1, cls=True, cpu=False, debug=False, dev_batch=10, dev_path='./datasets/OntoNotes4.0/mrc-ner.dev', dropout_prob=0.1, epochs=10, eval=False, gamma=1, local_rank=2, log_steps=20, lr=8e-06, max_grad_norm=0.5, max_tokens=450, not_store=False, pretrained_model_name_or_path='./pretrained_models/chinese_roberta_wwm_large_ext_pytorch', reduction='mean', seed=209, span_layer=True, theta=1, train_batch=4, train_path='./datasets/OntoNotes4.0/mrc-ner.train', train_span_method='gold', warmup_ratio=0.1, weight_decay=0.01)\n"
     ]
    },
    {
     "name": "stderr",
     "output_type": "stream",
     "text": [
      "checkpoint_7_5.cpt: 100%|██████████| 2484/2484 [04:19<00:00,  9.56it/s]\n"
     ]
    },
    {
     "name": "stdout",
     "output_type": "stream",
     "text": [
      "model checkpoint_7_5.cpt test dataset:\n",
      "precision:0.8076 recall:0.8212 f1:0.8144\n",
      "/home/wangnan/mrc4ner/checkpoints/2020_09_07_16_09_11/checkpoint_7_6.cpt \n",
      " Namespace(allow_impossible=True, alpha=1, beta=1, cls=True, cpu=False, debug=False, dev_batch=10, dev_path='./datasets/OntoNotes4.0/mrc-ner.dev', dropout_prob=0.1, epochs=10, eval=False, gamma=1, local_rank=2, log_steps=20, lr=8e-06, max_grad_norm=0.5, max_tokens=450, not_store=False, pretrained_model_name_or_path='./pretrained_models/chinese_roberta_wwm_large_ext_pytorch', reduction='mean', seed=209, span_layer=True, theta=1, train_batch=4, train_path='./datasets/OntoNotes4.0/mrc-ner.train', train_span_method='gold', warmup_ratio=0.1, weight_decay=0.01)\n"
     ]
    },
    {
     "name": "stderr",
     "output_type": "stream",
     "text": [
      "checkpoint_7_6.cpt: 100%|██████████| 2484/2484 [04:20<00:00,  9.54it/s]\n"
     ]
    },
    {
     "name": "stdout",
     "output_type": "stream",
     "text": [
      "model checkpoint_7_6.cpt test dataset:\n",
      "precision:0.8146 recall:0.7985 f1:0.8065\n",
      "/home/wangnan/mrc4ner/checkpoints/2020_09_07_16_09_11/checkpoint_7_7.cpt \n",
      " Namespace(allow_impossible=True, alpha=1, beta=1, cls=True, cpu=False, debug=False, dev_batch=10, dev_path='./datasets/OntoNotes4.0/mrc-ner.dev', dropout_prob=0.1, epochs=10, eval=False, gamma=1, local_rank=2, log_steps=20, lr=8e-06, max_grad_norm=0.5, max_tokens=450, not_store=False, pretrained_model_name_or_path='./pretrained_models/chinese_roberta_wwm_large_ext_pytorch', reduction='mean', seed=209, span_layer=True, theta=1, train_batch=4, train_path='./datasets/OntoNotes4.0/mrc-ner.train', train_span_method='gold', warmup_ratio=0.1, weight_decay=0.01)\n"
     ]
    },
    {
     "name": "stderr",
     "output_type": "stream",
     "text": [
      "checkpoint_7_7.cpt: 100%|██████████| 2484/2484 [04:19<00:00,  9.56it/s]\n"
     ]
    },
    {
     "name": "stdout",
     "output_type": "stream",
     "text": [
      "model checkpoint_7_7.cpt test dataset:\n",
      "precision:0.8291 recall:0.7869 f1:0.8074\n",
      "/home/wangnan/mrc4ner/checkpoints/2020_09_07_16_09_11/checkpoint_7_8.cpt \n",
      " Namespace(allow_impossible=True, alpha=1, beta=1, cls=True, cpu=False, debug=False, dev_batch=10, dev_path='./datasets/OntoNotes4.0/mrc-ner.dev', dropout_prob=0.1, epochs=10, eval=False, gamma=1, local_rank=2, log_steps=20, lr=8e-06, max_grad_norm=0.5, max_tokens=450, not_store=False, pretrained_model_name_or_path='./pretrained_models/chinese_roberta_wwm_large_ext_pytorch', reduction='mean', seed=209, span_layer=True, theta=1, train_batch=4, train_path='./datasets/OntoNotes4.0/mrc-ner.train', train_span_method='gold', warmup_ratio=0.1, weight_decay=0.01)\n"
     ]
    },
    {
     "name": "stderr",
     "output_type": "stream",
     "text": [
      "checkpoint_7_8.cpt: 100%|██████████| 2484/2484 [04:20<00:00,  9.55it/s]\n"
     ]
    },
    {
     "name": "stdout",
     "output_type": "stream",
     "text": [
      "model checkpoint_7_8.cpt test dataset:\n",
      "precision:0.8141 recall:0.8113 f1:0.8127\n",
      "/home/wangnan/mrc4ner/checkpoints/2020_09_07_16_09_11/checkpoint_8_1.cpt \n",
      " Namespace(allow_impossible=True, alpha=1, beta=1, cls=True, cpu=False, debug=False, dev_batch=10, dev_path='./datasets/OntoNotes4.0/mrc-ner.dev', dropout_prob=0.1, epochs=10, eval=False, gamma=1, local_rank=2, log_steps=20, lr=8e-06, max_grad_norm=0.5, max_tokens=450, not_store=False, pretrained_model_name_or_path='./pretrained_models/chinese_roberta_wwm_large_ext_pytorch', reduction='mean', seed=209, span_layer=True, theta=1, train_batch=4, train_path='./datasets/OntoNotes4.0/mrc-ner.train', train_span_method='gold', warmup_ratio=0.1, weight_decay=0.01)\n"
     ]
    },
    {
     "name": "stderr",
     "output_type": "stream",
     "text": [
      "checkpoint_8_1.cpt: 100%|██████████| 2484/2484 [04:20<00:00,  9.54it/s]\n"
     ]
    },
    {
     "name": "stdout",
     "output_type": "stream",
     "text": [
      "model checkpoint_8_1.cpt test dataset:\n",
      "precision:0.8189 recall:0.8044 f1:0.8116\n",
      "/home/wangnan/mrc4ner/checkpoints/2020_09_07_16_09_11/checkpoint_8_2.cpt \n",
      " Namespace(allow_impossible=True, alpha=1, beta=1, cls=True, cpu=False, debug=False, dev_batch=10, dev_path='./datasets/OntoNotes4.0/mrc-ner.dev', dropout_prob=0.1, epochs=10, eval=False, gamma=1, local_rank=2, log_steps=20, lr=8e-06, max_grad_norm=0.5, max_tokens=450, not_store=False, pretrained_model_name_or_path='./pretrained_models/chinese_roberta_wwm_large_ext_pytorch', reduction='mean', seed=209, span_layer=True, theta=1, train_batch=4, train_path='./datasets/OntoNotes4.0/mrc-ner.train', train_span_method='gold', warmup_ratio=0.1, weight_decay=0.01)\n"
     ]
    },
    {
     "name": "stderr",
     "output_type": "stream",
     "text": [
      "checkpoint_8_2.cpt: 100%|██████████| 2484/2484 [04:19<00:00,  9.57it/s]\n"
     ]
    },
    {
     "name": "stdout",
     "output_type": "stream",
     "text": [
      "model checkpoint_8_2.cpt test dataset:\n",
      "precision:0.8206 recall:0.7946 f1:0.8074\n",
      "/home/wangnan/mrc4ner/checkpoints/2020_09_07_16_09_11/checkpoint_8_3.cpt \n",
      " Namespace(allow_impossible=True, alpha=1, beta=1, cls=True, cpu=False, debug=False, dev_batch=10, dev_path='./datasets/OntoNotes4.0/mrc-ner.dev', dropout_prob=0.1, epochs=10, eval=False, gamma=1, local_rank=2, log_steps=20, lr=8e-06, max_grad_norm=0.5, max_tokens=450, not_store=False, pretrained_model_name_or_path='./pretrained_models/chinese_roberta_wwm_large_ext_pytorch', reduction='mean', seed=209, span_layer=True, theta=1, train_batch=4, train_path='./datasets/OntoNotes4.0/mrc-ner.train', train_span_method='gold', warmup_ratio=0.1, weight_decay=0.01)\n"
     ]
    },
    {
     "name": "stderr",
     "output_type": "stream",
     "text": [
      "checkpoint_8_3.cpt: 100%|██████████| 2484/2484 [04:19<00:00,  9.56it/s]\n"
     ]
    },
    {
     "name": "stdout",
     "output_type": "stream",
     "text": [
      "model checkpoint_8_3.cpt test dataset:\n",
      "precision:0.8073 recall:0.8058 f1:0.8066\n",
      "/home/wangnan/mrc4ner/checkpoints/2020_09_07_16_09_11/checkpoint_8_4.cpt \n",
      " Namespace(allow_impossible=True, alpha=1, beta=1, cls=True, cpu=False, debug=False, dev_batch=10, dev_path='./datasets/OntoNotes4.0/mrc-ner.dev', dropout_prob=0.1, epochs=10, eval=False, gamma=1, local_rank=2, log_steps=20, lr=8e-06, max_grad_norm=0.5, max_tokens=450, not_store=False, pretrained_model_name_or_path='./pretrained_models/chinese_roberta_wwm_large_ext_pytorch', reduction='mean', seed=209, span_layer=True, theta=1, train_batch=4, train_path='./datasets/OntoNotes4.0/mrc-ner.train', train_span_method='gold', warmup_ratio=0.1, weight_decay=0.01)\n"
     ]
    },
    {
     "name": "stderr",
     "output_type": "stream",
     "text": [
      "checkpoint_8_4.cpt: 100%|██████████| 2484/2484 [04:20<00:00,  9.52it/s]\n"
     ]
    },
    {
     "name": "stdout",
     "output_type": "stream",
     "text": [
      "model checkpoint_8_4.cpt test dataset:\n",
      "precision:0.8171 recall:0.7981 f1:0.8075\n",
      "/home/wangnan/mrc4ner/checkpoints/2020_09_07_16_09_11/checkpoint_8_5.cpt \n",
      " Namespace(allow_impossible=True, alpha=1, beta=1, cls=True, cpu=False, debug=False, dev_batch=10, dev_path='./datasets/OntoNotes4.0/mrc-ner.dev', dropout_prob=0.1, epochs=10, eval=False, gamma=1, local_rank=2, log_steps=20, lr=8e-06, max_grad_norm=0.5, max_tokens=450, not_store=False, pretrained_model_name_or_path='./pretrained_models/chinese_roberta_wwm_large_ext_pytorch', reduction='mean', seed=209, span_layer=True, theta=1, train_batch=4, train_path='./datasets/OntoNotes4.0/mrc-ner.train', train_span_method='gold', warmup_ratio=0.1, weight_decay=0.01)\n"
     ]
    },
    {
     "name": "stderr",
     "output_type": "stream",
     "text": [
      "checkpoint_8_5.cpt: 100%|██████████| 2484/2484 [04:22<00:00,  9.45it/s]\n"
     ]
    },
    {
     "name": "stdout",
     "output_type": "stream",
     "text": [
      "model checkpoint_8_5.cpt test dataset:\n",
      "precision:0.8187 recall:0.8027 f1:0.8106\n",
      "/home/wangnan/mrc4ner/checkpoints/2020_09_07_16_09_11/checkpoint_8_6.cpt \n",
      " Namespace(allow_impossible=True, alpha=1, beta=1, cls=True, cpu=False, debug=False, dev_batch=10, dev_path='./datasets/OntoNotes4.0/mrc-ner.dev', dropout_prob=0.1, epochs=10, eval=False, gamma=1, local_rank=2, log_steps=20, lr=8e-06, max_grad_norm=0.5, max_tokens=450, not_store=False, pretrained_model_name_or_path='./pretrained_models/chinese_roberta_wwm_large_ext_pytorch', reduction='mean', seed=209, span_layer=True, theta=1, train_batch=4, train_path='./datasets/OntoNotes4.0/mrc-ner.train', train_span_method='gold', warmup_ratio=0.1, weight_decay=0.01)\n"
     ]
    },
    {
     "name": "stderr",
     "output_type": "stream",
     "text": [
      "checkpoint_8_6.cpt: 100%|██████████| 2484/2484 [04:21<00:00,  9.52it/s]\n"
     ]
    },
    {
     "name": "stdout",
     "output_type": "stream",
     "text": [
      "model checkpoint_8_6.cpt test dataset:\n",
      "precision:0.8125 recall:0.8103 f1:0.8114\n",
      "/home/wangnan/mrc4ner/checkpoints/2020_09_07_16_09_11/checkpoint_8_7.cpt \n",
      " Namespace(allow_impossible=True, alpha=1, beta=1, cls=True, cpu=False, debug=False, dev_batch=10, dev_path='./datasets/OntoNotes4.0/mrc-ner.dev', dropout_prob=0.1, epochs=10, eval=False, gamma=1, local_rank=2, log_steps=20, lr=8e-06, max_grad_norm=0.5, max_tokens=450, not_store=False, pretrained_model_name_or_path='./pretrained_models/chinese_roberta_wwm_large_ext_pytorch', reduction='mean', seed=209, span_layer=True, theta=1, train_batch=4, train_path='./datasets/OntoNotes4.0/mrc-ner.train', train_span_method='gold', warmup_ratio=0.1, weight_decay=0.01)\n"
     ]
    },
    {
     "name": "stderr",
     "output_type": "stream",
     "text": [
      "checkpoint_8_7.cpt: 100%|██████████| 2484/2484 [04:22<00:00,  9.47it/s]\n"
     ]
    },
    {
     "name": "stdout",
     "output_type": "stream",
     "text": [
      "model checkpoint_8_7.cpt test dataset:\n",
      "precision:0.8188 recall:0.8031 f1:0.8109\n",
      "/home/wangnan/mrc4ner/checkpoints/2020_09_07_16_09_11/checkpoint_8_8.cpt \n",
      " Namespace(allow_impossible=True, alpha=1, beta=1, cls=True, cpu=False, debug=False, dev_batch=10, dev_path='./datasets/OntoNotes4.0/mrc-ner.dev', dropout_prob=0.1, epochs=10, eval=False, gamma=1, local_rank=2, log_steps=20, lr=8e-06, max_grad_norm=0.5, max_tokens=450, not_store=False, pretrained_model_name_or_path='./pretrained_models/chinese_roberta_wwm_large_ext_pytorch', reduction='mean', seed=209, span_layer=True, theta=1, train_batch=4, train_path='./datasets/OntoNotes4.0/mrc-ner.train', train_span_method='gold', warmup_ratio=0.1, weight_decay=0.01)\n"
     ]
    },
    {
     "name": "stderr",
     "output_type": "stream",
     "text": [
      "checkpoint_8_8.cpt: 100%|██████████| 2484/2484 [04:20<00:00,  9.52it/s]\n"
     ]
    },
    {
     "name": "stdout",
     "output_type": "stream",
     "text": [
      "model checkpoint_8_8.cpt test dataset:\n",
      "precision:0.8146 recall:0.8045 f1:0.8095\n",
      "/home/wangnan/mrc4ner/checkpoints/2020_09_07_16_09_11/checkpoint_9_1.cpt \n",
      " Namespace(allow_impossible=True, alpha=1, beta=1, cls=True, cpu=False, debug=False, dev_batch=10, dev_path='./datasets/OntoNotes4.0/mrc-ner.dev', dropout_prob=0.1, epochs=10, eval=False, gamma=1, local_rank=2, log_steps=20, lr=8e-06, max_grad_norm=0.5, max_tokens=450, not_store=False, pretrained_model_name_or_path='./pretrained_models/chinese_roberta_wwm_large_ext_pytorch', reduction='mean', seed=209, span_layer=True, theta=1, train_batch=4, train_path='./datasets/OntoNotes4.0/mrc-ner.train', train_span_method='gold', warmup_ratio=0.1, weight_decay=0.01)\n"
     ]
    },
    {
     "name": "stderr",
     "output_type": "stream",
     "text": [
      "checkpoint_9_1.cpt: 100%|██████████| 2484/2484 [04:20<00:00,  9.52it/s]\n"
     ]
    },
    {
     "name": "stdout",
     "output_type": "stream",
     "text": [
      "model checkpoint_9_1.cpt test dataset:\n",
      "precision:0.8117 recall:0.8079 f1:0.8098\n",
      "/home/wangnan/mrc4ner/checkpoints/2020_09_07_16_09_11/checkpoint_9_2.cpt \n",
      " Namespace(allow_impossible=True, alpha=1, beta=1, cls=True, cpu=False, debug=False, dev_batch=10, dev_path='./datasets/OntoNotes4.0/mrc-ner.dev', dropout_prob=0.1, epochs=10, eval=False, gamma=1, local_rank=2, log_steps=20, lr=8e-06, max_grad_norm=0.5, max_tokens=450, not_store=False, pretrained_model_name_or_path='./pretrained_models/chinese_roberta_wwm_large_ext_pytorch', reduction='mean', seed=209, span_layer=True, theta=1, train_batch=4, train_path='./datasets/OntoNotes4.0/mrc-ner.train', train_span_method='gold', warmup_ratio=0.1, weight_decay=0.01)\n"
     ]
    },
    {
     "name": "stderr",
     "output_type": "stream",
     "text": [
      "checkpoint_9_2.cpt: 100%|██████████| 2484/2484 [04:21<00:00,  9.48it/s]\n"
     ]
    },
    {
     "name": "stdout",
     "output_type": "stream",
     "text": [
      "model checkpoint_9_2.cpt test dataset:\n",
      "precision:0.8097 recall:0.8107 f1:0.8102\n",
      "/home/wangnan/mrc4ner/checkpoints/2020_09_07_16_09_11/checkpoint_9_3.cpt \n",
      " Namespace(allow_impossible=True, alpha=1, beta=1, cls=True, cpu=False, debug=False, dev_batch=10, dev_path='./datasets/OntoNotes4.0/mrc-ner.dev', dropout_prob=0.1, epochs=10, eval=False, gamma=1, local_rank=2, log_steps=20, lr=8e-06, max_grad_norm=0.5, max_tokens=450, not_store=False, pretrained_model_name_or_path='./pretrained_models/chinese_roberta_wwm_large_ext_pytorch', reduction='mean', seed=209, span_layer=True, theta=1, train_batch=4, train_path='./datasets/OntoNotes4.0/mrc-ner.train', train_span_method='gold', warmup_ratio=0.1, weight_decay=0.01)\n"
     ]
    },
    {
     "name": "stderr",
     "output_type": "stream",
     "text": [
      "checkpoint_9_3.cpt: 100%|██████████| 2484/2484 [04:21<00:00,  9.51it/s]\n"
     ]
    },
    {
     "name": "stdout",
     "output_type": "stream",
     "text": [
      "model checkpoint_9_3.cpt test dataset:\n",
      "precision:0.8128 recall:0.8065 f1:0.8096\n",
      "/home/wangnan/mrc4ner/checkpoints/2020_09_07_16_09_11/checkpoint_9_4.cpt \n",
      " Namespace(allow_impossible=True, alpha=1, beta=1, cls=True, cpu=False, debug=False, dev_batch=10, dev_path='./datasets/OntoNotes4.0/mrc-ner.dev', dropout_prob=0.1, epochs=10, eval=False, gamma=1, local_rank=2, log_steps=20, lr=8e-06, max_grad_norm=0.5, max_tokens=450, not_store=False, pretrained_model_name_or_path='./pretrained_models/chinese_roberta_wwm_large_ext_pytorch', reduction='mean', seed=209, span_layer=True, theta=1, train_batch=4, train_path='./datasets/OntoNotes4.0/mrc-ner.train', train_span_method='gold', warmup_ratio=0.1, weight_decay=0.01)\n"
     ]
    },
    {
     "name": "stderr",
     "output_type": "stream",
     "text": [
      "checkpoint_9_4.cpt: 100%|██████████| 2484/2484 [04:20<00:00,  9.55it/s]\n"
     ]
    },
    {
     "name": "stdout",
     "output_type": "stream",
     "text": [
      "model checkpoint_9_4.cpt test dataset:\n",
      "precision:0.8155 recall:0.8018 f1:0.8086\n",
      "/home/wangnan/mrc4ner/checkpoints/2020_09_07_16_09_11/checkpoint_9_5.cpt \n",
      " Namespace(allow_impossible=True, alpha=1, beta=1, cls=True, cpu=False, debug=False, dev_batch=10, dev_path='./datasets/OntoNotes4.0/mrc-ner.dev', dropout_prob=0.1, epochs=10, eval=False, gamma=1, local_rank=2, log_steps=20, lr=8e-06, max_grad_norm=0.5, max_tokens=450, not_store=False, pretrained_model_name_or_path='./pretrained_models/chinese_roberta_wwm_large_ext_pytorch', reduction='mean', seed=209, span_layer=True, theta=1, train_batch=4, train_path='./datasets/OntoNotes4.0/mrc-ner.train', train_span_method='gold', warmup_ratio=0.1, weight_decay=0.01)\n"
     ]
    },
    {
     "name": "stderr",
     "output_type": "stream",
     "text": [
      "checkpoint_9_5.cpt: 100%|██████████| 2484/2484 [04:20<00:00,  9.55it/s]\n"
     ]
    },
    {
     "name": "stdout",
     "output_type": "stream",
     "text": [
      "model checkpoint_9_5.cpt test dataset:\n",
      "precision:0.8123 recall:0.8054 f1:0.8089\n",
      "/home/wangnan/mrc4ner/checkpoints/2020_09_07_16_09_11/checkpoint_9_6.cpt \n",
      " Namespace(allow_impossible=True, alpha=1, beta=1, cls=True, cpu=False, debug=False, dev_batch=10, dev_path='./datasets/OntoNotes4.0/mrc-ner.dev', dropout_prob=0.1, epochs=10, eval=False, gamma=1, local_rank=2, log_steps=20, lr=8e-06, max_grad_norm=0.5, max_tokens=450, not_store=False, pretrained_model_name_or_path='./pretrained_models/chinese_roberta_wwm_large_ext_pytorch', reduction='mean', seed=209, span_layer=True, theta=1, train_batch=4, train_path='./datasets/OntoNotes4.0/mrc-ner.train', train_span_method='gold', warmup_ratio=0.1, weight_decay=0.01)\n"
     ]
    },
    {
     "name": "stderr",
     "output_type": "stream",
     "text": [
      "checkpoint_9_6.cpt: 100%|██████████| 2484/2484 [04:18<00:00,  9.60it/s]\n"
     ]
    },
    {
     "name": "stdout",
     "output_type": "stream",
     "text": [
      "model checkpoint_9_6.cpt test dataset:\n",
      "precision:0.8106 recall:0.8053 f1:0.8079\n",
      "/home/wangnan/mrc4ner/checkpoints/2020_09_07_16_09_11/checkpoint_9_7.cpt \n",
      " Namespace(allow_impossible=True, alpha=1, beta=1, cls=True, cpu=False, debug=False, dev_batch=10, dev_path='./datasets/OntoNotes4.0/mrc-ner.dev', dropout_prob=0.1, epochs=10, eval=False, gamma=1, local_rank=2, log_steps=20, lr=8e-06, max_grad_norm=0.5, max_tokens=450, not_store=False, pretrained_model_name_or_path='./pretrained_models/chinese_roberta_wwm_large_ext_pytorch', reduction='mean', seed=209, span_layer=True, theta=1, train_batch=4, train_path='./datasets/OntoNotes4.0/mrc-ner.train', train_span_method='gold', warmup_ratio=0.1, weight_decay=0.01)\n"
     ]
    },
    {
     "name": "stderr",
     "output_type": "stream",
     "text": [
      "checkpoint_9_7.cpt: 100%|██████████| 2484/2484 [04:20<00:00,  9.54it/s]\n"
     ]
    },
    {
     "name": "stdout",
     "output_type": "stream",
     "text": [
      "model checkpoint_9_7.cpt test dataset:\n",
      "precision:0.8134 recall:0.8030 f1:0.8081\n",
      "/home/wangnan/mrc4ner/checkpoints/2020_09_07_16_09_11/checkpoint_9_8.cpt \n",
      " Namespace(allow_impossible=True, alpha=1, beta=1, cls=True, cpu=False, debug=False, dev_batch=10, dev_path='./datasets/OntoNotes4.0/mrc-ner.dev', dropout_prob=0.1, epochs=10, eval=False, gamma=1, local_rank=2, log_steps=20, lr=8e-06, max_grad_norm=0.5, max_tokens=450, not_store=False, pretrained_model_name_or_path='./pretrained_models/chinese_roberta_wwm_large_ext_pytorch', reduction='mean', seed=209, span_layer=True, theta=1, train_batch=4, train_path='./datasets/OntoNotes4.0/mrc-ner.train', train_span_method='gold', warmup_ratio=0.1, weight_decay=0.01)\n"
     ]
    },
    {
     "name": "stderr",
     "output_type": "stream",
     "text": [
      "checkpoint_9_8.cpt: 100%|██████████| 2484/2484 [04:21<00:00,  9.51it/s]"
     ]
    },
    {
     "name": "stdout",
     "output_type": "stream",
     "text": [
      "model checkpoint_9_8.cpt test dataset:\n",
      "precision:0.8127 recall:0.8022 f1:0.8074\n",
      "[('checkpoint_0_1.cpt', 0.0, 0.0, 0.0), ('checkpoint_0_2.cpt', 0.0, 0.0, 0.0), ('checkpoint_0_3.cpt', 0.27131072385764365, 0.038652389652826795, 0.06766465767129455), ('checkpoint_0_4.cpt', 0.5897604920699273, 0.35048315482495646, 0.4396751814209378), ('checkpoint_0_5.cpt', 0.7058603955382865, 0.4938626272533478, 0.5811304313194856), ('checkpoint_0_6.cpt', 0.553678786090879, 0.7576390701543955, 0.6397966118770507), ('checkpoint_0_7.cpt', 0.7599459539468629, 0.6610080960223285, 0.7070321163349669), ('checkpoint_0_8.cpt', 0.6823502143142484, 0.7688691563373113, 0.7230301396208091), ('checkpoint_1_1.cpt', 0.7783660036087614, 0.7103682422681681, 0.7428137291115947), ('checkpoint_1_2.cpt', 0.7796343900628914, 0.7128493078202077, 0.7447471134510657), ('checkpoint_1_3.cpt', 0.7908979088709993, 0.755680334192259, 0.7728876470678843), ('checkpoint_1_4.cpt', 0.8123738100933986, 0.735570644980991, 0.7720663870902991), ('checkpoint_1_5.cpt', 0.7265358862062098, 0.8076521283876139, 0.7649491024413034), ('checkpoint_1_6.cpt', 0.7943184921067579, 0.7594672237190562, 0.776501502818427), ('checkpoint_1_7.cpt', 0.8314917125862907, 0.7468007311639069, 0.786873469410993), ('checkpoint_1_8.cpt', 0.7673116708327478, 0.8233220160847059, 0.7943302091816218), ('checkpoint_2_1.cpt', 0.7846859471544545, 0.804256986053244, 0.7943504382596539), ('checkpoint_2_2.cpt', 0.79251050811457, 0.8124836770942173, 0.8023723157586542), ('checkpoint_2_3.cpt', 0.8331875181053969, 0.7461478191765281, 0.7872687215813368), ('checkpoint_2_4.cpt', 0.7730835169271266, 0.824366675264512, 0.7979014215472283), ('checkpoint_2_5.cpt', 0.818650739674406, 0.7875424391763459, 0.8027948411791739), ('checkpoint_2_6.cpt', 0.8431001889133197, 0.7571167405644924, 0.7977979189467783), ('checkpoint_2_7.cpt', 0.790825917935728, 0.8239749280720847, 0.8070596778912517), ('checkpoint_2_8.cpt', 0.7673356566798059, 0.8337686078827672, 0.7991734165255159), ('checkpoint_3_1.cpt', 0.8144900160800742, 0.7883259335612005, 0.8011939260391601), ('checkpoint_3_2.cpt', 0.8227951152207876, 0.7918516582930463, 0.8070263832279909), ('checkpoint_3_3.cpt', 0.8271758681573023, 0.7806215721101304, 0.8032242231869701), ('checkpoint_3_4.cpt', 0.8063840919928853, 0.8049098980406229, 0.805645820637816), ('checkpoint_3_5.cpt', 0.8111743402986065, 0.8190127969680056, 0.8150742237525975), ('checkpoint_3_6.cpt', 0.807273204567773, 0.8029511620784864, 0.8051058828772213), ('checkpoint_3_7.cpt', 0.765555421739613, 0.8306346303433488, 0.7967678354219709), ('checkpoint_3_8.cpt', 0.8058800871991423, 0.8196657089553845, 0.8127139428649448), ('checkpoint_4_1.cpt', 0.8056023860970558, 0.8111778531194597, 0.8083800061148663), ('checkpoint_4_2.cpt', 0.7957755603478326, 0.8019065028986803, 0.798828768196446), ('checkpoint_4_3.cpt', 0.7805486283316024, 0.8174458081982964, 0.7985707464974482), ('checkpoint_4_4.cpt', 0.801954732407156, 0.814311830658878, 0.8080855437242248), ('checkpoint_4_5.cpt', 0.7900892968444109, 0.8203186209427633, 0.8049197383973983), ('checkpoint_4_6.cpt', 0.8017140630045819, 0.8062157220153805, 0.8039580909536462), ('checkpoint_4_7.cpt', 0.8109172023604622, 0.8069992164002351, 0.8089529654382887), ('checkpoint_4_8.cpt', 0.7933988409179391, 0.8224079393023755, 0.8076424854387666), ('checkpoint_5_1.cpt', 0.8081686428447735, 0.8009924261163499, 0.8045640329582395), ('checkpoint_5_2.cpt', 0.797585409607297, 0.8109166883245081, 0.8041953041263171), ('checkpoint_5_3.cpt', 0.8177480914915828, 0.7833638024571214, 0.800186241487383), ('checkpoint_5_4.cpt', 0.8342456139180006, 0.7761817705959543, 0.8041664490634436), ('checkpoint_5_5.cpt', 0.821871169709673, 0.788064768766249, 0.8046125259117866), ('checkpoint_5_6.cpt', 0.8016975307610985, 0.8140506658639265, 0.8078263756537647), ('checkpoint_5_7.cpt', 0.7835738067846129, 0.8297205535610185, 0.8059866887387024), ('checkpoint_5_8.cpt', 0.8236167340319005, 0.7969443717946011, 0.8100605565719011), ('checkpoint_6_1.cpt', 0.8052473566368297, 0.8055628100280017, 0.8054045524443004), ('checkpoint_6_2.cpt', 0.8030050082441241, 0.816531731415966, 0.8097113807979321), ('checkpoint_6_3.cpt', 0.8121442124136427, 0.7824497256747911, 0.7970199842390097), ('checkpoint_6_4.cpt', 0.7892427280856015, 0.8220161921099483, 0.8052956495220904), ('checkpoint_6_5.cpt', 0.8068539914906967, 0.8024288324885833, 0.8046348279071115), ('checkpoint_6_6.cpt', 0.8046987792617536, 0.8006006789239226, 0.8026439981638575), ('checkpoint_6_7.cpt', 0.7999738868259597, 0.8000783493340196, 0.8000256146702857), ('checkpoint_6_8.cpt', 0.812317493919257, 0.7991642725516891, 0.8056867037190227), ('checkpoint_7_1.cpt', 0.8137332279908269, 0.8077827107850897, 0.8107465510148076), ('checkpoint_7_2.cpt', 0.8095427434314721, 0.7975972837819799, 0.80352511986566), ('checkpoint_7_3.cpt', 0.8100602566400235, 0.8075215459901381, 0.8087884091293475), ('checkpoint_7_4.cpt', 0.8090826046184154, 0.8096108643497505, 0.8093461482858074), ('checkpoint_7_5.cpt', 0.8076280980085234, 0.8212326977250937, 0.8143730836137721), ('checkpoint_7_6.cpt', 0.8145730650306949, 0.7985113605643103, 0.8064617485422709), ('checkpoint_7_7.cpt', 0.8291139239365556, 0.7868895271889671, 0.8074495873298171), ('checkpoint_7_8.cpt', 0.8140723269373594, 0.8113084355169354, 0.8126875312885175), ('checkpoint_8_1.cpt', 0.8189311352274752, 0.8043875684507198, 0.8115937028320624), ('checkpoint_8_2.cpt', 0.8206338501927668, 0.7945938886400373, 0.8074034673819825), ('checkpoint_8_3.cpt', 0.8072998429085164, 0.8058239748229532, 0.8065607337209533), ('checkpoint_8_4.cpt', 0.8171122993560009, 0.798119613371883, 0.8075037937928512), ('checkpoint_8_5.cpt', 0.8187266914199884, 0.8026899972835349, 0.8106285385813801), ('checkpoint_8_6.cpt', 0.8124918160517884, 0.8102637763371293, 0.811375766648995), ('checkpoint_8_7.cpt', 0.8187990945521503, 0.8030817444759621, 0.810863762581266), ('checkpoint_8_8.cpt', 0.8146238264161544, 0.8045181508481956, 0.809538951986209), ('checkpoint_9_1.cpt', 0.8117292048265902, 0.8079132931825654, 0.8098162538237889), ('checkpoint_9_2.cpt', 0.8097039258106555, 0.8106555235295566, 0.8101789452454821), ('checkpoint_9_3.cpt', 0.812845485547138, 0.806476886810332, 0.8096481627230858), ('checkpoint_9_4.cpt', 0.8155133482779235, 0.8017759205012045, 0.8085857908365967), ('checkpoint_9_5.cpt', 0.8123271433145888, 0.8054322276305259, 0.8088644923628286), ('checkpoint_9_6.cpt', 0.8105941113550743, 0.8053016452330501, 0.8079387112190966), ('checkpoint_9_7.cpt', 0.813359788252201, 0.8029511620784864, 0.8081214607506906), ('checkpoint_9_8.cpt', 0.8126736339710711, 0.8021676676936318, 0.8073859755675876)]\n"
     ]
    },
    {
     "name": "stderr",
     "output_type": "stream",
     "text": [
      "\n"
     ]
    }
   ],
   "source": [
    "base_dir = '/home/wangnan/mrc4ner/checkpoints/'\n",
    "base_model_dir = '2020_09_07_16_09_11'\n",
    "model_dir = base_dir+base_model_dir+'/'\n",
    "args = pickle.load(open(model_dir+'args','rb'))\n",
    "files = os.listdir(base_dir+base_model_dir)\n",
    "files.remove('args')\n",
    "files = sorted(files)\n",
    "scores = []\n",
    "for file in files:\n",
    "    s = test(model_dir,file,7,args)\n",
    "    scores.append(s)\n",
    "print(scores)"
   ]
  },
  {
   "cell_type": "code",
   "execution_count": null,
   "metadata": {},
   "outputs": [],
   "source": []
  }
 ],
 "metadata": {
  "kernelspec": {
   "display_name": "mypython",
   "language": "python",
   "name": "mypython"
  },
  "language_info": {
   "codemirror_mode": {
    "name": "ipython",
    "version": 3
   },
   "file_extension": ".py",
   "mimetype": "text/x-python",
   "name": "python",
   "nbconvert_exporter": "python",
   "pygments_lexer": "ipython3",
   "version": "3.8.3"
  }
 },
 "nbformat": 4,
 "nbformat_minor": 4
}
