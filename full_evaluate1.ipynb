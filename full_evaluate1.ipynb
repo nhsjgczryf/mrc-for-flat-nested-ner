{
 "cells": [
  {
   "cell_type": "code",
   "execution_count": 1,
   "metadata": {},
   "outputs": [],
   "source": [
    "import os\n",
    "os.chdir('/home/wangnan/mrc4ner')\n",
    "from evaluate import evaluation\n",
    "from model import MyModel\n",
    "from mydataset import load_data,collate_fn,MyDataset\n",
    "import pickle \n",
    "from transformers import BertTokenizer\n",
    "import torch\n",
    "import time\n",
    "from tqdm import tqdm\n",
    "from torch.utils.data import DataLoader\n",
    "from multiprocessing import Process\n",
    "\n",
    "os.environ['CUDA_VISIBLE_DEVICES']='0'"
   ]
  },
  {
   "cell_type": "code",
   "execution_count": 2,
   "metadata": {},
   "outputs": [],
   "source": [
    "pretrained_model1 = '/home/wangnan/mrc4ner/pretrained_models/chinese_roberta_wwm_large_ext_pytorch'\n",
    "pretrained_model2 = '/home/wangnan/mrc4ner/pretrained_models/RoBERTa_zh_Large_PyTorch'\n",
    "\n",
    "dev_path = '/home/wangnan/mrc4ner/datasets/OntoNotes4.0/mrc-ner.dev'\n",
    "test_path = '/home/wangnan/mrc4ner/datasets/OntoNotes4.0/mrc-ner.test'"
   ]
  },
  {
   "cell_type": "code",
   "execution_count": 3,
   "metadata": {},
   "outputs": [],
   "source": [
    "with open(\"/home/wangnan/mrc4ner/datasets/OntoNotes4.0/eval_dataset\",'rb') as f:\n",
    "    data = pickle.load(f)\n",
    "    pre1_dev_dataset=data['pre1_dev_dataset']\n",
    "    pre1_test_dataset=data['pre1_test_dataset']\n",
    "    pre2_dev_dataset=data['pre2_dev_dataset']\n",
    "    pre2_test_dataset=data['pre2_test_dataset']"
   ]
  },
  {
   "cell_type": "code",
   "execution_count": 4,
   "metadata": {},
   "outputs": [],
   "source": [
    "def test(model_dir,file,batch_size,args):\n",
    "    path = model_dir+file\n",
    "    cpt = torch.load(path,map_location=torch.device('cuda:0'))\n",
    "    mymodel = MyModel(args)\n",
    "    mymodel.load_state_dict(cpt[\"state_dict\"])\n",
    "    test_dataset = pre1_test_dataset if args.pretrained_model_name_or_path==pretrained_model1 else pre2_test_dataset\n",
    "    test_dataloader = DataLoader(test_dataset, batch_size=batch_size, collate_fn=collate_fn,\n",
    "                              pin_memory=False,shuffle=False)\n",
    "    print(path,'\\n',args)\n",
    "    time.sleep(0.1)\n",
    "    p,r,f = evaluation(mymodel,test_dataloader,train_eval=False,desc=file)\n",
    "    print(\"model {} test dataset:\\nprecision:{:.4f} recall:{:.4f} f1:{:.4f}\".format(file,p,r,f))\n",
    "    return file,p,r,f"
   ]
  },
  {
   "cell_type": "code",
   "execution_count": 5,
   "metadata": {},
   "outputs": [
    {
     "name": "stdout",
     "output_type": "stream",
     "text": [
      "/home/wangnan/mrc4ner/checkpoints/2020_09_07_11_01_35/checkpoint_0_1.cpt \n",
      " Namespace(allow_impossible=True, alpha=1, beta=1, cls=True, cpu=False, debug=False, dev_batch=10, dev_path='./datasets/OntoNotes4.0/mrc-ner.dev', dropout_prob=0.1, epochs=10, eval=False, gamma=1, local_rank=0, log_steps=20, lr=8e-06, max_grad_norm=1.0, max_tokens=450, not_store=False, pretrained_model_name_or_path='./pretrained_models/chinese_roberta_wwm_large_ext_pytorch', reduction='mean', seed=209, span_layer=True, theta=1, train_batch=4, train_path='./datasets/OntoNotes4.0/mrc-ner.train', train_span_method='gold', warmup_ratio=0.1, weight_decay=0.01)\n"
     ]
    },
    {
     "name": "stderr",
     "output_type": "stream",
     "text": [
      "checkpoint_0_1.cpt: 100%|██████████| 2484/2484 [04:19<00:00,  9.59it/s]\n"
     ]
    },
    {
     "name": "stdout",
     "output_type": "stream",
     "text": [
      "model checkpoint_0_1.cpt test dataset:\n",
      "precision:0.0000 recall:0.0000 f1:0.0000\n",
      "/home/wangnan/mrc4ner/checkpoints/2020_09_07_11_01_35/checkpoint_0_2.cpt \n",
      " Namespace(allow_impossible=True, alpha=1, beta=1, cls=True, cpu=False, debug=False, dev_batch=10, dev_path='./datasets/OntoNotes4.0/mrc-ner.dev', dropout_prob=0.1, epochs=10, eval=False, gamma=1, local_rank=0, log_steps=20, lr=8e-06, max_grad_norm=1.0, max_tokens=450, not_store=False, pretrained_model_name_or_path='./pretrained_models/chinese_roberta_wwm_large_ext_pytorch', reduction='mean', seed=209, span_layer=True, theta=1, train_batch=4, train_path='./datasets/OntoNotes4.0/mrc-ner.train', train_span_method='gold', warmup_ratio=0.1, weight_decay=0.01)\n"
     ]
    },
    {
     "name": "stderr",
     "output_type": "stream",
     "text": [
      "checkpoint_0_2.cpt: 100%|██████████| 2484/2484 [04:26<00:00,  9.33it/s]\n"
     ]
    },
    {
     "name": "stdout",
     "output_type": "stream",
     "text": [
      "model checkpoint_0_2.cpt test dataset:\n",
      "precision:0.0000 recall:0.0000 f1:0.0000\n",
      "/home/wangnan/mrc4ner/checkpoints/2020_09_07_11_01_35/checkpoint_0_3.cpt \n",
      " Namespace(allow_impossible=True, alpha=1, beta=1, cls=True, cpu=False, debug=False, dev_batch=10, dev_path='./datasets/OntoNotes4.0/mrc-ner.dev', dropout_prob=0.1, epochs=10, eval=False, gamma=1, local_rank=0, log_steps=20, lr=8e-06, max_grad_norm=1.0, max_tokens=450, not_store=False, pretrained_model_name_or_path='./pretrained_models/chinese_roberta_wwm_large_ext_pytorch', reduction='mean', seed=209, span_layer=True, theta=1, train_batch=4, train_path='./datasets/OntoNotes4.0/mrc-ner.train', train_span_method='gold', warmup_ratio=0.1, weight_decay=0.01)\n"
     ]
    },
    {
     "name": "stderr",
     "output_type": "stream",
     "text": [
      "checkpoint_0_3.cpt: 100%|██████████| 2484/2484 [04:27<00:00,  9.30it/s]\n"
     ]
    },
    {
     "name": "stdout",
     "output_type": "stream",
     "text": [
      "model checkpoint_0_3.cpt test dataset:\n",
      "precision:0.3733 recall:0.0358 f1:0.0653\n",
      "/home/wangnan/mrc4ner/checkpoints/2020_09_07_11_01_35/checkpoint_0_4.cpt \n",
      " Namespace(allow_impossible=True, alpha=1, beta=1, cls=True, cpu=False, debug=False, dev_batch=10, dev_path='./datasets/OntoNotes4.0/mrc-ner.dev', dropout_prob=0.1, epochs=10, eval=False, gamma=1, local_rank=0, log_steps=20, lr=8e-06, max_grad_norm=1.0, max_tokens=450, not_store=False, pretrained_model_name_or_path='./pretrained_models/chinese_roberta_wwm_large_ext_pytorch', reduction='mean', seed=209, span_layer=True, theta=1, train_batch=4, train_path='./datasets/OntoNotes4.0/mrc-ner.train', train_span_method='gold', warmup_ratio=0.1, weight_decay=0.01)\n"
     ]
    },
    {
     "name": "stderr",
     "output_type": "stream",
     "text": [
      "checkpoint_0_4.cpt: 100%|██████████| 2484/2484 [04:27<00:00,  9.30it/s]\n"
     ]
    },
    {
     "name": "stdout",
     "output_type": "stream",
     "text": [
      "model checkpoint_0_4.cpt test dataset:\n",
      "precision:0.5907 recall:0.3650 f1:0.4512\n",
      "/home/wangnan/mrc4ner/checkpoints/2020_09_07_11_01_35/checkpoint_0_5.cpt \n",
      " Namespace(allow_impossible=True, alpha=1, beta=1, cls=True, cpu=False, debug=False, dev_batch=10, dev_path='./datasets/OntoNotes4.0/mrc-ner.dev', dropout_prob=0.1, epochs=10, eval=False, gamma=1, local_rank=0, log_steps=20, lr=8e-06, max_grad_norm=1.0, max_tokens=450, not_store=False, pretrained_model_name_or_path='./pretrained_models/chinese_roberta_wwm_large_ext_pytorch', reduction='mean', seed=209, span_layer=True, theta=1, train_batch=4, train_path='./datasets/OntoNotes4.0/mrc-ner.train', train_span_method='gold', warmup_ratio=0.1, weight_decay=0.01)\n"
     ]
    },
    {
     "name": "stderr",
     "output_type": "stream",
     "text": [
      "checkpoint_0_5.cpt: 100%|██████████| 2484/2484 [04:27<00:00,  9.27it/s]\n"
     ]
    },
    {
     "name": "stdout",
     "output_type": "stream",
     "text": [
      "model checkpoint_0_5.cpt test dataset:\n",
      "precision:0.7174 recall:0.4963 f1:0.5868\n",
      "/home/wangnan/mrc4ner/checkpoints/2020_09_07_11_01_35/checkpoint_0_6.cpt \n",
      " Namespace(allow_impossible=True, alpha=1, beta=1, cls=True, cpu=False, debug=False, dev_batch=10, dev_path='./datasets/OntoNotes4.0/mrc-ner.dev', dropout_prob=0.1, epochs=10, eval=False, gamma=1, local_rank=0, log_steps=20, lr=8e-06, max_grad_norm=1.0, max_tokens=450, not_store=False, pretrained_model_name_or_path='./pretrained_models/chinese_roberta_wwm_large_ext_pytorch', reduction='mean', seed=209, span_layer=True, theta=1, train_batch=4, train_path='./datasets/OntoNotes4.0/mrc-ner.train', train_span_method='gold', warmup_ratio=0.1, weight_decay=0.01)\n"
     ]
    },
    {
     "name": "stderr",
     "output_type": "stream",
     "text": [
      "checkpoint_0_6.cpt: 100%|██████████| 2484/2484 [04:27<00:00,  9.30it/s]\n"
     ]
    },
    {
     "name": "stdout",
     "output_type": "stream",
     "text": [
      "model checkpoint_0_6.cpt test dataset:\n",
      "precision:0.6176 recall:0.7045 f1:0.6582\n",
      "/home/wangnan/mrc4ner/checkpoints/2020_09_07_11_01_35/checkpoint_0_7.cpt \n",
      " Namespace(allow_impossible=True, alpha=1, beta=1, cls=True, cpu=False, debug=False, dev_batch=10, dev_path='./datasets/OntoNotes4.0/mrc-ner.dev', dropout_prob=0.1, epochs=10, eval=False, gamma=1, local_rank=0, log_steps=20, lr=8e-06, max_grad_norm=1.0, max_tokens=450, not_store=False, pretrained_model_name_or_path='./pretrained_models/chinese_roberta_wwm_large_ext_pytorch', reduction='mean', seed=209, span_layer=True, theta=1, train_batch=4, train_path='./datasets/OntoNotes4.0/mrc-ner.train', train_span_method='gold', warmup_ratio=0.1, weight_decay=0.01)\n"
     ]
    },
    {
     "name": "stderr",
     "output_type": "stream",
     "text": [
      "checkpoint_0_7.cpt: 100%|██████████| 2484/2484 [04:27<00:00,  9.29it/s]\n"
     ]
    },
    {
     "name": "stdout",
     "output_type": "stream",
     "text": [
      "model checkpoint_0_7.cpt test dataset:\n",
      "precision:0.7347 recall:0.5999 f1:0.6605\n",
      "/home/wangnan/mrc4ner/checkpoints/2020_09_07_11_01_35/checkpoint_0_8.cpt \n",
      " Namespace(allow_impossible=True, alpha=1, beta=1, cls=True, cpu=False, debug=False, dev_batch=10, dev_path='./datasets/OntoNotes4.0/mrc-ner.dev', dropout_prob=0.1, epochs=10, eval=False, gamma=1, local_rank=0, log_steps=20, lr=8e-06, max_grad_norm=1.0, max_tokens=450, not_store=False, pretrained_model_name_or_path='./pretrained_models/chinese_roberta_wwm_large_ext_pytorch', reduction='mean', seed=209, span_layer=True, theta=1, train_batch=4, train_path='./datasets/OntoNotes4.0/mrc-ner.train', train_span_method='gold', warmup_ratio=0.1, weight_decay=0.01)\n"
     ]
    },
    {
     "name": "stderr",
     "output_type": "stream",
     "text": [
      "checkpoint_0_8.cpt: 100%|██████████| 2484/2484 [04:27<00:00,  9.29it/s]\n"
     ]
    },
    {
     "name": "stdout",
     "output_type": "stream",
     "text": [
      "model checkpoint_0_8.cpt test dataset:\n",
      "precision:0.6778 recall:0.7813 f1:0.7259\n",
      "/home/wangnan/mrc4ner/checkpoints/2020_09_07_11_01_35/checkpoint_1_1.cpt \n",
      " Namespace(allow_impossible=True, alpha=1, beta=1, cls=True, cpu=False, debug=False, dev_batch=10, dev_path='./datasets/OntoNotes4.0/mrc-ner.dev', dropout_prob=0.1, epochs=10, eval=False, gamma=1, local_rank=0, log_steps=20, lr=8e-06, max_grad_norm=1.0, max_tokens=450, not_store=False, pretrained_model_name_or_path='./pretrained_models/chinese_roberta_wwm_large_ext_pytorch', reduction='mean', seed=209, span_layer=True, theta=1, train_batch=4, train_path='./datasets/OntoNotes4.0/mrc-ner.train', train_span_method='gold', warmup_ratio=0.1, weight_decay=0.01)\n"
     ]
    },
    {
     "name": "stderr",
     "output_type": "stream",
     "text": [
      "checkpoint_1_1.cpt: 100%|██████████| 2484/2484 [04:25<00:00,  9.37it/s]\n"
     ]
    },
    {
     "name": "stdout",
     "output_type": "stream",
     "text": [
      "model checkpoint_1_1.cpt test dataset:\n",
      "precision:0.7694 recall:0.7365 f1:0.7526\n",
      "/home/wangnan/mrc4ner/checkpoints/2020_09_07_11_01_35/checkpoint_1_2.cpt \n",
      " Namespace(allow_impossible=True, alpha=1, beta=1, cls=True, cpu=False, debug=False, dev_batch=10, dev_path='./datasets/OntoNotes4.0/mrc-ner.dev', dropout_prob=0.1, epochs=10, eval=False, gamma=1, local_rank=0, log_steps=20, lr=8e-06, max_grad_norm=1.0, max_tokens=450, not_store=False, pretrained_model_name_or_path='./pretrained_models/chinese_roberta_wwm_large_ext_pytorch', reduction='mean', seed=209, span_layer=True, theta=1, train_batch=4, train_path='./datasets/OntoNotes4.0/mrc-ner.train', train_span_method='gold', warmup_ratio=0.1, weight_decay=0.01)\n"
     ]
    },
    {
     "name": "stderr",
     "output_type": "stream",
     "text": [
      "checkpoint_1_2.cpt: 100%|██████████| 2484/2484 [04:26<00:00,  9.31it/s]\n"
     ]
    },
    {
     "name": "stdout",
     "output_type": "stream",
     "text": [
      "model checkpoint_1_2.cpt test dataset:\n",
      "precision:0.7557 recall:0.7571 f1:0.7564\n",
      "/home/wangnan/mrc4ner/checkpoints/2020_09_07_11_01_35/checkpoint_1_3.cpt \n",
      " Namespace(allow_impossible=True, alpha=1, beta=1, cls=True, cpu=False, debug=False, dev_batch=10, dev_path='./datasets/OntoNotes4.0/mrc-ner.dev', dropout_prob=0.1, epochs=10, eval=False, gamma=1, local_rank=0, log_steps=20, lr=8e-06, max_grad_norm=1.0, max_tokens=450, not_store=False, pretrained_model_name_or_path='./pretrained_models/chinese_roberta_wwm_large_ext_pytorch', reduction='mean', seed=209, span_layer=True, theta=1, train_batch=4, train_path='./datasets/OntoNotes4.0/mrc-ner.train', train_span_method='gold', warmup_ratio=0.1, weight_decay=0.01)\n"
     ]
    },
    {
     "name": "stderr",
     "output_type": "stream",
     "text": [
      "checkpoint_1_3.cpt: 100%|██████████| 2484/2484 [04:26<00:00,  9.31it/s]\n"
     ]
    },
    {
     "name": "stdout",
     "output_type": "stream",
     "text": [
      "model checkpoint_1_3.cpt test dataset:\n",
      "precision:0.7543 recall:0.7664 f1:0.7603\n",
      "/home/wangnan/mrc4ner/checkpoints/2020_09_07_11_01_35/checkpoint_1_4.cpt \n",
      " Namespace(allow_impossible=True, alpha=1, beta=1, cls=True, cpu=False, debug=False, dev_batch=10, dev_path='./datasets/OntoNotes4.0/mrc-ner.dev', dropout_prob=0.1, epochs=10, eval=False, gamma=1, local_rank=0, log_steps=20, lr=8e-06, max_grad_norm=1.0, max_tokens=450, not_store=False, pretrained_model_name_or_path='./pretrained_models/chinese_roberta_wwm_large_ext_pytorch', reduction='mean', seed=209, span_layer=True, theta=1, train_batch=4, train_path='./datasets/OntoNotes4.0/mrc-ner.train', train_span_method='gold', warmup_ratio=0.1, weight_decay=0.01)\n"
     ]
    },
    {
     "name": "stderr",
     "output_type": "stream",
     "text": [
      "checkpoint_1_4.cpt: 100%|██████████| 2484/2484 [04:26<00:00,  9.32it/s]\n"
     ]
    },
    {
     "name": "stdout",
     "output_type": "stream",
     "text": [
      "model checkpoint_1_4.cpt test dataset:\n",
      "precision:0.8110 recall:0.7378 f1:0.7726\n",
      "/home/wangnan/mrc4ner/checkpoints/2020_09_07_11_01_35/checkpoint_1_5.cpt \n",
      " Namespace(allow_impossible=True, alpha=1, beta=1, cls=True, cpu=False, debug=False, dev_batch=10, dev_path='./datasets/OntoNotes4.0/mrc-ner.dev', dropout_prob=0.1, epochs=10, eval=False, gamma=1, local_rank=0, log_steps=20, lr=8e-06, max_grad_norm=1.0, max_tokens=450, not_store=False, pretrained_model_name_or_path='./pretrained_models/chinese_roberta_wwm_large_ext_pytorch', reduction='mean', seed=209, span_layer=True, theta=1, train_batch=4, train_path='./datasets/OntoNotes4.0/mrc-ner.train', train_span_method='gold', warmup_ratio=0.1, weight_decay=0.01)\n"
     ]
    },
    {
     "name": "stderr",
     "output_type": "stream",
     "text": [
      "checkpoint_1_5.cpt: 100%|██████████| 2484/2484 [04:25<00:00,  9.35it/s]\n"
     ]
    },
    {
     "name": "stdout",
     "output_type": "stream",
     "text": [
      "model checkpoint_1_5.cpt test dataset:\n",
      "precision:0.7722 recall:0.7947 f1:0.7833\n",
      "/home/wangnan/mrc4ner/checkpoints/2020_09_07_11_01_35/checkpoint_1_6.cpt \n",
      " Namespace(allow_impossible=True, alpha=1, beta=1, cls=True, cpu=False, debug=False, dev_batch=10, dev_path='./datasets/OntoNotes4.0/mrc-ner.dev', dropout_prob=0.1, epochs=10, eval=False, gamma=1, local_rank=0, log_steps=20, lr=8e-06, max_grad_norm=1.0, max_tokens=450, not_store=False, pretrained_model_name_or_path='./pretrained_models/chinese_roberta_wwm_large_ext_pytorch', reduction='mean', seed=209, span_layer=True, theta=1, train_batch=4, train_path='./datasets/OntoNotes4.0/mrc-ner.train', train_span_method='gold', warmup_ratio=0.1, weight_decay=0.01)\n"
     ]
    },
    {
     "name": "stderr",
     "output_type": "stream",
     "text": [
      "checkpoint_1_6.cpt: 100%|██████████| 2484/2484 [04:25<00:00,  9.36it/s]\n"
     ]
    },
    {
     "name": "stdout",
     "output_type": "stream",
     "text": [
      "model checkpoint_1_6.cpt test dataset:\n",
      "precision:0.7989 recall:0.7657 f1:0.7820\n",
      "/home/wangnan/mrc4ner/checkpoints/2020_09_07_11_01_35/checkpoint_1_7.cpt \n",
      " Namespace(allow_impossible=True, alpha=1, beta=1, cls=True, cpu=False, debug=False, dev_batch=10, dev_path='./datasets/OntoNotes4.0/mrc-ner.dev', dropout_prob=0.1, epochs=10, eval=False, gamma=1, local_rank=0, log_steps=20, lr=8e-06, max_grad_norm=1.0, max_tokens=450, not_store=False, pretrained_model_name_or_path='./pretrained_models/chinese_roberta_wwm_large_ext_pytorch', reduction='mean', seed=209, span_layer=True, theta=1, train_batch=4, train_path='./datasets/OntoNotes4.0/mrc-ner.train', train_span_method='gold', warmup_ratio=0.1, weight_decay=0.01)\n"
     ]
    },
    {
     "name": "stderr",
     "output_type": "stream",
     "text": [
      "checkpoint_1_7.cpt: 100%|██████████| 2484/2484 [04:25<00:00,  9.36it/s]\n"
     ]
    },
    {
     "name": "stdout",
     "output_type": "stream",
     "text": [
      "model checkpoint_1_7.cpt test dataset:\n",
      "precision:0.8399 recall:0.7360 f1:0.7845\n",
      "/home/wangnan/mrc4ner/checkpoints/2020_09_07_11_01_35/checkpoint_1_8.cpt \n",
      " Namespace(allow_impossible=True, alpha=1, beta=1, cls=True, cpu=False, debug=False, dev_batch=10, dev_path='./datasets/OntoNotes4.0/mrc-ner.dev', dropout_prob=0.1, epochs=10, eval=False, gamma=1, local_rank=0, log_steps=20, lr=8e-06, max_grad_norm=1.0, max_tokens=450, not_store=False, pretrained_model_name_or_path='./pretrained_models/chinese_roberta_wwm_large_ext_pytorch', reduction='mean', seed=209, span_layer=True, theta=1, train_batch=4, train_path='./datasets/OntoNotes4.0/mrc-ner.train', train_span_method='gold', warmup_ratio=0.1, weight_decay=0.01)\n"
     ]
    },
    {
     "name": "stderr",
     "output_type": "stream",
     "text": [
      "checkpoint_1_8.cpt: 100%|██████████| 2484/2484 [04:26<00:00,  9.33it/s]\n"
     ]
    },
    {
     "name": "stdout",
     "output_type": "stream",
     "text": [
      "model checkpoint_1_8.cpt test dataset:\n",
      "precision:0.7763 recall:0.8152 f1:0.7953\n",
      "/home/wangnan/mrc4ner/checkpoints/2020_09_07_11_01_35/checkpoint_2_1.cpt \n",
      " Namespace(allow_impossible=True, alpha=1, beta=1, cls=True, cpu=False, debug=False, dev_batch=10, dev_path='./datasets/OntoNotes4.0/mrc-ner.dev', dropout_prob=0.1, epochs=10, eval=False, gamma=1, local_rank=0, log_steps=20, lr=8e-06, max_grad_norm=1.0, max_tokens=450, not_store=False, pretrained_model_name_or_path='./pretrained_models/chinese_roberta_wwm_large_ext_pytorch', reduction='mean', seed=209, span_layer=True, theta=1, train_batch=4, train_path='./datasets/OntoNotes4.0/mrc-ner.train', train_span_method='gold', warmup_ratio=0.1, weight_decay=0.01)\n"
     ]
    },
    {
     "name": "stderr",
     "output_type": "stream",
     "text": [
      "checkpoint_2_1.cpt: 100%|██████████| 2484/2484 [04:26<00:00,  9.32it/s]\n"
     ]
    },
    {
     "name": "stdout",
     "output_type": "stream",
     "text": [
      "model checkpoint_2_1.cpt test dataset:\n",
      "precision:0.7856 recall:0.8167 f1:0.8008\n",
      "/home/wangnan/mrc4ner/checkpoints/2020_09_07_11_01_35/checkpoint_2_2.cpt \n",
      " Namespace(allow_impossible=True, alpha=1, beta=1, cls=True, cpu=False, debug=False, dev_batch=10, dev_path='./datasets/OntoNotes4.0/mrc-ner.dev', dropout_prob=0.1, epochs=10, eval=False, gamma=1, local_rank=0, log_steps=20, lr=8e-06, max_grad_norm=1.0, max_tokens=450, not_store=False, pretrained_model_name_or_path='./pretrained_models/chinese_roberta_wwm_large_ext_pytorch', reduction='mean', seed=209, span_layer=True, theta=1, train_batch=4, train_path='./datasets/OntoNotes4.0/mrc-ner.train', train_span_method='gold', warmup_ratio=0.1, weight_decay=0.01)\n"
     ]
    },
    {
     "name": "stderr",
     "output_type": "stream",
     "text": [
      "checkpoint_2_2.cpt: 100%|██████████| 2484/2484 [04:26<00:00,  9.31it/s]\n"
     ]
    },
    {
     "name": "stdout",
     "output_type": "stream",
     "text": [
      "model checkpoint_2_2.cpt test dataset:\n",
      "precision:0.7870 recall:0.8148 f1:0.8007\n",
      "/home/wangnan/mrc4ner/checkpoints/2020_09_07_11_01_35/checkpoint_2_3.cpt \n",
      " Namespace(allow_impossible=True, alpha=1, beta=1, cls=True, cpu=False, debug=False, dev_batch=10, dev_path='./datasets/OntoNotes4.0/mrc-ner.dev', dropout_prob=0.1, epochs=10, eval=False, gamma=1, local_rank=0, log_steps=20, lr=8e-06, max_grad_norm=1.0, max_tokens=450, not_store=False, pretrained_model_name_or_path='./pretrained_models/chinese_roberta_wwm_large_ext_pytorch', reduction='mean', seed=209, span_layer=True, theta=1, train_batch=4, train_path='./datasets/OntoNotes4.0/mrc-ner.train', train_span_method='gold', warmup_ratio=0.1, weight_decay=0.01)\n"
     ]
    },
    {
     "name": "stderr",
     "output_type": "stream",
     "text": [
      "checkpoint_2_3.cpt: 100%|██████████| 2484/2484 [04:26<00:00,  9.33it/s]\n"
     ]
    },
    {
     "name": "stdout",
     "output_type": "stream",
     "text": [
      "model checkpoint_2_3.cpt test dataset:\n",
      "precision:0.7903 recall:0.7819 f1:0.7861\n",
      "/home/wangnan/mrc4ner/checkpoints/2020_09_07_11_01_35/checkpoint_2_4.cpt \n",
      " Namespace(allow_impossible=True, alpha=1, beta=1, cls=True, cpu=False, debug=False, dev_batch=10, dev_path='./datasets/OntoNotes4.0/mrc-ner.dev', dropout_prob=0.1, epochs=10, eval=False, gamma=1, local_rank=0, log_steps=20, lr=8e-06, max_grad_norm=1.0, max_tokens=450, not_store=False, pretrained_model_name_or_path='./pretrained_models/chinese_roberta_wwm_large_ext_pytorch', reduction='mean', seed=209, span_layer=True, theta=1, train_batch=4, train_path='./datasets/OntoNotes4.0/mrc-ner.train', train_span_method='gold', warmup_ratio=0.1, weight_decay=0.01)\n"
     ]
    },
    {
     "name": "stderr",
     "output_type": "stream",
     "text": [
      "checkpoint_2_4.cpt: 100%|██████████| 2484/2484 [04:27<00:00,  9.30it/s]\n"
     ]
    },
    {
     "name": "stdout",
     "output_type": "stream",
     "text": [
      "model checkpoint_2_4.cpt test dataset:\n",
      "precision:0.8111 recall:0.8086 f1:0.8098\n",
      "/home/wangnan/mrc4ner/checkpoints/2020_09_07_11_01_35/checkpoint_2_5.cpt \n",
      " Namespace(allow_impossible=True, alpha=1, beta=1, cls=True, cpu=False, debug=False, dev_batch=10, dev_path='./datasets/OntoNotes4.0/mrc-ner.dev', dropout_prob=0.1, epochs=10, eval=False, gamma=1, local_rank=0, log_steps=20, lr=8e-06, max_grad_norm=1.0, max_tokens=450, not_store=False, pretrained_model_name_or_path='./pretrained_models/chinese_roberta_wwm_large_ext_pytorch', reduction='mean', seed=209, span_layer=True, theta=1, train_batch=4, train_path='./datasets/OntoNotes4.0/mrc-ner.train', train_span_method='gold', warmup_ratio=0.1, weight_decay=0.01)\n"
     ]
    },
    {
     "name": "stderr",
     "output_type": "stream",
     "text": [
      "checkpoint_2_5.cpt: 100%|██████████| 2484/2484 [04:27<00:00,  9.29it/s]\n"
     ]
    },
    {
     "name": "stdout",
     "output_type": "stream",
     "text": [
      "model checkpoint_2_5.cpt test dataset:\n",
      "precision:0.8041 recall:0.8027 f1:0.8034\n",
      "/home/wangnan/mrc4ner/checkpoints/2020_09_07_11_01_35/checkpoint_2_6.cpt \n",
      " Namespace(allow_impossible=True, alpha=1, beta=1, cls=True, cpu=False, debug=False, dev_batch=10, dev_path='./datasets/OntoNotes4.0/mrc-ner.dev', dropout_prob=0.1, epochs=10, eval=False, gamma=1, local_rank=0, log_steps=20, lr=8e-06, max_grad_norm=1.0, max_tokens=450, not_store=False, pretrained_model_name_or_path='./pretrained_models/chinese_roberta_wwm_large_ext_pytorch', reduction='mean', seed=209, span_layer=True, theta=1, train_batch=4, train_path='./datasets/OntoNotes4.0/mrc-ner.train', train_span_method='gold', warmup_ratio=0.1, weight_decay=0.01)\n"
     ]
    },
    {
     "name": "stderr",
     "output_type": "stream",
     "text": [
      "checkpoint_2_6.cpt: 100%|██████████| 2484/2484 [04:27<00:00,  9.30it/s]\n"
     ]
    },
    {
     "name": "stdout",
     "output_type": "stream",
     "text": [
      "model checkpoint_2_6.cpt test dataset:\n",
      "precision:0.8155 recall:0.8049 f1:0.8101\n",
      "/home/wangnan/mrc4ner/checkpoints/2020_09_07_11_01_35/checkpoint_2_7.cpt \n",
      " Namespace(allow_impossible=True, alpha=1, beta=1, cls=True, cpu=False, debug=False, dev_batch=10, dev_path='./datasets/OntoNotes4.0/mrc-ner.dev', dropout_prob=0.1, epochs=10, eval=False, gamma=1, local_rank=0, log_steps=20, lr=8e-06, max_grad_norm=1.0, max_tokens=450, not_store=False, pretrained_model_name_or_path='./pretrained_models/chinese_roberta_wwm_large_ext_pytorch', reduction='mean', seed=209, span_layer=True, theta=1, train_batch=4, train_path='./datasets/OntoNotes4.0/mrc-ner.train', train_span_method='gold', warmup_ratio=0.1, weight_decay=0.01)\n"
     ]
    },
    {
     "name": "stderr",
     "output_type": "stream",
     "text": [
      "checkpoint_2_7.cpt: 100%|██████████| 2484/2484 [04:27<00:00,  9.29it/s]\n"
     ]
    },
    {
     "name": "stdout",
     "output_type": "stream",
     "text": [
      "model checkpoint_2_7.cpt test dataset:\n",
      "precision:0.8206 recall:0.8071 f1:0.8138\n",
      "/home/wangnan/mrc4ner/checkpoints/2020_09_07_11_01_35/checkpoint_2_8.cpt \n",
      " Namespace(allow_impossible=True, alpha=1, beta=1, cls=True, cpu=False, debug=False, dev_batch=10, dev_path='./datasets/OntoNotes4.0/mrc-ner.dev', dropout_prob=0.1, epochs=10, eval=False, gamma=1, local_rank=0, log_steps=20, lr=8e-06, max_grad_norm=1.0, max_tokens=450, not_store=False, pretrained_model_name_or_path='./pretrained_models/chinese_roberta_wwm_large_ext_pytorch', reduction='mean', seed=209, span_layer=True, theta=1, train_batch=4, train_path='./datasets/OntoNotes4.0/mrc-ner.train', train_span_method='gold', warmup_ratio=0.1, weight_decay=0.01)\n"
     ]
    },
    {
     "name": "stderr",
     "output_type": "stream",
     "text": [
      "checkpoint_2_8.cpt: 100%|██████████| 2484/2484 [04:26<00:00,  9.33it/s]\n"
     ]
    },
    {
     "name": "stdout",
     "output_type": "stream",
     "text": [
      "model checkpoint_2_8.cpt test dataset:\n",
      "precision:0.7600 recall:0.8539 f1:0.8042\n",
      "/home/wangnan/mrc4ner/checkpoints/2020_09_07_11_01_35/checkpoint_3_1.cpt \n",
      " Namespace(allow_impossible=True, alpha=1, beta=1, cls=True, cpu=False, debug=False, dev_batch=10, dev_path='./datasets/OntoNotes4.0/mrc-ner.dev', dropout_prob=0.1, epochs=10, eval=False, gamma=1, local_rank=0, log_steps=20, lr=8e-06, max_grad_norm=1.0, max_tokens=450, not_store=False, pretrained_model_name_or_path='./pretrained_models/chinese_roberta_wwm_large_ext_pytorch', reduction='mean', seed=209, span_layer=True, theta=1, train_batch=4, train_path='./datasets/OntoNotes4.0/mrc-ner.train', train_span_method='gold', warmup_ratio=0.1, weight_decay=0.01)\n"
     ]
    },
    {
     "name": "stderr",
     "output_type": "stream",
     "text": [
      "checkpoint_3_1.cpt: 100%|██████████| 2484/2484 [04:25<00:00,  9.36it/s]\n"
     ]
    },
    {
     "name": "stdout",
     "output_type": "stream",
     "text": [
      "model checkpoint_3_1.cpt test dataset:\n",
      "precision:0.7904 recall:0.8178 f1:0.8039\n",
      "/home/wangnan/mrc4ner/checkpoints/2020_09_07_11_01_35/checkpoint_3_2.cpt \n",
      " Namespace(allow_impossible=True, alpha=1, beta=1, cls=True, cpu=False, debug=False, dev_batch=10, dev_path='./datasets/OntoNotes4.0/mrc-ner.dev', dropout_prob=0.1, epochs=10, eval=False, gamma=1, local_rank=0, log_steps=20, lr=8e-06, max_grad_norm=1.0, max_tokens=450, not_store=False, pretrained_model_name_or_path='./pretrained_models/chinese_roberta_wwm_large_ext_pytorch', reduction='mean', seed=209, span_layer=True, theta=1, train_batch=4, train_path='./datasets/OntoNotes4.0/mrc-ner.train', train_span_method='gold', warmup_ratio=0.1, weight_decay=0.01)\n"
     ]
    },
    {
     "name": "stderr",
     "output_type": "stream",
     "text": [
      "checkpoint_3_2.cpt: 100%|██████████| 2484/2484 [04:25<00:00,  9.34it/s]\n"
     ]
    },
    {
     "name": "stdout",
     "output_type": "stream",
     "text": [
      "model checkpoint_3_2.cpt test dataset:\n",
      "precision:0.8090 recall:0.7998 f1:0.8044\n",
      "/home/wangnan/mrc4ner/checkpoints/2020_09_07_11_01_35/checkpoint_3_3.cpt \n",
      " Namespace(allow_impossible=True, alpha=1, beta=1, cls=True, cpu=False, debug=False, dev_batch=10, dev_path='./datasets/OntoNotes4.0/mrc-ner.dev', dropout_prob=0.1, epochs=10, eval=False, gamma=1, local_rank=0, log_steps=20, lr=8e-06, max_grad_norm=1.0, max_tokens=450, not_store=False, pretrained_model_name_or_path='./pretrained_models/chinese_roberta_wwm_large_ext_pytorch', reduction='mean', seed=209, span_layer=True, theta=1, train_batch=4, train_path='./datasets/OntoNotes4.0/mrc-ner.train', train_span_method='gold', warmup_ratio=0.1, weight_decay=0.01)\n"
     ]
    },
    {
     "name": "stderr",
     "output_type": "stream",
     "text": [
      "checkpoint_3_3.cpt: 100%|██████████| 2484/2484 [04:26<00:00,  9.31it/s]\n"
     ]
    },
    {
     "name": "stdout",
     "output_type": "stream",
     "text": [
      "model checkpoint_3_3.cpt test dataset:\n",
      "precision:0.8285 recall:0.7922 f1:0.8100\n",
      "/home/wangnan/mrc4ner/checkpoints/2020_09_07_11_01_35/checkpoint_3_4.cpt \n",
      " Namespace(allow_impossible=True, alpha=1, beta=1, cls=True, cpu=False, debug=False, dev_batch=10, dev_path='./datasets/OntoNotes4.0/mrc-ner.dev', dropout_prob=0.1, epochs=10, eval=False, gamma=1, local_rank=0, log_steps=20, lr=8e-06, max_grad_norm=1.0, max_tokens=450, not_store=False, pretrained_model_name_or_path='./pretrained_models/chinese_roberta_wwm_large_ext_pytorch', reduction='mean', seed=209, span_layer=True, theta=1, train_batch=4, train_path='./datasets/OntoNotes4.0/mrc-ner.train', train_span_method='gold', warmup_ratio=0.1, weight_decay=0.01)\n"
     ]
    },
    {
     "name": "stderr",
     "output_type": "stream",
     "text": [
      "checkpoint_3_4.cpt: 100%|██████████| 2484/2484 [04:25<00:00,  9.37it/s]\n"
     ]
    },
    {
     "name": "stdout",
     "output_type": "stream",
     "text": [
      "model checkpoint_3_4.cpt test dataset:\n",
      "precision:0.7780 recall:0.8009 f1:0.7893\n",
      "/home/wangnan/mrc4ner/checkpoints/2020_09_07_11_01_35/checkpoint_3_5.cpt \n",
      " Namespace(allow_impossible=True, alpha=1, beta=1, cls=True, cpu=False, debug=False, dev_batch=10, dev_path='./datasets/OntoNotes4.0/mrc-ner.dev', dropout_prob=0.1, epochs=10, eval=False, gamma=1, local_rank=0, log_steps=20, lr=8e-06, max_grad_norm=1.0, max_tokens=450, not_store=False, pretrained_model_name_or_path='./pretrained_models/chinese_roberta_wwm_large_ext_pytorch', reduction='mean', seed=209, span_layer=True, theta=1, train_batch=4, train_path='./datasets/OntoNotes4.0/mrc-ner.train', train_span_method='gold', warmup_ratio=0.1, weight_decay=0.01)\n"
     ]
    },
    {
     "name": "stderr",
     "output_type": "stream",
     "text": [
      "checkpoint_3_5.cpt: 100%|██████████| 2484/2484 [04:26<00:00,  9.31it/s]\n"
     ]
    },
    {
     "name": "stdout",
     "output_type": "stream",
     "text": [
      "model checkpoint_3_5.cpt test dataset:\n",
      "precision:0.7979 recall:0.7979 f1:0.7979\n",
      "/home/wangnan/mrc4ner/checkpoints/2020_09_07_11_01_35/checkpoint_3_6.cpt \n",
      " Namespace(allow_impossible=True, alpha=1, beta=1, cls=True, cpu=False, debug=False, dev_batch=10, dev_path='./datasets/OntoNotes4.0/mrc-ner.dev', dropout_prob=0.1, epochs=10, eval=False, gamma=1, local_rank=0, log_steps=20, lr=8e-06, max_grad_norm=1.0, max_tokens=450, not_store=False, pretrained_model_name_or_path='./pretrained_models/chinese_roberta_wwm_large_ext_pytorch', reduction='mean', seed=209, span_layer=True, theta=1, train_batch=4, train_path='./datasets/OntoNotes4.0/mrc-ner.train', train_span_method='gold', warmup_ratio=0.1, weight_decay=0.01)\n"
     ]
    },
    {
     "name": "stderr",
     "output_type": "stream",
     "text": [
      "checkpoint_3_6.cpt: 100%|██████████| 2484/2484 [04:26<00:00,  9.34it/s]\n"
     ]
    },
    {
     "name": "stdout",
     "output_type": "stream",
     "text": [
      "model checkpoint_3_6.cpt test dataset:\n",
      "precision:0.8023 recall:0.8091 f1:0.8057\n",
      "/home/wangnan/mrc4ner/checkpoints/2020_09_07_11_01_35/checkpoint_3_7.cpt \n",
      " Namespace(allow_impossible=True, alpha=1, beta=1, cls=True, cpu=False, debug=False, dev_batch=10, dev_path='./datasets/OntoNotes4.0/mrc-ner.dev', dropout_prob=0.1, epochs=10, eval=False, gamma=1, local_rank=0, log_steps=20, lr=8e-06, max_grad_norm=1.0, max_tokens=450, not_store=False, pretrained_model_name_or_path='./pretrained_models/chinese_roberta_wwm_large_ext_pytorch', reduction='mean', seed=209, span_layer=True, theta=1, train_batch=4, train_path='./datasets/OntoNotes4.0/mrc-ner.train', train_span_method='gold', warmup_ratio=0.1, weight_decay=0.01)\n"
     ]
    },
    {
     "name": "stderr",
     "output_type": "stream",
     "text": [
      "checkpoint_3_7.cpt: 100%|██████████| 2484/2484 [04:26<00:00,  9.34it/s]\n"
     ]
    },
    {
     "name": "stdout",
     "output_type": "stream",
     "text": [
      "model checkpoint_3_7.cpt test dataset:\n",
      "precision:0.7837 recall:0.8164 f1:0.7997\n",
      "/home/wangnan/mrc4ner/checkpoints/2020_09_07_11_01_35/checkpoint_3_8.cpt \n",
      " Namespace(allow_impossible=True, alpha=1, beta=1, cls=True, cpu=False, debug=False, dev_batch=10, dev_path='./datasets/OntoNotes4.0/mrc-ner.dev', dropout_prob=0.1, epochs=10, eval=False, gamma=1, local_rank=0, log_steps=20, lr=8e-06, max_grad_norm=1.0, max_tokens=450, not_store=False, pretrained_model_name_or_path='./pretrained_models/chinese_roberta_wwm_large_ext_pytorch', reduction='mean', seed=209, span_layer=True, theta=1, train_batch=4, train_path='./datasets/OntoNotes4.0/mrc-ner.train', train_span_method='gold', warmup_ratio=0.1, weight_decay=0.01)\n"
     ]
    },
    {
     "name": "stderr",
     "output_type": "stream",
     "text": [
      "checkpoint_3_8.cpt: 100%|██████████| 2484/2484 [04:26<00:00,  9.31it/s]\n"
     ]
    },
    {
     "name": "stdout",
     "output_type": "stream",
     "text": [
      "model checkpoint_3_8.cpt test dataset:\n",
      "precision:0.8004 recall:0.8201 f1:0.8101\n",
      "/home/wangnan/mrc4ner/checkpoints/2020_09_07_11_01_35/checkpoint_4_1.cpt \n",
      " Namespace(allow_impossible=True, alpha=1, beta=1, cls=True, cpu=False, debug=False, dev_batch=10, dev_path='./datasets/OntoNotes4.0/mrc-ner.dev', dropout_prob=0.1, epochs=10, eval=False, gamma=1, local_rank=0, log_steps=20, lr=8e-06, max_grad_norm=1.0, max_tokens=450, not_store=False, pretrained_model_name_or_path='./pretrained_models/chinese_roberta_wwm_large_ext_pytorch', reduction='mean', seed=209, span_layer=True, theta=1, train_batch=4, train_path='./datasets/OntoNotes4.0/mrc-ner.train', train_span_method='gold', warmup_ratio=0.1, weight_decay=0.01)\n"
     ]
    },
    {
     "name": "stderr",
     "output_type": "stream",
     "text": [
      "checkpoint_4_1.cpt: 100%|██████████| 2484/2484 [04:26<00:00,  9.33it/s]\n"
     ]
    },
    {
     "name": "stdout",
     "output_type": "stream",
     "text": [
      "model checkpoint_4_1.cpt test dataset:\n",
      "precision:0.7972 recall:0.8091 f1:0.8031\n",
      "/home/wangnan/mrc4ner/checkpoints/2020_09_07_11_01_35/checkpoint_4_2.cpt \n",
      " Namespace(allow_impossible=True, alpha=1, beta=1, cls=True, cpu=False, debug=False, dev_batch=10, dev_path='./datasets/OntoNotes4.0/mrc-ner.dev', dropout_prob=0.1, epochs=10, eval=False, gamma=1, local_rank=0, log_steps=20, lr=8e-06, max_grad_norm=1.0, max_tokens=450, not_store=False, pretrained_model_name_or_path='./pretrained_models/chinese_roberta_wwm_large_ext_pytorch', reduction='mean', seed=209, span_layer=True, theta=1, train_batch=4, train_path='./datasets/OntoNotes4.0/mrc-ner.train', train_span_method='gold', warmup_ratio=0.1, weight_decay=0.01)\n"
     ]
    },
    {
     "name": "stderr",
     "output_type": "stream",
     "text": [
      "checkpoint_4_2.cpt: 100%|██████████| 2484/2484 [04:26<00:00,  9.31it/s]\n"
     ]
    },
    {
     "name": "stdout",
     "output_type": "stream",
     "text": [
      "model checkpoint_4_2.cpt test dataset:\n",
      "precision:0.7951 recall:0.8182 f1:0.8065\n",
      "/home/wangnan/mrc4ner/checkpoints/2020_09_07_11_01_35/checkpoint_4_3.cpt \n",
      " Namespace(allow_impossible=True, alpha=1, beta=1, cls=True, cpu=False, debug=False, dev_batch=10, dev_path='./datasets/OntoNotes4.0/mrc-ner.dev', dropout_prob=0.1, epochs=10, eval=False, gamma=1, local_rank=0, log_steps=20, lr=8e-06, max_grad_norm=1.0, max_tokens=450, not_store=False, pretrained_model_name_or_path='./pretrained_models/chinese_roberta_wwm_large_ext_pytorch', reduction='mean', seed=209, span_layer=True, theta=1, train_batch=4, train_path='./datasets/OntoNotes4.0/mrc-ner.train', train_span_method='gold', warmup_ratio=0.1, weight_decay=0.01)\n"
     ]
    },
    {
     "name": "stderr",
     "output_type": "stream",
     "text": [
      "checkpoint_4_3.cpt: 100%|██████████| 2484/2484 [04:27<00:00,  9.30it/s]\n"
     ]
    },
    {
     "name": "stdout",
     "output_type": "stream",
     "text": [
      "model checkpoint_4_3.cpt test dataset:\n",
      "precision:0.7727 recall:0.8296 f1:0.8001\n",
      "/home/wangnan/mrc4ner/checkpoints/2020_09_07_11_01_35/checkpoint_4_4.cpt \n",
      " Namespace(allow_impossible=True, alpha=1, beta=1, cls=True, cpu=False, debug=False, dev_batch=10, dev_path='./datasets/OntoNotes4.0/mrc-ner.dev', dropout_prob=0.1, epochs=10, eval=False, gamma=1, local_rank=0, log_steps=20, lr=8e-06, max_grad_norm=1.0, max_tokens=450, not_store=False, pretrained_model_name_or_path='./pretrained_models/chinese_roberta_wwm_large_ext_pytorch', reduction='mean', seed=209, span_layer=True, theta=1, train_batch=4, train_path='./datasets/OntoNotes4.0/mrc-ner.train', train_span_method='gold', warmup_ratio=0.1, weight_decay=0.01)\n"
     ]
    },
    {
     "name": "stderr",
     "output_type": "stream",
     "text": [
      "checkpoint_4_4.cpt: 100%|██████████| 2484/2484 [04:27<00:00,  9.30it/s]\n"
     ]
    },
    {
     "name": "stdout",
     "output_type": "stream",
     "text": [
      "model checkpoint_4_4.cpt test dataset:\n",
      "precision:0.7944 recall:0.8227 f1:0.8083\n",
      "/home/wangnan/mrc4ner/checkpoints/2020_09_07_11_01_35/checkpoint_4_5.cpt \n",
      " Namespace(allow_impossible=True, alpha=1, beta=1, cls=True, cpu=False, debug=False, dev_batch=10, dev_path='./datasets/OntoNotes4.0/mrc-ner.dev', dropout_prob=0.1, epochs=10, eval=False, gamma=1, local_rank=0, log_steps=20, lr=8e-06, max_grad_norm=1.0, max_tokens=450, not_store=False, pretrained_model_name_or_path='./pretrained_models/chinese_roberta_wwm_large_ext_pytorch', reduction='mean', seed=209, span_layer=True, theta=1, train_batch=4, train_path='./datasets/OntoNotes4.0/mrc-ner.train', train_span_method='gold', warmup_ratio=0.1, weight_decay=0.01)\n"
     ]
    },
    {
     "name": "stderr",
     "output_type": "stream",
     "text": [
      "checkpoint_4_5.cpt: 100%|██████████| 2484/2484 [04:26<00:00,  9.31it/s]\n"
     ]
    },
    {
     "name": "stdout",
     "output_type": "stream",
     "text": [
      "model checkpoint_4_5.cpt test dataset:\n",
      "precision:0.8033 recall:0.8143 f1:0.8088\n",
      "/home/wangnan/mrc4ner/checkpoints/2020_09_07_11_01_35/checkpoint_4_6.cpt \n",
      " Namespace(allow_impossible=True, alpha=1, beta=1, cls=True, cpu=False, debug=False, dev_batch=10, dev_path='./datasets/OntoNotes4.0/mrc-ner.dev', dropout_prob=0.1, epochs=10, eval=False, gamma=1, local_rank=0, log_steps=20, lr=8e-06, max_grad_norm=1.0, max_tokens=450, not_store=False, pretrained_model_name_or_path='./pretrained_models/chinese_roberta_wwm_large_ext_pytorch', reduction='mean', seed=209, span_layer=True, theta=1, train_batch=4, train_path='./datasets/OntoNotes4.0/mrc-ner.train', train_span_method='gold', warmup_ratio=0.1, weight_decay=0.01)\n"
     ]
    },
    {
     "name": "stderr",
     "output_type": "stream",
     "text": [
      "checkpoint_4_6.cpt: 100%|██████████| 2484/2484 [04:27<00:00,  9.29it/s]\n"
     ]
    },
    {
     "name": "stdout",
     "output_type": "stream",
     "text": [
      "model checkpoint_4_6.cpt test dataset:\n",
      "precision:0.8105 recall:0.8103 f1:0.8104\n",
      "/home/wangnan/mrc4ner/checkpoints/2020_09_07_11_01_35/checkpoint_4_7.cpt \n",
      " Namespace(allow_impossible=True, alpha=1, beta=1, cls=True, cpu=False, debug=False, dev_batch=10, dev_path='./datasets/OntoNotes4.0/mrc-ner.dev', dropout_prob=0.1, epochs=10, eval=False, gamma=1, local_rank=0, log_steps=20, lr=8e-06, max_grad_norm=1.0, max_tokens=450, not_store=False, pretrained_model_name_or_path='./pretrained_models/chinese_roberta_wwm_large_ext_pytorch', reduction='mean', seed=209, span_layer=True, theta=1, train_batch=4, train_path='./datasets/OntoNotes4.0/mrc-ner.train', train_span_method='gold', warmup_ratio=0.1, weight_decay=0.01)\n"
     ]
    },
    {
     "name": "stderr",
     "output_type": "stream",
     "text": [
      "checkpoint_4_7.cpt: 100%|██████████| 2484/2484 [04:26<00:00,  9.33it/s]\n"
     ]
    },
    {
     "name": "stdout",
     "output_type": "stream",
     "text": [
      "model checkpoint_4_7.cpt test dataset:\n",
      "precision:0.8070 recall:0.8002 f1:0.8036\n",
      "/home/wangnan/mrc4ner/checkpoints/2020_09_07_11_01_35/checkpoint_4_8.cpt \n",
      " Namespace(allow_impossible=True, alpha=1, beta=1, cls=True, cpu=False, debug=False, dev_batch=10, dev_path='./datasets/OntoNotes4.0/mrc-ner.dev', dropout_prob=0.1, epochs=10, eval=False, gamma=1, local_rank=0, log_steps=20, lr=8e-06, max_grad_norm=1.0, max_tokens=450, not_store=False, pretrained_model_name_or_path='./pretrained_models/chinese_roberta_wwm_large_ext_pytorch', reduction='mean', seed=209, span_layer=True, theta=1, train_batch=4, train_path='./datasets/OntoNotes4.0/mrc-ner.train', train_span_method='gold', warmup_ratio=0.1, weight_decay=0.01)\n"
     ]
    },
    {
     "name": "stderr",
     "output_type": "stream",
     "text": [
      "checkpoint_4_8.cpt: 100%|██████████| 2484/2484 [04:26<00:00,  9.31it/s]\n"
     ]
    },
    {
     "name": "stdout",
     "output_type": "stream",
     "text": [
      "model checkpoint_4_8.cpt test dataset:\n",
      "precision:0.7911 recall:0.8191 f1:0.8049\n",
      "/home/wangnan/mrc4ner/checkpoints/2020_09_07_11_01_35/checkpoint_5_1.cpt \n",
      " Namespace(allow_impossible=True, alpha=1, beta=1, cls=True, cpu=False, debug=False, dev_batch=10, dev_path='./datasets/OntoNotes4.0/mrc-ner.dev', dropout_prob=0.1, epochs=10, eval=False, gamma=1, local_rank=0, log_steps=20, lr=8e-06, max_grad_norm=1.0, max_tokens=450, not_store=False, pretrained_model_name_or_path='./pretrained_models/chinese_roberta_wwm_large_ext_pytorch', reduction='mean', seed=209, span_layer=True, theta=1, train_batch=4, train_path='./datasets/OntoNotes4.0/mrc-ner.train', train_span_method='gold', warmup_ratio=0.1, weight_decay=0.01)\n"
     ]
    },
    {
     "name": "stderr",
     "output_type": "stream",
     "text": [
      "checkpoint_5_1.cpt: 100%|██████████| 2484/2484 [04:25<00:00,  9.35it/s]\n"
     ]
    },
    {
     "name": "stdout",
     "output_type": "stream",
     "text": [
      "model checkpoint_5_1.cpt test dataset:\n",
      "precision:0.7945 recall:0.8045 f1:0.7995\n",
      "/home/wangnan/mrc4ner/checkpoints/2020_09_07_11_01_35/checkpoint_5_2.cpt \n",
      " Namespace(allow_impossible=True, alpha=1, beta=1, cls=True, cpu=False, debug=False, dev_batch=10, dev_path='./datasets/OntoNotes4.0/mrc-ner.dev', dropout_prob=0.1, epochs=10, eval=False, gamma=1, local_rank=0, log_steps=20, lr=8e-06, max_grad_norm=1.0, max_tokens=450, not_store=False, pretrained_model_name_or_path='./pretrained_models/chinese_roberta_wwm_large_ext_pytorch', reduction='mean', seed=209, span_layer=True, theta=1, train_batch=4, train_path='./datasets/OntoNotes4.0/mrc-ner.train', train_span_method='gold', warmup_ratio=0.1, weight_decay=0.01)\n"
     ]
    },
    {
     "name": "stderr",
     "output_type": "stream",
     "text": [
      "checkpoint_5_2.cpt: 100%|██████████| 2484/2484 [04:26<00:00,  9.34it/s]\n"
     ]
    },
    {
     "name": "stdout",
     "output_type": "stream",
     "text": [
      "model checkpoint_5_2.cpt test dataset:\n",
      "precision:0.8034 recall:0.8079 f1:0.8057\n",
      "/home/wangnan/mrc4ner/checkpoints/2020_09_07_11_01_35/checkpoint_5_3.cpt \n",
      " Namespace(allow_impossible=True, alpha=1, beta=1, cls=True, cpu=False, debug=False, dev_batch=10, dev_path='./datasets/OntoNotes4.0/mrc-ner.dev', dropout_prob=0.1, epochs=10, eval=False, gamma=1, local_rank=0, log_steps=20, lr=8e-06, max_grad_norm=1.0, max_tokens=450, not_store=False, pretrained_model_name_or_path='./pretrained_models/chinese_roberta_wwm_large_ext_pytorch', reduction='mean', seed=209, span_layer=True, theta=1, train_batch=4, train_path='./datasets/OntoNotes4.0/mrc-ner.train', train_span_method='gold', warmup_ratio=0.1, weight_decay=0.01)\n"
     ]
    },
    {
     "name": "stderr",
     "output_type": "stream",
     "text": [
      "checkpoint_5_3.cpt: 100%|██████████| 2484/2484 [04:25<00:00,  9.35it/s]\n"
     ]
    },
    {
     "name": "stdout",
     "output_type": "stream",
     "text": [
      "model checkpoint_5_3.cpt test dataset:\n",
      "precision:0.8157 recall:0.8037 f1:0.8097\n",
      "/home/wangnan/mrc4ner/checkpoints/2020_09_07_11_01_35/checkpoint_5_4.cpt \n",
      " Namespace(allow_impossible=True, alpha=1, beta=1, cls=True, cpu=False, debug=False, dev_batch=10, dev_path='./datasets/OntoNotes4.0/mrc-ner.dev', dropout_prob=0.1, epochs=10, eval=False, gamma=1, local_rank=0, log_steps=20, lr=8e-06, max_grad_norm=1.0, max_tokens=450, not_store=False, pretrained_model_name_or_path='./pretrained_models/chinese_roberta_wwm_large_ext_pytorch', reduction='mean', seed=209, span_layer=True, theta=1, train_batch=4, train_path='./datasets/OntoNotes4.0/mrc-ner.train', train_span_method='gold', warmup_ratio=0.1, weight_decay=0.01)\n"
     ]
    },
    {
     "name": "stderr",
     "output_type": "stream",
     "text": [
      "checkpoint_5_4.cpt: 100%|██████████| 2484/2484 [04:24<00:00,  9.39it/s]\n"
     ]
    },
    {
     "name": "stdout",
     "output_type": "stream",
     "text": [
      "model checkpoint_5_4.cpt test dataset:\n",
      "precision:0.8175 recall:0.8036 f1:0.8105\n",
      "/home/wangnan/mrc4ner/checkpoints/2020_09_07_11_01_35/checkpoint_5_5.cpt \n",
      " Namespace(allow_impossible=True, alpha=1, beta=1, cls=True, cpu=False, debug=False, dev_batch=10, dev_path='./datasets/OntoNotes4.0/mrc-ner.dev', dropout_prob=0.1, epochs=10, eval=False, gamma=1, local_rank=0, log_steps=20, lr=8e-06, max_grad_norm=1.0, max_tokens=450, not_store=False, pretrained_model_name_or_path='./pretrained_models/chinese_roberta_wwm_large_ext_pytorch', reduction='mean', seed=209, span_layer=True, theta=1, train_batch=4, train_path='./datasets/OntoNotes4.0/mrc-ner.train', train_span_method='gold', warmup_ratio=0.1, weight_decay=0.01)\n"
     ]
    },
    {
     "name": "stderr",
     "output_type": "stream",
     "text": [
      "checkpoint_5_5.cpt: 100%|██████████| 2484/2484 [04:24<00:00,  9.38it/s]\n"
     ]
    },
    {
     "name": "stdout",
     "output_type": "stream",
     "text": [
      "model checkpoint_5_5.cpt test dataset:\n",
      "precision:0.8255 recall:0.7960 f1:0.8105\n",
      "/home/wangnan/mrc4ner/checkpoints/2020_09_07_11_01_35/checkpoint_5_6.cpt \n",
      " Namespace(allow_impossible=True, alpha=1, beta=1, cls=True, cpu=False, debug=False, dev_batch=10, dev_path='./datasets/OntoNotes4.0/mrc-ner.dev', dropout_prob=0.1, epochs=10, eval=False, gamma=1, local_rank=0, log_steps=20, lr=8e-06, max_grad_norm=1.0, max_tokens=450, not_store=False, pretrained_model_name_or_path='./pretrained_models/chinese_roberta_wwm_large_ext_pytorch', reduction='mean', seed=209, span_layer=True, theta=1, train_batch=4, train_path='./datasets/OntoNotes4.0/mrc-ner.train', train_span_method='gold', warmup_ratio=0.1, weight_decay=0.01)\n"
     ]
    },
    {
     "name": "stderr",
     "output_type": "stream",
     "text": [
      "checkpoint_5_6.cpt: 100%|██████████| 2484/2484 [04:23<00:00,  9.43it/s]\n"
     ]
    },
    {
     "name": "stdout",
     "output_type": "stream",
     "text": [
      "model checkpoint_5_6.cpt test dataset:\n",
      "precision:0.8121 recall:0.8099 f1:0.8110\n",
      "/home/wangnan/mrc4ner/checkpoints/2020_09_07_11_01_35/checkpoint_5_7.cpt \n",
      " Namespace(allow_impossible=True, alpha=1, beta=1, cls=True, cpu=False, debug=False, dev_batch=10, dev_path='./datasets/OntoNotes4.0/mrc-ner.dev', dropout_prob=0.1, epochs=10, eval=False, gamma=1, local_rank=0, log_steps=20, lr=8e-06, max_grad_norm=1.0, max_tokens=450, not_store=False, pretrained_model_name_or_path='./pretrained_models/chinese_roberta_wwm_large_ext_pytorch', reduction='mean', seed=209, span_layer=True, theta=1, train_batch=4, train_path='./datasets/OntoNotes4.0/mrc-ner.train', train_span_method='gold', warmup_ratio=0.1, weight_decay=0.01)\n"
     ]
    },
    {
     "name": "stderr",
     "output_type": "stream",
     "text": [
      "checkpoint_5_7.cpt: 100%|██████████| 2484/2484 [04:21<00:00,  9.48it/s]\n"
     ]
    },
    {
     "name": "stdout",
     "output_type": "stream",
     "text": [
      "model checkpoint_5_7.cpt test dataset:\n",
      "precision:0.7892 recall:0.8417 f1:0.8146\n",
      "/home/wangnan/mrc4ner/checkpoints/2020_09_07_11_01_35/checkpoint_5_8.cpt \n",
      " Namespace(allow_impossible=True, alpha=1, beta=1, cls=True, cpu=False, debug=False, dev_batch=10, dev_path='./datasets/OntoNotes4.0/mrc-ner.dev', dropout_prob=0.1, epochs=10, eval=False, gamma=1, local_rank=0, log_steps=20, lr=8e-06, max_grad_norm=1.0, max_tokens=450, not_store=False, pretrained_model_name_or_path='./pretrained_models/chinese_roberta_wwm_large_ext_pytorch', reduction='mean', seed=209, span_layer=True, theta=1, train_batch=4, train_path='./datasets/OntoNotes4.0/mrc-ner.train', train_span_method='gold', warmup_ratio=0.1, weight_decay=0.01)\n"
     ]
    },
    {
     "name": "stderr",
     "output_type": "stream",
     "text": [
      "checkpoint_5_8.cpt: 100%|██████████| 2484/2484 [04:23<00:00,  9.44it/s]\n"
     ]
    },
    {
     "name": "stdout",
     "output_type": "stream",
     "text": [
      "model checkpoint_5_8.cpt test dataset:\n",
      "precision:0.8273 recall:0.7895 f1:0.8080\n",
      "/home/wangnan/mrc4ner/checkpoints/2020_09_07_11_01_35/checkpoint_6_1.cpt \n",
      " Namespace(allow_impossible=True, alpha=1, beta=1, cls=True, cpu=False, debug=False, dev_batch=10, dev_path='./datasets/OntoNotes4.0/mrc-ner.dev', dropout_prob=0.1, epochs=10, eval=False, gamma=1, local_rank=0, log_steps=20, lr=8e-06, max_grad_norm=1.0, max_tokens=450, not_store=False, pretrained_model_name_or_path='./pretrained_models/chinese_roberta_wwm_large_ext_pytorch', reduction='mean', seed=209, span_layer=True, theta=1, train_batch=4, train_path='./datasets/OntoNotes4.0/mrc-ner.train', train_span_method='gold', warmup_ratio=0.1, weight_decay=0.01)\n"
     ]
    },
    {
     "name": "stderr",
     "output_type": "stream",
     "text": [
      "checkpoint_6_1.cpt: 100%|██████████| 2484/2484 [04:22<00:00,  9.48it/s]\n"
     ]
    },
    {
     "name": "stdout",
     "output_type": "stream",
     "text": [
      "model checkpoint_6_1.cpt test dataset:\n",
      "precision:0.8111 recall:0.7899 f1:0.8003\n",
      "/home/wangnan/mrc4ner/checkpoints/2020_09_07_11_01_35/checkpoint_6_2.cpt \n",
      " Namespace(allow_impossible=True, alpha=1, beta=1, cls=True, cpu=False, debug=False, dev_batch=10, dev_path='./datasets/OntoNotes4.0/mrc-ner.dev', dropout_prob=0.1, epochs=10, eval=False, gamma=1, local_rank=0, log_steps=20, lr=8e-06, max_grad_norm=1.0, max_tokens=450, not_store=False, pretrained_model_name_or_path='./pretrained_models/chinese_roberta_wwm_large_ext_pytorch', reduction='mean', seed=209, span_layer=True, theta=1, train_batch=4, train_path='./datasets/OntoNotes4.0/mrc-ner.train', train_span_method='gold', warmup_ratio=0.1, weight_decay=0.01)\n"
     ]
    },
    {
     "name": "stderr",
     "output_type": "stream",
     "text": [
      "checkpoint_6_2.cpt: 100%|██████████| 2484/2484 [04:22<00:00,  9.47it/s]\n"
     ]
    },
    {
     "name": "stdout",
     "output_type": "stream",
     "text": [
      "model checkpoint_6_2.cpt test dataset:\n",
      "precision:0.8017 recall:0.7851 f1:0.7933\n",
      "/home/wangnan/mrc4ner/checkpoints/2020_09_07_11_01_35/checkpoint_6_3.cpt \n",
      " Namespace(allow_impossible=True, alpha=1, beta=1, cls=True, cpu=False, debug=False, dev_batch=10, dev_path='./datasets/OntoNotes4.0/mrc-ner.dev', dropout_prob=0.1, epochs=10, eval=False, gamma=1, local_rank=0, log_steps=20, lr=8e-06, max_grad_norm=1.0, max_tokens=450, not_store=False, pretrained_model_name_or_path='./pretrained_models/chinese_roberta_wwm_large_ext_pytorch', reduction='mean', seed=209, span_layer=True, theta=1, train_batch=4, train_path='./datasets/OntoNotes4.0/mrc-ner.train', train_span_method='gold', warmup_ratio=0.1, weight_decay=0.01)\n"
     ]
    },
    {
     "name": "stderr",
     "output_type": "stream",
     "text": [
      "checkpoint_6_3.cpt: 100%|██████████| 2484/2484 [04:21<00:00,  9.48it/s]\n"
     ]
    },
    {
     "name": "stdout",
     "output_type": "stream",
     "text": [
      "model checkpoint_6_3.cpt test dataset:\n",
      "precision:0.8174 recall:0.7896 f1:0.8033\n",
      "/home/wangnan/mrc4ner/checkpoints/2020_09_07_11_01_35/checkpoint_6_4.cpt \n",
      " Namespace(allow_impossible=True, alpha=1, beta=1, cls=True, cpu=False, debug=False, dev_batch=10, dev_path='./datasets/OntoNotes4.0/mrc-ner.dev', dropout_prob=0.1, epochs=10, eval=False, gamma=1, local_rank=0, log_steps=20, lr=8e-06, max_grad_norm=1.0, max_tokens=450, not_store=False, pretrained_model_name_or_path='./pretrained_models/chinese_roberta_wwm_large_ext_pytorch', reduction='mean', seed=209, span_layer=True, theta=1, train_batch=4, train_path='./datasets/OntoNotes4.0/mrc-ner.train', train_span_method='gold', warmup_ratio=0.1, weight_decay=0.01)\n"
     ]
    },
    {
     "name": "stderr",
     "output_type": "stream",
     "text": [
      "checkpoint_6_4.cpt: 100%|██████████| 2484/2484 [04:20<00:00,  9.52it/s]\n"
     ]
    },
    {
     "name": "stdout",
     "output_type": "stream",
     "text": [
      "model checkpoint_6_4.cpt test dataset:\n",
      "precision:0.8045 recall:0.8157 f1:0.8101\n",
      "/home/wangnan/mrc4ner/checkpoints/2020_09_07_11_01_35/checkpoint_6_5.cpt \n",
      " Namespace(allow_impossible=True, alpha=1, beta=1, cls=True, cpu=False, debug=False, dev_batch=10, dev_path='./datasets/OntoNotes4.0/mrc-ner.dev', dropout_prob=0.1, epochs=10, eval=False, gamma=1, local_rank=0, log_steps=20, lr=8e-06, max_grad_norm=1.0, max_tokens=450, not_store=False, pretrained_model_name_or_path='./pretrained_models/chinese_roberta_wwm_large_ext_pytorch', reduction='mean', seed=209, span_layer=True, theta=1, train_batch=4, train_path='./datasets/OntoNotes4.0/mrc-ner.train', train_span_method='gold', warmup_ratio=0.1, weight_decay=0.01)\n"
     ]
    },
    {
     "name": "stderr",
     "output_type": "stream",
     "text": [
      "checkpoint_6_5.cpt: 100%|██████████| 2484/2484 [04:21<00:00,  9.49it/s]\n"
     ]
    },
    {
     "name": "stdout",
     "output_type": "stream",
     "text": [
      "model checkpoint_6_5.cpt test dataset:\n",
      "precision:0.8192 recall:0.7851 f1:0.8018\n",
      "/home/wangnan/mrc4ner/checkpoints/2020_09_07_11_01_35/checkpoint_6_6.cpt \n",
      " Namespace(allow_impossible=True, alpha=1, beta=1, cls=True, cpu=False, debug=False, dev_batch=10, dev_path='./datasets/OntoNotes4.0/mrc-ner.dev', dropout_prob=0.1, epochs=10, eval=False, gamma=1, local_rank=0, log_steps=20, lr=8e-06, max_grad_norm=1.0, max_tokens=450, not_store=False, pretrained_model_name_or_path='./pretrained_models/chinese_roberta_wwm_large_ext_pytorch', reduction='mean', seed=209, span_layer=True, theta=1, train_batch=4, train_path='./datasets/OntoNotes4.0/mrc-ner.train', train_span_method='gold', warmup_ratio=0.1, weight_decay=0.01)\n"
     ]
    },
    {
     "name": "stderr",
     "output_type": "stream",
     "text": [
      "checkpoint_6_6.cpt: 100%|██████████| 2484/2484 [04:21<00:00,  9.50it/s]\n"
     ]
    },
    {
     "name": "stdout",
     "output_type": "stream",
     "text": [
      "model checkpoint_6_6.cpt test dataset:\n",
      "precision:0.8050 recall:0.8075 f1:0.8063\n",
      "/home/wangnan/mrc4ner/checkpoints/2020_09_07_11_01_35/checkpoint_6_7.cpt \n",
      " Namespace(allow_impossible=True, alpha=1, beta=1, cls=True, cpu=False, debug=False, dev_batch=10, dev_path='./datasets/OntoNotes4.0/mrc-ner.dev', dropout_prob=0.1, epochs=10, eval=False, gamma=1, local_rank=0, log_steps=20, lr=8e-06, max_grad_norm=1.0, max_tokens=450, not_store=False, pretrained_model_name_or_path='./pretrained_models/chinese_roberta_wwm_large_ext_pytorch', reduction='mean', seed=209, span_layer=True, theta=1, train_batch=4, train_path='./datasets/OntoNotes4.0/mrc-ner.train', train_span_method='gold', warmup_ratio=0.1, weight_decay=0.01)\n"
     ]
    },
    {
     "name": "stderr",
     "output_type": "stream",
     "text": [
      "checkpoint_6_7.cpt: 100%|██████████| 2484/2484 [04:22<00:00,  9.46it/s]\n"
     ]
    },
    {
     "name": "stdout",
     "output_type": "stream",
     "text": [
      "model checkpoint_6_7.cpt test dataset:\n",
      "precision:0.7908 recall:0.7878 f1:0.7893\n",
      "/home/wangnan/mrc4ner/checkpoints/2020_09_07_11_01_35/checkpoint_6_8.cpt \n",
      " Namespace(allow_impossible=True, alpha=1, beta=1, cls=True, cpu=False, debug=False, dev_batch=10, dev_path='./datasets/OntoNotes4.0/mrc-ner.dev', dropout_prob=0.1, epochs=10, eval=False, gamma=1, local_rank=0, log_steps=20, lr=8e-06, max_grad_norm=1.0, max_tokens=450, not_store=False, pretrained_model_name_or_path='./pretrained_models/chinese_roberta_wwm_large_ext_pytorch', reduction='mean', seed=209, span_layer=True, theta=1, train_batch=4, train_path='./datasets/OntoNotes4.0/mrc-ner.train', train_span_method='gold', warmup_ratio=0.1, weight_decay=0.01)\n"
     ]
    },
    {
     "name": "stderr",
     "output_type": "stream",
     "text": [
      "checkpoint_6_8.cpt: 100%|██████████| 2484/2484 [04:21<00:00,  9.49it/s]\n"
     ]
    },
    {
     "name": "stdout",
     "output_type": "stream",
     "text": [
      "model checkpoint_6_8.cpt test dataset:\n",
      "precision:0.8183 recall:0.7831 f1:0.8003\n",
      "/home/wangnan/mrc4ner/checkpoints/2020_09_07_11_01_35/checkpoint_7_1.cpt \n",
      " Namespace(allow_impossible=True, alpha=1, beta=1, cls=True, cpu=False, debug=False, dev_batch=10, dev_path='./datasets/OntoNotes4.0/mrc-ner.dev', dropout_prob=0.1, epochs=10, eval=False, gamma=1, local_rank=0, log_steps=20, lr=8e-06, max_grad_norm=1.0, max_tokens=450, not_store=False, pretrained_model_name_or_path='./pretrained_models/chinese_roberta_wwm_large_ext_pytorch', reduction='mean', seed=209, span_layer=True, theta=1, train_batch=4, train_path='./datasets/OntoNotes4.0/mrc-ner.train', train_span_method='gold', warmup_ratio=0.1, weight_decay=0.01)\n"
     ]
    },
    {
     "name": "stderr",
     "output_type": "stream",
     "text": [
      "checkpoint_7_1.cpt: 100%|██████████| 2484/2484 [04:21<00:00,  9.51it/s]\n"
     ]
    },
    {
     "name": "stdout",
     "output_type": "stream",
     "text": [
      "model checkpoint_7_1.cpt test dataset:\n",
      "precision:0.8183 recall:0.7971 f1:0.8076\n",
      "/home/wangnan/mrc4ner/checkpoints/2020_09_07_11_01_35/checkpoint_7_2.cpt \n",
      " Namespace(allow_impossible=True, alpha=1, beta=1, cls=True, cpu=False, debug=False, dev_batch=10, dev_path='./datasets/OntoNotes4.0/mrc-ner.dev', dropout_prob=0.1, epochs=10, eval=False, gamma=1, local_rank=0, log_steps=20, lr=8e-06, max_grad_norm=1.0, max_tokens=450, not_store=False, pretrained_model_name_or_path='./pretrained_models/chinese_roberta_wwm_large_ext_pytorch', reduction='mean', seed=209, span_layer=True, theta=1, train_batch=4, train_path='./datasets/OntoNotes4.0/mrc-ner.train', train_span_method='gold', warmup_ratio=0.1, weight_decay=0.01)\n"
     ]
    },
    {
     "name": "stderr",
     "output_type": "stream",
     "text": [
      "checkpoint_7_2.cpt: 100%|██████████| 2484/2484 [04:20<00:00,  9.52it/s]\n"
     ]
    },
    {
     "name": "stdout",
     "output_type": "stream",
     "text": [
      "model checkpoint_7_2.cpt test dataset:\n",
      "precision:0.8225 recall:0.7635 f1:0.7919\n",
      "/home/wangnan/mrc4ner/checkpoints/2020_09_07_11_01_35/checkpoint_7_3.cpt \n",
      " Namespace(allow_impossible=True, alpha=1, beta=1, cls=True, cpu=False, debug=False, dev_batch=10, dev_path='./datasets/OntoNotes4.0/mrc-ner.dev', dropout_prob=0.1, epochs=10, eval=False, gamma=1, local_rank=0, log_steps=20, lr=8e-06, max_grad_norm=1.0, max_tokens=450, not_store=False, pretrained_model_name_or_path='./pretrained_models/chinese_roberta_wwm_large_ext_pytorch', reduction='mean', seed=209, span_layer=True, theta=1, train_batch=4, train_path='./datasets/OntoNotes4.0/mrc-ner.train', train_span_method='gold', warmup_ratio=0.1, weight_decay=0.01)\n"
     ]
    },
    {
     "name": "stderr",
     "output_type": "stream",
     "text": [
      "checkpoint_7_3.cpt: 100%|██████████| 2484/2484 [04:21<00:00,  9.51it/s]\n"
     ]
    },
    {
     "name": "stdout",
     "output_type": "stream",
     "text": [
      "model checkpoint_7_3.cpt test dataset:\n",
      "precision:0.7883 recall:0.8300 f1:0.8086\n",
      "/home/wangnan/mrc4ner/checkpoints/2020_09_07_11_01_35/checkpoint_7_4.cpt \n",
      " Namespace(allow_impossible=True, alpha=1, beta=1, cls=True, cpu=False, debug=False, dev_batch=10, dev_path='./datasets/OntoNotes4.0/mrc-ner.dev', dropout_prob=0.1, epochs=10, eval=False, gamma=1, local_rank=0, log_steps=20, lr=8e-06, max_grad_norm=1.0, max_tokens=450, not_store=False, pretrained_model_name_or_path='./pretrained_models/chinese_roberta_wwm_large_ext_pytorch', reduction='mean', seed=209, span_layer=True, theta=1, train_batch=4, train_path='./datasets/OntoNotes4.0/mrc-ner.train', train_span_method='gold', warmup_ratio=0.1, weight_decay=0.01)\n"
     ]
    },
    {
     "name": "stderr",
     "output_type": "stream",
     "text": [
      "checkpoint_7_4.cpt: 100%|██████████| 2484/2484 [04:22<00:00,  9.47it/s]\n"
     ]
    },
    {
     "name": "stdout",
     "output_type": "stream",
     "text": [
      "model checkpoint_7_4.cpt test dataset:\n",
      "precision:0.8102 recall:0.8146 f1:0.8124\n",
      "/home/wangnan/mrc4ner/checkpoints/2020_09_07_11_01_35/checkpoint_7_5.cpt \n",
      " Namespace(allow_impossible=True, alpha=1, beta=1, cls=True, cpu=False, debug=False, dev_batch=10, dev_path='./datasets/OntoNotes4.0/mrc-ner.dev', dropout_prob=0.1, epochs=10, eval=False, gamma=1, local_rank=0, log_steps=20, lr=8e-06, max_grad_norm=1.0, max_tokens=450, not_store=False, pretrained_model_name_or_path='./pretrained_models/chinese_roberta_wwm_large_ext_pytorch', reduction='mean', seed=209, span_layer=True, theta=1, train_batch=4, train_path='./datasets/OntoNotes4.0/mrc-ner.train', train_span_method='gold', warmup_ratio=0.1, weight_decay=0.01)\n"
     ]
    },
    {
     "name": "stderr",
     "output_type": "stream",
     "text": [
      "checkpoint_7_5.cpt: 100%|██████████| 2484/2484 [04:22<00:00,  9.45it/s]\n"
     ]
    },
    {
     "name": "stdout",
     "output_type": "stream",
     "text": [
      "model checkpoint_7_5.cpt test dataset:\n",
      "precision:0.8064 recall:0.8202 f1:0.8132\n",
      "/home/wangnan/mrc4ner/checkpoints/2020_09_07_11_01_35/checkpoint_7_6.cpt \n",
      " Namespace(allow_impossible=True, alpha=1, beta=1, cls=True, cpu=False, debug=False, dev_batch=10, dev_path='./datasets/OntoNotes4.0/mrc-ner.dev', dropout_prob=0.1, epochs=10, eval=False, gamma=1, local_rank=0, log_steps=20, lr=8e-06, max_grad_norm=1.0, max_tokens=450, not_store=False, pretrained_model_name_or_path='./pretrained_models/chinese_roberta_wwm_large_ext_pytorch', reduction='mean', seed=209, span_layer=True, theta=1, train_batch=4, train_path='./datasets/OntoNotes4.0/mrc-ner.train', train_span_method='gold', warmup_ratio=0.1, weight_decay=0.01)\n"
     ]
    },
    {
     "name": "stderr",
     "output_type": "stream",
     "text": [
      "checkpoint_7_6.cpt: 100%|██████████| 2484/2484 [04:23<00:00,  9.42it/s]\n"
     ]
    },
    {
     "name": "stdout",
     "output_type": "stream",
     "text": [
      "model checkpoint_7_6.cpt test dataset:\n",
      "precision:0.8052 recall:0.8163 f1:0.8107\n",
      "/home/wangnan/mrc4ner/checkpoints/2020_09_07_11_01_35/checkpoint_7_7.cpt \n",
      " Namespace(allow_impossible=True, alpha=1, beta=1, cls=True, cpu=False, debug=False, dev_batch=10, dev_path='./datasets/OntoNotes4.0/mrc-ner.dev', dropout_prob=0.1, epochs=10, eval=False, gamma=1, local_rank=0, log_steps=20, lr=8e-06, max_grad_norm=1.0, max_tokens=450, not_store=False, pretrained_model_name_or_path='./pretrained_models/chinese_roberta_wwm_large_ext_pytorch', reduction='mean', seed=209, span_layer=True, theta=1, train_batch=4, train_path='./datasets/OntoNotes4.0/mrc-ner.train', train_span_method='gold', warmup_ratio=0.1, weight_decay=0.01)\n"
     ]
    },
    {
     "name": "stderr",
     "output_type": "stream",
     "text": [
      "checkpoint_7_7.cpt: 100%|██████████| 2484/2484 [04:24<00:00,  9.41it/s]\n"
     ]
    },
    {
     "name": "stdout",
     "output_type": "stream",
     "text": [
      "model checkpoint_7_7.cpt test dataset:\n",
      "precision:0.8309 recall:0.7955 f1:0.8128\n",
      "/home/wangnan/mrc4ner/checkpoints/2020_09_07_11_01_35/checkpoint_7_8.cpt \n",
      " Namespace(allow_impossible=True, alpha=1, beta=1, cls=True, cpu=False, debug=False, dev_batch=10, dev_path='./datasets/OntoNotes4.0/mrc-ner.dev', dropout_prob=0.1, epochs=10, eval=False, gamma=1, local_rank=0, log_steps=20, lr=8e-06, max_grad_norm=1.0, max_tokens=450, not_store=False, pretrained_model_name_or_path='./pretrained_models/chinese_roberta_wwm_large_ext_pytorch', reduction='mean', seed=209, span_layer=True, theta=1, train_batch=4, train_path='./datasets/OntoNotes4.0/mrc-ner.train', train_span_method='gold', warmup_ratio=0.1, weight_decay=0.01)\n"
     ]
    },
    {
     "name": "stderr",
     "output_type": "stream",
     "text": [
      "checkpoint_7_8.cpt: 100%|██████████| 2484/2484 [04:23<00:00,  9.42it/s]\n"
     ]
    },
    {
     "name": "stdout",
     "output_type": "stream",
     "text": [
      "model checkpoint_7_8.cpt test dataset:\n",
      "precision:0.8138 recall:0.8058 f1:0.8098\n",
      "/home/wangnan/mrc4ner/checkpoints/2020_09_07_11_01_35/checkpoint_8_1.cpt \n",
      " Namespace(allow_impossible=True, alpha=1, beta=1, cls=True, cpu=False, debug=False, dev_batch=10, dev_path='./datasets/OntoNotes4.0/mrc-ner.dev', dropout_prob=0.1, epochs=10, eval=False, gamma=1, local_rank=0, log_steps=20, lr=8e-06, max_grad_norm=1.0, max_tokens=450, not_store=False, pretrained_model_name_or_path='./pretrained_models/chinese_roberta_wwm_large_ext_pytorch', reduction='mean', seed=209, span_layer=True, theta=1, train_batch=4, train_path='./datasets/OntoNotes4.0/mrc-ner.train', train_span_method='gold', warmup_ratio=0.1, weight_decay=0.01)\n"
     ]
    },
    {
     "name": "stderr",
     "output_type": "stream",
     "text": [
      "checkpoint_8_1.cpt: 100%|██████████| 2484/2484 [04:24<00:00,  9.39it/s]\n"
     ]
    },
    {
     "name": "stdout",
     "output_type": "stream",
     "text": [
      "model checkpoint_8_1.cpt test dataset:\n",
      "precision:0.8352 recall:0.7934 f1:0.8138\n",
      "/home/wangnan/mrc4ner/checkpoints/2020_09_07_11_01_35/checkpoint_8_2.cpt \n",
      " Namespace(allow_impossible=True, alpha=1, beta=1, cls=True, cpu=False, debug=False, dev_batch=10, dev_path='./datasets/OntoNotes4.0/mrc-ner.dev', dropout_prob=0.1, epochs=10, eval=False, gamma=1, local_rank=0, log_steps=20, lr=8e-06, max_grad_norm=1.0, max_tokens=450, not_store=False, pretrained_model_name_or_path='./pretrained_models/chinese_roberta_wwm_large_ext_pytorch', reduction='mean', seed=209, span_layer=True, theta=1, train_batch=4, train_path='./datasets/OntoNotes4.0/mrc-ner.train', train_span_method='gold', warmup_ratio=0.1, weight_decay=0.01)\n"
     ]
    },
    {
     "name": "stderr",
     "output_type": "stream",
     "text": [
      "checkpoint_8_2.cpt: 100%|██████████| 2484/2484 [04:24<00:00,  9.39it/s]\n"
     ]
    },
    {
     "name": "stdout",
     "output_type": "stream",
     "text": [
      "model checkpoint_8_2.cpt test dataset:\n",
      "precision:0.8311 recall:0.7972 f1:0.8138\n",
      "/home/wangnan/mrc4ner/checkpoints/2020_09_07_11_01_35/checkpoint_8_3.cpt \n",
      " Namespace(allow_impossible=True, alpha=1, beta=1, cls=True, cpu=False, debug=False, dev_batch=10, dev_path='./datasets/OntoNotes4.0/mrc-ner.dev', dropout_prob=0.1, epochs=10, eval=False, gamma=1, local_rank=0, log_steps=20, lr=8e-06, max_grad_norm=1.0, max_tokens=450, not_store=False, pretrained_model_name_or_path='./pretrained_models/chinese_roberta_wwm_large_ext_pytorch', reduction='mean', seed=209, span_layer=True, theta=1, train_batch=4, train_path='./datasets/OntoNotes4.0/mrc-ner.train', train_span_method='gold', warmup_ratio=0.1, weight_decay=0.01)\n"
     ]
    },
    {
     "name": "stderr",
     "output_type": "stream",
     "text": [
      "checkpoint_8_3.cpt: 100%|██████████| 2484/2484 [04:24<00:00,  9.38it/s]\n"
     ]
    },
    {
     "name": "stdout",
     "output_type": "stream",
     "text": [
      "model checkpoint_8_3.cpt test dataset:\n",
      "precision:0.8104 recall:0.8168 f1:0.8136\n",
      "/home/wangnan/mrc4ner/checkpoints/2020_09_07_11_01_35/checkpoint_8_4.cpt \n",
      " Namespace(allow_impossible=True, alpha=1, beta=1, cls=True, cpu=False, debug=False, dev_batch=10, dev_path='./datasets/OntoNotes4.0/mrc-ner.dev', dropout_prob=0.1, epochs=10, eval=False, gamma=1, local_rank=0, log_steps=20, lr=8e-06, max_grad_norm=1.0, max_tokens=450, not_store=False, pretrained_model_name_or_path='./pretrained_models/chinese_roberta_wwm_large_ext_pytorch', reduction='mean', seed=209, span_layer=True, theta=1, train_batch=4, train_path='./datasets/OntoNotes4.0/mrc-ner.train', train_span_method='gold', warmup_ratio=0.1, weight_decay=0.01)\n"
     ]
    },
    {
     "name": "stderr",
     "output_type": "stream",
     "text": [
      "checkpoint_8_4.cpt: 100%|██████████| 2484/2484 [04:25<00:00,  9.36it/s]\n"
     ]
    },
    {
     "name": "stdout",
     "output_type": "stream",
     "text": [
      "model checkpoint_8_4.cpt test dataset:\n",
      "precision:0.8257 recall:0.8011 f1:0.8132\n",
      "/home/wangnan/mrc4ner/checkpoints/2020_09_07_11_01_35/checkpoint_8_5.cpt \n",
      " Namespace(allow_impossible=True, alpha=1, beta=1, cls=True, cpu=False, debug=False, dev_batch=10, dev_path='./datasets/OntoNotes4.0/mrc-ner.dev', dropout_prob=0.1, epochs=10, eval=False, gamma=1, local_rank=0, log_steps=20, lr=8e-06, max_grad_norm=1.0, max_tokens=450, not_store=False, pretrained_model_name_or_path='./pretrained_models/chinese_roberta_wwm_large_ext_pytorch', reduction='mean', seed=209, span_layer=True, theta=1, train_batch=4, train_path='./datasets/OntoNotes4.0/mrc-ner.train', train_span_method='gold', warmup_ratio=0.1, weight_decay=0.01)\n"
     ]
    },
    {
     "name": "stderr",
     "output_type": "stream",
     "text": [
      "checkpoint_8_5.cpt: 100%|██████████| 2484/2484 [04:25<00:00,  9.37it/s]\n"
     ]
    },
    {
     "name": "stdout",
     "output_type": "stream",
     "text": [
      "model checkpoint_8_5.cpt test dataset:\n",
      "precision:0.8113 recall:0.8151 f1:0.8132\n",
      "/home/wangnan/mrc4ner/checkpoints/2020_09_07_11_01_35/checkpoint_8_6.cpt \n",
      " Namespace(allow_impossible=True, alpha=1, beta=1, cls=True, cpu=False, debug=False, dev_batch=10, dev_path='./datasets/OntoNotes4.0/mrc-ner.dev', dropout_prob=0.1, epochs=10, eval=False, gamma=1, local_rank=0, log_steps=20, lr=8e-06, max_grad_norm=1.0, max_tokens=450, not_store=False, pretrained_model_name_or_path='./pretrained_models/chinese_roberta_wwm_large_ext_pytorch', reduction='mean', seed=209, span_layer=True, theta=1, train_batch=4, train_path='./datasets/OntoNotes4.0/mrc-ner.train', train_span_method='gold', warmup_ratio=0.1, weight_decay=0.01)\n"
     ]
    },
    {
     "name": "stderr",
     "output_type": "stream",
     "text": [
      "checkpoint_8_6.cpt: 100%|██████████| 2484/2484 [04:23<00:00,  9.41it/s]\n"
     ]
    },
    {
     "name": "stdout",
     "output_type": "stream",
     "text": [
      "model checkpoint_8_6.cpt test dataset:\n",
      "precision:0.8073 recall:0.8206 f1:0.8139\n",
      "/home/wangnan/mrc4ner/checkpoints/2020_09_07_11_01_35/checkpoint_8_7.cpt \n",
      " Namespace(allow_impossible=True, alpha=1, beta=1, cls=True, cpu=False, debug=False, dev_batch=10, dev_path='./datasets/OntoNotes4.0/mrc-ner.dev', dropout_prob=0.1, epochs=10, eval=False, gamma=1, local_rank=0, log_steps=20, lr=8e-06, max_grad_norm=1.0, max_tokens=450, not_store=False, pretrained_model_name_or_path='./pretrained_models/chinese_roberta_wwm_large_ext_pytorch', reduction='mean', seed=209, span_layer=True, theta=1, train_batch=4, train_path='./datasets/OntoNotes4.0/mrc-ner.train', train_span_method='gold', warmup_ratio=0.1, weight_decay=0.01)\n"
     ]
    },
    {
     "name": "stderr",
     "output_type": "stream",
     "text": [
      "checkpoint_8_7.cpt: 100%|██████████| 2484/2484 [04:24<00:00,  9.38it/s]\n"
     ]
    },
    {
     "name": "stdout",
     "output_type": "stream",
     "text": [
      "model checkpoint_8_7.cpt test dataset:\n",
      "precision:0.8236 recall:0.8030 f1:0.8131\n",
      "/home/wangnan/mrc4ner/checkpoints/2020_09_07_11_01_35/checkpoint_8_8.cpt \n",
      " Namespace(allow_impossible=True, alpha=1, beta=1, cls=True, cpu=False, debug=False, dev_batch=10, dev_path='./datasets/OntoNotes4.0/mrc-ner.dev', dropout_prob=0.1, epochs=10, eval=False, gamma=1, local_rank=0, log_steps=20, lr=8e-06, max_grad_norm=1.0, max_tokens=450, not_store=False, pretrained_model_name_or_path='./pretrained_models/chinese_roberta_wwm_large_ext_pytorch', reduction='mean', seed=209, span_layer=True, theta=1, train_batch=4, train_path='./datasets/OntoNotes4.0/mrc-ner.train', train_span_method='gold', warmup_ratio=0.1, weight_decay=0.01)\n"
     ]
    },
    {
     "name": "stderr",
     "output_type": "stream",
     "text": [
      "checkpoint_8_8.cpt: 100%|██████████| 2484/2484 [04:24<00:00,  9.39it/s]\n"
     ]
    },
    {
     "name": "stdout",
     "output_type": "stream",
     "text": [
      "model checkpoint_8_8.cpt test dataset:\n",
      "precision:0.8215 recall:0.7993 f1:0.8102\n",
      "/home/wangnan/mrc4ner/checkpoints/2020_09_07_11_01_35/checkpoint_9_1.cpt \n",
      " Namespace(allow_impossible=True, alpha=1, beta=1, cls=True, cpu=False, debug=False, dev_batch=10, dev_path='./datasets/OntoNotes4.0/mrc-ner.dev', dropout_prob=0.1, epochs=10, eval=False, gamma=1, local_rank=0, log_steps=20, lr=8e-06, max_grad_norm=1.0, max_tokens=450, not_store=False, pretrained_model_name_or_path='./pretrained_models/chinese_roberta_wwm_large_ext_pytorch', reduction='mean', seed=209, span_layer=True, theta=1, train_batch=4, train_path='./datasets/OntoNotes4.0/mrc-ner.train', train_span_method='gold', warmup_ratio=0.1, weight_decay=0.01)\n"
     ]
    },
    {
     "name": "stderr",
     "output_type": "stream",
     "text": [
      "checkpoint_9_1.cpt: 100%|██████████| 2484/2484 [04:23<00:00,  9.42it/s]\n"
     ]
    },
    {
     "name": "stdout",
     "output_type": "stream",
     "text": [
      "model checkpoint_9_1.cpt test dataset:\n",
      "precision:0.8161 recall:0.8103 f1:0.8132\n",
      "/home/wangnan/mrc4ner/checkpoints/2020_09_07_11_01_35/checkpoint_9_2.cpt \n",
      " Namespace(allow_impossible=True, alpha=1, beta=1, cls=True, cpu=False, debug=False, dev_batch=10, dev_path='./datasets/OntoNotes4.0/mrc-ner.dev', dropout_prob=0.1, epochs=10, eval=False, gamma=1, local_rank=0, log_steps=20, lr=8e-06, max_grad_norm=1.0, max_tokens=450, not_store=False, pretrained_model_name_or_path='./pretrained_models/chinese_roberta_wwm_large_ext_pytorch', reduction='mean', seed=209, span_layer=True, theta=1, train_batch=4, train_path='./datasets/OntoNotes4.0/mrc-ner.train', train_span_method='gold', warmup_ratio=0.1, weight_decay=0.01)\n"
     ]
    },
    {
     "name": "stderr",
     "output_type": "stream",
     "text": [
      "checkpoint_9_2.cpt: 100%|██████████| 2484/2484 [04:25<00:00,  9.36it/s]\n"
     ]
    },
    {
     "name": "stdout",
     "output_type": "stream",
     "text": [
      "model checkpoint_9_2.cpt test dataset:\n",
      "precision:0.8182 recall:0.8077 f1:0.8129\n",
      "/home/wangnan/mrc4ner/checkpoints/2020_09_07_11_01_35/checkpoint_9_3.cpt \n",
      " Namespace(allow_impossible=True, alpha=1, beta=1, cls=True, cpu=False, debug=False, dev_batch=10, dev_path='./datasets/OntoNotes4.0/mrc-ner.dev', dropout_prob=0.1, epochs=10, eval=False, gamma=1, local_rank=0, log_steps=20, lr=8e-06, max_grad_norm=1.0, max_tokens=450, not_store=False, pretrained_model_name_or_path='./pretrained_models/chinese_roberta_wwm_large_ext_pytorch', reduction='mean', seed=209, span_layer=True, theta=1, train_batch=4, train_path='./datasets/OntoNotes4.0/mrc-ner.train', train_span_method='gold', warmup_ratio=0.1, weight_decay=0.01)\n"
     ]
    },
    {
     "name": "stderr",
     "output_type": "stream",
     "text": [
      "checkpoint_9_3.cpt: 100%|██████████| 2484/2484 [04:24<00:00,  9.39it/s]\n"
     ]
    },
    {
     "name": "stdout",
     "output_type": "stream",
     "text": [
      "model checkpoint_9_3.cpt test dataset:\n",
      "precision:0.8181 recall:0.8069 f1:0.8124\n",
      "/home/wangnan/mrc4ner/checkpoints/2020_09_07_11_01_35/checkpoint_9_4.cpt \n",
      " Namespace(allow_impossible=True, alpha=1, beta=1, cls=True, cpu=False, debug=False, dev_batch=10, dev_path='./datasets/OntoNotes4.0/mrc-ner.dev', dropout_prob=0.1, epochs=10, eval=False, gamma=1, local_rank=0, log_steps=20, lr=8e-06, max_grad_norm=1.0, max_tokens=450, not_store=False, pretrained_model_name_or_path='./pretrained_models/chinese_roberta_wwm_large_ext_pytorch', reduction='mean', seed=209, span_layer=True, theta=1, train_batch=4, train_path='./datasets/OntoNotes4.0/mrc-ner.train', train_span_method='gold', warmup_ratio=0.1, weight_decay=0.01)\n"
     ]
    },
    {
     "name": "stderr",
     "output_type": "stream",
     "text": [
      "checkpoint_9_4.cpt: 100%|██████████| 2484/2484 [04:24<00:00,  9.41it/s]\n"
     ]
    },
    {
     "name": "stdout",
     "output_type": "stream",
     "text": [
      "model checkpoint_9_4.cpt test dataset:\n",
      "precision:0.8185 recall:0.8075 f1:0.8130\n",
      "/home/wangnan/mrc4ner/checkpoints/2020_09_07_11_01_35/checkpoint_9_5.cpt \n",
      " Namespace(allow_impossible=True, alpha=1, beta=1, cls=True, cpu=False, debug=False, dev_batch=10, dev_path='./datasets/OntoNotes4.0/mrc-ner.dev', dropout_prob=0.1, epochs=10, eval=False, gamma=1, local_rank=0, log_steps=20, lr=8e-06, max_grad_norm=1.0, max_tokens=450, not_store=False, pretrained_model_name_or_path='./pretrained_models/chinese_roberta_wwm_large_ext_pytorch', reduction='mean', seed=209, span_layer=True, theta=1, train_batch=4, train_path='./datasets/OntoNotes4.0/mrc-ner.train', train_span_method='gold', warmup_ratio=0.1, weight_decay=0.01)\n"
     ]
    },
    {
     "name": "stderr",
     "output_type": "stream",
     "text": [
      "checkpoint_9_5.cpt: 100%|██████████| 2484/2484 [04:24<00:00,  9.38it/s]\n"
     ]
    },
    {
     "name": "stdout",
     "output_type": "stream",
     "text": [
      "model checkpoint_9_5.cpt test dataset:\n",
      "precision:0.8175 recall:0.8080 f1:0.8128\n",
      "/home/wangnan/mrc4ner/checkpoints/2020_09_07_11_01_35/checkpoint_9_6.cpt \n",
      " Namespace(allow_impossible=True, alpha=1, beta=1, cls=True, cpu=False, debug=False, dev_batch=10, dev_path='./datasets/OntoNotes4.0/mrc-ner.dev', dropout_prob=0.1, epochs=10, eval=False, gamma=1, local_rank=0, log_steps=20, lr=8e-06, max_grad_norm=1.0, max_tokens=450, not_store=False, pretrained_model_name_or_path='./pretrained_models/chinese_roberta_wwm_large_ext_pytorch', reduction='mean', seed=209, span_layer=True, theta=1, train_batch=4, train_path='./datasets/OntoNotes4.0/mrc-ner.train', train_span_method='gold', warmup_ratio=0.1, weight_decay=0.01)\n"
     ]
    },
    {
     "name": "stderr",
     "output_type": "stream",
     "text": [
      "checkpoint_9_6.cpt: 100%|██████████| 2484/2484 [04:25<00:00,  9.36it/s]\n"
     ]
    },
    {
     "name": "stdout",
     "output_type": "stream",
     "text": [
      "model checkpoint_9_6.cpt test dataset:\n",
      "precision:0.8162 recall:0.8103 f1:0.8132\n",
      "/home/wangnan/mrc4ner/checkpoints/2020_09_07_11_01_35/checkpoint_9_7.cpt \n",
      " Namespace(allow_impossible=True, alpha=1, beta=1, cls=True, cpu=False, debug=False, dev_batch=10, dev_path='./datasets/OntoNotes4.0/mrc-ner.dev', dropout_prob=0.1, epochs=10, eval=False, gamma=1, local_rank=0, log_steps=20, lr=8e-06, max_grad_norm=1.0, max_tokens=450, not_store=False, pretrained_model_name_or_path='./pretrained_models/chinese_roberta_wwm_large_ext_pytorch', reduction='mean', seed=209, span_layer=True, theta=1, train_batch=4, train_path='./datasets/OntoNotes4.0/mrc-ner.train', train_span_method='gold', warmup_ratio=0.1, weight_decay=0.01)\n"
     ]
    },
    {
     "name": "stderr",
     "output_type": "stream",
     "text": [
      "checkpoint_9_7.cpt: 100%|██████████| 2484/2484 [04:25<00:00,  9.36it/s]\n"
     ]
    },
    {
     "name": "stdout",
     "output_type": "stream",
     "text": [
      "model checkpoint_9_7.cpt test dataset:\n",
      "precision:0.8169 recall:0.8095 f1:0.8132\n",
      "/home/wangnan/mrc4ner/checkpoints/2020_09_07_11_01_35/checkpoint_9_8.cpt \n",
      " Namespace(allow_impossible=True, alpha=1, beta=1, cls=True, cpu=False, debug=False, dev_batch=10, dev_path='./datasets/OntoNotes4.0/mrc-ner.dev', dropout_prob=0.1, epochs=10, eval=False, gamma=1, local_rank=0, log_steps=20, lr=8e-06, max_grad_norm=1.0, max_tokens=450, not_store=False, pretrained_model_name_or_path='./pretrained_models/chinese_roberta_wwm_large_ext_pytorch', reduction='mean', seed=209, span_layer=True, theta=1, train_batch=4, train_path='./datasets/OntoNotes4.0/mrc-ner.train', train_span_method='gold', warmup_ratio=0.1, weight_decay=0.01)\n"
     ]
    },
    {
     "name": "stderr",
     "output_type": "stream",
     "text": [
      "checkpoint_9_8.cpt: 100%|██████████| 2484/2484 [04:22<00:00,  9.47it/s]"
     ]
    },
    {
     "name": "stdout",
     "output_type": "stream",
     "text": [
      "model checkpoint_9_8.cpt test dataset:\n",
      "precision:0.8180 recall:0.8090 f1:0.8135\n",
      "[('checkpoint_0_1.cpt', 0.0, 0.0, 0.0), ('checkpoint_0_2.cpt', 0.0, 0.0, 0.0), ('checkpoint_0_3.cpt', 0.37329700221621664, 0.035779576908359936, 0.0653001263429688), ('checkpoint_0_4.cpt', 0.5906593405345183, 0.3649778009447665, 0.4511698264409374), ('checkpoint_0_5.cpt', 0.7174405434659418, 0.4963436928053873, 0.586754687849223), ('checkpoint_0_6.cpt', 0.6176302231691322, 0.7044920343817587, 0.658207273688071), ('checkpoint_0_7.cpt', 0.7346873499544718, 0.5998955340036699, 0.6604840136680421), ('checkpoint_0_8.cpt', 0.6778067292763332, 0.7812744840975092, 0.7258715072794963), ('checkpoint_1_1.cpt', 0.769440654738139, 0.7364847217633214, 0.7526015818046954), ('checkpoint_1_2.cpt', 0.7557351406731314, 0.7571167405644924, 0.7564248097520293), ('checkpoint_1_3.cpt', 0.7542732295650593, 0.7663880907852718, 0.7602819016435306), ('checkpoint_1_4.cpt', 0.8109659823724751, 0.737790545738079, 0.7726490736604137), ('checkpoint_1_5.cpt', 0.7722370256601653, 0.7947244710375131, 0.783318889924606), ('checkpoint_1_6.cpt', 0.7989100816350259, 0.765735178797893, 0.7819704295780837), ('checkpoint_1_7.cpt', 0.8399403873561936, 0.7359623921734183, 0.7845206601969651), ('checkpoint_1_8.cpt', 0.7762994279064537, 0.8152259074412084, 0.7952861244019368), ('checkpoint_2_1.cpt', 0.7855797009439041, 0.8166623138134418, 0.8008190147795794), ('checkpoint_2_2.cpt', 0.7869844872257555, 0.8148341602487811, 0.8006667227342896), ('checkpoint_2_3.cpt', 0.7902863929272421, 0.781927396084888, 0.7860841733605516), ('checkpoint_2_4.cpt', 0.8111082000509421, 0.8085662051699443, 0.8098347078474943), ('checkpoint_2_5.cpt', 0.8040549377627135, 0.8026899972835349, 0.8033713877608012), ('checkpoint_2_6.cpt', 0.8154517792280127, 0.8049098980406229, 0.8101460465404773), ('checkpoint_2_7.cpt', 0.8206319701512703, 0.8071297987977109, 0.813824384720184), ('checkpoint_2_8.cpt', 0.7599953509112046, 0.8538782970940352, 0.8042056263013262), ('checkpoint_3_1.cpt', 0.7903836445241817, 0.8178375553907237, 0.8038757675309672), ('checkpoint_3_2.cpt', 0.8090080569529774, 0.799817184539068, 0.8043858680244577), ('checkpoint_3_3.cpt', 0.8284855932229297, 0.7922434054854736, 0.8099587818990908), ('checkpoint_3_4.cpt', 0.778003298138018, 0.8008618437188741, 0.7892665999327677), ('checkpoint_3_5.cpt', 0.7978584485769314, 0.7978584485769314, 0.7978579485772449), ('checkpoint_3_6.cpt', 0.802278907056548, 0.8090885347598473, 0.805668832197567), ('checkpoint_3_7.cpt', 0.7836550512930991, 0.8164011490184903, 0.7996925162240978), ('checkpoint_3_8.cpt', 0.8004078510323211, 0.8200574561478118, 0.8101130190611707), ('checkpoint_4_1.cpt', 0.7972207924862041, 0.8090885347598473, 0.8031103229954445), ('checkpoint_4_2.cpt', 0.7950767668068676, 0.818229302583151, 0.8064864039186547), ('checkpoint_4_3.cpt', 0.7726830453937383, 0.8295899711635427, 0.8001254451146294), ('checkpoint_4_4.cpt', 0.7943512796880152, 0.8226691040973271, 0.8082617362421406), ('checkpoint_4_5.cpt', 0.8032976940869125, 0.814311830658878, 0.808766765335886), ('checkpoint_4_6.cpt', 0.8104754439902723, 0.8102637763371293, 0.8103690963421781), ('checkpoint_4_7.cpt', 0.8069528574128321, 0.8002089317314953, 0.803566245248616), ('checkpoint_4_8.cpt', 0.7911464244178148, 0.8191433793654813, 0.804901020546024), ('checkpoint_5_1.cpt', 0.7944551900974267, 0.8045181508481956, 0.7994545054312033), ('checkpoint_5_2.cpt', 0.803402155459888, 0.8079132931825654, 0.8056509094962989), ('checkpoint_5_3.cpt', 0.8156639278007336, 0.803734656463341, 0.8096548537751845), ('checkpoint_5_4.cpt', 0.8174814026544259, 0.8036040740658652, 0.8104828398485546), ('checkpoint_5_5.cpt', 0.8254570073357539, 0.7960302950122707, 0.8104761337074309), ('checkpoint_5_6.cpt', 0.81209899164435, 0.809872029144702, 0.810983481588569), ('checkpoint_5_7.cpt', 0.7891772770826179, 0.841734134128789, 0.8146083718939162), ('checkpoint_5_8.cpt', 0.8273125340958795, 0.7895011751384824, 0.8079642201978688), ('checkpoint_6_1.cpt', 0.8110753552143904, 0.7898929223309098, 0.8003435063328349), ('checkpoint_6_2.cpt', 0.8017068941456584, 0.7850613736243064, 0.7932963264994493), ('checkpoint_6_3.cpt', 0.8173830763966771, 0.7896317575359582, 0.8032673002552536), ('checkpoint_6_4.cpt', 0.8045074049189301, 0.8157482370311114, 0.8100883282925337), ('checkpoint_6_5.cpt', 0.8191851749803535, 0.7850613736243064, 0.8017598521900289), ('checkpoint_6_6.cpt', 0.8049986981508723, 0.8075215459901381, 0.8062576485274455), ('checkpoint_6_7.cpt', 0.7907982696564689, 0.7878036039712975, 0.7892975963206484), ('checkpoint_6_8.cpt', 0.8182562422133638, 0.7831026376621699, 0.8002930879105393), ('checkpoint_7_1.cpt', 0.8183402599787719, 0.7970749541920769, 0.8075671390619409), ('checkpoint_7_2.cpt', 0.8224785482033368, 0.763515278040805, 0.791900360609878), ('checkpoint_7_3.cpt', 0.7882921988356328, 0.82998171835597, 0.808599462063762), ('checkpoint_7_4.cpt', 0.8102350953617047, 0.8145729954538296, 0.8123977547655571), ('checkpoint_7_5.cpt', 0.8063936319416621, 0.8201880385452875, 0.8132318427807188), ('checkpoint_7_6.cpt', 0.8052299367763455, 0.8162705666210145, 0.810712164466688), ('checkpoint_7_7.cpt', 0.8308783414033172, 0.7955079654223677, 0.812808039154362), ('checkpoint_7_8.cpt', 0.8137940128163268, 0.8058239748229532, 0.8097888838048463), ('checkpoint_8_1.cpt', 0.8351890033216235, 0.7934186470627554, 0.8137676646881816), ('checkpoint_8_2.cpt', 0.8310645247983849, 0.7972055365895526, 0.8137824913103822), ('checkpoint_8_3.cpt', 0.8104431198742623, 0.8167928962109176, 0.813605119048815), ('checkpoint_8_4.cpt', 0.8257065947744674, 0.8011230085138257, 0.8132285562102911), ('checkpoint_8_5.cpt', 0.811281517960582, 0.8150953250437326, 0.8131834498710631), ('checkpoint_8_6.cpt', 0.8072970194235229, 0.8205797857377148, 0.8138837118178363), ('checkpoint_8_7.cpt', 0.8236003213469595, 0.8029511620784864, 0.8131441706953902), ('checkpoint_8_8.cpt', 0.8215004696253522, 0.7992948549491649, 0.8102450489974296), ('checkpoint_9_1.cpt', 0.8161252136240792, 0.8102637763371293, 0.8131834328010898), ('checkpoint_9_2.cpt', 0.8182299244849544, 0.8076521283876139, 0.8129061175133669), ('checkpoint_9_3.cpt', 0.8180855288205897, 0.8068686340027593, 0.8124378668885811), ('checkpoint_9_4.cpt', 0.8185307742132983, 0.8075215459901381, 0.812988390996344), ('checkpoint_9_5.cpt', 0.8175452502553118, 0.8080438755800412, 0.8127662957338443), ('checkpoint_9_6.cpt', 0.816232570268846, 0.8102637763371293, 0.8132367213945589), ('checkpoint_9_7.cpt', 0.816947812227603, 0.8094802819522747, 0.8131964040101659), ('checkpoint_9_8.cpt', 0.8180377656387114, 0.8089579523623716, 0.8134720230526502)]\n"
     ]
    },
    {
     "name": "stderr",
     "output_type": "stream",
     "text": [
      "\n"
     ]
    }
   ],
   "source": [
    "base_dir = '/home/wangnan/mrc4ner/checkpoints/'\n",
    "base_model_dir = '2020_09_07_11_01_35'\n",
    "model_dir = base_dir+base_model_dir+'/'\n",
    "args = pickle.load(open(model_dir+'args','rb'))\n",
    "files = os.listdir(base_dir+base_model_dir)\n",
    "files.remove('args')\n",
    "files = sorted(files)\n",
    "scores = []\n",
    "for file in files:\n",
    "    s = test(model_dir,file,7,args)\n",
    "    scores.append(s)\n",
    "print(scores)"
   ]
  },
  {
   "cell_type": "code",
   "execution_count": null,
   "metadata": {},
   "outputs": [],
   "source": []
  }
 ],
 "metadata": {
  "kernelspec": {
   "display_name": "mypython",
   "language": "python",
   "name": "mypython"
  },
  "language_info": {
   "codemirror_mode": {
    "name": "ipython",
    "version": 3
   },
   "file_extension": ".py",
   "mimetype": "text/x-python",
   "name": "python",
   "nbconvert_exporter": "python",
   "pygments_lexer": "ipython3",
   "version": "3.8.3"
  }
 },
 "nbformat": 4,
 "nbformat_minor": 4
}
